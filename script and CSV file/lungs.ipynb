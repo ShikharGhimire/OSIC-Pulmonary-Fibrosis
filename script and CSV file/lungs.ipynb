{
 "cells": [
  {
   "cell_type": "code",
   "execution_count": 1,
   "id": "sized-christianity",
   "metadata": {},
   "outputs": [],
   "source": [
    "import pandas as pd\n",
    "import numpy as np\n",
    "import matplotlib.pyplot as plt\n",
    "import os\n",
    "import seaborn as sns\n",
    "from plotly.offline import iplot\n",
    "import plotly.express as px\n",
    "import plotly.graph_objects as go"
   ]
  },
  {
   "cell_type": "markdown",
   "id": "excess-garage",
   "metadata": {},
   "source": [
    "## Importing the data and exploitory data analysis"
   ]
  },
  {
   "cell_type": "code",
   "execution_count": 2,
   "id": "european-capture",
   "metadata": {},
   "outputs": [],
   "source": [
    "train_data = pd.read_csv('train.csv')\n",
    "test_data = pd.read_csv('test.csv')"
   ]
  },
  {
   "cell_type": "code",
   "execution_count": 3,
   "id": "suffering-shell",
   "metadata": {},
   "outputs": [
    {
     "data": {
      "text/html": [
       "<div>\n",
       "<style scoped>\n",
       "    .dataframe tbody tr th:only-of-type {\n",
       "        vertical-align: middle;\n",
       "    }\n",
       "\n",
       "    .dataframe tbody tr th {\n",
       "        vertical-align: top;\n",
       "    }\n",
       "\n",
       "    .dataframe thead th {\n",
       "        text-align: right;\n",
       "    }\n",
       "</style>\n",
       "<table border=\"1\" class=\"dataframe\">\n",
       "  <thead>\n",
       "    <tr style=\"text-align: right;\">\n",
       "      <th></th>\n",
       "      <th>Patient</th>\n",
       "      <th>Weeks</th>\n",
       "      <th>FVC</th>\n",
       "      <th>Percent</th>\n",
       "      <th>Age</th>\n",
       "      <th>Sex</th>\n",
       "      <th>SmokingStatus</th>\n",
       "    </tr>\n",
       "  </thead>\n",
       "  <tbody>\n",
       "    <tr>\n",
       "      <th>0</th>\n",
       "      <td>ID00007637202177411956430</td>\n",
       "      <td>-4</td>\n",
       "      <td>2315</td>\n",
       "      <td>58.253649</td>\n",
       "      <td>79</td>\n",
       "      <td>Male</td>\n",
       "      <td>Ex-smoker</td>\n",
       "    </tr>\n",
       "    <tr>\n",
       "      <th>1</th>\n",
       "      <td>ID00007637202177411956430</td>\n",
       "      <td>5</td>\n",
       "      <td>2214</td>\n",
       "      <td>55.712129</td>\n",
       "      <td>79</td>\n",
       "      <td>Male</td>\n",
       "      <td>Ex-smoker</td>\n",
       "    </tr>\n",
       "    <tr>\n",
       "      <th>2</th>\n",
       "      <td>ID00007637202177411956430</td>\n",
       "      <td>7</td>\n",
       "      <td>2061</td>\n",
       "      <td>51.862104</td>\n",
       "      <td>79</td>\n",
       "      <td>Male</td>\n",
       "      <td>Ex-smoker</td>\n",
       "    </tr>\n",
       "    <tr>\n",
       "      <th>3</th>\n",
       "      <td>ID00007637202177411956430</td>\n",
       "      <td>9</td>\n",
       "      <td>2144</td>\n",
       "      <td>53.950679</td>\n",
       "      <td>79</td>\n",
       "      <td>Male</td>\n",
       "      <td>Ex-smoker</td>\n",
       "    </tr>\n",
       "    <tr>\n",
       "      <th>4</th>\n",
       "      <td>ID00007637202177411956430</td>\n",
       "      <td>11</td>\n",
       "      <td>2069</td>\n",
       "      <td>52.063412</td>\n",
       "      <td>79</td>\n",
       "      <td>Male</td>\n",
       "      <td>Ex-smoker</td>\n",
       "    </tr>\n",
       "  </tbody>\n",
       "</table>\n",
       "</div>"
      ],
      "text/plain": [
       "                     Patient  Weeks   FVC    Percent  Age   Sex SmokingStatus\n",
       "0  ID00007637202177411956430     -4  2315  58.253649   79  Male     Ex-smoker\n",
       "1  ID00007637202177411956430      5  2214  55.712129   79  Male     Ex-smoker\n",
       "2  ID00007637202177411956430      7  2061  51.862104   79  Male     Ex-smoker\n",
       "3  ID00007637202177411956430      9  2144  53.950679   79  Male     Ex-smoker\n",
       "4  ID00007637202177411956430     11  2069  52.063412   79  Male     Ex-smoker"
      ]
     },
     "execution_count": 3,
     "metadata": {},
     "output_type": "execute_result"
    }
   ],
   "source": [
    "train_data.head()"
   ]
  },
  {
   "cell_type": "markdown",
   "id": "suffering-meeting",
   "metadata": {},
   "source": [
    "### Let's check what each column represents\n",
    "- Patient : The ID of a patient admitted in hospital\n",
    "- Weeks : The followup week of the Patient\n",
    "- FVC :  the recorded lung capacity in milliliter\n",
    "- Percent : a computed field which approximates the patient's FVC as a percent of the typical FVC for a person of similar characteristics\n",
    "- Age : Patients age\n",
    "- Sex: Patients sex\n",
    "- SmokingStatus : Smokes or not?"
   ]
  },
  {
   "cell_type": "code",
   "execution_count": 4,
   "id": "looking-drawing",
   "metadata": {},
   "outputs": [
    {
     "name": "stdout",
     "output_type": "stream",
     "text": [
      "<class 'pandas.core.frame.DataFrame'>\n",
      "RangeIndex: 1549 entries, 0 to 1548\n",
      "Data columns (total 7 columns):\n",
      " #   Column         Non-Null Count  Dtype  \n",
      "---  ------         --------------  -----  \n",
      " 0   Patient        1549 non-null   object \n",
      " 1   Weeks          1549 non-null   int64  \n",
      " 2   FVC            1549 non-null   int64  \n",
      " 3   Percent        1549 non-null   float64\n",
      " 4   Age            1549 non-null   int64  \n",
      " 5   Sex            1549 non-null   object \n",
      " 6   SmokingStatus  1549 non-null   object \n",
      "dtypes: float64(1), int64(3), object(3)\n",
      "memory usage: 84.8+ KB\n"
     ]
    }
   ],
   "source": [
    "#Checking train dataframe info\n",
    "train_data.info()"
   ]
  },
  {
   "cell_type": "code",
   "execution_count": 5,
   "id": "illegal-webster",
   "metadata": {},
   "outputs": [
    {
     "name": "stdout",
     "output_type": "stream",
     "text": [
      "<class 'pandas.core.frame.DataFrame'>\n",
      "RangeIndex: 5 entries, 0 to 4\n",
      "Data columns (total 7 columns):\n",
      " #   Column         Non-Null Count  Dtype  \n",
      "---  ------         --------------  -----  \n",
      " 0   Patient        5 non-null      object \n",
      " 1   Weeks          5 non-null      int64  \n",
      " 2   FVC            5 non-null      int64  \n",
      " 3   Percent        5 non-null      float64\n",
      " 4   Age            5 non-null      int64  \n",
      " 5   Sex            5 non-null      object \n",
      " 6   SmokingStatus  5 non-null      object \n",
      "dtypes: float64(1), int64(3), object(3)\n",
      "memory usage: 408.0+ bytes\n"
     ]
    }
   ],
   "source": [
    "#Checking test dataframe info\n",
    "test_data.info()"
   ]
  },
  {
   "cell_type": "code",
   "execution_count": 6,
   "id": "polar-postcard",
   "metadata": {},
   "outputs": [
    {
     "data": {
      "text/html": [
       "<div>\n",
       "<style scoped>\n",
       "    .dataframe tbody tr th:only-of-type {\n",
       "        vertical-align: middle;\n",
       "    }\n",
       "\n",
       "    .dataframe tbody tr th {\n",
       "        vertical-align: top;\n",
       "    }\n",
       "\n",
       "    .dataframe thead th {\n",
       "        text-align: right;\n",
       "    }\n",
       "</style>\n",
       "<table border=\"1\" class=\"dataframe\">\n",
       "  <thead>\n",
       "    <tr style=\"text-align: right;\">\n",
       "      <th></th>\n",
       "      <th>Weeks</th>\n",
       "      <th>FVC</th>\n",
       "      <th>Percent</th>\n",
       "      <th>Age</th>\n",
       "    </tr>\n",
       "  </thead>\n",
       "  <tbody>\n",
       "    <tr>\n",
       "      <th>count</th>\n",
       "      <td>1549.000000</td>\n",
       "      <td>1549.000000</td>\n",
       "      <td>1549.000000</td>\n",
       "      <td>1549.000000</td>\n",
       "    </tr>\n",
       "    <tr>\n",
       "      <th>mean</th>\n",
       "      <td>31.861846</td>\n",
       "      <td>2690.479019</td>\n",
       "      <td>77.672654</td>\n",
       "      <td>67.188509</td>\n",
       "    </tr>\n",
       "    <tr>\n",
       "      <th>std</th>\n",
       "      <td>23.247550</td>\n",
       "      <td>832.770959</td>\n",
       "      <td>19.823261</td>\n",
       "      <td>7.057395</td>\n",
       "    </tr>\n",
       "    <tr>\n",
       "      <th>min</th>\n",
       "      <td>-5.000000</td>\n",
       "      <td>827.000000</td>\n",
       "      <td>28.877577</td>\n",
       "      <td>49.000000</td>\n",
       "    </tr>\n",
       "    <tr>\n",
       "      <th>25%</th>\n",
       "      <td>12.000000</td>\n",
       "      <td>2109.000000</td>\n",
       "      <td>62.832700</td>\n",
       "      <td>63.000000</td>\n",
       "    </tr>\n",
       "    <tr>\n",
       "      <th>50%</th>\n",
       "      <td>28.000000</td>\n",
       "      <td>2641.000000</td>\n",
       "      <td>75.676937</td>\n",
       "      <td>68.000000</td>\n",
       "    </tr>\n",
       "    <tr>\n",
       "      <th>75%</th>\n",
       "      <td>47.000000</td>\n",
       "      <td>3171.000000</td>\n",
       "      <td>88.621065</td>\n",
       "      <td>72.000000</td>\n",
       "    </tr>\n",
       "    <tr>\n",
       "      <th>max</th>\n",
       "      <td>133.000000</td>\n",
       "      <td>6399.000000</td>\n",
       "      <td>153.145378</td>\n",
       "      <td>88.000000</td>\n",
       "    </tr>\n",
       "  </tbody>\n",
       "</table>\n",
       "</div>"
      ],
      "text/plain": [
       "             Weeks          FVC      Percent          Age\n",
       "count  1549.000000  1549.000000  1549.000000  1549.000000\n",
       "mean     31.861846  2690.479019    77.672654    67.188509\n",
       "std      23.247550   832.770959    19.823261     7.057395\n",
       "min      -5.000000   827.000000    28.877577    49.000000\n",
       "25%      12.000000  2109.000000    62.832700    63.000000\n",
       "50%      28.000000  2641.000000    75.676937    68.000000\n",
       "75%      47.000000  3171.000000    88.621065    72.000000\n",
       "max     133.000000  6399.000000   153.145378    88.000000"
      ]
     },
     "execution_count": 6,
     "metadata": {},
     "output_type": "execute_result"
    }
   ],
   "source": [
    "# Statistical Analysis of train data\n",
    "train_data.describe()"
   ]
  },
  {
   "cell_type": "code",
   "execution_count": 7,
   "id": "aboriginal-seven",
   "metadata": {},
   "outputs": [
    {
     "data": {
      "text/html": [
       "<div>\n",
       "<style scoped>\n",
       "    .dataframe tbody tr th:only-of-type {\n",
       "        vertical-align: middle;\n",
       "    }\n",
       "\n",
       "    .dataframe tbody tr th {\n",
       "        vertical-align: top;\n",
       "    }\n",
       "\n",
       "    .dataframe thead th {\n",
       "        text-align: right;\n",
       "    }\n",
       "</style>\n",
       "<table border=\"1\" class=\"dataframe\">\n",
       "  <thead>\n",
       "    <tr style=\"text-align: right;\">\n",
       "      <th></th>\n",
       "      <th>Weeks</th>\n",
       "      <th>FVC</th>\n",
       "      <th>Percent</th>\n",
       "      <th>Age</th>\n",
       "    </tr>\n",
       "  </thead>\n",
       "  <tbody>\n",
       "    <tr>\n",
       "      <th>count</th>\n",
       "      <td>5.000000</td>\n",
       "      <td>5.000000</td>\n",
       "      <td>5.000000</td>\n",
       "      <td>5.000000</td>\n",
       "    </tr>\n",
       "    <tr>\n",
       "      <th>mean</th>\n",
       "      <td>8.800000</td>\n",
       "      <td>2781.600000</td>\n",
       "      <td>75.997702</td>\n",
       "      <td>71.800000</td>\n",
       "    </tr>\n",
       "    <tr>\n",
       "      <th>std</th>\n",
       "      <td>7.049823</td>\n",
       "      <td>516.475846</td>\n",
       "      <td>4.970960</td>\n",
       "      <td>2.167948</td>\n",
       "    </tr>\n",
       "    <tr>\n",
       "      <th>min</th>\n",
       "      <td>0.000000</td>\n",
       "      <td>1930.000000</td>\n",
       "      <td>70.186855</td>\n",
       "      <td>68.000000</td>\n",
       "    </tr>\n",
       "    <tr>\n",
       "      <th>25%</th>\n",
       "      <td>6.000000</td>\n",
       "      <td>2739.000000</td>\n",
       "      <td>71.824968</td>\n",
       "      <td>72.000000</td>\n",
       "    </tr>\n",
       "    <tr>\n",
       "      <th>50%</th>\n",
       "      <td>6.000000</td>\n",
       "      <td>2925.000000</td>\n",
       "      <td>76.672493</td>\n",
       "      <td>73.000000</td>\n",
       "    </tr>\n",
       "    <tr>\n",
       "      <th>75%</th>\n",
       "      <td>15.000000</td>\n",
       "      <td>3020.000000</td>\n",
       "      <td>79.258903</td>\n",
       "      <td>73.000000</td>\n",
       "    </tr>\n",
       "    <tr>\n",
       "      <th>max</th>\n",
       "      <td>17.000000</td>\n",
       "      <td>3294.000000</td>\n",
       "      <td>82.045291</td>\n",
       "      <td>73.000000</td>\n",
       "    </tr>\n",
       "  </tbody>\n",
       "</table>\n",
       "</div>"
      ],
      "text/plain": [
       "           Weeks          FVC    Percent        Age\n",
       "count   5.000000     5.000000   5.000000   5.000000\n",
       "mean    8.800000  2781.600000  75.997702  71.800000\n",
       "std     7.049823   516.475846   4.970960   2.167948\n",
       "min     0.000000  1930.000000  70.186855  68.000000\n",
       "25%     6.000000  2739.000000  71.824968  72.000000\n",
       "50%     6.000000  2925.000000  76.672493  73.000000\n",
       "75%    15.000000  3020.000000  79.258903  73.000000\n",
       "max    17.000000  3294.000000  82.045291  73.000000"
      ]
     },
     "execution_count": 7,
     "metadata": {},
     "output_type": "execute_result"
    }
   ],
   "source": [
    "# Statistical Analysis of test data\n",
    "test_data.describe()"
   ]
  },
  {
   "cell_type": "code",
   "execution_count": 8,
   "id": "developed-order",
   "metadata": {},
   "outputs": [
    {
     "data": {
      "text/plain": [
       "Patient          0\n",
       "Weeks            0\n",
       "FVC              0\n",
       "Percent          0\n",
       "Age              0\n",
       "Sex              0\n",
       "SmokingStatus    0\n",
       "dtype: int64"
      ]
     },
     "execution_count": 8,
     "metadata": {},
     "output_type": "execute_result"
    }
   ],
   "source": [
    "##Checking whether there is any empty values in both train and test dataset\n",
    "train_data.isnull().sum()"
   ]
  },
  {
   "cell_type": "code",
   "execution_count": 9,
   "id": "moral-transfer",
   "metadata": {},
   "outputs": [
    {
     "data": {
      "text/plain": [
       "Patient          0\n",
       "Weeks            0\n",
       "FVC              0\n",
       "Percent          0\n",
       "Age              0\n",
       "Sex              0\n",
       "SmokingStatus    0\n",
       "dtype: int64"
      ]
     },
     "execution_count": 9,
     "metadata": {},
     "output_type": "execute_result"
    }
   ],
   "source": [
    "test_data.isnull().sum()"
   ]
  },
  {
   "cell_type": "markdown",
   "id": "opposite-monaco",
   "metadata": {},
   "source": [
    "- No null values present in both train and test set"
   ]
  },
  {
   "cell_type": "code",
   "execution_count": 10,
   "id": "novel-chester",
   "metadata": {},
   "outputs": [
    {
     "data": {
      "text/html": [
       "<div>\n",
       "<style scoped>\n",
       "    .dataframe tbody tr th:only-of-type {\n",
       "        vertical-align: middle;\n",
       "    }\n",
       "\n",
       "    .dataframe tbody tr th {\n",
       "        vertical-align: top;\n",
       "    }\n",
       "\n",
       "    .dataframe thead th {\n",
       "        text-align: right;\n",
       "    }\n",
       "</style>\n",
       "<table border=\"1\" class=\"dataframe\">\n",
       "  <thead>\n",
       "    <tr style=\"text-align: right;\">\n",
       "      <th></th>\n",
       "      <th></th>\n",
       "      <th>mean</th>\n",
       "      <th>std</th>\n",
       "      <th>count</th>\n",
       "    </tr>\n",
       "    <tr>\n",
       "      <th>Sex</th>\n",
       "      <th>SmokingStatus</th>\n",
       "      <th></th>\n",
       "      <th></th>\n",
       "      <th></th>\n",
       "    </tr>\n",
       "  </thead>\n",
       "  <tbody>\n",
       "    <tr>\n",
       "      <th rowspan=\"3\" valign=\"top\">Male</th>\n",
       "      <th>Ex-smoker</th>\n",
       "      <td>2886.024705</td>\n",
       "      <td>769.105923</td>\n",
       "      <td>931</td>\n",
       "    </tr>\n",
       "    <tr>\n",
       "      <th>Never smoked</th>\n",
       "      <td>2878.034934</td>\n",
       "      <td>667.921434</td>\n",
       "      <td>229</td>\n",
       "    </tr>\n",
       "    <tr>\n",
       "      <th>Currently smokes</th>\n",
       "      <td>3300.828125</td>\n",
       "      <td>694.108554</td>\n",
       "      <td>64</td>\n",
       "    </tr>\n",
       "    <tr>\n",
       "      <th rowspan=\"3\" valign=\"top\">Female</th>\n",
       "      <th>Never smoked</th>\n",
       "      <td>1775.985000</td>\n",
       "      <td>584.208226</td>\n",
       "      <td>200</td>\n",
       "    </tr>\n",
       "    <tr>\n",
       "      <th>Ex-smoker</th>\n",
       "      <td>1901.906542</td>\n",
       "      <td>450.294485</td>\n",
       "      <td>107</td>\n",
       "    </tr>\n",
       "    <tr>\n",
       "      <th>Currently smokes</th>\n",
       "      <td>2868.833333</td>\n",
       "      <td>71.124787</td>\n",
       "      <td>18</td>\n",
       "    </tr>\n",
       "  </tbody>\n",
       "</table>\n",
       "</div>"
      ],
      "text/plain": [
       "                                mean         std  count\n",
       "Sex    SmokingStatus                                   \n",
       "Male   Ex-smoker         2886.024705  769.105923    931\n",
       "       Never smoked      2878.034934  667.921434    229\n",
       "       Currently smokes  3300.828125  694.108554     64\n",
       "Female Never smoked      1775.985000  584.208226    200\n",
       "       Ex-smoker         1901.906542  450.294485    107\n",
       "       Currently smokes  2868.833333   71.124787     18"
      ]
     },
     "execution_count": 10,
     "metadata": {},
     "output_type": "execute_result"
    }
   ],
   "source": [
    "train_data.groupby(['Sex','SmokingStatus'])['FVC'].agg(['mean','std','count']).sort_values(by=['Sex','count'],ascending=False)"
   ]
  },
  {
   "cell_type": "markdown",
   "id": "humanitarian-arrangement",
   "metadata": {},
   "source": [
    "- FVC has the highest rate with the people that still smokes. However, because the data for the smoking is quite low, we can't really generalise that people who smoke has high FVC."
   ]
  },
  {
   "cell_type": "code",
   "execution_count": 11,
   "id": "palestinian-house",
   "metadata": {},
   "outputs": [
    {
     "data": {
      "text/html": [
       "<div>\n",
       "<style scoped>\n",
       "    .dataframe tbody tr th:only-of-type {\n",
       "        vertical-align: middle;\n",
       "    }\n",
       "\n",
       "    .dataframe tbody tr th {\n",
       "        vertical-align: top;\n",
       "    }\n",
       "\n",
       "    .dataframe thead th {\n",
       "        text-align: right;\n",
       "    }\n",
       "</style>\n",
       "<table border=\"1\" class=\"dataframe\">\n",
       "  <thead>\n",
       "    <tr style=\"text-align: right;\">\n",
       "      <th></th>\n",
       "      <th></th>\n",
       "      <th>mean</th>\n",
       "      <th>std</th>\n",
       "      <th>count</th>\n",
       "    </tr>\n",
       "    <tr>\n",
       "      <th>Sex</th>\n",
       "      <th>SmokingStatus</th>\n",
       "      <th></th>\n",
       "      <th></th>\n",
       "      <th></th>\n",
       "    </tr>\n",
       "  </thead>\n",
       "  <tbody>\n",
       "    <tr>\n",
       "      <th rowspan=\"2\" valign=\"top\">Male</th>\n",
       "      <th>Ex-smoker</th>\n",
       "      <td>2745.75</td>\n",
       "      <td>589.147619</td>\n",
       "      <td>4</td>\n",
       "    </tr>\n",
       "    <tr>\n",
       "      <th>Never smoked</th>\n",
       "      <td>2925.00</td>\n",
       "      <td>NaN</td>\n",
       "      <td>1</td>\n",
       "    </tr>\n",
       "  </tbody>\n",
       "</table>\n",
       "</div>"
      ],
      "text/plain": [
       "                       mean         std  count\n",
       "Sex  SmokingStatus                            \n",
       "Male Ex-smoker      2745.75  589.147619      4\n",
       "     Never smoked   2925.00         NaN      1"
      ]
     },
     "execution_count": 11,
     "metadata": {},
     "output_type": "execute_result"
    }
   ],
   "source": [
    "test_data.groupby(['Sex','SmokingStatus'])['FVC'].agg(['mean','std','count']).sort_values(by=['Sex','count'],ascending=False)"
   ]
  },
  {
   "cell_type": "markdown",
   "id": "vertical-morris",
   "metadata": {},
   "source": [
    "### Counting the number of patients in both train and test set"
   ]
  },
  {
   "cell_type": "code",
   "execution_count": 12,
   "id": "integral-spyware",
   "metadata": {},
   "outputs": [
    {
     "name": "stdout",
     "output_type": "stream",
     "text": [
      "train_data patient count is : 1549\n"
     ]
    }
   ],
   "source": [
    "#Train data\n",
    "print('train_data patient count is : {}'.format(train_data['Patient'].count()))"
   ]
  },
  {
   "cell_type": "code",
   "execution_count": 13,
   "id": "facial-persian",
   "metadata": {},
   "outputs": [
    {
     "name": "stdout",
     "output_type": "stream",
     "text": [
      "test_data patient count is : 5\n"
     ]
    }
   ],
   "source": [
    "#Test data\n",
    "print('test_data patient count is : {}'.format(test_data['Patient'].count()))"
   ]
  },
  {
   "cell_type": "code",
   "execution_count": 14,
   "id": "retired-force",
   "metadata": {},
   "outputs": [
    {
     "name": "stdout",
     "output_type": "stream",
     "text": [
      "train_data unique patient count is : 176\n"
     ]
    }
   ],
   "source": [
    "#Unique patient in training data\n",
    "print('train_data unique patient count is : {}'.format(train_data['Patient'].nunique()))"
   ]
  },
  {
   "cell_type": "code",
   "execution_count": 15,
   "id": "overall-squad",
   "metadata": {},
   "outputs": [
    {
     "name": "stdout",
     "output_type": "stream",
     "text": [
      "test_data unique patient count is : 5\n"
     ]
    }
   ],
   "source": [
    "#Unique patient in testing data\n",
    "print('test_data unique patient count is : {}'.format(test_data['Patient'].nunique()))"
   ]
  },
  {
   "cell_type": "markdown",
   "id": "duplicate-punishment",
   "metadata": {},
   "source": [
    "#### Let's add frequency column in our train dataframe"
   ]
  },
  {
   "cell_type": "code",
   "execution_count": 16,
   "id": "understood-ireland",
   "metadata": {},
   "outputs": [],
   "source": [
    "patient_freq = train_data.groupby(['Patient'])['Patient'].count()"
   ]
  },
  {
   "cell_type": "code",
   "execution_count": 17,
   "id": "confident-chaos",
   "metadata": {},
   "outputs": [],
   "source": [
    "patient_freq = pd.DataFrame({'Patient':patient_freq.index,'Frequencies': patient_freq.values})"
   ]
  },
  {
   "cell_type": "code",
   "execution_count": 18,
   "id": "prepared-breast",
   "metadata": {},
   "outputs": [],
   "source": [
    "final_dataframe = pd.merge(train_data,patient_freq,how='inner',on = 'Patient')"
   ]
  },
  {
   "cell_type": "code",
   "execution_count": 19,
   "id": "assisted-phoenix",
   "metadata": {},
   "outputs": [
    {
     "data": {
      "text/html": [
       "<div>\n",
       "<style scoped>\n",
       "    .dataframe tbody tr th:only-of-type {\n",
       "        vertical-align: middle;\n",
       "    }\n",
       "\n",
       "    .dataframe tbody tr th {\n",
       "        vertical-align: top;\n",
       "    }\n",
       "\n",
       "    .dataframe thead th {\n",
       "        text-align: right;\n",
       "    }\n",
       "</style>\n",
       "<table border=\"1\" class=\"dataframe\">\n",
       "  <thead>\n",
       "    <tr style=\"text-align: right;\">\n",
       "      <th></th>\n",
       "      <th>Patient</th>\n",
       "      <th>Weeks</th>\n",
       "      <th>FVC</th>\n",
       "      <th>Percent</th>\n",
       "      <th>Age</th>\n",
       "      <th>Sex</th>\n",
       "      <th>SmokingStatus</th>\n",
       "      <th>Frequencies</th>\n",
       "    </tr>\n",
       "  </thead>\n",
       "  <tbody>\n",
       "    <tr>\n",
       "      <th>875</th>\n",
       "      <td>ID00229637202260254240583</td>\n",
       "      <td>23</td>\n",
       "      <td>3518</td>\n",
       "      <td>78.702461</td>\n",
       "      <td>71</td>\n",
       "      <td>Male</td>\n",
       "      <td>Ex-smoker</td>\n",
       "      <td>10</td>\n",
       "    </tr>\n",
       "    <tr>\n",
       "      <th>627</th>\n",
       "      <td>ID00167637202237397919352</td>\n",
       "      <td>13</td>\n",
       "      <td>4680</td>\n",
       "      <td>95.060123</td>\n",
       "      <td>58</td>\n",
       "      <td>Male</td>\n",
       "      <td>Ex-smoker</td>\n",
       "      <td>10</td>\n",
       "    </tr>\n",
       "    <tr>\n",
       "      <th>634</th>\n",
       "      <td>ID00167637202237397919352</td>\n",
       "      <td>66</td>\n",
       "      <td>3744</td>\n",
       "      <td>76.048099</td>\n",
       "      <td>58</td>\n",
       "      <td>Male</td>\n",
       "      <td>Ex-smoker</td>\n",
       "      <td>10</td>\n",
       "    </tr>\n",
       "    <tr>\n",
       "      <th>633</th>\n",
       "      <td>ID00167637202237397919352</td>\n",
       "      <td>62</td>\n",
       "      <td>4288</td>\n",
       "      <td>87.097823</td>\n",
       "      <td>58</td>\n",
       "      <td>Male</td>\n",
       "      <td>Ex-smoker</td>\n",
       "      <td>10</td>\n",
       "    </tr>\n",
       "    <tr>\n",
       "      <th>632</th>\n",
       "      <td>ID00167637202237397919352</td>\n",
       "      <td>47</td>\n",
       "      <td>4424</td>\n",
       "      <td>89.860253</td>\n",
       "      <td>58</td>\n",
       "      <td>Male</td>\n",
       "      <td>Ex-smoker</td>\n",
       "      <td>10</td>\n",
       "    </tr>\n",
       "    <tr>\n",
       "      <th>...</th>\n",
       "      <td>...</td>\n",
       "      <td>...</td>\n",
       "      <td>...</td>\n",
       "      <td>...</td>\n",
       "      <td>...</td>\n",
       "      <td>...</td>\n",
       "      <td>...</td>\n",
       "      <td>...</td>\n",
       "    </tr>\n",
       "    <tr>\n",
       "      <th>160</th>\n",
       "      <td>ID00047637202184938901501</td>\n",
       "      <td>2</td>\n",
       "      <td>3313</td>\n",
       "      <td>89.929425</td>\n",
       "      <td>68</td>\n",
       "      <td>Male</td>\n",
       "      <td>Ex-smoker</td>\n",
       "      <td>6</td>\n",
       "    </tr>\n",
       "    <tr>\n",
       "      <th>161</th>\n",
       "      <td>ID00047637202184938901501</td>\n",
       "      <td>4</td>\n",
       "      <td>3235</td>\n",
       "      <td>87.812161</td>\n",
       "      <td>68</td>\n",
       "      <td>Male</td>\n",
       "      <td>Ex-smoker</td>\n",
       "      <td>6</td>\n",
       "    </tr>\n",
       "    <tr>\n",
       "      <th>162</th>\n",
       "      <td>ID00047637202184938901501</td>\n",
       "      <td>6</td>\n",
       "      <td>3370</td>\n",
       "      <td>91.476656</td>\n",
       "      <td>68</td>\n",
       "      <td>Male</td>\n",
       "      <td>Ex-smoker</td>\n",
       "      <td>6</td>\n",
       "    </tr>\n",
       "    <tr>\n",
       "      <th>989</th>\n",
       "      <td>ID00267637202270790561585</td>\n",
       "      <td>3</td>\n",
       "      <td>1015</td>\n",
       "      <td>50.158134</td>\n",
       "      <td>70</td>\n",
       "      <td>Female</td>\n",
       "      <td>Never smoked</td>\n",
       "      <td>6</td>\n",
       "    </tr>\n",
       "    <tr>\n",
       "      <th>992</th>\n",
       "      <td>ID00267637202270790561585</td>\n",
       "      <td>10</td>\n",
       "      <td>1031</td>\n",
       "      <td>50.948804</td>\n",
       "      <td>70</td>\n",
       "      <td>Female</td>\n",
       "      <td>Never smoked</td>\n",
       "      <td>6</td>\n",
       "    </tr>\n",
       "  </tbody>\n",
       "</table>\n",
       "<p>1549 rows × 8 columns</p>\n",
       "</div>"
      ],
      "text/plain": [
       "                       Patient  Weeks   FVC    Percent  Age     Sex  \\\n",
       "875  ID00229637202260254240583     23  3518  78.702461   71    Male   \n",
       "627  ID00167637202237397919352     13  4680  95.060123   58    Male   \n",
       "634  ID00167637202237397919352     66  3744  76.048099   58    Male   \n",
       "633  ID00167637202237397919352     62  4288  87.097823   58    Male   \n",
       "632  ID00167637202237397919352     47  4424  89.860253   58    Male   \n",
       "..                         ...    ...   ...        ...  ...     ...   \n",
       "160  ID00047637202184938901501      2  3313  89.929425   68    Male   \n",
       "161  ID00047637202184938901501      4  3235  87.812161   68    Male   \n",
       "162  ID00047637202184938901501      6  3370  91.476656   68    Male   \n",
       "989  ID00267637202270790561585      3  1015  50.158134   70  Female   \n",
       "992  ID00267637202270790561585     10  1031  50.948804   70  Female   \n",
       "\n",
       "    SmokingStatus  Frequencies  \n",
       "875     Ex-smoker           10  \n",
       "627     Ex-smoker           10  \n",
       "634     Ex-smoker           10  \n",
       "633     Ex-smoker           10  \n",
       "632     Ex-smoker           10  \n",
       "..            ...          ...  \n",
       "160     Ex-smoker            6  \n",
       "161     Ex-smoker            6  \n",
       "162     Ex-smoker            6  \n",
       "989  Never smoked            6  \n",
       "992  Never smoked            6  \n",
       "\n",
       "[1549 rows x 8 columns]"
      ]
     },
     "execution_count": 19,
     "metadata": {},
     "output_type": "execute_result"
    }
   ],
   "source": [
    "#Final dataframe with added frequencies table\n",
    "final_dataframe.sort_values(by='Frequencies',ascending = False)"
   ]
  },
  {
   "cell_type": "markdown",
   "id": "initial-drain",
   "metadata": {},
   "source": [
    "### Checking how many CT scans each patient recieved(Training)"
   ]
  },
  {
   "cell_type": "code",
   "execution_count": 20,
   "id": "independent-contents",
   "metadata": {},
   "outputs": [],
   "source": [
    "train_directory = r'C:\\Users\\ghimi\\Desktop\\OSIC-Pulmonary-Fibrosis\\brain\\train'\n",
    "patient_id = os.listdir(train_directory)\n",
    "patient_id = sorted(patient_id)\n",
    "\n",
    "cat_scan = []\n",
    "for i in patient_id:\n",
    "    cat_scan.append(len(os.listdir(train_directory+\"\\\\\" + i)))\n",
    "    \n",
    "catScan_df = pd.DataFrame({'Patient':patient_id,'ctScan_counts':cat_scan})\n",
    "\n",
    "#Merging it into final dataframe with added catScan\n",
    "train_final_dataframe = pd.merge(final_dataframe,catScan_df,how='inner',on = 'Patient')"
   ]
  },
  {
   "cell_type": "markdown",
   "id": "excessive-fusion",
   "metadata": {},
   "source": [
    "### Creating patient dataframe by removing duplicates in the original final dataframe for further data exploration "
   ]
  },
  {
   "cell_type": "code",
   "execution_count": 21,
   "id": "satellite-narrow",
   "metadata": {},
   "outputs": [],
   "source": [
    "#Dropping the duplicates and creating new dataframe\n",
    "train_patient_dataframe = train_final_dataframe.drop_duplicates(subset = 'Patient').reset_index(drop=True)"
   ]
  },
  {
   "cell_type": "code",
   "execution_count": 22,
   "id": "charged-dylan",
   "metadata": {},
   "outputs": [
    {
     "name": "stdout",
     "output_type": "stream",
     "text": [
      "Maximum number of CT scan taken by one patient is : 1018\n",
      "Least number of CT scan taken by one patient is: 12\n",
      "Average number of CT scan taken by one patient is -Rounded Figure-: 188\n",
      "Total number of CT scan taken by one patient is : 33026\n"
     ]
    }
   ],
   "source": [
    "#Maximum number of CT scan \n",
    "print('Maximum number of CT scan taken by one patient is : {}'.format(train_patient_dataframe['ctScan_counts'].max()))\n",
    "print('Least number of CT scan taken by one patient is: {}'.format(train_patient_dataframe['ctScan_counts'].min()))\n",
    "print('Average number of CT scan taken by one patient is -Rounded Figure-: {}'.format(round(train_patient_dataframe['ctScan_counts'].mean())))\n",
    "print('Total number of CT scan taken by one patient is : {}'.format(round(train_patient_dataframe['ctScan_counts'].sum())))"
   ]
  },
  {
   "cell_type": "markdown",
   "id": "specific-allowance",
   "metadata": {},
   "source": [
    "### Checking how many CT scans each patient recieved(Testing)"
   ]
  },
  {
   "cell_type": "code",
   "execution_count": 23,
   "id": "scenic-entrance",
   "metadata": {},
   "outputs": [],
   "source": [
    "test_directory = r'C:\\Users\\ghimi\\Desktop\\OSIC-Pulmonary-Fibrosis\\brain\\test'\n",
    "patient_id_test = os.listdir(test_directory)\n",
    "patient_id_test = sorted(patient_id_test)\n",
    "\n",
    "test_cat_scan = []\n",
    "for i in patient_id_test:\n",
    "    test_cat_scan.append(len(os.listdir(test_directory+\"\\\\\" + i)))\n",
    "    \n",
    "test_catScan_df = pd.DataFrame({'Patient':patient_id_test,'ctScan_counts':test_cat_scan})\n",
    "\n",
    "#Merging it into final dataframe\n",
    "test_final_dataframe = pd.merge(final_dataframe,test_catScan_df,how='inner',on = 'Patient')"
   ]
  },
  {
   "cell_type": "code",
   "execution_count": 24,
   "id": "liable-guyana",
   "metadata": {},
   "outputs": [
    {
     "name": "stdout",
     "output_type": "stream",
     "text": [
      "Maximum number of CT scan taken by one patient is : 473\n",
      "Least number of CT scan taken by one patient is: 28\n",
      "Average number of CT scan taken by one patient is -Rounded Figure-: 243\n",
      "Total number of CT scan taken by one patient is : 10938\n"
     ]
    }
   ],
   "source": [
    "#Maximum number of CT scan \n",
    "print('Maximum number of CT scan taken by one patient is : {}'.format(test_final_dataframe['ctScan_counts'].max()))\n",
    "print('Least number of CT scan taken by one patient is: {}'.format(test_final_dataframe['ctScan_counts'].min()))\n",
    "print('Average number of CT scan taken by one patient is -Rounded Figure-: {}'.format(round(test_final_dataframe['ctScan_counts'].mean())))\n",
    "print('Total number of CT scan taken by one patient is : {}'.format(round(test_final_dataframe['ctScan_counts'].sum())))"
   ]
  },
  {
   "cell_type": "code",
   "execution_count": 25,
   "id": "dominant-tonight",
   "metadata": {},
   "outputs": [
    {
     "data": {
      "text/html": [
       "        <script type=\"text/javascript\">\n",
       "        window.PlotlyConfig = {MathJaxConfig: 'local'};\n",
       "        if (window.MathJax) {MathJax.Hub.Config({SVG: {font: \"STIX-Web\"}});}\n",
       "        if (typeof require !== 'undefined') {\n",
       "        require.undef(\"plotly\");\n",
       "        requirejs.config({\n",
       "            paths: {\n",
       "                'plotly': ['https://cdn.plot.ly/plotly-latest.min']\n",
       "            }\n",
       "        });\n",
       "        require(['plotly'], function(Plotly) {\n",
       "            window._Plotly = Plotly;\n",
       "        });\n",
       "        }\n",
       "        </script>\n",
       "        "
      ]
     },
     "metadata": {},
     "output_type": "display_data"
    }
   ],
   "source": [
    "#Visualisation of distribution of weeks using offline plotly.\n",
    "## The pandas dataframe object does not have the iplot method when it isn't linked to plotly.\n",
    "# We need cufflinks to link pandas to plotly and add the iplot method\n",
    "#Solution for linking from : https://stackoverflow.com/questions/65763648/dataframe-object-has-no-attribute-iplot\n",
    "import cufflinks as cf\n",
    "cf.go_offline()\n",
    "cf.set_config_file(offline=False, world_readable=True)"
   ]
  },
  {
   "cell_type": "markdown",
   "id": "wanted-video",
   "metadata": {},
   "source": [
    "### Distribution of Weeks"
   ]
  },
  {
   "cell_type": "markdown",
   "id": "lesser-robinson",
   "metadata": {},
   "source": [
    "- By the looks of it, week 8-9 is the highest visited weeks for CT scan for the patients while 132-133 week is the least visited"
   ]
  },
  {
   "cell_type": "code",
   "execution_count": 26,
   "id": "equivalent-brand",
   "metadata": {},
   "outputs": [
    {
     "data": {
      "application/vnd.plotly.v1+json": {
       "config": {
        "linkText": "Export to plot.ly",
        "plotlyServerURL": "https://plot.ly",
        "showLink": true
       },
       "data": [
        {
         "histfunc": "count",
         "histnorm": "",
         "marker": {
          "color": "rgba(0, 200, 200, 1.0)",
          "line": {
           "color": "#FFFFFF",
           "width": 1.3
          }
         },
         "name": "Weeks",
         "nbinsx": 100,
         "opacity": 0.7,
         "orientation": "v",
         "type": "histogram",
         "x": [
          -4,
          5,
          7,
          9,
          11,
          17,
          29,
          41,
          57,
          8,
          9,
          11,
          13,
          15,
          22,
          33,
          45,
          60,
          0,
          1,
          3,
          5,
          7,
          13,
          25,
          37,
          54,
          6,
          7,
          9,
          11,
          13,
          19,
          32,
          43,
          58,
          33,
          35,
          37,
          39,
          41,
          47,
          58,
          71,
          87,
          0,
          2,
          4,
          6,
          8,
          14,
          26,
          37,
          54,
          12,
          17,
          19,
          21,
          31,
          40,
          52,
          69,
          13,
          14,
          16,
          18,
          20,
          26,
          38,
          53,
          66,
          18,
          19,
          21,
          23,
          25,
          31,
          44,
          54,
          70,
          -3,
          3,
          5,
          7,
          9,
          15,
          27,
          39,
          55,
          0,
          1,
          3,
          6,
          7,
          14,
          26,
          38,
          53,
          41,
          45,
          47,
          49,
          51,
          57,
          69,
          81,
          98,
          12,
          14,
          16,
          18,
          23,
          26,
          38,
          51,
          66,
          19,
          30,
          33,
          34,
          36,
          42,
          54,
          65,
          30,
          35,
          37,
          39,
          41,
          47,
          59,
          71,
          87,
          11,
          12,
          14,
          16,
          18,
          24,
          36,
          49,
          65,
          6,
          12,
          15,
          17,
          19,
          24,
          36,
          49,
          63,
          1,
          6,
          9,
          11,
          12,
          18,
          31,
          44,
          60,
          2,
          4,
          6,
          8,
          10,
          29,
          9,
          9,
          11,
          13,
          15,
          21,
          33,
          47,
          61,
          -1,
          1,
          3,
          6,
          7,
          13,
          26,
          37,
          54,
          48,
          51,
          53,
          56,
          58,
          63,
          75,
          16,
          18,
          20,
          23,
          24,
          31,
          43,
          55,
          71,
          23,
          24,
          26,
          28,
          30,
          36,
          48,
          60,
          76,
          44,
          46,
          48,
          50,
          52,
          58,
          70,
          83,
          98,
          4,
          5,
          7,
          9,
          11,
          17,
          28,
          41,
          11,
          11,
          13,
          15,
          16,
          22,
          35,
          46,
          62,
          15,
          18,
          20,
          22,
          24,
          30,
          42,
          55,
          70,
          3,
          6,
          8,
          10,
          12,
          18,
          30,
          42,
          25,
          28,
          29,
          32,
          33,
          40,
          51,
          61,
          79,
          -4,
          3,
          5,
          6,
          9,
          15,
          27,
          40,
          55,
          5,
          6,
          8,
          10,
          12,
          18,
          29,
          42,
          59,
          0,
          5,
          7,
          9,
          11,
          17,
          28,
          40,
          58,
          19,
          27,
          29,
          31,
          33,
          39,
          51,
          63,
          79,
          -5,
          6,
          8,
          9,
          12,
          18,
          30,
          42,
          58,
          7,
          7,
          9,
          11,
          14,
          20,
          31,
          44,
          60,
          17,
          21,
          23,
          27,
          33,
          44,
          59,
          73,
          -1,
          3,
          6,
          8,
          9,
          16,
          28,
          39,
          54,
          0,
          6,
          9,
          11,
          12,
          18,
          30,
          42,
          58,
          44,
          47,
          49,
          51,
          53,
          58,
          70,
          83,
          98,
          102,
          3,
          5,
          7,
          9,
          11,
          17,
          29,
          41,
          58,
          20,
          21,
          23,
          26,
          28,
          33,
          45,
          58,
          44,
          45,
          47,
          49,
          51,
          57,
          69,
          82,
          97,
          100,
          11,
          13,
          15,
          17,
          19,
          25,
          37,
          49,
          65,
          53,
          55,
          57,
          59,
          61,
          67,
          79,
          91,
          107,
          15,
          18,
          20,
          23,
          25,
          31,
          42,
          56,
          9,
          10,
          13,
          15,
          17,
          23,
          36,
          15,
          17,
          19,
          21,
          23,
          29,
          42,
          52,
          4,
          8,
          10,
          12,
          14,
          20,
          32,
          44,
          60,
          2,
          4,
          6,
          8,
          10,
          16,
          28,
          40,
          56,
          59,
          -4,
          6,
          8,
          10,
          12,
          18,
          30,
          43,
          58,
          48,
          49,
          51,
          53,
          55,
          61,
          73,
          85,
          102,
          47,
          48,
          50,
          53,
          55,
          60,
          72,
          84,
          100,
          8,
          8,
          10,
          12,
          14,
          20,
          34,
          45,
          18,
          26,
          28,
          30,
          32,
          38,
          50,
          62,
          78,
          44,
          48,
          50,
          52,
          54,
          61,
          72,
          84,
          100,
          34,
          36,
          37,
          39,
          41,
          47,
          59,
          0,
          3,
          5,
          7,
          10,
          15,
          27,
          39,
          56,
          11,
          12,
          14,
          17,
          18,
          24,
          36,
          48,
          64,
          63,
          64,
          66,
          68,
          70,
          76,
          89,
          101,
          116,
          6,
          10,
          13,
          14,
          16,
          22,
          34,
          46,
          63,
          -2,
          2,
          4,
          6,
          8,
          13,
          27,
          38,
          54,
          2,
          8,
          11,
          13,
          14,
          21,
          33,
          44,
          59,
          31,
          35,
          37,
          40,
          42,
          48,
          60,
          73,
          89,
          3,
          6,
          8,
          10,
          12,
          18,
          30,
          43,
          58,
          14,
          18,
          20,
          22,
          24,
          30,
          42,
          54,
          70,
          16,
          21,
          24,
          25,
          27,
          33,
          47,
          58,
          73,
          16,
          18,
          20,
          22,
          24,
          30,
          42,
          54,
          70,
          74,
          44,
          48,
          50,
          52,
          54,
          60,
          73,
          84,
          100,
          8,
          10,
          12,
          14,
          16,
          22,
          34,
          46,
          61,
          79,
          81,
          83,
          85,
          87,
          92,
          104,
          117,
          133,
          7,
          11,
          13,
          15,
          17,
          23,
          34,
          47,
          62,
          66,
          7,
          8,
          10,
          12,
          14,
          21,
          33,
          44,
          60,
          12,
          16,
          18,
          20,
          23,
          28,
          40,
          53,
          66,
          38,
          44,
          46,
          48,
          50,
          56,
          68,
          79,
          96,
          35,
          37,
          39,
          41,
          43,
          49,
          60,
          72,
          92,
          11,
          17,
          19,
          21,
          23,
          29,
          42,
          53,
          69,
          9,
          11,
          13,
          16,
          18,
          24,
          35,
          47,
          63,
          39,
          42,
          44,
          46,
          48,
          54,
          65,
          77,
          94,
          29,
          30,
          32,
          34,
          37,
          43,
          55,
          67,
          83,
          8,
          11,
          13,
          15,
          17,
          23,
          59,
          4,
          10,
          12,
          14,
          16,
          22,
          34,
          46,
          62,
          4,
          12,
          14,
          15,
          18,
          24,
          36,
          48,
          65,
          9,
          12,
          14,
          16,
          18,
          25,
          36,
          48,
          66,
          0,
          5,
          8,
          10,
          11,
          18,
          30,
          41,
          57,
          5,
          5,
          7,
          9,
          12,
          17,
          30,
          42,
          57,
          20,
          21,
          23,
          25,
          27,
          33,
          45,
          58,
          75,
          33,
          35,
          37,
          38,
          41,
          47,
          59,
          71,
          86,
          0,
          3,
          5,
          7,
          9,
          16,
          27,
          39,
          56,
          6,
          9,
          11,
          13,
          14,
          21,
          32,
          44,
          61,
          3,
          4,
          6,
          8,
          10,
          16,
          28,
          40,
          55,
          10,
          11,
          13,
          15,
          17,
          23,
          34,
          47,
          63,
          20,
          22,
          25,
          26,
          29,
          34,
          46,
          59,
          75,
          0,
          4,
          7,
          9,
          11,
          17,
          27,
          40,
          56,
          11,
          12,
          14,
          16,
          18,
          24,
          36,
          48,
          64,
          -1,
          5,
          7,
          9,
          11,
          16,
          29,
          41,
          57,
          0,
          3,
          5,
          7,
          9,
          15,
          27,
          39,
          55,
          13,
          17,
          19,
          21,
          23,
          29,
          54,
          69,
          14,
          15,
          18,
          19,
          21,
          27,
          40,
          50,
          67,
          23,
          26,
          28,
          30,
          32,
          38,
          49,
          62,
          78,
          82,
          9,
          11,
          13,
          15,
          17,
          23,
          35,
          47,
          63,
          -3,
          2,
          4,
          6,
          9,
          14,
          27,
          39,
          54,
          3,
          4,
          6,
          8,
          10,
          16,
          29,
          41,
          34,
          35,
          37,
          40,
          42,
          47,
          59,
          71,
          88,
          5,
          5,
          8,
          9,
          12,
          18,
          30,
          41,
          57,
          2,
          4,
          6,
          8,
          10,
          16,
          28,
          40,
          56,
          4,
          5,
          7,
          9,
          10,
          17,
          28,
          41,
          58,
          14,
          15,
          17,
          19,
          20,
          27,
          38,
          51,
          67,
          34,
          40,
          42,
          46,
          52,
          67,
          76,
          92,
          21,
          30,
          32,
          34,
          37,
          43,
          55,
          67,
          83,
          1,
          3,
          5,
          7,
          15,
          29,
          41,
          55,
          13,
          14,
          16,
          19,
          20,
          26,
          39,
          51,
          3,
          5,
          8,
          10,
          12,
          31,
          4,
          8,
          10,
          12,
          14,
          20,
          32,
          44,
          60,
          48,
          50,
          52,
          54,
          56,
          62,
          74,
          86,
          102,
          6,
          7,
          9,
          11,
          13,
          19,
          31,
          8,
          10,
          12,
          14,
          17,
          22,
          34,
          46,
          63,
          0,
          3,
          5,
          7,
          9,
          15,
          27,
          39,
          54,
          4,
          6,
          8,
          10,
          12,
          18,
          30,
          42,
          58,
          21,
          22,
          24,
          26,
          28,
          34,
          45,
          57,
          4,
          15,
          17,
          18,
          21,
          26,
          38,
          51,
          2,
          4,
          6,
          8,
          10,
          16,
          27,
          43,
          56,
          5,
          6,
          7,
          10,
          12,
          18,
          29,
          42,
          59,
          5,
          8,
          10,
          12,
          13,
          20,
          32,
          44,
          4,
          6,
          8,
          9,
          12,
          18,
          30,
          42,
          57,
          22,
          24,
          26,
          28,
          30,
          37,
          48,
          60,
          76,
          8,
          10,
          12,
          14,
          16,
          22,
          34,
          46,
          62,
          3,
          6,
          8,
          10,
          12,
          18,
          31,
          44,
          58,
          3,
          5,
          7,
          9,
          11,
          18,
          29,
          41,
          57,
          0,
          4,
          6,
          8,
          10,
          16,
          28,
          40,
          57,
          26,
          32,
          34,
          35,
          44,
          56,
          70,
          85,
          12,
          16,
          18,
          20,
          22,
          29,
          40,
          52,
          69,
          3,
          6,
          8,
          10,
          11,
          18,
          30,
          40,
          57,
          26,
          27,
          29,
          31,
          33,
          39,
          50,
          64,
          39,
          43,
          45,
          47,
          49,
          54,
          66,
          79,
          95,
          28,
          30,
          32,
          34,
          36,
          42,
          55,
          67,
          82,
          3,
          4,
          6,
          8,
          10,
          16,
          28,
          40,
          56,
          6,
          8,
          10,
          12,
          14,
          20,
          33,
          44,
          29,
          32,
          34,
          36,
          38,
          44,
          57,
          68,
          85,
          0,
          6,
          9,
          10,
          13,
          18,
          31,
          41,
          58,
          -1,
          5,
          8,
          10,
          12,
          18,
          30,
          42,
          58,
          28,
          32,
          35,
          36,
          38,
          44,
          56,
          68,
          84,
          23,
          25,
          27,
          29,
          31,
          37,
          49,
          62,
          78,
          23,
          25,
          27,
          28,
          30,
          36,
          48,
          62,
          76,
          79,
          0,
          4,
          6,
          8,
          10,
          16,
          31,
          14,
          15,
          17,
          19,
          21,
          27,
          39,
          51,
          66,
          24,
          28,
          30,
          32,
          34,
          40,
          52,
          65,
          82,
          4,
          8,
          12,
          14,
          20,
          33,
          45,
          62,
          3,
          5,
          7,
          10,
          12,
          17,
          29,
          41,
          57,
          37,
          41,
          43,
          45,
          47,
          53,
          65,
          77,
          94,
          35,
          37,
          39,
          42,
          43,
          49,
          61,
          73,
          35,
          36,
          38,
          40,
          42,
          48,
          59,
          72,
          87,
          7,
          11,
          13,
          15,
          17,
          23,
          35,
          47,
          64,
          12,
          13,
          15,
          17,
          19,
          25,
          37,
          49,
          64,
          6,
          8,
          10,
          12,
          14,
          20,
          33,
          44,
          60,
          39,
          41,
          44,
          46,
          48,
          53,
          65,
          77,
          93,
          25,
          27,
          29,
          31,
          33,
          39,
          50,
          63,
          80,
          5,
          7,
          9,
          11,
          13,
          19,
          31,
          48,
          50,
          52,
          54,
          56,
          63,
          74,
          86,
          102,
          0,
          3,
          5,
          7,
          8,
          15,
          27,
          39,
          56,
          59,
          5,
          7,
          9,
          11,
          13,
          19,
          31,
          43,
          59,
          0,
          6,
          8,
          10,
          12,
          18,
          30,
          41,
          58,
          11,
          13,
          15,
          17,
          19,
          25,
          37,
          49,
          29,
          30,
          32,
          33,
          36,
          42,
          54,
          65,
          82,
          85,
          42,
          47,
          49,
          51,
          53,
          59,
          71,
          82,
          99,
          0,
          6,
          8,
          11,
          12,
          18,
          31,
          42,
          58,
          21,
          22,
          24,
          26,
          28,
          33,
          46,
          57,
          75,
          13,
          14,
          16,
          18,
          20,
          26,
          37,
          50,
          7,
          8,
          10,
          12,
          14,
          20,
          31,
          45,
          60,
          7,
          12,
          14,
          16,
          18,
          24,
          36,
          49,
          63,
          8,
          9,
          12,
          13,
          15,
          21,
          33,
          45,
          61,
          6,
          7,
          9,
          10,
          13,
          18,
          31,
          43,
          59,
          15,
          17,
          19,
          21,
          23,
          29,
          41,
          54,
          70,
          70,
          6,
          11,
          13,
          15,
          17,
          23,
          35,
          47,
          17,
          18,
          19,
          21,
          23,
          30,
          42,
          53,
          70,
          0,
          7,
          9,
          11,
          13,
          19,
          31,
          43,
          59
         ]
        }
       ],
       "layout": {
        "bargap": 0.01,
        "barmode": "overlay",
        "legend": {
         "bgcolor": "#FFFFFF",
         "font": {
          "color": "#4D5663"
         }
        },
        "paper_bgcolor": "#FFFFFF",
        "plot_bgcolor": "#FFFFFF",
        "template": {
         "data": {
          "bar": [
           {
            "error_x": {
             "color": "#2a3f5f"
            },
            "error_y": {
             "color": "#2a3f5f"
            },
            "marker": {
             "line": {
              "color": "#E5ECF6",
              "width": 0.5
             }
            },
            "type": "bar"
           }
          ],
          "barpolar": [
           {
            "marker": {
             "line": {
              "color": "#E5ECF6",
              "width": 0.5
             }
            },
            "type": "barpolar"
           }
          ],
          "carpet": [
           {
            "aaxis": {
             "endlinecolor": "#2a3f5f",
             "gridcolor": "white",
             "linecolor": "white",
             "minorgridcolor": "white",
             "startlinecolor": "#2a3f5f"
            },
            "baxis": {
             "endlinecolor": "#2a3f5f",
             "gridcolor": "white",
             "linecolor": "white",
             "minorgridcolor": "white",
             "startlinecolor": "#2a3f5f"
            },
            "type": "carpet"
           }
          ],
          "choropleth": [
           {
            "colorbar": {
             "outlinewidth": 0,
             "ticks": ""
            },
            "type": "choropleth"
           }
          ],
          "contour": [
           {
            "colorbar": {
             "outlinewidth": 0,
             "ticks": ""
            },
            "colorscale": [
             [
              0,
              "#0d0887"
             ],
             [
              0.1111111111111111,
              "#46039f"
             ],
             [
              0.2222222222222222,
              "#7201a8"
             ],
             [
              0.3333333333333333,
              "#9c179e"
             ],
             [
              0.4444444444444444,
              "#bd3786"
             ],
             [
              0.5555555555555556,
              "#d8576b"
             ],
             [
              0.6666666666666666,
              "#ed7953"
             ],
             [
              0.7777777777777778,
              "#fb9f3a"
             ],
             [
              0.8888888888888888,
              "#fdca26"
             ],
             [
              1,
              "#f0f921"
             ]
            ],
            "type": "contour"
           }
          ],
          "contourcarpet": [
           {
            "colorbar": {
             "outlinewidth": 0,
             "ticks": ""
            },
            "type": "contourcarpet"
           }
          ],
          "heatmap": [
           {
            "colorbar": {
             "outlinewidth": 0,
             "ticks": ""
            },
            "colorscale": [
             [
              0,
              "#0d0887"
             ],
             [
              0.1111111111111111,
              "#46039f"
             ],
             [
              0.2222222222222222,
              "#7201a8"
             ],
             [
              0.3333333333333333,
              "#9c179e"
             ],
             [
              0.4444444444444444,
              "#bd3786"
             ],
             [
              0.5555555555555556,
              "#d8576b"
             ],
             [
              0.6666666666666666,
              "#ed7953"
             ],
             [
              0.7777777777777778,
              "#fb9f3a"
             ],
             [
              0.8888888888888888,
              "#fdca26"
             ],
             [
              1,
              "#f0f921"
             ]
            ],
            "type": "heatmap"
           }
          ],
          "heatmapgl": [
           {
            "colorbar": {
             "outlinewidth": 0,
             "ticks": ""
            },
            "colorscale": [
             [
              0,
              "#0d0887"
             ],
             [
              0.1111111111111111,
              "#46039f"
             ],
             [
              0.2222222222222222,
              "#7201a8"
             ],
             [
              0.3333333333333333,
              "#9c179e"
             ],
             [
              0.4444444444444444,
              "#bd3786"
             ],
             [
              0.5555555555555556,
              "#d8576b"
             ],
             [
              0.6666666666666666,
              "#ed7953"
             ],
             [
              0.7777777777777778,
              "#fb9f3a"
             ],
             [
              0.8888888888888888,
              "#fdca26"
             ],
             [
              1,
              "#f0f921"
             ]
            ],
            "type": "heatmapgl"
           }
          ],
          "histogram": [
           {
            "marker": {
             "colorbar": {
              "outlinewidth": 0,
              "ticks": ""
             }
            },
            "type": "histogram"
           }
          ],
          "histogram2d": [
           {
            "colorbar": {
             "outlinewidth": 0,
             "ticks": ""
            },
            "colorscale": [
             [
              0,
              "#0d0887"
             ],
             [
              0.1111111111111111,
              "#46039f"
             ],
             [
              0.2222222222222222,
              "#7201a8"
             ],
             [
              0.3333333333333333,
              "#9c179e"
             ],
             [
              0.4444444444444444,
              "#bd3786"
             ],
             [
              0.5555555555555556,
              "#d8576b"
             ],
             [
              0.6666666666666666,
              "#ed7953"
             ],
             [
              0.7777777777777778,
              "#fb9f3a"
             ],
             [
              0.8888888888888888,
              "#fdca26"
             ],
             [
              1,
              "#f0f921"
             ]
            ],
            "type": "histogram2d"
           }
          ],
          "histogram2dcontour": [
           {
            "colorbar": {
             "outlinewidth": 0,
             "ticks": ""
            },
            "colorscale": [
             [
              0,
              "#0d0887"
             ],
             [
              0.1111111111111111,
              "#46039f"
             ],
             [
              0.2222222222222222,
              "#7201a8"
             ],
             [
              0.3333333333333333,
              "#9c179e"
             ],
             [
              0.4444444444444444,
              "#bd3786"
             ],
             [
              0.5555555555555556,
              "#d8576b"
             ],
             [
              0.6666666666666666,
              "#ed7953"
             ],
             [
              0.7777777777777778,
              "#fb9f3a"
             ],
             [
              0.8888888888888888,
              "#fdca26"
             ],
             [
              1,
              "#f0f921"
             ]
            ],
            "type": "histogram2dcontour"
           }
          ],
          "mesh3d": [
           {
            "colorbar": {
             "outlinewidth": 0,
             "ticks": ""
            },
            "type": "mesh3d"
           }
          ],
          "parcoords": [
           {
            "line": {
             "colorbar": {
              "outlinewidth": 0,
              "ticks": ""
             }
            },
            "type": "parcoords"
           }
          ],
          "pie": [
           {
            "automargin": true,
            "type": "pie"
           }
          ],
          "scatter": [
           {
            "marker": {
             "colorbar": {
              "outlinewidth": 0,
              "ticks": ""
             }
            },
            "type": "scatter"
           }
          ],
          "scatter3d": [
           {
            "line": {
             "colorbar": {
              "outlinewidth": 0,
              "ticks": ""
             }
            },
            "marker": {
             "colorbar": {
              "outlinewidth": 0,
              "ticks": ""
             }
            },
            "type": "scatter3d"
           }
          ],
          "scattercarpet": [
           {
            "marker": {
             "colorbar": {
              "outlinewidth": 0,
              "ticks": ""
             }
            },
            "type": "scattercarpet"
           }
          ],
          "scattergeo": [
           {
            "marker": {
             "colorbar": {
              "outlinewidth": 0,
              "ticks": ""
             }
            },
            "type": "scattergeo"
           }
          ],
          "scattergl": [
           {
            "marker": {
             "colorbar": {
              "outlinewidth": 0,
              "ticks": ""
             }
            },
            "type": "scattergl"
           }
          ],
          "scattermapbox": [
           {
            "marker": {
             "colorbar": {
              "outlinewidth": 0,
              "ticks": ""
             }
            },
            "type": "scattermapbox"
           }
          ],
          "scatterpolar": [
           {
            "marker": {
             "colorbar": {
              "outlinewidth": 0,
              "ticks": ""
             }
            },
            "type": "scatterpolar"
           }
          ],
          "scatterpolargl": [
           {
            "marker": {
             "colorbar": {
              "outlinewidth": 0,
              "ticks": ""
             }
            },
            "type": "scatterpolargl"
           }
          ],
          "scatterternary": [
           {
            "marker": {
             "colorbar": {
              "outlinewidth": 0,
              "ticks": ""
             }
            },
            "type": "scatterternary"
           }
          ],
          "surface": [
           {
            "colorbar": {
             "outlinewidth": 0,
             "ticks": ""
            },
            "colorscale": [
             [
              0,
              "#0d0887"
             ],
             [
              0.1111111111111111,
              "#46039f"
             ],
             [
              0.2222222222222222,
              "#7201a8"
             ],
             [
              0.3333333333333333,
              "#9c179e"
             ],
             [
              0.4444444444444444,
              "#bd3786"
             ],
             [
              0.5555555555555556,
              "#d8576b"
             ],
             [
              0.6666666666666666,
              "#ed7953"
             ],
             [
              0.7777777777777778,
              "#fb9f3a"
             ],
             [
              0.8888888888888888,
              "#fdca26"
             ],
             [
              1,
              "#f0f921"
             ]
            ],
            "type": "surface"
           }
          ],
          "table": [
           {
            "cells": {
             "fill": {
              "color": "#EBF0F8"
             },
             "line": {
              "color": "white"
             }
            },
            "header": {
             "fill": {
              "color": "#C8D4E3"
             },
             "line": {
              "color": "white"
             }
            },
            "type": "table"
           }
          ]
         },
         "layout": {
          "annotationdefaults": {
           "arrowcolor": "#2a3f5f",
           "arrowhead": 0,
           "arrowwidth": 1
          },
          "autotypenumbers": "strict",
          "coloraxis": {
           "colorbar": {
            "outlinewidth": 0,
            "ticks": ""
           }
          },
          "colorscale": {
           "diverging": [
            [
             0,
             "#8e0152"
            ],
            [
             0.1,
             "#c51b7d"
            ],
            [
             0.2,
             "#de77ae"
            ],
            [
             0.3,
             "#f1b6da"
            ],
            [
             0.4,
             "#fde0ef"
            ],
            [
             0.5,
             "#f7f7f7"
            ],
            [
             0.6,
             "#e6f5d0"
            ],
            [
             0.7,
             "#b8e186"
            ],
            [
             0.8,
             "#7fbc41"
            ],
            [
             0.9,
             "#4d9221"
            ],
            [
             1,
             "#276419"
            ]
           ],
           "sequential": [
            [
             0,
             "#0d0887"
            ],
            [
             0.1111111111111111,
             "#46039f"
            ],
            [
             0.2222222222222222,
             "#7201a8"
            ],
            [
             0.3333333333333333,
             "#9c179e"
            ],
            [
             0.4444444444444444,
             "#bd3786"
            ],
            [
             0.5555555555555556,
             "#d8576b"
            ],
            [
             0.6666666666666666,
             "#ed7953"
            ],
            [
             0.7777777777777778,
             "#fb9f3a"
            ],
            [
             0.8888888888888888,
             "#fdca26"
            ],
            [
             1,
             "#f0f921"
            ]
           ],
           "sequentialminus": [
            [
             0,
             "#0d0887"
            ],
            [
             0.1111111111111111,
             "#46039f"
            ],
            [
             0.2222222222222222,
             "#7201a8"
            ],
            [
             0.3333333333333333,
             "#9c179e"
            ],
            [
             0.4444444444444444,
             "#bd3786"
            ],
            [
             0.5555555555555556,
             "#d8576b"
            ],
            [
             0.6666666666666666,
             "#ed7953"
            ],
            [
             0.7777777777777778,
             "#fb9f3a"
            ],
            [
             0.8888888888888888,
             "#fdca26"
            ],
            [
             1,
             "#f0f921"
            ]
           ]
          },
          "colorway": [
           "#636efa",
           "#EF553B",
           "#00cc96",
           "#ab63fa",
           "#FFA15A",
           "#19d3f3",
           "#FF6692",
           "#B6E880",
           "#FF97FF",
           "#FECB52"
          ],
          "font": {
           "color": "#2a3f5f"
          },
          "geo": {
           "bgcolor": "white",
           "lakecolor": "white",
           "landcolor": "#E5ECF6",
           "showlakes": true,
           "showland": true,
           "subunitcolor": "white"
          },
          "hoverlabel": {
           "align": "left"
          },
          "hovermode": "closest",
          "mapbox": {
           "style": "light"
          },
          "paper_bgcolor": "white",
          "plot_bgcolor": "#E5ECF6",
          "polar": {
           "angularaxis": {
            "gridcolor": "white",
            "linecolor": "white",
            "ticks": ""
           },
           "bgcolor": "#E5ECF6",
           "radialaxis": {
            "gridcolor": "white",
            "linecolor": "white",
            "ticks": ""
           }
          },
          "scene": {
           "xaxis": {
            "backgroundcolor": "#E5ECF6",
            "gridcolor": "white",
            "gridwidth": 2,
            "linecolor": "white",
            "showbackground": true,
            "ticks": "",
            "zerolinecolor": "white"
           },
           "yaxis": {
            "backgroundcolor": "#E5ECF6",
            "gridcolor": "white",
            "gridwidth": 2,
            "linecolor": "white",
            "showbackground": true,
            "ticks": "",
            "zerolinecolor": "white"
           },
           "zaxis": {
            "backgroundcolor": "#E5ECF6",
            "gridcolor": "white",
            "gridwidth": 2,
            "linecolor": "white",
            "showbackground": true,
            "ticks": "",
            "zerolinecolor": "white"
           }
          },
          "shapedefaults": {
           "line": {
            "color": "#2a3f5f"
           }
          },
          "ternary": {
           "aaxis": {
            "gridcolor": "white",
            "linecolor": "white",
            "ticks": ""
           },
           "baxis": {
            "gridcolor": "white",
            "linecolor": "white",
            "ticks": ""
           },
           "bgcolor": "#E5ECF6",
           "caxis": {
            "gridcolor": "white",
            "linecolor": "white",
            "ticks": ""
           }
          },
          "title": {
           "x": 0.05
          },
          "xaxis": {
           "automargin": true,
           "gridcolor": "white",
           "linecolor": "white",
           "ticks": "",
           "title": {
            "standoff": 15
           },
           "zerolinecolor": "white",
           "zerolinewidth": 2
          },
          "yaxis": {
           "automargin": true,
           "gridcolor": "white",
           "linecolor": "white",
           "ticks": "",
           "title": {
            "standoff": 15
           },
           "zerolinecolor": "white",
           "zerolinewidth": 2
          }
         }
        },
        "title": {
         "font": {
          "color": "#4D5663"
         },
         "text": "Distribution of Weeks of Training data"
        },
        "xaxis": {
         "gridcolor": "#E1E5ED",
         "linecolor": "white",
         "showgrid": true,
         "tickfont": {
          "color": "#4D5663"
         },
         "title": {
          "font": {
           "color": "#4D5663"
          },
          "text": "Weeks"
         },
         "zerolinecolor": "#E1E5ED"
        },
        "yaxis": {
         "gridcolor": "#E1E5ED",
         "linecolor": "white",
         "showgrid": true,
         "tickfont": {
          "color": "#4D5663"
         },
         "title": {
          "font": {
           "color": "#4D5663"
          },
          "text": "Frequency"
         },
         "zerolinecolor": "#E1E5ED"
        }
       }
      },
      "text/html": [
       "<div>                            <div id=\"12b5d6cd-8022-4bc0-a965-f3e3ab22bbbf\" class=\"plotly-graph-div\" style=\"height:525px; width:100%;\"></div>            <script type=\"text/javascript\">                require([\"plotly\"], function(Plotly) {                    window.PLOTLYENV=window.PLOTLYENV || {};\n",
       "                    window.PLOTLYENV.BASE_URL='https://plot.ly';                                    if (document.getElementById(\"12b5d6cd-8022-4bc0-a965-f3e3ab22bbbf\")) {                    Plotly.newPlot(                        \"12b5d6cd-8022-4bc0-a965-f3e3ab22bbbf\",                        [{\"histfunc\": \"count\", \"histnorm\": \"\", \"marker\": {\"color\": \"rgba(0, 200, 200, 1.0)\", \"line\": {\"color\": \"#FFFFFF\", \"width\": 1.3}}, \"name\": \"Weeks\", \"nbinsx\": 100, \"opacity\": 0.7, \"orientation\": \"v\", \"type\": \"histogram\", \"x\": [-4, 5, 7, 9, 11, 17, 29, 41, 57, 8, 9, 11, 13, 15, 22, 33, 45, 60, 0, 1, 3, 5, 7, 13, 25, 37, 54, 6, 7, 9, 11, 13, 19, 32, 43, 58, 33, 35, 37, 39, 41, 47, 58, 71, 87, 0, 2, 4, 6, 8, 14, 26, 37, 54, 12, 17, 19, 21, 31, 40, 52, 69, 13, 14, 16, 18, 20, 26, 38, 53, 66, 18, 19, 21, 23, 25, 31, 44, 54, 70, -3, 3, 5, 7, 9, 15, 27, 39, 55, 0, 1, 3, 6, 7, 14, 26, 38, 53, 41, 45, 47, 49, 51, 57, 69, 81, 98, 12, 14, 16, 18, 23, 26, 38, 51, 66, 19, 30, 33, 34, 36, 42, 54, 65, 30, 35, 37, 39, 41, 47, 59, 71, 87, 11, 12, 14, 16, 18, 24, 36, 49, 65, 6, 12, 15, 17, 19, 24, 36, 49, 63, 1, 6, 9, 11, 12, 18, 31, 44, 60, 2, 4, 6, 8, 10, 29, 9, 9, 11, 13, 15, 21, 33, 47, 61, -1, 1, 3, 6, 7, 13, 26, 37, 54, 48, 51, 53, 56, 58, 63, 75, 16, 18, 20, 23, 24, 31, 43, 55, 71, 23, 24, 26, 28, 30, 36, 48, 60, 76, 44, 46, 48, 50, 52, 58, 70, 83, 98, 4, 5, 7, 9, 11, 17, 28, 41, 11, 11, 13, 15, 16, 22, 35, 46, 62, 15, 18, 20, 22, 24, 30, 42, 55, 70, 3, 6, 8, 10, 12, 18, 30, 42, 25, 28, 29, 32, 33, 40, 51, 61, 79, -4, 3, 5, 6, 9, 15, 27, 40, 55, 5, 6, 8, 10, 12, 18, 29, 42, 59, 0, 5, 7, 9, 11, 17, 28, 40, 58, 19, 27, 29, 31, 33, 39, 51, 63, 79, -5, 6, 8, 9, 12, 18, 30, 42, 58, 7, 7, 9, 11, 14, 20, 31, 44, 60, 17, 21, 23, 27, 33, 44, 59, 73, -1, 3, 6, 8, 9, 16, 28, 39, 54, 0, 6, 9, 11, 12, 18, 30, 42, 58, 44, 47, 49, 51, 53, 58, 70, 83, 98, 102, 3, 5, 7, 9, 11, 17, 29, 41, 58, 20, 21, 23, 26, 28, 33, 45, 58, 44, 45, 47, 49, 51, 57, 69, 82, 97, 100, 11, 13, 15, 17, 19, 25, 37, 49, 65, 53, 55, 57, 59, 61, 67, 79, 91, 107, 15, 18, 20, 23, 25, 31, 42, 56, 9, 10, 13, 15, 17, 23, 36, 15, 17, 19, 21, 23, 29, 42, 52, 4, 8, 10, 12, 14, 20, 32, 44, 60, 2, 4, 6, 8, 10, 16, 28, 40, 56, 59, -4, 6, 8, 10, 12, 18, 30, 43, 58, 48, 49, 51, 53, 55, 61, 73, 85, 102, 47, 48, 50, 53, 55, 60, 72, 84, 100, 8, 8, 10, 12, 14, 20, 34, 45, 18, 26, 28, 30, 32, 38, 50, 62, 78, 44, 48, 50, 52, 54, 61, 72, 84, 100, 34, 36, 37, 39, 41, 47, 59, 0, 3, 5, 7, 10, 15, 27, 39, 56, 11, 12, 14, 17, 18, 24, 36, 48, 64, 63, 64, 66, 68, 70, 76, 89, 101, 116, 6, 10, 13, 14, 16, 22, 34, 46, 63, -2, 2, 4, 6, 8, 13, 27, 38, 54, 2, 8, 11, 13, 14, 21, 33, 44, 59, 31, 35, 37, 40, 42, 48, 60, 73, 89, 3, 6, 8, 10, 12, 18, 30, 43, 58, 14, 18, 20, 22, 24, 30, 42, 54, 70, 16, 21, 24, 25, 27, 33, 47, 58, 73, 16, 18, 20, 22, 24, 30, 42, 54, 70, 74, 44, 48, 50, 52, 54, 60, 73, 84, 100, 8, 10, 12, 14, 16, 22, 34, 46, 61, 79, 81, 83, 85, 87, 92, 104, 117, 133, 7, 11, 13, 15, 17, 23, 34, 47, 62, 66, 7, 8, 10, 12, 14, 21, 33, 44, 60, 12, 16, 18, 20, 23, 28, 40, 53, 66, 38, 44, 46, 48, 50, 56, 68, 79, 96, 35, 37, 39, 41, 43, 49, 60, 72, 92, 11, 17, 19, 21, 23, 29, 42, 53, 69, 9, 11, 13, 16, 18, 24, 35, 47, 63, 39, 42, 44, 46, 48, 54, 65, 77, 94, 29, 30, 32, 34, 37, 43, 55, 67, 83, 8, 11, 13, 15, 17, 23, 59, 4, 10, 12, 14, 16, 22, 34, 46, 62, 4, 12, 14, 15, 18, 24, 36, 48, 65, 9, 12, 14, 16, 18, 25, 36, 48, 66, 0, 5, 8, 10, 11, 18, 30, 41, 57, 5, 5, 7, 9, 12, 17, 30, 42, 57, 20, 21, 23, 25, 27, 33, 45, 58, 75, 33, 35, 37, 38, 41, 47, 59, 71, 86, 0, 3, 5, 7, 9, 16, 27, 39, 56, 6, 9, 11, 13, 14, 21, 32, 44, 61, 3, 4, 6, 8, 10, 16, 28, 40, 55, 10, 11, 13, 15, 17, 23, 34, 47, 63, 20, 22, 25, 26, 29, 34, 46, 59, 75, 0, 4, 7, 9, 11, 17, 27, 40, 56, 11, 12, 14, 16, 18, 24, 36, 48, 64, -1, 5, 7, 9, 11, 16, 29, 41, 57, 0, 3, 5, 7, 9, 15, 27, 39, 55, 13, 17, 19, 21, 23, 29, 54, 69, 14, 15, 18, 19, 21, 27, 40, 50, 67, 23, 26, 28, 30, 32, 38, 49, 62, 78, 82, 9, 11, 13, 15, 17, 23, 35, 47, 63, -3, 2, 4, 6, 9, 14, 27, 39, 54, 3, 4, 6, 8, 10, 16, 29, 41, 34, 35, 37, 40, 42, 47, 59, 71, 88, 5, 5, 8, 9, 12, 18, 30, 41, 57, 2, 4, 6, 8, 10, 16, 28, 40, 56, 4, 5, 7, 9, 10, 17, 28, 41, 58, 14, 15, 17, 19, 20, 27, 38, 51, 67, 34, 40, 42, 46, 52, 67, 76, 92, 21, 30, 32, 34, 37, 43, 55, 67, 83, 1, 3, 5, 7, 15, 29, 41, 55, 13, 14, 16, 19, 20, 26, 39, 51, 3, 5, 8, 10, 12, 31, 4, 8, 10, 12, 14, 20, 32, 44, 60, 48, 50, 52, 54, 56, 62, 74, 86, 102, 6, 7, 9, 11, 13, 19, 31, 8, 10, 12, 14, 17, 22, 34, 46, 63, 0, 3, 5, 7, 9, 15, 27, 39, 54, 4, 6, 8, 10, 12, 18, 30, 42, 58, 21, 22, 24, 26, 28, 34, 45, 57, 4, 15, 17, 18, 21, 26, 38, 51, 2, 4, 6, 8, 10, 16, 27, 43, 56, 5, 6, 7, 10, 12, 18, 29, 42, 59, 5, 8, 10, 12, 13, 20, 32, 44, 4, 6, 8, 9, 12, 18, 30, 42, 57, 22, 24, 26, 28, 30, 37, 48, 60, 76, 8, 10, 12, 14, 16, 22, 34, 46, 62, 3, 6, 8, 10, 12, 18, 31, 44, 58, 3, 5, 7, 9, 11, 18, 29, 41, 57, 0, 4, 6, 8, 10, 16, 28, 40, 57, 26, 32, 34, 35, 44, 56, 70, 85, 12, 16, 18, 20, 22, 29, 40, 52, 69, 3, 6, 8, 10, 11, 18, 30, 40, 57, 26, 27, 29, 31, 33, 39, 50, 64, 39, 43, 45, 47, 49, 54, 66, 79, 95, 28, 30, 32, 34, 36, 42, 55, 67, 82, 3, 4, 6, 8, 10, 16, 28, 40, 56, 6, 8, 10, 12, 14, 20, 33, 44, 29, 32, 34, 36, 38, 44, 57, 68, 85, 0, 6, 9, 10, 13, 18, 31, 41, 58, -1, 5, 8, 10, 12, 18, 30, 42, 58, 28, 32, 35, 36, 38, 44, 56, 68, 84, 23, 25, 27, 29, 31, 37, 49, 62, 78, 23, 25, 27, 28, 30, 36, 48, 62, 76, 79, 0, 4, 6, 8, 10, 16, 31, 14, 15, 17, 19, 21, 27, 39, 51, 66, 24, 28, 30, 32, 34, 40, 52, 65, 82, 4, 8, 12, 14, 20, 33, 45, 62, 3, 5, 7, 10, 12, 17, 29, 41, 57, 37, 41, 43, 45, 47, 53, 65, 77, 94, 35, 37, 39, 42, 43, 49, 61, 73, 35, 36, 38, 40, 42, 48, 59, 72, 87, 7, 11, 13, 15, 17, 23, 35, 47, 64, 12, 13, 15, 17, 19, 25, 37, 49, 64, 6, 8, 10, 12, 14, 20, 33, 44, 60, 39, 41, 44, 46, 48, 53, 65, 77, 93, 25, 27, 29, 31, 33, 39, 50, 63, 80, 5, 7, 9, 11, 13, 19, 31, 48, 50, 52, 54, 56, 63, 74, 86, 102, 0, 3, 5, 7, 8, 15, 27, 39, 56, 59, 5, 7, 9, 11, 13, 19, 31, 43, 59, 0, 6, 8, 10, 12, 18, 30, 41, 58, 11, 13, 15, 17, 19, 25, 37, 49, 29, 30, 32, 33, 36, 42, 54, 65, 82, 85, 42, 47, 49, 51, 53, 59, 71, 82, 99, 0, 6, 8, 11, 12, 18, 31, 42, 58, 21, 22, 24, 26, 28, 33, 46, 57, 75, 13, 14, 16, 18, 20, 26, 37, 50, 7, 8, 10, 12, 14, 20, 31, 45, 60, 7, 12, 14, 16, 18, 24, 36, 49, 63, 8, 9, 12, 13, 15, 21, 33, 45, 61, 6, 7, 9, 10, 13, 18, 31, 43, 59, 15, 17, 19, 21, 23, 29, 41, 54, 70, 70, 6, 11, 13, 15, 17, 23, 35, 47, 17, 18, 19, 21, 23, 30, 42, 53, 70, 0, 7, 9, 11, 13, 19, 31, 43, 59]}],                        {\"bargap\": 0.01, \"barmode\": \"overlay\", \"legend\": {\"bgcolor\": \"#FFFFFF\", \"font\": {\"color\": \"#4D5663\"}}, \"paper_bgcolor\": \"#FFFFFF\", \"plot_bgcolor\": \"#FFFFFF\", \"template\": {\"data\": {\"bar\": [{\"error_x\": {\"color\": \"#2a3f5f\"}, \"error_y\": {\"color\": \"#2a3f5f\"}, \"marker\": {\"line\": {\"color\": \"#E5ECF6\", \"width\": 0.5}}, \"type\": \"bar\"}], \"barpolar\": [{\"marker\": {\"line\": {\"color\": \"#E5ECF6\", \"width\": 0.5}}, \"type\": \"barpolar\"}], \"carpet\": [{\"aaxis\": {\"endlinecolor\": \"#2a3f5f\", \"gridcolor\": \"white\", \"linecolor\": \"white\", \"minorgridcolor\": \"white\", \"startlinecolor\": \"#2a3f5f\"}, \"baxis\": {\"endlinecolor\": \"#2a3f5f\", \"gridcolor\": \"white\", \"linecolor\": \"white\", \"minorgridcolor\": \"white\", \"startlinecolor\": \"#2a3f5f\"}, \"type\": \"carpet\"}], \"choropleth\": [{\"colorbar\": {\"outlinewidth\": 0, \"ticks\": \"\"}, \"type\": \"choropleth\"}], \"contour\": [{\"colorbar\": {\"outlinewidth\": 0, \"ticks\": \"\"}, \"colorscale\": [[0.0, \"#0d0887\"], [0.1111111111111111, \"#46039f\"], [0.2222222222222222, \"#7201a8\"], [0.3333333333333333, \"#9c179e\"], [0.4444444444444444, \"#bd3786\"], [0.5555555555555556, \"#d8576b\"], [0.6666666666666666, \"#ed7953\"], [0.7777777777777778, \"#fb9f3a\"], [0.8888888888888888, \"#fdca26\"], [1.0, \"#f0f921\"]], \"type\": \"contour\"}], \"contourcarpet\": [{\"colorbar\": {\"outlinewidth\": 0, \"ticks\": \"\"}, \"type\": \"contourcarpet\"}], \"heatmap\": [{\"colorbar\": {\"outlinewidth\": 0, \"ticks\": \"\"}, \"colorscale\": [[0.0, \"#0d0887\"], [0.1111111111111111, \"#46039f\"], [0.2222222222222222, \"#7201a8\"], [0.3333333333333333, \"#9c179e\"], [0.4444444444444444, \"#bd3786\"], [0.5555555555555556, \"#d8576b\"], [0.6666666666666666, \"#ed7953\"], [0.7777777777777778, \"#fb9f3a\"], [0.8888888888888888, \"#fdca26\"], [1.0, \"#f0f921\"]], \"type\": \"heatmap\"}], \"heatmapgl\": [{\"colorbar\": {\"outlinewidth\": 0, \"ticks\": \"\"}, \"colorscale\": [[0.0, \"#0d0887\"], [0.1111111111111111, \"#46039f\"], [0.2222222222222222, \"#7201a8\"], [0.3333333333333333, \"#9c179e\"], [0.4444444444444444, \"#bd3786\"], [0.5555555555555556, \"#d8576b\"], [0.6666666666666666, \"#ed7953\"], [0.7777777777777778, \"#fb9f3a\"], [0.8888888888888888, \"#fdca26\"], [1.0, \"#f0f921\"]], \"type\": \"heatmapgl\"}], \"histogram\": [{\"marker\": {\"colorbar\": {\"outlinewidth\": 0, \"ticks\": \"\"}}, \"type\": \"histogram\"}], \"histogram2d\": [{\"colorbar\": {\"outlinewidth\": 0, \"ticks\": \"\"}, \"colorscale\": [[0.0, \"#0d0887\"], [0.1111111111111111, \"#46039f\"], [0.2222222222222222, \"#7201a8\"], [0.3333333333333333, \"#9c179e\"], [0.4444444444444444, \"#bd3786\"], [0.5555555555555556, \"#d8576b\"], [0.6666666666666666, \"#ed7953\"], [0.7777777777777778, \"#fb9f3a\"], [0.8888888888888888, \"#fdca26\"], [1.0, \"#f0f921\"]], \"type\": \"histogram2d\"}], \"histogram2dcontour\": [{\"colorbar\": {\"outlinewidth\": 0, \"ticks\": \"\"}, \"colorscale\": [[0.0, \"#0d0887\"], [0.1111111111111111, \"#46039f\"], [0.2222222222222222, \"#7201a8\"], [0.3333333333333333, \"#9c179e\"], [0.4444444444444444, \"#bd3786\"], [0.5555555555555556, \"#d8576b\"], [0.6666666666666666, \"#ed7953\"], [0.7777777777777778, \"#fb9f3a\"], [0.8888888888888888, \"#fdca26\"], [1.0, \"#f0f921\"]], \"type\": \"histogram2dcontour\"}], \"mesh3d\": [{\"colorbar\": {\"outlinewidth\": 0, \"ticks\": \"\"}, \"type\": \"mesh3d\"}], \"parcoords\": [{\"line\": {\"colorbar\": {\"outlinewidth\": 0, \"ticks\": \"\"}}, \"type\": \"parcoords\"}], \"pie\": [{\"automargin\": true, \"type\": \"pie\"}], \"scatter\": [{\"marker\": {\"colorbar\": {\"outlinewidth\": 0, \"ticks\": \"\"}}, \"type\": \"scatter\"}], \"scatter3d\": [{\"line\": {\"colorbar\": {\"outlinewidth\": 0, \"ticks\": \"\"}}, \"marker\": {\"colorbar\": {\"outlinewidth\": 0, \"ticks\": \"\"}}, \"type\": \"scatter3d\"}], \"scattercarpet\": [{\"marker\": {\"colorbar\": {\"outlinewidth\": 0, \"ticks\": \"\"}}, \"type\": \"scattercarpet\"}], \"scattergeo\": [{\"marker\": {\"colorbar\": {\"outlinewidth\": 0, \"ticks\": \"\"}}, \"type\": \"scattergeo\"}], \"scattergl\": [{\"marker\": {\"colorbar\": {\"outlinewidth\": 0, \"ticks\": \"\"}}, \"type\": \"scattergl\"}], \"scattermapbox\": [{\"marker\": {\"colorbar\": {\"outlinewidth\": 0, \"ticks\": \"\"}}, \"type\": \"scattermapbox\"}], \"scatterpolar\": [{\"marker\": {\"colorbar\": {\"outlinewidth\": 0, \"ticks\": \"\"}}, \"type\": \"scatterpolar\"}], \"scatterpolargl\": [{\"marker\": {\"colorbar\": {\"outlinewidth\": 0, \"ticks\": \"\"}}, \"type\": \"scatterpolargl\"}], \"scatterternary\": [{\"marker\": {\"colorbar\": {\"outlinewidth\": 0, \"ticks\": \"\"}}, \"type\": \"scatterternary\"}], \"surface\": [{\"colorbar\": {\"outlinewidth\": 0, \"ticks\": \"\"}, \"colorscale\": [[0.0, \"#0d0887\"], [0.1111111111111111, \"#46039f\"], [0.2222222222222222, \"#7201a8\"], [0.3333333333333333, \"#9c179e\"], [0.4444444444444444, \"#bd3786\"], [0.5555555555555556, \"#d8576b\"], [0.6666666666666666, \"#ed7953\"], [0.7777777777777778, \"#fb9f3a\"], [0.8888888888888888, \"#fdca26\"], [1.0, \"#f0f921\"]], \"type\": \"surface\"}], \"table\": [{\"cells\": {\"fill\": {\"color\": \"#EBF0F8\"}, \"line\": {\"color\": \"white\"}}, \"header\": {\"fill\": {\"color\": \"#C8D4E3\"}, \"line\": {\"color\": \"white\"}}, \"type\": \"table\"}]}, \"layout\": {\"annotationdefaults\": {\"arrowcolor\": \"#2a3f5f\", \"arrowhead\": 0, \"arrowwidth\": 1}, \"autotypenumbers\": \"strict\", \"coloraxis\": {\"colorbar\": {\"outlinewidth\": 0, \"ticks\": \"\"}}, \"colorscale\": {\"diverging\": [[0, \"#8e0152\"], [0.1, \"#c51b7d\"], [0.2, \"#de77ae\"], [0.3, \"#f1b6da\"], [0.4, \"#fde0ef\"], [0.5, \"#f7f7f7\"], [0.6, \"#e6f5d0\"], [0.7, \"#b8e186\"], [0.8, \"#7fbc41\"], [0.9, \"#4d9221\"], [1, \"#276419\"]], \"sequential\": [[0.0, \"#0d0887\"], [0.1111111111111111, \"#46039f\"], [0.2222222222222222, \"#7201a8\"], [0.3333333333333333, \"#9c179e\"], [0.4444444444444444, \"#bd3786\"], [0.5555555555555556, \"#d8576b\"], [0.6666666666666666, \"#ed7953\"], [0.7777777777777778, \"#fb9f3a\"], [0.8888888888888888, \"#fdca26\"], [1.0, \"#f0f921\"]], \"sequentialminus\": [[0.0, \"#0d0887\"], [0.1111111111111111, \"#46039f\"], [0.2222222222222222, \"#7201a8\"], [0.3333333333333333, \"#9c179e\"], [0.4444444444444444, \"#bd3786\"], [0.5555555555555556, \"#d8576b\"], [0.6666666666666666, \"#ed7953\"], [0.7777777777777778, \"#fb9f3a\"], [0.8888888888888888, \"#fdca26\"], [1.0, \"#f0f921\"]]}, \"colorway\": [\"#636efa\", \"#EF553B\", \"#00cc96\", \"#ab63fa\", \"#FFA15A\", \"#19d3f3\", \"#FF6692\", \"#B6E880\", \"#FF97FF\", \"#FECB52\"], \"font\": {\"color\": \"#2a3f5f\"}, \"geo\": {\"bgcolor\": \"white\", \"lakecolor\": \"white\", \"landcolor\": \"#E5ECF6\", \"showlakes\": true, \"showland\": true, \"subunitcolor\": \"white\"}, \"hoverlabel\": {\"align\": \"left\"}, \"hovermode\": \"closest\", \"mapbox\": {\"style\": \"light\"}, \"paper_bgcolor\": \"white\", \"plot_bgcolor\": \"#E5ECF6\", \"polar\": {\"angularaxis\": {\"gridcolor\": \"white\", \"linecolor\": \"white\", \"ticks\": \"\"}, \"bgcolor\": \"#E5ECF6\", \"radialaxis\": {\"gridcolor\": \"white\", \"linecolor\": \"white\", \"ticks\": \"\"}}, \"scene\": {\"xaxis\": {\"backgroundcolor\": \"#E5ECF6\", \"gridcolor\": \"white\", \"gridwidth\": 2, \"linecolor\": \"white\", \"showbackground\": true, \"ticks\": \"\", \"zerolinecolor\": \"white\"}, \"yaxis\": {\"backgroundcolor\": \"#E5ECF6\", \"gridcolor\": \"white\", \"gridwidth\": 2, \"linecolor\": \"white\", \"showbackground\": true, \"ticks\": \"\", \"zerolinecolor\": \"white\"}, \"zaxis\": {\"backgroundcolor\": \"#E5ECF6\", \"gridcolor\": \"white\", \"gridwidth\": 2, \"linecolor\": \"white\", \"showbackground\": true, \"ticks\": \"\", \"zerolinecolor\": \"white\"}}, \"shapedefaults\": {\"line\": {\"color\": \"#2a3f5f\"}}, \"ternary\": {\"aaxis\": {\"gridcolor\": \"white\", \"linecolor\": \"white\", \"ticks\": \"\"}, \"baxis\": {\"gridcolor\": \"white\", \"linecolor\": \"white\", \"ticks\": \"\"}, \"bgcolor\": \"#E5ECF6\", \"caxis\": {\"gridcolor\": \"white\", \"linecolor\": \"white\", \"ticks\": \"\"}}, \"title\": {\"x\": 0.05}, \"xaxis\": {\"automargin\": true, \"gridcolor\": \"white\", \"linecolor\": \"white\", \"ticks\": \"\", \"title\": {\"standoff\": 15}, \"zerolinecolor\": \"white\", \"zerolinewidth\": 2}, \"yaxis\": {\"automargin\": true, \"gridcolor\": \"white\", \"linecolor\": \"white\", \"ticks\": \"\", \"title\": {\"standoff\": 15}, \"zerolinecolor\": \"white\", \"zerolinewidth\": 2}}}, \"title\": {\"font\": {\"color\": \"#4D5663\"}, \"text\": \"Distribution of Weeks of Training data\"}, \"xaxis\": {\"gridcolor\": \"#E1E5ED\", \"linecolor\": \"white\", \"showgrid\": true, \"tickfont\": {\"color\": \"#4D5663\"}, \"title\": {\"font\": {\"color\": \"#4D5663\"}, \"text\": \"Weeks\"}, \"zerolinecolor\": \"#E1E5ED\"}, \"yaxis\": {\"gridcolor\": \"#E1E5ED\", \"linecolor\": \"white\", \"showgrid\": true, \"tickfont\": {\"color\": \"#4D5663\"}, \"title\": {\"font\": {\"color\": \"#4D5663\"}, \"text\": \"Frequency\"}, \"zerolinecolor\": \"#E1E5ED\"}},                        {\"showLink\": true, \"linkText\": \"Export to plot.ly\", \"plotlyServerURL\": \"https://plot.ly\", \"responsive\": true}                    ).then(function(){\n",
       "                            \n",
       "var gd = document.getElementById('12b5d6cd-8022-4bc0-a965-f3e3ab22bbbf');\n",
       "var x = new MutationObserver(function (mutations, observer) {{\n",
       "        var display = window.getComputedStyle(gd).display;\n",
       "        if (!display || display === 'none') {{\n",
       "            console.log([gd, 'removed!']);\n",
       "            Plotly.purge(gd);\n",
       "            observer.disconnect();\n",
       "        }}\n",
       "}});\n",
       "\n",
       "// Listen for the removal of the full notebook cells\n",
       "var notebookContainer = gd.closest('#notebook-container');\n",
       "if (notebookContainer) {{\n",
       "    x.observe(notebookContainer, {childList: true});\n",
       "}}\n",
       "\n",
       "// Listen for the clearing of the current output cell\n",
       "var outputEl = gd.closest('.output');\n",
       "if (outputEl) {{\n",
       "    x.observe(outputEl, {childList: true});\n",
       "}}\n",
       "\n",
       "                        })                };                });            </script>        </div>"
      ]
     },
     "metadata": {},
     "output_type": "display_data"
    }
   ],
   "source": [
    "#Plotting the graph. \n",
    "train_final_dataframe['Weeks'].iplot(kind='hist',\n",
    "                        bins=100, xTitle='Weeks', yTitle='Frequency', \n",
    "                        linecolor='white',opacity=0.7,\n",
    "                        color='rgb(0, 200, 200)', theme='white',\n",
    "                        bargap=0.01, title='Distribution of Weeks of Training data')"
   ]
  },
  {
   "cell_type": "markdown",
   "id": "heated-choice",
   "metadata": {},
   "source": [
    "### Distribution of Age"
   ]
  },
  {
   "cell_type": "markdown",
   "id": "choice-stewart",
   "metadata": {},
   "source": [
    "- Looks like the most common age that people come to visit is 65 with frequency of 133 and the lowest is 87 with the frequency of 7"
   ]
  },
  {
   "cell_type": "code",
   "execution_count": 27,
   "id": "accepting-decade",
   "metadata": {},
   "outputs": [
    {
     "data": {
      "application/vnd.plotly.v1+json": {
       "config": {
        "linkText": "Export to plot.ly",
        "plotlyServerURL": "https://plot.ly",
        "showLink": true
       },
       "data": [
        {
         "histfunc": "count",
         "histnorm": "",
         "marker": {
          "color": "rgba(0, 200, 200, 1.0)",
          "line": {
           "color": "#FFFFFF",
           "width": 1.3
          }
         },
         "name": "Age",
         "nbinsx": 100,
         "opacity": 0.7,
         "orientation": "v",
         "type": "histogram",
         "x": [
          79,
          79,
          79,
          79,
          79,
          79,
          79,
          79,
          79,
          69,
          69,
          69,
          69,
          69,
          69,
          69,
          69,
          69,
          60,
          60,
          60,
          60,
          60,
          60,
          60,
          60,
          60,
          72,
          72,
          72,
          72,
          72,
          72,
          72,
          72,
          72,
          65,
          65,
          65,
          65,
          65,
          65,
          65,
          65,
          65,
          56,
          56,
          56,
          56,
          56,
          56,
          56,
          56,
          56,
          71,
          71,
          71,
          71,
          71,
          71,
          71,
          71,
          83,
          83,
          83,
          83,
          83,
          83,
          83,
          83,
          83,
          66,
          66,
          66,
          66,
          66,
          66,
          66,
          66,
          66,
          71,
          71,
          71,
          71,
          71,
          71,
          71,
          71,
          71,
          65,
          65,
          65,
          65,
          65,
          65,
          65,
          65,
          65,
          57,
          57,
          57,
          57,
          57,
          57,
          57,
          57,
          57,
          73,
          73,
          73,
          73,
          73,
          73,
          73,
          73,
          73,
          69,
          69,
          69,
          69,
          69,
          69,
          69,
          69,
          63,
          63,
          63,
          63,
          63,
          63,
          63,
          63,
          63,
          69,
          69,
          69,
          69,
          69,
          69,
          69,
          69,
          69,
          71,
          71,
          71,
          71,
          71,
          71,
          71,
          71,
          71,
          58,
          58,
          58,
          58,
          58,
          58,
          58,
          58,
          58,
          68,
          68,
          68,
          68,
          68,
          68,
          70,
          70,
          70,
          70,
          70,
          70,
          70,
          70,
          70,
          73,
          73,
          73,
          73,
          73,
          73,
          73,
          73,
          73,
          54,
          54,
          54,
          54,
          54,
          54,
          54,
          63,
          63,
          63,
          63,
          63,
          63,
          63,
          63,
          63,
          68,
          68,
          68,
          68,
          68,
          68,
          68,
          68,
          68,
          74,
          74,
          74,
          74,
          74,
          74,
          74,
          74,
          74,
          64,
          64,
          64,
          64,
          64,
          64,
          64,
          64,
          73,
          73,
          73,
          73,
          73,
          73,
          73,
          73,
          73,
          71,
          71,
          71,
          71,
          71,
          71,
          71,
          71,
          71,
          69,
          69,
          69,
          69,
          69,
          69,
          69,
          69,
          52,
          52,
          52,
          52,
          52,
          52,
          52,
          52,
          52,
          51,
          51,
          51,
          51,
          51,
          51,
          51,
          51,
          51,
          70,
          70,
          70,
          70,
          70,
          70,
          70,
          70,
          70,
          55,
          55,
          55,
          55,
          55,
          55,
          55,
          55,
          55,
          49,
          49,
          49,
          49,
          49,
          49,
          49,
          49,
          49,
          65,
          65,
          65,
          65,
          65,
          65,
          65,
          65,
          65,
          63,
          63,
          63,
          63,
          63,
          63,
          63,
          63,
          63,
          69,
          69,
          69,
          69,
          69,
          69,
          69,
          69,
          69,
          69,
          69,
          69,
          69,
          69,
          69,
          69,
          69,
          64,
          64,
          64,
          64,
          64,
          64,
          64,
          64,
          64,
          68,
          68,
          68,
          68,
          68,
          68,
          68,
          68,
          68,
          68,
          60,
          60,
          60,
          60,
          60,
          60,
          60,
          60,
          60,
          74,
          74,
          74,
          74,
          74,
          74,
          74,
          74,
          64,
          64,
          64,
          64,
          64,
          64,
          64,
          64,
          64,
          64,
          73,
          73,
          73,
          73,
          73,
          73,
          73,
          73,
          73,
          73,
          73,
          73,
          73,
          73,
          73,
          73,
          73,
          73,
          74,
          74,
          74,
          74,
          74,
          74,
          74,
          74,
          72,
          72,
          72,
          72,
          72,
          72,
          72,
          77,
          77,
          77,
          77,
          77,
          77,
          77,
          77,
          68,
          68,
          68,
          68,
          68,
          68,
          68,
          68,
          68,
          57,
          57,
          57,
          57,
          57,
          57,
          57,
          57,
          57,
          57,
          58,
          58,
          58,
          58,
          58,
          58,
          58,
          58,
          58,
          69,
          69,
          69,
          69,
          69,
          69,
          69,
          69,
          69,
          60,
          60,
          60,
          60,
          60,
          60,
          60,
          60,
          60,
          65,
          65,
          65,
          65,
          65,
          65,
          65,
          65,
          78,
          78,
          78,
          78,
          78,
          78,
          78,
          78,
          78,
          55,
          55,
          55,
          55,
          55,
          55,
          55,
          55,
          55,
          87,
          87,
          87,
          87,
          87,
          87,
          87,
          71,
          71,
          71,
          71,
          71,
          71,
          71,
          71,
          71,
          65,
          65,
          65,
          65,
          65,
          65,
          65,
          65,
          65,
          61,
          61,
          61,
          61,
          61,
          61,
          61,
          61,
          61,
          69,
          69,
          69,
          69,
          69,
          69,
          69,
          69,
          69,
          83,
          83,
          83,
          83,
          83,
          83,
          83,
          83,
          83,
          67,
          67,
          67,
          67,
          67,
          67,
          67,
          67,
          67,
          65,
          65,
          65,
          65,
          65,
          65,
          65,
          65,
          65,
          64,
          64,
          64,
          64,
          64,
          64,
          64,
          64,
          64,
          66,
          66,
          66,
          66,
          66,
          66,
          66,
          66,
          66,
          76,
          76,
          76,
          76,
          76,
          76,
          76,
          76,
          76,
          58,
          58,
          58,
          58,
          58,
          58,
          58,
          58,
          58,
          58,
          66,
          66,
          66,
          66,
          66,
          66,
          66,
          66,
          66,
          63,
          63,
          63,
          63,
          63,
          63,
          63,
          63,
          63,
          54,
          54,
          54,
          54,
          54,
          54,
          54,
          54,
          54,
          58,
          58,
          58,
          58,
          58,
          58,
          58,
          58,
          58,
          58,
          62,
          62,
          62,
          62,
          62,
          62,
          62,
          62,
          62,
          66,
          66,
          66,
          66,
          66,
          66,
          66,
          66,
          66,
          79,
          79,
          79,
          79,
          79,
          79,
          79,
          79,
          79,
          73,
          73,
          73,
          73,
          73,
          73,
          73,
          73,
          73,
          73,
          73,
          73,
          73,
          73,
          73,
          73,
          73,
          73,
          68,
          68,
          68,
          68,
          68,
          68,
          68,
          68,
          68,
          71,
          71,
          71,
          71,
          71,
          71,
          71,
          71,
          71,
          52,
          52,
          52,
          52,
          52,
          52,
          52,
          52,
          52,
          69,
          69,
          69,
          69,
          69,
          69,
          69,
          69,
          69,
          69,
          69,
          69,
          69,
          69,
          69,
          69,
          56,
          56,
          56,
          56,
          56,
          56,
          56,
          56,
          56,
          65,
          65,
          65,
          65,
          65,
          65,
          65,
          65,
          65,
          65,
          65,
          65,
          65,
          65,
          65,
          65,
          65,
          65,
          62,
          62,
          62,
          62,
          62,
          62,
          62,
          62,
          62,
          64,
          64,
          64,
          64,
          64,
          64,
          64,
          64,
          64,
          67,
          67,
          67,
          67,
          67,
          67,
          67,
          67,
          67,
          76,
          76,
          76,
          76,
          76,
          76,
          76,
          76,
          76,
          70,
          70,
          70,
          70,
          70,
          70,
          70,
          70,
          70,
          69,
          69,
          69,
          69,
          69,
          69,
          69,
          69,
          69,
          65,
          65,
          65,
          65,
          65,
          65,
          65,
          65,
          65,
          81,
          81,
          81,
          81,
          81,
          81,
          81,
          81,
          81,
          71,
          71,
          71,
          71,
          71,
          71,
          71,
          71,
          71,
          76,
          76,
          76,
          76,
          76,
          76,
          76,
          76,
          76,
          70,
          70,
          70,
          70,
          70,
          70,
          70,
          70,
          70,
          72,
          72,
          72,
          72,
          72,
          72,
          72,
          72,
          72,
          77,
          77,
          77,
          77,
          77,
          77,
          77,
          77,
          58,
          58,
          58,
          58,
          58,
          58,
          58,
          58,
          58,
          71,
          71,
          71,
          71,
          71,
          71,
          71,
          71,
          71,
          71,
          74,
          74,
          74,
          74,
          74,
          74,
          74,
          74,
          74,
          68,
          68,
          68,
          68,
          68,
          68,
          68,
          68,
          68,
          66,
          66,
          66,
          66,
          66,
          66,
          66,
          66,
          67,
          67,
          67,
          67,
          67,
          67,
          67,
          67,
          67,
          63,
          63,
          63,
          63,
          63,
          63,
          63,
          63,
          63,
          66,
          66,
          66,
          66,
          66,
          66,
          66,
          66,
          66,
          64,
          64,
          64,
          64,
          64,
          64,
          64,
          64,
          64,
          71,
          71,
          71,
          71,
          71,
          71,
          71,
          71,
          71,
          56,
          56,
          56,
          56,
          56,
          56,
          56,
          56,
          88,
          88,
          88,
          88,
          88,
          88,
          88,
          88,
          88,
          62,
          62,
          62,
          62,
          62,
          62,
          62,
          62,
          76,
          76,
          76,
          76,
          76,
          76,
          76,
          76,
          70,
          70,
          70,
          70,
          70,
          70,
          60,
          60,
          60,
          60,
          60,
          60,
          60,
          60,
          60,
          62,
          62,
          62,
          62,
          62,
          62,
          62,
          62,
          62,
          77,
          77,
          77,
          77,
          77,
          77,
          77,
          70,
          70,
          70,
          70,
          70,
          70,
          70,
          70,
          70,
          60,
          60,
          60,
          60,
          60,
          60,
          60,
          60,
          60,
          61,
          61,
          61,
          61,
          61,
          61,
          61,
          61,
          61,
          63,
          63,
          63,
          63,
          63,
          63,
          63,
          63,
          75,
          75,
          75,
          75,
          75,
          75,
          75,
          75,
          72,
          72,
          72,
          72,
          72,
          72,
          72,
          72,
          72,
          74,
          74,
          74,
          74,
          74,
          74,
          74,
          74,
          74,
          58,
          58,
          58,
          58,
          58,
          58,
          58,
          58,
          67,
          67,
          67,
          67,
          67,
          67,
          67,
          67,
          67,
          78,
          78,
          78,
          78,
          78,
          78,
          78,
          78,
          78,
          62,
          62,
          62,
          62,
          62,
          62,
          62,
          62,
          62,
          65,
          65,
          65,
          65,
          65,
          65,
          65,
          65,
          65,
          73,
          73,
          73,
          73,
          73,
          73,
          73,
          73,
          73,
          72,
          72,
          72,
          72,
          72,
          72,
          72,
          72,
          72,
          64,
          64,
          64,
          64,
          64,
          64,
          64,
          64,
          72,
          72,
          72,
          72,
          72,
          72,
          72,
          72,
          72,
          59,
          59,
          59,
          59,
          59,
          59,
          59,
          59,
          59,
          77,
          77,
          77,
          77,
          77,
          77,
          77,
          77,
          69,
          69,
          69,
          69,
          69,
          69,
          69,
          69,
          69,
          69,
          69,
          69,
          69,
          69,
          69,
          69,
          69,
          69,
          74,
          74,
          74,
          74,
          74,
          74,
          74,
          74,
          74,
          56,
          56,
          56,
          56,
          56,
          56,
          56,
          56,
          69,
          69,
          69,
          69,
          69,
          69,
          69,
          69,
          69,
          64,
          64,
          64,
          64,
          64,
          64,
          64,
          64,
          64,
          68,
          68,
          68,
          68,
          68,
          68,
          68,
          68,
          68,
          68,
          68,
          68,
          68,
          68,
          68,
          68,
          68,
          68,
          72,
          72,
          72,
          72,
          72,
          72,
          72,
          72,
          72,
          68,
          68,
          68,
          68,
          68,
          68,
          68,
          68,
          68,
          68,
          58,
          58,
          58,
          58,
          58,
          58,
          58,
          78,
          78,
          78,
          78,
          78,
          78,
          78,
          78,
          78,
          65,
          65,
          65,
          65,
          65,
          65,
          65,
          65,
          65,
          65,
          65,
          65,
          65,
          65,
          65,
          65,
          65,
          79,
          79,
          79,
          79,
          79,
          79,
          79,
          79,
          79,
          64,
          64,
          64,
          64,
          64,
          64,
          64,
          64,
          64,
          71,
          71,
          71,
          71,
          71,
          71,
          71,
          71,
          57,
          57,
          57,
          57,
          57,
          57,
          57,
          57,
          57,
          65,
          65,
          65,
          65,
          65,
          65,
          65,
          65,
          65,
          75,
          75,
          75,
          75,
          75,
          75,
          75,
          75,
          75,
          71,
          71,
          71,
          71,
          71,
          71,
          71,
          71,
          71,
          72,
          72,
          72,
          72,
          72,
          72,
          72,
          72,
          72,
          56,
          56,
          56,
          56,
          56,
          56,
          56,
          56,
          56,
          62,
          62,
          62,
          62,
          62,
          62,
          62,
          64,
          64,
          64,
          64,
          64,
          64,
          64,
          64,
          64,
          53,
          53,
          53,
          53,
          53,
          53,
          53,
          53,
          53,
          53,
          66,
          66,
          66,
          66,
          66,
          66,
          66,
          66,
          66,
          67,
          67,
          67,
          67,
          67,
          67,
          67,
          67,
          67,
          70,
          70,
          70,
          70,
          70,
          70,
          70,
          70,
          55,
          55,
          55,
          55,
          55,
          55,
          55,
          55,
          55,
          55,
          74,
          74,
          74,
          74,
          74,
          74,
          74,
          74,
          74,
          61,
          61,
          61,
          61,
          61,
          61,
          61,
          61,
          61,
          66,
          66,
          66,
          66,
          66,
          66,
          66,
          66,
          66,
          74,
          74,
          74,
          74,
          74,
          74,
          74,
          74,
          65,
          65,
          65,
          65,
          65,
          65,
          65,
          65,
          65,
          65,
          65,
          65,
          65,
          65,
          65,
          65,
          65,
          65,
          66,
          66,
          66,
          66,
          66,
          66,
          66,
          66,
          66,
          73,
          73,
          73,
          73,
          73,
          73,
          73,
          73,
          73,
          68,
          68,
          68,
          68,
          68,
          68,
          68,
          68,
          68,
          68,
          73,
          73,
          73,
          73,
          73,
          73,
          73,
          73,
          72,
          72,
          72,
          72,
          72,
          72,
          72,
          72,
          72,
          73,
          73,
          73,
          73,
          73,
          73,
          73,
          73,
          73
         ]
        }
       ],
       "layout": {
        "bargap": 0.01,
        "barmode": "overlay",
        "legend": {
         "bgcolor": "#FFFFFF",
         "font": {
          "color": "#4D5663"
         }
        },
        "paper_bgcolor": "#FFFFFF",
        "plot_bgcolor": "#FFFFFF",
        "template": {
         "data": {
          "bar": [
           {
            "error_x": {
             "color": "#2a3f5f"
            },
            "error_y": {
             "color": "#2a3f5f"
            },
            "marker": {
             "line": {
              "color": "#E5ECF6",
              "width": 0.5
             }
            },
            "type": "bar"
           }
          ],
          "barpolar": [
           {
            "marker": {
             "line": {
              "color": "#E5ECF6",
              "width": 0.5
             }
            },
            "type": "barpolar"
           }
          ],
          "carpet": [
           {
            "aaxis": {
             "endlinecolor": "#2a3f5f",
             "gridcolor": "white",
             "linecolor": "white",
             "minorgridcolor": "white",
             "startlinecolor": "#2a3f5f"
            },
            "baxis": {
             "endlinecolor": "#2a3f5f",
             "gridcolor": "white",
             "linecolor": "white",
             "minorgridcolor": "white",
             "startlinecolor": "#2a3f5f"
            },
            "type": "carpet"
           }
          ],
          "choropleth": [
           {
            "colorbar": {
             "outlinewidth": 0,
             "ticks": ""
            },
            "type": "choropleth"
           }
          ],
          "contour": [
           {
            "colorbar": {
             "outlinewidth": 0,
             "ticks": ""
            },
            "colorscale": [
             [
              0,
              "#0d0887"
             ],
             [
              0.1111111111111111,
              "#46039f"
             ],
             [
              0.2222222222222222,
              "#7201a8"
             ],
             [
              0.3333333333333333,
              "#9c179e"
             ],
             [
              0.4444444444444444,
              "#bd3786"
             ],
             [
              0.5555555555555556,
              "#d8576b"
             ],
             [
              0.6666666666666666,
              "#ed7953"
             ],
             [
              0.7777777777777778,
              "#fb9f3a"
             ],
             [
              0.8888888888888888,
              "#fdca26"
             ],
             [
              1,
              "#f0f921"
             ]
            ],
            "type": "contour"
           }
          ],
          "contourcarpet": [
           {
            "colorbar": {
             "outlinewidth": 0,
             "ticks": ""
            },
            "type": "contourcarpet"
           }
          ],
          "heatmap": [
           {
            "colorbar": {
             "outlinewidth": 0,
             "ticks": ""
            },
            "colorscale": [
             [
              0,
              "#0d0887"
             ],
             [
              0.1111111111111111,
              "#46039f"
             ],
             [
              0.2222222222222222,
              "#7201a8"
             ],
             [
              0.3333333333333333,
              "#9c179e"
             ],
             [
              0.4444444444444444,
              "#bd3786"
             ],
             [
              0.5555555555555556,
              "#d8576b"
             ],
             [
              0.6666666666666666,
              "#ed7953"
             ],
             [
              0.7777777777777778,
              "#fb9f3a"
             ],
             [
              0.8888888888888888,
              "#fdca26"
             ],
             [
              1,
              "#f0f921"
             ]
            ],
            "type": "heatmap"
           }
          ],
          "heatmapgl": [
           {
            "colorbar": {
             "outlinewidth": 0,
             "ticks": ""
            },
            "colorscale": [
             [
              0,
              "#0d0887"
             ],
             [
              0.1111111111111111,
              "#46039f"
             ],
             [
              0.2222222222222222,
              "#7201a8"
             ],
             [
              0.3333333333333333,
              "#9c179e"
             ],
             [
              0.4444444444444444,
              "#bd3786"
             ],
             [
              0.5555555555555556,
              "#d8576b"
             ],
             [
              0.6666666666666666,
              "#ed7953"
             ],
             [
              0.7777777777777778,
              "#fb9f3a"
             ],
             [
              0.8888888888888888,
              "#fdca26"
             ],
             [
              1,
              "#f0f921"
             ]
            ],
            "type": "heatmapgl"
           }
          ],
          "histogram": [
           {
            "marker": {
             "colorbar": {
              "outlinewidth": 0,
              "ticks": ""
             }
            },
            "type": "histogram"
           }
          ],
          "histogram2d": [
           {
            "colorbar": {
             "outlinewidth": 0,
             "ticks": ""
            },
            "colorscale": [
             [
              0,
              "#0d0887"
             ],
             [
              0.1111111111111111,
              "#46039f"
             ],
             [
              0.2222222222222222,
              "#7201a8"
             ],
             [
              0.3333333333333333,
              "#9c179e"
             ],
             [
              0.4444444444444444,
              "#bd3786"
             ],
             [
              0.5555555555555556,
              "#d8576b"
             ],
             [
              0.6666666666666666,
              "#ed7953"
             ],
             [
              0.7777777777777778,
              "#fb9f3a"
             ],
             [
              0.8888888888888888,
              "#fdca26"
             ],
             [
              1,
              "#f0f921"
             ]
            ],
            "type": "histogram2d"
           }
          ],
          "histogram2dcontour": [
           {
            "colorbar": {
             "outlinewidth": 0,
             "ticks": ""
            },
            "colorscale": [
             [
              0,
              "#0d0887"
             ],
             [
              0.1111111111111111,
              "#46039f"
             ],
             [
              0.2222222222222222,
              "#7201a8"
             ],
             [
              0.3333333333333333,
              "#9c179e"
             ],
             [
              0.4444444444444444,
              "#bd3786"
             ],
             [
              0.5555555555555556,
              "#d8576b"
             ],
             [
              0.6666666666666666,
              "#ed7953"
             ],
             [
              0.7777777777777778,
              "#fb9f3a"
             ],
             [
              0.8888888888888888,
              "#fdca26"
             ],
             [
              1,
              "#f0f921"
             ]
            ],
            "type": "histogram2dcontour"
           }
          ],
          "mesh3d": [
           {
            "colorbar": {
             "outlinewidth": 0,
             "ticks": ""
            },
            "type": "mesh3d"
           }
          ],
          "parcoords": [
           {
            "line": {
             "colorbar": {
              "outlinewidth": 0,
              "ticks": ""
             }
            },
            "type": "parcoords"
           }
          ],
          "pie": [
           {
            "automargin": true,
            "type": "pie"
           }
          ],
          "scatter": [
           {
            "marker": {
             "colorbar": {
              "outlinewidth": 0,
              "ticks": ""
             }
            },
            "type": "scatter"
           }
          ],
          "scatter3d": [
           {
            "line": {
             "colorbar": {
              "outlinewidth": 0,
              "ticks": ""
             }
            },
            "marker": {
             "colorbar": {
              "outlinewidth": 0,
              "ticks": ""
             }
            },
            "type": "scatter3d"
           }
          ],
          "scattercarpet": [
           {
            "marker": {
             "colorbar": {
              "outlinewidth": 0,
              "ticks": ""
             }
            },
            "type": "scattercarpet"
           }
          ],
          "scattergeo": [
           {
            "marker": {
             "colorbar": {
              "outlinewidth": 0,
              "ticks": ""
             }
            },
            "type": "scattergeo"
           }
          ],
          "scattergl": [
           {
            "marker": {
             "colorbar": {
              "outlinewidth": 0,
              "ticks": ""
             }
            },
            "type": "scattergl"
           }
          ],
          "scattermapbox": [
           {
            "marker": {
             "colorbar": {
              "outlinewidth": 0,
              "ticks": ""
             }
            },
            "type": "scattermapbox"
           }
          ],
          "scatterpolar": [
           {
            "marker": {
             "colorbar": {
              "outlinewidth": 0,
              "ticks": ""
             }
            },
            "type": "scatterpolar"
           }
          ],
          "scatterpolargl": [
           {
            "marker": {
             "colorbar": {
              "outlinewidth": 0,
              "ticks": ""
             }
            },
            "type": "scatterpolargl"
           }
          ],
          "scatterternary": [
           {
            "marker": {
             "colorbar": {
              "outlinewidth": 0,
              "ticks": ""
             }
            },
            "type": "scatterternary"
           }
          ],
          "surface": [
           {
            "colorbar": {
             "outlinewidth": 0,
             "ticks": ""
            },
            "colorscale": [
             [
              0,
              "#0d0887"
             ],
             [
              0.1111111111111111,
              "#46039f"
             ],
             [
              0.2222222222222222,
              "#7201a8"
             ],
             [
              0.3333333333333333,
              "#9c179e"
             ],
             [
              0.4444444444444444,
              "#bd3786"
             ],
             [
              0.5555555555555556,
              "#d8576b"
             ],
             [
              0.6666666666666666,
              "#ed7953"
             ],
             [
              0.7777777777777778,
              "#fb9f3a"
             ],
             [
              0.8888888888888888,
              "#fdca26"
             ],
             [
              1,
              "#f0f921"
             ]
            ],
            "type": "surface"
           }
          ],
          "table": [
           {
            "cells": {
             "fill": {
              "color": "#EBF0F8"
             },
             "line": {
              "color": "white"
             }
            },
            "header": {
             "fill": {
              "color": "#C8D4E3"
             },
             "line": {
              "color": "white"
             }
            },
            "type": "table"
           }
          ]
         },
         "layout": {
          "annotationdefaults": {
           "arrowcolor": "#2a3f5f",
           "arrowhead": 0,
           "arrowwidth": 1
          },
          "autotypenumbers": "strict",
          "coloraxis": {
           "colorbar": {
            "outlinewidth": 0,
            "ticks": ""
           }
          },
          "colorscale": {
           "diverging": [
            [
             0,
             "#8e0152"
            ],
            [
             0.1,
             "#c51b7d"
            ],
            [
             0.2,
             "#de77ae"
            ],
            [
             0.3,
             "#f1b6da"
            ],
            [
             0.4,
             "#fde0ef"
            ],
            [
             0.5,
             "#f7f7f7"
            ],
            [
             0.6,
             "#e6f5d0"
            ],
            [
             0.7,
             "#b8e186"
            ],
            [
             0.8,
             "#7fbc41"
            ],
            [
             0.9,
             "#4d9221"
            ],
            [
             1,
             "#276419"
            ]
           ],
           "sequential": [
            [
             0,
             "#0d0887"
            ],
            [
             0.1111111111111111,
             "#46039f"
            ],
            [
             0.2222222222222222,
             "#7201a8"
            ],
            [
             0.3333333333333333,
             "#9c179e"
            ],
            [
             0.4444444444444444,
             "#bd3786"
            ],
            [
             0.5555555555555556,
             "#d8576b"
            ],
            [
             0.6666666666666666,
             "#ed7953"
            ],
            [
             0.7777777777777778,
             "#fb9f3a"
            ],
            [
             0.8888888888888888,
             "#fdca26"
            ],
            [
             1,
             "#f0f921"
            ]
           ],
           "sequentialminus": [
            [
             0,
             "#0d0887"
            ],
            [
             0.1111111111111111,
             "#46039f"
            ],
            [
             0.2222222222222222,
             "#7201a8"
            ],
            [
             0.3333333333333333,
             "#9c179e"
            ],
            [
             0.4444444444444444,
             "#bd3786"
            ],
            [
             0.5555555555555556,
             "#d8576b"
            ],
            [
             0.6666666666666666,
             "#ed7953"
            ],
            [
             0.7777777777777778,
             "#fb9f3a"
            ],
            [
             0.8888888888888888,
             "#fdca26"
            ],
            [
             1,
             "#f0f921"
            ]
           ]
          },
          "colorway": [
           "#636efa",
           "#EF553B",
           "#00cc96",
           "#ab63fa",
           "#FFA15A",
           "#19d3f3",
           "#FF6692",
           "#B6E880",
           "#FF97FF",
           "#FECB52"
          ],
          "font": {
           "color": "#2a3f5f"
          },
          "geo": {
           "bgcolor": "white",
           "lakecolor": "white",
           "landcolor": "#E5ECF6",
           "showlakes": true,
           "showland": true,
           "subunitcolor": "white"
          },
          "hoverlabel": {
           "align": "left"
          },
          "hovermode": "closest",
          "mapbox": {
           "style": "light"
          },
          "paper_bgcolor": "white",
          "plot_bgcolor": "#E5ECF6",
          "polar": {
           "angularaxis": {
            "gridcolor": "white",
            "linecolor": "white",
            "ticks": ""
           },
           "bgcolor": "#E5ECF6",
           "radialaxis": {
            "gridcolor": "white",
            "linecolor": "white",
            "ticks": ""
           }
          },
          "scene": {
           "xaxis": {
            "backgroundcolor": "#E5ECF6",
            "gridcolor": "white",
            "gridwidth": 2,
            "linecolor": "white",
            "showbackground": true,
            "ticks": "",
            "zerolinecolor": "white"
           },
           "yaxis": {
            "backgroundcolor": "#E5ECF6",
            "gridcolor": "white",
            "gridwidth": 2,
            "linecolor": "white",
            "showbackground": true,
            "ticks": "",
            "zerolinecolor": "white"
           },
           "zaxis": {
            "backgroundcolor": "#E5ECF6",
            "gridcolor": "white",
            "gridwidth": 2,
            "linecolor": "white",
            "showbackground": true,
            "ticks": "",
            "zerolinecolor": "white"
           }
          },
          "shapedefaults": {
           "line": {
            "color": "#2a3f5f"
           }
          },
          "ternary": {
           "aaxis": {
            "gridcolor": "white",
            "linecolor": "white",
            "ticks": ""
           },
           "baxis": {
            "gridcolor": "white",
            "linecolor": "white",
            "ticks": ""
           },
           "bgcolor": "#E5ECF6",
           "caxis": {
            "gridcolor": "white",
            "linecolor": "white",
            "ticks": ""
           }
          },
          "title": {
           "x": 0.05
          },
          "xaxis": {
           "automargin": true,
           "gridcolor": "white",
           "linecolor": "white",
           "ticks": "",
           "title": {
            "standoff": 15
           },
           "zerolinecolor": "white",
           "zerolinewidth": 2
          },
          "yaxis": {
           "automargin": true,
           "gridcolor": "white",
           "linecolor": "white",
           "ticks": "",
           "title": {
            "standoff": 15
           },
           "zerolinecolor": "white",
           "zerolinewidth": 2
          }
         }
        },
        "title": {
         "font": {
          "color": "#4D5663"
         },
         "text": "Distribution of Age in Training data"
        },
        "xaxis": {
         "gridcolor": "#E1E5ED",
         "linecolor": "white",
         "showgrid": true,
         "tickfont": {
          "color": "#4D5663"
         },
         "title": {
          "font": {
           "color": "#4D5663"
          },
          "text": "Age"
         },
         "zerolinecolor": "#E1E5ED"
        },
        "yaxis": {
         "gridcolor": "#E1E5ED",
         "linecolor": "white",
         "showgrid": true,
         "tickfont": {
          "color": "#4D5663"
         },
         "title": {
          "font": {
           "color": "#4D5663"
          },
          "text": "Frequency"
         },
         "zerolinecolor": "#E1E5ED"
        }
       }
      },
      "text/html": [
       "<div>                            <div id=\"f1c0cbe4-78f9-4e85-9d39-0f1653ab1ec7\" class=\"plotly-graph-div\" style=\"height:525px; width:100%;\"></div>            <script type=\"text/javascript\">                require([\"plotly\"], function(Plotly) {                    window.PLOTLYENV=window.PLOTLYENV || {};\n",
       "                    window.PLOTLYENV.BASE_URL='https://plot.ly';                                    if (document.getElementById(\"f1c0cbe4-78f9-4e85-9d39-0f1653ab1ec7\")) {                    Plotly.newPlot(                        \"f1c0cbe4-78f9-4e85-9d39-0f1653ab1ec7\",                        [{\"histfunc\": \"count\", \"histnorm\": \"\", \"marker\": {\"color\": \"rgba(0, 200, 200, 1.0)\", \"line\": {\"color\": \"#FFFFFF\", \"width\": 1.3}}, \"name\": \"Age\", \"nbinsx\": 100, \"opacity\": 0.7, \"orientation\": \"v\", \"type\": \"histogram\", \"x\": [79, 79, 79, 79, 79, 79, 79, 79, 79, 69, 69, 69, 69, 69, 69, 69, 69, 69, 60, 60, 60, 60, 60, 60, 60, 60, 60, 72, 72, 72, 72, 72, 72, 72, 72, 72, 65, 65, 65, 65, 65, 65, 65, 65, 65, 56, 56, 56, 56, 56, 56, 56, 56, 56, 71, 71, 71, 71, 71, 71, 71, 71, 83, 83, 83, 83, 83, 83, 83, 83, 83, 66, 66, 66, 66, 66, 66, 66, 66, 66, 71, 71, 71, 71, 71, 71, 71, 71, 71, 65, 65, 65, 65, 65, 65, 65, 65, 65, 57, 57, 57, 57, 57, 57, 57, 57, 57, 73, 73, 73, 73, 73, 73, 73, 73, 73, 69, 69, 69, 69, 69, 69, 69, 69, 63, 63, 63, 63, 63, 63, 63, 63, 63, 69, 69, 69, 69, 69, 69, 69, 69, 69, 71, 71, 71, 71, 71, 71, 71, 71, 71, 58, 58, 58, 58, 58, 58, 58, 58, 58, 68, 68, 68, 68, 68, 68, 70, 70, 70, 70, 70, 70, 70, 70, 70, 73, 73, 73, 73, 73, 73, 73, 73, 73, 54, 54, 54, 54, 54, 54, 54, 63, 63, 63, 63, 63, 63, 63, 63, 63, 68, 68, 68, 68, 68, 68, 68, 68, 68, 74, 74, 74, 74, 74, 74, 74, 74, 74, 64, 64, 64, 64, 64, 64, 64, 64, 73, 73, 73, 73, 73, 73, 73, 73, 73, 71, 71, 71, 71, 71, 71, 71, 71, 71, 69, 69, 69, 69, 69, 69, 69, 69, 52, 52, 52, 52, 52, 52, 52, 52, 52, 51, 51, 51, 51, 51, 51, 51, 51, 51, 70, 70, 70, 70, 70, 70, 70, 70, 70, 55, 55, 55, 55, 55, 55, 55, 55, 55, 49, 49, 49, 49, 49, 49, 49, 49, 49, 65, 65, 65, 65, 65, 65, 65, 65, 65, 63, 63, 63, 63, 63, 63, 63, 63, 63, 69, 69, 69, 69, 69, 69, 69, 69, 69, 69, 69, 69, 69, 69, 69, 69, 69, 64, 64, 64, 64, 64, 64, 64, 64, 64, 68, 68, 68, 68, 68, 68, 68, 68, 68, 68, 60, 60, 60, 60, 60, 60, 60, 60, 60, 74, 74, 74, 74, 74, 74, 74, 74, 64, 64, 64, 64, 64, 64, 64, 64, 64, 64, 73, 73, 73, 73, 73, 73, 73, 73, 73, 73, 73, 73, 73, 73, 73, 73, 73, 73, 74, 74, 74, 74, 74, 74, 74, 74, 72, 72, 72, 72, 72, 72, 72, 77, 77, 77, 77, 77, 77, 77, 77, 68, 68, 68, 68, 68, 68, 68, 68, 68, 57, 57, 57, 57, 57, 57, 57, 57, 57, 57, 58, 58, 58, 58, 58, 58, 58, 58, 58, 69, 69, 69, 69, 69, 69, 69, 69, 69, 60, 60, 60, 60, 60, 60, 60, 60, 60, 65, 65, 65, 65, 65, 65, 65, 65, 78, 78, 78, 78, 78, 78, 78, 78, 78, 55, 55, 55, 55, 55, 55, 55, 55, 55, 87, 87, 87, 87, 87, 87, 87, 71, 71, 71, 71, 71, 71, 71, 71, 71, 65, 65, 65, 65, 65, 65, 65, 65, 65, 61, 61, 61, 61, 61, 61, 61, 61, 61, 69, 69, 69, 69, 69, 69, 69, 69, 69, 83, 83, 83, 83, 83, 83, 83, 83, 83, 67, 67, 67, 67, 67, 67, 67, 67, 67, 65, 65, 65, 65, 65, 65, 65, 65, 65, 64, 64, 64, 64, 64, 64, 64, 64, 64, 66, 66, 66, 66, 66, 66, 66, 66, 66, 76, 76, 76, 76, 76, 76, 76, 76, 76, 58, 58, 58, 58, 58, 58, 58, 58, 58, 58, 66, 66, 66, 66, 66, 66, 66, 66, 66, 63, 63, 63, 63, 63, 63, 63, 63, 63, 54, 54, 54, 54, 54, 54, 54, 54, 54, 58, 58, 58, 58, 58, 58, 58, 58, 58, 58, 62, 62, 62, 62, 62, 62, 62, 62, 62, 66, 66, 66, 66, 66, 66, 66, 66, 66, 79, 79, 79, 79, 79, 79, 79, 79, 79, 73, 73, 73, 73, 73, 73, 73, 73, 73, 73, 73, 73, 73, 73, 73, 73, 73, 73, 68, 68, 68, 68, 68, 68, 68, 68, 68, 71, 71, 71, 71, 71, 71, 71, 71, 71, 52, 52, 52, 52, 52, 52, 52, 52, 52, 69, 69, 69, 69, 69, 69, 69, 69, 69, 69, 69, 69, 69, 69, 69, 69, 56, 56, 56, 56, 56, 56, 56, 56, 56, 65, 65, 65, 65, 65, 65, 65, 65, 65, 65, 65, 65, 65, 65, 65, 65, 65, 65, 62, 62, 62, 62, 62, 62, 62, 62, 62, 64, 64, 64, 64, 64, 64, 64, 64, 64, 67, 67, 67, 67, 67, 67, 67, 67, 67, 76, 76, 76, 76, 76, 76, 76, 76, 76, 70, 70, 70, 70, 70, 70, 70, 70, 70, 69, 69, 69, 69, 69, 69, 69, 69, 69, 65, 65, 65, 65, 65, 65, 65, 65, 65, 81, 81, 81, 81, 81, 81, 81, 81, 81, 71, 71, 71, 71, 71, 71, 71, 71, 71, 76, 76, 76, 76, 76, 76, 76, 76, 76, 70, 70, 70, 70, 70, 70, 70, 70, 70, 72, 72, 72, 72, 72, 72, 72, 72, 72, 77, 77, 77, 77, 77, 77, 77, 77, 58, 58, 58, 58, 58, 58, 58, 58, 58, 71, 71, 71, 71, 71, 71, 71, 71, 71, 71, 74, 74, 74, 74, 74, 74, 74, 74, 74, 68, 68, 68, 68, 68, 68, 68, 68, 68, 66, 66, 66, 66, 66, 66, 66, 66, 67, 67, 67, 67, 67, 67, 67, 67, 67, 63, 63, 63, 63, 63, 63, 63, 63, 63, 66, 66, 66, 66, 66, 66, 66, 66, 66, 64, 64, 64, 64, 64, 64, 64, 64, 64, 71, 71, 71, 71, 71, 71, 71, 71, 71, 56, 56, 56, 56, 56, 56, 56, 56, 88, 88, 88, 88, 88, 88, 88, 88, 88, 62, 62, 62, 62, 62, 62, 62, 62, 76, 76, 76, 76, 76, 76, 76, 76, 70, 70, 70, 70, 70, 70, 60, 60, 60, 60, 60, 60, 60, 60, 60, 62, 62, 62, 62, 62, 62, 62, 62, 62, 77, 77, 77, 77, 77, 77, 77, 70, 70, 70, 70, 70, 70, 70, 70, 70, 60, 60, 60, 60, 60, 60, 60, 60, 60, 61, 61, 61, 61, 61, 61, 61, 61, 61, 63, 63, 63, 63, 63, 63, 63, 63, 75, 75, 75, 75, 75, 75, 75, 75, 72, 72, 72, 72, 72, 72, 72, 72, 72, 74, 74, 74, 74, 74, 74, 74, 74, 74, 58, 58, 58, 58, 58, 58, 58, 58, 67, 67, 67, 67, 67, 67, 67, 67, 67, 78, 78, 78, 78, 78, 78, 78, 78, 78, 62, 62, 62, 62, 62, 62, 62, 62, 62, 65, 65, 65, 65, 65, 65, 65, 65, 65, 73, 73, 73, 73, 73, 73, 73, 73, 73, 72, 72, 72, 72, 72, 72, 72, 72, 72, 64, 64, 64, 64, 64, 64, 64, 64, 72, 72, 72, 72, 72, 72, 72, 72, 72, 59, 59, 59, 59, 59, 59, 59, 59, 59, 77, 77, 77, 77, 77, 77, 77, 77, 69, 69, 69, 69, 69, 69, 69, 69, 69, 69, 69, 69, 69, 69, 69, 69, 69, 69, 74, 74, 74, 74, 74, 74, 74, 74, 74, 56, 56, 56, 56, 56, 56, 56, 56, 69, 69, 69, 69, 69, 69, 69, 69, 69, 64, 64, 64, 64, 64, 64, 64, 64, 64, 68, 68, 68, 68, 68, 68, 68, 68, 68, 68, 68, 68, 68, 68, 68, 68, 68, 68, 72, 72, 72, 72, 72, 72, 72, 72, 72, 68, 68, 68, 68, 68, 68, 68, 68, 68, 68, 58, 58, 58, 58, 58, 58, 58, 78, 78, 78, 78, 78, 78, 78, 78, 78, 65, 65, 65, 65, 65, 65, 65, 65, 65, 65, 65, 65, 65, 65, 65, 65, 65, 79, 79, 79, 79, 79, 79, 79, 79, 79, 64, 64, 64, 64, 64, 64, 64, 64, 64, 71, 71, 71, 71, 71, 71, 71, 71, 57, 57, 57, 57, 57, 57, 57, 57, 57, 65, 65, 65, 65, 65, 65, 65, 65, 65, 75, 75, 75, 75, 75, 75, 75, 75, 75, 71, 71, 71, 71, 71, 71, 71, 71, 71, 72, 72, 72, 72, 72, 72, 72, 72, 72, 56, 56, 56, 56, 56, 56, 56, 56, 56, 62, 62, 62, 62, 62, 62, 62, 64, 64, 64, 64, 64, 64, 64, 64, 64, 53, 53, 53, 53, 53, 53, 53, 53, 53, 53, 66, 66, 66, 66, 66, 66, 66, 66, 66, 67, 67, 67, 67, 67, 67, 67, 67, 67, 70, 70, 70, 70, 70, 70, 70, 70, 55, 55, 55, 55, 55, 55, 55, 55, 55, 55, 74, 74, 74, 74, 74, 74, 74, 74, 74, 61, 61, 61, 61, 61, 61, 61, 61, 61, 66, 66, 66, 66, 66, 66, 66, 66, 66, 74, 74, 74, 74, 74, 74, 74, 74, 65, 65, 65, 65, 65, 65, 65, 65, 65, 65, 65, 65, 65, 65, 65, 65, 65, 65, 66, 66, 66, 66, 66, 66, 66, 66, 66, 73, 73, 73, 73, 73, 73, 73, 73, 73, 68, 68, 68, 68, 68, 68, 68, 68, 68, 68, 73, 73, 73, 73, 73, 73, 73, 73, 72, 72, 72, 72, 72, 72, 72, 72, 72, 73, 73, 73, 73, 73, 73, 73, 73, 73]}],                        {\"bargap\": 0.01, \"barmode\": \"overlay\", \"legend\": {\"bgcolor\": \"#FFFFFF\", \"font\": {\"color\": \"#4D5663\"}}, \"paper_bgcolor\": \"#FFFFFF\", \"plot_bgcolor\": \"#FFFFFF\", \"template\": {\"data\": {\"bar\": [{\"error_x\": {\"color\": \"#2a3f5f\"}, \"error_y\": {\"color\": \"#2a3f5f\"}, \"marker\": {\"line\": {\"color\": \"#E5ECF6\", \"width\": 0.5}}, \"type\": \"bar\"}], \"barpolar\": [{\"marker\": {\"line\": {\"color\": \"#E5ECF6\", \"width\": 0.5}}, \"type\": \"barpolar\"}], \"carpet\": [{\"aaxis\": {\"endlinecolor\": \"#2a3f5f\", \"gridcolor\": \"white\", \"linecolor\": \"white\", \"minorgridcolor\": \"white\", \"startlinecolor\": \"#2a3f5f\"}, \"baxis\": {\"endlinecolor\": \"#2a3f5f\", \"gridcolor\": \"white\", \"linecolor\": \"white\", \"minorgridcolor\": \"white\", \"startlinecolor\": \"#2a3f5f\"}, \"type\": \"carpet\"}], \"choropleth\": [{\"colorbar\": {\"outlinewidth\": 0, \"ticks\": \"\"}, \"type\": \"choropleth\"}], \"contour\": [{\"colorbar\": {\"outlinewidth\": 0, \"ticks\": \"\"}, \"colorscale\": [[0.0, \"#0d0887\"], [0.1111111111111111, \"#46039f\"], [0.2222222222222222, \"#7201a8\"], [0.3333333333333333, \"#9c179e\"], [0.4444444444444444, \"#bd3786\"], [0.5555555555555556, \"#d8576b\"], [0.6666666666666666, \"#ed7953\"], [0.7777777777777778, \"#fb9f3a\"], [0.8888888888888888, \"#fdca26\"], [1.0, \"#f0f921\"]], \"type\": \"contour\"}], \"contourcarpet\": [{\"colorbar\": {\"outlinewidth\": 0, \"ticks\": \"\"}, \"type\": \"contourcarpet\"}], \"heatmap\": [{\"colorbar\": {\"outlinewidth\": 0, \"ticks\": \"\"}, \"colorscale\": [[0.0, \"#0d0887\"], [0.1111111111111111, \"#46039f\"], [0.2222222222222222, \"#7201a8\"], [0.3333333333333333, \"#9c179e\"], [0.4444444444444444, \"#bd3786\"], [0.5555555555555556, \"#d8576b\"], [0.6666666666666666, \"#ed7953\"], [0.7777777777777778, \"#fb9f3a\"], [0.8888888888888888, \"#fdca26\"], [1.0, \"#f0f921\"]], \"type\": \"heatmap\"}], \"heatmapgl\": [{\"colorbar\": {\"outlinewidth\": 0, \"ticks\": \"\"}, \"colorscale\": [[0.0, \"#0d0887\"], [0.1111111111111111, \"#46039f\"], [0.2222222222222222, \"#7201a8\"], [0.3333333333333333, \"#9c179e\"], [0.4444444444444444, \"#bd3786\"], [0.5555555555555556, \"#d8576b\"], [0.6666666666666666, \"#ed7953\"], [0.7777777777777778, \"#fb9f3a\"], [0.8888888888888888, \"#fdca26\"], [1.0, \"#f0f921\"]], \"type\": \"heatmapgl\"}], \"histogram\": [{\"marker\": {\"colorbar\": {\"outlinewidth\": 0, \"ticks\": \"\"}}, \"type\": \"histogram\"}], \"histogram2d\": [{\"colorbar\": {\"outlinewidth\": 0, \"ticks\": \"\"}, \"colorscale\": [[0.0, \"#0d0887\"], [0.1111111111111111, \"#46039f\"], [0.2222222222222222, \"#7201a8\"], [0.3333333333333333, \"#9c179e\"], [0.4444444444444444, \"#bd3786\"], [0.5555555555555556, \"#d8576b\"], [0.6666666666666666, \"#ed7953\"], [0.7777777777777778, \"#fb9f3a\"], [0.8888888888888888, \"#fdca26\"], [1.0, \"#f0f921\"]], \"type\": \"histogram2d\"}], \"histogram2dcontour\": [{\"colorbar\": {\"outlinewidth\": 0, \"ticks\": \"\"}, \"colorscale\": [[0.0, \"#0d0887\"], [0.1111111111111111, \"#46039f\"], [0.2222222222222222, \"#7201a8\"], [0.3333333333333333, \"#9c179e\"], [0.4444444444444444, \"#bd3786\"], [0.5555555555555556, \"#d8576b\"], [0.6666666666666666, \"#ed7953\"], [0.7777777777777778, \"#fb9f3a\"], [0.8888888888888888, \"#fdca26\"], [1.0, \"#f0f921\"]], \"type\": \"histogram2dcontour\"}], \"mesh3d\": [{\"colorbar\": {\"outlinewidth\": 0, \"ticks\": \"\"}, \"type\": \"mesh3d\"}], \"parcoords\": [{\"line\": {\"colorbar\": {\"outlinewidth\": 0, \"ticks\": \"\"}}, \"type\": \"parcoords\"}], \"pie\": [{\"automargin\": true, \"type\": \"pie\"}], \"scatter\": [{\"marker\": {\"colorbar\": {\"outlinewidth\": 0, \"ticks\": \"\"}}, \"type\": \"scatter\"}], \"scatter3d\": [{\"line\": {\"colorbar\": {\"outlinewidth\": 0, \"ticks\": \"\"}}, \"marker\": {\"colorbar\": {\"outlinewidth\": 0, \"ticks\": \"\"}}, \"type\": \"scatter3d\"}], \"scattercarpet\": [{\"marker\": {\"colorbar\": {\"outlinewidth\": 0, \"ticks\": \"\"}}, \"type\": \"scattercarpet\"}], \"scattergeo\": [{\"marker\": {\"colorbar\": {\"outlinewidth\": 0, \"ticks\": \"\"}}, \"type\": \"scattergeo\"}], \"scattergl\": [{\"marker\": {\"colorbar\": {\"outlinewidth\": 0, \"ticks\": \"\"}}, \"type\": \"scattergl\"}], \"scattermapbox\": [{\"marker\": {\"colorbar\": {\"outlinewidth\": 0, \"ticks\": \"\"}}, \"type\": \"scattermapbox\"}], \"scatterpolar\": [{\"marker\": {\"colorbar\": {\"outlinewidth\": 0, \"ticks\": \"\"}}, \"type\": \"scatterpolar\"}], \"scatterpolargl\": [{\"marker\": {\"colorbar\": {\"outlinewidth\": 0, \"ticks\": \"\"}}, \"type\": \"scatterpolargl\"}], \"scatterternary\": [{\"marker\": {\"colorbar\": {\"outlinewidth\": 0, \"ticks\": \"\"}}, \"type\": \"scatterternary\"}], \"surface\": [{\"colorbar\": {\"outlinewidth\": 0, \"ticks\": \"\"}, \"colorscale\": [[0.0, \"#0d0887\"], [0.1111111111111111, \"#46039f\"], [0.2222222222222222, \"#7201a8\"], [0.3333333333333333, \"#9c179e\"], [0.4444444444444444, \"#bd3786\"], [0.5555555555555556, \"#d8576b\"], [0.6666666666666666, \"#ed7953\"], [0.7777777777777778, \"#fb9f3a\"], [0.8888888888888888, \"#fdca26\"], [1.0, \"#f0f921\"]], \"type\": \"surface\"}], \"table\": [{\"cells\": {\"fill\": {\"color\": \"#EBF0F8\"}, \"line\": {\"color\": \"white\"}}, \"header\": {\"fill\": {\"color\": \"#C8D4E3\"}, \"line\": {\"color\": \"white\"}}, \"type\": \"table\"}]}, \"layout\": {\"annotationdefaults\": {\"arrowcolor\": \"#2a3f5f\", \"arrowhead\": 0, \"arrowwidth\": 1}, \"autotypenumbers\": \"strict\", \"coloraxis\": {\"colorbar\": {\"outlinewidth\": 0, \"ticks\": \"\"}}, \"colorscale\": {\"diverging\": [[0, \"#8e0152\"], [0.1, \"#c51b7d\"], [0.2, \"#de77ae\"], [0.3, \"#f1b6da\"], [0.4, \"#fde0ef\"], [0.5, \"#f7f7f7\"], [0.6, \"#e6f5d0\"], [0.7, \"#b8e186\"], [0.8, \"#7fbc41\"], [0.9, \"#4d9221\"], [1, \"#276419\"]], \"sequential\": [[0.0, \"#0d0887\"], [0.1111111111111111, \"#46039f\"], [0.2222222222222222, \"#7201a8\"], [0.3333333333333333, \"#9c179e\"], [0.4444444444444444, \"#bd3786\"], [0.5555555555555556, \"#d8576b\"], [0.6666666666666666, \"#ed7953\"], [0.7777777777777778, \"#fb9f3a\"], [0.8888888888888888, \"#fdca26\"], [1.0, \"#f0f921\"]], \"sequentialminus\": [[0.0, \"#0d0887\"], [0.1111111111111111, \"#46039f\"], [0.2222222222222222, \"#7201a8\"], [0.3333333333333333, \"#9c179e\"], [0.4444444444444444, \"#bd3786\"], [0.5555555555555556, \"#d8576b\"], [0.6666666666666666, \"#ed7953\"], [0.7777777777777778, \"#fb9f3a\"], [0.8888888888888888, \"#fdca26\"], [1.0, \"#f0f921\"]]}, \"colorway\": [\"#636efa\", \"#EF553B\", \"#00cc96\", \"#ab63fa\", \"#FFA15A\", \"#19d3f3\", \"#FF6692\", \"#B6E880\", \"#FF97FF\", \"#FECB52\"], \"font\": {\"color\": \"#2a3f5f\"}, \"geo\": {\"bgcolor\": \"white\", \"lakecolor\": \"white\", \"landcolor\": \"#E5ECF6\", \"showlakes\": true, \"showland\": true, \"subunitcolor\": \"white\"}, \"hoverlabel\": {\"align\": \"left\"}, \"hovermode\": \"closest\", \"mapbox\": {\"style\": \"light\"}, \"paper_bgcolor\": \"white\", \"plot_bgcolor\": \"#E5ECF6\", \"polar\": {\"angularaxis\": {\"gridcolor\": \"white\", \"linecolor\": \"white\", \"ticks\": \"\"}, \"bgcolor\": \"#E5ECF6\", \"radialaxis\": {\"gridcolor\": \"white\", \"linecolor\": \"white\", \"ticks\": \"\"}}, \"scene\": {\"xaxis\": {\"backgroundcolor\": \"#E5ECF6\", \"gridcolor\": \"white\", \"gridwidth\": 2, \"linecolor\": \"white\", \"showbackground\": true, \"ticks\": \"\", \"zerolinecolor\": \"white\"}, \"yaxis\": {\"backgroundcolor\": \"#E5ECF6\", \"gridcolor\": \"white\", \"gridwidth\": 2, \"linecolor\": \"white\", \"showbackground\": true, \"ticks\": \"\", \"zerolinecolor\": \"white\"}, \"zaxis\": {\"backgroundcolor\": \"#E5ECF6\", \"gridcolor\": \"white\", \"gridwidth\": 2, \"linecolor\": \"white\", \"showbackground\": true, \"ticks\": \"\", \"zerolinecolor\": \"white\"}}, \"shapedefaults\": {\"line\": {\"color\": \"#2a3f5f\"}}, \"ternary\": {\"aaxis\": {\"gridcolor\": \"white\", \"linecolor\": \"white\", \"ticks\": \"\"}, \"baxis\": {\"gridcolor\": \"white\", \"linecolor\": \"white\", \"ticks\": \"\"}, \"bgcolor\": \"#E5ECF6\", \"caxis\": {\"gridcolor\": \"white\", \"linecolor\": \"white\", \"ticks\": \"\"}}, \"title\": {\"x\": 0.05}, \"xaxis\": {\"automargin\": true, \"gridcolor\": \"white\", \"linecolor\": \"white\", \"ticks\": \"\", \"title\": {\"standoff\": 15}, \"zerolinecolor\": \"white\", \"zerolinewidth\": 2}, \"yaxis\": {\"automargin\": true, \"gridcolor\": \"white\", \"linecolor\": \"white\", \"ticks\": \"\", \"title\": {\"standoff\": 15}, \"zerolinecolor\": \"white\", \"zerolinewidth\": 2}}}, \"title\": {\"font\": {\"color\": \"#4D5663\"}, \"text\": \"Distribution of Age in Training data\"}, \"xaxis\": {\"gridcolor\": \"#E1E5ED\", \"linecolor\": \"white\", \"showgrid\": true, \"tickfont\": {\"color\": \"#4D5663\"}, \"title\": {\"font\": {\"color\": \"#4D5663\"}, \"text\": \"Age\"}, \"zerolinecolor\": \"#E1E5ED\"}, \"yaxis\": {\"gridcolor\": \"#E1E5ED\", \"linecolor\": \"white\", \"showgrid\": true, \"tickfont\": {\"color\": \"#4D5663\"}, \"title\": {\"font\": {\"color\": \"#4D5663\"}, \"text\": \"Frequency\"}, \"zerolinecolor\": \"#E1E5ED\"}},                        {\"showLink\": true, \"linkText\": \"Export to plot.ly\", \"plotlyServerURL\": \"https://plot.ly\", \"responsive\": true}                    ).then(function(){\n",
       "                            \n",
       "var gd = document.getElementById('f1c0cbe4-78f9-4e85-9d39-0f1653ab1ec7');\n",
       "var x = new MutationObserver(function (mutations, observer) {{\n",
       "        var display = window.getComputedStyle(gd).display;\n",
       "        if (!display || display === 'none') {{\n",
       "            console.log([gd, 'removed!']);\n",
       "            Plotly.purge(gd);\n",
       "            observer.disconnect();\n",
       "        }}\n",
       "}});\n",
       "\n",
       "// Listen for the removal of the full notebook cells\n",
       "var notebookContainer = gd.closest('#notebook-container');\n",
       "if (notebookContainer) {{\n",
       "    x.observe(notebookContainer, {childList: true});\n",
       "}}\n",
       "\n",
       "// Listen for the clearing of the current output cell\n",
       "var outputEl = gd.closest('.output');\n",
       "if (outputEl) {{\n",
       "    x.observe(outputEl, {childList: true});\n",
       "}}\n",
       "\n",
       "                        })                };                });            </script>        </div>"
      ]
     },
     "metadata": {},
     "output_type": "display_data"
    }
   ],
   "source": [
    "train_final_dataframe['Age'].iplot(kind='hist',\n",
    "                        bins=100, xTitle='Age', yTitle='Frequency', \n",
    "                        linecolor='white',opacity=0.7,\n",
    "                        color='rgb(0, 200, 200)', theme='white',\n",
    "                        bargap=0.01, title='Distribution of Age in Training data')"
   ]
  },
  {
   "cell_type": "markdown",
   "id": "neutral-palestine",
   "metadata": {},
   "source": [
    "### Plotting male and female frequencies\n",
    "- Male frequency is 139\n",
    "- Female frequency is 37\n",
    "- More male patient than female patient"
   ]
  },
  {
   "cell_type": "code",
   "execution_count": 28,
   "id": "discrete-chicken",
   "metadata": {},
   "outputs": [
    {
     "data": {
      "application/vnd.plotly.v1+json": {
       "config": {
        "linkText": "Export to plot.ly",
        "plotlyServerURL": "https://plot.ly",
        "showLink": true
       },
       "data": [
        {
         "histfunc": "count",
         "histnorm": "",
         "marker": {
          "color": "rgba(0, 200, 200, 1.0)",
          "line": {
           "color": "#FFFFFF",
           "width": 1.3
          }
         },
         "name": "Sex",
         "nbinsx": 100,
         "opacity": 0.7,
         "orientation": "v",
         "type": "histogram",
         "x": [
          "Male",
          "Male",
          "Male",
          "Male",
          "Male",
          "Male",
          "Male",
          "Female",
          "Female",
          "Female",
          "Male",
          "Male",
          "Male",
          "Male",
          "Male",
          "Male",
          "Male",
          "Male",
          "Male",
          "Female",
          "Female",
          "Male",
          "Male",
          "Male",
          "Male",
          "Male",
          "Male",
          "Male",
          "Male",
          "Female",
          "Male",
          "Male",
          "Female",
          "Female",
          "Female",
          "Male",
          "Male",
          "Male",
          "Male",
          "Male",
          "Male",
          "Male",
          "Male",
          "Male",
          "Male",
          "Male",
          "Male",
          "Male",
          "Male",
          "Male",
          "Male",
          "Female",
          "Male",
          "Male",
          "Male",
          "Female",
          "Female",
          "Male",
          "Female",
          "Male",
          "Male",
          "Male",
          "Male",
          "Male",
          "Male",
          "Male",
          "Male",
          "Male",
          "Female",
          "Male",
          "Male",
          "Male",
          "Male",
          "Female",
          "Female",
          "Male",
          "Male",
          "Male",
          "Male",
          "Male",
          "Male",
          "Male",
          "Female",
          "Male",
          "Male",
          "Male",
          "Male",
          "Male",
          "Male",
          "Male",
          "Male",
          "Male",
          "Male",
          "Male",
          "Female",
          "Male",
          "Male",
          "Female",
          "Female",
          "Male",
          "Female",
          "Male",
          "Male",
          "Male",
          "Male",
          "Female",
          "Male",
          "Female",
          "Male",
          "Male",
          "Female",
          "Female",
          "Female",
          "Male",
          "Female",
          "Male",
          "Male",
          "Male",
          "Female",
          "Female",
          "Male",
          "Male",
          "Male",
          "Male",
          "Female",
          "Male",
          "Male",
          "Male",
          "Male",
          "Female",
          "Male",
          "Male",
          "Male",
          "Male",
          "Male",
          "Male",
          "Male",
          "Male",
          "Male",
          "Male",
          "Male",
          "Female",
          "Male",
          "Female",
          "Male",
          "Male",
          "Male",
          "Male",
          "Male",
          "Male",
          "Male",
          "Female",
          "Male",
          "Male",
          "Male",
          "Male",
          "Male",
          "Male",
          "Female",
          "Male",
          "Male",
          "Male",
          "Male",
          "Male",
          "Female",
          "Female",
          "Male",
          "Male",
          "Male",
          "Male",
          "Male",
          "Male",
          "Male",
          "Male",
          "Male",
          "Male"
         ]
        }
       ],
       "layout": {
        "bargap": 0.01,
        "barmode": "overlay",
        "legend": {
         "bgcolor": "#FFFFFF",
         "font": {
          "color": "#4D5663"
         }
        },
        "paper_bgcolor": "#FFFFFF",
        "plot_bgcolor": "#FFFFFF",
        "template": {
         "data": {
          "bar": [
           {
            "error_x": {
             "color": "#2a3f5f"
            },
            "error_y": {
             "color": "#2a3f5f"
            },
            "marker": {
             "line": {
              "color": "#E5ECF6",
              "width": 0.5
             }
            },
            "type": "bar"
           }
          ],
          "barpolar": [
           {
            "marker": {
             "line": {
              "color": "#E5ECF6",
              "width": 0.5
             }
            },
            "type": "barpolar"
           }
          ],
          "carpet": [
           {
            "aaxis": {
             "endlinecolor": "#2a3f5f",
             "gridcolor": "white",
             "linecolor": "white",
             "minorgridcolor": "white",
             "startlinecolor": "#2a3f5f"
            },
            "baxis": {
             "endlinecolor": "#2a3f5f",
             "gridcolor": "white",
             "linecolor": "white",
             "minorgridcolor": "white",
             "startlinecolor": "#2a3f5f"
            },
            "type": "carpet"
           }
          ],
          "choropleth": [
           {
            "colorbar": {
             "outlinewidth": 0,
             "ticks": ""
            },
            "type": "choropleth"
           }
          ],
          "contour": [
           {
            "colorbar": {
             "outlinewidth": 0,
             "ticks": ""
            },
            "colorscale": [
             [
              0,
              "#0d0887"
             ],
             [
              0.1111111111111111,
              "#46039f"
             ],
             [
              0.2222222222222222,
              "#7201a8"
             ],
             [
              0.3333333333333333,
              "#9c179e"
             ],
             [
              0.4444444444444444,
              "#bd3786"
             ],
             [
              0.5555555555555556,
              "#d8576b"
             ],
             [
              0.6666666666666666,
              "#ed7953"
             ],
             [
              0.7777777777777778,
              "#fb9f3a"
             ],
             [
              0.8888888888888888,
              "#fdca26"
             ],
             [
              1,
              "#f0f921"
             ]
            ],
            "type": "contour"
           }
          ],
          "contourcarpet": [
           {
            "colorbar": {
             "outlinewidth": 0,
             "ticks": ""
            },
            "type": "contourcarpet"
           }
          ],
          "heatmap": [
           {
            "colorbar": {
             "outlinewidth": 0,
             "ticks": ""
            },
            "colorscale": [
             [
              0,
              "#0d0887"
             ],
             [
              0.1111111111111111,
              "#46039f"
             ],
             [
              0.2222222222222222,
              "#7201a8"
             ],
             [
              0.3333333333333333,
              "#9c179e"
             ],
             [
              0.4444444444444444,
              "#bd3786"
             ],
             [
              0.5555555555555556,
              "#d8576b"
             ],
             [
              0.6666666666666666,
              "#ed7953"
             ],
             [
              0.7777777777777778,
              "#fb9f3a"
             ],
             [
              0.8888888888888888,
              "#fdca26"
             ],
             [
              1,
              "#f0f921"
             ]
            ],
            "type": "heatmap"
           }
          ],
          "heatmapgl": [
           {
            "colorbar": {
             "outlinewidth": 0,
             "ticks": ""
            },
            "colorscale": [
             [
              0,
              "#0d0887"
             ],
             [
              0.1111111111111111,
              "#46039f"
             ],
             [
              0.2222222222222222,
              "#7201a8"
             ],
             [
              0.3333333333333333,
              "#9c179e"
             ],
             [
              0.4444444444444444,
              "#bd3786"
             ],
             [
              0.5555555555555556,
              "#d8576b"
             ],
             [
              0.6666666666666666,
              "#ed7953"
             ],
             [
              0.7777777777777778,
              "#fb9f3a"
             ],
             [
              0.8888888888888888,
              "#fdca26"
             ],
             [
              1,
              "#f0f921"
             ]
            ],
            "type": "heatmapgl"
           }
          ],
          "histogram": [
           {
            "marker": {
             "colorbar": {
              "outlinewidth": 0,
              "ticks": ""
             }
            },
            "type": "histogram"
           }
          ],
          "histogram2d": [
           {
            "colorbar": {
             "outlinewidth": 0,
             "ticks": ""
            },
            "colorscale": [
             [
              0,
              "#0d0887"
             ],
             [
              0.1111111111111111,
              "#46039f"
             ],
             [
              0.2222222222222222,
              "#7201a8"
             ],
             [
              0.3333333333333333,
              "#9c179e"
             ],
             [
              0.4444444444444444,
              "#bd3786"
             ],
             [
              0.5555555555555556,
              "#d8576b"
             ],
             [
              0.6666666666666666,
              "#ed7953"
             ],
             [
              0.7777777777777778,
              "#fb9f3a"
             ],
             [
              0.8888888888888888,
              "#fdca26"
             ],
             [
              1,
              "#f0f921"
             ]
            ],
            "type": "histogram2d"
           }
          ],
          "histogram2dcontour": [
           {
            "colorbar": {
             "outlinewidth": 0,
             "ticks": ""
            },
            "colorscale": [
             [
              0,
              "#0d0887"
             ],
             [
              0.1111111111111111,
              "#46039f"
             ],
             [
              0.2222222222222222,
              "#7201a8"
             ],
             [
              0.3333333333333333,
              "#9c179e"
             ],
             [
              0.4444444444444444,
              "#bd3786"
             ],
             [
              0.5555555555555556,
              "#d8576b"
             ],
             [
              0.6666666666666666,
              "#ed7953"
             ],
             [
              0.7777777777777778,
              "#fb9f3a"
             ],
             [
              0.8888888888888888,
              "#fdca26"
             ],
             [
              1,
              "#f0f921"
             ]
            ],
            "type": "histogram2dcontour"
           }
          ],
          "mesh3d": [
           {
            "colorbar": {
             "outlinewidth": 0,
             "ticks": ""
            },
            "type": "mesh3d"
           }
          ],
          "parcoords": [
           {
            "line": {
             "colorbar": {
              "outlinewidth": 0,
              "ticks": ""
             }
            },
            "type": "parcoords"
           }
          ],
          "pie": [
           {
            "automargin": true,
            "type": "pie"
           }
          ],
          "scatter": [
           {
            "marker": {
             "colorbar": {
              "outlinewidth": 0,
              "ticks": ""
             }
            },
            "type": "scatter"
           }
          ],
          "scatter3d": [
           {
            "line": {
             "colorbar": {
              "outlinewidth": 0,
              "ticks": ""
             }
            },
            "marker": {
             "colorbar": {
              "outlinewidth": 0,
              "ticks": ""
             }
            },
            "type": "scatter3d"
           }
          ],
          "scattercarpet": [
           {
            "marker": {
             "colorbar": {
              "outlinewidth": 0,
              "ticks": ""
             }
            },
            "type": "scattercarpet"
           }
          ],
          "scattergeo": [
           {
            "marker": {
             "colorbar": {
              "outlinewidth": 0,
              "ticks": ""
             }
            },
            "type": "scattergeo"
           }
          ],
          "scattergl": [
           {
            "marker": {
             "colorbar": {
              "outlinewidth": 0,
              "ticks": ""
             }
            },
            "type": "scattergl"
           }
          ],
          "scattermapbox": [
           {
            "marker": {
             "colorbar": {
              "outlinewidth": 0,
              "ticks": ""
             }
            },
            "type": "scattermapbox"
           }
          ],
          "scatterpolar": [
           {
            "marker": {
             "colorbar": {
              "outlinewidth": 0,
              "ticks": ""
             }
            },
            "type": "scatterpolar"
           }
          ],
          "scatterpolargl": [
           {
            "marker": {
             "colorbar": {
              "outlinewidth": 0,
              "ticks": ""
             }
            },
            "type": "scatterpolargl"
           }
          ],
          "scatterternary": [
           {
            "marker": {
             "colorbar": {
              "outlinewidth": 0,
              "ticks": ""
             }
            },
            "type": "scatterternary"
           }
          ],
          "surface": [
           {
            "colorbar": {
             "outlinewidth": 0,
             "ticks": ""
            },
            "colorscale": [
             [
              0,
              "#0d0887"
             ],
             [
              0.1111111111111111,
              "#46039f"
             ],
             [
              0.2222222222222222,
              "#7201a8"
             ],
             [
              0.3333333333333333,
              "#9c179e"
             ],
             [
              0.4444444444444444,
              "#bd3786"
             ],
             [
              0.5555555555555556,
              "#d8576b"
             ],
             [
              0.6666666666666666,
              "#ed7953"
             ],
             [
              0.7777777777777778,
              "#fb9f3a"
             ],
             [
              0.8888888888888888,
              "#fdca26"
             ],
             [
              1,
              "#f0f921"
             ]
            ],
            "type": "surface"
           }
          ],
          "table": [
           {
            "cells": {
             "fill": {
              "color": "#EBF0F8"
             },
             "line": {
              "color": "white"
             }
            },
            "header": {
             "fill": {
              "color": "#C8D4E3"
             },
             "line": {
              "color": "white"
             }
            },
            "type": "table"
           }
          ]
         },
         "layout": {
          "annotationdefaults": {
           "arrowcolor": "#2a3f5f",
           "arrowhead": 0,
           "arrowwidth": 1
          },
          "autotypenumbers": "strict",
          "coloraxis": {
           "colorbar": {
            "outlinewidth": 0,
            "ticks": ""
           }
          },
          "colorscale": {
           "diverging": [
            [
             0,
             "#8e0152"
            ],
            [
             0.1,
             "#c51b7d"
            ],
            [
             0.2,
             "#de77ae"
            ],
            [
             0.3,
             "#f1b6da"
            ],
            [
             0.4,
             "#fde0ef"
            ],
            [
             0.5,
             "#f7f7f7"
            ],
            [
             0.6,
             "#e6f5d0"
            ],
            [
             0.7,
             "#b8e186"
            ],
            [
             0.8,
             "#7fbc41"
            ],
            [
             0.9,
             "#4d9221"
            ],
            [
             1,
             "#276419"
            ]
           ],
           "sequential": [
            [
             0,
             "#0d0887"
            ],
            [
             0.1111111111111111,
             "#46039f"
            ],
            [
             0.2222222222222222,
             "#7201a8"
            ],
            [
             0.3333333333333333,
             "#9c179e"
            ],
            [
             0.4444444444444444,
             "#bd3786"
            ],
            [
             0.5555555555555556,
             "#d8576b"
            ],
            [
             0.6666666666666666,
             "#ed7953"
            ],
            [
             0.7777777777777778,
             "#fb9f3a"
            ],
            [
             0.8888888888888888,
             "#fdca26"
            ],
            [
             1,
             "#f0f921"
            ]
           ],
           "sequentialminus": [
            [
             0,
             "#0d0887"
            ],
            [
             0.1111111111111111,
             "#46039f"
            ],
            [
             0.2222222222222222,
             "#7201a8"
            ],
            [
             0.3333333333333333,
             "#9c179e"
            ],
            [
             0.4444444444444444,
             "#bd3786"
            ],
            [
             0.5555555555555556,
             "#d8576b"
            ],
            [
             0.6666666666666666,
             "#ed7953"
            ],
            [
             0.7777777777777778,
             "#fb9f3a"
            ],
            [
             0.8888888888888888,
             "#fdca26"
            ],
            [
             1,
             "#f0f921"
            ]
           ]
          },
          "colorway": [
           "#636efa",
           "#EF553B",
           "#00cc96",
           "#ab63fa",
           "#FFA15A",
           "#19d3f3",
           "#FF6692",
           "#B6E880",
           "#FF97FF",
           "#FECB52"
          ],
          "font": {
           "color": "#2a3f5f"
          },
          "geo": {
           "bgcolor": "white",
           "lakecolor": "white",
           "landcolor": "#E5ECF6",
           "showlakes": true,
           "showland": true,
           "subunitcolor": "white"
          },
          "hoverlabel": {
           "align": "left"
          },
          "hovermode": "closest",
          "mapbox": {
           "style": "light"
          },
          "paper_bgcolor": "white",
          "plot_bgcolor": "#E5ECF6",
          "polar": {
           "angularaxis": {
            "gridcolor": "white",
            "linecolor": "white",
            "ticks": ""
           },
           "bgcolor": "#E5ECF6",
           "radialaxis": {
            "gridcolor": "white",
            "linecolor": "white",
            "ticks": ""
           }
          },
          "scene": {
           "xaxis": {
            "backgroundcolor": "#E5ECF6",
            "gridcolor": "white",
            "gridwidth": 2,
            "linecolor": "white",
            "showbackground": true,
            "ticks": "",
            "zerolinecolor": "white"
           },
           "yaxis": {
            "backgroundcolor": "#E5ECF6",
            "gridcolor": "white",
            "gridwidth": 2,
            "linecolor": "white",
            "showbackground": true,
            "ticks": "",
            "zerolinecolor": "white"
           },
           "zaxis": {
            "backgroundcolor": "#E5ECF6",
            "gridcolor": "white",
            "gridwidth": 2,
            "linecolor": "white",
            "showbackground": true,
            "ticks": "",
            "zerolinecolor": "white"
           }
          },
          "shapedefaults": {
           "line": {
            "color": "#2a3f5f"
           }
          },
          "ternary": {
           "aaxis": {
            "gridcolor": "white",
            "linecolor": "white",
            "ticks": ""
           },
           "baxis": {
            "gridcolor": "white",
            "linecolor": "white",
            "ticks": ""
           },
           "bgcolor": "#E5ECF6",
           "caxis": {
            "gridcolor": "white",
            "linecolor": "white",
            "ticks": ""
           }
          },
          "title": {
           "x": 0.05
          },
          "xaxis": {
           "automargin": true,
           "gridcolor": "white",
           "linecolor": "white",
           "ticks": "",
           "title": {
            "standoff": 15
           },
           "zerolinecolor": "white",
           "zerolinewidth": 2
          },
          "yaxis": {
           "automargin": true,
           "gridcolor": "white",
           "linecolor": "white",
           "ticks": "",
           "title": {
            "standoff": 15
           },
           "zerolinecolor": "white",
           "zerolinewidth": 2
          }
         }
        },
        "title": {
         "font": {
          "color": "#4D5663"
         },
         "text": "Distribution of Sexes in Training data"
        },
        "xaxis": {
         "gridcolor": "#E1E5ED",
         "linecolor": "white",
         "showgrid": true,
         "tickfont": {
          "color": "#4D5663"
         },
         "title": {
          "font": {
           "color": "#4D5663"
          },
          "text": "Sexes"
         },
         "zerolinecolor": "#E1E5ED"
        },
        "yaxis": {
         "gridcolor": "#E1E5ED",
         "linecolor": "white",
         "showgrid": true,
         "tickfont": {
          "color": "#4D5663"
         },
         "title": {
          "font": {
           "color": "#4D5663"
          },
          "text": "Frequency"
         },
         "zerolinecolor": "#E1E5ED"
        }
       }
      },
      "text/html": [
       "<div>                            <div id=\"77648eab-d406-434f-8f7b-d411d35f2a2a\" class=\"plotly-graph-div\" style=\"height:525px; width:100%;\"></div>            <script type=\"text/javascript\">                require([\"plotly\"], function(Plotly) {                    window.PLOTLYENV=window.PLOTLYENV || {};\n",
       "                    window.PLOTLYENV.BASE_URL='https://plot.ly';                                    if (document.getElementById(\"77648eab-d406-434f-8f7b-d411d35f2a2a\")) {                    Plotly.newPlot(                        \"77648eab-d406-434f-8f7b-d411d35f2a2a\",                        [{\"histfunc\": \"count\", \"histnorm\": \"\", \"marker\": {\"color\": \"rgba(0, 200, 200, 1.0)\", \"line\": {\"color\": \"#FFFFFF\", \"width\": 1.3}}, \"name\": \"Sex\", \"nbinsx\": 100, \"opacity\": 0.7, \"orientation\": \"v\", \"type\": \"histogram\", \"x\": [\"Male\", \"Male\", \"Male\", \"Male\", \"Male\", \"Male\", \"Male\", \"Female\", \"Female\", \"Female\", \"Male\", \"Male\", \"Male\", \"Male\", \"Male\", \"Male\", \"Male\", \"Male\", \"Male\", \"Female\", \"Female\", \"Male\", \"Male\", \"Male\", \"Male\", \"Male\", \"Male\", \"Male\", \"Male\", \"Female\", \"Male\", \"Male\", \"Female\", \"Female\", \"Female\", \"Male\", \"Male\", \"Male\", \"Male\", \"Male\", \"Male\", \"Male\", \"Male\", \"Male\", \"Male\", \"Male\", \"Male\", \"Male\", \"Male\", \"Male\", \"Male\", \"Female\", \"Male\", \"Male\", \"Male\", \"Female\", \"Female\", \"Male\", \"Female\", \"Male\", \"Male\", \"Male\", \"Male\", \"Male\", \"Male\", \"Male\", \"Male\", \"Male\", \"Female\", \"Male\", \"Male\", \"Male\", \"Male\", \"Female\", \"Female\", \"Male\", \"Male\", \"Male\", \"Male\", \"Male\", \"Male\", \"Male\", \"Female\", \"Male\", \"Male\", \"Male\", \"Male\", \"Male\", \"Male\", \"Male\", \"Male\", \"Male\", \"Male\", \"Male\", \"Female\", \"Male\", \"Male\", \"Female\", \"Female\", \"Male\", \"Female\", \"Male\", \"Male\", \"Male\", \"Male\", \"Female\", \"Male\", \"Female\", \"Male\", \"Male\", \"Female\", \"Female\", \"Female\", \"Male\", \"Female\", \"Male\", \"Male\", \"Male\", \"Female\", \"Female\", \"Male\", \"Male\", \"Male\", \"Male\", \"Female\", \"Male\", \"Male\", \"Male\", \"Male\", \"Female\", \"Male\", \"Male\", \"Male\", \"Male\", \"Male\", \"Male\", \"Male\", \"Male\", \"Male\", \"Male\", \"Male\", \"Female\", \"Male\", \"Female\", \"Male\", \"Male\", \"Male\", \"Male\", \"Male\", \"Male\", \"Male\", \"Female\", \"Male\", \"Male\", \"Male\", \"Male\", \"Male\", \"Male\", \"Female\", \"Male\", \"Male\", \"Male\", \"Male\", \"Male\", \"Female\", \"Female\", \"Male\", \"Male\", \"Male\", \"Male\", \"Male\", \"Male\", \"Male\", \"Male\", \"Male\", \"Male\"]}],                        {\"bargap\": 0.01, \"barmode\": \"overlay\", \"legend\": {\"bgcolor\": \"#FFFFFF\", \"font\": {\"color\": \"#4D5663\"}}, \"paper_bgcolor\": \"#FFFFFF\", \"plot_bgcolor\": \"#FFFFFF\", \"template\": {\"data\": {\"bar\": [{\"error_x\": {\"color\": \"#2a3f5f\"}, \"error_y\": {\"color\": \"#2a3f5f\"}, \"marker\": {\"line\": {\"color\": \"#E5ECF6\", \"width\": 0.5}}, \"type\": \"bar\"}], \"barpolar\": [{\"marker\": {\"line\": {\"color\": \"#E5ECF6\", \"width\": 0.5}}, \"type\": \"barpolar\"}], \"carpet\": [{\"aaxis\": {\"endlinecolor\": \"#2a3f5f\", \"gridcolor\": \"white\", \"linecolor\": \"white\", \"minorgridcolor\": \"white\", \"startlinecolor\": \"#2a3f5f\"}, \"baxis\": {\"endlinecolor\": \"#2a3f5f\", \"gridcolor\": \"white\", \"linecolor\": \"white\", \"minorgridcolor\": \"white\", \"startlinecolor\": \"#2a3f5f\"}, \"type\": \"carpet\"}], \"choropleth\": [{\"colorbar\": {\"outlinewidth\": 0, \"ticks\": \"\"}, \"type\": \"choropleth\"}], \"contour\": [{\"colorbar\": {\"outlinewidth\": 0, \"ticks\": \"\"}, \"colorscale\": [[0.0, \"#0d0887\"], [0.1111111111111111, \"#46039f\"], [0.2222222222222222, \"#7201a8\"], [0.3333333333333333, \"#9c179e\"], [0.4444444444444444, \"#bd3786\"], [0.5555555555555556, \"#d8576b\"], [0.6666666666666666, \"#ed7953\"], [0.7777777777777778, \"#fb9f3a\"], [0.8888888888888888, \"#fdca26\"], [1.0, \"#f0f921\"]], \"type\": \"contour\"}], \"contourcarpet\": [{\"colorbar\": {\"outlinewidth\": 0, \"ticks\": \"\"}, \"type\": \"contourcarpet\"}], \"heatmap\": [{\"colorbar\": {\"outlinewidth\": 0, \"ticks\": \"\"}, \"colorscale\": [[0.0, \"#0d0887\"], [0.1111111111111111, \"#46039f\"], [0.2222222222222222, \"#7201a8\"], [0.3333333333333333, \"#9c179e\"], [0.4444444444444444, \"#bd3786\"], [0.5555555555555556, \"#d8576b\"], [0.6666666666666666, \"#ed7953\"], [0.7777777777777778, \"#fb9f3a\"], [0.8888888888888888, \"#fdca26\"], [1.0, \"#f0f921\"]], \"type\": \"heatmap\"}], \"heatmapgl\": [{\"colorbar\": {\"outlinewidth\": 0, \"ticks\": \"\"}, \"colorscale\": [[0.0, \"#0d0887\"], [0.1111111111111111, \"#46039f\"], [0.2222222222222222, \"#7201a8\"], [0.3333333333333333, \"#9c179e\"], [0.4444444444444444, \"#bd3786\"], [0.5555555555555556, \"#d8576b\"], [0.6666666666666666, \"#ed7953\"], [0.7777777777777778, \"#fb9f3a\"], [0.8888888888888888, \"#fdca26\"], [1.0, \"#f0f921\"]], \"type\": \"heatmapgl\"}], \"histogram\": [{\"marker\": {\"colorbar\": {\"outlinewidth\": 0, \"ticks\": \"\"}}, \"type\": \"histogram\"}], \"histogram2d\": [{\"colorbar\": {\"outlinewidth\": 0, \"ticks\": \"\"}, \"colorscale\": [[0.0, \"#0d0887\"], [0.1111111111111111, \"#46039f\"], [0.2222222222222222, \"#7201a8\"], [0.3333333333333333, \"#9c179e\"], [0.4444444444444444, \"#bd3786\"], [0.5555555555555556, \"#d8576b\"], [0.6666666666666666, \"#ed7953\"], [0.7777777777777778, \"#fb9f3a\"], [0.8888888888888888, \"#fdca26\"], [1.0, \"#f0f921\"]], \"type\": \"histogram2d\"}], \"histogram2dcontour\": [{\"colorbar\": {\"outlinewidth\": 0, \"ticks\": \"\"}, \"colorscale\": [[0.0, \"#0d0887\"], [0.1111111111111111, \"#46039f\"], [0.2222222222222222, \"#7201a8\"], [0.3333333333333333, \"#9c179e\"], [0.4444444444444444, \"#bd3786\"], [0.5555555555555556, \"#d8576b\"], [0.6666666666666666, \"#ed7953\"], [0.7777777777777778, \"#fb9f3a\"], [0.8888888888888888, \"#fdca26\"], [1.0, \"#f0f921\"]], \"type\": \"histogram2dcontour\"}], \"mesh3d\": [{\"colorbar\": {\"outlinewidth\": 0, \"ticks\": \"\"}, \"type\": \"mesh3d\"}], \"parcoords\": [{\"line\": {\"colorbar\": {\"outlinewidth\": 0, \"ticks\": \"\"}}, \"type\": \"parcoords\"}], \"pie\": [{\"automargin\": true, \"type\": \"pie\"}], \"scatter\": [{\"marker\": {\"colorbar\": {\"outlinewidth\": 0, \"ticks\": \"\"}}, \"type\": \"scatter\"}], \"scatter3d\": [{\"line\": {\"colorbar\": {\"outlinewidth\": 0, \"ticks\": \"\"}}, \"marker\": {\"colorbar\": {\"outlinewidth\": 0, \"ticks\": \"\"}}, \"type\": \"scatter3d\"}], \"scattercarpet\": [{\"marker\": {\"colorbar\": {\"outlinewidth\": 0, \"ticks\": \"\"}}, \"type\": \"scattercarpet\"}], \"scattergeo\": [{\"marker\": {\"colorbar\": {\"outlinewidth\": 0, \"ticks\": \"\"}}, \"type\": \"scattergeo\"}], \"scattergl\": [{\"marker\": {\"colorbar\": {\"outlinewidth\": 0, \"ticks\": \"\"}}, \"type\": \"scattergl\"}], \"scattermapbox\": [{\"marker\": {\"colorbar\": {\"outlinewidth\": 0, \"ticks\": \"\"}}, \"type\": \"scattermapbox\"}], \"scatterpolar\": [{\"marker\": {\"colorbar\": {\"outlinewidth\": 0, \"ticks\": \"\"}}, \"type\": \"scatterpolar\"}], \"scatterpolargl\": [{\"marker\": {\"colorbar\": {\"outlinewidth\": 0, \"ticks\": \"\"}}, \"type\": \"scatterpolargl\"}], \"scatterternary\": [{\"marker\": {\"colorbar\": {\"outlinewidth\": 0, \"ticks\": \"\"}}, \"type\": \"scatterternary\"}], \"surface\": [{\"colorbar\": {\"outlinewidth\": 0, \"ticks\": \"\"}, \"colorscale\": [[0.0, \"#0d0887\"], [0.1111111111111111, \"#46039f\"], [0.2222222222222222, \"#7201a8\"], [0.3333333333333333, \"#9c179e\"], [0.4444444444444444, \"#bd3786\"], [0.5555555555555556, \"#d8576b\"], [0.6666666666666666, \"#ed7953\"], [0.7777777777777778, \"#fb9f3a\"], [0.8888888888888888, \"#fdca26\"], [1.0, \"#f0f921\"]], \"type\": \"surface\"}], \"table\": [{\"cells\": {\"fill\": {\"color\": \"#EBF0F8\"}, \"line\": {\"color\": \"white\"}}, \"header\": {\"fill\": {\"color\": \"#C8D4E3\"}, \"line\": {\"color\": \"white\"}}, \"type\": \"table\"}]}, \"layout\": {\"annotationdefaults\": {\"arrowcolor\": \"#2a3f5f\", \"arrowhead\": 0, \"arrowwidth\": 1}, \"autotypenumbers\": \"strict\", \"coloraxis\": {\"colorbar\": {\"outlinewidth\": 0, \"ticks\": \"\"}}, \"colorscale\": {\"diverging\": [[0, \"#8e0152\"], [0.1, \"#c51b7d\"], [0.2, \"#de77ae\"], [0.3, \"#f1b6da\"], [0.4, \"#fde0ef\"], [0.5, \"#f7f7f7\"], [0.6, \"#e6f5d0\"], [0.7, \"#b8e186\"], [0.8, \"#7fbc41\"], [0.9, \"#4d9221\"], [1, \"#276419\"]], \"sequential\": [[0.0, \"#0d0887\"], [0.1111111111111111, \"#46039f\"], [0.2222222222222222, \"#7201a8\"], [0.3333333333333333, \"#9c179e\"], [0.4444444444444444, \"#bd3786\"], [0.5555555555555556, \"#d8576b\"], [0.6666666666666666, \"#ed7953\"], [0.7777777777777778, \"#fb9f3a\"], [0.8888888888888888, \"#fdca26\"], [1.0, \"#f0f921\"]], \"sequentialminus\": [[0.0, \"#0d0887\"], [0.1111111111111111, \"#46039f\"], [0.2222222222222222, \"#7201a8\"], [0.3333333333333333, \"#9c179e\"], [0.4444444444444444, \"#bd3786\"], [0.5555555555555556, \"#d8576b\"], [0.6666666666666666, \"#ed7953\"], [0.7777777777777778, \"#fb9f3a\"], [0.8888888888888888, \"#fdca26\"], [1.0, \"#f0f921\"]]}, \"colorway\": [\"#636efa\", \"#EF553B\", \"#00cc96\", \"#ab63fa\", \"#FFA15A\", \"#19d3f3\", \"#FF6692\", \"#B6E880\", \"#FF97FF\", \"#FECB52\"], \"font\": {\"color\": \"#2a3f5f\"}, \"geo\": {\"bgcolor\": \"white\", \"lakecolor\": \"white\", \"landcolor\": \"#E5ECF6\", \"showlakes\": true, \"showland\": true, \"subunitcolor\": \"white\"}, \"hoverlabel\": {\"align\": \"left\"}, \"hovermode\": \"closest\", \"mapbox\": {\"style\": \"light\"}, \"paper_bgcolor\": \"white\", \"plot_bgcolor\": \"#E5ECF6\", \"polar\": {\"angularaxis\": {\"gridcolor\": \"white\", \"linecolor\": \"white\", \"ticks\": \"\"}, \"bgcolor\": \"#E5ECF6\", \"radialaxis\": {\"gridcolor\": \"white\", \"linecolor\": \"white\", \"ticks\": \"\"}}, \"scene\": {\"xaxis\": {\"backgroundcolor\": \"#E5ECF6\", \"gridcolor\": \"white\", \"gridwidth\": 2, \"linecolor\": \"white\", \"showbackground\": true, \"ticks\": \"\", \"zerolinecolor\": \"white\"}, \"yaxis\": {\"backgroundcolor\": \"#E5ECF6\", \"gridcolor\": \"white\", \"gridwidth\": 2, \"linecolor\": \"white\", \"showbackground\": true, \"ticks\": \"\", \"zerolinecolor\": \"white\"}, \"zaxis\": {\"backgroundcolor\": \"#E5ECF6\", \"gridcolor\": \"white\", \"gridwidth\": 2, \"linecolor\": \"white\", \"showbackground\": true, \"ticks\": \"\", \"zerolinecolor\": \"white\"}}, \"shapedefaults\": {\"line\": {\"color\": \"#2a3f5f\"}}, \"ternary\": {\"aaxis\": {\"gridcolor\": \"white\", \"linecolor\": \"white\", \"ticks\": \"\"}, \"baxis\": {\"gridcolor\": \"white\", \"linecolor\": \"white\", \"ticks\": \"\"}, \"bgcolor\": \"#E5ECF6\", \"caxis\": {\"gridcolor\": \"white\", \"linecolor\": \"white\", \"ticks\": \"\"}}, \"title\": {\"x\": 0.05}, \"xaxis\": {\"automargin\": true, \"gridcolor\": \"white\", \"linecolor\": \"white\", \"ticks\": \"\", \"title\": {\"standoff\": 15}, \"zerolinecolor\": \"white\", \"zerolinewidth\": 2}, \"yaxis\": {\"automargin\": true, \"gridcolor\": \"white\", \"linecolor\": \"white\", \"ticks\": \"\", \"title\": {\"standoff\": 15}, \"zerolinecolor\": \"white\", \"zerolinewidth\": 2}}}, \"title\": {\"font\": {\"color\": \"#4D5663\"}, \"text\": \"Distribution of Sexes in Training data\"}, \"xaxis\": {\"gridcolor\": \"#E1E5ED\", \"linecolor\": \"white\", \"showgrid\": true, \"tickfont\": {\"color\": \"#4D5663\"}, \"title\": {\"font\": {\"color\": \"#4D5663\"}, \"text\": \"Sexes\"}, \"zerolinecolor\": \"#E1E5ED\"}, \"yaxis\": {\"gridcolor\": \"#E1E5ED\", \"linecolor\": \"white\", \"showgrid\": true, \"tickfont\": {\"color\": \"#4D5663\"}, \"title\": {\"font\": {\"color\": \"#4D5663\"}, \"text\": \"Frequency\"}, \"zerolinecolor\": \"#E1E5ED\"}},                        {\"showLink\": true, \"linkText\": \"Export to plot.ly\", \"plotlyServerURL\": \"https://plot.ly\", \"responsive\": true}                    ).then(function(){\n",
       "                            \n",
       "var gd = document.getElementById('77648eab-d406-434f-8f7b-d411d35f2a2a');\n",
       "var x = new MutationObserver(function (mutations, observer) {{\n",
       "        var display = window.getComputedStyle(gd).display;\n",
       "        if (!display || display === 'none') {{\n",
       "            console.log([gd, 'removed!']);\n",
       "            Plotly.purge(gd);\n",
       "            observer.disconnect();\n",
       "        }}\n",
       "}});\n",
       "\n",
       "// Listen for the removal of the full notebook cells\n",
       "var notebookContainer = gd.closest('#notebook-container');\n",
       "if (notebookContainer) {{\n",
       "    x.observe(notebookContainer, {childList: true});\n",
       "}}\n",
       "\n",
       "// Listen for the clearing of the current output cell\n",
       "var outputEl = gd.closest('.output');\n",
       "if (outputEl) {{\n",
       "    x.observe(outputEl, {childList: true});\n",
       "}}\n",
       "\n",
       "                        })                };                });            </script>        </div>"
      ]
     },
     "metadata": {},
     "output_type": "display_data"
    }
   ],
   "source": [
    "train_patient_dataframe['Sex'].iplot(kind='hist',\n",
    "                        bins=100, xTitle='Sexes', yTitle='Frequency', \n",
    "                        linecolor='white',opacity=0.7,\n",
    "                        color='rgb(0, 200, 200)', theme='white',\n",
    "                        bargap=0.01, title='Distribution of Sexes in Training data')"
   ]
  },
  {
   "cell_type": "markdown",
   "id": "instant-marks",
   "metadata": {},
   "source": [
    "### Smoking Status of Patients\n",
    "- 118 Ex Smoker\n",
    "- 49 Never Smoked\n",
    "- 9 Currently Smokes"
   ]
  },
  {
   "cell_type": "code",
   "execution_count": 29,
   "id": "ideal-undergraduate",
   "metadata": {},
   "outputs": [
    {
     "data": {
      "application/vnd.plotly.v1+json": {
       "config": {
        "linkText": "Export to plot.ly",
        "plotlyServerURL": "https://plot.ly",
        "showLink": true
       },
       "data": [
        {
         "histfunc": "count",
         "histnorm": "",
         "marker": {
          "color": "rgba(0, 200, 200, 1.0)",
          "line": {
           "color": "#FFFFFF",
           "width": 1.3
          }
         },
         "name": "SmokingStatus",
         "nbinsx": 70,
         "opacity": 0.7,
         "orientation": "v",
         "type": "histogram",
         "x": [
          "Ex-smoker",
          "Ex-smoker",
          "Ex-smoker",
          "Ex-smoker",
          "Never smoked",
          "Ex-smoker",
          "Ex-smoker",
          "Ex-smoker",
          "Never smoked",
          "Ex-smoker",
          "Ex-smoker",
          "Ex-smoker",
          "Ex-smoker",
          "Ex-smoker",
          "Ex-smoker",
          "Ex-smoker",
          "Ex-smoker",
          "Ex-smoker",
          "Ex-smoker",
          "Never smoked",
          "Ex-smoker",
          "Ex-smoker",
          "Ex-smoker",
          "Ex-smoker",
          "Never smoked",
          "Ex-smoker",
          "Ex-smoker",
          "Ex-smoker",
          "Ex-smoker",
          "Never smoked",
          "Never smoked",
          "Ex-smoker",
          "Ex-smoker",
          "Currently smokes",
          "Never smoked",
          "Never smoked",
          "Ex-smoker",
          "Ex-smoker",
          "Ex-smoker",
          "Ex-smoker",
          "Ex-smoker",
          "Never smoked",
          "Ex-smoker",
          "Ex-smoker",
          "Ex-smoker",
          "Ex-smoker",
          "Ex-smoker",
          "Ex-smoker",
          "Currently smokes",
          "Ex-smoker",
          "Ex-smoker",
          "Never smoked",
          "Ex-smoker",
          "Never smoked",
          "Ex-smoker",
          "Ex-smoker",
          "Never smoked",
          "Never smoked",
          "Never smoked",
          "Never smoked",
          "Ex-smoker",
          "Never smoked",
          "Ex-smoker",
          "Never smoked",
          "Ex-smoker",
          "Ex-smoker",
          "Ex-smoker",
          "Currently smokes",
          "Ex-smoker",
          "Ex-smoker",
          "Ex-smoker",
          "Ex-smoker",
          "Ex-smoker",
          "Never smoked",
          "Ex-smoker",
          "Ex-smoker",
          "Ex-smoker",
          "Ex-smoker",
          "Ex-smoker",
          "Ex-smoker",
          "Ex-smoker",
          "Ex-smoker",
          "Never smoked",
          "Ex-smoker",
          "Currently smokes",
          "Ex-smoker",
          "Never smoked",
          "Ex-smoker",
          "Currently smokes",
          "Currently smokes",
          "Ex-smoker",
          "Never smoked",
          "Ex-smoker",
          "Ex-smoker",
          "Ex-smoker",
          "Ex-smoker",
          "Never smoked",
          "Never smoked",
          "Ex-smoker",
          "Ex-smoker",
          "Never smoked",
          "Ex-smoker",
          "Ex-smoker",
          "Ex-smoker",
          "Ex-smoker",
          "Never smoked",
          "Ex-smoker",
          "Never smoked",
          "Ex-smoker",
          "Ex-smoker",
          "Never smoked",
          "Never smoked",
          "Never smoked",
          "Ex-smoker",
          "Never smoked",
          "Ex-smoker",
          "Ex-smoker",
          "Never smoked",
          "Never smoked",
          "Ex-smoker",
          "Never smoked",
          "Ex-smoker",
          "Ex-smoker",
          "Ex-smoker",
          "Never smoked",
          "Ex-smoker",
          "Ex-smoker",
          "Never smoked",
          "Never smoked",
          "Ex-smoker",
          "Ex-smoker",
          "Ex-smoker",
          "Ex-smoker",
          "Ex-smoker",
          "Ex-smoker",
          "Currently smokes",
          "Ex-smoker",
          "Ex-smoker",
          "Ex-smoker",
          "Ex-smoker",
          "Ex-smoker",
          "Currently smokes",
          "Ex-smoker",
          "Never smoked",
          "Never smoked",
          "Ex-smoker",
          "Currently smokes",
          "Ex-smoker",
          "Never smoked",
          "Ex-smoker",
          "Ex-smoker",
          "Never smoked",
          "Never smoked",
          "Ex-smoker",
          "Ex-smoker",
          "Never smoked",
          "Never smoked",
          "Ex-smoker",
          "Never smoked",
          "Ex-smoker",
          "Ex-smoker",
          "Never smoked",
          "Ex-smoker",
          "Ex-smoker",
          "Ex-smoker",
          "Never smoked",
          "Ex-smoker",
          "Ex-smoker",
          "Ex-smoker",
          "Never smoked",
          "Never smoked",
          "Ex-smoker",
          "Ex-smoker",
          "Ex-smoker",
          "Ex-smoker",
          "Never smoked"
         ]
        }
       ],
       "layout": {
        "bargap": 0.01,
        "barmode": "overlay",
        "legend": {
         "bgcolor": "#FFFFFF",
         "font": {
          "color": "#4D5663"
         }
        },
        "paper_bgcolor": "#FFFFFF",
        "plot_bgcolor": "#FFFFFF",
        "template": {
         "data": {
          "bar": [
           {
            "error_x": {
             "color": "#2a3f5f"
            },
            "error_y": {
             "color": "#2a3f5f"
            },
            "marker": {
             "line": {
              "color": "#E5ECF6",
              "width": 0.5
             }
            },
            "type": "bar"
           }
          ],
          "barpolar": [
           {
            "marker": {
             "line": {
              "color": "#E5ECF6",
              "width": 0.5
             }
            },
            "type": "barpolar"
           }
          ],
          "carpet": [
           {
            "aaxis": {
             "endlinecolor": "#2a3f5f",
             "gridcolor": "white",
             "linecolor": "white",
             "minorgridcolor": "white",
             "startlinecolor": "#2a3f5f"
            },
            "baxis": {
             "endlinecolor": "#2a3f5f",
             "gridcolor": "white",
             "linecolor": "white",
             "minorgridcolor": "white",
             "startlinecolor": "#2a3f5f"
            },
            "type": "carpet"
           }
          ],
          "choropleth": [
           {
            "colorbar": {
             "outlinewidth": 0,
             "ticks": ""
            },
            "type": "choropleth"
           }
          ],
          "contour": [
           {
            "colorbar": {
             "outlinewidth": 0,
             "ticks": ""
            },
            "colorscale": [
             [
              0,
              "#0d0887"
             ],
             [
              0.1111111111111111,
              "#46039f"
             ],
             [
              0.2222222222222222,
              "#7201a8"
             ],
             [
              0.3333333333333333,
              "#9c179e"
             ],
             [
              0.4444444444444444,
              "#bd3786"
             ],
             [
              0.5555555555555556,
              "#d8576b"
             ],
             [
              0.6666666666666666,
              "#ed7953"
             ],
             [
              0.7777777777777778,
              "#fb9f3a"
             ],
             [
              0.8888888888888888,
              "#fdca26"
             ],
             [
              1,
              "#f0f921"
             ]
            ],
            "type": "contour"
           }
          ],
          "contourcarpet": [
           {
            "colorbar": {
             "outlinewidth": 0,
             "ticks": ""
            },
            "type": "contourcarpet"
           }
          ],
          "heatmap": [
           {
            "colorbar": {
             "outlinewidth": 0,
             "ticks": ""
            },
            "colorscale": [
             [
              0,
              "#0d0887"
             ],
             [
              0.1111111111111111,
              "#46039f"
             ],
             [
              0.2222222222222222,
              "#7201a8"
             ],
             [
              0.3333333333333333,
              "#9c179e"
             ],
             [
              0.4444444444444444,
              "#bd3786"
             ],
             [
              0.5555555555555556,
              "#d8576b"
             ],
             [
              0.6666666666666666,
              "#ed7953"
             ],
             [
              0.7777777777777778,
              "#fb9f3a"
             ],
             [
              0.8888888888888888,
              "#fdca26"
             ],
             [
              1,
              "#f0f921"
             ]
            ],
            "type": "heatmap"
           }
          ],
          "heatmapgl": [
           {
            "colorbar": {
             "outlinewidth": 0,
             "ticks": ""
            },
            "colorscale": [
             [
              0,
              "#0d0887"
             ],
             [
              0.1111111111111111,
              "#46039f"
             ],
             [
              0.2222222222222222,
              "#7201a8"
             ],
             [
              0.3333333333333333,
              "#9c179e"
             ],
             [
              0.4444444444444444,
              "#bd3786"
             ],
             [
              0.5555555555555556,
              "#d8576b"
             ],
             [
              0.6666666666666666,
              "#ed7953"
             ],
             [
              0.7777777777777778,
              "#fb9f3a"
             ],
             [
              0.8888888888888888,
              "#fdca26"
             ],
             [
              1,
              "#f0f921"
             ]
            ],
            "type": "heatmapgl"
           }
          ],
          "histogram": [
           {
            "marker": {
             "colorbar": {
              "outlinewidth": 0,
              "ticks": ""
             }
            },
            "type": "histogram"
           }
          ],
          "histogram2d": [
           {
            "colorbar": {
             "outlinewidth": 0,
             "ticks": ""
            },
            "colorscale": [
             [
              0,
              "#0d0887"
             ],
             [
              0.1111111111111111,
              "#46039f"
             ],
             [
              0.2222222222222222,
              "#7201a8"
             ],
             [
              0.3333333333333333,
              "#9c179e"
             ],
             [
              0.4444444444444444,
              "#bd3786"
             ],
             [
              0.5555555555555556,
              "#d8576b"
             ],
             [
              0.6666666666666666,
              "#ed7953"
             ],
             [
              0.7777777777777778,
              "#fb9f3a"
             ],
             [
              0.8888888888888888,
              "#fdca26"
             ],
             [
              1,
              "#f0f921"
             ]
            ],
            "type": "histogram2d"
           }
          ],
          "histogram2dcontour": [
           {
            "colorbar": {
             "outlinewidth": 0,
             "ticks": ""
            },
            "colorscale": [
             [
              0,
              "#0d0887"
             ],
             [
              0.1111111111111111,
              "#46039f"
             ],
             [
              0.2222222222222222,
              "#7201a8"
             ],
             [
              0.3333333333333333,
              "#9c179e"
             ],
             [
              0.4444444444444444,
              "#bd3786"
             ],
             [
              0.5555555555555556,
              "#d8576b"
             ],
             [
              0.6666666666666666,
              "#ed7953"
             ],
             [
              0.7777777777777778,
              "#fb9f3a"
             ],
             [
              0.8888888888888888,
              "#fdca26"
             ],
             [
              1,
              "#f0f921"
             ]
            ],
            "type": "histogram2dcontour"
           }
          ],
          "mesh3d": [
           {
            "colorbar": {
             "outlinewidth": 0,
             "ticks": ""
            },
            "type": "mesh3d"
           }
          ],
          "parcoords": [
           {
            "line": {
             "colorbar": {
              "outlinewidth": 0,
              "ticks": ""
             }
            },
            "type": "parcoords"
           }
          ],
          "pie": [
           {
            "automargin": true,
            "type": "pie"
           }
          ],
          "scatter": [
           {
            "marker": {
             "colorbar": {
              "outlinewidth": 0,
              "ticks": ""
             }
            },
            "type": "scatter"
           }
          ],
          "scatter3d": [
           {
            "line": {
             "colorbar": {
              "outlinewidth": 0,
              "ticks": ""
             }
            },
            "marker": {
             "colorbar": {
              "outlinewidth": 0,
              "ticks": ""
             }
            },
            "type": "scatter3d"
           }
          ],
          "scattercarpet": [
           {
            "marker": {
             "colorbar": {
              "outlinewidth": 0,
              "ticks": ""
             }
            },
            "type": "scattercarpet"
           }
          ],
          "scattergeo": [
           {
            "marker": {
             "colorbar": {
              "outlinewidth": 0,
              "ticks": ""
             }
            },
            "type": "scattergeo"
           }
          ],
          "scattergl": [
           {
            "marker": {
             "colorbar": {
              "outlinewidth": 0,
              "ticks": ""
             }
            },
            "type": "scattergl"
           }
          ],
          "scattermapbox": [
           {
            "marker": {
             "colorbar": {
              "outlinewidth": 0,
              "ticks": ""
             }
            },
            "type": "scattermapbox"
           }
          ],
          "scatterpolar": [
           {
            "marker": {
             "colorbar": {
              "outlinewidth": 0,
              "ticks": ""
             }
            },
            "type": "scatterpolar"
           }
          ],
          "scatterpolargl": [
           {
            "marker": {
             "colorbar": {
              "outlinewidth": 0,
              "ticks": ""
             }
            },
            "type": "scatterpolargl"
           }
          ],
          "scatterternary": [
           {
            "marker": {
             "colorbar": {
              "outlinewidth": 0,
              "ticks": ""
             }
            },
            "type": "scatterternary"
           }
          ],
          "surface": [
           {
            "colorbar": {
             "outlinewidth": 0,
             "ticks": ""
            },
            "colorscale": [
             [
              0,
              "#0d0887"
             ],
             [
              0.1111111111111111,
              "#46039f"
             ],
             [
              0.2222222222222222,
              "#7201a8"
             ],
             [
              0.3333333333333333,
              "#9c179e"
             ],
             [
              0.4444444444444444,
              "#bd3786"
             ],
             [
              0.5555555555555556,
              "#d8576b"
             ],
             [
              0.6666666666666666,
              "#ed7953"
             ],
             [
              0.7777777777777778,
              "#fb9f3a"
             ],
             [
              0.8888888888888888,
              "#fdca26"
             ],
             [
              1,
              "#f0f921"
             ]
            ],
            "type": "surface"
           }
          ],
          "table": [
           {
            "cells": {
             "fill": {
              "color": "#EBF0F8"
             },
             "line": {
              "color": "white"
             }
            },
            "header": {
             "fill": {
              "color": "#C8D4E3"
             },
             "line": {
              "color": "white"
             }
            },
            "type": "table"
           }
          ]
         },
         "layout": {
          "annotationdefaults": {
           "arrowcolor": "#2a3f5f",
           "arrowhead": 0,
           "arrowwidth": 1
          },
          "autotypenumbers": "strict",
          "coloraxis": {
           "colorbar": {
            "outlinewidth": 0,
            "ticks": ""
           }
          },
          "colorscale": {
           "diverging": [
            [
             0,
             "#8e0152"
            ],
            [
             0.1,
             "#c51b7d"
            ],
            [
             0.2,
             "#de77ae"
            ],
            [
             0.3,
             "#f1b6da"
            ],
            [
             0.4,
             "#fde0ef"
            ],
            [
             0.5,
             "#f7f7f7"
            ],
            [
             0.6,
             "#e6f5d0"
            ],
            [
             0.7,
             "#b8e186"
            ],
            [
             0.8,
             "#7fbc41"
            ],
            [
             0.9,
             "#4d9221"
            ],
            [
             1,
             "#276419"
            ]
           ],
           "sequential": [
            [
             0,
             "#0d0887"
            ],
            [
             0.1111111111111111,
             "#46039f"
            ],
            [
             0.2222222222222222,
             "#7201a8"
            ],
            [
             0.3333333333333333,
             "#9c179e"
            ],
            [
             0.4444444444444444,
             "#bd3786"
            ],
            [
             0.5555555555555556,
             "#d8576b"
            ],
            [
             0.6666666666666666,
             "#ed7953"
            ],
            [
             0.7777777777777778,
             "#fb9f3a"
            ],
            [
             0.8888888888888888,
             "#fdca26"
            ],
            [
             1,
             "#f0f921"
            ]
           ],
           "sequentialminus": [
            [
             0,
             "#0d0887"
            ],
            [
             0.1111111111111111,
             "#46039f"
            ],
            [
             0.2222222222222222,
             "#7201a8"
            ],
            [
             0.3333333333333333,
             "#9c179e"
            ],
            [
             0.4444444444444444,
             "#bd3786"
            ],
            [
             0.5555555555555556,
             "#d8576b"
            ],
            [
             0.6666666666666666,
             "#ed7953"
            ],
            [
             0.7777777777777778,
             "#fb9f3a"
            ],
            [
             0.8888888888888888,
             "#fdca26"
            ],
            [
             1,
             "#f0f921"
            ]
           ]
          },
          "colorway": [
           "#636efa",
           "#EF553B",
           "#00cc96",
           "#ab63fa",
           "#FFA15A",
           "#19d3f3",
           "#FF6692",
           "#B6E880",
           "#FF97FF",
           "#FECB52"
          ],
          "font": {
           "color": "#2a3f5f"
          },
          "geo": {
           "bgcolor": "white",
           "lakecolor": "white",
           "landcolor": "#E5ECF6",
           "showlakes": true,
           "showland": true,
           "subunitcolor": "white"
          },
          "hoverlabel": {
           "align": "left"
          },
          "hovermode": "closest",
          "mapbox": {
           "style": "light"
          },
          "paper_bgcolor": "white",
          "plot_bgcolor": "#E5ECF6",
          "polar": {
           "angularaxis": {
            "gridcolor": "white",
            "linecolor": "white",
            "ticks": ""
           },
           "bgcolor": "#E5ECF6",
           "radialaxis": {
            "gridcolor": "white",
            "linecolor": "white",
            "ticks": ""
           }
          },
          "scene": {
           "xaxis": {
            "backgroundcolor": "#E5ECF6",
            "gridcolor": "white",
            "gridwidth": 2,
            "linecolor": "white",
            "showbackground": true,
            "ticks": "",
            "zerolinecolor": "white"
           },
           "yaxis": {
            "backgroundcolor": "#E5ECF6",
            "gridcolor": "white",
            "gridwidth": 2,
            "linecolor": "white",
            "showbackground": true,
            "ticks": "",
            "zerolinecolor": "white"
           },
           "zaxis": {
            "backgroundcolor": "#E5ECF6",
            "gridcolor": "white",
            "gridwidth": 2,
            "linecolor": "white",
            "showbackground": true,
            "ticks": "",
            "zerolinecolor": "white"
           }
          },
          "shapedefaults": {
           "line": {
            "color": "#2a3f5f"
           }
          },
          "ternary": {
           "aaxis": {
            "gridcolor": "white",
            "linecolor": "white",
            "ticks": ""
           },
           "baxis": {
            "gridcolor": "white",
            "linecolor": "white",
            "ticks": ""
           },
           "bgcolor": "#E5ECF6",
           "caxis": {
            "gridcolor": "white",
            "linecolor": "white",
            "ticks": ""
           }
          },
          "title": {
           "x": 0.05
          },
          "xaxis": {
           "automargin": true,
           "gridcolor": "white",
           "linecolor": "white",
           "ticks": "",
           "title": {
            "standoff": 15
           },
           "zerolinecolor": "white",
           "zerolinewidth": 2
          },
          "yaxis": {
           "automargin": true,
           "gridcolor": "white",
           "linecolor": "white",
           "ticks": "",
           "title": {
            "standoff": 15
           },
           "zerolinecolor": "white",
           "zerolinewidth": 2
          }
         }
        },
        "title": {
         "font": {
          "color": "#4D5663"
         },
         "text": "Distribution of Smoking Status in Training data"
        },
        "xaxis": {
         "gridcolor": "#E1E5ED",
         "linecolor": "white",
         "showgrid": true,
         "tickfont": {
          "color": "#4D5663"
         },
         "title": {
          "font": {
           "color": "#4D5663"
          },
          "text": "Smoking Status"
         },
         "zerolinecolor": "#E1E5ED"
        },
        "yaxis": {
         "gridcolor": "#E1E5ED",
         "linecolor": "white",
         "showgrid": true,
         "tickfont": {
          "color": "#4D5663"
         },
         "title": {
          "font": {
           "color": "#4D5663"
          },
          "text": "Frequency"
         },
         "zerolinecolor": "#E1E5ED"
        }
       }
      },
      "text/html": [
       "<div>                            <div id=\"572c0b68-1fdc-421e-98f1-4c292ee60bde\" class=\"plotly-graph-div\" style=\"height:525px; width:100%;\"></div>            <script type=\"text/javascript\">                require([\"plotly\"], function(Plotly) {                    window.PLOTLYENV=window.PLOTLYENV || {};\n",
       "                    window.PLOTLYENV.BASE_URL='https://plot.ly';                                    if (document.getElementById(\"572c0b68-1fdc-421e-98f1-4c292ee60bde\")) {                    Plotly.newPlot(                        \"572c0b68-1fdc-421e-98f1-4c292ee60bde\",                        [{\"histfunc\": \"count\", \"histnorm\": \"\", \"marker\": {\"color\": \"rgba(0, 200, 200, 1.0)\", \"line\": {\"color\": \"#FFFFFF\", \"width\": 1.3}}, \"name\": \"SmokingStatus\", \"nbinsx\": 70, \"opacity\": 0.7, \"orientation\": \"v\", \"type\": \"histogram\", \"x\": [\"Ex-smoker\", \"Ex-smoker\", \"Ex-smoker\", \"Ex-smoker\", \"Never smoked\", \"Ex-smoker\", \"Ex-smoker\", \"Ex-smoker\", \"Never smoked\", \"Ex-smoker\", \"Ex-smoker\", \"Ex-smoker\", \"Ex-smoker\", \"Ex-smoker\", \"Ex-smoker\", \"Ex-smoker\", \"Ex-smoker\", \"Ex-smoker\", \"Ex-smoker\", \"Never smoked\", \"Ex-smoker\", \"Ex-smoker\", \"Ex-smoker\", \"Ex-smoker\", \"Never smoked\", \"Ex-smoker\", \"Ex-smoker\", \"Ex-smoker\", \"Ex-smoker\", \"Never smoked\", \"Never smoked\", \"Ex-smoker\", \"Ex-smoker\", \"Currently smokes\", \"Never smoked\", \"Never smoked\", \"Ex-smoker\", \"Ex-smoker\", \"Ex-smoker\", \"Ex-smoker\", \"Ex-smoker\", \"Never smoked\", \"Ex-smoker\", \"Ex-smoker\", \"Ex-smoker\", \"Ex-smoker\", \"Ex-smoker\", \"Ex-smoker\", \"Currently smokes\", \"Ex-smoker\", \"Ex-smoker\", \"Never smoked\", \"Ex-smoker\", \"Never smoked\", \"Ex-smoker\", \"Ex-smoker\", \"Never smoked\", \"Never smoked\", \"Never smoked\", \"Never smoked\", \"Ex-smoker\", \"Never smoked\", \"Ex-smoker\", \"Never smoked\", \"Ex-smoker\", \"Ex-smoker\", \"Ex-smoker\", \"Currently smokes\", \"Ex-smoker\", \"Ex-smoker\", \"Ex-smoker\", \"Ex-smoker\", \"Ex-smoker\", \"Never smoked\", \"Ex-smoker\", \"Ex-smoker\", \"Ex-smoker\", \"Ex-smoker\", \"Ex-smoker\", \"Ex-smoker\", \"Ex-smoker\", \"Ex-smoker\", \"Never smoked\", \"Ex-smoker\", \"Currently smokes\", \"Ex-smoker\", \"Never smoked\", \"Ex-smoker\", \"Currently smokes\", \"Currently smokes\", \"Ex-smoker\", \"Never smoked\", \"Ex-smoker\", \"Ex-smoker\", \"Ex-smoker\", \"Ex-smoker\", \"Never smoked\", \"Never smoked\", \"Ex-smoker\", \"Ex-smoker\", \"Never smoked\", \"Ex-smoker\", \"Ex-smoker\", \"Ex-smoker\", \"Ex-smoker\", \"Never smoked\", \"Ex-smoker\", \"Never smoked\", \"Ex-smoker\", \"Ex-smoker\", \"Never smoked\", \"Never smoked\", \"Never smoked\", \"Ex-smoker\", \"Never smoked\", \"Ex-smoker\", \"Ex-smoker\", \"Never smoked\", \"Never smoked\", \"Ex-smoker\", \"Never smoked\", \"Ex-smoker\", \"Ex-smoker\", \"Ex-smoker\", \"Never smoked\", \"Ex-smoker\", \"Ex-smoker\", \"Never smoked\", \"Never smoked\", \"Ex-smoker\", \"Ex-smoker\", \"Ex-smoker\", \"Ex-smoker\", \"Ex-smoker\", \"Ex-smoker\", \"Currently smokes\", \"Ex-smoker\", \"Ex-smoker\", \"Ex-smoker\", \"Ex-smoker\", \"Ex-smoker\", \"Currently smokes\", \"Ex-smoker\", \"Never smoked\", \"Never smoked\", \"Ex-smoker\", \"Currently smokes\", \"Ex-smoker\", \"Never smoked\", \"Ex-smoker\", \"Ex-smoker\", \"Never smoked\", \"Never smoked\", \"Ex-smoker\", \"Ex-smoker\", \"Never smoked\", \"Never smoked\", \"Ex-smoker\", \"Never smoked\", \"Ex-smoker\", \"Ex-smoker\", \"Never smoked\", \"Ex-smoker\", \"Ex-smoker\", \"Ex-smoker\", \"Never smoked\", \"Ex-smoker\", \"Ex-smoker\", \"Ex-smoker\", \"Never smoked\", \"Never smoked\", \"Ex-smoker\", \"Ex-smoker\", \"Ex-smoker\", \"Ex-smoker\", \"Never smoked\"]}],                        {\"bargap\": 0.01, \"barmode\": \"overlay\", \"legend\": {\"bgcolor\": \"#FFFFFF\", \"font\": {\"color\": \"#4D5663\"}}, \"paper_bgcolor\": \"#FFFFFF\", \"plot_bgcolor\": \"#FFFFFF\", \"template\": {\"data\": {\"bar\": [{\"error_x\": {\"color\": \"#2a3f5f\"}, \"error_y\": {\"color\": \"#2a3f5f\"}, \"marker\": {\"line\": {\"color\": \"#E5ECF6\", \"width\": 0.5}}, \"type\": \"bar\"}], \"barpolar\": [{\"marker\": {\"line\": {\"color\": \"#E5ECF6\", \"width\": 0.5}}, \"type\": \"barpolar\"}], \"carpet\": [{\"aaxis\": {\"endlinecolor\": \"#2a3f5f\", \"gridcolor\": \"white\", \"linecolor\": \"white\", \"minorgridcolor\": \"white\", \"startlinecolor\": \"#2a3f5f\"}, \"baxis\": {\"endlinecolor\": \"#2a3f5f\", \"gridcolor\": \"white\", \"linecolor\": \"white\", \"minorgridcolor\": \"white\", \"startlinecolor\": \"#2a3f5f\"}, \"type\": \"carpet\"}], \"choropleth\": [{\"colorbar\": {\"outlinewidth\": 0, \"ticks\": \"\"}, \"type\": \"choropleth\"}], \"contour\": [{\"colorbar\": {\"outlinewidth\": 0, \"ticks\": \"\"}, \"colorscale\": [[0.0, \"#0d0887\"], [0.1111111111111111, \"#46039f\"], [0.2222222222222222, \"#7201a8\"], [0.3333333333333333, \"#9c179e\"], [0.4444444444444444, \"#bd3786\"], [0.5555555555555556, \"#d8576b\"], [0.6666666666666666, \"#ed7953\"], [0.7777777777777778, \"#fb9f3a\"], [0.8888888888888888, \"#fdca26\"], [1.0, \"#f0f921\"]], \"type\": \"contour\"}], \"contourcarpet\": [{\"colorbar\": {\"outlinewidth\": 0, \"ticks\": \"\"}, \"type\": \"contourcarpet\"}], \"heatmap\": [{\"colorbar\": {\"outlinewidth\": 0, \"ticks\": \"\"}, \"colorscale\": [[0.0, \"#0d0887\"], [0.1111111111111111, \"#46039f\"], [0.2222222222222222, \"#7201a8\"], [0.3333333333333333, \"#9c179e\"], [0.4444444444444444, \"#bd3786\"], [0.5555555555555556, \"#d8576b\"], [0.6666666666666666, \"#ed7953\"], [0.7777777777777778, \"#fb9f3a\"], [0.8888888888888888, \"#fdca26\"], [1.0, \"#f0f921\"]], \"type\": \"heatmap\"}], \"heatmapgl\": [{\"colorbar\": {\"outlinewidth\": 0, \"ticks\": \"\"}, \"colorscale\": [[0.0, \"#0d0887\"], [0.1111111111111111, \"#46039f\"], [0.2222222222222222, \"#7201a8\"], [0.3333333333333333, \"#9c179e\"], [0.4444444444444444, \"#bd3786\"], [0.5555555555555556, \"#d8576b\"], [0.6666666666666666, \"#ed7953\"], [0.7777777777777778, \"#fb9f3a\"], [0.8888888888888888, \"#fdca26\"], [1.0, \"#f0f921\"]], \"type\": \"heatmapgl\"}], \"histogram\": [{\"marker\": {\"colorbar\": {\"outlinewidth\": 0, \"ticks\": \"\"}}, \"type\": \"histogram\"}], \"histogram2d\": [{\"colorbar\": {\"outlinewidth\": 0, \"ticks\": \"\"}, \"colorscale\": [[0.0, \"#0d0887\"], [0.1111111111111111, \"#46039f\"], [0.2222222222222222, \"#7201a8\"], [0.3333333333333333, \"#9c179e\"], [0.4444444444444444, \"#bd3786\"], [0.5555555555555556, \"#d8576b\"], [0.6666666666666666, \"#ed7953\"], [0.7777777777777778, \"#fb9f3a\"], [0.8888888888888888, \"#fdca26\"], [1.0, \"#f0f921\"]], \"type\": \"histogram2d\"}], \"histogram2dcontour\": [{\"colorbar\": {\"outlinewidth\": 0, \"ticks\": \"\"}, \"colorscale\": [[0.0, \"#0d0887\"], [0.1111111111111111, \"#46039f\"], [0.2222222222222222, \"#7201a8\"], [0.3333333333333333, \"#9c179e\"], [0.4444444444444444, \"#bd3786\"], [0.5555555555555556, \"#d8576b\"], [0.6666666666666666, \"#ed7953\"], [0.7777777777777778, \"#fb9f3a\"], [0.8888888888888888, \"#fdca26\"], [1.0, \"#f0f921\"]], \"type\": \"histogram2dcontour\"}], \"mesh3d\": [{\"colorbar\": {\"outlinewidth\": 0, \"ticks\": \"\"}, \"type\": \"mesh3d\"}], \"parcoords\": [{\"line\": {\"colorbar\": {\"outlinewidth\": 0, \"ticks\": \"\"}}, \"type\": \"parcoords\"}], \"pie\": [{\"automargin\": true, \"type\": \"pie\"}], \"scatter\": [{\"marker\": {\"colorbar\": {\"outlinewidth\": 0, \"ticks\": \"\"}}, \"type\": \"scatter\"}], \"scatter3d\": [{\"line\": {\"colorbar\": {\"outlinewidth\": 0, \"ticks\": \"\"}}, \"marker\": {\"colorbar\": {\"outlinewidth\": 0, \"ticks\": \"\"}}, \"type\": \"scatter3d\"}], \"scattercarpet\": [{\"marker\": {\"colorbar\": {\"outlinewidth\": 0, \"ticks\": \"\"}}, \"type\": \"scattercarpet\"}], \"scattergeo\": [{\"marker\": {\"colorbar\": {\"outlinewidth\": 0, \"ticks\": \"\"}}, \"type\": \"scattergeo\"}], \"scattergl\": [{\"marker\": {\"colorbar\": {\"outlinewidth\": 0, \"ticks\": \"\"}}, \"type\": \"scattergl\"}], \"scattermapbox\": [{\"marker\": {\"colorbar\": {\"outlinewidth\": 0, \"ticks\": \"\"}}, \"type\": \"scattermapbox\"}], \"scatterpolar\": [{\"marker\": {\"colorbar\": {\"outlinewidth\": 0, \"ticks\": \"\"}}, \"type\": \"scatterpolar\"}], \"scatterpolargl\": [{\"marker\": {\"colorbar\": {\"outlinewidth\": 0, \"ticks\": \"\"}}, \"type\": \"scatterpolargl\"}], \"scatterternary\": [{\"marker\": {\"colorbar\": {\"outlinewidth\": 0, \"ticks\": \"\"}}, \"type\": \"scatterternary\"}], \"surface\": [{\"colorbar\": {\"outlinewidth\": 0, \"ticks\": \"\"}, \"colorscale\": [[0.0, \"#0d0887\"], [0.1111111111111111, \"#46039f\"], [0.2222222222222222, \"#7201a8\"], [0.3333333333333333, \"#9c179e\"], [0.4444444444444444, \"#bd3786\"], [0.5555555555555556, \"#d8576b\"], [0.6666666666666666, \"#ed7953\"], [0.7777777777777778, \"#fb9f3a\"], [0.8888888888888888, \"#fdca26\"], [1.0, \"#f0f921\"]], \"type\": \"surface\"}], \"table\": [{\"cells\": {\"fill\": {\"color\": \"#EBF0F8\"}, \"line\": {\"color\": \"white\"}}, \"header\": {\"fill\": {\"color\": \"#C8D4E3\"}, \"line\": {\"color\": \"white\"}}, \"type\": \"table\"}]}, \"layout\": {\"annotationdefaults\": {\"arrowcolor\": \"#2a3f5f\", \"arrowhead\": 0, \"arrowwidth\": 1}, \"autotypenumbers\": \"strict\", \"coloraxis\": {\"colorbar\": {\"outlinewidth\": 0, \"ticks\": \"\"}}, \"colorscale\": {\"diverging\": [[0, \"#8e0152\"], [0.1, \"#c51b7d\"], [0.2, \"#de77ae\"], [0.3, \"#f1b6da\"], [0.4, \"#fde0ef\"], [0.5, \"#f7f7f7\"], [0.6, \"#e6f5d0\"], [0.7, \"#b8e186\"], [0.8, \"#7fbc41\"], [0.9, \"#4d9221\"], [1, \"#276419\"]], \"sequential\": [[0.0, \"#0d0887\"], [0.1111111111111111, \"#46039f\"], [0.2222222222222222, \"#7201a8\"], [0.3333333333333333, \"#9c179e\"], [0.4444444444444444, \"#bd3786\"], [0.5555555555555556, \"#d8576b\"], [0.6666666666666666, \"#ed7953\"], [0.7777777777777778, \"#fb9f3a\"], [0.8888888888888888, \"#fdca26\"], [1.0, \"#f0f921\"]], \"sequentialminus\": [[0.0, \"#0d0887\"], [0.1111111111111111, \"#46039f\"], [0.2222222222222222, \"#7201a8\"], [0.3333333333333333, \"#9c179e\"], [0.4444444444444444, \"#bd3786\"], [0.5555555555555556, \"#d8576b\"], [0.6666666666666666, \"#ed7953\"], [0.7777777777777778, \"#fb9f3a\"], [0.8888888888888888, \"#fdca26\"], [1.0, \"#f0f921\"]]}, \"colorway\": [\"#636efa\", \"#EF553B\", \"#00cc96\", \"#ab63fa\", \"#FFA15A\", \"#19d3f3\", \"#FF6692\", \"#B6E880\", \"#FF97FF\", \"#FECB52\"], \"font\": {\"color\": \"#2a3f5f\"}, \"geo\": {\"bgcolor\": \"white\", \"lakecolor\": \"white\", \"landcolor\": \"#E5ECF6\", \"showlakes\": true, \"showland\": true, \"subunitcolor\": \"white\"}, \"hoverlabel\": {\"align\": \"left\"}, \"hovermode\": \"closest\", \"mapbox\": {\"style\": \"light\"}, \"paper_bgcolor\": \"white\", \"plot_bgcolor\": \"#E5ECF6\", \"polar\": {\"angularaxis\": {\"gridcolor\": \"white\", \"linecolor\": \"white\", \"ticks\": \"\"}, \"bgcolor\": \"#E5ECF6\", \"radialaxis\": {\"gridcolor\": \"white\", \"linecolor\": \"white\", \"ticks\": \"\"}}, \"scene\": {\"xaxis\": {\"backgroundcolor\": \"#E5ECF6\", \"gridcolor\": \"white\", \"gridwidth\": 2, \"linecolor\": \"white\", \"showbackground\": true, \"ticks\": \"\", \"zerolinecolor\": \"white\"}, \"yaxis\": {\"backgroundcolor\": \"#E5ECF6\", \"gridcolor\": \"white\", \"gridwidth\": 2, \"linecolor\": \"white\", \"showbackground\": true, \"ticks\": \"\", \"zerolinecolor\": \"white\"}, \"zaxis\": {\"backgroundcolor\": \"#E5ECF6\", \"gridcolor\": \"white\", \"gridwidth\": 2, \"linecolor\": \"white\", \"showbackground\": true, \"ticks\": \"\", \"zerolinecolor\": \"white\"}}, \"shapedefaults\": {\"line\": {\"color\": \"#2a3f5f\"}}, \"ternary\": {\"aaxis\": {\"gridcolor\": \"white\", \"linecolor\": \"white\", \"ticks\": \"\"}, \"baxis\": {\"gridcolor\": \"white\", \"linecolor\": \"white\", \"ticks\": \"\"}, \"bgcolor\": \"#E5ECF6\", \"caxis\": {\"gridcolor\": \"white\", \"linecolor\": \"white\", \"ticks\": \"\"}}, \"title\": {\"x\": 0.05}, \"xaxis\": {\"automargin\": true, \"gridcolor\": \"white\", \"linecolor\": \"white\", \"ticks\": \"\", \"title\": {\"standoff\": 15}, \"zerolinecolor\": \"white\", \"zerolinewidth\": 2}, \"yaxis\": {\"automargin\": true, \"gridcolor\": \"white\", \"linecolor\": \"white\", \"ticks\": \"\", \"title\": {\"standoff\": 15}, \"zerolinecolor\": \"white\", \"zerolinewidth\": 2}}}, \"title\": {\"font\": {\"color\": \"#4D5663\"}, \"text\": \"Distribution of Smoking Status in Training data\"}, \"xaxis\": {\"gridcolor\": \"#E1E5ED\", \"linecolor\": \"white\", \"showgrid\": true, \"tickfont\": {\"color\": \"#4D5663\"}, \"title\": {\"font\": {\"color\": \"#4D5663\"}, \"text\": \"Smoking Status\"}, \"zerolinecolor\": \"#E1E5ED\"}, \"yaxis\": {\"gridcolor\": \"#E1E5ED\", \"linecolor\": \"white\", \"showgrid\": true, \"tickfont\": {\"color\": \"#4D5663\"}, \"title\": {\"font\": {\"color\": \"#4D5663\"}, \"text\": \"Frequency\"}, \"zerolinecolor\": \"#E1E5ED\"}},                        {\"showLink\": true, \"linkText\": \"Export to plot.ly\", \"plotlyServerURL\": \"https://plot.ly\", \"responsive\": true}                    ).then(function(){\n",
       "                            \n",
       "var gd = document.getElementById('572c0b68-1fdc-421e-98f1-4c292ee60bde');\n",
       "var x = new MutationObserver(function (mutations, observer) {{\n",
       "        var display = window.getComputedStyle(gd).display;\n",
       "        if (!display || display === 'none') {{\n",
       "            console.log([gd, 'removed!']);\n",
       "            Plotly.purge(gd);\n",
       "            observer.disconnect();\n",
       "        }}\n",
       "}});\n",
       "\n",
       "// Listen for the removal of the full notebook cells\n",
       "var notebookContainer = gd.closest('#notebook-container');\n",
       "if (notebookContainer) {{\n",
       "    x.observe(notebookContainer, {childList: true});\n",
       "}}\n",
       "\n",
       "// Listen for the clearing of the current output cell\n",
       "var outputEl = gd.closest('.output');\n",
       "if (outputEl) {{\n",
       "    x.observe(outputEl, {childList: true});\n",
       "}}\n",
       "\n",
       "                        })                };                });            </script>        </div>"
      ]
     },
     "metadata": {},
     "output_type": "display_data"
    }
   ],
   "source": [
    "train_patient_dataframe['SmokingStatus'].iplot(kind='hist',\n",
    "                        bins=70, xTitle='Smoking Status', yTitle='Frequency', \n",
    "                        linecolor='white',opacity=0.7,\n",
    "                        color='rgb(0, 200, 200)', theme='white',\n",
    "                        bargap=0.01, title='Distribution of Smoking Status in Training data')"
   ]
  },
  {
   "cell_type": "markdown",
   "id": "clean-recall",
   "metadata": {},
   "source": [
    "#### Checking association between SmokingStatus and FVC"
   ]
  },
  {
   "cell_type": "markdown",
   "id": "painted-robinson",
   "metadata": {},
   "source": [
    "- Looks like the Ex smoker has the highest number of FVC specially at the old age(Between 70-75).\n",
    "- People who has never smoked and ex smoker also has around the same range of FVC\n",
    "- The highest FVC that currently smokes is of age 65 with FVC of 4418\n",
    "- The lowest FVC that currently smokes is of age 65 with FVC of 2776\n",
    "- It is also however strange that people who never smoked has consistently lower FVC than people who were Ex-smoker or who never smoked "
   ]
  },
  {
   "cell_type": "code",
   "execution_count": 30,
   "id": "unlikely-desktop",
   "metadata": {},
   "outputs": [
    {
     "data": {
      "application/vnd.plotly.v1+json": {
       "config": {
        "plotlyServerURL": "https://plot.ly"
       },
       "data": [
        {
         "hovertemplate": "SmokingStatus=Ex-smoker<br>Age=%{x}<br>FVC=%{y}<extra></extra>",
         "legendgroup": "Ex-smoker",
         "marker": {
          "color": "#636efa",
          "symbol": "circle"
         },
         "mode": "markers",
         "name": "Ex-smoker",
         "orientation": "v",
         "showlegend": true,
         "type": "scatter",
         "x": [
          79,
          69,
          60,
          72,
          56,
          71,
          83,
          71,
          65,
          57,
          73,
          69,
          63,
          69,
          71,
          58,
          68,
          73,
          54,
          63,
          68,
          64,
          73,
          71,
          69,
          70,
          55,
          69,
          69,
          64,
          68,
          60,
          64,
          73,
          73,
          74,
          72,
          77,
          57,
          58,
          60,
          78,
          55,
          69,
          67,
          64,
          66,
          76,
          66,
          63,
          54,
          58,
          62,
          79,
          73,
          73,
          68,
          71,
          52,
          69,
          69,
          65,
          62,
          67,
          69,
          81,
          71,
          76,
          70,
          58,
          71,
          68,
          66,
          67,
          63,
          64,
          56,
          88,
          60,
          77,
          70,
          63,
          72,
          74,
          58,
          78,
          62,
          72,
          64,
          72,
          59,
          77,
          69,
          74,
          56,
          69,
          64,
          68,
          72,
          78,
          65,
          64,
          71,
          75,
          71,
          62,
          53,
          66,
          70,
          55,
          74,
          66,
          74,
          65,
          73,
          68,
          73,
          72
         ],
         "xaxis": "x",
         "y": [
          2315,
          3660,
          3523,
          3326,
          3807,
          3042,
          2100,
          1536,
          2903,
          2884,
          2472,
          2506,
          5045,
          2728,
          3946,
          3791,
          3313,
          1697,
          2489,
          3255,
          3969,
          3456,
          2794,
          2359,
          2547,
          3170,
          1860,
          3562,
          3695,
          4916,
          2934,
          2553,
          2479,
          2914,
          2073,
          1995,
          2389,
          2548,
          2917,
          2581,
          3559,
          2375,
          1677,
          2582,
          2629,
          3239,
          4510,
          3793,
          3247,
          2841,
          2102,
          4562,
          3186,
          1970,
          2603,
          2648,
          3009,
          2541,
          3130,
          3096,
          4291,
          3849,
          2672,
          2379,
          2869,
          2439,
          6399,
          1401,
          2644,
          1885,
          3518,
          3829,
          2080,
          2061,
          2991,
          1853,
          3255,
          2075,
          3020,
          3107,
          4141,
          2276,
          4051,
          2327,
          2223,
          2109,
          2984,
          1879,
          2375,
          4143,
          2460,
          1412,
          2805,
          3043,
          2569,
          3959,
          3574,
          2345,
          2390,
          2808,
          2030,
          3191,
          2421,
          2308,
          2470,
          2415,
          3157,
          2231,
          3046,
          3962,
          2184,
          3179,
          2651,
          1556,
          3020,
          2739,
          1930,
          3294
         ],
         "yaxis": "y"
        },
        {
         "hovertemplate": "SmokingStatus=Never smoked<br>Age=%{x}<br>FVC=%{y}<extra></extra>",
         "legendgroup": "Never smoked",
         "marker": {
          "color": "#EF553B",
          "symbol": "circle"
         },
         "mode": "markers",
         "name": "Never smoked",
         "orientation": "v",
         "showlegend": true,
         "type": "scatter",
         "x": [
          65,
          66,
          70,
          74,
          52,
          51,
          65,
          63,
          74,
          69,
          65,
          87,
          71,
          65,
          61,
          83,
          65,
          66,
          56,
          64,
          65,
          72,
          77,
          74,
          66,
          71,
          62,
          76,
          70,
          62,
          60,
          61,
          75,
          67,
          65,
          73,
          68,
          58,
          79,
          57,
          65,
          72,
          56,
          64,
          67,
          61,
          65,
          66,
          73
         ],
         "xaxis": "x",
         "y": [
          3418,
          2297,
          1375,
          2301,
          1641,
          2298,
          3367,
          2478,
          2377,
          1674,
          2349,
          2220,
          2253,
          1690,
          3327,
          3195,
          3808,
          2520,
          1728,
          4311,
          2658,
          2992,
          1583,
          1909,
          1399,
          1272,
          1563,
          1938,
          1015,
          2080,
          1965,
          1411,
          2283,
          1880,
          3170,
          3240,
          1637,
          2066,
          3107,
          1366,
          3128,
          4284,
          3338,
          3237,
          3562,
          1560,
          2619,
          3357,
          2925
         ],
         "yaxis": "y"
        },
        {
         "hovertemplate": "SmokingStatus=Currently smokes<br>Age=%{x}<br>FVC=%{y}<extra></extra>",
         "legendgroup": "Currently smokes",
         "marker": {
          "color": "#00cc96",
          "symbol": "circle"
         },
         "mode": "markers",
         "name": "Currently smokes",
         "orientation": "v",
         "showlegend": true,
         "type": "scatter",
         "x": [
          49,
          68,
          58,
          65,
          76,
          70,
          69,
          68,
          65
         ],
         "xaxis": "x",
         "y": [
          2918,
          2933,
          4124,
          2776,
          2846,
          3035,
          3135,
          2849,
          4418
         ],
         "yaxis": "y"
        }
       ],
       "layout": {
        "legend": {
         "title": {
          "text": "SmokingStatus"
         },
         "tracegroupgap": 0
        },
        "template": {
         "data": {
          "bar": [
           {
            "error_x": {
             "color": "#2a3f5f"
            },
            "error_y": {
             "color": "#2a3f5f"
            },
            "marker": {
             "line": {
              "color": "#E5ECF6",
              "width": 0.5
             }
            },
            "type": "bar"
           }
          ],
          "barpolar": [
           {
            "marker": {
             "line": {
              "color": "#E5ECF6",
              "width": 0.5
             }
            },
            "type": "barpolar"
           }
          ],
          "carpet": [
           {
            "aaxis": {
             "endlinecolor": "#2a3f5f",
             "gridcolor": "white",
             "linecolor": "white",
             "minorgridcolor": "white",
             "startlinecolor": "#2a3f5f"
            },
            "baxis": {
             "endlinecolor": "#2a3f5f",
             "gridcolor": "white",
             "linecolor": "white",
             "minorgridcolor": "white",
             "startlinecolor": "#2a3f5f"
            },
            "type": "carpet"
           }
          ],
          "choropleth": [
           {
            "colorbar": {
             "outlinewidth": 0,
             "ticks": ""
            },
            "type": "choropleth"
           }
          ],
          "contour": [
           {
            "colorbar": {
             "outlinewidth": 0,
             "ticks": ""
            },
            "colorscale": [
             [
              0,
              "#0d0887"
             ],
             [
              0.1111111111111111,
              "#46039f"
             ],
             [
              0.2222222222222222,
              "#7201a8"
             ],
             [
              0.3333333333333333,
              "#9c179e"
             ],
             [
              0.4444444444444444,
              "#bd3786"
             ],
             [
              0.5555555555555556,
              "#d8576b"
             ],
             [
              0.6666666666666666,
              "#ed7953"
             ],
             [
              0.7777777777777778,
              "#fb9f3a"
             ],
             [
              0.8888888888888888,
              "#fdca26"
             ],
             [
              1,
              "#f0f921"
             ]
            ],
            "type": "contour"
           }
          ],
          "contourcarpet": [
           {
            "colorbar": {
             "outlinewidth": 0,
             "ticks": ""
            },
            "type": "contourcarpet"
           }
          ],
          "heatmap": [
           {
            "colorbar": {
             "outlinewidth": 0,
             "ticks": ""
            },
            "colorscale": [
             [
              0,
              "#0d0887"
             ],
             [
              0.1111111111111111,
              "#46039f"
             ],
             [
              0.2222222222222222,
              "#7201a8"
             ],
             [
              0.3333333333333333,
              "#9c179e"
             ],
             [
              0.4444444444444444,
              "#bd3786"
             ],
             [
              0.5555555555555556,
              "#d8576b"
             ],
             [
              0.6666666666666666,
              "#ed7953"
             ],
             [
              0.7777777777777778,
              "#fb9f3a"
             ],
             [
              0.8888888888888888,
              "#fdca26"
             ],
             [
              1,
              "#f0f921"
             ]
            ],
            "type": "heatmap"
           }
          ],
          "heatmapgl": [
           {
            "colorbar": {
             "outlinewidth": 0,
             "ticks": ""
            },
            "colorscale": [
             [
              0,
              "#0d0887"
             ],
             [
              0.1111111111111111,
              "#46039f"
             ],
             [
              0.2222222222222222,
              "#7201a8"
             ],
             [
              0.3333333333333333,
              "#9c179e"
             ],
             [
              0.4444444444444444,
              "#bd3786"
             ],
             [
              0.5555555555555556,
              "#d8576b"
             ],
             [
              0.6666666666666666,
              "#ed7953"
             ],
             [
              0.7777777777777778,
              "#fb9f3a"
             ],
             [
              0.8888888888888888,
              "#fdca26"
             ],
             [
              1,
              "#f0f921"
             ]
            ],
            "type": "heatmapgl"
           }
          ],
          "histogram": [
           {
            "marker": {
             "colorbar": {
              "outlinewidth": 0,
              "ticks": ""
             }
            },
            "type": "histogram"
           }
          ],
          "histogram2d": [
           {
            "colorbar": {
             "outlinewidth": 0,
             "ticks": ""
            },
            "colorscale": [
             [
              0,
              "#0d0887"
             ],
             [
              0.1111111111111111,
              "#46039f"
             ],
             [
              0.2222222222222222,
              "#7201a8"
             ],
             [
              0.3333333333333333,
              "#9c179e"
             ],
             [
              0.4444444444444444,
              "#bd3786"
             ],
             [
              0.5555555555555556,
              "#d8576b"
             ],
             [
              0.6666666666666666,
              "#ed7953"
             ],
             [
              0.7777777777777778,
              "#fb9f3a"
             ],
             [
              0.8888888888888888,
              "#fdca26"
             ],
             [
              1,
              "#f0f921"
             ]
            ],
            "type": "histogram2d"
           }
          ],
          "histogram2dcontour": [
           {
            "colorbar": {
             "outlinewidth": 0,
             "ticks": ""
            },
            "colorscale": [
             [
              0,
              "#0d0887"
             ],
             [
              0.1111111111111111,
              "#46039f"
             ],
             [
              0.2222222222222222,
              "#7201a8"
             ],
             [
              0.3333333333333333,
              "#9c179e"
             ],
             [
              0.4444444444444444,
              "#bd3786"
             ],
             [
              0.5555555555555556,
              "#d8576b"
             ],
             [
              0.6666666666666666,
              "#ed7953"
             ],
             [
              0.7777777777777778,
              "#fb9f3a"
             ],
             [
              0.8888888888888888,
              "#fdca26"
             ],
             [
              1,
              "#f0f921"
             ]
            ],
            "type": "histogram2dcontour"
           }
          ],
          "mesh3d": [
           {
            "colorbar": {
             "outlinewidth": 0,
             "ticks": ""
            },
            "type": "mesh3d"
           }
          ],
          "parcoords": [
           {
            "line": {
             "colorbar": {
              "outlinewidth": 0,
              "ticks": ""
             }
            },
            "type": "parcoords"
           }
          ],
          "pie": [
           {
            "automargin": true,
            "type": "pie"
           }
          ],
          "scatter": [
           {
            "marker": {
             "colorbar": {
              "outlinewidth": 0,
              "ticks": ""
             }
            },
            "type": "scatter"
           }
          ],
          "scatter3d": [
           {
            "line": {
             "colorbar": {
              "outlinewidth": 0,
              "ticks": ""
             }
            },
            "marker": {
             "colorbar": {
              "outlinewidth": 0,
              "ticks": ""
             }
            },
            "type": "scatter3d"
           }
          ],
          "scattercarpet": [
           {
            "marker": {
             "colorbar": {
              "outlinewidth": 0,
              "ticks": ""
             }
            },
            "type": "scattercarpet"
           }
          ],
          "scattergeo": [
           {
            "marker": {
             "colorbar": {
              "outlinewidth": 0,
              "ticks": ""
             }
            },
            "type": "scattergeo"
           }
          ],
          "scattergl": [
           {
            "marker": {
             "colorbar": {
              "outlinewidth": 0,
              "ticks": ""
             }
            },
            "type": "scattergl"
           }
          ],
          "scattermapbox": [
           {
            "marker": {
             "colorbar": {
              "outlinewidth": 0,
              "ticks": ""
             }
            },
            "type": "scattermapbox"
           }
          ],
          "scatterpolar": [
           {
            "marker": {
             "colorbar": {
              "outlinewidth": 0,
              "ticks": ""
             }
            },
            "type": "scatterpolar"
           }
          ],
          "scatterpolargl": [
           {
            "marker": {
             "colorbar": {
              "outlinewidth": 0,
              "ticks": ""
             }
            },
            "type": "scatterpolargl"
           }
          ],
          "scatterternary": [
           {
            "marker": {
             "colorbar": {
              "outlinewidth": 0,
              "ticks": ""
             }
            },
            "type": "scatterternary"
           }
          ],
          "surface": [
           {
            "colorbar": {
             "outlinewidth": 0,
             "ticks": ""
            },
            "colorscale": [
             [
              0,
              "#0d0887"
             ],
             [
              0.1111111111111111,
              "#46039f"
             ],
             [
              0.2222222222222222,
              "#7201a8"
             ],
             [
              0.3333333333333333,
              "#9c179e"
             ],
             [
              0.4444444444444444,
              "#bd3786"
             ],
             [
              0.5555555555555556,
              "#d8576b"
             ],
             [
              0.6666666666666666,
              "#ed7953"
             ],
             [
              0.7777777777777778,
              "#fb9f3a"
             ],
             [
              0.8888888888888888,
              "#fdca26"
             ],
             [
              1,
              "#f0f921"
             ]
            ],
            "type": "surface"
           }
          ],
          "table": [
           {
            "cells": {
             "fill": {
              "color": "#EBF0F8"
             },
             "line": {
              "color": "white"
             }
            },
            "header": {
             "fill": {
              "color": "#C8D4E3"
             },
             "line": {
              "color": "white"
             }
            },
            "type": "table"
           }
          ]
         },
         "layout": {
          "annotationdefaults": {
           "arrowcolor": "#2a3f5f",
           "arrowhead": 0,
           "arrowwidth": 1
          },
          "autotypenumbers": "strict",
          "coloraxis": {
           "colorbar": {
            "outlinewidth": 0,
            "ticks": ""
           }
          },
          "colorscale": {
           "diverging": [
            [
             0,
             "#8e0152"
            ],
            [
             0.1,
             "#c51b7d"
            ],
            [
             0.2,
             "#de77ae"
            ],
            [
             0.3,
             "#f1b6da"
            ],
            [
             0.4,
             "#fde0ef"
            ],
            [
             0.5,
             "#f7f7f7"
            ],
            [
             0.6,
             "#e6f5d0"
            ],
            [
             0.7,
             "#b8e186"
            ],
            [
             0.8,
             "#7fbc41"
            ],
            [
             0.9,
             "#4d9221"
            ],
            [
             1,
             "#276419"
            ]
           ],
           "sequential": [
            [
             0,
             "#0d0887"
            ],
            [
             0.1111111111111111,
             "#46039f"
            ],
            [
             0.2222222222222222,
             "#7201a8"
            ],
            [
             0.3333333333333333,
             "#9c179e"
            ],
            [
             0.4444444444444444,
             "#bd3786"
            ],
            [
             0.5555555555555556,
             "#d8576b"
            ],
            [
             0.6666666666666666,
             "#ed7953"
            ],
            [
             0.7777777777777778,
             "#fb9f3a"
            ],
            [
             0.8888888888888888,
             "#fdca26"
            ],
            [
             1,
             "#f0f921"
            ]
           ],
           "sequentialminus": [
            [
             0,
             "#0d0887"
            ],
            [
             0.1111111111111111,
             "#46039f"
            ],
            [
             0.2222222222222222,
             "#7201a8"
            ],
            [
             0.3333333333333333,
             "#9c179e"
            ],
            [
             0.4444444444444444,
             "#bd3786"
            ],
            [
             0.5555555555555556,
             "#d8576b"
            ],
            [
             0.6666666666666666,
             "#ed7953"
            ],
            [
             0.7777777777777778,
             "#fb9f3a"
            ],
            [
             0.8888888888888888,
             "#fdca26"
            ],
            [
             1,
             "#f0f921"
            ]
           ]
          },
          "colorway": [
           "#636efa",
           "#EF553B",
           "#00cc96",
           "#ab63fa",
           "#FFA15A",
           "#19d3f3",
           "#FF6692",
           "#B6E880",
           "#FF97FF",
           "#FECB52"
          ],
          "font": {
           "color": "#2a3f5f"
          },
          "geo": {
           "bgcolor": "white",
           "lakecolor": "white",
           "landcolor": "#E5ECF6",
           "showlakes": true,
           "showland": true,
           "subunitcolor": "white"
          },
          "hoverlabel": {
           "align": "left"
          },
          "hovermode": "closest",
          "mapbox": {
           "style": "light"
          },
          "paper_bgcolor": "white",
          "plot_bgcolor": "#E5ECF6",
          "polar": {
           "angularaxis": {
            "gridcolor": "white",
            "linecolor": "white",
            "ticks": ""
           },
           "bgcolor": "#E5ECF6",
           "radialaxis": {
            "gridcolor": "white",
            "linecolor": "white",
            "ticks": ""
           }
          },
          "scene": {
           "xaxis": {
            "backgroundcolor": "#E5ECF6",
            "gridcolor": "white",
            "gridwidth": 2,
            "linecolor": "white",
            "showbackground": true,
            "ticks": "",
            "zerolinecolor": "white"
           },
           "yaxis": {
            "backgroundcolor": "#E5ECF6",
            "gridcolor": "white",
            "gridwidth": 2,
            "linecolor": "white",
            "showbackground": true,
            "ticks": "",
            "zerolinecolor": "white"
           },
           "zaxis": {
            "backgroundcolor": "#E5ECF6",
            "gridcolor": "white",
            "gridwidth": 2,
            "linecolor": "white",
            "showbackground": true,
            "ticks": "",
            "zerolinecolor": "white"
           }
          },
          "shapedefaults": {
           "line": {
            "color": "#2a3f5f"
           }
          },
          "ternary": {
           "aaxis": {
            "gridcolor": "white",
            "linecolor": "white",
            "ticks": ""
           },
           "baxis": {
            "gridcolor": "white",
            "linecolor": "white",
            "ticks": ""
           },
           "bgcolor": "#E5ECF6",
           "caxis": {
            "gridcolor": "white",
            "linecolor": "white",
            "ticks": ""
           }
          },
          "title": {
           "x": 0.05
          },
          "xaxis": {
           "automargin": true,
           "gridcolor": "white",
           "linecolor": "white",
           "ticks": "",
           "title": {
            "standoff": 15
           },
           "zerolinecolor": "white",
           "zerolinewidth": 2
          },
          "yaxis": {
           "automargin": true,
           "gridcolor": "white",
           "linecolor": "white",
           "ticks": "",
           "title": {
            "standoff": 15
           },
           "zerolinecolor": "white",
           "zerolinewidth": 2
          }
         }
        },
        "title": {
         "text": "Relation between Age and FVC alongside the smoking Status"
        },
        "xaxis": {
         "anchor": "y",
         "domain": [
          0,
          1
         ],
         "title": {
          "text": "Age"
         }
        },
        "yaxis": {
         "anchor": "x",
         "domain": [
          0,
          1
         ],
         "title": {
          "text": "FVC"
         }
        }
       }
      },
      "text/html": [
       "<div>                            <div id=\"2e775893-659b-4a7c-82b5-776c527e94b1\" class=\"plotly-graph-div\" style=\"height:525px; width:100%;\"></div>            <script type=\"text/javascript\">                require([\"plotly\"], function(Plotly) {                    window.PLOTLYENV=window.PLOTLYENV || {};                                    if (document.getElementById(\"2e775893-659b-4a7c-82b5-776c527e94b1\")) {                    Plotly.newPlot(                        \"2e775893-659b-4a7c-82b5-776c527e94b1\",                        [{\"hovertemplate\": \"SmokingStatus=Ex-smoker<br>Age=%{x}<br>FVC=%{y}<extra></extra>\", \"legendgroup\": \"Ex-smoker\", \"marker\": {\"color\": \"#636efa\", \"symbol\": \"circle\"}, \"mode\": \"markers\", \"name\": \"Ex-smoker\", \"orientation\": \"v\", \"showlegend\": true, \"type\": \"scatter\", \"x\": [79, 69, 60, 72, 56, 71, 83, 71, 65, 57, 73, 69, 63, 69, 71, 58, 68, 73, 54, 63, 68, 64, 73, 71, 69, 70, 55, 69, 69, 64, 68, 60, 64, 73, 73, 74, 72, 77, 57, 58, 60, 78, 55, 69, 67, 64, 66, 76, 66, 63, 54, 58, 62, 79, 73, 73, 68, 71, 52, 69, 69, 65, 62, 67, 69, 81, 71, 76, 70, 58, 71, 68, 66, 67, 63, 64, 56, 88, 60, 77, 70, 63, 72, 74, 58, 78, 62, 72, 64, 72, 59, 77, 69, 74, 56, 69, 64, 68, 72, 78, 65, 64, 71, 75, 71, 62, 53, 66, 70, 55, 74, 66, 74, 65, 73, 68, 73, 72], \"xaxis\": \"x\", \"y\": [2315, 3660, 3523, 3326, 3807, 3042, 2100, 1536, 2903, 2884, 2472, 2506, 5045, 2728, 3946, 3791, 3313, 1697, 2489, 3255, 3969, 3456, 2794, 2359, 2547, 3170, 1860, 3562, 3695, 4916, 2934, 2553, 2479, 2914, 2073, 1995, 2389, 2548, 2917, 2581, 3559, 2375, 1677, 2582, 2629, 3239, 4510, 3793, 3247, 2841, 2102, 4562, 3186, 1970, 2603, 2648, 3009, 2541, 3130, 3096, 4291, 3849, 2672, 2379, 2869, 2439, 6399, 1401, 2644, 1885, 3518, 3829, 2080, 2061, 2991, 1853, 3255, 2075, 3020, 3107, 4141, 2276, 4051, 2327, 2223, 2109, 2984, 1879, 2375, 4143, 2460, 1412, 2805, 3043, 2569, 3959, 3574, 2345, 2390, 2808, 2030, 3191, 2421, 2308, 2470, 2415, 3157, 2231, 3046, 3962, 2184, 3179, 2651, 1556, 3020, 2739, 1930, 3294], \"yaxis\": \"y\"}, {\"hovertemplate\": \"SmokingStatus=Never smoked<br>Age=%{x}<br>FVC=%{y}<extra></extra>\", \"legendgroup\": \"Never smoked\", \"marker\": {\"color\": \"#EF553B\", \"symbol\": \"circle\"}, \"mode\": \"markers\", \"name\": \"Never smoked\", \"orientation\": \"v\", \"showlegend\": true, \"type\": \"scatter\", \"x\": [65, 66, 70, 74, 52, 51, 65, 63, 74, 69, 65, 87, 71, 65, 61, 83, 65, 66, 56, 64, 65, 72, 77, 74, 66, 71, 62, 76, 70, 62, 60, 61, 75, 67, 65, 73, 68, 58, 79, 57, 65, 72, 56, 64, 67, 61, 65, 66, 73], \"xaxis\": \"x\", \"y\": [3418, 2297, 1375, 2301, 1641, 2298, 3367, 2478, 2377, 1674, 2349, 2220, 2253, 1690, 3327, 3195, 3808, 2520, 1728, 4311, 2658, 2992, 1583, 1909, 1399, 1272, 1563, 1938, 1015, 2080, 1965, 1411, 2283, 1880, 3170, 3240, 1637, 2066, 3107, 1366, 3128, 4284, 3338, 3237, 3562, 1560, 2619, 3357, 2925], \"yaxis\": \"y\"}, {\"hovertemplate\": \"SmokingStatus=Currently smokes<br>Age=%{x}<br>FVC=%{y}<extra></extra>\", \"legendgroup\": \"Currently smokes\", \"marker\": {\"color\": \"#00cc96\", \"symbol\": \"circle\"}, \"mode\": \"markers\", \"name\": \"Currently smokes\", \"orientation\": \"v\", \"showlegend\": true, \"type\": \"scatter\", \"x\": [49, 68, 58, 65, 76, 70, 69, 68, 65], \"xaxis\": \"x\", \"y\": [2918, 2933, 4124, 2776, 2846, 3035, 3135, 2849, 4418], \"yaxis\": \"y\"}],                        {\"legend\": {\"title\": {\"text\": \"SmokingStatus\"}, \"tracegroupgap\": 0}, \"template\": {\"data\": {\"bar\": [{\"error_x\": {\"color\": \"#2a3f5f\"}, \"error_y\": {\"color\": \"#2a3f5f\"}, \"marker\": {\"line\": {\"color\": \"#E5ECF6\", \"width\": 0.5}}, \"type\": \"bar\"}], \"barpolar\": [{\"marker\": {\"line\": {\"color\": \"#E5ECF6\", \"width\": 0.5}}, \"type\": \"barpolar\"}], \"carpet\": [{\"aaxis\": {\"endlinecolor\": \"#2a3f5f\", \"gridcolor\": \"white\", \"linecolor\": \"white\", \"minorgridcolor\": \"white\", \"startlinecolor\": \"#2a3f5f\"}, \"baxis\": {\"endlinecolor\": \"#2a3f5f\", \"gridcolor\": \"white\", \"linecolor\": \"white\", \"minorgridcolor\": \"white\", \"startlinecolor\": \"#2a3f5f\"}, \"type\": \"carpet\"}], \"choropleth\": [{\"colorbar\": {\"outlinewidth\": 0, \"ticks\": \"\"}, \"type\": \"choropleth\"}], \"contour\": [{\"colorbar\": {\"outlinewidth\": 0, \"ticks\": \"\"}, \"colorscale\": [[0.0, \"#0d0887\"], [0.1111111111111111, \"#46039f\"], [0.2222222222222222, \"#7201a8\"], [0.3333333333333333, \"#9c179e\"], [0.4444444444444444, \"#bd3786\"], [0.5555555555555556, \"#d8576b\"], [0.6666666666666666, \"#ed7953\"], [0.7777777777777778, \"#fb9f3a\"], [0.8888888888888888, \"#fdca26\"], [1.0, \"#f0f921\"]], \"type\": \"contour\"}], \"contourcarpet\": [{\"colorbar\": {\"outlinewidth\": 0, \"ticks\": \"\"}, \"type\": \"contourcarpet\"}], \"heatmap\": [{\"colorbar\": {\"outlinewidth\": 0, \"ticks\": \"\"}, \"colorscale\": [[0.0, \"#0d0887\"], [0.1111111111111111, \"#46039f\"], [0.2222222222222222, \"#7201a8\"], [0.3333333333333333, \"#9c179e\"], [0.4444444444444444, \"#bd3786\"], [0.5555555555555556, \"#d8576b\"], [0.6666666666666666, \"#ed7953\"], [0.7777777777777778, \"#fb9f3a\"], [0.8888888888888888, \"#fdca26\"], [1.0, \"#f0f921\"]], \"type\": \"heatmap\"}], \"heatmapgl\": [{\"colorbar\": {\"outlinewidth\": 0, \"ticks\": \"\"}, \"colorscale\": [[0.0, \"#0d0887\"], [0.1111111111111111, \"#46039f\"], [0.2222222222222222, \"#7201a8\"], [0.3333333333333333, \"#9c179e\"], [0.4444444444444444, \"#bd3786\"], [0.5555555555555556, \"#d8576b\"], [0.6666666666666666, \"#ed7953\"], [0.7777777777777778, \"#fb9f3a\"], [0.8888888888888888, \"#fdca26\"], [1.0, \"#f0f921\"]], \"type\": \"heatmapgl\"}], \"histogram\": [{\"marker\": {\"colorbar\": {\"outlinewidth\": 0, \"ticks\": \"\"}}, \"type\": \"histogram\"}], \"histogram2d\": [{\"colorbar\": {\"outlinewidth\": 0, \"ticks\": \"\"}, \"colorscale\": [[0.0, \"#0d0887\"], [0.1111111111111111, \"#46039f\"], [0.2222222222222222, \"#7201a8\"], [0.3333333333333333, \"#9c179e\"], [0.4444444444444444, \"#bd3786\"], [0.5555555555555556, \"#d8576b\"], [0.6666666666666666, \"#ed7953\"], [0.7777777777777778, \"#fb9f3a\"], [0.8888888888888888, \"#fdca26\"], [1.0, \"#f0f921\"]], \"type\": \"histogram2d\"}], \"histogram2dcontour\": [{\"colorbar\": {\"outlinewidth\": 0, \"ticks\": \"\"}, \"colorscale\": [[0.0, \"#0d0887\"], [0.1111111111111111, \"#46039f\"], [0.2222222222222222, \"#7201a8\"], [0.3333333333333333, \"#9c179e\"], [0.4444444444444444, \"#bd3786\"], [0.5555555555555556, \"#d8576b\"], [0.6666666666666666, \"#ed7953\"], [0.7777777777777778, \"#fb9f3a\"], [0.8888888888888888, \"#fdca26\"], [1.0, \"#f0f921\"]], \"type\": \"histogram2dcontour\"}], \"mesh3d\": [{\"colorbar\": {\"outlinewidth\": 0, \"ticks\": \"\"}, \"type\": \"mesh3d\"}], \"parcoords\": [{\"line\": {\"colorbar\": {\"outlinewidth\": 0, \"ticks\": \"\"}}, \"type\": \"parcoords\"}], \"pie\": [{\"automargin\": true, \"type\": \"pie\"}], \"scatter\": [{\"marker\": {\"colorbar\": {\"outlinewidth\": 0, \"ticks\": \"\"}}, \"type\": \"scatter\"}], \"scatter3d\": [{\"line\": {\"colorbar\": {\"outlinewidth\": 0, \"ticks\": \"\"}}, \"marker\": {\"colorbar\": {\"outlinewidth\": 0, \"ticks\": \"\"}}, \"type\": \"scatter3d\"}], \"scattercarpet\": [{\"marker\": {\"colorbar\": {\"outlinewidth\": 0, \"ticks\": \"\"}}, \"type\": \"scattercarpet\"}], \"scattergeo\": [{\"marker\": {\"colorbar\": {\"outlinewidth\": 0, \"ticks\": \"\"}}, \"type\": \"scattergeo\"}], \"scattergl\": [{\"marker\": {\"colorbar\": {\"outlinewidth\": 0, \"ticks\": \"\"}}, \"type\": \"scattergl\"}], \"scattermapbox\": [{\"marker\": {\"colorbar\": {\"outlinewidth\": 0, \"ticks\": \"\"}}, \"type\": \"scattermapbox\"}], \"scatterpolar\": [{\"marker\": {\"colorbar\": {\"outlinewidth\": 0, \"ticks\": \"\"}}, \"type\": \"scatterpolar\"}], \"scatterpolargl\": [{\"marker\": {\"colorbar\": {\"outlinewidth\": 0, \"ticks\": \"\"}}, \"type\": \"scatterpolargl\"}], \"scatterternary\": [{\"marker\": {\"colorbar\": {\"outlinewidth\": 0, \"ticks\": \"\"}}, \"type\": \"scatterternary\"}], \"surface\": [{\"colorbar\": {\"outlinewidth\": 0, \"ticks\": \"\"}, \"colorscale\": [[0.0, \"#0d0887\"], [0.1111111111111111, \"#46039f\"], [0.2222222222222222, \"#7201a8\"], [0.3333333333333333, \"#9c179e\"], [0.4444444444444444, \"#bd3786\"], [0.5555555555555556, \"#d8576b\"], [0.6666666666666666, \"#ed7953\"], [0.7777777777777778, \"#fb9f3a\"], [0.8888888888888888, \"#fdca26\"], [1.0, \"#f0f921\"]], \"type\": \"surface\"}], \"table\": [{\"cells\": {\"fill\": {\"color\": \"#EBF0F8\"}, \"line\": {\"color\": \"white\"}}, \"header\": {\"fill\": {\"color\": \"#C8D4E3\"}, \"line\": {\"color\": \"white\"}}, \"type\": \"table\"}]}, \"layout\": {\"annotationdefaults\": {\"arrowcolor\": \"#2a3f5f\", \"arrowhead\": 0, \"arrowwidth\": 1}, \"autotypenumbers\": \"strict\", \"coloraxis\": {\"colorbar\": {\"outlinewidth\": 0, \"ticks\": \"\"}}, \"colorscale\": {\"diverging\": [[0, \"#8e0152\"], [0.1, \"#c51b7d\"], [0.2, \"#de77ae\"], [0.3, \"#f1b6da\"], [0.4, \"#fde0ef\"], [0.5, \"#f7f7f7\"], [0.6, \"#e6f5d0\"], [0.7, \"#b8e186\"], [0.8, \"#7fbc41\"], [0.9, \"#4d9221\"], [1, \"#276419\"]], \"sequential\": [[0.0, \"#0d0887\"], [0.1111111111111111, \"#46039f\"], [0.2222222222222222, \"#7201a8\"], [0.3333333333333333, \"#9c179e\"], [0.4444444444444444, \"#bd3786\"], [0.5555555555555556, \"#d8576b\"], [0.6666666666666666, \"#ed7953\"], [0.7777777777777778, \"#fb9f3a\"], [0.8888888888888888, \"#fdca26\"], [1.0, \"#f0f921\"]], \"sequentialminus\": [[0.0, \"#0d0887\"], [0.1111111111111111, \"#46039f\"], [0.2222222222222222, \"#7201a8\"], [0.3333333333333333, \"#9c179e\"], [0.4444444444444444, \"#bd3786\"], [0.5555555555555556, \"#d8576b\"], [0.6666666666666666, \"#ed7953\"], [0.7777777777777778, \"#fb9f3a\"], [0.8888888888888888, \"#fdca26\"], [1.0, \"#f0f921\"]]}, \"colorway\": [\"#636efa\", \"#EF553B\", \"#00cc96\", \"#ab63fa\", \"#FFA15A\", \"#19d3f3\", \"#FF6692\", \"#B6E880\", \"#FF97FF\", \"#FECB52\"], \"font\": {\"color\": \"#2a3f5f\"}, \"geo\": {\"bgcolor\": \"white\", \"lakecolor\": \"white\", \"landcolor\": \"#E5ECF6\", \"showlakes\": true, \"showland\": true, \"subunitcolor\": \"white\"}, \"hoverlabel\": {\"align\": \"left\"}, \"hovermode\": \"closest\", \"mapbox\": {\"style\": \"light\"}, \"paper_bgcolor\": \"white\", \"plot_bgcolor\": \"#E5ECF6\", \"polar\": {\"angularaxis\": {\"gridcolor\": \"white\", \"linecolor\": \"white\", \"ticks\": \"\"}, \"bgcolor\": \"#E5ECF6\", \"radialaxis\": {\"gridcolor\": \"white\", \"linecolor\": \"white\", \"ticks\": \"\"}}, \"scene\": {\"xaxis\": {\"backgroundcolor\": \"#E5ECF6\", \"gridcolor\": \"white\", \"gridwidth\": 2, \"linecolor\": \"white\", \"showbackground\": true, \"ticks\": \"\", \"zerolinecolor\": \"white\"}, \"yaxis\": {\"backgroundcolor\": \"#E5ECF6\", \"gridcolor\": \"white\", \"gridwidth\": 2, \"linecolor\": \"white\", \"showbackground\": true, \"ticks\": \"\", \"zerolinecolor\": \"white\"}, \"zaxis\": {\"backgroundcolor\": \"#E5ECF6\", \"gridcolor\": \"white\", \"gridwidth\": 2, \"linecolor\": \"white\", \"showbackground\": true, \"ticks\": \"\", \"zerolinecolor\": \"white\"}}, \"shapedefaults\": {\"line\": {\"color\": \"#2a3f5f\"}}, \"ternary\": {\"aaxis\": {\"gridcolor\": \"white\", \"linecolor\": \"white\", \"ticks\": \"\"}, \"baxis\": {\"gridcolor\": \"white\", \"linecolor\": \"white\", \"ticks\": \"\"}, \"bgcolor\": \"#E5ECF6\", \"caxis\": {\"gridcolor\": \"white\", \"linecolor\": \"white\", \"ticks\": \"\"}}, \"title\": {\"x\": 0.05}, \"xaxis\": {\"automargin\": true, \"gridcolor\": \"white\", \"linecolor\": \"white\", \"ticks\": \"\", \"title\": {\"standoff\": 15}, \"zerolinecolor\": \"white\", \"zerolinewidth\": 2}, \"yaxis\": {\"automargin\": true, \"gridcolor\": \"white\", \"linecolor\": \"white\", \"ticks\": \"\", \"title\": {\"standoff\": 15}, \"zerolinecolor\": \"white\", \"zerolinewidth\": 2}}}, \"title\": {\"text\": \"Relation between Age and FVC alongside the smoking Status\"}, \"xaxis\": {\"anchor\": \"y\", \"domain\": [0.0, 1.0], \"title\": {\"text\": \"Age\"}}, \"yaxis\": {\"anchor\": \"x\", \"domain\": [0.0, 1.0], \"title\": {\"text\": \"FVC\"}}},                        {\"responsive\": true}                    ).then(function(){\n",
       "                            \n",
       "var gd = document.getElementById('2e775893-659b-4a7c-82b5-776c527e94b1');\n",
       "var x = new MutationObserver(function (mutations, observer) {{\n",
       "        var display = window.getComputedStyle(gd).display;\n",
       "        if (!display || display === 'none') {{\n",
       "            console.log([gd, 'removed!']);\n",
       "            Plotly.purge(gd);\n",
       "            observer.disconnect();\n",
       "        }}\n",
       "}});\n",
       "\n",
       "// Listen for the removal of the full notebook cells\n",
       "var notebookContainer = gd.closest('#notebook-container');\n",
       "if (notebookContainer) {{\n",
       "    x.observe(notebookContainer, {childList: true});\n",
       "}}\n",
       "\n",
       "// Listen for the clearing of the current output cell\n",
       "var outputEl = gd.closest('.output');\n",
       "if (outputEl) {{\n",
       "    x.observe(outputEl, {childList: true});\n",
       "}}\n",
       "\n",
       "                        })                };                });            </script>        </div>"
      ]
     },
     "metadata": {},
     "output_type": "display_data"
    }
   ],
   "source": [
    "fig = go.Figure()\n",
    "fig = px.scatter(train_patient_dataframe,x='Age',y = 'FVC',color = 'SmokingStatus',title = 'Relation between Age and FVC alongside the smoking Status')\n",
    "fig.show()"
   ]
  },
  {
   "cell_type": "markdown",
   "id": "opposed-savannah",
   "metadata": {},
   "source": [
    "### Relation between sex and FVC with Smoking Status"
   ]
  },
  {
   "cell_type": "markdown",
   "id": "proper-melissa",
   "metadata": {},
   "source": [
    "- Male and female who never smoked has almost same range of FVC\n",
    "- Male who are Ex smoker has higher FVC than female who never smoked?\n",
    "- Could it be that the data for currently smokes and never smoked are lower than for ex smoker"
   ]
  },
  {
   "cell_type": "code",
   "execution_count": 31,
   "id": "collective-spelling",
   "metadata": {},
   "outputs": [
    {
     "data": {
      "application/vnd.plotly.v1+json": {
       "config": {
        "plotlyServerURL": "https://plot.ly"
       },
       "data": [
        {
         "hovertemplate": "SmokingStatus=Ex-smoker<br>Sex=%{x}<br>FVC=%{y}<extra></extra>",
         "legendgroup": "Ex-smoker",
         "marker": {
          "color": "#636efa",
          "symbol": "circle"
         },
         "mode": "markers",
         "name": "Ex-smoker",
         "orientation": "v",
         "showlegend": true,
         "type": "scatter",
         "x": [
          "Male",
          "Male",
          "Male",
          "Male",
          "Male",
          "Male",
          "Female",
          "Female",
          "Male",
          "Male",
          "Male",
          "Male",
          "Male",
          "Male",
          "Male",
          "Male",
          "Male",
          "Female",
          "Male",
          "Male",
          "Male",
          "Male",
          "Male",
          "Male",
          "Male",
          "Male",
          "Female",
          "Male",
          "Male",
          "Male",
          "Male",
          "Male",
          "Male",
          "Male",
          "Male",
          "Male",
          "Male",
          "Male",
          "Male",
          "Male",
          "Male",
          "Male",
          "Female",
          "Male",
          "Male",
          "Male",
          "Male",
          "Male",
          "Female",
          "Male",
          "Male",
          "Male",
          "Male",
          "Female",
          "Male",
          "Male",
          "Male",
          "Male",
          "Male",
          "Male",
          "Male",
          "Male",
          "Male",
          "Male",
          "Male",
          "Male",
          "Male",
          "Female",
          "Male",
          "Female",
          "Male",
          "Male",
          "Male",
          "Male",
          "Male",
          "Male",
          "Male",
          "Male",
          "Male",
          "Male",
          "Male",
          "Female",
          "Male",
          "Male",
          "Male",
          "Male",
          "Male",
          "Female",
          "Male",
          "Male",
          "Male",
          "Male",
          "Male",
          "Male",
          "Male",
          "Male",
          "Male",
          "Male",
          "Male",
          "Male",
          "Male",
          "Male",
          "Male",
          "Male",
          "Male",
          "Male",
          "Male",
          "Male",
          "Male",
          "Male",
          "Female",
          "Male",
          "Male",
          "Male",
          "Male",
          "Male",
          "Male",
          "Male"
         ],
         "xaxis": "x",
         "y": [
          2315,
          3660,
          3523,
          3326,
          3807,
          3042,
          2100,
          1536,
          2903,
          2884,
          2472,
          2506,
          5045,
          2728,
          3946,
          3791,
          3313,
          1697,
          2489,
          3255,
          3969,
          3456,
          2794,
          2359,
          2547,
          3170,
          1860,
          3562,
          3695,
          4916,
          2934,
          2553,
          2479,
          2914,
          2073,
          1995,
          2389,
          2548,
          2917,
          2581,
          3559,
          2375,
          1677,
          2582,
          2629,
          3239,
          4510,
          3793,
          3247,
          2841,
          2102,
          4562,
          3186,
          1970,
          2603,
          2648,
          3009,
          2541,
          3130,
          3096,
          4291,
          3849,
          2672,
          2379,
          2869,
          2439,
          6399,
          1401,
          2644,
          1885,
          3518,
          3829,
          2080,
          2061,
          2991,
          1853,
          3255,
          2075,
          3020,
          3107,
          4141,
          2276,
          4051,
          2327,
          2223,
          2109,
          2984,
          1879,
          2375,
          4143,
          2460,
          1412,
          2805,
          3043,
          2569,
          3959,
          3574,
          2345,
          2390,
          2808,
          2030,
          3191,
          2421,
          2308,
          2470,
          2415,
          3157,
          2231,
          3046,
          3962,
          2184,
          3179,
          2651,
          1556,
          3020,
          2739,
          1930,
          3294
         ],
         "yaxis": "y"
        },
        {
         "hovertemplate": "SmokingStatus=Never smoked<br>Sex=%{x}<br>FVC=%{y}<extra></extra>",
         "legendgroup": "Never smoked",
         "marker": {
          "color": "#EF553B",
          "symbol": "circle"
         },
         "mode": "markers",
         "name": "Never smoked",
         "orientation": "v",
         "showlegend": true,
         "type": "scatter",
         "x": [
          "Male",
          "Female",
          "Female",
          "Male",
          "Female",
          "Male",
          "Female",
          "Male",
          "Male",
          "Female",
          "Male",
          "Female",
          "Male",
          "Female",
          "Male",
          "Male",
          "Male",
          "Female",
          "Female",
          "Male",
          "Male",
          "Male",
          "Female",
          "Female",
          "Female",
          "Female",
          "Female",
          "Female",
          "Female",
          "Female",
          "Male",
          "Female",
          "Male",
          "Female",
          "Male",
          "Male",
          "Female",
          "Male",
          "Male",
          "Female",
          "Male",
          "Male",
          "Male",
          "Female",
          "Male",
          "Female",
          "Male",
          "Male",
          "Male"
         ],
         "xaxis": "x",
         "y": [
          3418,
          2297,
          1375,
          2301,
          1641,
          2298,
          3367,
          2478,
          2377,
          1674,
          2349,
          2220,
          2253,
          1690,
          3327,
          3195,
          3808,
          2520,
          1728,
          4311,
          2658,
          2992,
          1583,
          1909,
          1399,
          1272,
          1563,
          1938,
          1015,
          2080,
          1965,
          1411,
          2283,
          1880,
          3170,
          3240,
          1637,
          2066,
          3107,
          1366,
          3128,
          4284,
          3338,
          3237,
          3562,
          1560,
          2619,
          3357,
          2925
         ],
         "yaxis": "y"
        },
        {
         "hovertemplate": "SmokingStatus=Currently smokes<br>Sex=%{x}<br>FVC=%{y}<extra></extra>",
         "legendgroup": "Currently smokes",
         "marker": {
          "color": "#00cc96",
          "symbol": "circle"
         },
         "mode": "markers",
         "name": "Currently smokes",
         "orientation": "v",
         "showlegend": true,
         "type": "scatter",
         "x": [
          "Female",
          "Male",
          "Male",
          "Male",
          "Male",
          "Male",
          "Male",
          "Female",
          "Male"
         ],
         "xaxis": "x",
         "y": [
          2918,
          2933,
          4124,
          2776,
          2846,
          3035,
          3135,
          2849,
          4418
         ],
         "yaxis": "y"
        }
       ],
       "layout": {
        "legend": {
         "title": {
          "text": "SmokingStatus"
         },
         "tracegroupgap": 0
        },
        "template": {
         "data": {
          "bar": [
           {
            "error_x": {
             "color": "#2a3f5f"
            },
            "error_y": {
             "color": "#2a3f5f"
            },
            "marker": {
             "line": {
              "color": "#E5ECF6",
              "width": 0.5
             }
            },
            "type": "bar"
           }
          ],
          "barpolar": [
           {
            "marker": {
             "line": {
              "color": "#E5ECF6",
              "width": 0.5
             }
            },
            "type": "barpolar"
           }
          ],
          "carpet": [
           {
            "aaxis": {
             "endlinecolor": "#2a3f5f",
             "gridcolor": "white",
             "linecolor": "white",
             "minorgridcolor": "white",
             "startlinecolor": "#2a3f5f"
            },
            "baxis": {
             "endlinecolor": "#2a3f5f",
             "gridcolor": "white",
             "linecolor": "white",
             "minorgridcolor": "white",
             "startlinecolor": "#2a3f5f"
            },
            "type": "carpet"
           }
          ],
          "choropleth": [
           {
            "colorbar": {
             "outlinewidth": 0,
             "ticks": ""
            },
            "type": "choropleth"
           }
          ],
          "contour": [
           {
            "colorbar": {
             "outlinewidth": 0,
             "ticks": ""
            },
            "colorscale": [
             [
              0,
              "#0d0887"
             ],
             [
              0.1111111111111111,
              "#46039f"
             ],
             [
              0.2222222222222222,
              "#7201a8"
             ],
             [
              0.3333333333333333,
              "#9c179e"
             ],
             [
              0.4444444444444444,
              "#bd3786"
             ],
             [
              0.5555555555555556,
              "#d8576b"
             ],
             [
              0.6666666666666666,
              "#ed7953"
             ],
             [
              0.7777777777777778,
              "#fb9f3a"
             ],
             [
              0.8888888888888888,
              "#fdca26"
             ],
             [
              1,
              "#f0f921"
             ]
            ],
            "type": "contour"
           }
          ],
          "contourcarpet": [
           {
            "colorbar": {
             "outlinewidth": 0,
             "ticks": ""
            },
            "type": "contourcarpet"
           }
          ],
          "heatmap": [
           {
            "colorbar": {
             "outlinewidth": 0,
             "ticks": ""
            },
            "colorscale": [
             [
              0,
              "#0d0887"
             ],
             [
              0.1111111111111111,
              "#46039f"
             ],
             [
              0.2222222222222222,
              "#7201a8"
             ],
             [
              0.3333333333333333,
              "#9c179e"
             ],
             [
              0.4444444444444444,
              "#bd3786"
             ],
             [
              0.5555555555555556,
              "#d8576b"
             ],
             [
              0.6666666666666666,
              "#ed7953"
             ],
             [
              0.7777777777777778,
              "#fb9f3a"
             ],
             [
              0.8888888888888888,
              "#fdca26"
             ],
             [
              1,
              "#f0f921"
             ]
            ],
            "type": "heatmap"
           }
          ],
          "heatmapgl": [
           {
            "colorbar": {
             "outlinewidth": 0,
             "ticks": ""
            },
            "colorscale": [
             [
              0,
              "#0d0887"
             ],
             [
              0.1111111111111111,
              "#46039f"
             ],
             [
              0.2222222222222222,
              "#7201a8"
             ],
             [
              0.3333333333333333,
              "#9c179e"
             ],
             [
              0.4444444444444444,
              "#bd3786"
             ],
             [
              0.5555555555555556,
              "#d8576b"
             ],
             [
              0.6666666666666666,
              "#ed7953"
             ],
             [
              0.7777777777777778,
              "#fb9f3a"
             ],
             [
              0.8888888888888888,
              "#fdca26"
             ],
             [
              1,
              "#f0f921"
             ]
            ],
            "type": "heatmapgl"
           }
          ],
          "histogram": [
           {
            "marker": {
             "colorbar": {
              "outlinewidth": 0,
              "ticks": ""
             }
            },
            "type": "histogram"
           }
          ],
          "histogram2d": [
           {
            "colorbar": {
             "outlinewidth": 0,
             "ticks": ""
            },
            "colorscale": [
             [
              0,
              "#0d0887"
             ],
             [
              0.1111111111111111,
              "#46039f"
             ],
             [
              0.2222222222222222,
              "#7201a8"
             ],
             [
              0.3333333333333333,
              "#9c179e"
             ],
             [
              0.4444444444444444,
              "#bd3786"
             ],
             [
              0.5555555555555556,
              "#d8576b"
             ],
             [
              0.6666666666666666,
              "#ed7953"
             ],
             [
              0.7777777777777778,
              "#fb9f3a"
             ],
             [
              0.8888888888888888,
              "#fdca26"
             ],
             [
              1,
              "#f0f921"
             ]
            ],
            "type": "histogram2d"
           }
          ],
          "histogram2dcontour": [
           {
            "colorbar": {
             "outlinewidth": 0,
             "ticks": ""
            },
            "colorscale": [
             [
              0,
              "#0d0887"
             ],
             [
              0.1111111111111111,
              "#46039f"
             ],
             [
              0.2222222222222222,
              "#7201a8"
             ],
             [
              0.3333333333333333,
              "#9c179e"
             ],
             [
              0.4444444444444444,
              "#bd3786"
             ],
             [
              0.5555555555555556,
              "#d8576b"
             ],
             [
              0.6666666666666666,
              "#ed7953"
             ],
             [
              0.7777777777777778,
              "#fb9f3a"
             ],
             [
              0.8888888888888888,
              "#fdca26"
             ],
             [
              1,
              "#f0f921"
             ]
            ],
            "type": "histogram2dcontour"
           }
          ],
          "mesh3d": [
           {
            "colorbar": {
             "outlinewidth": 0,
             "ticks": ""
            },
            "type": "mesh3d"
           }
          ],
          "parcoords": [
           {
            "line": {
             "colorbar": {
              "outlinewidth": 0,
              "ticks": ""
             }
            },
            "type": "parcoords"
           }
          ],
          "pie": [
           {
            "automargin": true,
            "type": "pie"
           }
          ],
          "scatter": [
           {
            "marker": {
             "colorbar": {
              "outlinewidth": 0,
              "ticks": ""
             }
            },
            "type": "scatter"
           }
          ],
          "scatter3d": [
           {
            "line": {
             "colorbar": {
              "outlinewidth": 0,
              "ticks": ""
             }
            },
            "marker": {
             "colorbar": {
              "outlinewidth": 0,
              "ticks": ""
             }
            },
            "type": "scatter3d"
           }
          ],
          "scattercarpet": [
           {
            "marker": {
             "colorbar": {
              "outlinewidth": 0,
              "ticks": ""
             }
            },
            "type": "scattercarpet"
           }
          ],
          "scattergeo": [
           {
            "marker": {
             "colorbar": {
              "outlinewidth": 0,
              "ticks": ""
             }
            },
            "type": "scattergeo"
           }
          ],
          "scattergl": [
           {
            "marker": {
             "colorbar": {
              "outlinewidth": 0,
              "ticks": ""
             }
            },
            "type": "scattergl"
           }
          ],
          "scattermapbox": [
           {
            "marker": {
             "colorbar": {
              "outlinewidth": 0,
              "ticks": ""
             }
            },
            "type": "scattermapbox"
           }
          ],
          "scatterpolar": [
           {
            "marker": {
             "colorbar": {
              "outlinewidth": 0,
              "ticks": ""
             }
            },
            "type": "scatterpolar"
           }
          ],
          "scatterpolargl": [
           {
            "marker": {
             "colorbar": {
              "outlinewidth": 0,
              "ticks": ""
             }
            },
            "type": "scatterpolargl"
           }
          ],
          "scatterternary": [
           {
            "marker": {
             "colorbar": {
              "outlinewidth": 0,
              "ticks": ""
             }
            },
            "type": "scatterternary"
           }
          ],
          "surface": [
           {
            "colorbar": {
             "outlinewidth": 0,
             "ticks": ""
            },
            "colorscale": [
             [
              0,
              "#0d0887"
             ],
             [
              0.1111111111111111,
              "#46039f"
             ],
             [
              0.2222222222222222,
              "#7201a8"
             ],
             [
              0.3333333333333333,
              "#9c179e"
             ],
             [
              0.4444444444444444,
              "#bd3786"
             ],
             [
              0.5555555555555556,
              "#d8576b"
             ],
             [
              0.6666666666666666,
              "#ed7953"
             ],
             [
              0.7777777777777778,
              "#fb9f3a"
             ],
             [
              0.8888888888888888,
              "#fdca26"
             ],
             [
              1,
              "#f0f921"
             ]
            ],
            "type": "surface"
           }
          ],
          "table": [
           {
            "cells": {
             "fill": {
              "color": "#EBF0F8"
             },
             "line": {
              "color": "white"
             }
            },
            "header": {
             "fill": {
              "color": "#C8D4E3"
             },
             "line": {
              "color": "white"
             }
            },
            "type": "table"
           }
          ]
         },
         "layout": {
          "annotationdefaults": {
           "arrowcolor": "#2a3f5f",
           "arrowhead": 0,
           "arrowwidth": 1
          },
          "autotypenumbers": "strict",
          "coloraxis": {
           "colorbar": {
            "outlinewidth": 0,
            "ticks": ""
           }
          },
          "colorscale": {
           "diverging": [
            [
             0,
             "#8e0152"
            ],
            [
             0.1,
             "#c51b7d"
            ],
            [
             0.2,
             "#de77ae"
            ],
            [
             0.3,
             "#f1b6da"
            ],
            [
             0.4,
             "#fde0ef"
            ],
            [
             0.5,
             "#f7f7f7"
            ],
            [
             0.6,
             "#e6f5d0"
            ],
            [
             0.7,
             "#b8e186"
            ],
            [
             0.8,
             "#7fbc41"
            ],
            [
             0.9,
             "#4d9221"
            ],
            [
             1,
             "#276419"
            ]
           ],
           "sequential": [
            [
             0,
             "#0d0887"
            ],
            [
             0.1111111111111111,
             "#46039f"
            ],
            [
             0.2222222222222222,
             "#7201a8"
            ],
            [
             0.3333333333333333,
             "#9c179e"
            ],
            [
             0.4444444444444444,
             "#bd3786"
            ],
            [
             0.5555555555555556,
             "#d8576b"
            ],
            [
             0.6666666666666666,
             "#ed7953"
            ],
            [
             0.7777777777777778,
             "#fb9f3a"
            ],
            [
             0.8888888888888888,
             "#fdca26"
            ],
            [
             1,
             "#f0f921"
            ]
           ],
           "sequentialminus": [
            [
             0,
             "#0d0887"
            ],
            [
             0.1111111111111111,
             "#46039f"
            ],
            [
             0.2222222222222222,
             "#7201a8"
            ],
            [
             0.3333333333333333,
             "#9c179e"
            ],
            [
             0.4444444444444444,
             "#bd3786"
            ],
            [
             0.5555555555555556,
             "#d8576b"
            ],
            [
             0.6666666666666666,
             "#ed7953"
            ],
            [
             0.7777777777777778,
             "#fb9f3a"
            ],
            [
             0.8888888888888888,
             "#fdca26"
            ],
            [
             1,
             "#f0f921"
            ]
           ]
          },
          "colorway": [
           "#636efa",
           "#EF553B",
           "#00cc96",
           "#ab63fa",
           "#FFA15A",
           "#19d3f3",
           "#FF6692",
           "#B6E880",
           "#FF97FF",
           "#FECB52"
          ],
          "font": {
           "color": "#2a3f5f"
          },
          "geo": {
           "bgcolor": "white",
           "lakecolor": "white",
           "landcolor": "#E5ECF6",
           "showlakes": true,
           "showland": true,
           "subunitcolor": "white"
          },
          "hoverlabel": {
           "align": "left"
          },
          "hovermode": "closest",
          "mapbox": {
           "style": "light"
          },
          "paper_bgcolor": "white",
          "plot_bgcolor": "#E5ECF6",
          "polar": {
           "angularaxis": {
            "gridcolor": "white",
            "linecolor": "white",
            "ticks": ""
           },
           "bgcolor": "#E5ECF6",
           "radialaxis": {
            "gridcolor": "white",
            "linecolor": "white",
            "ticks": ""
           }
          },
          "scene": {
           "xaxis": {
            "backgroundcolor": "#E5ECF6",
            "gridcolor": "white",
            "gridwidth": 2,
            "linecolor": "white",
            "showbackground": true,
            "ticks": "",
            "zerolinecolor": "white"
           },
           "yaxis": {
            "backgroundcolor": "#E5ECF6",
            "gridcolor": "white",
            "gridwidth": 2,
            "linecolor": "white",
            "showbackground": true,
            "ticks": "",
            "zerolinecolor": "white"
           },
           "zaxis": {
            "backgroundcolor": "#E5ECF6",
            "gridcolor": "white",
            "gridwidth": 2,
            "linecolor": "white",
            "showbackground": true,
            "ticks": "",
            "zerolinecolor": "white"
           }
          },
          "shapedefaults": {
           "line": {
            "color": "#2a3f5f"
           }
          },
          "ternary": {
           "aaxis": {
            "gridcolor": "white",
            "linecolor": "white",
            "ticks": ""
           },
           "baxis": {
            "gridcolor": "white",
            "linecolor": "white",
            "ticks": ""
           },
           "bgcolor": "#E5ECF6",
           "caxis": {
            "gridcolor": "white",
            "linecolor": "white",
            "ticks": ""
           }
          },
          "title": {
           "x": 0.05
          },
          "xaxis": {
           "automargin": true,
           "gridcolor": "white",
           "linecolor": "white",
           "ticks": "",
           "title": {
            "standoff": 15
           },
           "zerolinecolor": "white",
           "zerolinewidth": 2
          },
          "yaxis": {
           "automargin": true,
           "gridcolor": "white",
           "linecolor": "white",
           "ticks": "",
           "title": {
            "standoff": 15
           },
           "zerolinecolor": "white",
           "zerolinewidth": 2
          }
         }
        },
        "title": {
         "text": "Relation between Age and FVC alongside the smoking Status"
        },
        "xaxis": {
         "anchor": "y",
         "domain": [
          0,
          1
         ],
         "title": {
          "text": "Sex"
         }
        },
        "yaxis": {
         "anchor": "x",
         "domain": [
          0,
          1
         ],
         "title": {
          "text": "FVC"
         }
        }
       }
      },
      "text/html": [
       "<div>                            <div id=\"e6aa8f73-ea9e-4873-ab3f-6c12f3ce5847\" class=\"plotly-graph-div\" style=\"height:525px; width:100%;\"></div>            <script type=\"text/javascript\">                require([\"plotly\"], function(Plotly) {                    window.PLOTLYENV=window.PLOTLYENV || {};                                    if (document.getElementById(\"e6aa8f73-ea9e-4873-ab3f-6c12f3ce5847\")) {                    Plotly.newPlot(                        \"e6aa8f73-ea9e-4873-ab3f-6c12f3ce5847\",                        [{\"hovertemplate\": \"SmokingStatus=Ex-smoker<br>Sex=%{x}<br>FVC=%{y}<extra></extra>\", \"legendgroup\": \"Ex-smoker\", \"marker\": {\"color\": \"#636efa\", \"symbol\": \"circle\"}, \"mode\": \"markers\", \"name\": \"Ex-smoker\", \"orientation\": \"v\", \"showlegend\": true, \"type\": \"scatter\", \"x\": [\"Male\", \"Male\", \"Male\", \"Male\", \"Male\", \"Male\", \"Female\", \"Female\", \"Male\", \"Male\", \"Male\", \"Male\", \"Male\", \"Male\", \"Male\", \"Male\", \"Male\", \"Female\", \"Male\", \"Male\", \"Male\", \"Male\", \"Male\", \"Male\", \"Male\", \"Male\", \"Female\", \"Male\", \"Male\", \"Male\", \"Male\", \"Male\", \"Male\", \"Male\", \"Male\", \"Male\", \"Male\", \"Male\", \"Male\", \"Male\", \"Male\", \"Male\", \"Female\", \"Male\", \"Male\", \"Male\", \"Male\", \"Male\", \"Female\", \"Male\", \"Male\", \"Male\", \"Male\", \"Female\", \"Male\", \"Male\", \"Male\", \"Male\", \"Male\", \"Male\", \"Male\", \"Male\", \"Male\", \"Male\", \"Male\", \"Male\", \"Male\", \"Female\", \"Male\", \"Female\", \"Male\", \"Male\", \"Male\", \"Male\", \"Male\", \"Male\", \"Male\", \"Male\", \"Male\", \"Male\", \"Male\", \"Female\", \"Male\", \"Male\", \"Male\", \"Male\", \"Male\", \"Female\", \"Male\", \"Male\", \"Male\", \"Male\", \"Male\", \"Male\", \"Male\", \"Male\", \"Male\", \"Male\", \"Male\", \"Male\", \"Male\", \"Male\", \"Male\", \"Male\", \"Male\", \"Male\", \"Male\", \"Male\", \"Male\", \"Male\", \"Female\", \"Male\", \"Male\", \"Male\", \"Male\", \"Male\", \"Male\", \"Male\"], \"xaxis\": \"x\", \"y\": [2315, 3660, 3523, 3326, 3807, 3042, 2100, 1536, 2903, 2884, 2472, 2506, 5045, 2728, 3946, 3791, 3313, 1697, 2489, 3255, 3969, 3456, 2794, 2359, 2547, 3170, 1860, 3562, 3695, 4916, 2934, 2553, 2479, 2914, 2073, 1995, 2389, 2548, 2917, 2581, 3559, 2375, 1677, 2582, 2629, 3239, 4510, 3793, 3247, 2841, 2102, 4562, 3186, 1970, 2603, 2648, 3009, 2541, 3130, 3096, 4291, 3849, 2672, 2379, 2869, 2439, 6399, 1401, 2644, 1885, 3518, 3829, 2080, 2061, 2991, 1853, 3255, 2075, 3020, 3107, 4141, 2276, 4051, 2327, 2223, 2109, 2984, 1879, 2375, 4143, 2460, 1412, 2805, 3043, 2569, 3959, 3574, 2345, 2390, 2808, 2030, 3191, 2421, 2308, 2470, 2415, 3157, 2231, 3046, 3962, 2184, 3179, 2651, 1556, 3020, 2739, 1930, 3294], \"yaxis\": \"y\"}, {\"hovertemplate\": \"SmokingStatus=Never smoked<br>Sex=%{x}<br>FVC=%{y}<extra></extra>\", \"legendgroup\": \"Never smoked\", \"marker\": {\"color\": \"#EF553B\", \"symbol\": \"circle\"}, \"mode\": \"markers\", \"name\": \"Never smoked\", \"orientation\": \"v\", \"showlegend\": true, \"type\": \"scatter\", \"x\": [\"Male\", \"Female\", \"Female\", \"Male\", \"Female\", \"Male\", \"Female\", \"Male\", \"Male\", \"Female\", \"Male\", \"Female\", \"Male\", \"Female\", \"Male\", \"Male\", \"Male\", \"Female\", \"Female\", \"Male\", \"Male\", \"Male\", \"Female\", \"Female\", \"Female\", \"Female\", \"Female\", \"Female\", \"Female\", \"Female\", \"Male\", \"Female\", \"Male\", \"Female\", \"Male\", \"Male\", \"Female\", \"Male\", \"Male\", \"Female\", \"Male\", \"Male\", \"Male\", \"Female\", \"Male\", \"Female\", \"Male\", \"Male\", \"Male\"], \"xaxis\": \"x\", \"y\": [3418, 2297, 1375, 2301, 1641, 2298, 3367, 2478, 2377, 1674, 2349, 2220, 2253, 1690, 3327, 3195, 3808, 2520, 1728, 4311, 2658, 2992, 1583, 1909, 1399, 1272, 1563, 1938, 1015, 2080, 1965, 1411, 2283, 1880, 3170, 3240, 1637, 2066, 3107, 1366, 3128, 4284, 3338, 3237, 3562, 1560, 2619, 3357, 2925], \"yaxis\": \"y\"}, {\"hovertemplate\": \"SmokingStatus=Currently smokes<br>Sex=%{x}<br>FVC=%{y}<extra></extra>\", \"legendgroup\": \"Currently smokes\", \"marker\": {\"color\": \"#00cc96\", \"symbol\": \"circle\"}, \"mode\": \"markers\", \"name\": \"Currently smokes\", \"orientation\": \"v\", \"showlegend\": true, \"type\": \"scatter\", \"x\": [\"Female\", \"Male\", \"Male\", \"Male\", \"Male\", \"Male\", \"Male\", \"Female\", \"Male\"], \"xaxis\": \"x\", \"y\": [2918, 2933, 4124, 2776, 2846, 3035, 3135, 2849, 4418], \"yaxis\": \"y\"}],                        {\"legend\": {\"title\": {\"text\": \"SmokingStatus\"}, \"tracegroupgap\": 0}, \"template\": {\"data\": {\"bar\": [{\"error_x\": {\"color\": \"#2a3f5f\"}, \"error_y\": {\"color\": \"#2a3f5f\"}, \"marker\": {\"line\": {\"color\": \"#E5ECF6\", \"width\": 0.5}}, \"type\": \"bar\"}], \"barpolar\": [{\"marker\": {\"line\": {\"color\": \"#E5ECF6\", \"width\": 0.5}}, \"type\": \"barpolar\"}], \"carpet\": [{\"aaxis\": {\"endlinecolor\": \"#2a3f5f\", \"gridcolor\": \"white\", \"linecolor\": \"white\", \"minorgridcolor\": \"white\", \"startlinecolor\": \"#2a3f5f\"}, \"baxis\": {\"endlinecolor\": \"#2a3f5f\", \"gridcolor\": \"white\", \"linecolor\": \"white\", \"minorgridcolor\": \"white\", \"startlinecolor\": \"#2a3f5f\"}, \"type\": \"carpet\"}], \"choropleth\": [{\"colorbar\": {\"outlinewidth\": 0, \"ticks\": \"\"}, \"type\": \"choropleth\"}], \"contour\": [{\"colorbar\": {\"outlinewidth\": 0, \"ticks\": \"\"}, \"colorscale\": [[0.0, \"#0d0887\"], [0.1111111111111111, \"#46039f\"], [0.2222222222222222, \"#7201a8\"], [0.3333333333333333, \"#9c179e\"], [0.4444444444444444, \"#bd3786\"], [0.5555555555555556, \"#d8576b\"], [0.6666666666666666, \"#ed7953\"], [0.7777777777777778, \"#fb9f3a\"], [0.8888888888888888, \"#fdca26\"], [1.0, \"#f0f921\"]], \"type\": \"contour\"}], \"contourcarpet\": [{\"colorbar\": {\"outlinewidth\": 0, \"ticks\": \"\"}, \"type\": \"contourcarpet\"}], \"heatmap\": [{\"colorbar\": {\"outlinewidth\": 0, \"ticks\": \"\"}, \"colorscale\": [[0.0, \"#0d0887\"], [0.1111111111111111, \"#46039f\"], [0.2222222222222222, \"#7201a8\"], [0.3333333333333333, \"#9c179e\"], [0.4444444444444444, \"#bd3786\"], [0.5555555555555556, \"#d8576b\"], [0.6666666666666666, \"#ed7953\"], [0.7777777777777778, \"#fb9f3a\"], [0.8888888888888888, \"#fdca26\"], [1.0, \"#f0f921\"]], \"type\": \"heatmap\"}], \"heatmapgl\": [{\"colorbar\": {\"outlinewidth\": 0, \"ticks\": \"\"}, \"colorscale\": [[0.0, \"#0d0887\"], [0.1111111111111111, \"#46039f\"], [0.2222222222222222, \"#7201a8\"], [0.3333333333333333, \"#9c179e\"], [0.4444444444444444, \"#bd3786\"], [0.5555555555555556, \"#d8576b\"], [0.6666666666666666, \"#ed7953\"], [0.7777777777777778, \"#fb9f3a\"], [0.8888888888888888, \"#fdca26\"], [1.0, \"#f0f921\"]], \"type\": \"heatmapgl\"}], \"histogram\": [{\"marker\": {\"colorbar\": {\"outlinewidth\": 0, \"ticks\": \"\"}}, \"type\": \"histogram\"}], \"histogram2d\": [{\"colorbar\": {\"outlinewidth\": 0, \"ticks\": \"\"}, \"colorscale\": [[0.0, \"#0d0887\"], [0.1111111111111111, \"#46039f\"], [0.2222222222222222, \"#7201a8\"], [0.3333333333333333, \"#9c179e\"], [0.4444444444444444, \"#bd3786\"], [0.5555555555555556, \"#d8576b\"], [0.6666666666666666, \"#ed7953\"], [0.7777777777777778, \"#fb9f3a\"], [0.8888888888888888, \"#fdca26\"], [1.0, \"#f0f921\"]], \"type\": \"histogram2d\"}], \"histogram2dcontour\": [{\"colorbar\": {\"outlinewidth\": 0, \"ticks\": \"\"}, \"colorscale\": [[0.0, \"#0d0887\"], [0.1111111111111111, \"#46039f\"], [0.2222222222222222, \"#7201a8\"], [0.3333333333333333, \"#9c179e\"], [0.4444444444444444, \"#bd3786\"], [0.5555555555555556, \"#d8576b\"], [0.6666666666666666, \"#ed7953\"], [0.7777777777777778, \"#fb9f3a\"], [0.8888888888888888, \"#fdca26\"], [1.0, \"#f0f921\"]], \"type\": \"histogram2dcontour\"}], \"mesh3d\": [{\"colorbar\": {\"outlinewidth\": 0, \"ticks\": \"\"}, \"type\": \"mesh3d\"}], \"parcoords\": [{\"line\": {\"colorbar\": {\"outlinewidth\": 0, \"ticks\": \"\"}}, \"type\": \"parcoords\"}], \"pie\": [{\"automargin\": true, \"type\": \"pie\"}], \"scatter\": [{\"marker\": {\"colorbar\": {\"outlinewidth\": 0, \"ticks\": \"\"}}, \"type\": \"scatter\"}], \"scatter3d\": [{\"line\": {\"colorbar\": {\"outlinewidth\": 0, \"ticks\": \"\"}}, \"marker\": {\"colorbar\": {\"outlinewidth\": 0, \"ticks\": \"\"}}, \"type\": \"scatter3d\"}], \"scattercarpet\": [{\"marker\": {\"colorbar\": {\"outlinewidth\": 0, \"ticks\": \"\"}}, \"type\": \"scattercarpet\"}], \"scattergeo\": [{\"marker\": {\"colorbar\": {\"outlinewidth\": 0, \"ticks\": \"\"}}, \"type\": \"scattergeo\"}], \"scattergl\": [{\"marker\": {\"colorbar\": {\"outlinewidth\": 0, \"ticks\": \"\"}}, \"type\": \"scattergl\"}], \"scattermapbox\": [{\"marker\": {\"colorbar\": {\"outlinewidth\": 0, \"ticks\": \"\"}}, \"type\": \"scattermapbox\"}], \"scatterpolar\": [{\"marker\": {\"colorbar\": {\"outlinewidth\": 0, \"ticks\": \"\"}}, \"type\": \"scatterpolar\"}], \"scatterpolargl\": [{\"marker\": {\"colorbar\": {\"outlinewidth\": 0, \"ticks\": \"\"}}, \"type\": \"scatterpolargl\"}], \"scatterternary\": [{\"marker\": {\"colorbar\": {\"outlinewidth\": 0, \"ticks\": \"\"}}, \"type\": \"scatterternary\"}], \"surface\": [{\"colorbar\": {\"outlinewidth\": 0, \"ticks\": \"\"}, \"colorscale\": [[0.0, \"#0d0887\"], [0.1111111111111111, \"#46039f\"], [0.2222222222222222, \"#7201a8\"], [0.3333333333333333, \"#9c179e\"], [0.4444444444444444, \"#bd3786\"], [0.5555555555555556, \"#d8576b\"], [0.6666666666666666, \"#ed7953\"], [0.7777777777777778, \"#fb9f3a\"], [0.8888888888888888, \"#fdca26\"], [1.0, \"#f0f921\"]], \"type\": \"surface\"}], \"table\": [{\"cells\": {\"fill\": {\"color\": \"#EBF0F8\"}, \"line\": {\"color\": \"white\"}}, \"header\": {\"fill\": {\"color\": \"#C8D4E3\"}, \"line\": {\"color\": \"white\"}}, \"type\": \"table\"}]}, \"layout\": {\"annotationdefaults\": {\"arrowcolor\": \"#2a3f5f\", \"arrowhead\": 0, \"arrowwidth\": 1}, \"autotypenumbers\": \"strict\", \"coloraxis\": {\"colorbar\": {\"outlinewidth\": 0, \"ticks\": \"\"}}, \"colorscale\": {\"diverging\": [[0, \"#8e0152\"], [0.1, \"#c51b7d\"], [0.2, \"#de77ae\"], [0.3, \"#f1b6da\"], [0.4, \"#fde0ef\"], [0.5, \"#f7f7f7\"], [0.6, \"#e6f5d0\"], [0.7, \"#b8e186\"], [0.8, \"#7fbc41\"], [0.9, \"#4d9221\"], [1, \"#276419\"]], \"sequential\": [[0.0, \"#0d0887\"], [0.1111111111111111, \"#46039f\"], [0.2222222222222222, \"#7201a8\"], [0.3333333333333333, \"#9c179e\"], [0.4444444444444444, \"#bd3786\"], [0.5555555555555556, \"#d8576b\"], [0.6666666666666666, \"#ed7953\"], [0.7777777777777778, \"#fb9f3a\"], [0.8888888888888888, \"#fdca26\"], [1.0, \"#f0f921\"]], \"sequentialminus\": [[0.0, \"#0d0887\"], [0.1111111111111111, \"#46039f\"], [0.2222222222222222, \"#7201a8\"], [0.3333333333333333, \"#9c179e\"], [0.4444444444444444, \"#bd3786\"], [0.5555555555555556, \"#d8576b\"], [0.6666666666666666, \"#ed7953\"], [0.7777777777777778, \"#fb9f3a\"], [0.8888888888888888, \"#fdca26\"], [1.0, \"#f0f921\"]]}, \"colorway\": [\"#636efa\", \"#EF553B\", \"#00cc96\", \"#ab63fa\", \"#FFA15A\", \"#19d3f3\", \"#FF6692\", \"#B6E880\", \"#FF97FF\", \"#FECB52\"], \"font\": {\"color\": \"#2a3f5f\"}, \"geo\": {\"bgcolor\": \"white\", \"lakecolor\": \"white\", \"landcolor\": \"#E5ECF6\", \"showlakes\": true, \"showland\": true, \"subunitcolor\": \"white\"}, \"hoverlabel\": {\"align\": \"left\"}, \"hovermode\": \"closest\", \"mapbox\": {\"style\": \"light\"}, \"paper_bgcolor\": \"white\", \"plot_bgcolor\": \"#E5ECF6\", \"polar\": {\"angularaxis\": {\"gridcolor\": \"white\", \"linecolor\": \"white\", \"ticks\": \"\"}, \"bgcolor\": \"#E5ECF6\", \"radialaxis\": {\"gridcolor\": \"white\", \"linecolor\": \"white\", \"ticks\": \"\"}}, \"scene\": {\"xaxis\": {\"backgroundcolor\": \"#E5ECF6\", \"gridcolor\": \"white\", \"gridwidth\": 2, \"linecolor\": \"white\", \"showbackground\": true, \"ticks\": \"\", \"zerolinecolor\": \"white\"}, \"yaxis\": {\"backgroundcolor\": \"#E5ECF6\", \"gridcolor\": \"white\", \"gridwidth\": 2, \"linecolor\": \"white\", \"showbackground\": true, \"ticks\": \"\", \"zerolinecolor\": \"white\"}, \"zaxis\": {\"backgroundcolor\": \"#E5ECF6\", \"gridcolor\": \"white\", \"gridwidth\": 2, \"linecolor\": \"white\", \"showbackground\": true, \"ticks\": \"\", \"zerolinecolor\": \"white\"}}, \"shapedefaults\": {\"line\": {\"color\": \"#2a3f5f\"}}, \"ternary\": {\"aaxis\": {\"gridcolor\": \"white\", \"linecolor\": \"white\", \"ticks\": \"\"}, \"baxis\": {\"gridcolor\": \"white\", \"linecolor\": \"white\", \"ticks\": \"\"}, \"bgcolor\": \"#E5ECF6\", \"caxis\": {\"gridcolor\": \"white\", \"linecolor\": \"white\", \"ticks\": \"\"}}, \"title\": {\"x\": 0.05}, \"xaxis\": {\"automargin\": true, \"gridcolor\": \"white\", \"linecolor\": \"white\", \"ticks\": \"\", \"title\": {\"standoff\": 15}, \"zerolinecolor\": \"white\", \"zerolinewidth\": 2}, \"yaxis\": {\"automargin\": true, \"gridcolor\": \"white\", \"linecolor\": \"white\", \"ticks\": \"\", \"title\": {\"standoff\": 15}, \"zerolinecolor\": \"white\", \"zerolinewidth\": 2}}}, \"title\": {\"text\": \"Relation between Age and FVC alongside the smoking Status\"}, \"xaxis\": {\"anchor\": \"y\", \"domain\": [0.0, 1.0], \"title\": {\"text\": \"Sex\"}}, \"yaxis\": {\"anchor\": \"x\", \"domain\": [0.0, 1.0], \"title\": {\"text\": \"FVC\"}}},                        {\"responsive\": true}                    ).then(function(){\n",
       "                            \n",
       "var gd = document.getElementById('e6aa8f73-ea9e-4873-ab3f-6c12f3ce5847');\n",
       "var x = new MutationObserver(function (mutations, observer) {{\n",
       "        var display = window.getComputedStyle(gd).display;\n",
       "        if (!display || display === 'none') {{\n",
       "            console.log([gd, 'removed!']);\n",
       "            Plotly.purge(gd);\n",
       "            observer.disconnect();\n",
       "        }}\n",
       "}});\n",
       "\n",
       "// Listen for the removal of the full notebook cells\n",
       "var notebookContainer = gd.closest('#notebook-container');\n",
       "if (notebookContainer) {{\n",
       "    x.observe(notebookContainer, {childList: true});\n",
       "}}\n",
       "\n",
       "// Listen for the clearing of the current output cell\n",
       "var outputEl = gd.closest('.output');\n",
       "if (outputEl) {{\n",
       "    x.observe(outputEl, {childList: true});\n",
       "}}\n",
       "\n",
       "                        })                };                });            </script>        </div>"
      ]
     },
     "metadata": {},
     "output_type": "display_data"
    }
   ],
   "source": [
    "fig = go.Figure()\n",
    "fig = px.scatter(train_patient_dataframe,x='Sex',y = 'FVC',color = 'SmokingStatus',title = 'Relation between Age and FVC alongside the smoking Status')\n",
    "fig.show()"
   ]
  },
  {
   "cell_type": "markdown",
   "id": "likely-european",
   "metadata": {},
   "source": [
    "### Gender Split by SmokingStatus\n",
    "- There are more male exsmoker than female ex smoker\n",
    "- There are almost equal number of male and female ratio in 'Never Smoked' status\n",
    "- More male population that currently smokes than female population"
   ]
  },
  {
   "cell_type": "code",
   "execution_count": 32,
   "id": "written-husband",
   "metadata": {},
   "outputs": [
    {
     "data": {
      "image/png": "[encoded data removed]",
      "text/plain": [
       "<Figure size 720x576 with 1 Axes>"
      ]
     },
     "metadata": {
      "needs_background": "light"
     },
     "output_type": "display_data"
    }
   ],
   "source": [
    "plt.figure(figsize=(10,8))\n",
    "sns.countplot(x='SmokingStatus', data=train_patient_dataframe, hue='Sex')\n",
    "plt.title('Gender split by SmokingStatus', fontsize=16)\n",
    "plt.show()"
   ]
  },
  {
   "cell_type": "markdown",
   "id": "monetary-cowboy",
   "metadata": {},
   "source": [
    "#### Distribution of Age vs Gender"
   ]
  },
  {
   "cell_type": "markdown",
   "id": "banned-cherry",
   "metadata": {},
   "source": [
    "- There are alot of older male patient compared to that of female patient"
   ]
  },
  {
   "cell_type": "code",
   "execution_count": 33,
   "id": "experienced-parker",
   "metadata": {},
   "outputs": [
    {
     "data": {
      "application/vnd.plotly.v1+json": {
       "config": {
        "plotlyServerURL": "https://plot.ly"
       },
       "data": [
        {
         "hovertemplate": "Sex=%{x}<br>Age=%{y}<extra></extra>",
         "legendgroup": "",
         "marker": {
          "color": "#636efa",
          "symbol": "circle"
         },
         "mode": "markers",
         "name": "",
         "orientation": "v",
         "showlegend": false,
         "type": "scatter",
         "x": [
          "Male",
          "Male",
          "Male",
          "Male",
          "Male",
          "Male",
          "Male",
          "Female",
          "Female",
          "Female",
          "Male",
          "Male",
          "Male",
          "Male",
          "Male",
          "Male",
          "Male",
          "Male",
          "Male",
          "Female",
          "Female",
          "Male",
          "Male",
          "Male",
          "Male",
          "Male",
          "Male",
          "Male",
          "Male",
          "Female",
          "Male",
          "Male",
          "Female",
          "Female",
          "Female",
          "Male",
          "Male",
          "Male",
          "Male",
          "Male",
          "Male",
          "Male",
          "Male",
          "Male",
          "Male",
          "Male",
          "Male",
          "Male",
          "Male",
          "Male",
          "Male",
          "Female",
          "Male",
          "Male",
          "Male",
          "Female",
          "Female",
          "Male",
          "Female",
          "Male",
          "Male",
          "Male",
          "Male",
          "Male",
          "Male",
          "Male",
          "Male",
          "Male",
          "Female",
          "Male",
          "Male",
          "Male",
          "Male",
          "Female",
          "Female",
          "Male",
          "Male",
          "Male",
          "Male",
          "Male",
          "Male",
          "Male",
          "Female",
          "Male",
          "Male",
          "Male",
          "Male",
          "Male",
          "Male",
          "Male",
          "Male",
          "Male",
          "Male",
          "Male",
          "Female",
          "Male",
          "Male",
          "Female",
          "Female",
          "Male",
          "Female",
          "Male",
          "Male",
          "Male",
          "Male",
          "Female",
          "Male",
          "Female",
          "Male",
          "Male",
          "Female",
          "Female",
          "Female",
          "Male",
          "Female",
          "Male",
          "Male",
          "Male",
          "Female",
          "Female",
          "Male",
          "Male",
          "Male",
          "Male",
          "Female",
          "Male",
          "Male",
          "Male",
          "Male",
          "Female",
          "Male",
          "Male",
          "Male",
          "Male",
          "Male",
          "Male",
          "Male",
          "Male",
          "Male",
          "Male",
          "Male",
          "Female",
          "Male",
          "Female",
          "Male",
          "Male",
          "Male",
          "Male",
          "Male",
          "Male",
          "Male",
          "Female",
          "Male",
          "Male",
          "Male",
          "Male",
          "Male",
          "Male",
          "Female",
          "Male",
          "Male",
          "Male",
          "Male",
          "Male",
          "Female",
          "Female",
          "Male",
          "Male",
          "Male",
          "Male",
          "Male",
          "Male",
          "Male",
          "Male",
          "Male",
          "Male"
         ],
         "xaxis": "x",
         "y": [
          79,
          69,
          60,
          72,
          65,
          56,
          71,
          83,
          66,
          71,
          65,
          57,
          73,
          69,
          63,
          69,
          71,
          58,
          68,
          70,
          73,
          54,
          63,
          68,
          74,
          64,
          73,
          71,
          69,
          52,
          51,
          70,
          55,
          49,
          65,
          63,
          69,
          69,
          64,
          68,
          60,
          74,
          64,
          73,
          73,
          74,
          72,
          77,
          68,
          57,
          58,
          69,
          60,
          65,
          78,
          55,
          87,
          71,
          65,
          61,
          69,
          83,
          67,
          65,
          64,
          66,
          76,
          58,
          66,
          63,
          54,
          58,
          62,
          66,
          79,
          73,
          73,
          68,
          71,
          52,
          69,
          69,
          56,
          65,
          65,
          62,
          64,
          67,
          76,
          70,
          69,
          65,
          81,
          71,
          76,
          70,
          72,
          77,
          58,
          71,
          74,
          68,
          66,
          67,
          63,
          66,
          64,
          71,
          56,
          88,
          62,
          76,
          70,
          60,
          62,
          77,
          70,
          60,
          61,
          63,
          75,
          72,
          74,
          58,
          67,
          78,
          62,
          65,
          73,
          72,
          64,
          72,
          59,
          77,
          69,
          69,
          74,
          56,
          69,
          64,
          68,
          68,
          72,
          68,
          58,
          78,
          65,
          65,
          79,
          64,
          71,
          57,
          65,
          75,
          71,
          72,
          56,
          62,
          64,
          53,
          66,
          67,
          70,
          55,
          74,
          61,
          66,
          74,
          65,
          65,
          66,
          73,
          68,
          73,
          72,
          73
         ],
         "yaxis": "y"
        }
       ],
       "layout": {
        "legend": {
         "tracegroupgap": 0
        },
        "template": {
         "data": {
          "bar": [
           {
            "error_x": {
             "color": "#2a3f5f"
            },
            "error_y": {
             "color": "#2a3f5f"
            },
            "marker": {
             "line": {
              "color": "#E5ECF6",
              "width": 0.5
             }
            },
            "type": "bar"
           }
          ],
          "barpolar": [
           {
            "marker": {
             "line": {
              "color": "#E5ECF6",
              "width": 0.5
             }
            },
            "type": "barpolar"
           }
          ],
          "carpet": [
           {
            "aaxis": {
             "endlinecolor": "#2a3f5f",
             "gridcolor": "white",
             "linecolor": "white",
             "minorgridcolor": "white",
             "startlinecolor": "#2a3f5f"
            },
            "baxis": {
             "endlinecolor": "#2a3f5f",
             "gridcolor": "white",
             "linecolor": "white",
             "minorgridcolor": "white",
             "startlinecolor": "#2a3f5f"
            },
            "type": "carpet"
           }
          ],
          "choropleth": [
           {
            "colorbar": {
             "outlinewidth": 0,
             "ticks": ""
            },
            "type": "choropleth"
           }
          ],
          "contour": [
           {
            "colorbar": {
             "outlinewidth": 0,
             "ticks": ""
            },
            "colorscale": [
             [
              0,
              "#0d0887"
             ],
             [
              0.1111111111111111,
              "#46039f"
             ],
             [
              0.2222222222222222,
              "#7201a8"
             ],
             [
              0.3333333333333333,
              "#9c179e"
             ],
             [
              0.4444444444444444,
              "#bd3786"
             ],
             [
              0.5555555555555556,
              "#d8576b"
             ],
             [
              0.6666666666666666,
              "#ed7953"
             ],
             [
              0.7777777777777778,
              "#fb9f3a"
             ],
             [
              0.8888888888888888,
              "#fdca26"
             ],
             [
              1,
              "#f0f921"
             ]
            ],
            "type": "contour"
           }
          ],
          "contourcarpet": [
           {
            "colorbar": {
             "outlinewidth": 0,
             "ticks": ""
            },
            "type": "contourcarpet"
           }
          ],
          "heatmap": [
           {
            "colorbar": {
             "outlinewidth": 0,
             "ticks": ""
            },
            "colorscale": [
             [
              0,
              "#0d0887"
             ],
             [
              0.1111111111111111,
              "#46039f"
             ],
             [
              0.2222222222222222,
              "#7201a8"
             ],
             [
              0.3333333333333333,
              "#9c179e"
             ],
             [
              0.4444444444444444,
              "#bd3786"
             ],
             [
              0.5555555555555556,
              "#d8576b"
             ],
             [
              0.6666666666666666,
              "#ed7953"
             ],
             [
              0.7777777777777778,
              "#fb9f3a"
             ],
             [
              0.8888888888888888,
              "#fdca26"
             ],
             [
              1,
              "#f0f921"
             ]
            ],
            "type": "heatmap"
           }
          ],
          "heatmapgl": [
           {
            "colorbar": {
             "outlinewidth": 0,
             "ticks": ""
            },
            "colorscale": [
             [
              0,
              "#0d0887"
             ],
             [
              0.1111111111111111,
              "#46039f"
             ],
             [
              0.2222222222222222,
              "#7201a8"
             ],
             [
              0.3333333333333333,
              "#9c179e"
             ],
             [
              0.4444444444444444,
              "#bd3786"
             ],
             [
              0.5555555555555556,
              "#d8576b"
             ],
             [
              0.6666666666666666,
              "#ed7953"
             ],
             [
              0.7777777777777778,
              "#fb9f3a"
             ],
             [
              0.8888888888888888,
              "#fdca26"
             ],
             [
              1,
              "#f0f921"
             ]
            ],
            "type": "heatmapgl"
           }
          ],
          "histogram": [
           {
            "marker": {
             "colorbar": {
              "outlinewidth": 0,
              "ticks": ""
             }
            },
            "type": "histogram"
           }
          ],
          "histogram2d": [
           {
            "colorbar": {
             "outlinewidth": 0,
             "ticks": ""
            },
            "colorscale": [
             [
              0,
              "#0d0887"
             ],
             [
              0.1111111111111111,
              "#46039f"
             ],
             [
              0.2222222222222222,
              "#7201a8"
             ],
             [
              0.3333333333333333,
              "#9c179e"
             ],
             [
              0.4444444444444444,
              "#bd3786"
             ],
             [
              0.5555555555555556,
              "#d8576b"
             ],
             [
              0.6666666666666666,
              "#ed7953"
             ],
             [
              0.7777777777777778,
              "#fb9f3a"
             ],
             [
              0.8888888888888888,
              "#fdca26"
             ],
             [
              1,
              "#f0f921"
             ]
            ],
            "type": "histogram2d"
           }
          ],
          "histogram2dcontour": [
           {
            "colorbar": {
             "outlinewidth": 0,
             "ticks": ""
            },
            "colorscale": [
             [
              0,
              "#0d0887"
             ],
             [
              0.1111111111111111,
              "#46039f"
             ],
             [
              0.2222222222222222,
              "#7201a8"
             ],
             [
              0.3333333333333333,
              "#9c179e"
             ],
             [
              0.4444444444444444,
              "#bd3786"
             ],
             [
              0.5555555555555556,
              "#d8576b"
             ],
             [
              0.6666666666666666,
              "#ed7953"
             ],
             [
              0.7777777777777778,
              "#fb9f3a"
             ],
             [
              0.8888888888888888,
              "#fdca26"
             ],
             [
              1,
              "#f0f921"
             ]
            ],
            "type": "histogram2dcontour"
           }
          ],
          "mesh3d": [
           {
            "colorbar": {
             "outlinewidth": 0,
             "ticks": ""
            },
            "type": "mesh3d"
           }
          ],
          "parcoords": [
           {
            "line": {
             "colorbar": {
              "outlinewidth": 0,
              "ticks": ""
             }
            },
            "type": "parcoords"
           }
          ],
          "pie": [
           {
            "automargin": true,
            "type": "pie"
           }
          ],
          "scatter": [
           {
            "marker": {
             "colorbar": {
              "outlinewidth": 0,
              "ticks": ""
             }
            },
            "type": "scatter"
           }
          ],
          "scatter3d": [
           {
            "line": {
             "colorbar": {
              "outlinewidth": 0,
              "ticks": ""
             }
            },
            "marker": {
             "colorbar": {
              "outlinewidth": 0,
              "ticks": ""
             }
            },
            "type": "scatter3d"
           }
          ],
          "scattercarpet": [
           {
            "marker": {
             "colorbar": {
              "outlinewidth": 0,
              "ticks": ""
             }
            },
            "type": "scattercarpet"
           }
          ],
          "scattergeo": [
           {
            "marker": {
             "colorbar": {
              "outlinewidth": 0,
              "ticks": ""
             }
            },
            "type": "scattergeo"
           }
          ],
          "scattergl": [
           {
            "marker": {
             "colorbar": {
              "outlinewidth": 0,
              "ticks": ""
             }
            },
            "type": "scattergl"
           }
          ],
          "scattermapbox": [
           {
            "marker": {
             "colorbar": {
              "outlinewidth": 0,
              "ticks": ""
             }
            },
            "type": "scattermapbox"
           }
          ],
          "scatterpolar": [
           {
            "marker": {
             "colorbar": {
              "outlinewidth": 0,
              "ticks": ""
             }
            },
            "type": "scatterpolar"
           }
          ],
          "scatterpolargl": [
           {
            "marker": {
             "colorbar": {
              "outlinewidth": 0,
              "ticks": ""
             }
            },
            "type": "scatterpolargl"
           }
          ],
          "scatterternary": [
           {
            "marker": {
             "colorbar": {
              "outlinewidth": 0,
              "ticks": ""
             }
            },
            "type": "scatterternary"
           }
          ],
          "surface": [
           {
            "colorbar": {
             "outlinewidth": 0,
             "ticks": ""
            },
            "colorscale": [
             [
              0,
              "#0d0887"
             ],
             [
              0.1111111111111111,
              "#46039f"
             ],
             [
              0.2222222222222222,
              "#7201a8"
             ],
             [
              0.3333333333333333,
              "#9c179e"
             ],
             [
              0.4444444444444444,
              "#bd3786"
             ],
             [
              0.5555555555555556,
              "#d8576b"
             ],
             [
              0.6666666666666666,
              "#ed7953"
             ],
             [
              0.7777777777777778,
              "#fb9f3a"
             ],
             [
              0.8888888888888888,
              "#fdca26"
             ],
             [
              1,
              "#f0f921"
             ]
            ],
            "type": "surface"
           }
          ],
          "table": [
           {
            "cells": {
             "fill": {
              "color": "#EBF0F8"
             },
             "line": {
              "color": "white"
             }
            },
            "header": {
             "fill": {
              "color": "#C8D4E3"
             },
             "line": {
              "color": "white"
             }
            },
            "type": "table"
           }
          ]
         },
         "layout": {
          "annotationdefaults": {
           "arrowcolor": "#2a3f5f",
           "arrowhead": 0,
           "arrowwidth": 1
          },
          "autotypenumbers": "strict",
          "coloraxis": {
           "colorbar": {
            "outlinewidth": 0,
            "ticks": ""
           }
          },
          "colorscale": {
           "diverging": [
            [
             0,
             "#8e0152"
            ],
            [
             0.1,
             "#c51b7d"
            ],
            [
             0.2,
             "#de77ae"
            ],
            [
             0.3,
             "#f1b6da"
            ],
            [
             0.4,
             "#fde0ef"
            ],
            [
             0.5,
             "#f7f7f7"
            ],
            [
             0.6,
             "#e6f5d0"
            ],
            [
             0.7,
             "#b8e186"
            ],
            [
             0.8,
             "#7fbc41"
            ],
            [
             0.9,
             "#4d9221"
            ],
            [
             1,
             "#276419"
            ]
           ],
           "sequential": [
            [
             0,
             "#0d0887"
            ],
            [
             0.1111111111111111,
             "#46039f"
            ],
            [
             0.2222222222222222,
             "#7201a8"
            ],
            [
             0.3333333333333333,
             "#9c179e"
            ],
            [
             0.4444444444444444,
             "#bd3786"
            ],
            [
             0.5555555555555556,
             "#d8576b"
            ],
            [
             0.6666666666666666,
             "#ed7953"
            ],
            [
             0.7777777777777778,
             "#fb9f3a"
            ],
            [
             0.8888888888888888,
             "#fdca26"
            ],
            [
             1,
             "#f0f921"
            ]
           ],
           "sequentialminus": [
            [
             0,
             "#0d0887"
            ],
            [
             0.1111111111111111,
             "#46039f"
            ],
            [
             0.2222222222222222,
             "#7201a8"
            ],
            [
             0.3333333333333333,
             "#9c179e"
            ],
            [
             0.4444444444444444,
             "#bd3786"
            ],
            [
             0.5555555555555556,
             "#d8576b"
            ],
            [
             0.6666666666666666,
             "#ed7953"
            ],
            [
             0.7777777777777778,
             "#fb9f3a"
            ],
            [
             0.8888888888888888,
             "#fdca26"
            ],
            [
             1,
             "#f0f921"
            ]
           ]
          },
          "colorway": [
           "#636efa",
           "#EF553B",
           "#00cc96",
           "#ab63fa",
           "#FFA15A",
           "#19d3f3",
           "#FF6692",
           "#B6E880",
           "#FF97FF",
           "#FECB52"
          ],
          "font": {
           "color": "#2a3f5f"
          },
          "geo": {
           "bgcolor": "white",
           "lakecolor": "white",
           "landcolor": "#E5ECF6",
           "showlakes": true,
           "showland": true,
           "subunitcolor": "white"
          },
          "hoverlabel": {
           "align": "left"
          },
          "hovermode": "closest",
          "mapbox": {
           "style": "light"
          },
          "paper_bgcolor": "white",
          "plot_bgcolor": "#E5ECF6",
          "polar": {
           "angularaxis": {
            "gridcolor": "white",
            "linecolor": "white",
            "ticks": ""
           },
           "bgcolor": "#E5ECF6",
           "radialaxis": {
            "gridcolor": "white",
            "linecolor": "white",
            "ticks": ""
           }
          },
          "scene": {
           "xaxis": {
            "backgroundcolor": "#E5ECF6",
            "gridcolor": "white",
            "gridwidth": 2,
            "linecolor": "white",
            "showbackground": true,
            "ticks": "",
            "zerolinecolor": "white"
           },
           "yaxis": {
            "backgroundcolor": "#E5ECF6",
            "gridcolor": "white",
            "gridwidth": 2,
            "linecolor": "white",
            "showbackground": true,
            "ticks": "",
            "zerolinecolor": "white"
           },
           "zaxis": {
            "backgroundcolor": "#E5ECF6",
            "gridcolor": "white",
            "gridwidth": 2,
            "linecolor": "white",
            "showbackground": true,
            "ticks": "",
            "zerolinecolor": "white"
           }
          },
          "shapedefaults": {
           "line": {
            "color": "#2a3f5f"
           }
          },
          "ternary": {
           "aaxis": {
            "gridcolor": "white",
            "linecolor": "white",
            "ticks": ""
           },
           "baxis": {
            "gridcolor": "white",
            "linecolor": "white",
            "ticks": ""
           },
           "bgcolor": "#E5ECF6",
           "caxis": {
            "gridcolor": "white",
            "linecolor": "white",
            "ticks": ""
           }
          },
          "title": {
           "x": 0.05
          },
          "xaxis": {
           "automargin": true,
           "gridcolor": "white",
           "linecolor": "white",
           "ticks": "",
           "title": {
            "standoff": 15
           },
           "zerolinecolor": "white",
           "zerolinewidth": 2
          },
          "yaxis": {
           "automargin": true,
           "gridcolor": "white",
           "linecolor": "white",
           "ticks": "",
           "title": {
            "standoff": 15
           },
           "zerolinecolor": "white",
           "zerolinewidth": 2
          }
         }
        },
        "title": {
         "text": "Relation between Age and Gender"
        },
        "xaxis": {
         "anchor": "y",
         "domain": [
          0,
          1
         ],
         "title": {
          "text": "Sex"
         }
        },
        "yaxis": {
         "anchor": "x",
         "domain": [
          0,
          1
         ],
         "title": {
          "text": "Age"
         }
        }
       }
      },
      "text/html": [
       "<div>                            <div id=\"9e4dd3a2-07bb-4137-aee2-b4e09e81f8e0\" class=\"plotly-graph-div\" style=\"height:525px; width:100%;\"></div>            <script type=\"text/javascript\">                require([\"plotly\"], function(Plotly) {                    window.PLOTLYENV=window.PLOTLYENV || {};                                    if (document.getElementById(\"9e4dd3a2-07bb-4137-aee2-b4e09e81f8e0\")) {                    Plotly.newPlot(                        \"9e4dd3a2-07bb-4137-aee2-b4e09e81f8e0\",                        [{\"hovertemplate\": \"Sex=%{x}<br>Age=%{y}<extra></extra>\", \"legendgroup\": \"\", \"marker\": {\"color\": \"#636efa\", \"symbol\": \"circle\"}, \"mode\": \"markers\", \"name\": \"\", \"orientation\": \"v\", \"showlegend\": false, \"type\": \"scatter\", \"x\": [\"Male\", \"Male\", \"Male\", \"Male\", \"Male\", \"Male\", \"Male\", \"Female\", \"Female\", \"Female\", \"Male\", \"Male\", \"Male\", \"Male\", \"Male\", \"Male\", \"Male\", \"Male\", \"Male\", \"Female\", \"Female\", \"Male\", \"Male\", \"Male\", \"Male\", \"Male\", \"Male\", \"Male\", \"Male\", \"Female\", \"Male\", \"Male\", \"Female\", \"Female\", \"Female\", \"Male\", \"Male\", \"Male\", \"Male\", \"Male\", \"Male\", \"Male\", \"Male\", \"Male\", \"Male\", \"Male\", \"Male\", \"Male\", \"Male\", \"Male\", \"Male\", \"Female\", \"Male\", \"Male\", \"Male\", \"Female\", \"Female\", \"Male\", \"Female\", \"Male\", \"Male\", \"Male\", \"Male\", \"Male\", \"Male\", \"Male\", \"Male\", \"Male\", \"Female\", \"Male\", \"Male\", \"Male\", \"Male\", \"Female\", \"Female\", \"Male\", \"Male\", \"Male\", \"Male\", \"Male\", \"Male\", \"Male\", \"Female\", \"Male\", \"Male\", \"Male\", \"Male\", \"Male\", \"Male\", \"Male\", \"Male\", \"Male\", \"Male\", \"Male\", \"Female\", \"Male\", \"Male\", \"Female\", \"Female\", \"Male\", \"Female\", \"Male\", \"Male\", \"Male\", \"Male\", \"Female\", \"Male\", \"Female\", \"Male\", \"Male\", \"Female\", \"Female\", \"Female\", \"Male\", \"Female\", \"Male\", \"Male\", \"Male\", \"Female\", \"Female\", \"Male\", \"Male\", \"Male\", \"Male\", \"Female\", \"Male\", \"Male\", \"Male\", \"Male\", \"Female\", \"Male\", \"Male\", \"Male\", \"Male\", \"Male\", \"Male\", \"Male\", \"Male\", \"Male\", \"Male\", \"Male\", \"Female\", \"Male\", \"Female\", \"Male\", \"Male\", \"Male\", \"Male\", \"Male\", \"Male\", \"Male\", \"Female\", \"Male\", \"Male\", \"Male\", \"Male\", \"Male\", \"Male\", \"Female\", \"Male\", \"Male\", \"Male\", \"Male\", \"Male\", \"Female\", \"Female\", \"Male\", \"Male\", \"Male\", \"Male\", \"Male\", \"Male\", \"Male\", \"Male\", \"Male\", \"Male\"], \"xaxis\": \"x\", \"y\": [79, 69, 60, 72, 65, 56, 71, 83, 66, 71, 65, 57, 73, 69, 63, 69, 71, 58, 68, 70, 73, 54, 63, 68, 74, 64, 73, 71, 69, 52, 51, 70, 55, 49, 65, 63, 69, 69, 64, 68, 60, 74, 64, 73, 73, 74, 72, 77, 68, 57, 58, 69, 60, 65, 78, 55, 87, 71, 65, 61, 69, 83, 67, 65, 64, 66, 76, 58, 66, 63, 54, 58, 62, 66, 79, 73, 73, 68, 71, 52, 69, 69, 56, 65, 65, 62, 64, 67, 76, 70, 69, 65, 81, 71, 76, 70, 72, 77, 58, 71, 74, 68, 66, 67, 63, 66, 64, 71, 56, 88, 62, 76, 70, 60, 62, 77, 70, 60, 61, 63, 75, 72, 74, 58, 67, 78, 62, 65, 73, 72, 64, 72, 59, 77, 69, 69, 74, 56, 69, 64, 68, 68, 72, 68, 58, 78, 65, 65, 79, 64, 71, 57, 65, 75, 71, 72, 56, 62, 64, 53, 66, 67, 70, 55, 74, 61, 66, 74, 65, 65, 66, 73, 68, 73, 72, 73], \"yaxis\": \"y\"}],                        {\"legend\": {\"tracegroupgap\": 0}, \"template\": {\"data\": {\"bar\": [{\"error_x\": {\"color\": \"#2a3f5f\"}, \"error_y\": {\"color\": \"#2a3f5f\"}, \"marker\": {\"line\": {\"color\": \"#E5ECF6\", \"width\": 0.5}}, \"type\": \"bar\"}], \"barpolar\": [{\"marker\": {\"line\": {\"color\": \"#E5ECF6\", \"width\": 0.5}}, \"type\": \"barpolar\"}], \"carpet\": [{\"aaxis\": {\"endlinecolor\": \"#2a3f5f\", \"gridcolor\": \"white\", \"linecolor\": \"white\", \"minorgridcolor\": \"white\", \"startlinecolor\": \"#2a3f5f\"}, \"baxis\": {\"endlinecolor\": \"#2a3f5f\", \"gridcolor\": \"white\", \"linecolor\": \"white\", \"minorgridcolor\": \"white\", \"startlinecolor\": \"#2a3f5f\"}, \"type\": \"carpet\"}], \"choropleth\": [{\"colorbar\": {\"outlinewidth\": 0, \"ticks\": \"\"}, \"type\": \"choropleth\"}], \"contour\": [{\"colorbar\": {\"outlinewidth\": 0, \"ticks\": \"\"}, \"colorscale\": [[0.0, \"#0d0887\"], [0.1111111111111111, \"#46039f\"], [0.2222222222222222, \"#7201a8\"], [0.3333333333333333, \"#9c179e\"], [0.4444444444444444, \"#bd3786\"], [0.5555555555555556, \"#d8576b\"], [0.6666666666666666, \"#ed7953\"], [0.7777777777777778, \"#fb9f3a\"], [0.8888888888888888, \"#fdca26\"], [1.0, \"#f0f921\"]], \"type\": \"contour\"}], \"contourcarpet\": [{\"colorbar\": {\"outlinewidth\": 0, \"ticks\": \"\"}, \"type\": \"contourcarpet\"}], \"heatmap\": [{\"colorbar\": {\"outlinewidth\": 0, \"ticks\": \"\"}, \"colorscale\": [[0.0, \"#0d0887\"], [0.1111111111111111, \"#46039f\"], [0.2222222222222222, \"#7201a8\"], [0.3333333333333333, \"#9c179e\"], [0.4444444444444444, \"#bd3786\"], [0.5555555555555556, \"#d8576b\"], [0.6666666666666666, \"#ed7953\"], [0.7777777777777778, \"#fb9f3a\"], [0.8888888888888888, \"#fdca26\"], [1.0, \"#f0f921\"]], \"type\": \"heatmap\"}], \"heatmapgl\": [{\"colorbar\": {\"outlinewidth\": 0, \"ticks\": \"\"}, \"colorscale\": [[0.0, \"#0d0887\"], [0.1111111111111111, \"#46039f\"], [0.2222222222222222, \"#7201a8\"], [0.3333333333333333, \"#9c179e\"], [0.4444444444444444, \"#bd3786\"], [0.5555555555555556, \"#d8576b\"], [0.6666666666666666, \"#ed7953\"], [0.7777777777777778, \"#fb9f3a\"], [0.8888888888888888, \"#fdca26\"], [1.0, \"#f0f921\"]], \"type\": \"heatmapgl\"}], \"histogram\": [{\"marker\": {\"colorbar\": {\"outlinewidth\": 0, \"ticks\": \"\"}}, \"type\": \"histogram\"}], \"histogram2d\": [{\"colorbar\": {\"outlinewidth\": 0, \"ticks\": \"\"}, \"colorscale\": [[0.0, \"#0d0887\"], [0.1111111111111111, \"#46039f\"], [0.2222222222222222, \"#7201a8\"], [0.3333333333333333, \"#9c179e\"], [0.4444444444444444, \"#bd3786\"], [0.5555555555555556, \"#d8576b\"], [0.6666666666666666, \"#ed7953\"], [0.7777777777777778, \"#fb9f3a\"], [0.8888888888888888, \"#fdca26\"], [1.0, \"#f0f921\"]], \"type\": \"histogram2d\"}], \"histogram2dcontour\": [{\"colorbar\": {\"outlinewidth\": 0, \"ticks\": \"\"}, \"colorscale\": [[0.0, \"#0d0887\"], [0.1111111111111111, \"#46039f\"], [0.2222222222222222, \"#7201a8\"], [0.3333333333333333, \"#9c179e\"], [0.4444444444444444, \"#bd3786\"], [0.5555555555555556, \"#d8576b\"], [0.6666666666666666, \"#ed7953\"], [0.7777777777777778, \"#fb9f3a\"], [0.8888888888888888, \"#fdca26\"], [1.0, \"#f0f921\"]], \"type\": \"histogram2dcontour\"}], \"mesh3d\": [{\"colorbar\": {\"outlinewidth\": 0, \"ticks\": \"\"}, \"type\": \"mesh3d\"}], \"parcoords\": [{\"line\": {\"colorbar\": {\"outlinewidth\": 0, \"ticks\": \"\"}}, \"type\": \"parcoords\"}], \"pie\": [{\"automargin\": true, \"type\": \"pie\"}], \"scatter\": [{\"marker\": {\"colorbar\": {\"outlinewidth\": 0, \"ticks\": \"\"}}, \"type\": \"scatter\"}], \"scatter3d\": [{\"line\": {\"colorbar\": {\"outlinewidth\": 0, \"ticks\": \"\"}}, \"marker\": {\"colorbar\": {\"outlinewidth\": 0, \"ticks\": \"\"}}, \"type\": \"scatter3d\"}], \"scattercarpet\": [{\"marker\": {\"colorbar\": {\"outlinewidth\": 0, \"ticks\": \"\"}}, \"type\": \"scattercarpet\"}], \"scattergeo\": [{\"marker\": {\"colorbar\": {\"outlinewidth\": 0, \"ticks\": \"\"}}, \"type\": \"scattergeo\"}], \"scattergl\": [{\"marker\": {\"colorbar\": {\"outlinewidth\": 0, \"ticks\": \"\"}}, \"type\": \"scattergl\"}], \"scattermapbox\": [{\"marker\": {\"colorbar\": {\"outlinewidth\": 0, \"ticks\": \"\"}}, \"type\": \"scattermapbox\"}], \"scatterpolar\": [{\"marker\": {\"colorbar\": {\"outlinewidth\": 0, \"ticks\": \"\"}}, \"type\": \"scatterpolar\"}], \"scatterpolargl\": [{\"marker\": {\"colorbar\": {\"outlinewidth\": 0, \"ticks\": \"\"}}, \"type\": \"scatterpolargl\"}], \"scatterternary\": [{\"marker\": {\"colorbar\": {\"outlinewidth\": 0, \"ticks\": \"\"}}, \"type\": \"scatterternary\"}], \"surface\": [{\"colorbar\": {\"outlinewidth\": 0, \"ticks\": \"\"}, \"colorscale\": [[0.0, \"#0d0887\"], [0.1111111111111111, \"#46039f\"], [0.2222222222222222, \"#7201a8\"], [0.3333333333333333, \"#9c179e\"], [0.4444444444444444, \"#bd3786\"], [0.5555555555555556, \"#d8576b\"], [0.6666666666666666, \"#ed7953\"], [0.7777777777777778, \"#fb9f3a\"], [0.8888888888888888, \"#fdca26\"], [1.0, \"#f0f921\"]], \"type\": \"surface\"}], \"table\": [{\"cells\": {\"fill\": {\"color\": \"#EBF0F8\"}, \"line\": {\"color\": \"white\"}}, \"header\": {\"fill\": {\"color\": \"#C8D4E3\"}, \"line\": {\"color\": \"white\"}}, \"type\": \"table\"}]}, \"layout\": {\"annotationdefaults\": {\"arrowcolor\": \"#2a3f5f\", \"arrowhead\": 0, \"arrowwidth\": 1}, \"autotypenumbers\": \"strict\", \"coloraxis\": {\"colorbar\": {\"outlinewidth\": 0, \"ticks\": \"\"}}, \"colorscale\": {\"diverging\": [[0, \"#8e0152\"], [0.1, \"#c51b7d\"], [0.2, \"#de77ae\"], [0.3, \"#f1b6da\"], [0.4, \"#fde0ef\"], [0.5, \"#f7f7f7\"], [0.6, \"#e6f5d0\"], [0.7, \"#b8e186\"], [0.8, \"#7fbc41\"], [0.9, \"#4d9221\"], [1, \"#276419\"]], \"sequential\": [[0.0, \"#0d0887\"], [0.1111111111111111, \"#46039f\"], [0.2222222222222222, \"#7201a8\"], [0.3333333333333333, \"#9c179e\"], [0.4444444444444444, \"#bd3786\"], [0.5555555555555556, \"#d8576b\"], [0.6666666666666666, \"#ed7953\"], [0.7777777777777778, \"#fb9f3a\"], [0.8888888888888888, \"#fdca26\"], [1.0, \"#f0f921\"]], \"sequentialminus\": [[0.0, \"#0d0887\"], [0.1111111111111111, \"#46039f\"], [0.2222222222222222, \"#7201a8\"], [0.3333333333333333, \"#9c179e\"], [0.4444444444444444, \"#bd3786\"], [0.5555555555555556, \"#d8576b\"], [0.6666666666666666, \"#ed7953\"], [0.7777777777777778, \"#fb9f3a\"], [0.8888888888888888, \"#fdca26\"], [1.0, \"#f0f921\"]]}, \"colorway\": [\"#636efa\", \"#EF553B\", \"#00cc96\", \"#ab63fa\", \"#FFA15A\", \"#19d3f3\", \"#FF6692\", \"#B6E880\", \"#FF97FF\", \"#FECB52\"], \"font\": {\"color\": \"#2a3f5f\"}, \"geo\": {\"bgcolor\": \"white\", \"lakecolor\": \"white\", \"landcolor\": \"#E5ECF6\", \"showlakes\": true, \"showland\": true, \"subunitcolor\": \"white\"}, \"hoverlabel\": {\"align\": \"left\"}, \"hovermode\": \"closest\", \"mapbox\": {\"style\": \"light\"}, \"paper_bgcolor\": \"white\", \"plot_bgcolor\": \"#E5ECF6\", \"polar\": {\"angularaxis\": {\"gridcolor\": \"white\", \"linecolor\": \"white\", \"ticks\": \"\"}, \"bgcolor\": \"#E5ECF6\", \"radialaxis\": {\"gridcolor\": \"white\", \"linecolor\": \"white\", \"ticks\": \"\"}}, \"scene\": {\"xaxis\": {\"backgroundcolor\": \"#E5ECF6\", \"gridcolor\": \"white\", \"gridwidth\": 2, \"linecolor\": \"white\", \"showbackground\": true, \"ticks\": \"\", \"zerolinecolor\": \"white\"}, \"yaxis\": {\"backgroundcolor\": \"#E5ECF6\", \"gridcolor\": \"white\", \"gridwidth\": 2, \"linecolor\": \"white\", \"showbackground\": true, \"ticks\": \"\", \"zerolinecolor\": \"white\"}, \"zaxis\": {\"backgroundcolor\": \"#E5ECF6\", \"gridcolor\": \"white\", \"gridwidth\": 2, \"linecolor\": \"white\", \"showbackground\": true, \"ticks\": \"\", \"zerolinecolor\": \"white\"}}, \"shapedefaults\": {\"line\": {\"color\": \"#2a3f5f\"}}, \"ternary\": {\"aaxis\": {\"gridcolor\": \"white\", \"linecolor\": \"white\", \"ticks\": \"\"}, \"baxis\": {\"gridcolor\": \"white\", \"linecolor\": \"white\", \"ticks\": \"\"}, \"bgcolor\": \"#E5ECF6\", \"caxis\": {\"gridcolor\": \"white\", \"linecolor\": \"white\", \"ticks\": \"\"}}, \"title\": {\"x\": 0.05}, \"xaxis\": {\"automargin\": true, \"gridcolor\": \"white\", \"linecolor\": \"white\", \"ticks\": \"\", \"title\": {\"standoff\": 15}, \"zerolinecolor\": \"white\", \"zerolinewidth\": 2}, \"yaxis\": {\"automargin\": true, \"gridcolor\": \"white\", \"linecolor\": \"white\", \"ticks\": \"\", \"title\": {\"standoff\": 15}, \"zerolinecolor\": \"white\", \"zerolinewidth\": 2}}}, \"title\": {\"text\": \"Relation between Age and Gender\"}, \"xaxis\": {\"anchor\": \"y\", \"domain\": [0.0, 1.0], \"title\": {\"text\": \"Sex\"}}, \"yaxis\": {\"anchor\": \"x\", \"domain\": [0.0, 1.0], \"title\": {\"text\": \"Age\"}}},                        {\"responsive\": true}                    ).then(function(){\n",
       "                            \n",
       "var gd = document.getElementById('9e4dd3a2-07bb-4137-aee2-b4e09e81f8e0');\n",
       "var x = new MutationObserver(function (mutations, observer) {{\n",
       "        var display = window.getComputedStyle(gd).display;\n",
       "        if (!display || display === 'none') {{\n",
       "            console.log([gd, 'removed!']);\n",
       "            Plotly.purge(gd);\n",
       "            observer.disconnect();\n",
       "        }}\n",
       "}});\n",
       "\n",
       "// Listen for the removal of the full notebook cells\n",
       "var notebookContainer = gd.closest('#notebook-container');\n",
       "if (notebookContainer) {{\n",
       "    x.observe(notebookContainer, {childList: true});\n",
       "}}\n",
       "\n",
       "// Listen for the clearing of the current output cell\n",
       "var outputEl = gd.closest('.output');\n",
       "if (outputEl) {{\n",
       "    x.observe(outputEl, {childList: true});\n",
       "}}\n",
       "\n",
       "                        })                };                });            </script>        </div>"
      ]
     },
     "metadata": {},
     "output_type": "display_data"
    }
   ],
   "source": [
    "fig = go.Figure()\n",
    "fig = px.scatter(train_patient_dataframe,x='Sex',y = 'Age',title = 'Relation between Age and Gender')\n",
    "fig.show()"
   ]
  },
  {
   "cell_type": "markdown",
   "id": "featured-brown",
   "metadata": {},
   "source": [
    "### Checking out the distribution of the data\n",
    "- Mainly the gaussian distribution of the data\n",
    "- The standard normal distribution has two parameters: the mean and the standard deviation. For a normal distribution, 68% of the observations are within +/- one standard deviation of the mean, 95% are within +/- two standard deviations, and 99.7% are within +- three standard deviations.\n",
    "- The normal distribution model is motivated by the Central Limit Theorem. This theory states that averages calculated from independent, identically distributed random variables have approximately normal distributions, regardless of the type of distribution from which the variables are sampled (provided it has finite variance). "
   ]
  },
  {
   "cell_type": "markdown",
   "id": "exotic-specification",
   "metadata": {},
   "source": [
    "##### Gaussian distribution of age and sexes in training data\n",
    "- Almost same distribution of male and female age"
   ]
  },
  {
   "cell_type": "code",
   "execution_count": 34,
   "id": "seventh-discrimination",
   "metadata": {},
   "outputs": [
    {
     "data": {
      "image/png": "[encoded data removed]",
      "text/plain": [
       "<Figure size 1152x432 with 1 Axes>"
      ]
     },
     "metadata": {
      "needs_background": "light"
     },
     "output_type": "display_data"
    }
   ],
   "source": [
    "plt.figure(figsize=(16, 6))\n",
    "\n",
    "sns.kdeplot(train_patient_dataframe[train_patient_dataframe['Sex'] == 'Male']['Age'], label = 'Male',shade=True)\n",
    "sns.kdeplot(train_patient_dataframe[train_patient_dataframe['Sex'] == 'Female']['Age'], label = 'Female',shade=True)\n",
    "\n",
    "plt.xlabel('Age (years)'); \n",
    "plt.ylabel('Density'); \n",
    "plt.title('Distribution of Ages');\n",
    "plt.legend();\n",
    "plt.show();"
   ]
  },
  {
   "cell_type": "markdown",
   "id": "deluxe-newport",
   "metadata": {},
   "source": [
    "##### Gaussian Distribution of age and smokers in training data\n",
    "- Smokers, non smokers and exsmokers has almost same age distribution"
   ]
  },
  {
   "cell_type": "code",
   "execution_count": 35,
   "id": "loaded-concrete",
   "metadata": {},
   "outputs": [
    {
     "data": {
      "image/png": "[encoded data removed]",
      "text/plain": [
       "<Figure size 1152x432 with 1 Axes>"
      ]
     },
     "metadata": {
      "needs_background": "light"
     },
     "output_type": "display_data"
    }
   ],
   "source": [
    "plt.figure(figsize=(16, 6))\n",
    "\n",
    "sns.kdeplot(train_patient_dataframe.loc[train_patient_dataframe['SmokingStatus'] == 'Ex-smoker', 'Age'], label = 'Ex-smoker',shade=True)\n",
    "sns.kdeplot(train_patient_dataframe.loc[train_patient_dataframe['SmokingStatus'] == 'Never smoked', 'Age'], label = 'Never smoked',shade=True)\n",
    "sns.kdeplot(train_patient_dataframe.loc[train_patient_dataframe['SmokingStatus'] == 'Currently smokes', 'Age'], label = 'Currently smokes', shade=True)\n",
    "\n",
    "# Labeling of plot\n",
    "plt.xlabel('Age (years)'); \n",
    "plt.ylabel('Density'); \n",
    "plt.title('Distribution of Ages');\n",
    "plt.legend();\n",
    "plt.show();"
   ]
  },
  {
   "cell_type": "markdown",
   "id": "reflected-mechanism",
   "metadata": {},
   "source": [
    "### Deconstructing the FVC in detail\n",
    "##### What is FVC?\n",
    "- Forced expiratory volume (FEV) measures how much air a person can exhale during a forced breath. \n",
    "- The normal FVC range for an adult is between 3.0 and 5.0 L.\n",
    "- The standard FVC for an average-size preschool boy is 1.16 L and 1.04 L for an average-size preschool girl.\n",
    "###### Here however, the FVC are calculated in milliliters"
   ]
  },
  {
   "cell_type": "code",
   "execution_count": 74,
   "id": "normal-journalism",
   "metadata": {},
   "outputs": [
    {
     "data": {
      "image/png": "[encoded data removed]",
      "text/plain": [
       "<Figure size 1152x432 with 1 Axes>"
      ]
     },
     "metadata": {
      "needs_background": "light"
     },
     "output_type": "display_data"
    }
   ],
   "source": [
    "#Checking the distribution of FVC of both male and female patients\n",
    "plt.figure(figsize=(16, 6))\n",
    "sns.kdeplot(final_dataframe[final_dataframe['Sex'] == 'Male']['FVC'],label = 'Male Patients',shade=True)\n",
    "sns.kdeplot(final_dataframe[final_dataframe['Sex'] == 'Female']['FVC'],label = 'Female Patients',shade=True)\n",
    "plt.xlabel('FVC'); \n",
    "plt.ylabel('Density'); \n",
    "plt.title('Distribution of data in FVC in male and female patients');\n",
    "plt.legend();\n",
    "plt.show();"
   ]
  },
  {
   "cell_type": "code",
   "execution_count": 75,
   "id": "miniature-calculator",
   "metadata": {},
   "outputs": [],
   "source": [
    "male = train_final_dataframe[train_final_dataframe['Sex']== 'Male']\n",
    "female = train_final_dataframe[train_final_dataframe['Sex'] == 'Female']"
   ]
  },
  {
   "cell_type": "markdown",
   "id": "premier-syracuse",
   "metadata": {},
   "source": [
    "#### Checking out the progress of each patients throughout the weeks\n",
    "- Looks like most of the checkups are done between 0-60 weeks for male patients\n",
    "- For female patients it is between 0-40 weeks"
   ]
  },
  {
   "cell_type": "code",
   "execution_count": 76,
   "id": "creative-hazard",
   "metadata": {},
   "outputs": [
    {
     "data": {
      "application/vnd.plotly.v1+json": {
       "config": {
        "plotlyServerURL": "https://plot.ly"
       },
       "data": [
        {
         "hovertemplate": "Weeks=%{x}<br>Patient=%{y}<br>FVC=%{marker.color}<extra></extra>",
         "legendgroup": "",
         "marker": {
          "color": [
           2315,
           2214,
           2061,
           2144,
           2069,
           2101,
           2000,
           2064,
           2057,
           3660,
           3610,
           3895,
           3759,
           3639,
           3578,
           3625,
           3390,
           3214,
           3523,
           3373,
           3327,
           2993,
           3030,
           3103,
           2993,
           2474,
           2518,
           3326,
           3419,
           3541,
           3502,
           3410,
           3477,
           3269,
           3346,
           3193,
           3418,
           3759,
           3276,
           3443,
           3268,
           3449,
           3324,
           3231,
           2971,
           3807,
           3897,
           3615,
           3786,
           3756,
           3238,
           3221,
           3439,
           3027,
           3042,
           3120,
           2890,
           2667,
           2968,
           2697,
           2682,
           2585,
           2903,
           3159,
           3277,
           3042,
           3277,
           3086,
           2880,
           2811,
           2533,
           2884,
           2766,
           3007,
           2981,
           2868,
           2917,
           3002,
           2793,
           2700,
           2472,
           2795,
           2750,
           2697,
           2887,
           2547,
           2564,
           2539,
           2378,
           2506,
           2561,
           2388,
           2694,
           2595,
           2552,
           2328,
           2378,
           5045,
           4825,
           4876,
           4665,
           4753,
           4487,
           4679,
           4743,
           3846,
           2728,
           2603,
           2634,
           2668,
           2684,
           2787,
           2391,
           2195,
           2272,
           3946,
           3905,
           3787,
           3988,
           4000,
           3831,
           3846,
           3878,
           3896,
           3791,
           3555,
           3514,
           3451,
           3626,
           3515,
           3679,
           3961,
           3431,
           3313,
           3235,
           3370,
           3129,
           3236,
           3012,
           2489,
           2522,
           2517,
           2292,
           2251,
           2436,
           1848,
           3255,
           3370,
           3418,
           3284,
           3050,
           3135,
           3292,
           3064,
           2890,
           3969,
           2511,
           4134,
           4024,
           4043,
           4048,
           4128,
           3902,
           4089,
           2301,
           2336,
           2341,
           2158,
           2260,
           2212,
           2239,
           2172,
           2071,
           3456,
           3295,
           3420,
           3608,
           3363,
           3410,
           3256,
           3230,
           2794,
           2827,
           2784,
           2740,
           2819,
           2592,
           2459,
           2626,
           2476,
           2359,
           2357,
           2376,
           2352,
           2414,
           2308,
           2233,
           2356,
           2247,
           2547,
           2409,
           2361,
           2354,
           2410,
           2353,
           2130,
           1709,
           2298,
           2576,
           2182,
           2374,
           2370,
           2480,
           2683,
           2914,
           2853,
           3170,
           3121,
           3223,
           3380,
           3255,
           3391,
           3504,
           3378,
           3391,
           2478,
           2539,
           2571,
           2511,
           2297,
           2241,
           2076,
           2031,
           1918,
           3562,
           3024,
           2958,
           2969,
           2982,
           2877,
           2948,
           2907,
           3695,
           3570,
           3834,
           3794,
           3592,
           2728,
           3475,
           3841,
           3668,
           4916,
           4799,
           4738,
           4856,
           4692,
           4756,
           4753,
           4574,
           4752,
           2934,
           2866,
           3065,
           3089,
           3005,
           3001,
           2769,
           2708,
           2862,
           2833,
           2553,
           2510,
           2294,
           2400,
           2133,
           1651,
           2196,
           2336,
           2404,
           2377,
           2339,
           2346,
           2381,
           2203,
           2089,
           2036,
           1733,
           2479,
           2398,
           2427,
           2547,
           2523,
           2483,
           2399,
           2322,
           2237,
           2076,
           2914,
           2795,
           2808,
           2707,
           2686,
           2850,
           2667,
           2641,
           2611,
           2073,
           2142,
           2274,
           2186,
           2269,
           2228,
           2327,
           2112,
           1725,
           1995,
           1884,
           1806,
           1666,
           1316,
           1085,
           938,
           919,
           2389,
           2419,
           2400,
           2181,
           2275,
           2235,
           2083,
           2548,
           2509,
           2543,
           2399,
           2507,
           2156,
           2134,
           2446,
           2933,
           3001,
           2904,
           2832,
           2866,
           2788,
           3022,
           2912,
           3037,
           2917,
           2851,
           2905,
           2889,
           2965,
           2950,
           2886,
           2899,
           2994,
           2908,
           2581,
           2427,
           2404,
           2335,
           2279,
           2254,
           2146,
           2155,
           2091,
           3559,
           3587,
           3458,
           3614,
           3661,
           3610,
           3454,
           3350,
           3146,
           2349,
           2584,
           2337,
           2330,
           2320,
           2093,
           2027,
           1872,
           2375,
           2281,
           2276,
           2295,
           2245,
           2227,
           2316,
           2307,
           2455,
           2253,
           2184,
           2235,
           2333,
           2266,
           2319,
           2230,
           2154,
           2134,
           3327,
           3407,
           3292,
           3368,
           3364,
           3226,
           3274,
           3208,
           2990,
           2582,
           2614,
           2743,
           2674,
           2579,
           2608,
           2588,
           2630,
           2594,
           3195,
           3203,
           3097,
           3171,
           3115,
           3105,
           3035,
           3051,
           3033,
           2629,
           2729,
           2606,
           2568,
           2560,
           2675,
           2415,
           2112,
           2232,
           3808,
           4036,
           4087,
           3869,
           3906,
           3780,
           3925,
           3907,
           3901,
           3239,
           3390,
           3324,
           3305,
           3276,
           3376,
           3278,
           3362,
           3197,
           4510,
           4443,
           4339,
           4324,
           4247,
           4196,
           4320,
           4267,
           4151,
           3793,
           3742,
           3916,
           4130,
           4050,
           3949,
           4061,
           3835,
           3568,
           4124,
           3981,
           4092,
           4201,
           4130,
           3973,
           3865,
           3852,
           4052,
           4089,
           2841,
           2806,
           2786,
           2944,
           3017,
           2901,
           2809,
           2897,
           2818,
           2102,
           2102,
           2172,
           2136,
           2067,
           2161,
           2296,
           2129,
           2184,
           4562,
           4791,
           4680,
           4635,
           4662,
           4496,
           4537,
           4424,
           4288,
           3744,
           3186,
           3095,
           3143,
           2993,
           3041,
           2975,
           2859,
           2762,
           2711,
           2603,
           2715,
           2740,
           2749,
           2833,
           2830,
           2772,
           2801,
           2623,
           2648,
           2728,
           2861,
           2889,
           2840,
           2697,
           2675,
           2576,
           2563,
           3009,
           2954,
           3102,
           2962,
           3054,
           3049,
           2866,
           2761,
           2860,
           2541,
           2358,
           2350,
           2346,
           2427,
           2449,
           2537,
           2461,
           2393,
           3130,
           2965,
           3197,
           2761,
           3009,
           3175,
           3021,
           2991,
           2743,
           3096,
           2781,
           2826,
           2759,
           2591,
           2428,
           2119,
           4291,
           4488,
           4490,
           4424,
           4307,
           4330,
           4169,
           4193,
           4461,
           3849,
           3799,
           3871,
           3903,
           3930,
           4360,
           3811,
           3792,
           3856,
           2776,
           2400,
           1950,
           2192,
           2360,
           1941,
           3399,
           2312,
           3283,
           2672,
           2683,
           2868,
           2949,
           2907,
           2686,
           2832,
           2844,
           2889,
           4311,
           4279,
           4316,
           4185,
           4029,
           4092,
           4040,
           3641,
           3646,
           2379,
           2722,
           2735,
           2924,
           2829,
           2806,
           2696,
           2522,
           2526,
           2846,
           2860,
           2773,
           2780,
           2809,
           2837,
           2844,
           2845,
           2852,
           3035,
           3376,
           3057,
           3126,
           3220,
           3090,
           2972,
           3289,
           3017,
           2869,
           2853,
           2912,
           2929,
           2886,
           2867,
           2829,
           2874,
           2791,
           2658,
           2289,
           2157,
           1997,
           2110,
           2195,
           2424,
           2081,
           2105,
           2439,
           2550,
           2590,
           2564,
           2582,
           2527,
           2888,
           2802,
           2600,
           6399,
           5678,
           5910,
           5739,
           5763,
           5844,
           5613,
           5895,
           5768,
           2644,
           2345,
           2492,
           2540,
           2549,
           2579,
           2371,
           2384,
           2316,
           2992,
           2637,
           2643,
           2705,
           2679,
           2388,
           2722,
           2656,
           2812,
           3518,
           3531,
           3402,
           3539,
           3649,
           3603,
           3489,
           3410,
           3355,
           3342,
           3829,
           3467,
           3564,
           3574,
           3609,
           3685,
           3429,
           3252,
           3580,
           2080,
           2022,
           1769,
           2002,
           1756,
           2008,
           1848,
           1897,
           2061,
           2129,
           2095,
           2142,
           2120,
           2185,
           2124,
           2179,
           2257,
           2991,
           3132,
           2872,
           2807,
           2779,
           2713,
           2503,
           2762,
           2782,
           1853,
           1715,
           1825,
           1918,
           1785,
           1843,
           1631,
           1644,
           1761,
           3255,
           3246,
           3243,
           3175,
           3102,
           2334,
           2139,
           2161,
           2075,
           2100,
           2065,
           2065,
           1937,
           2039,
           2026,
           1715,
           1808,
           3020,
           2860,
           2847,
           2708,
           2797,
           2845,
           2911,
           2886,
           2962,
           3107,
           2879,
           2828,
           2908,
           3002,
           2718,
           2738,
           4141,
           4167,
           4086,
           4036,
           4121,
           4089,
           3978,
           4046,
           3796,
           1965,
           1854,
           1957,
           1967,
           2109,
           1955,
           1925,
           2015,
           1984,
           2283,
           2175,
           2315,
           2300,
           2103,
           2314,
           2135,
           1814,
           4051,
           4027,
           4079,
           3962,
           4043,
           3840,
           4001,
           3618,
           3581,
           2327,
           2361,
           2244,
           2286,
           2174,
           2058,
           2095,
           2144,
           2065,
           2223,
           2099,
           2258,
           2130,
           2163,
           1990,
           2210,
           2166,
           2109,
           2182,
           2297,
           2293,
           2328,
           1741,
           1992,
           2141,
           2126,
           2984,
           2938,
           2776,
           2708,
           2785,
           2817,
           2941,
           2714,
           2555,
           3170,
           3247,
           3292,
           3203,
           3166,
           3106,
           2834,
           2762,
           2883,
           3240,
           3184,
           3180,
           3099,
           3499,
           3118,
           2927,
           2828,
           3187,
           2375,
           2305,
           2263,
           2325,
           2277,
           2173,
           1653,
           1861,
           4143,
           2951,
           4287,
           4143,
           4198,
           4279,
           4238,
           4247,
           4218,
           2460,
           2602,
           2591,
           2585,
           2795,
           2456,
           2357,
           2311,
           2325,
           1412,
           1644,
           1550,
           1561,
           1818,
           1707,
           1581,
           1760,
           2805,
           2848,
           2618,
           2838,
           2830,
           2769,
           3051,
           2734,
           2677,
           3135,
           2986,
           2965,
           3177,
           3272,
           3135,
           3232,
           3153,
           3221,
           3043,
           2694,
           2577,
           2626,
           2557,
           2663,
           2598,
           2505,
           2467,
           2569,
           2549,
           2561,
           2570,
           2542,
           2545,
           2505,
           2294,
           3959,
           4096,
           3949,
           3876,
           3882,
           3904,
           3625,
           3941,
           4058,
           3574,
           3565,
           3446,
           3395,
           3421,
           3454,
           3299,
           3254,
           2968,
           2345,
           2295,
           2346,
           2276,
           2242,
           2253,
           2160,
           2000,
           2222,
           2390,
           2322,
           2305,
           2116,
           2036,
           2062,
           1865,
           1928,
           1901,
           2066,
           2074,
           2032,
           1987,
           2020,
           1954,
           1812,
           2808,
           2441,
           2567,
           2788,
           2470,
           2475,
           2627,
           2694,
           2690,
           4418,
           3681,
           4416,
           4323,
           4514,
           4762,
           4730,
           4791,
           4447,
           2030,
           2138,
           1939,
           2034,
           2035,
           1986,
           1823,
           2151,
           3107,
           2998,
           2714,
           2729,
           2760,
           2904,
           2731,
           2687,
           2889,
           3191,
           3067,
           3034,
           2815,
           2828,
           3032,
           3064,
           2466,
           2170,
           2421,
           2335,
           2581,
           2416,
           2398,
           2230,
           2294,
           2122,
           3128,
           3032,
           3107,
           2932,
           2964,
           2812,
           2963,
           2801,
           3019,
           2308,
           2211,
           2237,
           2244,
           2270,
           2209,
           2243,
           2219,
           2250,
           2470,
           2474,
           2508,
           2468,
           2452,
           2510,
           2479,
           2419,
           2232,
           4284,
           4316,
           4386,
           4319,
           4320,
           4157,
           4186,
           4251,
           4125,
           3338,
           3242,
           3336,
           3271,
           3190,
           3629,
           3623,
           3290,
           2939,
           2415,
           2242,
           2335,
           2202,
           2068,
           1997,
           1996,
           3157,
           3282,
           3042,
           3101,
           3046,
           3029,
           3045,
           2887,
           2989,
           2756,
           2231,
           2104,
           2214,
           2159,
           2040,
           2058,
           1996,
           1830,
           1808,
           3562,
           3936,
           3589,
           3635,
           3885,
           3745,
           3577,
           3576,
           3540,
           3046,
           2878,
           2839,
           2808,
           2592,
           2461,
           2349,
           2083,
           3962,
           3936,
           3895,
           3924,
           3856,
           3949,
           4013,
           4014,
           3797,
           3874,
           3179,
           3201,
           3190,
           3032,
           3188,
           3096,
           3067,
           2944,
           2963,
           2651,
           2377,
           2414,
           2384,
           2181,
           2374,
           2504,
           2416,
           1556,
           1788,
           1843,
           1772,
           1668,
           1799,
           1682,
           1746,
           1650,
           2619,
           3006,
           2622,
           2863,
           2612,
           2301,
           2171,
           2161,
           1612,
           3357,
           3397,
           3273,
           3354,
           3305,
           3265,
           3364,
           3240,
           3303,
           3020,
           2859,
           2783,
           2719,
           2738,
           2694,
           2708,
           2793,
           2727,
           2739,
           2756,
           2755,
           2820,
           2853,
           2716,
           2833,
           2771,
           2628,
           2719,
           1930,
           1936,
           1955,
           1848,
           1897,
           1946,
           1862,
           1713,
           3294,
           2777,
           2700,
           3014,
           2661,
           2778,
           2516,
           2432,
           2578,
           2925,
           2903,
           2916,
           2976,
           2712,
           2978,
           2908,
           2975,
           2774
          ],
          "coloraxis": "coloraxis",
          "symbol": "circle"
         },
         "mode": "markers",
         "name": "",
         "showlegend": false,
         "type": "scattergl",
         "x": [
          -4,
          5,
          7,
          9,
          11,
          17,
          29,
          41,
          57,
          8,
          9,
          11,
          13,
          15,
          22,
          33,
          45,
          60,
          0,
          1,
          3,
          5,
          7,
          13,
          25,
          37,
          54,
          6,
          7,
          9,
          11,
          13,
          19,
          32,
          43,
          58,
          33,
          35,
          37,
          39,
          41,
          47,
          58,
          71,
          87,
          0,
          2,
          4,
          6,
          8,
          14,
          26,
          37,
          54,
          12,
          17,
          19,
          21,
          31,
          40,
          52,
          69,
          0,
          1,
          3,
          6,
          7,
          14,
          26,
          38,
          53,
          41,
          45,
          47,
          49,
          51,
          57,
          69,
          81,
          98,
          12,
          14,
          16,
          18,
          23,
          26,
          38,
          51,
          66,
          19,
          30,
          33,
          34,
          36,
          42,
          54,
          65,
          30,
          35,
          37,
          39,
          41,
          47,
          59,
          71,
          87,
          11,
          12,
          14,
          16,
          18,
          24,
          36,
          49,
          65,
          6,
          12,
          15,
          17,
          19,
          24,
          36,
          49,
          63,
          1,
          6,
          9,
          11,
          12,
          18,
          31,
          44,
          60,
          2,
          4,
          6,
          8,
          10,
          29,
          48,
          51,
          53,
          56,
          58,
          63,
          75,
          16,
          18,
          20,
          23,
          24,
          31,
          43,
          55,
          71,
          23,
          24,
          26,
          28,
          30,
          36,
          48,
          60,
          76,
          44,
          46,
          48,
          50,
          52,
          58,
          70,
          83,
          98,
          4,
          5,
          7,
          9,
          11,
          17,
          28,
          41,
          11,
          11,
          13,
          15,
          16,
          22,
          35,
          46,
          62,
          15,
          18,
          20,
          22,
          24,
          30,
          42,
          55,
          70,
          3,
          6,
          8,
          10,
          12,
          18,
          30,
          42,
          -4,
          3,
          5,
          6,
          9,
          15,
          27,
          40,
          55,
          5,
          6,
          8,
          10,
          12,
          18,
          29,
          42,
          59,
          7,
          7,
          9,
          11,
          14,
          20,
          31,
          44,
          60,
          17,
          21,
          23,
          27,
          33,
          44,
          59,
          73,
          -1,
          3,
          6,
          8,
          9,
          16,
          28,
          39,
          54,
          0,
          6,
          9,
          11,
          12,
          18,
          30,
          42,
          58,
          44,
          47,
          49,
          51,
          53,
          58,
          70,
          83,
          98,
          102,
          3,
          5,
          7,
          9,
          11,
          17,
          29,
          41,
          58,
          20,
          21,
          23,
          26,
          28,
          33,
          45,
          58,
          44,
          45,
          47,
          49,
          51,
          57,
          69,
          82,
          97,
          100,
          11,
          13,
          15,
          17,
          19,
          25,
          37,
          49,
          65,
          53,
          55,
          57,
          59,
          61,
          67,
          79,
          91,
          107,
          15,
          18,
          20,
          23,
          25,
          31,
          42,
          56,
          9,
          10,
          13,
          15,
          17,
          23,
          36,
          15,
          17,
          19,
          21,
          23,
          29,
          42,
          52,
          4,
          8,
          10,
          12,
          14,
          20,
          32,
          44,
          60,
          2,
          4,
          6,
          8,
          10,
          16,
          28,
          40,
          56,
          59,
          -4,
          6,
          8,
          10,
          12,
          18,
          30,
          43,
          58,
          47,
          48,
          50,
          53,
          55,
          60,
          72,
          84,
          100,
          8,
          8,
          10,
          12,
          14,
          20,
          34,
          45,
          18,
          26,
          28,
          30,
          32,
          38,
          50,
          62,
          78,
          0,
          3,
          5,
          7,
          10,
          15,
          27,
          39,
          56,
          63,
          64,
          66,
          68,
          70,
          76,
          89,
          101,
          116,
          6,
          10,
          13,
          14,
          16,
          22,
          34,
          46,
          63,
          -2,
          2,
          4,
          6,
          8,
          13,
          27,
          38,
          54,
          2,
          8,
          11,
          13,
          14,
          21,
          33,
          44,
          59,
          31,
          35,
          37,
          40,
          42,
          48,
          60,
          73,
          89,
          3,
          6,
          8,
          10,
          12,
          18,
          30,
          43,
          58,
          14,
          18,
          20,
          22,
          24,
          30,
          42,
          54,
          70,
          16,
          21,
          24,
          25,
          27,
          33,
          47,
          58,
          73,
          16,
          18,
          20,
          22,
          24,
          30,
          42,
          54,
          70,
          74,
          8,
          10,
          12,
          14,
          16,
          22,
          34,
          46,
          61,
          79,
          81,
          83,
          85,
          87,
          92,
          104,
          117,
          133,
          7,
          11,
          13,
          15,
          17,
          23,
          34,
          47,
          62,
          66,
          7,
          8,
          10,
          12,
          14,
          21,
          33,
          44,
          60,
          35,
          37,
          39,
          41,
          43,
          49,
          60,
          72,
          92,
          11,
          17,
          19,
          21,
          23,
          29,
          42,
          53,
          69,
          9,
          11,
          13,
          16,
          18,
          24,
          35,
          47,
          63,
          39,
          42,
          44,
          46,
          48,
          54,
          65,
          77,
          94,
          29,
          30,
          32,
          34,
          37,
          43,
          55,
          67,
          83,
          8,
          11,
          13,
          15,
          17,
          23,
          59,
          4,
          10,
          12,
          14,
          16,
          22,
          34,
          46,
          62,
          9,
          12,
          14,
          16,
          18,
          25,
          36,
          48,
          66,
          0,
          5,
          8,
          10,
          11,
          18,
          30,
          41,
          57,
          5,
          5,
          7,
          9,
          12,
          17,
          30,
          42,
          57,
          20,
          21,
          23,
          25,
          27,
          33,
          45,
          58,
          75,
          33,
          35,
          37,
          38,
          41,
          47,
          59,
          71,
          86,
          0,
          3,
          5,
          7,
          9,
          16,
          27,
          39,
          56,
          6,
          9,
          11,
          13,
          14,
          21,
          32,
          44,
          61,
          3,
          4,
          6,
          8,
          10,
          16,
          28,
          40,
          55,
          10,
          11,
          13,
          15,
          17,
          23,
          34,
          47,
          63,
          20,
          22,
          25,
          26,
          29,
          34,
          46,
          59,
          75,
          0,
          4,
          7,
          9,
          11,
          17,
          27,
          40,
          56,
          -1,
          5,
          7,
          9,
          11,
          16,
          29,
          41,
          57,
          0,
          3,
          5,
          7,
          9,
          15,
          27,
          39,
          55,
          23,
          26,
          28,
          30,
          32,
          38,
          49,
          62,
          78,
          82,
          -3,
          2,
          4,
          6,
          9,
          14,
          27,
          39,
          54,
          3,
          4,
          6,
          8,
          10,
          16,
          29,
          41,
          34,
          35,
          37,
          40,
          42,
          47,
          59,
          71,
          88,
          5,
          5,
          8,
          9,
          12,
          18,
          30,
          41,
          57,
          4,
          5,
          7,
          9,
          10,
          17,
          28,
          41,
          58,
          34,
          40,
          42,
          46,
          52,
          67,
          76,
          92,
          21,
          30,
          32,
          34,
          37,
          43,
          55,
          67,
          83,
          4,
          8,
          10,
          12,
          14,
          20,
          32,
          44,
          60,
          6,
          7,
          9,
          11,
          13,
          19,
          31,
          8,
          10,
          12,
          14,
          17,
          22,
          34,
          46,
          63,
          0,
          3,
          5,
          7,
          9,
          15,
          27,
          39,
          54,
          4,
          15,
          17,
          18,
          21,
          26,
          38,
          51,
          2,
          4,
          6,
          8,
          10,
          16,
          27,
          43,
          56,
          5,
          6,
          7,
          10,
          12,
          18,
          29,
          42,
          59,
          5,
          8,
          10,
          12,
          13,
          20,
          32,
          44,
          22,
          24,
          26,
          28,
          30,
          37,
          48,
          60,
          76,
          8,
          10,
          12,
          14,
          16,
          22,
          34,
          46,
          62,
          3,
          6,
          8,
          10,
          12,
          18,
          31,
          44,
          58,
          3,
          5,
          7,
          9,
          11,
          18,
          29,
          41,
          57,
          26,
          32,
          34,
          35,
          44,
          56,
          70,
          85,
          12,
          16,
          18,
          20,
          22,
          29,
          40,
          52,
          69,
          3,
          6,
          8,
          10,
          11,
          18,
          30,
          40,
          57,
          26,
          27,
          29,
          31,
          33,
          39,
          50,
          64,
          39,
          43,
          45,
          47,
          49,
          54,
          66,
          79,
          95,
          28,
          30,
          32,
          34,
          36,
          42,
          55,
          67,
          82,
          3,
          4,
          6,
          8,
          10,
          16,
          28,
          40,
          56,
          6,
          8,
          10,
          12,
          14,
          20,
          33,
          44,
          29,
          32,
          34,
          36,
          38,
          44,
          57,
          68,
          85,
          0,
          6,
          9,
          10,
          13,
          18,
          31,
          41,
          58,
          -1,
          5,
          8,
          10,
          12,
          18,
          30,
          42,
          58,
          23,
          25,
          27,
          29,
          31,
          37,
          49,
          62,
          78,
          0,
          4,
          6,
          8,
          10,
          16,
          31,
          14,
          15,
          17,
          19,
          21,
          27,
          39,
          51,
          66,
          24,
          28,
          30,
          32,
          34,
          40,
          52,
          65,
          82,
          4,
          8,
          12,
          14,
          20,
          33,
          45,
          62,
          3,
          5,
          7,
          10,
          12,
          17,
          29,
          41,
          57,
          37,
          41,
          43,
          45,
          47,
          53,
          65,
          77,
          94,
          35,
          37,
          39,
          42,
          43,
          49,
          61,
          73,
          7,
          11,
          13,
          15,
          17,
          23,
          35,
          47,
          64,
          12,
          13,
          15,
          17,
          19,
          25,
          37,
          49,
          64,
          6,
          8,
          10,
          12,
          14,
          20,
          33,
          44,
          60,
          39,
          41,
          44,
          46,
          48,
          53,
          65,
          77,
          93,
          25,
          27,
          29,
          31,
          33,
          39,
          50,
          63,
          80,
          5,
          7,
          9,
          11,
          13,
          19,
          31,
          0,
          3,
          5,
          7,
          8,
          15,
          27,
          39,
          56,
          59,
          5,
          7,
          9,
          11,
          13,
          19,
          31,
          43,
          59,
          0,
          6,
          8,
          10,
          12,
          18,
          30,
          41,
          58,
          11,
          13,
          15,
          17,
          19,
          25,
          37,
          49,
          29,
          30,
          32,
          33,
          36,
          42,
          54,
          65,
          82,
          85,
          21,
          22,
          24,
          26,
          28,
          33,
          46,
          57,
          75,
          13,
          14,
          16,
          18,
          20,
          26,
          37,
          50,
          7,
          8,
          10,
          12,
          14,
          20,
          31,
          45,
          60,
          7,
          12,
          14,
          16,
          18,
          24,
          36,
          49,
          63,
          8,
          9,
          12,
          13,
          15,
          21,
          33,
          45,
          61,
          6,
          7,
          9,
          10,
          13,
          18,
          31,
          43,
          59,
          15,
          17,
          19,
          21,
          23,
          29,
          41,
          54,
          70,
          70,
          6,
          11,
          13,
          15,
          17,
          23,
          35,
          47,
          17,
          18,
          19,
          21,
          23,
          30,
          42,
          53,
          70,
          0,
          7,
          9,
          11,
          13,
          19,
          31,
          43,
          59
         ],
         "xaxis": "x",
         "y": [
          "ID00007637202177411956430",
          "ID00007637202177411956430",
          "ID00007637202177411956430",
          "ID00007637202177411956430",
          "ID00007637202177411956430",
          "ID00007637202177411956430",
          "ID00007637202177411956430",
          "ID00007637202177411956430",
          "ID00007637202177411956430",
          "ID00009637202177434476278",
          "ID00009637202177434476278",
          "ID00009637202177434476278",
          "ID00009637202177434476278",
          "ID00009637202177434476278",
          "ID00009637202177434476278",
          "ID00009637202177434476278",
          "ID00009637202177434476278",
          "ID00009637202177434476278",
          "ID00010637202177584971671",
          "ID00010637202177584971671",
          "ID00010637202177584971671",
          "ID00010637202177584971671",
          "ID00010637202177584971671",
          "ID00010637202177584971671",
          "ID00010637202177584971671",
          "ID00010637202177584971671",
          "ID00010637202177584971671",
          "ID00011637202177653955184",
          "ID00011637202177653955184",
          "ID00011637202177653955184",
          "ID00011637202177653955184",
          "ID00011637202177653955184",
          "ID00011637202177653955184",
          "ID00011637202177653955184",
          "ID00011637202177653955184",
          "ID00011637202177653955184",
          "ID00012637202177665765362",
          "ID00012637202177665765362",
          "ID00012637202177665765362",
          "ID00012637202177665765362",
          "ID00012637202177665765362",
          "ID00012637202177665765362",
          "ID00012637202177665765362",
          "ID00012637202177665765362",
          "ID00012637202177665765362",
          "ID00014637202177757139317",
          "ID00014637202177757139317",
          "ID00014637202177757139317",
          "ID00014637202177757139317",
          "ID00014637202177757139317",
          "ID00014637202177757139317",
          "ID00014637202177757139317",
          "ID00014637202177757139317",
          "ID00014637202177757139317",
          "ID00015637202177877247924",
          "ID00015637202177877247924",
          "ID00015637202177877247924",
          "ID00015637202177877247924",
          "ID00015637202177877247924",
          "ID00015637202177877247924",
          "ID00015637202177877247924",
          "ID00015637202177877247924",
          "ID00025637202179541264076",
          "ID00025637202179541264076",
          "ID00025637202179541264076",
          "ID00025637202179541264076",
          "ID00025637202179541264076",
          "ID00025637202179541264076",
          "ID00025637202179541264076",
          "ID00025637202179541264076",
          "ID00025637202179541264076",
          "ID00026637202179561894768",
          "ID00026637202179561894768",
          "ID00026637202179561894768",
          "ID00026637202179561894768",
          "ID00026637202179561894768",
          "ID00026637202179561894768",
          "ID00026637202179561894768",
          "ID00026637202179561894768",
          "ID00026637202179561894768",
          "ID00027637202179689871102",
          "ID00027637202179689871102",
          "ID00027637202179689871102",
          "ID00027637202179689871102",
          "ID00027637202179689871102",
          "ID00027637202179689871102",
          "ID00027637202179689871102",
          "ID00027637202179689871102",
          "ID00027637202179689871102",
          "ID00030637202181211009029",
          "ID00030637202181211009029",
          "ID00030637202181211009029",
          "ID00030637202181211009029",
          "ID00030637202181211009029",
          "ID00030637202181211009029",
          "ID00030637202181211009029",
          "ID00030637202181211009029",
          "ID00032637202181710233084",
          "ID00032637202181710233084",
          "ID00032637202181710233084",
          "ID00032637202181710233084",
          "ID00032637202181710233084",
          "ID00032637202181710233084",
          "ID00032637202181710233084",
          "ID00032637202181710233084",
          "ID00032637202181710233084",
          "ID00035637202182204917484",
          "ID00035637202182204917484",
          "ID00035637202182204917484",
          "ID00035637202182204917484",
          "ID00035637202182204917484",
          "ID00035637202182204917484",
          "ID00035637202182204917484",
          "ID00035637202182204917484",
          "ID00035637202182204917484",
          "ID00038637202182690843176",
          "ID00038637202182690843176",
          "ID00038637202182690843176",
          "ID00038637202182690843176",
          "ID00038637202182690843176",
          "ID00038637202182690843176",
          "ID00038637202182690843176",
          "ID00038637202182690843176",
          "ID00038637202182690843176",
          "ID00042637202184406822975",
          "ID00042637202184406822975",
          "ID00042637202184406822975",
          "ID00042637202184406822975",
          "ID00042637202184406822975",
          "ID00042637202184406822975",
          "ID00042637202184406822975",
          "ID00042637202184406822975",
          "ID00042637202184406822975",
          "ID00047637202184938901501",
          "ID00047637202184938901501",
          "ID00047637202184938901501",
          "ID00047637202184938901501",
          "ID00047637202184938901501",
          "ID00047637202184938901501",
          "ID00052637202186188008618",
          "ID00052637202186188008618",
          "ID00052637202186188008618",
          "ID00052637202186188008618",
          "ID00052637202186188008618",
          "ID00052637202186188008618",
          "ID00052637202186188008618",
          "ID00060637202187965290703",
          "ID00060637202187965290703",
          "ID00060637202187965290703",
          "ID00060637202187965290703",
          "ID00060637202187965290703",
          "ID00060637202187965290703",
          "ID00060637202187965290703",
          "ID00060637202187965290703",
          "ID00060637202187965290703",
          "ID00061637202188184085559",
          "ID00061637202188184085559",
          "ID00061637202188184085559",
          "ID00061637202188184085559",
          "ID00061637202188184085559",
          "ID00061637202188184085559",
          "ID00061637202188184085559",
          "ID00061637202188184085559",
          "ID00061637202188184085559",
          "ID00062637202188654068490",
          "ID00062637202188654068490",
          "ID00062637202188654068490",
          "ID00062637202188654068490",
          "ID00062637202188654068490",
          "ID00062637202188654068490",
          "ID00062637202188654068490",
          "ID00062637202188654068490",
          "ID00062637202188654068490",
          "ID00067637202189903532242",
          "ID00067637202189903532242",
          "ID00067637202189903532242",
          "ID00067637202189903532242",
          "ID00067637202189903532242",
          "ID00067637202189903532242",
          "ID00067637202189903532242",
          "ID00067637202189903532242",
          "ID00068637202190879923934",
          "ID00068637202190879923934",
          "ID00068637202190879923934",
          "ID00068637202190879923934",
          "ID00068637202190879923934",
          "ID00068637202190879923934",
          "ID00068637202190879923934",
          "ID00068637202190879923934",
          "ID00068637202190879923934",
          "ID00072637202198161894406",
          "ID00072637202198161894406",
          "ID00072637202198161894406",
          "ID00072637202198161894406",
          "ID00072637202198161894406",
          "ID00072637202198161894406",
          "ID00072637202198161894406",
          "ID00072637202198161894406",
          "ID00072637202198161894406",
          "ID00073637202198167792918",
          "ID00073637202198167792918",
          "ID00073637202198167792918",
          "ID00073637202198167792918",
          "ID00073637202198167792918",
          "ID00073637202198167792918",
          "ID00073637202198167792918",
          "ID00073637202198167792918",
          "ID00076637202199015035026",
          "ID00076637202199015035026",
          "ID00076637202199015035026",
          "ID00076637202199015035026",
          "ID00076637202199015035026",
          "ID00076637202199015035026",
          "ID00076637202199015035026",
          "ID00076637202199015035026",
          "ID00076637202199015035026",
          "ID00077637202199102000916",
          "ID00077637202199102000916",
          "ID00077637202199102000916",
          "ID00077637202199102000916",
          "ID00077637202199102000916",
          "ID00077637202199102000916",
          "ID00077637202199102000916",
          "ID00077637202199102000916",
          "ID00077637202199102000916",
          "ID00089637202204675567570",
          "ID00089637202204675567570",
          "ID00089637202204675567570",
          "ID00089637202204675567570",
          "ID00089637202204675567570",
          "ID00089637202204675567570",
          "ID00089637202204675567570",
          "ID00089637202204675567570",
          "ID00089637202204675567570",
          "ID00090637202204766623410",
          "ID00090637202204766623410",
          "ID00090637202204766623410",
          "ID00090637202204766623410",
          "ID00090637202204766623410",
          "ID00090637202204766623410",
          "ID00090637202204766623410",
          "ID00090637202204766623410",
          "ID00093637202205278167493",
          "ID00093637202205278167493",
          "ID00093637202205278167493",
          "ID00093637202205278167493",
          "ID00093637202205278167493",
          "ID00093637202205278167493",
          "ID00093637202205278167493",
          "ID00093637202205278167493",
          "ID00093637202205278167493",
          "ID00094637202205333947361",
          "ID00094637202205333947361",
          "ID00094637202205333947361",
          "ID00094637202205333947361",
          "ID00094637202205333947361",
          "ID00094637202205333947361",
          "ID00094637202205333947361",
          "ID00094637202205333947361",
          "ID00094637202205333947361",
          "ID00099637202206203080121",
          "ID00099637202206203080121",
          "ID00099637202206203080121",
          "ID00099637202206203080121",
          "ID00099637202206203080121",
          "ID00099637202206203080121",
          "ID00099637202206203080121",
          "ID00099637202206203080121",
          "ID00099637202206203080121",
          "ID00099637202206203080121",
          "ID00102637202206574119190",
          "ID00102637202206574119190",
          "ID00102637202206574119190",
          "ID00102637202206574119190",
          "ID00102637202206574119190",
          "ID00102637202206574119190",
          "ID00102637202206574119190",
          "ID00102637202206574119190",
          "ID00102637202206574119190",
          "ID00104637202208063407045",
          "ID00104637202208063407045",
          "ID00104637202208063407045",
          "ID00104637202208063407045",
          "ID00104637202208063407045",
          "ID00104637202208063407045",
          "ID00104637202208063407045",
          "ID00104637202208063407045",
          "ID00105637202208831864134",
          "ID00105637202208831864134",
          "ID00105637202208831864134",
          "ID00105637202208831864134",
          "ID00105637202208831864134",
          "ID00105637202208831864134",
          "ID00105637202208831864134",
          "ID00105637202208831864134",
          "ID00105637202208831864134",
          "ID00105637202208831864134",
          "ID00108637202209619669361",
          "ID00108637202209619669361",
          "ID00108637202209619669361",
          "ID00108637202209619669361",
          "ID00108637202209619669361",
          "ID00108637202209619669361",
          "ID00108637202209619669361",
          "ID00108637202209619669361",
          "ID00108637202209619669361",
          "ID00109637202210454292264",
          "ID00109637202210454292264",
          "ID00109637202210454292264",
          "ID00109637202210454292264",
          "ID00109637202210454292264",
          "ID00109637202210454292264",
          "ID00109637202210454292264",
          "ID00109637202210454292264",
          "ID00109637202210454292264",
          "ID00110637202210673668310",
          "ID00110637202210673668310",
          "ID00110637202210673668310",
          "ID00110637202210673668310",
          "ID00110637202210673668310",
          "ID00110637202210673668310",
          "ID00110637202210673668310",
          "ID00110637202210673668310",
          "ID00111637202210956877205",
          "ID00111637202210956877205",
          "ID00111637202210956877205",
          "ID00111637202210956877205",
          "ID00111637202210956877205",
          "ID00111637202210956877205",
          "ID00111637202210956877205",
          "ID00115637202211874187958",
          "ID00115637202211874187958",
          "ID00115637202211874187958",
          "ID00115637202211874187958",
          "ID00115637202211874187958",
          "ID00115637202211874187958",
          "ID00115637202211874187958",
          "ID00115637202211874187958",
          "ID00117637202212360228007",
          "ID00117637202212360228007",
          "ID00117637202212360228007",
          "ID00117637202212360228007",
          "ID00117637202212360228007",
          "ID00117637202212360228007",
          "ID00117637202212360228007",
          "ID00117637202212360228007",
          "ID00117637202212360228007",
          "ID00119637202215426335765",
          "ID00119637202215426335765",
          "ID00119637202215426335765",
          "ID00119637202215426335765",
          "ID00119637202215426335765",
          "ID00119637202215426335765",
          "ID00119637202215426335765",
          "ID00119637202215426335765",
          "ID00119637202215426335765",
          "ID00119637202215426335765",
          "ID00122637202216437668965",
          "ID00122637202216437668965",
          "ID00122637202216437668965",
          "ID00122637202216437668965",
          "ID00122637202216437668965",
          "ID00122637202216437668965",
          "ID00122637202216437668965",
          "ID00122637202216437668965",
          "ID00122637202216437668965",
          "ID00124637202217596410344",
          "ID00124637202217596410344",
          "ID00124637202217596410344",
          "ID00124637202217596410344",
          "ID00124637202217596410344",
          "ID00124637202217596410344",
          "ID00124637202217596410344",
          "ID00124637202217596410344",
          "ID00124637202217596410344",
          "ID00125637202218590429387",
          "ID00125637202218590429387",
          "ID00125637202218590429387",
          "ID00125637202218590429387",
          "ID00125637202218590429387",
          "ID00125637202218590429387",
          "ID00125637202218590429387",
          "ID00125637202218590429387",
          "ID00126637202218610655908",
          "ID00126637202218610655908",
          "ID00126637202218610655908",
          "ID00126637202218610655908",
          "ID00126637202218610655908",
          "ID00126637202218610655908",
          "ID00126637202218610655908",
          "ID00126637202218610655908",
          "ID00126637202218610655908",
          "ID00129637202219868188000",
          "ID00129637202219868188000",
          "ID00129637202219868188000",
          "ID00129637202219868188000",
          "ID00129637202219868188000",
          "ID00129637202219868188000",
          "ID00129637202219868188000",
          "ID00129637202219868188000",
          "ID00129637202219868188000",
          "ID00131637202220424084844",
          "ID00131637202220424084844",
          "ID00131637202220424084844",
          "ID00131637202220424084844",
          "ID00131637202220424084844",
          "ID00131637202220424084844",
          "ID00131637202220424084844",
          "ID00131637202220424084844",
          "ID00131637202220424084844",
          "ID00132637202222178761324",
          "ID00132637202222178761324",
          "ID00132637202222178761324",
          "ID00132637202222178761324",
          "ID00132637202222178761324",
          "ID00132637202222178761324",
          "ID00132637202222178761324",
          "ID00132637202222178761324",
          "ID00132637202222178761324",
          "ID00133637202223847701934",
          "ID00133637202223847701934",
          "ID00133637202223847701934",
          "ID00133637202223847701934",
          "ID00133637202223847701934",
          "ID00133637202223847701934",
          "ID00133637202223847701934",
          "ID00133637202223847701934",
          "ID00133637202223847701934",
          "ID00134637202223873059688",
          "ID00134637202223873059688",
          "ID00134637202223873059688",
          "ID00134637202223873059688",
          "ID00134637202223873059688",
          "ID00134637202223873059688",
          "ID00134637202223873059688",
          "ID00134637202223873059688",
          "ID00134637202223873059688",
          "ID00135637202224630271439",
          "ID00135637202224630271439",
          "ID00135637202224630271439",
          "ID00135637202224630271439",
          "ID00135637202224630271439",
          "ID00135637202224630271439",
          "ID00135637202224630271439",
          "ID00135637202224630271439",
          "ID00135637202224630271439",
          "ID00136637202224951350618",
          "ID00136637202224951350618",
          "ID00136637202224951350618",
          "ID00136637202224951350618",
          "ID00136637202224951350618",
          "ID00136637202224951350618",
          "ID00136637202224951350618",
          "ID00136637202224951350618",
          "ID00136637202224951350618",
          "ID00138637202231603868088",
          "ID00138637202231603868088",
          "ID00138637202231603868088",
          "ID00138637202231603868088",
          "ID00138637202231603868088",
          "ID00138637202231603868088",
          "ID00138637202231603868088",
          "ID00138637202231603868088",
          "ID00138637202231603868088",
          "ID00139637202231703564336",
          "ID00139637202231703564336",
          "ID00139637202231703564336",
          "ID00139637202231703564336",
          "ID00139637202231703564336",
          "ID00139637202231703564336",
          "ID00139637202231703564336",
          "ID00139637202231703564336",
          "ID00139637202231703564336",
          "ID00140637202231728595149",
          "ID00140637202231728595149",
          "ID00140637202231728595149",
          "ID00140637202231728595149",
          "ID00140637202231728595149",
          "ID00140637202231728595149",
          "ID00140637202231728595149",
          "ID00140637202231728595149",
          "ID00140637202231728595149",
          "ID00140637202231728595149",
          "ID00161637202235731948764",
          "ID00161637202235731948764",
          "ID00161637202235731948764",
          "ID00161637202235731948764",
          "ID00161637202235731948764",
          "ID00161637202235731948764",
          "ID00161637202235731948764",
          "ID00161637202235731948764",
          "ID00161637202235731948764",
          "ID00165637202237320314458",
          "ID00165637202237320314458",
          "ID00165637202237320314458",
          "ID00165637202237320314458",
          "ID00165637202237320314458",
          "ID00165637202237320314458",
          "ID00165637202237320314458",
          "ID00165637202237320314458",
          "ID00165637202237320314458",
          "ID00167637202237397919352",
          "ID00167637202237397919352",
          "ID00167637202237397919352",
          "ID00167637202237397919352",
          "ID00167637202237397919352",
          "ID00167637202237397919352",
          "ID00167637202237397919352",
          "ID00167637202237397919352",
          "ID00167637202237397919352",
          "ID00167637202237397919352",
          "ID00168637202237852027833",
          "ID00168637202237852027833",
          "ID00168637202237852027833",
          "ID00168637202237852027833",
          "ID00168637202237852027833",
          "ID00168637202237852027833",
          "ID00168637202237852027833",
          "ID00168637202237852027833",
          "ID00168637202237852027833",
          "ID00172637202238316925179",
          "ID00172637202238316925179",
          "ID00172637202238316925179",
          "ID00172637202238316925179",
          "ID00172637202238316925179",
          "ID00172637202238316925179",
          "ID00172637202238316925179",
          "ID00172637202238316925179",
          "ID00172637202238316925179",
          "ID00173637202238329754031",
          "ID00173637202238329754031",
          "ID00173637202238329754031",
          "ID00173637202238329754031",
          "ID00173637202238329754031",
          "ID00173637202238329754031",
          "ID00173637202238329754031",
          "ID00173637202238329754031",
          "ID00173637202238329754031",
          "ID00180637202240177410333",
          "ID00180637202240177410333",
          "ID00180637202240177410333",
          "ID00180637202240177410333",
          "ID00180637202240177410333",
          "ID00180637202240177410333",
          "ID00180637202240177410333",
          "ID00180637202240177410333",
          "ID00180637202240177410333",
          "ID00183637202241995351650",
          "ID00183637202241995351650",
          "ID00183637202241995351650",
          "ID00183637202241995351650",
          "ID00183637202241995351650",
          "ID00183637202241995351650",
          "ID00183637202241995351650",
          "ID00183637202241995351650",
          "ID00183637202241995351650",
          "ID00184637202242062969203",
          "ID00184637202242062969203",
          "ID00184637202242062969203",
          "ID00184637202242062969203",
          "ID00184637202242062969203",
          "ID00184637202242062969203",
          "ID00184637202242062969203",
          "ID00184637202242062969203",
          "ID00184637202242062969203",
          "ID00186637202242472088675",
          "ID00186637202242472088675",
          "ID00186637202242472088675",
          "ID00186637202242472088675",
          "ID00186637202242472088675",
          "ID00186637202242472088675",
          "ID00186637202242472088675",
          "ID00190637202244450116191",
          "ID00190637202244450116191",
          "ID00190637202244450116191",
          "ID00190637202244450116191",
          "ID00190637202244450116191",
          "ID00190637202244450116191",
          "ID00190637202244450116191",
          "ID00190637202244450116191",
          "ID00190637202244450116191",
          "ID00196637202246668775836",
          "ID00196637202246668775836",
          "ID00196637202246668775836",
          "ID00196637202246668775836",
          "ID00196637202246668775836",
          "ID00196637202246668775836",
          "ID00196637202246668775836",
          "ID00196637202246668775836",
          "ID00196637202246668775836",
          "ID00197637202246865691526",
          "ID00197637202246865691526",
          "ID00197637202246865691526",
          "ID00197637202246865691526",
          "ID00197637202246865691526",
          "ID00197637202246865691526",
          "ID00197637202246865691526",
          "ID00197637202246865691526",
          "ID00197637202246865691526",
          "ID00199637202248141386743",
          "ID00199637202248141386743",
          "ID00199637202248141386743",
          "ID00199637202248141386743",
          "ID00199637202248141386743",
          "ID00199637202248141386743",
          "ID00199637202248141386743",
          "ID00199637202248141386743",
          "ID00199637202248141386743",
          "ID00202637202249376026949",
          "ID00202637202249376026949",
          "ID00202637202249376026949",
          "ID00202637202249376026949",
          "ID00202637202249376026949",
          "ID00202637202249376026949",
          "ID00202637202249376026949",
          "ID00202637202249376026949",
          "ID00202637202249376026949",
          "ID00207637202252526380974",
          "ID00207637202252526380974",
          "ID00207637202252526380974",
          "ID00207637202252526380974",
          "ID00207637202252526380974",
          "ID00207637202252526380974",
          "ID00207637202252526380974",
          "ID00207637202252526380974",
          "ID00207637202252526380974",
          "ID00210637202257228694086",
          "ID00210637202257228694086",
          "ID00210637202257228694086",
          "ID00210637202257228694086",
          "ID00210637202257228694086",
          "ID00210637202257228694086",
          "ID00210637202257228694086",
          "ID00210637202257228694086",
          "ID00210637202257228694086",
          "ID00213637202257692916109",
          "ID00213637202257692916109",
          "ID00213637202257692916109",
          "ID00213637202257692916109",
          "ID00213637202257692916109",
          "ID00213637202257692916109",
          "ID00213637202257692916109",
          "ID00213637202257692916109",
          "ID00213637202257692916109",
          "ID00214637202257820847190",
          "ID00214637202257820847190",
          "ID00214637202257820847190",
          "ID00214637202257820847190",
          "ID00214637202257820847190",
          "ID00214637202257820847190",
          "ID00214637202257820847190",
          "ID00214637202257820847190",
          "ID00214637202257820847190",
          "ID00216637202257988213445",
          "ID00216637202257988213445",
          "ID00216637202257988213445",
          "ID00216637202257988213445",
          "ID00216637202257988213445",
          "ID00216637202257988213445",
          "ID00216637202257988213445",
          "ID00216637202257988213445",
          "ID00216637202257988213445",
          "ID00218637202258156844710",
          "ID00218637202258156844710",
          "ID00218637202258156844710",
          "ID00218637202258156844710",
          "ID00218637202258156844710",
          "ID00218637202258156844710",
          "ID00218637202258156844710",
          "ID00218637202258156844710",
          "ID00218637202258156844710",
          "ID00219637202258203123958",
          "ID00219637202258203123958",
          "ID00219637202258203123958",
          "ID00219637202258203123958",
          "ID00219637202258203123958",
          "ID00219637202258203123958",
          "ID00219637202258203123958",
          "ID00219637202258203123958",
          "ID00219637202258203123958",
          "ID00222637202259066229764",
          "ID00222637202259066229764",
          "ID00222637202259066229764",
          "ID00222637202259066229764",
          "ID00222637202259066229764",
          "ID00222637202259066229764",
          "ID00222637202259066229764",
          "ID00222637202259066229764",
          "ID00222637202259066229764",
          "ID00224637202259281193413",
          "ID00224637202259281193413",
          "ID00224637202259281193413",
          "ID00224637202259281193413",
          "ID00224637202259281193413",
          "ID00224637202259281193413",
          "ID00224637202259281193413",
          "ID00224637202259281193413",
          "ID00224637202259281193413",
          "ID00229637202260254240583",
          "ID00229637202260254240583",
          "ID00229637202260254240583",
          "ID00229637202260254240583",
          "ID00229637202260254240583",
          "ID00229637202260254240583",
          "ID00229637202260254240583",
          "ID00229637202260254240583",
          "ID00229637202260254240583",
          "ID00229637202260254240583",
          "ID00233637202260580149633",
          "ID00233637202260580149633",
          "ID00233637202260580149633",
          "ID00233637202260580149633",
          "ID00233637202260580149633",
          "ID00233637202260580149633",
          "ID00233637202260580149633",
          "ID00233637202260580149633",
          "ID00233637202260580149633",
          "ID00234637202261078001846",
          "ID00234637202261078001846",
          "ID00234637202261078001846",
          "ID00234637202261078001846",
          "ID00234637202261078001846",
          "ID00234637202261078001846",
          "ID00234637202261078001846",
          "ID00234637202261078001846",
          "ID00235637202261451839085",
          "ID00235637202261451839085",
          "ID00235637202261451839085",
          "ID00235637202261451839085",
          "ID00235637202261451839085",
          "ID00235637202261451839085",
          "ID00235637202261451839085",
          "ID00235637202261451839085",
          "ID00235637202261451839085",
          "ID00240637202264138860065",
          "ID00240637202264138860065",
          "ID00240637202264138860065",
          "ID00240637202264138860065",
          "ID00240637202264138860065",
          "ID00240637202264138860065",
          "ID00240637202264138860065",
          "ID00240637202264138860065",
          "ID00240637202264138860065",
          "ID00242637202264759739921",
          "ID00242637202264759739921",
          "ID00242637202264759739921",
          "ID00242637202264759739921",
          "ID00242637202264759739921",
          "ID00242637202264759739921",
          "ID00242637202264759739921",
          "ID00242637202264759739921",
          "ID00242637202264759739921",
          "ID00249637202266730854017",
          "ID00249637202266730854017",
          "ID00249637202266730854017",
          "ID00249637202266730854017",
          "ID00249637202266730854017",
          "ID00249637202266730854017",
          "ID00249637202266730854017",
          "ID00249637202266730854017",
          "ID00251637202267455595113",
          "ID00251637202267455595113",
          "ID00251637202267455595113",
          "ID00251637202267455595113",
          "ID00251637202267455595113",
          "ID00251637202267455595113",
          "ID00251637202267455595113",
          "ID00251637202267455595113",
          "ID00251637202267455595113",
          "ID00273637202271319294586",
          "ID00273637202271319294586",
          "ID00273637202271319294586",
          "ID00273637202271319294586",
          "ID00273637202271319294586",
          "ID00273637202271319294586",
          "ID00273637202271319294586",
          "ID00273637202271319294586",
          "ID00273637202271319294586",
          "ID00276637202271694539978",
          "ID00276637202271694539978",
          "ID00276637202271694539978",
          "ID00276637202271694539978",
          "ID00276637202271694539978",
          "ID00276637202271694539978",
          "ID00276637202271694539978",
          "ID00279637202272164826258",
          "ID00279637202272164826258",
          "ID00279637202272164826258",
          "ID00279637202272164826258",
          "ID00279637202272164826258",
          "ID00279637202272164826258",
          "ID00279637202272164826258",
          "ID00279637202272164826258",
          "ID00279637202272164826258",
          "ID00283637202278714365037",
          "ID00283637202278714365037",
          "ID00283637202278714365037",
          "ID00283637202278714365037",
          "ID00283637202278714365037",
          "ID00283637202278714365037",
          "ID00283637202278714365037",
          "ID00283637202278714365037",
          "ID00283637202278714365037",
          "ID00290637202279304677843",
          "ID00290637202279304677843",
          "ID00290637202279304677843",
          "ID00290637202279304677843",
          "ID00290637202279304677843",
          "ID00290637202279304677843",
          "ID00290637202279304677843",
          "ID00290637202279304677843",
          "ID00291637202279398396106",
          "ID00291637202279398396106",
          "ID00291637202279398396106",
          "ID00291637202279398396106",
          "ID00291637202279398396106",
          "ID00291637202279398396106",
          "ID00291637202279398396106",
          "ID00291637202279398396106",
          "ID00291637202279398396106",
          "ID00294637202279614924243",
          "ID00294637202279614924243",
          "ID00294637202279614924243",
          "ID00294637202279614924243",
          "ID00294637202279614924243",
          "ID00294637202279614924243",
          "ID00294637202279614924243",
          "ID00294637202279614924243",
          "ID00294637202279614924243",
          "ID00296637202279895784347",
          "ID00296637202279895784347",
          "ID00296637202279895784347",
          "ID00296637202279895784347",
          "ID00296637202279895784347",
          "ID00296637202279895784347",
          "ID00296637202279895784347",
          "ID00296637202279895784347",
          "ID00299637202280383305867",
          "ID00299637202280383305867",
          "ID00299637202280383305867",
          "ID00299637202280383305867",
          "ID00299637202280383305867",
          "ID00299637202280383305867",
          "ID00299637202280383305867",
          "ID00299637202280383305867",
          "ID00299637202280383305867",
          "ID00305637202281772703145",
          "ID00305637202281772703145",
          "ID00305637202281772703145",
          "ID00305637202281772703145",
          "ID00305637202281772703145",
          "ID00305637202281772703145",
          "ID00305637202281772703145",
          "ID00305637202281772703145",
          "ID00305637202281772703145",
          "ID00307637202282126172865",
          "ID00307637202282126172865",
          "ID00307637202282126172865",
          "ID00307637202282126172865",
          "ID00307637202282126172865",
          "ID00307637202282126172865",
          "ID00307637202282126172865",
          "ID00307637202282126172865",
          "ID00307637202282126172865",
          "ID00309637202282195513787",
          "ID00309637202282195513787",
          "ID00309637202282195513787",
          "ID00309637202282195513787",
          "ID00309637202282195513787",
          "ID00309637202282195513787",
          "ID00309637202282195513787",
          "ID00309637202282195513787",
          "ID00309637202282195513787",
          "ID00317637202283194142136",
          "ID00317637202283194142136",
          "ID00317637202283194142136",
          "ID00317637202283194142136",
          "ID00317637202283194142136",
          "ID00317637202283194142136",
          "ID00317637202283194142136",
          "ID00317637202283194142136",
          "ID00319637202283897208687",
          "ID00319637202283897208687",
          "ID00319637202283897208687",
          "ID00319637202283897208687",
          "ID00319637202283897208687",
          "ID00319637202283897208687",
          "ID00319637202283897208687",
          "ID00319637202283897208687",
          "ID00319637202283897208687",
          "ID00322637202284842245491",
          "ID00322637202284842245491",
          "ID00322637202284842245491",
          "ID00322637202284842245491",
          "ID00322637202284842245491",
          "ID00322637202284842245491",
          "ID00322637202284842245491",
          "ID00322637202284842245491",
          "ID00322637202284842245491",
          "ID00323637202285211956970",
          "ID00323637202285211956970",
          "ID00323637202285211956970",
          "ID00323637202285211956970",
          "ID00323637202285211956970",
          "ID00323637202285211956970",
          "ID00323637202285211956970",
          "ID00323637202285211956970",
          "ID00329637202285906759848",
          "ID00329637202285906759848",
          "ID00329637202285906759848",
          "ID00329637202285906759848",
          "ID00329637202285906759848",
          "ID00329637202285906759848",
          "ID00329637202285906759848",
          "ID00329637202285906759848",
          "ID00329637202285906759848",
          "ID00331637202286306023714",
          "ID00331637202286306023714",
          "ID00331637202286306023714",
          "ID00331637202286306023714",
          "ID00331637202286306023714",
          "ID00331637202286306023714",
          "ID00331637202286306023714",
          "ID00331637202286306023714",
          "ID00331637202286306023714",
          "ID00335637202286784464927",
          "ID00335637202286784464927",
          "ID00335637202286784464927",
          "ID00335637202286784464927",
          "ID00335637202286784464927",
          "ID00335637202286784464927",
          "ID00335637202286784464927",
          "ID00335637202286784464927",
          "ID00335637202286784464927",
          "ID00336637202286801879145",
          "ID00336637202286801879145",
          "ID00336637202286801879145",
          "ID00336637202286801879145",
          "ID00336637202286801879145",
          "ID00336637202286801879145",
          "ID00336637202286801879145",
          "ID00336637202286801879145",
          "ID00337637202286839091062",
          "ID00337637202286839091062",
          "ID00337637202286839091062",
          "ID00337637202286839091062",
          "ID00337637202286839091062",
          "ID00337637202286839091062",
          "ID00337637202286839091062",
          "ID00337637202286839091062",
          "ID00337637202286839091062",
          "ID00339637202287377736231",
          "ID00339637202287377736231",
          "ID00339637202287377736231",
          "ID00339637202287377736231",
          "ID00339637202287377736231",
          "ID00339637202287377736231",
          "ID00339637202287377736231",
          "ID00339637202287377736231",
          "ID00339637202287377736231",
          "ID00340637202287399835821",
          "ID00340637202287399835821",
          "ID00340637202287399835821",
          "ID00340637202287399835821",
          "ID00340637202287399835821",
          "ID00340637202287399835821",
          "ID00340637202287399835821",
          "ID00340637202287399835821",
          "ID00340637202287399835821",
          "ID00342637202287526592911",
          "ID00342637202287526592911",
          "ID00342637202287526592911",
          "ID00342637202287526592911",
          "ID00342637202287526592911",
          "ID00342637202287526592911",
          "ID00342637202287526592911",
          "ID00342637202287526592911",
          "ID00342637202287526592911",
          "ID00344637202287684217717",
          "ID00344637202287684217717",
          "ID00344637202287684217717",
          "ID00344637202287684217717",
          "ID00344637202287684217717",
          "ID00344637202287684217717",
          "ID00344637202287684217717",
          "ID00351637202289476567312",
          "ID00351637202289476567312",
          "ID00351637202289476567312",
          "ID00351637202289476567312",
          "ID00351637202289476567312",
          "ID00351637202289476567312",
          "ID00351637202289476567312",
          "ID00351637202289476567312",
          "ID00351637202289476567312",
          "ID00355637202295106567614",
          "ID00355637202295106567614",
          "ID00355637202295106567614",
          "ID00355637202295106567614",
          "ID00355637202295106567614",
          "ID00355637202295106567614",
          "ID00355637202295106567614",
          "ID00355637202295106567614",
          "ID00355637202295106567614",
          "ID00358637202295388077032",
          "ID00358637202295388077032",
          "ID00358637202295388077032",
          "ID00358637202295388077032",
          "ID00358637202295388077032",
          "ID00358637202295388077032",
          "ID00358637202295388077032",
          "ID00358637202295388077032",
          "ID00360637202295712204040",
          "ID00360637202295712204040",
          "ID00360637202295712204040",
          "ID00360637202295712204040",
          "ID00360637202295712204040",
          "ID00360637202295712204040",
          "ID00360637202295712204040",
          "ID00360637202295712204040",
          "ID00360637202295712204040",
          "ID00364637202296074419422",
          "ID00364637202296074419422",
          "ID00364637202296074419422",
          "ID00364637202296074419422",
          "ID00364637202296074419422",
          "ID00364637202296074419422",
          "ID00364637202296074419422",
          "ID00364637202296074419422",
          "ID00364637202296074419422",
          "ID00365637202296085035729",
          "ID00365637202296085035729",
          "ID00365637202296085035729",
          "ID00365637202296085035729",
          "ID00365637202296085035729",
          "ID00365637202296085035729",
          "ID00365637202296085035729",
          "ID00365637202296085035729",
          "ID00368637202296470751086",
          "ID00368637202296470751086",
          "ID00368637202296470751086",
          "ID00368637202296470751086",
          "ID00368637202296470751086",
          "ID00368637202296470751086",
          "ID00368637202296470751086",
          "ID00368637202296470751086",
          "ID00368637202296470751086",
          "ID00370637202296737666151",
          "ID00370637202296737666151",
          "ID00370637202296737666151",
          "ID00370637202296737666151",
          "ID00370637202296737666151",
          "ID00370637202296737666151",
          "ID00370637202296737666151",
          "ID00370637202296737666151",
          "ID00370637202296737666151",
          "ID00371637202296828615743",
          "ID00371637202296828615743",
          "ID00371637202296828615743",
          "ID00371637202296828615743",
          "ID00371637202296828615743",
          "ID00371637202296828615743",
          "ID00371637202296828615743",
          "ID00371637202296828615743",
          "ID00371637202296828615743",
          "ID00376637202297677828573",
          "ID00376637202297677828573",
          "ID00376637202297677828573",
          "ID00376637202297677828573",
          "ID00376637202297677828573",
          "ID00376637202297677828573",
          "ID00376637202297677828573",
          "ID00376637202297677828573",
          "ID00376637202297677828573",
          "ID00378637202298597306391",
          "ID00378637202298597306391",
          "ID00378637202298597306391",
          "ID00378637202298597306391",
          "ID00378637202298597306391",
          "ID00378637202298597306391",
          "ID00378637202298597306391",
          "ID00378637202298597306391",
          "ID00378637202298597306391",
          "ID00381637202299644114027",
          "ID00381637202299644114027",
          "ID00381637202299644114027",
          "ID00381637202299644114027",
          "ID00381637202299644114027",
          "ID00381637202299644114027",
          "ID00381637202299644114027",
          "ID00388637202301028491611",
          "ID00388637202301028491611",
          "ID00388637202301028491611",
          "ID00388637202301028491611",
          "ID00388637202301028491611",
          "ID00388637202301028491611",
          "ID00388637202301028491611",
          "ID00388637202301028491611",
          "ID00388637202301028491611",
          "ID00388637202301028491611",
          "ID00392637202302319160044",
          "ID00392637202302319160044",
          "ID00392637202302319160044",
          "ID00392637202302319160044",
          "ID00392637202302319160044",
          "ID00392637202302319160044",
          "ID00392637202302319160044",
          "ID00392637202302319160044",
          "ID00392637202302319160044",
          "ID00393637202302431697467",
          "ID00393637202302431697467",
          "ID00393637202302431697467",
          "ID00393637202302431697467",
          "ID00393637202302431697467",
          "ID00393637202302431697467",
          "ID00393637202302431697467",
          "ID00393637202302431697467",
          "ID00393637202302431697467",
          "ID00398637202303897337979",
          "ID00398637202303897337979",
          "ID00398637202303897337979",
          "ID00398637202303897337979",
          "ID00398637202303897337979",
          "ID00398637202303897337979",
          "ID00398637202303897337979",
          "ID00398637202303897337979",
          "ID00400637202305055099402",
          "ID00400637202305055099402",
          "ID00400637202305055099402",
          "ID00400637202305055099402",
          "ID00400637202305055099402",
          "ID00400637202305055099402",
          "ID00400637202305055099402",
          "ID00400637202305055099402",
          "ID00400637202305055099402",
          "ID00400637202305055099402",
          "ID00407637202308788732304",
          "ID00407637202308788732304",
          "ID00407637202308788732304",
          "ID00407637202308788732304",
          "ID00407637202308788732304",
          "ID00407637202308788732304",
          "ID00407637202308788732304",
          "ID00407637202308788732304",
          "ID00407637202308788732304",
          "ID00408637202308839708961",
          "ID00408637202308839708961",
          "ID00408637202308839708961",
          "ID00408637202308839708961",
          "ID00408637202308839708961",
          "ID00408637202308839708961",
          "ID00408637202308839708961",
          "ID00408637202308839708961",
          "ID00411637202309374271828",
          "ID00411637202309374271828",
          "ID00411637202309374271828",
          "ID00411637202309374271828",
          "ID00411637202309374271828",
          "ID00411637202309374271828",
          "ID00411637202309374271828",
          "ID00411637202309374271828",
          "ID00411637202309374271828",
          "ID00414637202310318891556",
          "ID00414637202310318891556",
          "ID00414637202310318891556",
          "ID00414637202310318891556",
          "ID00414637202310318891556",
          "ID00414637202310318891556",
          "ID00414637202310318891556",
          "ID00414637202310318891556",
          "ID00414637202310318891556",
          "ID00417637202310901214011",
          "ID00417637202310901214011",
          "ID00417637202310901214011",
          "ID00417637202310901214011",
          "ID00417637202310901214011",
          "ID00417637202310901214011",
          "ID00417637202310901214011",
          "ID00417637202310901214011",
          "ID00417637202310901214011",
          "ID00419637202311204720264",
          "ID00419637202311204720264",
          "ID00419637202311204720264",
          "ID00419637202311204720264",
          "ID00419637202311204720264",
          "ID00419637202311204720264",
          "ID00419637202311204720264",
          "ID00419637202311204720264",
          "ID00419637202311204720264",
          "ID00421637202311550012437",
          "ID00421637202311550012437",
          "ID00421637202311550012437",
          "ID00421637202311550012437",
          "ID00421637202311550012437",
          "ID00421637202311550012437",
          "ID00421637202311550012437",
          "ID00421637202311550012437",
          "ID00421637202311550012437",
          "ID00421637202311550012437",
          "ID00422637202311677017371",
          "ID00422637202311677017371",
          "ID00422637202311677017371",
          "ID00422637202311677017371",
          "ID00422637202311677017371",
          "ID00422637202311677017371",
          "ID00422637202311677017371",
          "ID00422637202311677017371",
          "ID00423637202312137826377",
          "ID00423637202312137826377",
          "ID00423637202312137826377",
          "ID00423637202312137826377",
          "ID00423637202312137826377",
          "ID00423637202312137826377",
          "ID00423637202312137826377",
          "ID00423637202312137826377",
          "ID00423637202312137826377",
          "ID00426637202313170790466",
          "ID00426637202313170790466",
          "ID00426637202313170790466",
          "ID00426637202313170790466",
          "ID00426637202313170790466",
          "ID00426637202313170790466",
          "ID00426637202313170790466",
          "ID00426637202313170790466",
          "ID00426637202313170790466"
         ],
         "yaxis": "y"
        }
       ],
       "layout": {
        "coloraxis": {
         "colorbar": {
          "title": {
           "text": "FVC"
          }
         },
         "colorscale": [
          [
           0,
           "#0d0887"
          ],
          [
           0.1111111111111111,
           "#46039f"
          ],
          [
           0.2222222222222222,
           "#7201a8"
          ],
          [
           0.3333333333333333,
           "#9c179e"
          ],
          [
           0.4444444444444444,
           "#bd3786"
          ],
          [
           0.5555555555555556,
           "#d8576b"
          ],
          [
           0.6666666666666666,
           "#ed7953"
          ],
          [
           0.7777777777777778,
           "#fb9f3a"
          ],
          [
           0.8888888888888888,
           "#fdca26"
          ],
          [
           1,
           "#f0f921"
          ]
         ]
        },
        "legend": {
         "tracegroupgap": 0
        },
        "margin": {
         "t": 60
        },
        "template": {
         "data": {
          "bar": [
           {
            "error_x": {
             "color": "#2a3f5f"
            },
            "error_y": {
             "color": "#2a3f5f"
            },
            "marker": {
             "line": {
              "color": "#E5ECF6",
              "width": 0.5
             }
            },
            "type": "bar"
           }
          ],
          "barpolar": [
           {
            "marker": {
             "line": {
              "color": "#E5ECF6",
              "width": 0.5
             }
            },
            "type": "barpolar"
           }
          ],
          "carpet": [
           {
            "aaxis": {
             "endlinecolor": "#2a3f5f",
             "gridcolor": "white",
             "linecolor": "white",
             "minorgridcolor": "white",
             "startlinecolor": "#2a3f5f"
            },
            "baxis": {
             "endlinecolor": "#2a3f5f",
             "gridcolor": "white",
             "linecolor": "white",
             "minorgridcolor": "white",
             "startlinecolor": "#2a3f5f"
            },
            "type": "carpet"
           }
          ],
          "choropleth": [
           {
            "colorbar": {
             "outlinewidth": 0,
             "ticks": ""
            },
            "type": "choropleth"
           }
          ],
          "contour": [
           {
            "colorbar": {
             "outlinewidth": 0,
             "ticks": ""
            },
            "colorscale": [
             [
              0,
              "#0d0887"
             ],
             [
              0.1111111111111111,
              "#46039f"
             ],
             [
              0.2222222222222222,
              "#7201a8"
             ],
             [
              0.3333333333333333,
              "#9c179e"
             ],
             [
              0.4444444444444444,
              "#bd3786"
             ],
             [
              0.5555555555555556,
              "#d8576b"
             ],
             [
              0.6666666666666666,
              "#ed7953"
             ],
             [
              0.7777777777777778,
              "#fb9f3a"
             ],
             [
              0.8888888888888888,
              "#fdca26"
             ],
             [
              1,
              "#f0f921"
             ]
            ],
            "type": "contour"
           }
          ],
          "contourcarpet": [
           {
            "colorbar": {
             "outlinewidth": 0,
             "ticks": ""
            },
            "type": "contourcarpet"
           }
          ],
          "heatmap": [
           {
            "colorbar": {
             "outlinewidth": 0,
             "ticks": ""
            },
            "colorscale": [
             [
              0,
              "#0d0887"
             ],
             [
              0.1111111111111111,
              "#46039f"
             ],
             [
              0.2222222222222222,
              "#7201a8"
             ],
             [
              0.3333333333333333,
              "#9c179e"
             ],
             [
              0.4444444444444444,
              "#bd3786"
             ],
             [
              0.5555555555555556,
              "#d8576b"
             ],
             [
              0.6666666666666666,
              "#ed7953"
             ],
             [
              0.7777777777777778,
              "#fb9f3a"
             ],
             [
              0.8888888888888888,
              "#fdca26"
             ],
             [
              1,
              "#f0f921"
             ]
            ],
            "type": "heatmap"
           }
          ],
          "heatmapgl": [
           {
            "colorbar": {
             "outlinewidth": 0,
             "ticks": ""
            },
            "colorscale": [
             [
              0,
              "#0d0887"
             ],
             [
              0.1111111111111111,
              "#46039f"
             ],
             [
              0.2222222222222222,
              "#7201a8"
             ],
             [
              0.3333333333333333,
              "#9c179e"
             ],
             [
              0.4444444444444444,
              "#bd3786"
             ],
             [
              0.5555555555555556,
              "#d8576b"
             ],
             [
              0.6666666666666666,
              "#ed7953"
             ],
             [
              0.7777777777777778,
              "#fb9f3a"
             ],
             [
              0.8888888888888888,
              "#fdca26"
             ],
             [
              1,
              "#f0f921"
             ]
            ],
            "type": "heatmapgl"
           }
          ],
          "histogram": [
           {
            "marker": {
             "colorbar": {
              "outlinewidth": 0,
              "ticks": ""
             }
            },
            "type": "histogram"
           }
          ],
          "histogram2d": [
           {
            "colorbar": {
             "outlinewidth": 0,
             "ticks": ""
            },
            "colorscale": [
             [
              0,
              "#0d0887"
             ],
             [
              0.1111111111111111,
              "#46039f"
             ],
             [
              0.2222222222222222,
              "#7201a8"
             ],
             [
              0.3333333333333333,
              "#9c179e"
             ],
             [
              0.4444444444444444,
              "#bd3786"
             ],
             [
              0.5555555555555556,
              "#d8576b"
             ],
             [
              0.6666666666666666,
              "#ed7953"
             ],
             [
              0.7777777777777778,
              "#fb9f3a"
             ],
             [
              0.8888888888888888,
              "#fdca26"
             ],
             [
              1,
              "#f0f921"
             ]
            ],
            "type": "histogram2d"
           }
          ],
          "histogram2dcontour": [
           {
            "colorbar": {
             "outlinewidth": 0,
             "ticks": ""
            },
            "colorscale": [
             [
              0,
              "#0d0887"
             ],
             [
              0.1111111111111111,
              "#46039f"
             ],
             [
              0.2222222222222222,
              "#7201a8"
             ],
             [
              0.3333333333333333,
              "#9c179e"
             ],
             [
              0.4444444444444444,
              "#bd3786"
             ],
             [
              0.5555555555555556,
              "#d8576b"
             ],
             [
              0.6666666666666666,
              "#ed7953"
             ],
             [
              0.7777777777777778,
              "#fb9f3a"
             ],
             [
              0.8888888888888888,
              "#fdca26"
             ],
             [
              1,
              "#f0f921"
             ]
            ],
            "type": "histogram2dcontour"
           }
          ],
          "mesh3d": [
           {
            "colorbar": {
             "outlinewidth": 0,
             "ticks": ""
            },
            "type": "mesh3d"
           }
          ],
          "parcoords": [
           {
            "line": {
             "colorbar": {
              "outlinewidth": 0,
              "ticks": ""
             }
            },
            "type": "parcoords"
           }
          ],
          "pie": [
           {
            "automargin": true,
            "type": "pie"
           }
          ],
          "scatter": [
           {
            "marker": {
             "colorbar": {
              "outlinewidth": 0,
              "ticks": ""
             }
            },
            "type": "scatter"
           }
          ],
          "scatter3d": [
           {
            "line": {
             "colorbar": {
              "outlinewidth": 0,
              "ticks": ""
             }
            },
            "marker": {
             "colorbar": {
              "outlinewidth": 0,
              "ticks": ""
             }
            },
            "type": "scatter3d"
           }
          ],
          "scattercarpet": [
           {
            "marker": {
             "colorbar": {
              "outlinewidth": 0,
              "ticks": ""
             }
            },
            "type": "scattercarpet"
           }
          ],
          "scattergeo": [
           {
            "marker": {
             "colorbar": {
              "outlinewidth": 0,
              "ticks": ""
             }
            },
            "type": "scattergeo"
           }
          ],
          "scattergl": [
           {
            "marker": {
             "colorbar": {
              "outlinewidth": 0,
              "ticks": ""
             }
            },
            "type": "scattergl"
           }
          ],
          "scattermapbox": [
           {
            "marker": {
             "colorbar": {
              "outlinewidth": 0,
              "ticks": ""
             }
            },
            "type": "scattermapbox"
           }
          ],
          "scatterpolar": [
           {
            "marker": {
             "colorbar": {
              "outlinewidth": 0,
              "ticks": ""
             }
            },
            "type": "scatterpolar"
           }
          ],
          "scatterpolargl": [
           {
            "marker": {
             "colorbar": {
              "outlinewidth": 0,
              "ticks": ""
             }
            },
            "type": "scatterpolargl"
           }
          ],
          "scatterternary": [
           {
            "marker": {
             "colorbar": {
              "outlinewidth": 0,
              "ticks": ""
             }
            },
            "type": "scatterternary"
           }
          ],
          "surface": [
           {
            "colorbar": {
             "outlinewidth": 0,
             "ticks": ""
            },
            "colorscale": [
             [
              0,
              "#0d0887"
             ],
             [
              0.1111111111111111,
              "#46039f"
             ],
             [
              0.2222222222222222,
              "#7201a8"
             ],
             [
              0.3333333333333333,
              "#9c179e"
             ],
             [
              0.4444444444444444,
              "#bd3786"
             ],
             [
              0.5555555555555556,
              "#d8576b"
             ],
             [
              0.6666666666666666,
              "#ed7953"
             ],
             [
              0.7777777777777778,
              "#fb9f3a"
             ],
             [
              0.8888888888888888,
              "#fdca26"
             ],
             [
              1,
              "#f0f921"
             ]
            ],
            "type": "surface"
           }
          ],
          "table": [
           {
            "cells": {
             "fill": {
              "color": "#EBF0F8"
             },
             "line": {
              "color": "white"
             }
            },
            "header": {
             "fill": {
              "color": "#C8D4E3"
             },
             "line": {
              "color": "white"
             }
            },
            "type": "table"
           }
          ]
         },
         "layout": {
          "annotationdefaults": {
           "arrowcolor": "#2a3f5f",
           "arrowhead": 0,
           "arrowwidth": 1
          },
          "autotypenumbers": "strict",
          "coloraxis": {
           "colorbar": {
            "outlinewidth": 0,
            "ticks": ""
           }
          },
          "colorscale": {
           "diverging": [
            [
             0,
             "#8e0152"
            ],
            [
             0.1,
             "#c51b7d"
            ],
            [
             0.2,
             "#de77ae"
            ],
            [
             0.3,
             "#f1b6da"
            ],
            [
             0.4,
             "#fde0ef"
            ],
            [
             0.5,
             "#f7f7f7"
            ],
            [
             0.6,
             "#e6f5d0"
            ],
            [
             0.7,
             "#b8e186"
            ],
            [
             0.8,
             "#7fbc41"
            ],
            [
             0.9,
             "#4d9221"
            ],
            [
             1,
             "#276419"
            ]
           ],
           "sequential": [
            [
             0,
             "#0d0887"
            ],
            [
             0.1111111111111111,
             "#46039f"
            ],
            [
             0.2222222222222222,
             "#7201a8"
            ],
            [
             0.3333333333333333,
             "#9c179e"
            ],
            [
             0.4444444444444444,
             "#bd3786"
            ],
            [
             0.5555555555555556,
             "#d8576b"
            ],
            [
             0.6666666666666666,
             "#ed7953"
            ],
            [
             0.7777777777777778,
             "#fb9f3a"
            ],
            [
             0.8888888888888888,
             "#fdca26"
            ],
            [
             1,
             "#f0f921"
            ]
           ],
           "sequentialminus": [
            [
             0,
             "#0d0887"
            ],
            [
             0.1111111111111111,
             "#46039f"
            ],
            [
             0.2222222222222222,
             "#7201a8"
            ],
            [
             0.3333333333333333,
             "#9c179e"
            ],
            [
             0.4444444444444444,
             "#bd3786"
            ],
            [
             0.5555555555555556,
             "#d8576b"
            ],
            [
             0.6666666666666666,
             "#ed7953"
            ],
            [
             0.7777777777777778,
             "#fb9f3a"
            ],
            [
             0.8888888888888888,
             "#fdca26"
            ],
            [
             1,
             "#f0f921"
            ]
           ]
          },
          "colorway": [
           "#636efa",
           "#EF553B",
           "#00cc96",
           "#ab63fa",
           "#FFA15A",
           "#19d3f3",
           "#FF6692",
           "#B6E880",
           "#FF97FF",
           "#FECB52"
          ],
          "font": {
           "color": "#2a3f5f"
          },
          "geo": {
           "bgcolor": "white",
           "lakecolor": "white",
           "landcolor": "#E5ECF6",
           "showlakes": true,
           "showland": true,
           "subunitcolor": "white"
          },
          "hoverlabel": {
           "align": "left"
          },
          "hovermode": "closest",
          "mapbox": {
           "style": "light"
          },
          "paper_bgcolor": "white",
          "plot_bgcolor": "#E5ECF6",
          "polar": {
           "angularaxis": {
            "gridcolor": "white",
            "linecolor": "white",
            "ticks": ""
           },
           "bgcolor": "#E5ECF6",
           "radialaxis": {
            "gridcolor": "white",
            "linecolor": "white",
            "ticks": ""
           }
          },
          "scene": {
           "xaxis": {
            "backgroundcolor": "#E5ECF6",
            "gridcolor": "white",
            "gridwidth": 2,
            "linecolor": "white",
            "showbackground": true,
            "ticks": "",
            "zerolinecolor": "white"
           },
           "yaxis": {
            "backgroundcolor": "#E5ECF6",
            "gridcolor": "white",
            "gridwidth": 2,
            "linecolor": "white",
            "showbackground": true,
            "ticks": "",
            "zerolinecolor": "white"
           },
           "zaxis": {
            "backgroundcolor": "#E5ECF6",
            "gridcolor": "white",
            "gridwidth": 2,
            "linecolor": "white",
            "showbackground": true,
            "ticks": "",
            "zerolinecolor": "white"
           }
          },
          "shapedefaults": {
           "line": {
            "color": "#2a3f5f"
           }
          },
          "ternary": {
           "aaxis": {
            "gridcolor": "white",
            "linecolor": "white",
            "ticks": ""
           },
           "baxis": {
            "gridcolor": "white",
            "linecolor": "white",
            "ticks": ""
           },
           "bgcolor": "#E5ECF6",
           "caxis": {
            "gridcolor": "white",
            "linecolor": "white",
            "ticks": ""
           }
          },
          "title": {
           "x": 0.05
          },
          "xaxis": {
           "automargin": true,
           "gridcolor": "white",
           "linecolor": "white",
           "ticks": "",
           "title": {
            "standoff": 15
           },
           "zerolinecolor": "white",
           "zerolinewidth": 2
          },
          "yaxis": {
           "automargin": true,
           "gridcolor": "white",
           "linecolor": "white",
           "ticks": "",
           "title": {
            "standoff": 15
           },
           "zerolinecolor": "white",
           "zerolinewidth": 2
          }
         }
        },
        "xaxis": {
         "anchor": "y",
         "domain": [
          0,
          1
         ],
         "title": {
          "text": "Weeks"
         }
        },
        "yaxis": {
         "anchor": "x",
         "domain": [
          0,
          1
         ],
         "title": {
          "text": "Patient"
         }
        }
       }
      },
      "text/html": [
       "<div>                            <div id=\"223fbb1d-654e-470b-8501-b145b793db5b\" class=\"plotly-graph-div\" style=\"height:525px; width:100%;\"></div>            <script type=\"text/javascript\">                require([\"plotly\"], function(Plotly) {                    window.PLOTLYENV=window.PLOTLYENV || {};                                    if (document.getElementById(\"223fbb1d-654e-470b-8501-b145b793db5b\")) {                    Plotly.newPlot(                        \"223fbb1d-654e-470b-8501-b145b793db5b\",                        [{\"hovertemplate\": \"Weeks=%{x}<br>Patient=%{y}<br>FVC=%{marker.color}<extra></extra>\", \"legendgroup\": \"\", \"marker\": {\"color\": [2315, 2214, 2061, 2144, 2069, 2101, 2000, 2064, 2057, 3660, 3610, 3895, 3759, 3639, 3578, 3625, 3390, 3214, 3523, 3373, 3327, 2993, 3030, 3103, 2993, 2474, 2518, 3326, 3419, 3541, 3502, 3410, 3477, 3269, 3346, 3193, 3418, 3759, 3276, 3443, 3268, 3449, 3324, 3231, 2971, 3807, 3897, 3615, 3786, 3756, 3238, 3221, 3439, 3027, 3042, 3120, 2890, 2667, 2968, 2697, 2682, 2585, 2903, 3159, 3277, 3042, 3277, 3086, 2880, 2811, 2533, 2884, 2766, 3007, 2981, 2868, 2917, 3002, 2793, 2700, 2472, 2795, 2750, 2697, 2887, 2547, 2564, 2539, 2378, 2506, 2561, 2388, 2694, 2595, 2552, 2328, 2378, 5045, 4825, 4876, 4665, 4753, 4487, 4679, 4743, 3846, 2728, 2603, 2634, 2668, 2684, 2787, 2391, 2195, 2272, 3946, 3905, 3787, 3988, 4000, 3831, 3846, 3878, 3896, 3791, 3555, 3514, 3451, 3626, 3515, 3679, 3961, 3431, 3313, 3235, 3370, 3129, 3236, 3012, 2489, 2522, 2517, 2292, 2251, 2436, 1848, 3255, 3370, 3418, 3284, 3050, 3135, 3292, 3064, 2890, 3969, 2511, 4134, 4024, 4043, 4048, 4128, 3902, 4089, 2301, 2336, 2341, 2158, 2260, 2212, 2239, 2172, 2071, 3456, 3295, 3420, 3608, 3363, 3410, 3256, 3230, 2794, 2827, 2784, 2740, 2819, 2592, 2459, 2626, 2476, 2359, 2357, 2376, 2352, 2414, 2308, 2233, 2356, 2247, 2547, 2409, 2361, 2354, 2410, 2353, 2130, 1709, 2298, 2576, 2182, 2374, 2370, 2480, 2683, 2914, 2853, 3170, 3121, 3223, 3380, 3255, 3391, 3504, 3378, 3391, 2478, 2539, 2571, 2511, 2297, 2241, 2076, 2031, 1918, 3562, 3024, 2958, 2969, 2982, 2877, 2948, 2907, 3695, 3570, 3834, 3794, 3592, 2728, 3475, 3841, 3668, 4916, 4799, 4738, 4856, 4692, 4756, 4753, 4574, 4752, 2934, 2866, 3065, 3089, 3005, 3001, 2769, 2708, 2862, 2833, 2553, 2510, 2294, 2400, 2133, 1651, 2196, 2336, 2404, 2377, 2339, 2346, 2381, 2203, 2089, 2036, 1733, 2479, 2398, 2427, 2547, 2523, 2483, 2399, 2322, 2237, 2076, 2914, 2795, 2808, 2707, 2686, 2850, 2667, 2641, 2611, 2073, 2142, 2274, 2186, 2269, 2228, 2327, 2112, 1725, 1995, 1884, 1806, 1666, 1316, 1085, 938, 919, 2389, 2419, 2400, 2181, 2275, 2235, 2083, 2548, 2509, 2543, 2399, 2507, 2156, 2134, 2446, 2933, 3001, 2904, 2832, 2866, 2788, 3022, 2912, 3037, 2917, 2851, 2905, 2889, 2965, 2950, 2886, 2899, 2994, 2908, 2581, 2427, 2404, 2335, 2279, 2254, 2146, 2155, 2091, 3559, 3587, 3458, 3614, 3661, 3610, 3454, 3350, 3146, 2349, 2584, 2337, 2330, 2320, 2093, 2027, 1872, 2375, 2281, 2276, 2295, 2245, 2227, 2316, 2307, 2455, 2253, 2184, 2235, 2333, 2266, 2319, 2230, 2154, 2134, 3327, 3407, 3292, 3368, 3364, 3226, 3274, 3208, 2990, 2582, 2614, 2743, 2674, 2579, 2608, 2588, 2630, 2594, 3195, 3203, 3097, 3171, 3115, 3105, 3035, 3051, 3033, 2629, 2729, 2606, 2568, 2560, 2675, 2415, 2112, 2232, 3808, 4036, 4087, 3869, 3906, 3780, 3925, 3907, 3901, 3239, 3390, 3324, 3305, 3276, 3376, 3278, 3362, 3197, 4510, 4443, 4339, 4324, 4247, 4196, 4320, 4267, 4151, 3793, 3742, 3916, 4130, 4050, 3949, 4061, 3835, 3568, 4124, 3981, 4092, 4201, 4130, 3973, 3865, 3852, 4052, 4089, 2841, 2806, 2786, 2944, 3017, 2901, 2809, 2897, 2818, 2102, 2102, 2172, 2136, 2067, 2161, 2296, 2129, 2184, 4562, 4791, 4680, 4635, 4662, 4496, 4537, 4424, 4288, 3744, 3186, 3095, 3143, 2993, 3041, 2975, 2859, 2762, 2711, 2603, 2715, 2740, 2749, 2833, 2830, 2772, 2801, 2623, 2648, 2728, 2861, 2889, 2840, 2697, 2675, 2576, 2563, 3009, 2954, 3102, 2962, 3054, 3049, 2866, 2761, 2860, 2541, 2358, 2350, 2346, 2427, 2449, 2537, 2461, 2393, 3130, 2965, 3197, 2761, 3009, 3175, 3021, 2991, 2743, 3096, 2781, 2826, 2759, 2591, 2428, 2119, 4291, 4488, 4490, 4424, 4307, 4330, 4169, 4193, 4461, 3849, 3799, 3871, 3903, 3930, 4360, 3811, 3792, 3856, 2776, 2400, 1950, 2192, 2360, 1941, 3399, 2312, 3283, 2672, 2683, 2868, 2949, 2907, 2686, 2832, 2844, 2889, 4311, 4279, 4316, 4185, 4029, 4092, 4040, 3641, 3646, 2379, 2722, 2735, 2924, 2829, 2806, 2696, 2522, 2526, 2846, 2860, 2773, 2780, 2809, 2837, 2844, 2845, 2852, 3035, 3376, 3057, 3126, 3220, 3090, 2972, 3289, 3017, 2869, 2853, 2912, 2929, 2886, 2867, 2829, 2874, 2791, 2658, 2289, 2157, 1997, 2110, 2195, 2424, 2081, 2105, 2439, 2550, 2590, 2564, 2582, 2527, 2888, 2802, 2600, 6399, 5678, 5910, 5739, 5763, 5844, 5613, 5895, 5768, 2644, 2345, 2492, 2540, 2549, 2579, 2371, 2384, 2316, 2992, 2637, 2643, 2705, 2679, 2388, 2722, 2656, 2812, 3518, 3531, 3402, 3539, 3649, 3603, 3489, 3410, 3355, 3342, 3829, 3467, 3564, 3574, 3609, 3685, 3429, 3252, 3580, 2080, 2022, 1769, 2002, 1756, 2008, 1848, 1897, 2061, 2129, 2095, 2142, 2120, 2185, 2124, 2179, 2257, 2991, 3132, 2872, 2807, 2779, 2713, 2503, 2762, 2782, 1853, 1715, 1825, 1918, 1785, 1843, 1631, 1644, 1761, 3255, 3246, 3243, 3175, 3102, 2334, 2139, 2161, 2075, 2100, 2065, 2065, 1937, 2039, 2026, 1715, 1808, 3020, 2860, 2847, 2708, 2797, 2845, 2911, 2886, 2962, 3107, 2879, 2828, 2908, 3002, 2718, 2738, 4141, 4167, 4086, 4036, 4121, 4089, 3978, 4046, 3796, 1965, 1854, 1957, 1967, 2109, 1955, 1925, 2015, 1984, 2283, 2175, 2315, 2300, 2103, 2314, 2135, 1814, 4051, 4027, 4079, 3962, 4043, 3840, 4001, 3618, 3581, 2327, 2361, 2244, 2286, 2174, 2058, 2095, 2144, 2065, 2223, 2099, 2258, 2130, 2163, 1990, 2210, 2166, 2109, 2182, 2297, 2293, 2328, 1741, 1992, 2141, 2126, 2984, 2938, 2776, 2708, 2785, 2817, 2941, 2714, 2555, 3170, 3247, 3292, 3203, 3166, 3106, 2834, 2762, 2883, 3240, 3184, 3180, 3099, 3499, 3118, 2927, 2828, 3187, 2375, 2305, 2263, 2325, 2277, 2173, 1653, 1861, 4143, 2951, 4287, 4143, 4198, 4279, 4238, 4247, 4218, 2460, 2602, 2591, 2585, 2795, 2456, 2357, 2311, 2325, 1412, 1644, 1550, 1561, 1818, 1707, 1581, 1760, 2805, 2848, 2618, 2838, 2830, 2769, 3051, 2734, 2677, 3135, 2986, 2965, 3177, 3272, 3135, 3232, 3153, 3221, 3043, 2694, 2577, 2626, 2557, 2663, 2598, 2505, 2467, 2569, 2549, 2561, 2570, 2542, 2545, 2505, 2294, 3959, 4096, 3949, 3876, 3882, 3904, 3625, 3941, 4058, 3574, 3565, 3446, 3395, 3421, 3454, 3299, 3254, 2968, 2345, 2295, 2346, 2276, 2242, 2253, 2160, 2000, 2222, 2390, 2322, 2305, 2116, 2036, 2062, 1865, 1928, 1901, 2066, 2074, 2032, 1987, 2020, 1954, 1812, 2808, 2441, 2567, 2788, 2470, 2475, 2627, 2694, 2690, 4418, 3681, 4416, 4323, 4514, 4762, 4730, 4791, 4447, 2030, 2138, 1939, 2034, 2035, 1986, 1823, 2151, 3107, 2998, 2714, 2729, 2760, 2904, 2731, 2687, 2889, 3191, 3067, 3034, 2815, 2828, 3032, 3064, 2466, 2170, 2421, 2335, 2581, 2416, 2398, 2230, 2294, 2122, 3128, 3032, 3107, 2932, 2964, 2812, 2963, 2801, 3019, 2308, 2211, 2237, 2244, 2270, 2209, 2243, 2219, 2250, 2470, 2474, 2508, 2468, 2452, 2510, 2479, 2419, 2232, 4284, 4316, 4386, 4319, 4320, 4157, 4186, 4251, 4125, 3338, 3242, 3336, 3271, 3190, 3629, 3623, 3290, 2939, 2415, 2242, 2335, 2202, 2068, 1997, 1996, 3157, 3282, 3042, 3101, 3046, 3029, 3045, 2887, 2989, 2756, 2231, 2104, 2214, 2159, 2040, 2058, 1996, 1830, 1808, 3562, 3936, 3589, 3635, 3885, 3745, 3577, 3576, 3540, 3046, 2878, 2839, 2808, 2592, 2461, 2349, 2083, 3962, 3936, 3895, 3924, 3856, 3949, 4013, 4014, 3797, 3874, 3179, 3201, 3190, 3032, 3188, 3096, 3067, 2944, 2963, 2651, 2377, 2414, 2384, 2181, 2374, 2504, 2416, 1556, 1788, 1843, 1772, 1668, 1799, 1682, 1746, 1650, 2619, 3006, 2622, 2863, 2612, 2301, 2171, 2161, 1612, 3357, 3397, 3273, 3354, 3305, 3265, 3364, 3240, 3303, 3020, 2859, 2783, 2719, 2738, 2694, 2708, 2793, 2727, 2739, 2756, 2755, 2820, 2853, 2716, 2833, 2771, 2628, 2719, 1930, 1936, 1955, 1848, 1897, 1946, 1862, 1713, 3294, 2777, 2700, 3014, 2661, 2778, 2516, 2432, 2578, 2925, 2903, 2916, 2976, 2712, 2978, 2908, 2975, 2774], \"coloraxis\": \"coloraxis\", \"symbol\": \"circle\"}, \"mode\": \"markers\", \"name\": \"\", \"showlegend\": false, \"type\": \"scattergl\", \"x\": [-4, 5, 7, 9, 11, 17, 29, 41, 57, 8, 9, 11, 13, 15, 22, 33, 45, 60, 0, 1, 3, 5, 7, 13, 25, 37, 54, 6, 7, 9, 11, 13, 19, 32, 43, 58, 33, 35, 37, 39, 41, 47, 58, 71, 87, 0, 2, 4, 6, 8, 14, 26, 37, 54, 12, 17, 19, 21, 31, 40, 52, 69, 0, 1, 3, 6, 7, 14, 26, 38, 53, 41, 45, 47, 49, 51, 57, 69, 81, 98, 12, 14, 16, 18, 23, 26, 38, 51, 66, 19, 30, 33, 34, 36, 42, 54, 65, 30, 35, 37, 39, 41, 47, 59, 71, 87, 11, 12, 14, 16, 18, 24, 36, 49, 65, 6, 12, 15, 17, 19, 24, 36, 49, 63, 1, 6, 9, 11, 12, 18, 31, 44, 60, 2, 4, 6, 8, 10, 29, 48, 51, 53, 56, 58, 63, 75, 16, 18, 20, 23, 24, 31, 43, 55, 71, 23, 24, 26, 28, 30, 36, 48, 60, 76, 44, 46, 48, 50, 52, 58, 70, 83, 98, 4, 5, 7, 9, 11, 17, 28, 41, 11, 11, 13, 15, 16, 22, 35, 46, 62, 15, 18, 20, 22, 24, 30, 42, 55, 70, 3, 6, 8, 10, 12, 18, 30, 42, -4, 3, 5, 6, 9, 15, 27, 40, 55, 5, 6, 8, 10, 12, 18, 29, 42, 59, 7, 7, 9, 11, 14, 20, 31, 44, 60, 17, 21, 23, 27, 33, 44, 59, 73, -1, 3, 6, 8, 9, 16, 28, 39, 54, 0, 6, 9, 11, 12, 18, 30, 42, 58, 44, 47, 49, 51, 53, 58, 70, 83, 98, 102, 3, 5, 7, 9, 11, 17, 29, 41, 58, 20, 21, 23, 26, 28, 33, 45, 58, 44, 45, 47, 49, 51, 57, 69, 82, 97, 100, 11, 13, 15, 17, 19, 25, 37, 49, 65, 53, 55, 57, 59, 61, 67, 79, 91, 107, 15, 18, 20, 23, 25, 31, 42, 56, 9, 10, 13, 15, 17, 23, 36, 15, 17, 19, 21, 23, 29, 42, 52, 4, 8, 10, 12, 14, 20, 32, 44, 60, 2, 4, 6, 8, 10, 16, 28, 40, 56, 59, -4, 6, 8, 10, 12, 18, 30, 43, 58, 47, 48, 50, 53, 55, 60, 72, 84, 100, 8, 8, 10, 12, 14, 20, 34, 45, 18, 26, 28, 30, 32, 38, 50, 62, 78, 0, 3, 5, 7, 10, 15, 27, 39, 56, 63, 64, 66, 68, 70, 76, 89, 101, 116, 6, 10, 13, 14, 16, 22, 34, 46, 63, -2, 2, 4, 6, 8, 13, 27, 38, 54, 2, 8, 11, 13, 14, 21, 33, 44, 59, 31, 35, 37, 40, 42, 48, 60, 73, 89, 3, 6, 8, 10, 12, 18, 30, 43, 58, 14, 18, 20, 22, 24, 30, 42, 54, 70, 16, 21, 24, 25, 27, 33, 47, 58, 73, 16, 18, 20, 22, 24, 30, 42, 54, 70, 74, 8, 10, 12, 14, 16, 22, 34, 46, 61, 79, 81, 83, 85, 87, 92, 104, 117, 133, 7, 11, 13, 15, 17, 23, 34, 47, 62, 66, 7, 8, 10, 12, 14, 21, 33, 44, 60, 35, 37, 39, 41, 43, 49, 60, 72, 92, 11, 17, 19, 21, 23, 29, 42, 53, 69, 9, 11, 13, 16, 18, 24, 35, 47, 63, 39, 42, 44, 46, 48, 54, 65, 77, 94, 29, 30, 32, 34, 37, 43, 55, 67, 83, 8, 11, 13, 15, 17, 23, 59, 4, 10, 12, 14, 16, 22, 34, 46, 62, 9, 12, 14, 16, 18, 25, 36, 48, 66, 0, 5, 8, 10, 11, 18, 30, 41, 57, 5, 5, 7, 9, 12, 17, 30, 42, 57, 20, 21, 23, 25, 27, 33, 45, 58, 75, 33, 35, 37, 38, 41, 47, 59, 71, 86, 0, 3, 5, 7, 9, 16, 27, 39, 56, 6, 9, 11, 13, 14, 21, 32, 44, 61, 3, 4, 6, 8, 10, 16, 28, 40, 55, 10, 11, 13, 15, 17, 23, 34, 47, 63, 20, 22, 25, 26, 29, 34, 46, 59, 75, 0, 4, 7, 9, 11, 17, 27, 40, 56, -1, 5, 7, 9, 11, 16, 29, 41, 57, 0, 3, 5, 7, 9, 15, 27, 39, 55, 23, 26, 28, 30, 32, 38, 49, 62, 78, 82, -3, 2, 4, 6, 9, 14, 27, 39, 54, 3, 4, 6, 8, 10, 16, 29, 41, 34, 35, 37, 40, 42, 47, 59, 71, 88, 5, 5, 8, 9, 12, 18, 30, 41, 57, 4, 5, 7, 9, 10, 17, 28, 41, 58, 34, 40, 42, 46, 52, 67, 76, 92, 21, 30, 32, 34, 37, 43, 55, 67, 83, 4, 8, 10, 12, 14, 20, 32, 44, 60, 6, 7, 9, 11, 13, 19, 31, 8, 10, 12, 14, 17, 22, 34, 46, 63, 0, 3, 5, 7, 9, 15, 27, 39, 54, 4, 15, 17, 18, 21, 26, 38, 51, 2, 4, 6, 8, 10, 16, 27, 43, 56, 5, 6, 7, 10, 12, 18, 29, 42, 59, 5, 8, 10, 12, 13, 20, 32, 44, 22, 24, 26, 28, 30, 37, 48, 60, 76, 8, 10, 12, 14, 16, 22, 34, 46, 62, 3, 6, 8, 10, 12, 18, 31, 44, 58, 3, 5, 7, 9, 11, 18, 29, 41, 57, 26, 32, 34, 35, 44, 56, 70, 85, 12, 16, 18, 20, 22, 29, 40, 52, 69, 3, 6, 8, 10, 11, 18, 30, 40, 57, 26, 27, 29, 31, 33, 39, 50, 64, 39, 43, 45, 47, 49, 54, 66, 79, 95, 28, 30, 32, 34, 36, 42, 55, 67, 82, 3, 4, 6, 8, 10, 16, 28, 40, 56, 6, 8, 10, 12, 14, 20, 33, 44, 29, 32, 34, 36, 38, 44, 57, 68, 85, 0, 6, 9, 10, 13, 18, 31, 41, 58, -1, 5, 8, 10, 12, 18, 30, 42, 58, 23, 25, 27, 29, 31, 37, 49, 62, 78, 0, 4, 6, 8, 10, 16, 31, 14, 15, 17, 19, 21, 27, 39, 51, 66, 24, 28, 30, 32, 34, 40, 52, 65, 82, 4, 8, 12, 14, 20, 33, 45, 62, 3, 5, 7, 10, 12, 17, 29, 41, 57, 37, 41, 43, 45, 47, 53, 65, 77, 94, 35, 37, 39, 42, 43, 49, 61, 73, 7, 11, 13, 15, 17, 23, 35, 47, 64, 12, 13, 15, 17, 19, 25, 37, 49, 64, 6, 8, 10, 12, 14, 20, 33, 44, 60, 39, 41, 44, 46, 48, 53, 65, 77, 93, 25, 27, 29, 31, 33, 39, 50, 63, 80, 5, 7, 9, 11, 13, 19, 31, 0, 3, 5, 7, 8, 15, 27, 39, 56, 59, 5, 7, 9, 11, 13, 19, 31, 43, 59, 0, 6, 8, 10, 12, 18, 30, 41, 58, 11, 13, 15, 17, 19, 25, 37, 49, 29, 30, 32, 33, 36, 42, 54, 65, 82, 85, 21, 22, 24, 26, 28, 33, 46, 57, 75, 13, 14, 16, 18, 20, 26, 37, 50, 7, 8, 10, 12, 14, 20, 31, 45, 60, 7, 12, 14, 16, 18, 24, 36, 49, 63, 8, 9, 12, 13, 15, 21, 33, 45, 61, 6, 7, 9, 10, 13, 18, 31, 43, 59, 15, 17, 19, 21, 23, 29, 41, 54, 70, 70, 6, 11, 13, 15, 17, 23, 35, 47, 17, 18, 19, 21, 23, 30, 42, 53, 70, 0, 7, 9, 11, 13, 19, 31, 43, 59], \"xaxis\": \"x\", \"y\": [\"ID00007637202177411956430\", \"ID00007637202177411956430\", \"ID00007637202177411956430\", \"ID00007637202177411956430\", \"ID00007637202177411956430\", \"ID00007637202177411956430\", \"ID00007637202177411956430\", \"ID00007637202177411956430\", \"ID00007637202177411956430\", \"ID00009637202177434476278\", \"ID00009637202177434476278\", \"ID00009637202177434476278\", \"ID00009637202177434476278\", \"ID00009637202177434476278\", \"ID00009637202177434476278\", \"ID00009637202177434476278\", \"ID00009637202177434476278\", \"ID00009637202177434476278\", \"ID00010637202177584971671\", \"ID00010637202177584971671\", \"ID00010637202177584971671\", \"ID00010637202177584971671\", \"ID00010637202177584971671\", \"ID00010637202177584971671\", \"ID00010637202177584971671\", \"ID00010637202177584971671\", \"ID00010637202177584971671\", \"ID00011637202177653955184\", \"ID00011637202177653955184\", \"ID00011637202177653955184\", \"ID00011637202177653955184\", \"ID00011637202177653955184\", \"ID00011637202177653955184\", \"ID00011637202177653955184\", \"ID00011637202177653955184\", \"ID00011637202177653955184\", \"ID00012637202177665765362\", \"ID00012637202177665765362\", \"ID00012637202177665765362\", \"ID00012637202177665765362\", \"ID00012637202177665765362\", \"ID00012637202177665765362\", \"ID00012637202177665765362\", \"ID00012637202177665765362\", \"ID00012637202177665765362\", \"ID00014637202177757139317\", \"ID00014637202177757139317\", \"ID00014637202177757139317\", \"ID00014637202177757139317\", \"ID00014637202177757139317\", \"ID00014637202177757139317\", \"ID00014637202177757139317\", \"ID00014637202177757139317\", \"ID00014637202177757139317\", \"ID00015637202177877247924\", \"ID00015637202177877247924\", \"ID00015637202177877247924\", \"ID00015637202177877247924\", \"ID00015637202177877247924\", \"ID00015637202177877247924\", \"ID00015637202177877247924\", \"ID00015637202177877247924\", \"ID00025637202179541264076\", \"ID00025637202179541264076\", \"ID00025637202179541264076\", \"ID00025637202179541264076\", \"ID00025637202179541264076\", \"ID00025637202179541264076\", \"ID00025637202179541264076\", \"ID00025637202179541264076\", \"ID00025637202179541264076\", \"ID00026637202179561894768\", \"ID00026637202179561894768\", \"ID00026637202179561894768\", \"ID00026637202179561894768\", \"ID00026637202179561894768\", \"ID00026637202179561894768\", \"ID00026637202179561894768\", \"ID00026637202179561894768\", \"ID00026637202179561894768\", \"ID00027637202179689871102\", \"ID00027637202179689871102\", \"ID00027637202179689871102\", \"ID00027637202179689871102\", \"ID00027637202179689871102\", \"ID00027637202179689871102\", \"ID00027637202179689871102\", \"ID00027637202179689871102\", \"ID00027637202179689871102\", \"ID00030637202181211009029\", \"ID00030637202181211009029\", \"ID00030637202181211009029\", \"ID00030637202181211009029\", \"ID00030637202181211009029\", \"ID00030637202181211009029\", \"ID00030637202181211009029\", \"ID00030637202181211009029\", \"ID00032637202181710233084\", \"ID00032637202181710233084\", \"ID00032637202181710233084\", \"ID00032637202181710233084\", \"ID00032637202181710233084\", \"ID00032637202181710233084\", \"ID00032637202181710233084\", \"ID00032637202181710233084\", \"ID00032637202181710233084\", \"ID00035637202182204917484\", \"ID00035637202182204917484\", \"ID00035637202182204917484\", \"ID00035637202182204917484\", \"ID00035637202182204917484\", \"ID00035637202182204917484\", \"ID00035637202182204917484\", \"ID00035637202182204917484\", \"ID00035637202182204917484\", \"ID00038637202182690843176\", \"ID00038637202182690843176\", \"ID00038637202182690843176\", \"ID00038637202182690843176\", \"ID00038637202182690843176\", \"ID00038637202182690843176\", \"ID00038637202182690843176\", \"ID00038637202182690843176\", \"ID00038637202182690843176\", \"ID00042637202184406822975\", \"ID00042637202184406822975\", \"ID00042637202184406822975\", \"ID00042637202184406822975\", \"ID00042637202184406822975\", \"ID00042637202184406822975\", \"ID00042637202184406822975\", \"ID00042637202184406822975\", \"ID00042637202184406822975\", \"ID00047637202184938901501\", \"ID00047637202184938901501\", \"ID00047637202184938901501\", \"ID00047637202184938901501\", \"ID00047637202184938901501\", \"ID00047637202184938901501\", \"ID00052637202186188008618\", \"ID00052637202186188008618\", \"ID00052637202186188008618\", \"ID00052637202186188008618\", \"ID00052637202186188008618\", \"ID00052637202186188008618\", \"ID00052637202186188008618\", \"ID00060637202187965290703\", \"ID00060637202187965290703\", \"ID00060637202187965290703\", \"ID00060637202187965290703\", \"ID00060637202187965290703\", \"ID00060637202187965290703\", \"ID00060637202187965290703\", \"ID00060637202187965290703\", \"ID00060637202187965290703\", \"ID00061637202188184085559\", \"ID00061637202188184085559\", \"ID00061637202188184085559\", \"ID00061637202188184085559\", \"ID00061637202188184085559\", \"ID00061637202188184085559\", \"ID00061637202188184085559\", \"ID00061637202188184085559\", \"ID00061637202188184085559\", \"ID00062637202188654068490\", \"ID00062637202188654068490\", \"ID00062637202188654068490\", \"ID00062637202188654068490\", \"ID00062637202188654068490\", \"ID00062637202188654068490\", \"ID00062637202188654068490\", \"ID00062637202188654068490\", \"ID00062637202188654068490\", \"ID00067637202189903532242\", \"ID00067637202189903532242\", \"ID00067637202189903532242\", \"ID00067637202189903532242\", \"ID00067637202189903532242\", \"ID00067637202189903532242\", \"ID00067637202189903532242\", \"ID00067637202189903532242\", \"ID00068637202190879923934\", \"ID00068637202190879923934\", \"ID00068637202190879923934\", \"ID00068637202190879923934\", \"ID00068637202190879923934\", \"ID00068637202190879923934\", \"ID00068637202190879923934\", \"ID00068637202190879923934\", \"ID00068637202190879923934\", \"ID00072637202198161894406\", \"ID00072637202198161894406\", \"ID00072637202198161894406\", \"ID00072637202198161894406\", \"ID00072637202198161894406\", \"ID00072637202198161894406\", \"ID00072637202198161894406\", \"ID00072637202198161894406\", \"ID00072637202198161894406\", \"ID00073637202198167792918\", \"ID00073637202198167792918\", \"ID00073637202198167792918\", \"ID00073637202198167792918\", \"ID00073637202198167792918\", \"ID00073637202198167792918\", \"ID00073637202198167792918\", \"ID00073637202198167792918\", \"ID00076637202199015035026\", \"ID00076637202199015035026\", \"ID00076637202199015035026\", \"ID00076637202199015035026\", \"ID00076637202199015035026\", \"ID00076637202199015035026\", \"ID00076637202199015035026\", \"ID00076637202199015035026\", \"ID00076637202199015035026\", \"ID00077637202199102000916\", \"ID00077637202199102000916\", \"ID00077637202199102000916\", \"ID00077637202199102000916\", \"ID00077637202199102000916\", \"ID00077637202199102000916\", \"ID00077637202199102000916\", \"ID00077637202199102000916\", \"ID00077637202199102000916\", \"ID00089637202204675567570\", \"ID00089637202204675567570\", \"ID00089637202204675567570\", \"ID00089637202204675567570\", \"ID00089637202204675567570\", \"ID00089637202204675567570\", \"ID00089637202204675567570\", \"ID00089637202204675567570\", \"ID00089637202204675567570\", \"ID00090637202204766623410\", \"ID00090637202204766623410\", \"ID00090637202204766623410\", \"ID00090637202204766623410\", \"ID00090637202204766623410\", \"ID00090637202204766623410\", \"ID00090637202204766623410\", \"ID00090637202204766623410\", \"ID00093637202205278167493\", \"ID00093637202205278167493\", \"ID00093637202205278167493\", \"ID00093637202205278167493\", \"ID00093637202205278167493\", \"ID00093637202205278167493\", \"ID00093637202205278167493\", \"ID00093637202205278167493\", \"ID00093637202205278167493\", \"ID00094637202205333947361\", \"ID00094637202205333947361\", \"ID00094637202205333947361\", \"ID00094637202205333947361\", \"ID00094637202205333947361\", \"ID00094637202205333947361\", \"ID00094637202205333947361\", \"ID00094637202205333947361\", \"ID00094637202205333947361\", \"ID00099637202206203080121\", \"ID00099637202206203080121\", \"ID00099637202206203080121\", \"ID00099637202206203080121\", \"ID00099637202206203080121\", \"ID00099637202206203080121\", \"ID00099637202206203080121\", \"ID00099637202206203080121\", \"ID00099637202206203080121\", \"ID00099637202206203080121\", \"ID00102637202206574119190\", \"ID00102637202206574119190\", \"ID00102637202206574119190\", \"ID00102637202206574119190\", \"ID00102637202206574119190\", \"ID00102637202206574119190\", \"ID00102637202206574119190\", \"ID00102637202206574119190\", \"ID00102637202206574119190\", \"ID00104637202208063407045\", \"ID00104637202208063407045\", \"ID00104637202208063407045\", \"ID00104637202208063407045\", \"ID00104637202208063407045\", \"ID00104637202208063407045\", \"ID00104637202208063407045\", \"ID00104637202208063407045\", \"ID00105637202208831864134\", \"ID00105637202208831864134\", \"ID00105637202208831864134\", \"ID00105637202208831864134\", \"ID00105637202208831864134\", \"ID00105637202208831864134\", \"ID00105637202208831864134\", \"ID00105637202208831864134\", \"ID00105637202208831864134\", \"ID00105637202208831864134\", \"ID00108637202209619669361\", \"ID00108637202209619669361\", \"ID00108637202209619669361\", \"ID00108637202209619669361\", \"ID00108637202209619669361\", \"ID00108637202209619669361\", \"ID00108637202209619669361\", \"ID00108637202209619669361\", \"ID00108637202209619669361\", \"ID00109637202210454292264\", \"ID00109637202210454292264\", \"ID00109637202210454292264\", \"ID00109637202210454292264\", \"ID00109637202210454292264\", \"ID00109637202210454292264\", \"ID00109637202210454292264\", \"ID00109637202210454292264\", \"ID00109637202210454292264\", \"ID00110637202210673668310\", \"ID00110637202210673668310\", \"ID00110637202210673668310\", \"ID00110637202210673668310\", \"ID00110637202210673668310\", \"ID00110637202210673668310\", \"ID00110637202210673668310\", \"ID00110637202210673668310\", \"ID00111637202210956877205\", \"ID00111637202210956877205\", \"ID00111637202210956877205\", \"ID00111637202210956877205\", \"ID00111637202210956877205\", \"ID00111637202210956877205\", \"ID00111637202210956877205\", \"ID00115637202211874187958\", \"ID00115637202211874187958\", \"ID00115637202211874187958\", \"ID00115637202211874187958\", \"ID00115637202211874187958\", \"ID00115637202211874187958\", \"ID00115637202211874187958\", \"ID00115637202211874187958\", \"ID00117637202212360228007\", \"ID00117637202212360228007\", \"ID00117637202212360228007\", \"ID00117637202212360228007\", \"ID00117637202212360228007\", \"ID00117637202212360228007\", \"ID00117637202212360228007\", \"ID00117637202212360228007\", \"ID00117637202212360228007\", \"ID00119637202215426335765\", \"ID00119637202215426335765\", \"ID00119637202215426335765\", \"ID00119637202215426335765\", \"ID00119637202215426335765\", \"ID00119637202215426335765\", \"ID00119637202215426335765\", \"ID00119637202215426335765\", \"ID00119637202215426335765\", \"ID00119637202215426335765\", \"ID00122637202216437668965\", \"ID00122637202216437668965\", \"ID00122637202216437668965\", \"ID00122637202216437668965\", \"ID00122637202216437668965\", \"ID00122637202216437668965\", \"ID00122637202216437668965\", \"ID00122637202216437668965\", \"ID00122637202216437668965\", \"ID00124637202217596410344\", \"ID00124637202217596410344\", \"ID00124637202217596410344\", \"ID00124637202217596410344\", \"ID00124637202217596410344\", \"ID00124637202217596410344\", \"ID00124637202217596410344\", \"ID00124637202217596410344\", \"ID00124637202217596410344\", \"ID00125637202218590429387\", \"ID00125637202218590429387\", \"ID00125637202218590429387\", \"ID00125637202218590429387\", \"ID00125637202218590429387\", \"ID00125637202218590429387\", \"ID00125637202218590429387\", \"ID00125637202218590429387\", \"ID00126637202218610655908\", \"ID00126637202218610655908\", \"ID00126637202218610655908\", \"ID00126637202218610655908\", \"ID00126637202218610655908\", \"ID00126637202218610655908\", \"ID00126637202218610655908\", \"ID00126637202218610655908\", \"ID00126637202218610655908\", \"ID00129637202219868188000\", \"ID00129637202219868188000\", \"ID00129637202219868188000\", \"ID00129637202219868188000\", \"ID00129637202219868188000\", \"ID00129637202219868188000\", \"ID00129637202219868188000\", \"ID00129637202219868188000\", \"ID00129637202219868188000\", \"ID00131637202220424084844\", \"ID00131637202220424084844\", \"ID00131637202220424084844\", \"ID00131637202220424084844\", \"ID00131637202220424084844\", \"ID00131637202220424084844\", \"ID00131637202220424084844\", \"ID00131637202220424084844\", \"ID00131637202220424084844\", \"ID00132637202222178761324\", \"ID00132637202222178761324\", \"ID00132637202222178761324\", \"ID00132637202222178761324\", \"ID00132637202222178761324\", \"ID00132637202222178761324\", \"ID00132637202222178761324\", \"ID00132637202222178761324\", \"ID00132637202222178761324\", \"ID00133637202223847701934\", \"ID00133637202223847701934\", \"ID00133637202223847701934\", \"ID00133637202223847701934\", \"ID00133637202223847701934\", \"ID00133637202223847701934\", \"ID00133637202223847701934\", \"ID00133637202223847701934\", \"ID00133637202223847701934\", \"ID00134637202223873059688\", \"ID00134637202223873059688\", \"ID00134637202223873059688\", \"ID00134637202223873059688\", \"ID00134637202223873059688\", \"ID00134637202223873059688\", \"ID00134637202223873059688\", \"ID00134637202223873059688\", \"ID00134637202223873059688\", \"ID00135637202224630271439\", \"ID00135637202224630271439\", \"ID00135637202224630271439\", \"ID00135637202224630271439\", \"ID00135637202224630271439\", \"ID00135637202224630271439\", \"ID00135637202224630271439\", \"ID00135637202224630271439\", \"ID00135637202224630271439\", \"ID00136637202224951350618\", \"ID00136637202224951350618\", \"ID00136637202224951350618\", \"ID00136637202224951350618\", \"ID00136637202224951350618\", \"ID00136637202224951350618\", \"ID00136637202224951350618\", \"ID00136637202224951350618\", \"ID00136637202224951350618\", \"ID00138637202231603868088\", \"ID00138637202231603868088\", \"ID00138637202231603868088\", \"ID00138637202231603868088\", \"ID00138637202231603868088\", \"ID00138637202231603868088\", \"ID00138637202231603868088\", \"ID00138637202231603868088\", \"ID00138637202231603868088\", \"ID00139637202231703564336\", \"ID00139637202231703564336\", \"ID00139637202231703564336\", \"ID00139637202231703564336\", \"ID00139637202231703564336\", \"ID00139637202231703564336\", \"ID00139637202231703564336\", \"ID00139637202231703564336\", \"ID00139637202231703564336\", \"ID00140637202231728595149\", \"ID00140637202231728595149\", \"ID00140637202231728595149\", \"ID00140637202231728595149\", \"ID00140637202231728595149\", \"ID00140637202231728595149\", \"ID00140637202231728595149\", \"ID00140637202231728595149\", \"ID00140637202231728595149\", \"ID00140637202231728595149\", \"ID00161637202235731948764\", \"ID00161637202235731948764\", \"ID00161637202235731948764\", \"ID00161637202235731948764\", \"ID00161637202235731948764\", \"ID00161637202235731948764\", \"ID00161637202235731948764\", \"ID00161637202235731948764\", \"ID00161637202235731948764\", \"ID00165637202237320314458\", \"ID00165637202237320314458\", \"ID00165637202237320314458\", \"ID00165637202237320314458\", \"ID00165637202237320314458\", \"ID00165637202237320314458\", \"ID00165637202237320314458\", \"ID00165637202237320314458\", \"ID00165637202237320314458\", \"ID00167637202237397919352\", \"ID00167637202237397919352\", \"ID00167637202237397919352\", \"ID00167637202237397919352\", \"ID00167637202237397919352\", \"ID00167637202237397919352\", \"ID00167637202237397919352\", \"ID00167637202237397919352\", \"ID00167637202237397919352\", \"ID00167637202237397919352\", \"ID00168637202237852027833\", \"ID00168637202237852027833\", \"ID00168637202237852027833\", \"ID00168637202237852027833\", \"ID00168637202237852027833\", \"ID00168637202237852027833\", \"ID00168637202237852027833\", \"ID00168637202237852027833\", \"ID00168637202237852027833\", \"ID00172637202238316925179\", \"ID00172637202238316925179\", \"ID00172637202238316925179\", \"ID00172637202238316925179\", \"ID00172637202238316925179\", \"ID00172637202238316925179\", \"ID00172637202238316925179\", \"ID00172637202238316925179\", \"ID00172637202238316925179\", \"ID00173637202238329754031\", \"ID00173637202238329754031\", \"ID00173637202238329754031\", \"ID00173637202238329754031\", \"ID00173637202238329754031\", \"ID00173637202238329754031\", \"ID00173637202238329754031\", \"ID00173637202238329754031\", \"ID00173637202238329754031\", \"ID00180637202240177410333\", \"ID00180637202240177410333\", \"ID00180637202240177410333\", \"ID00180637202240177410333\", \"ID00180637202240177410333\", \"ID00180637202240177410333\", \"ID00180637202240177410333\", \"ID00180637202240177410333\", \"ID00180637202240177410333\", \"ID00183637202241995351650\", \"ID00183637202241995351650\", \"ID00183637202241995351650\", \"ID00183637202241995351650\", \"ID00183637202241995351650\", \"ID00183637202241995351650\", \"ID00183637202241995351650\", \"ID00183637202241995351650\", \"ID00183637202241995351650\", \"ID00184637202242062969203\", \"ID00184637202242062969203\", \"ID00184637202242062969203\", \"ID00184637202242062969203\", \"ID00184637202242062969203\", \"ID00184637202242062969203\", \"ID00184637202242062969203\", \"ID00184637202242062969203\", \"ID00184637202242062969203\", \"ID00186637202242472088675\", \"ID00186637202242472088675\", \"ID00186637202242472088675\", \"ID00186637202242472088675\", \"ID00186637202242472088675\", \"ID00186637202242472088675\", \"ID00186637202242472088675\", \"ID00190637202244450116191\", \"ID00190637202244450116191\", \"ID00190637202244450116191\", \"ID00190637202244450116191\", \"ID00190637202244450116191\", \"ID00190637202244450116191\", \"ID00190637202244450116191\", \"ID00190637202244450116191\", \"ID00190637202244450116191\", \"ID00196637202246668775836\", \"ID00196637202246668775836\", \"ID00196637202246668775836\", \"ID00196637202246668775836\", \"ID00196637202246668775836\", \"ID00196637202246668775836\", \"ID00196637202246668775836\", \"ID00196637202246668775836\", \"ID00196637202246668775836\", \"ID00197637202246865691526\", \"ID00197637202246865691526\", \"ID00197637202246865691526\", \"ID00197637202246865691526\", \"ID00197637202246865691526\", \"ID00197637202246865691526\", \"ID00197637202246865691526\", \"ID00197637202246865691526\", \"ID00197637202246865691526\", \"ID00199637202248141386743\", \"ID00199637202248141386743\", \"ID00199637202248141386743\", \"ID00199637202248141386743\", \"ID00199637202248141386743\", \"ID00199637202248141386743\", \"ID00199637202248141386743\", \"ID00199637202248141386743\", \"ID00199637202248141386743\", \"ID00202637202249376026949\", \"ID00202637202249376026949\", \"ID00202637202249376026949\", \"ID00202637202249376026949\", \"ID00202637202249376026949\", \"ID00202637202249376026949\", \"ID00202637202249376026949\", \"ID00202637202249376026949\", \"ID00202637202249376026949\", \"ID00207637202252526380974\", \"ID00207637202252526380974\", \"ID00207637202252526380974\", \"ID00207637202252526380974\", \"ID00207637202252526380974\", \"ID00207637202252526380974\", \"ID00207637202252526380974\", \"ID00207637202252526380974\", \"ID00207637202252526380974\", \"ID00210637202257228694086\", \"ID00210637202257228694086\", \"ID00210637202257228694086\", \"ID00210637202257228694086\", \"ID00210637202257228694086\", \"ID00210637202257228694086\", \"ID00210637202257228694086\", \"ID00210637202257228694086\", \"ID00210637202257228694086\", \"ID00213637202257692916109\", \"ID00213637202257692916109\", \"ID00213637202257692916109\", \"ID00213637202257692916109\", \"ID00213637202257692916109\", \"ID00213637202257692916109\", \"ID00213637202257692916109\", \"ID00213637202257692916109\", \"ID00213637202257692916109\", \"ID00214637202257820847190\", \"ID00214637202257820847190\", \"ID00214637202257820847190\", \"ID00214637202257820847190\", \"ID00214637202257820847190\", \"ID00214637202257820847190\", \"ID00214637202257820847190\", \"ID00214637202257820847190\", \"ID00214637202257820847190\", \"ID00216637202257988213445\", \"ID00216637202257988213445\", \"ID00216637202257988213445\", \"ID00216637202257988213445\", \"ID00216637202257988213445\", \"ID00216637202257988213445\", \"ID00216637202257988213445\", \"ID00216637202257988213445\", \"ID00216637202257988213445\", \"ID00218637202258156844710\", \"ID00218637202258156844710\", \"ID00218637202258156844710\", \"ID00218637202258156844710\", \"ID00218637202258156844710\", \"ID00218637202258156844710\", \"ID00218637202258156844710\", \"ID00218637202258156844710\", \"ID00218637202258156844710\", \"ID00219637202258203123958\", \"ID00219637202258203123958\", \"ID00219637202258203123958\", \"ID00219637202258203123958\", \"ID00219637202258203123958\", \"ID00219637202258203123958\", \"ID00219637202258203123958\", \"ID00219637202258203123958\", \"ID00219637202258203123958\", \"ID00222637202259066229764\", \"ID00222637202259066229764\", \"ID00222637202259066229764\", \"ID00222637202259066229764\", \"ID00222637202259066229764\", \"ID00222637202259066229764\", \"ID00222637202259066229764\", \"ID00222637202259066229764\", \"ID00222637202259066229764\", \"ID00224637202259281193413\", \"ID00224637202259281193413\", \"ID00224637202259281193413\", \"ID00224637202259281193413\", \"ID00224637202259281193413\", \"ID00224637202259281193413\", \"ID00224637202259281193413\", \"ID00224637202259281193413\", \"ID00224637202259281193413\", \"ID00229637202260254240583\", \"ID00229637202260254240583\", \"ID00229637202260254240583\", \"ID00229637202260254240583\", \"ID00229637202260254240583\", \"ID00229637202260254240583\", \"ID00229637202260254240583\", \"ID00229637202260254240583\", \"ID00229637202260254240583\", \"ID00229637202260254240583\", \"ID00233637202260580149633\", \"ID00233637202260580149633\", \"ID00233637202260580149633\", \"ID00233637202260580149633\", \"ID00233637202260580149633\", \"ID00233637202260580149633\", \"ID00233637202260580149633\", \"ID00233637202260580149633\", \"ID00233637202260580149633\", \"ID00234637202261078001846\", \"ID00234637202261078001846\", \"ID00234637202261078001846\", \"ID00234637202261078001846\", \"ID00234637202261078001846\", \"ID00234637202261078001846\", \"ID00234637202261078001846\", \"ID00234637202261078001846\", \"ID00235637202261451839085\", \"ID00235637202261451839085\", \"ID00235637202261451839085\", \"ID00235637202261451839085\", \"ID00235637202261451839085\", \"ID00235637202261451839085\", \"ID00235637202261451839085\", \"ID00235637202261451839085\", \"ID00235637202261451839085\", \"ID00240637202264138860065\", \"ID00240637202264138860065\", \"ID00240637202264138860065\", \"ID00240637202264138860065\", \"ID00240637202264138860065\", \"ID00240637202264138860065\", \"ID00240637202264138860065\", \"ID00240637202264138860065\", \"ID00240637202264138860065\", \"ID00242637202264759739921\", \"ID00242637202264759739921\", \"ID00242637202264759739921\", \"ID00242637202264759739921\", \"ID00242637202264759739921\", \"ID00242637202264759739921\", \"ID00242637202264759739921\", \"ID00242637202264759739921\", \"ID00242637202264759739921\", \"ID00249637202266730854017\", \"ID00249637202266730854017\", \"ID00249637202266730854017\", \"ID00249637202266730854017\", \"ID00249637202266730854017\", \"ID00249637202266730854017\", \"ID00249637202266730854017\", \"ID00249637202266730854017\", \"ID00251637202267455595113\", \"ID00251637202267455595113\", \"ID00251637202267455595113\", \"ID00251637202267455595113\", \"ID00251637202267455595113\", \"ID00251637202267455595113\", \"ID00251637202267455595113\", \"ID00251637202267455595113\", \"ID00251637202267455595113\", \"ID00273637202271319294586\", \"ID00273637202271319294586\", \"ID00273637202271319294586\", \"ID00273637202271319294586\", \"ID00273637202271319294586\", \"ID00273637202271319294586\", \"ID00273637202271319294586\", \"ID00273637202271319294586\", \"ID00273637202271319294586\", \"ID00276637202271694539978\", \"ID00276637202271694539978\", \"ID00276637202271694539978\", \"ID00276637202271694539978\", \"ID00276637202271694539978\", \"ID00276637202271694539978\", \"ID00276637202271694539978\", \"ID00279637202272164826258\", \"ID00279637202272164826258\", \"ID00279637202272164826258\", \"ID00279637202272164826258\", \"ID00279637202272164826258\", \"ID00279637202272164826258\", \"ID00279637202272164826258\", \"ID00279637202272164826258\", \"ID00279637202272164826258\", \"ID00283637202278714365037\", \"ID00283637202278714365037\", \"ID00283637202278714365037\", \"ID00283637202278714365037\", \"ID00283637202278714365037\", \"ID00283637202278714365037\", \"ID00283637202278714365037\", \"ID00283637202278714365037\", \"ID00283637202278714365037\", \"ID00290637202279304677843\", \"ID00290637202279304677843\", \"ID00290637202279304677843\", \"ID00290637202279304677843\", \"ID00290637202279304677843\", \"ID00290637202279304677843\", \"ID00290637202279304677843\", \"ID00290637202279304677843\", \"ID00291637202279398396106\", \"ID00291637202279398396106\", \"ID00291637202279398396106\", \"ID00291637202279398396106\", \"ID00291637202279398396106\", \"ID00291637202279398396106\", \"ID00291637202279398396106\", \"ID00291637202279398396106\", \"ID00291637202279398396106\", \"ID00294637202279614924243\", \"ID00294637202279614924243\", \"ID00294637202279614924243\", \"ID00294637202279614924243\", \"ID00294637202279614924243\", \"ID00294637202279614924243\", \"ID00294637202279614924243\", \"ID00294637202279614924243\", \"ID00294637202279614924243\", \"ID00296637202279895784347\", \"ID00296637202279895784347\", \"ID00296637202279895784347\", \"ID00296637202279895784347\", \"ID00296637202279895784347\", \"ID00296637202279895784347\", \"ID00296637202279895784347\", \"ID00296637202279895784347\", \"ID00299637202280383305867\", \"ID00299637202280383305867\", \"ID00299637202280383305867\", \"ID00299637202280383305867\", \"ID00299637202280383305867\", \"ID00299637202280383305867\", \"ID00299637202280383305867\", \"ID00299637202280383305867\", \"ID00299637202280383305867\", \"ID00305637202281772703145\", \"ID00305637202281772703145\", \"ID00305637202281772703145\", \"ID00305637202281772703145\", \"ID00305637202281772703145\", \"ID00305637202281772703145\", \"ID00305637202281772703145\", \"ID00305637202281772703145\", \"ID00305637202281772703145\", \"ID00307637202282126172865\", \"ID00307637202282126172865\", \"ID00307637202282126172865\", \"ID00307637202282126172865\", \"ID00307637202282126172865\", \"ID00307637202282126172865\", \"ID00307637202282126172865\", \"ID00307637202282126172865\", \"ID00307637202282126172865\", \"ID00309637202282195513787\", \"ID00309637202282195513787\", \"ID00309637202282195513787\", \"ID00309637202282195513787\", \"ID00309637202282195513787\", \"ID00309637202282195513787\", \"ID00309637202282195513787\", \"ID00309637202282195513787\", \"ID00309637202282195513787\", \"ID00317637202283194142136\", \"ID00317637202283194142136\", \"ID00317637202283194142136\", \"ID00317637202283194142136\", \"ID00317637202283194142136\", \"ID00317637202283194142136\", \"ID00317637202283194142136\", \"ID00317637202283194142136\", \"ID00319637202283897208687\", \"ID00319637202283897208687\", \"ID00319637202283897208687\", \"ID00319637202283897208687\", \"ID00319637202283897208687\", \"ID00319637202283897208687\", \"ID00319637202283897208687\", \"ID00319637202283897208687\", \"ID00319637202283897208687\", \"ID00322637202284842245491\", \"ID00322637202284842245491\", \"ID00322637202284842245491\", \"ID00322637202284842245491\", \"ID00322637202284842245491\", \"ID00322637202284842245491\", \"ID00322637202284842245491\", \"ID00322637202284842245491\", \"ID00322637202284842245491\", \"ID00323637202285211956970\", \"ID00323637202285211956970\", \"ID00323637202285211956970\", \"ID00323637202285211956970\", \"ID00323637202285211956970\", \"ID00323637202285211956970\", \"ID00323637202285211956970\", \"ID00323637202285211956970\", \"ID00329637202285906759848\", \"ID00329637202285906759848\", \"ID00329637202285906759848\", \"ID00329637202285906759848\", \"ID00329637202285906759848\", \"ID00329637202285906759848\", \"ID00329637202285906759848\", \"ID00329637202285906759848\", \"ID00329637202285906759848\", \"ID00331637202286306023714\", \"ID00331637202286306023714\", \"ID00331637202286306023714\", \"ID00331637202286306023714\", \"ID00331637202286306023714\", \"ID00331637202286306023714\", \"ID00331637202286306023714\", \"ID00331637202286306023714\", \"ID00331637202286306023714\", \"ID00335637202286784464927\", \"ID00335637202286784464927\", \"ID00335637202286784464927\", \"ID00335637202286784464927\", \"ID00335637202286784464927\", \"ID00335637202286784464927\", \"ID00335637202286784464927\", \"ID00335637202286784464927\", \"ID00335637202286784464927\", \"ID00336637202286801879145\", \"ID00336637202286801879145\", \"ID00336637202286801879145\", \"ID00336637202286801879145\", \"ID00336637202286801879145\", \"ID00336637202286801879145\", \"ID00336637202286801879145\", \"ID00336637202286801879145\", \"ID00337637202286839091062\", \"ID00337637202286839091062\", \"ID00337637202286839091062\", \"ID00337637202286839091062\", \"ID00337637202286839091062\", \"ID00337637202286839091062\", \"ID00337637202286839091062\", \"ID00337637202286839091062\", \"ID00337637202286839091062\", \"ID00339637202287377736231\", \"ID00339637202287377736231\", \"ID00339637202287377736231\", \"ID00339637202287377736231\", \"ID00339637202287377736231\", \"ID00339637202287377736231\", \"ID00339637202287377736231\", \"ID00339637202287377736231\", \"ID00339637202287377736231\", \"ID00340637202287399835821\", \"ID00340637202287399835821\", \"ID00340637202287399835821\", \"ID00340637202287399835821\", \"ID00340637202287399835821\", \"ID00340637202287399835821\", \"ID00340637202287399835821\", \"ID00340637202287399835821\", \"ID00340637202287399835821\", \"ID00342637202287526592911\", \"ID00342637202287526592911\", \"ID00342637202287526592911\", \"ID00342637202287526592911\", \"ID00342637202287526592911\", \"ID00342637202287526592911\", \"ID00342637202287526592911\", \"ID00342637202287526592911\", \"ID00342637202287526592911\", \"ID00344637202287684217717\", \"ID00344637202287684217717\", \"ID00344637202287684217717\", \"ID00344637202287684217717\", \"ID00344637202287684217717\", \"ID00344637202287684217717\", \"ID00344637202287684217717\", \"ID00351637202289476567312\", \"ID00351637202289476567312\", \"ID00351637202289476567312\", \"ID00351637202289476567312\", \"ID00351637202289476567312\", \"ID00351637202289476567312\", \"ID00351637202289476567312\", \"ID00351637202289476567312\", \"ID00351637202289476567312\", \"ID00355637202295106567614\", \"ID00355637202295106567614\", \"ID00355637202295106567614\", \"ID00355637202295106567614\", \"ID00355637202295106567614\", \"ID00355637202295106567614\", \"ID00355637202295106567614\", \"ID00355637202295106567614\", \"ID00355637202295106567614\", \"ID00358637202295388077032\", \"ID00358637202295388077032\", \"ID00358637202295388077032\", \"ID00358637202295388077032\", \"ID00358637202295388077032\", \"ID00358637202295388077032\", \"ID00358637202295388077032\", \"ID00358637202295388077032\", \"ID00360637202295712204040\", \"ID00360637202295712204040\", \"ID00360637202295712204040\", \"ID00360637202295712204040\", \"ID00360637202295712204040\", \"ID00360637202295712204040\", \"ID00360637202295712204040\", \"ID00360637202295712204040\", \"ID00360637202295712204040\", \"ID00364637202296074419422\", \"ID00364637202296074419422\", \"ID00364637202296074419422\", \"ID00364637202296074419422\", \"ID00364637202296074419422\", \"ID00364637202296074419422\", \"ID00364637202296074419422\", \"ID00364637202296074419422\", \"ID00364637202296074419422\", \"ID00365637202296085035729\", \"ID00365637202296085035729\", \"ID00365637202296085035729\", \"ID00365637202296085035729\", \"ID00365637202296085035729\", \"ID00365637202296085035729\", \"ID00365637202296085035729\", \"ID00365637202296085035729\", \"ID00368637202296470751086\", \"ID00368637202296470751086\", \"ID00368637202296470751086\", \"ID00368637202296470751086\", \"ID00368637202296470751086\", \"ID00368637202296470751086\", \"ID00368637202296470751086\", \"ID00368637202296470751086\", \"ID00368637202296470751086\", \"ID00370637202296737666151\", \"ID00370637202296737666151\", \"ID00370637202296737666151\", \"ID00370637202296737666151\", \"ID00370637202296737666151\", \"ID00370637202296737666151\", \"ID00370637202296737666151\", \"ID00370637202296737666151\", \"ID00370637202296737666151\", \"ID00371637202296828615743\", \"ID00371637202296828615743\", \"ID00371637202296828615743\", \"ID00371637202296828615743\", \"ID00371637202296828615743\", \"ID00371637202296828615743\", \"ID00371637202296828615743\", \"ID00371637202296828615743\", \"ID00371637202296828615743\", \"ID00376637202297677828573\", \"ID00376637202297677828573\", \"ID00376637202297677828573\", \"ID00376637202297677828573\", \"ID00376637202297677828573\", \"ID00376637202297677828573\", \"ID00376637202297677828573\", \"ID00376637202297677828573\", \"ID00376637202297677828573\", \"ID00378637202298597306391\", \"ID00378637202298597306391\", \"ID00378637202298597306391\", \"ID00378637202298597306391\", \"ID00378637202298597306391\", \"ID00378637202298597306391\", \"ID00378637202298597306391\", \"ID00378637202298597306391\", \"ID00378637202298597306391\", \"ID00381637202299644114027\", \"ID00381637202299644114027\", \"ID00381637202299644114027\", \"ID00381637202299644114027\", \"ID00381637202299644114027\", \"ID00381637202299644114027\", \"ID00381637202299644114027\", \"ID00388637202301028491611\", \"ID00388637202301028491611\", \"ID00388637202301028491611\", \"ID00388637202301028491611\", \"ID00388637202301028491611\", \"ID00388637202301028491611\", \"ID00388637202301028491611\", \"ID00388637202301028491611\", \"ID00388637202301028491611\", \"ID00388637202301028491611\", \"ID00392637202302319160044\", \"ID00392637202302319160044\", \"ID00392637202302319160044\", \"ID00392637202302319160044\", \"ID00392637202302319160044\", \"ID00392637202302319160044\", \"ID00392637202302319160044\", \"ID00392637202302319160044\", \"ID00392637202302319160044\", \"ID00393637202302431697467\", \"ID00393637202302431697467\", \"ID00393637202302431697467\", \"ID00393637202302431697467\", \"ID00393637202302431697467\", \"ID00393637202302431697467\", \"ID00393637202302431697467\", \"ID00393637202302431697467\", \"ID00393637202302431697467\", \"ID00398637202303897337979\", \"ID00398637202303897337979\", \"ID00398637202303897337979\", \"ID00398637202303897337979\", \"ID00398637202303897337979\", \"ID00398637202303897337979\", \"ID00398637202303897337979\", \"ID00398637202303897337979\", \"ID00400637202305055099402\", \"ID00400637202305055099402\", \"ID00400637202305055099402\", \"ID00400637202305055099402\", \"ID00400637202305055099402\", \"ID00400637202305055099402\", \"ID00400637202305055099402\", \"ID00400637202305055099402\", \"ID00400637202305055099402\", \"ID00400637202305055099402\", \"ID00407637202308788732304\", \"ID00407637202308788732304\", \"ID00407637202308788732304\", \"ID00407637202308788732304\", \"ID00407637202308788732304\", \"ID00407637202308788732304\", \"ID00407637202308788732304\", \"ID00407637202308788732304\", \"ID00407637202308788732304\", \"ID00408637202308839708961\", \"ID00408637202308839708961\", \"ID00408637202308839708961\", \"ID00408637202308839708961\", \"ID00408637202308839708961\", \"ID00408637202308839708961\", \"ID00408637202308839708961\", \"ID00408637202308839708961\", \"ID00411637202309374271828\", \"ID00411637202309374271828\", \"ID00411637202309374271828\", \"ID00411637202309374271828\", \"ID00411637202309374271828\", \"ID00411637202309374271828\", \"ID00411637202309374271828\", \"ID00411637202309374271828\", \"ID00411637202309374271828\", \"ID00414637202310318891556\", \"ID00414637202310318891556\", \"ID00414637202310318891556\", \"ID00414637202310318891556\", \"ID00414637202310318891556\", \"ID00414637202310318891556\", \"ID00414637202310318891556\", \"ID00414637202310318891556\", \"ID00414637202310318891556\", \"ID00417637202310901214011\", \"ID00417637202310901214011\", \"ID00417637202310901214011\", \"ID00417637202310901214011\", \"ID00417637202310901214011\", \"ID00417637202310901214011\", \"ID00417637202310901214011\", \"ID00417637202310901214011\", \"ID00417637202310901214011\", \"ID00419637202311204720264\", \"ID00419637202311204720264\", \"ID00419637202311204720264\", \"ID00419637202311204720264\", \"ID00419637202311204720264\", \"ID00419637202311204720264\", \"ID00419637202311204720264\", \"ID00419637202311204720264\", \"ID00419637202311204720264\", \"ID00421637202311550012437\", \"ID00421637202311550012437\", \"ID00421637202311550012437\", \"ID00421637202311550012437\", \"ID00421637202311550012437\", \"ID00421637202311550012437\", \"ID00421637202311550012437\", \"ID00421637202311550012437\", \"ID00421637202311550012437\", \"ID00421637202311550012437\", \"ID00422637202311677017371\", \"ID00422637202311677017371\", \"ID00422637202311677017371\", \"ID00422637202311677017371\", \"ID00422637202311677017371\", \"ID00422637202311677017371\", \"ID00422637202311677017371\", \"ID00422637202311677017371\", \"ID00423637202312137826377\", \"ID00423637202312137826377\", \"ID00423637202312137826377\", \"ID00423637202312137826377\", \"ID00423637202312137826377\", \"ID00423637202312137826377\", \"ID00423637202312137826377\", \"ID00423637202312137826377\", \"ID00423637202312137826377\", \"ID00426637202313170790466\", \"ID00426637202313170790466\", \"ID00426637202313170790466\", \"ID00426637202313170790466\", \"ID00426637202313170790466\", \"ID00426637202313170790466\", \"ID00426637202313170790466\", \"ID00426637202313170790466\", \"ID00426637202313170790466\"], \"yaxis\": \"y\"}],                        {\"coloraxis\": {\"colorbar\": {\"title\": {\"text\": \"FVC\"}}, \"colorscale\": [[0.0, \"#0d0887\"], [0.1111111111111111, \"#46039f\"], [0.2222222222222222, \"#7201a8\"], [0.3333333333333333, \"#9c179e\"], [0.4444444444444444, \"#bd3786\"], [0.5555555555555556, \"#d8576b\"], [0.6666666666666666, \"#ed7953\"], [0.7777777777777778, \"#fb9f3a\"], [0.8888888888888888, \"#fdca26\"], [1.0, \"#f0f921\"]]}, \"legend\": {\"tracegroupgap\": 0}, \"margin\": {\"t\": 60}, \"template\": {\"data\": {\"bar\": [{\"error_x\": {\"color\": \"#2a3f5f\"}, \"error_y\": {\"color\": \"#2a3f5f\"}, \"marker\": {\"line\": {\"color\": \"#E5ECF6\", \"width\": 0.5}}, \"type\": \"bar\"}], \"barpolar\": [{\"marker\": {\"line\": {\"color\": \"#E5ECF6\", \"width\": 0.5}}, \"type\": \"barpolar\"}], \"carpet\": [{\"aaxis\": {\"endlinecolor\": \"#2a3f5f\", \"gridcolor\": \"white\", \"linecolor\": \"white\", \"minorgridcolor\": \"white\", \"startlinecolor\": \"#2a3f5f\"}, \"baxis\": {\"endlinecolor\": \"#2a3f5f\", \"gridcolor\": \"white\", \"linecolor\": \"white\", \"minorgridcolor\": \"white\", \"startlinecolor\": \"#2a3f5f\"}, \"type\": \"carpet\"}], \"choropleth\": [{\"colorbar\": {\"outlinewidth\": 0, \"ticks\": \"\"}, \"type\": \"choropleth\"}], \"contour\": [{\"colorbar\": {\"outlinewidth\": 0, \"ticks\": \"\"}, \"colorscale\": [[0.0, \"#0d0887\"], [0.1111111111111111, \"#46039f\"], [0.2222222222222222, \"#7201a8\"], [0.3333333333333333, \"#9c179e\"], [0.4444444444444444, \"#bd3786\"], [0.5555555555555556, \"#d8576b\"], [0.6666666666666666, \"#ed7953\"], [0.7777777777777778, \"#fb9f3a\"], [0.8888888888888888, \"#fdca26\"], [1.0, \"#f0f921\"]], \"type\": \"contour\"}], \"contourcarpet\": [{\"colorbar\": {\"outlinewidth\": 0, \"ticks\": \"\"}, \"type\": \"contourcarpet\"}], \"heatmap\": [{\"colorbar\": {\"outlinewidth\": 0, \"ticks\": \"\"}, \"colorscale\": [[0.0, \"#0d0887\"], [0.1111111111111111, \"#46039f\"], [0.2222222222222222, \"#7201a8\"], [0.3333333333333333, \"#9c179e\"], [0.4444444444444444, \"#bd3786\"], [0.5555555555555556, \"#d8576b\"], [0.6666666666666666, \"#ed7953\"], [0.7777777777777778, \"#fb9f3a\"], [0.8888888888888888, \"#fdca26\"], [1.0, \"#f0f921\"]], \"type\": \"heatmap\"}], \"heatmapgl\": [{\"colorbar\": {\"outlinewidth\": 0, \"ticks\": \"\"}, \"colorscale\": [[0.0, \"#0d0887\"], [0.1111111111111111, \"#46039f\"], [0.2222222222222222, \"#7201a8\"], [0.3333333333333333, \"#9c179e\"], [0.4444444444444444, \"#bd3786\"], [0.5555555555555556, \"#d8576b\"], [0.6666666666666666, \"#ed7953\"], [0.7777777777777778, \"#fb9f3a\"], [0.8888888888888888, \"#fdca26\"], [1.0, \"#f0f921\"]], \"type\": \"heatmapgl\"}], \"histogram\": [{\"marker\": {\"colorbar\": {\"outlinewidth\": 0, \"ticks\": \"\"}}, \"type\": \"histogram\"}], \"histogram2d\": [{\"colorbar\": {\"outlinewidth\": 0, \"ticks\": \"\"}, \"colorscale\": [[0.0, \"#0d0887\"], [0.1111111111111111, \"#46039f\"], [0.2222222222222222, \"#7201a8\"], [0.3333333333333333, \"#9c179e\"], [0.4444444444444444, \"#bd3786\"], [0.5555555555555556, \"#d8576b\"], [0.6666666666666666, \"#ed7953\"], [0.7777777777777778, \"#fb9f3a\"], [0.8888888888888888, \"#fdca26\"], [1.0, \"#f0f921\"]], \"type\": \"histogram2d\"}], \"histogram2dcontour\": [{\"colorbar\": {\"outlinewidth\": 0, \"ticks\": \"\"}, \"colorscale\": [[0.0, \"#0d0887\"], [0.1111111111111111, \"#46039f\"], [0.2222222222222222, \"#7201a8\"], [0.3333333333333333, \"#9c179e\"], [0.4444444444444444, \"#bd3786\"], [0.5555555555555556, \"#d8576b\"], [0.6666666666666666, \"#ed7953\"], [0.7777777777777778, \"#fb9f3a\"], [0.8888888888888888, \"#fdca26\"], [1.0, \"#f0f921\"]], \"type\": \"histogram2dcontour\"}], \"mesh3d\": [{\"colorbar\": {\"outlinewidth\": 0, \"ticks\": \"\"}, \"type\": \"mesh3d\"}], \"parcoords\": [{\"line\": {\"colorbar\": {\"outlinewidth\": 0, \"ticks\": \"\"}}, \"type\": \"parcoords\"}], \"pie\": [{\"automargin\": true, \"type\": \"pie\"}], \"scatter\": [{\"marker\": {\"colorbar\": {\"outlinewidth\": 0, \"ticks\": \"\"}}, \"type\": \"scatter\"}], \"scatter3d\": [{\"line\": {\"colorbar\": {\"outlinewidth\": 0, \"ticks\": \"\"}}, \"marker\": {\"colorbar\": {\"outlinewidth\": 0, \"ticks\": \"\"}}, \"type\": \"scatter3d\"}], \"scattercarpet\": [{\"marker\": {\"colorbar\": {\"outlinewidth\": 0, \"ticks\": \"\"}}, \"type\": \"scattercarpet\"}], \"scattergeo\": [{\"marker\": {\"colorbar\": {\"outlinewidth\": 0, \"ticks\": \"\"}}, \"type\": \"scattergeo\"}], \"scattergl\": [{\"marker\": {\"colorbar\": {\"outlinewidth\": 0, \"ticks\": \"\"}}, \"type\": \"scattergl\"}], \"scattermapbox\": [{\"marker\": {\"colorbar\": {\"outlinewidth\": 0, \"ticks\": \"\"}}, \"type\": \"scattermapbox\"}], \"scatterpolar\": [{\"marker\": {\"colorbar\": {\"outlinewidth\": 0, \"ticks\": \"\"}}, \"type\": \"scatterpolar\"}], \"scatterpolargl\": [{\"marker\": {\"colorbar\": {\"outlinewidth\": 0, \"ticks\": \"\"}}, \"type\": \"scatterpolargl\"}], \"scatterternary\": [{\"marker\": {\"colorbar\": {\"outlinewidth\": 0, \"ticks\": \"\"}}, \"type\": \"scatterternary\"}], \"surface\": [{\"colorbar\": {\"outlinewidth\": 0, \"ticks\": \"\"}, \"colorscale\": [[0.0, \"#0d0887\"], [0.1111111111111111, \"#46039f\"], [0.2222222222222222, \"#7201a8\"], [0.3333333333333333, \"#9c179e\"], [0.4444444444444444, \"#bd3786\"], [0.5555555555555556, \"#d8576b\"], [0.6666666666666666, \"#ed7953\"], [0.7777777777777778, \"#fb9f3a\"], [0.8888888888888888, \"#fdca26\"], [1.0, \"#f0f921\"]], \"type\": \"surface\"}], \"table\": [{\"cells\": {\"fill\": {\"color\": \"#EBF0F8\"}, \"line\": {\"color\": \"white\"}}, \"header\": {\"fill\": {\"color\": \"#C8D4E3\"}, \"line\": {\"color\": \"white\"}}, \"type\": \"table\"}]}, \"layout\": {\"annotationdefaults\": {\"arrowcolor\": \"#2a3f5f\", \"arrowhead\": 0, \"arrowwidth\": 1}, \"autotypenumbers\": \"strict\", \"coloraxis\": {\"colorbar\": {\"outlinewidth\": 0, \"ticks\": \"\"}}, \"colorscale\": {\"diverging\": [[0, \"#8e0152\"], [0.1, \"#c51b7d\"], [0.2, \"#de77ae\"], [0.3, \"#f1b6da\"], [0.4, \"#fde0ef\"], [0.5, \"#f7f7f7\"], [0.6, \"#e6f5d0\"], [0.7, \"#b8e186\"], [0.8, \"#7fbc41\"], [0.9, \"#4d9221\"], [1, \"#276419\"]], \"sequential\": [[0.0, \"#0d0887\"], [0.1111111111111111, \"#46039f\"], [0.2222222222222222, \"#7201a8\"], [0.3333333333333333, \"#9c179e\"], [0.4444444444444444, \"#bd3786\"], [0.5555555555555556, \"#d8576b\"], [0.6666666666666666, \"#ed7953\"], [0.7777777777777778, \"#fb9f3a\"], [0.8888888888888888, \"#fdca26\"], [1.0, \"#f0f921\"]], \"sequentialminus\": [[0.0, \"#0d0887\"], [0.1111111111111111, \"#46039f\"], [0.2222222222222222, \"#7201a8\"], [0.3333333333333333, \"#9c179e\"], [0.4444444444444444, \"#bd3786\"], [0.5555555555555556, \"#d8576b\"], [0.6666666666666666, \"#ed7953\"], [0.7777777777777778, \"#fb9f3a\"], [0.8888888888888888, \"#fdca26\"], [1.0, \"#f0f921\"]]}, \"colorway\": [\"#636efa\", \"#EF553B\", \"#00cc96\", \"#ab63fa\", \"#FFA15A\", \"#19d3f3\", \"#FF6692\", \"#B6E880\", \"#FF97FF\", \"#FECB52\"], \"font\": {\"color\": \"#2a3f5f\"}, \"geo\": {\"bgcolor\": \"white\", \"lakecolor\": \"white\", \"landcolor\": \"#E5ECF6\", \"showlakes\": true, \"showland\": true, \"subunitcolor\": \"white\"}, \"hoverlabel\": {\"align\": \"left\"}, \"hovermode\": \"closest\", \"mapbox\": {\"style\": \"light\"}, \"paper_bgcolor\": \"white\", \"plot_bgcolor\": \"#E5ECF6\", \"polar\": {\"angularaxis\": {\"gridcolor\": \"white\", \"linecolor\": \"white\", \"ticks\": \"\"}, \"bgcolor\": \"#E5ECF6\", \"radialaxis\": {\"gridcolor\": \"white\", \"linecolor\": \"white\", \"ticks\": \"\"}}, \"scene\": {\"xaxis\": {\"backgroundcolor\": \"#E5ECF6\", \"gridcolor\": \"white\", \"gridwidth\": 2, \"linecolor\": \"white\", \"showbackground\": true, \"ticks\": \"\", \"zerolinecolor\": \"white\"}, \"yaxis\": {\"backgroundcolor\": \"#E5ECF6\", \"gridcolor\": \"white\", \"gridwidth\": 2, \"linecolor\": \"white\", \"showbackground\": true, \"ticks\": \"\", \"zerolinecolor\": \"white\"}, \"zaxis\": {\"backgroundcolor\": \"#E5ECF6\", \"gridcolor\": \"white\", \"gridwidth\": 2, \"linecolor\": \"white\", \"showbackground\": true, \"ticks\": \"\", \"zerolinecolor\": \"white\"}}, \"shapedefaults\": {\"line\": {\"color\": \"#2a3f5f\"}}, \"ternary\": {\"aaxis\": {\"gridcolor\": \"white\", \"linecolor\": \"white\", \"ticks\": \"\"}, \"baxis\": {\"gridcolor\": \"white\", \"linecolor\": \"white\", \"ticks\": \"\"}, \"bgcolor\": \"#E5ECF6\", \"caxis\": {\"gridcolor\": \"white\", \"linecolor\": \"white\", \"ticks\": \"\"}}, \"title\": {\"x\": 0.05}, \"xaxis\": {\"automargin\": true, \"gridcolor\": \"white\", \"linecolor\": \"white\", \"ticks\": \"\", \"title\": {\"standoff\": 15}, \"zerolinecolor\": \"white\", \"zerolinewidth\": 2}, \"yaxis\": {\"automargin\": true, \"gridcolor\": \"white\", \"linecolor\": \"white\", \"ticks\": \"\", \"title\": {\"standoff\": 15}, \"zerolinecolor\": \"white\", \"zerolinewidth\": 2}}}, \"xaxis\": {\"anchor\": \"y\", \"domain\": [0.0, 1.0], \"title\": {\"text\": \"Weeks\"}}, \"yaxis\": {\"anchor\": \"x\", \"domain\": [0.0, 1.0], \"title\": {\"text\": \"Patient\"}}},                        {\"responsive\": true}                    ).then(function(){\n",
       "                            \n",
       "var gd = document.getElementById('223fbb1d-654e-470b-8501-b145b793db5b');\n",
       "var x = new MutationObserver(function (mutations, observer) {{\n",
       "        var display = window.getComputedStyle(gd).display;\n",
       "        if (!display || display === 'none') {{\n",
       "            console.log([gd, 'removed!']);\n",
       "            Plotly.purge(gd);\n",
       "            observer.disconnect();\n",
       "        }}\n",
       "}});\n",
       "\n",
       "// Listen for the removal of the full notebook cells\n",
       "var notebookContainer = gd.closest('#notebook-container');\n",
       "if (notebookContainer) {{\n",
       "    x.observe(notebookContainer, {childList: true});\n",
       "}}\n",
       "\n",
       "// Listen for the clearing of the current output cell\n",
       "var outputEl = gd.closest('.output');\n",
       "if (outputEl) {{\n",
       "    x.observe(outputEl, {childList: true});\n",
       "}}\n",
       "\n",
       "                        })                };                });            </script>        </div>"
      ]
     },
     "metadata": {},
     "output_type": "display_data"
    }
   ],
   "source": [
    "px.scatter(male,x ='Weeks',y = 'Patient',color = 'FVC')"
   ]
  },
  {
   "cell_type": "code",
   "execution_count": 77,
   "id": "informational-davis",
   "metadata": {},
   "outputs": [
    {
     "data": {
      "application/vnd.plotly.v1+json": {
       "config": {
        "plotlyServerURL": "https://plot.ly"
       },
       "data": [
        {
         "hovertemplate": "Weeks=%{x}<br>Patient=%{y}<br>FVC=%{marker.color}<extra></extra>",
         "legendgroup": "",
         "marker": {
          "color": [
           2100,
           2047,
           2001,
           2054,
           2002,
           2116,
           1946,
           1808,
           1778,
           2297,
           2145,
           2245,
           2250,
           2096,
           2115,
           2058,
           1940,
           1861,
           1536,
           1368,
           1361,
           1465,
           1681,
           1461,
           1337,
           1304,
           1406,
           1375,
           1477,
           1399,
           1447,
           1466,
           1441,
           1414,
           1387,
           1370,
           1697,
           1569,
           1776,
           1718,
           1682,
           1624,
           1616,
           1520,
           1532,
           1641,
           1541,
           1529,
           1613,
           1615,
           1623,
           1469,
           1296,
           1185,
           1860,
           1901,
           1823,
           1799,
           1753,
           1780,
           1763,
           1718,
           1385,
           2918,
           2955,
           2873,
           2963,
           2885,
           2837,
           2975,
           2957,
           2875,
           3367,
           3303,
           3424,
           3442,
           3486,
           3076,
           3351,
           3461,
           3327,
           1674,
           1674,
           1766,
           1687,
           1586,
           1454,
           1406,
           1484,
           1566,
           1677,
           1781,
           1773,
           1771,
           1667,
           1643,
           1584,
           1533,
           1551,
           2220,
           2274,
           2174,
           2193,
           2241,
           2102,
           2024,
           1690,
           1648,
           1587,
           1503,
           1537,
           1436,
           1392,
           1351,
           1197,
           3247,
           3241,
           3226,
           3156,
           3160,
           2965,
           3105,
           2952,
           2686,
           2520,
           2474,
           2462,
           2486,
           2480,
           2527,
           2486,
           2471,
           2263,
           1970,
           2474,
           2205,
           2063,
           2155,
           2020,
           2272,
           2338,
           2388,
           1728,
           1929,
           1874,
           1831,
           1783,
           1829,
           1850,
           1653,
           1568,
           1401,
           1416,
           1424,
           1377,
           1450,
           1529,
           1456,
           1391,
           1285,
           1583,
           1001,
           997,
           1031,
           969,
           974,
           827,
           828,
           1885,
           1905,
           1905,
           1972,
           1851,
           1693,
           1833,
           1657,
           1662,
           1909,
           1977,
           2095,
           1841,
           1803,
           1732,
           2095,
           1813,
           1845,
           1399,
           1365,
           1349,
           1373,
           1331,
           1344,
           1313,
           1290,
           1188,
           1272,
           1481,
           1316,
           1334,
           1384,
           1384,
           1266,
           1424,
           1441,
           1563,
           1584,
           1647,
           1498,
           1487,
           1317,
           1315,
           1607,
           1938,
           1967,
           2018,
           2239,
           2064,
           1931,
           2044,
           2021,
           1015,
           1065,
           1019,
           1031,
           935,
           865,
           2080,
           1903,
           2133,
           2167,
           2044,
           1989,
           1965,
           1481,
           1648,
           1411,
           1335,
           1284,
           1371,
           1276,
           1528,
           1445,
           1438,
           1304,
           2276,
           2122,
           1970,
           2027,
           2108,
           2365,
           2360,
           2387,
           1880,
           1792,
           1841,
           1890,
           1803,
           1932,
           1750,
           1596,
           1409,
           1879,
           1860,
           1745,
           1765,
           1765,
           1919,
           1741,
           1612,
           1571,
           2849,
           2851,
           2798,
           2854,
           2891,
           2773,
           2871,
           2813,
           2701,
           1637,
           1623,
           1542,
           1507,
           1602,
           1520,
           1383,
           1492,
           1699,
           1511,
           1366,
           1389,
           1467,
           1324,
           1332,
           1593,
           1329,
           1315,
           837,
           3237,
           3064,
           3109,
           3246,
           3184,
           3121,
           3008,
           2862,
           3036,
           2184,
           1971,
           1793,
           1845,
           1734,
           1750,
           1992,
           1889,
           1892,
           1560,
           1546,
           1565,
           1471,
           1603,
           1584,
           1523,
           1412,
           1547
          ],
          "coloraxis": "coloraxis",
          "symbol": "circle"
         },
         "mode": "markers",
         "name": "",
         "orientation": "h",
         "showlegend": false,
         "type": "scatter",
         "x": [
          13,
          14,
          16,
          18,
          20,
          26,
          38,
          53,
          66,
          18,
          19,
          21,
          23,
          25,
          31,
          44,
          54,
          70,
          -3,
          3,
          5,
          7,
          9,
          15,
          27,
          39,
          55,
          9,
          9,
          11,
          13,
          15,
          21,
          33,
          47,
          61,
          -1,
          1,
          3,
          6,
          7,
          13,
          26,
          37,
          54,
          25,
          28,
          29,
          32,
          33,
          40,
          51,
          61,
          79,
          0,
          5,
          7,
          9,
          11,
          17,
          28,
          40,
          58,
          19,
          27,
          29,
          31,
          33,
          39,
          51,
          63,
          79,
          -5,
          6,
          8,
          9,
          12,
          18,
          30,
          42,
          58,
          48,
          49,
          51,
          53,
          55,
          61,
          73,
          85,
          102,
          44,
          48,
          50,
          52,
          54,
          61,
          72,
          84,
          100,
          34,
          36,
          37,
          39,
          41,
          47,
          59,
          11,
          12,
          14,
          17,
          18,
          24,
          36,
          48,
          64,
          44,
          48,
          50,
          52,
          54,
          60,
          73,
          84,
          100,
          12,
          16,
          18,
          20,
          23,
          28,
          40,
          53,
          66,
          38,
          44,
          46,
          48,
          50,
          56,
          68,
          79,
          96,
          4,
          12,
          14,
          15,
          18,
          24,
          36,
          48,
          65,
          11,
          12,
          14,
          16,
          18,
          24,
          36,
          48,
          64,
          13,
          17,
          19,
          21,
          23,
          29,
          54,
          69,
          14,
          15,
          18,
          19,
          21,
          27,
          40,
          50,
          67,
          9,
          11,
          13,
          15,
          17,
          23,
          35,
          47,
          63,
          2,
          4,
          6,
          8,
          10,
          16,
          28,
          40,
          56,
          14,
          15,
          17,
          19,
          20,
          27,
          38,
          51,
          67,
          1,
          3,
          5,
          7,
          15,
          29,
          41,
          55,
          13,
          14,
          16,
          19,
          20,
          26,
          39,
          51,
          3,
          5,
          8,
          10,
          12,
          31,
          48,
          50,
          52,
          54,
          56,
          62,
          74,
          86,
          102,
          4,
          6,
          8,
          10,
          12,
          18,
          30,
          42,
          58,
          21,
          22,
          24,
          26,
          28,
          34,
          45,
          57,
          4,
          6,
          8,
          9,
          12,
          18,
          30,
          42,
          57,
          0,
          4,
          6,
          8,
          10,
          16,
          28,
          40,
          57,
          28,
          32,
          35,
          36,
          38,
          44,
          56,
          68,
          84,
          23,
          25,
          27,
          28,
          30,
          36,
          48,
          62,
          76,
          79,
          35,
          36,
          38,
          40,
          42,
          48,
          59,
          72,
          87,
          48,
          50,
          52,
          54,
          56,
          63,
          74,
          86,
          102,
          42,
          47,
          49,
          51,
          53,
          59,
          71,
          82,
          99,
          0,
          6,
          8,
          11,
          12,
          18,
          31,
          42,
          58
         ],
         "xaxis": "x",
         "y": [
          "ID00019637202178323708467",
          "ID00019637202178323708467",
          "ID00019637202178323708467",
          "ID00019637202178323708467",
          "ID00019637202178323708467",
          "ID00019637202178323708467",
          "ID00019637202178323708467",
          "ID00019637202178323708467",
          "ID00019637202178323708467",
          "ID00020637202178344345685",
          "ID00020637202178344345685",
          "ID00020637202178344345685",
          "ID00020637202178344345685",
          "ID00020637202178344345685",
          "ID00020637202178344345685",
          "ID00020637202178344345685",
          "ID00020637202178344345685",
          "ID00020637202178344345685",
          "ID00023637202179104603099",
          "ID00023637202179104603099",
          "ID00023637202179104603099",
          "ID00023637202179104603099",
          "ID00023637202179104603099",
          "ID00023637202179104603099",
          "ID00023637202179104603099",
          "ID00023637202179104603099",
          "ID00023637202179104603099",
          "ID00048637202185016727717",
          "ID00048637202185016727717",
          "ID00048637202185016727717",
          "ID00048637202185016727717",
          "ID00048637202185016727717",
          "ID00048637202185016727717",
          "ID00048637202185016727717",
          "ID00048637202185016727717",
          "ID00048637202185016727717",
          "ID00051637202185848464638",
          "ID00051637202185848464638",
          "ID00051637202185848464638",
          "ID00051637202185848464638",
          "ID00051637202185848464638",
          "ID00051637202185848464638",
          "ID00051637202185848464638",
          "ID00051637202185848464638",
          "ID00051637202185848464638",
          "ID00075637202198610425520",
          "ID00075637202198610425520",
          "ID00075637202198610425520",
          "ID00075637202198610425520",
          "ID00075637202198610425520",
          "ID00075637202198610425520",
          "ID00075637202198610425520",
          "ID00075637202198610425520",
          "ID00075637202198610425520",
          "ID00078637202199415319443",
          "ID00078637202199415319443",
          "ID00078637202199415319443",
          "ID00078637202199415319443",
          "ID00078637202199415319443",
          "ID00078637202199415319443",
          "ID00078637202199415319443",
          "ID00078637202199415319443",
          "ID00078637202199415319443",
          "ID00082637202201836229724",
          "ID00082637202201836229724",
          "ID00082637202201836229724",
          "ID00082637202201836229724",
          "ID00082637202201836229724",
          "ID00082637202201836229724",
          "ID00082637202201836229724",
          "ID00082637202201836229724",
          "ID00082637202201836229724",
          "ID00086637202203494931510",
          "ID00086637202203494931510",
          "ID00086637202203494931510",
          "ID00086637202203494931510",
          "ID00086637202203494931510",
          "ID00086637202203494931510",
          "ID00086637202203494931510",
          "ID00086637202203494931510",
          "ID00086637202203494931510",
          "ID00123637202217151272140",
          "ID00123637202217151272140",
          "ID00123637202217151272140",
          "ID00123637202217151272140",
          "ID00123637202217151272140",
          "ID00123637202217151272140",
          "ID00123637202217151272140",
          "ID00123637202217151272140",
          "ID00123637202217151272140",
          "ID00127637202219096738943",
          "ID00127637202219096738943",
          "ID00127637202219096738943",
          "ID00127637202219096738943",
          "ID00127637202219096738943",
          "ID00127637202219096738943",
          "ID00127637202219096738943",
          "ID00127637202219096738943",
          "ID00127637202219096738943",
          "ID00128637202219474716089",
          "ID00128637202219474716089",
          "ID00128637202219474716089",
          "ID00128637202219474716089",
          "ID00128637202219474716089",
          "ID00128637202219474716089",
          "ID00128637202219474716089",
          "ID00130637202220059448013",
          "ID00130637202220059448013",
          "ID00130637202220059448013",
          "ID00130637202220059448013",
          "ID00130637202220059448013",
          "ID00130637202220059448013",
          "ID00130637202220059448013",
          "ID00130637202220059448013",
          "ID00130637202220059448013",
          "ID00149637202232704462834",
          "ID00149637202232704462834",
          "ID00149637202232704462834",
          "ID00149637202232704462834",
          "ID00149637202232704462834",
          "ID00149637202232704462834",
          "ID00149637202232704462834",
          "ID00149637202232704462834",
          "ID00149637202232704462834",
          "ID00169637202238024117706",
          "ID00169637202238024117706",
          "ID00169637202238024117706",
          "ID00169637202238024117706",
          "ID00169637202238024117706",
          "ID00169637202238024117706",
          "ID00169637202238024117706",
          "ID00169637202238024117706",
          "ID00169637202238024117706",
          "ID00170637202238079193844",
          "ID00170637202238079193844",
          "ID00170637202238079193844",
          "ID00170637202238079193844",
          "ID00170637202238079193844",
          "ID00170637202238079193844",
          "ID00170637202238079193844",
          "ID00170637202238079193844",
          "ID00170637202238079193844",
          "ID00192637202245493238298",
          "ID00192637202245493238298",
          "ID00192637202245493238298",
          "ID00192637202245493238298",
          "ID00192637202245493238298",
          "ID00192637202245493238298",
          "ID00192637202245493238298",
          "ID00192637202245493238298",
          "ID00192637202245493238298",
          "ID00221637202258717315571",
          "ID00221637202258717315571",
          "ID00221637202258717315571",
          "ID00221637202258717315571",
          "ID00221637202258717315571",
          "ID00221637202258717315571",
          "ID00221637202258717315571",
          "ID00221637202258717315571",
          "ID00221637202258717315571",
          "ID00225637202259339837603",
          "ID00225637202259339837603",
          "ID00225637202259339837603",
          "ID00225637202259339837603",
          "ID00225637202259339837603",
          "ID00225637202259339837603",
          "ID00225637202259339837603",
          "ID00225637202259339837603",
          "ID00228637202259965313869",
          "ID00228637202259965313869",
          "ID00228637202259965313869",
          "ID00228637202259965313869",
          "ID00228637202259965313869",
          "ID00228637202259965313869",
          "ID00228637202259965313869",
          "ID00228637202259965313869",
          "ID00228637202259965313869",
          "ID00232637202260377586117",
          "ID00232637202260377586117",
          "ID00232637202260377586117",
          "ID00232637202260377586117",
          "ID00232637202260377586117",
          "ID00232637202260377586117",
          "ID00232637202260377586117",
          "ID00232637202260377586117",
          "ID00232637202260377586117",
          "ID00241637202264294508775",
          "ID00241637202264294508775",
          "ID00241637202264294508775",
          "ID00241637202264294508775",
          "ID00241637202264294508775",
          "ID00241637202264294508775",
          "ID00241637202264294508775",
          "ID00241637202264294508775",
          "ID00241637202264294508775",
          "ID00248637202266698862378",
          "ID00248637202266698862378",
          "ID00248637202266698862378",
          "ID00248637202266698862378",
          "ID00248637202266698862378",
          "ID00248637202266698862378",
          "ID00248637202266698862378",
          "ID00248637202266698862378",
          "ID00248637202266698862378",
          "ID00255637202267923028520",
          "ID00255637202267923028520",
          "ID00255637202267923028520",
          "ID00255637202267923028520",
          "ID00255637202267923028520",
          "ID00255637202267923028520",
          "ID00255637202267923028520",
          "ID00255637202267923028520",
          "ID00264637202270643353440",
          "ID00264637202270643353440",
          "ID00264637202270643353440",
          "ID00264637202270643353440",
          "ID00264637202270643353440",
          "ID00264637202270643353440",
          "ID00264637202270643353440",
          "ID00264637202270643353440",
          "ID00267637202270790561585",
          "ID00267637202270790561585",
          "ID00267637202270790561585",
          "ID00267637202270790561585",
          "ID00267637202270790561585",
          "ID00267637202270790561585",
          "ID00275637202271440119890",
          "ID00275637202271440119890",
          "ID00275637202271440119890",
          "ID00275637202271440119890",
          "ID00275637202271440119890",
          "ID00275637202271440119890",
          "ID00275637202271440119890",
          "ID00275637202271440119890",
          "ID00275637202271440119890",
          "ID00285637202278913507108",
          "ID00285637202278913507108",
          "ID00285637202278913507108",
          "ID00285637202278913507108",
          "ID00285637202278913507108",
          "ID00285637202278913507108",
          "ID00285637202278913507108",
          "ID00285637202278913507108",
          "ID00285637202278913507108",
          "ID00288637202279148973731",
          "ID00288637202279148973731",
          "ID00288637202279148973731",
          "ID00288637202279148973731",
          "ID00288637202279148973731",
          "ID00288637202279148973731",
          "ID00288637202279148973731",
          "ID00288637202279148973731",
          "ID00298637202280361773446",
          "ID00298637202280361773446",
          "ID00298637202280361773446",
          "ID00298637202280361773446",
          "ID00298637202280361773446",
          "ID00298637202280361773446",
          "ID00298637202280361773446",
          "ID00298637202280361773446",
          "ID00298637202280361773446",
          "ID00312637202282607344793",
          "ID00312637202282607344793",
          "ID00312637202282607344793",
          "ID00312637202282607344793",
          "ID00312637202282607344793",
          "ID00312637202282607344793",
          "ID00312637202282607344793",
          "ID00312637202282607344793",
          "ID00312637202282607344793",
          "ID00341637202287410878488",
          "ID00341637202287410878488",
          "ID00341637202287410878488",
          "ID00341637202287410878488",
          "ID00341637202287410878488",
          "ID00341637202287410878488",
          "ID00341637202287410878488",
          "ID00341637202287410878488",
          "ID00341637202287410878488",
          "ID00343637202287577133798",
          "ID00343637202287577133798",
          "ID00343637202287577133798",
          "ID00343637202287577133798",
          "ID00343637202287577133798",
          "ID00343637202287577133798",
          "ID00343637202287577133798",
          "ID00343637202287577133798",
          "ID00343637202287577133798",
          "ID00343637202287577133798",
          "ID00367637202296290303449",
          "ID00367637202296290303449",
          "ID00367637202296290303449",
          "ID00367637202296290303449",
          "ID00367637202296290303449",
          "ID00367637202296290303449",
          "ID00367637202296290303449",
          "ID00367637202296290303449",
          "ID00367637202296290303449",
          "ID00383637202300493233675",
          "ID00383637202300493233675",
          "ID00383637202300493233675",
          "ID00383637202300493233675",
          "ID00383637202300493233675",
          "ID00383637202300493233675",
          "ID00383637202300493233675",
          "ID00383637202300493233675",
          "ID00383637202300493233675",
          "ID00401637202305320178010",
          "ID00401637202305320178010",
          "ID00401637202305320178010",
          "ID00401637202305320178010",
          "ID00401637202305320178010",
          "ID00401637202305320178010",
          "ID00401637202305320178010",
          "ID00401637202305320178010",
          "ID00401637202305320178010",
          "ID00405637202308359492977",
          "ID00405637202308359492977",
          "ID00405637202308359492977",
          "ID00405637202308359492977",
          "ID00405637202308359492977",
          "ID00405637202308359492977",
          "ID00405637202308359492977",
          "ID00405637202308359492977",
          "ID00405637202308359492977"
         ],
         "yaxis": "y"
        }
       ],
       "layout": {
        "coloraxis": {
         "colorbar": {
          "title": {
           "text": "FVC"
          }
         },
         "colorscale": [
          [
           0,
           "#0d0887"
          ],
          [
           0.1111111111111111,
           "#46039f"
          ],
          [
           0.2222222222222222,
           "#7201a8"
          ],
          [
           0.3333333333333333,
           "#9c179e"
          ],
          [
           0.4444444444444444,
           "#bd3786"
          ],
          [
           0.5555555555555556,
           "#d8576b"
          ],
          [
           0.6666666666666666,
           "#ed7953"
          ],
          [
           0.7777777777777778,
           "#fb9f3a"
          ],
          [
           0.8888888888888888,
           "#fdca26"
          ],
          [
           1,
           "#f0f921"
          ]
         ]
        },
        "legend": {
         "tracegroupgap": 0
        },
        "margin": {
         "t": 60
        },
        "template": {
         "data": {
          "bar": [
           {
            "error_x": {
             "color": "#2a3f5f"
            },
            "error_y": {
             "color": "#2a3f5f"
            },
            "marker": {
             "line": {
              "color": "#E5ECF6",
              "width": 0.5
             }
            },
            "type": "bar"
           }
          ],
          "barpolar": [
           {
            "marker": {
             "line": {
              "color": "#E5ECF6",
              "width": 0.5
             }
            },
            "type": "barpolar"
           }
          ],
          "carpet": [
           {
            "aaxis": {
             "endlinecolor": "#2a3f5f",
             "gridcolor": "white",
             "linecolor": "white",
             "minorgridcolor": "white",
             "startlinecolor": "#2a3f5f"
            },
            "baxis": {
             "endlinecolor": "#2a3f5f",
             "gridcolor": "white",
             "linecolor": "white",
             "minorgridcolor": "white",
             "startlinecolor": "#2a3f5f"
            },
            "type": "carpet"
           }
          ],
          "choropleth": [
           {
            "colorbar": {
             "outlinewidth": 0,
             "ticks": ""
            },
            "type": "choropleth"
           }
          ],
          "contour": [
           {
            "colorbar": {
             "outlinewidth": 0,
             "ticks": ""
            },
            "colorscale": [
             [
              0,
              "#0d0887"
             ],
             [
              0.1111111111111111,
              "#46039f"
             ],
             [
              0.2222222222222222,
              "#7201a8"
             ],
             [
              0.3333333333333333,
              "#9c179e"
             ],
             [
              0.4444444444444444,
              "#bd3786"
             ],
             [
              0.5555555555555556,
              "#d8576b"
             ],
             [
              0.6666666666666666,
              "#ed7953"
             ],
             [
              0.7777777777777778,
              "#fb9f3a"
             ],
             [
              0.8888888888888888,
              "#fdca26"
             ],
             [
              1,
              "#f0f921"
             ]
            ],
            "type": "contour"
           }
          ],
          "contourcarpet": [
           {
            "colorbar": {
             "outlinewidth": 0,
             "ticks": ""
            },
            "type": "contourcarpet"
           }
          ],
          "heatmap": [
           {
            "colorbar": {
             "outlinewidth": 0,
             "ticks": ""
            },
            "colorscale": [
             [
              0,
              "#0d0887"
             ],
             [
              0.1111111111111111,
              "#46039f"
             ],
             [
              0.2222222222222222,
              "#7201a8"
             ],
             [
              0.3333333333333333,
              "#9c179e"
             ],
             [
              0.4444444444444444,
              "#bd3786"
             ],
             [
              0.5555555555555556,
              "#d8576b"
             ],
             [
              0.6666666666666666,
              "#ed7953"
             ],
             [
              0.7777777777777778,
              "#fb9f3a"
             ],
             [
              0.8888888888888888,
              "#fdca26"
             ],
             [
              1,
              "#f0f921"
             ]
            ],
            "type": "heatmap"
           }
          ],
          "heatmapgl": [
           {
            "colorbar": {
             "outlinewidth": 0,
             "ticks": ""
            },
            "colorscale": [
             [
              0,
              "#0d0887"
             ],
             [
              0.1111111111111111,
              "#46039f"
             ],
             [
              0.2222222222222222,
              "#7201a8"
             ],
             [
              0.3333333333333333,
              "#9c179e"
             ],
             [
              0.4444444444444444,
              "#bd3786"
             ],
             [
              0.5555555555555556,
              "#d8576b"
             ],
             [
              0.6666666666666666,
              "#ed7953"
             ],
             [
              0.7777777777777778,
              "#fb9f3a"
             ],
             [
              0.8888888888888888,
              "#fdca26"
             ],
             [
              1,
              "#f0f921"
             ]
            ],
            "type": "heatmapgl"
           }
          ],
          "histogram": [
           {
            "marker": {
             "colorbar": {
              "outlinewidth": 0,
              "ticks": ""
             }
            },
            "type": "histogram"
           }
          ],
          "histogram2d": [
           {
            "colorbar": {
             "outlinewidth": 0,
             "ticks": ""
            },
            "colorscale": [
             [
              0,
              "#0d0887"
             ],
             [
              0.1111111111111111,
              "#46039f"
             ],
             [
              0.2222222222222222,
              "#7201a8"
             ],
             [
              0.3333333333333333,
              "#9c179e"
             ],
             [
              0.4444444444444444,
              "#bd3786"
             ],
             [
              0.5555555555555556,
              "#d8576b"
             ],
             [
              0.6666666666666666,
              "#ed7953"
             ],
             [
              0.7777777777777778,
              "#fb9f3a"
             ],
             [
              0.8888888888888888,
              "#fdca26"
             ],
             [
              1,
              "#f0f921"
             ]
            ],
            "type": "histogram2d"
           }
          ],
          "histogram2dcontour": [
           {
            "colorbar": {
             "outlinewidth": 0,
             "ticks": ""
            },
            "colorscale": [
             [
              0,
              "#0d0887"
             ],
             [
              0.1111111111111111,
              "#46039f"
             ],
             [
              0.2222222222222222,
              "#7201a8"
             ],
             [
              0.3333333333333333,
              "#9c179e"
             ],
             [
              0.4444444444444444,
              "#bd3786"
             ],
             [
              0.5555555555555556,
              "#d8576b"
             ],
             [
              0.6666666666666666,
              "#ed7953"
             ],
             [
              0.7777777777777778,
              "#fb9f3a"
             ],
             [
              0.8888888888888888,
              "#fdca26"
             ],
             [
              1,
              "#f0f921"
             ]
            ],
            "type": "histogram2dcontour"
           }
          ],
          "mesh3d": [
           {
            "colorbar": {
             "outlinewidth": 0,
             "ticks": ""
            },
            "type": "mesh3d"
           }
          ],
          "parcoords": [
           {
            "line": {
             "colorbar": {
              "outlinewidth": 0,
              "ticks": ""
             }
            },
            "type": "parcoords"
           }
          ],
          "pie": [
           {
            "automargin": true,
            "type": "pie"
           }
          ],
          "scatter": [
           {
            "marker": {
             "colorbar": {
              "outlinewidth": 0,
              "ticks": ""
             }
            },
            "type": "scatter"
           }
          ],
          "scatter3d": [
           {
            "line": {
             "colorbar": {
              "outlinewidth": 0,
              "ticks": ""
             }
            },
            "marker": {
             "colorbar": {
              "outlinewidth": 0,
              "ticks": ""
             }
            },
            "type": "scatter3d"
           }
          ],
          "scattercarpet": [
           {
            "marker": {
             "colorbar": {
              "outlinewidth": 0,
              "ticks": ""
             }
            },
            "type": "scattercarpet"
           }
          ],
          "scattergeo": [
           {
            "marker": {
             "colorbar": {
              "outlinewidth": 0,
              "ticks": ""
             }
            },
            "type": "scattergeo"
           }
          ],
          "scattergl": [
           {
            "marker": {
             "colorbar": {
              "outlinewidth": 0,
              "ticks": ""
             }
            },
            "type": "scattergl"
           }
          ],
          "scattermapbox": [
           {
            "marker": {
             "colorbar": {
              "outlinewidth": 0,
              "ticks": ""
             }
            },
            "type": "scattermapbox"
           }
          ],
          "scatterpolar": [
           {
            "marker": {
             "colorbar": {
              "outlinewidth": 0,
              "ticks": ""
             }
            },
            "type": "scatterpolar"
           }
          ],
          "scatterpolargl": [
           {
            "marker": {
             "colorbar": {
              "outlinewidth": 0,
              "ticks": ""
             }
            },
            "type": "scatterpolargl"
           }
          ],
          "scatterternary": [
           {
            "marker": {
             "colorbar": {
              "outlinewidth": 0,
              "ticks": ""
             }
            },
            "type": "scatterternary"
           }
          ],
          "surface": [
           {
            "colorbar": {
             "outlinewidth": 0,
             "ticks": ""
            },
            "colorscale": [
             [
              0,
              "#0d0887"
             ],
             [
              0.1111111111111111,
              "#46039f"
             ],
             [
              0.2222222222222222,
              "#7201a8"
             ],
             [
              0.3333333333333333,
              "#9c179e"
             ],
             [
              0.4444444444444444,
              "#bd3786"
             ],
             [
              0.5555555555555556,
              "#d8576b"
             ],
             [
              0.6666666666666666,
              "#ed7953"
             ],
             [
              0.7777777777777778,
              "#fb9f3a"
             ],
             [
              0.8888888888888888,
              "#fdca26"
             ],
             [
              1,
              "#f0f921"
             ]
            ],
            "type": "surface"
           }
          ],
          "table": [
           {
            "cells": {
             "fill": {
              "color": "#EBF0F8"
             },
             "line": {
              "color": "white"
             }
            },
            "header": {
             "fill": {
              "color": "#C8D4E3"
             },
             "line": {
              "color": "white"
             }
            },
            "type": "table"
           }
          ]
         },
         "layout": {
          "annotationdefaults": {
           "arrowcolor": "#2a3f5f",
           "arrowhead": 0,
           "arrowwidth": 1
          },
          "autotypenumbers": "strict",
          "coloraxis": {
           "colorbar": {
            "outlinewidth": 0,
            "ticks": ""
           }
          },
          "colorscale": {
           "diverging": [
            [
             0,
             "#8e0152"
            ],
            [
             0.1,
             "#c51b7d"
            ],
            [
             0.2,
             "#de77ae"
            ],
            [
             0.3,
             "#f1b6da"
            ],
            [
             0.4,
             "#fde0ef"
            ],
            [
             0.5,
             "#f7f7f7"
            ],
            [
             0.6,
             "#e6f5d0"
            ],
            [
             0.7,
             "#b8e186"
            ],
            [
             0.8,
             "#7fbc41"
            ],
            [
             0.9,
             "#4d9221"
            ],
            [
             1,
             "#276419"
            ]
           ],
           "sequential": [
            [
             0,
             "#0d0887"
            ],
            [
             0.1111111111111111,
             "#46039f"
            ],
            [
             0.2222222222222222,
             "#7201a8"
            ],
            [
             0.3333333333333333,
             "#9c179e"
            ],
            [
             0.4444444444444444,
             "#bd3786"
            ],
            [
             0.5555555555555556,
             "#d8576b"
            ],
            [
             0.6666666666666666,
             "#ed7953"
            ],
            [
             0.7777777777777778,
             "#fb9f3a"
            ],
            [
             0.8888888888888888,
             "#fdca26"
            ],
            [
             1,
             "#f0f921"
            ]
           ],
           "sequentialminus": [
            [
             0,
             "#0d0887"
            ],
            [
             0.1111111111111111,
             "#46039f"
            ],
            [
             0.2222222222222222,
             "#7201a8"
            ],
            [
             0.3333333333333333,
             "#9c179e"
            ],
            [
             0.4444444444444444,
             "#bd3786"
            ],
            [
             0.5555555555555556,
             "#d8576b"
            ],
            [
             0.6666666666666666,
             "#ed7953"
            ],
            [
             0.7777777777777778,
             "#fb9f3a"
            ],
            [
             0.8888888888888888,
             "#fdca26"
            ],
            [
             1,
             "#f0f921"
            ]
           ]
          },
          "colorway": [
           "#636efa",
           "#EF553B",
           "#00cc96",
           "#ab63fa",
           "#FFA15A",
           "#19d3f3",
           "#FF6692",
           "#B6E880",
           "#FF97FF",
           "#FECB52"
          ],
          "font": {
           "color": "#2a3f5f"
          },
          "geo": {
           "bgcolor": "white",
           "lakecolor": "white",
           "landcolor": "#E5ECF6",
           "showlakes": true,
           "showland": true,
           "subunitcolor": "white"
          },
          "hoverlabel": {
           "align": "left"
          },
          "hovermode": "closest",
          "mapbox": {
           "style": "light"
          },
          "paper_bgcolor": "white",
          "plot_bgcolor": "#E5ECF6",
          "polar": {
           "angularaxis": {
            "gridcolor": "white",
            "linecolor": "white",
            "ticks": ""
           },
           "bgcolor": "#E5ECF6",
           "radialaxis": {
            "gridcolor": "white",
            "linecolor": "white",
            "ticks": ""
           }
          },
          "scene": {
           "xaxis": {
            "backgroundcolor": "#E5ECF6",
            "gridcolor": "white",
            "gridwidth": 2,
            "linecolor": "white",
            "showbackground": true,
            "ticks": "",
            "zerolinecolor": "white"
           },
           "yaxis": {
            "backgroundcolor": "#E5ECF6",
            "gridcolor": "white",
            "gridwidth": 2,
            "linecolor": "white",
            "showbackground": true,
            "ticks": "",
            "zerolinecolor": "white"
           },
           "zaxis": {
            "backgroundcolor": "#E5ECF6",
            "gridcolor": "white",
            "gridwidth": 2,
            "linecolor": "white",
            "showbackground": true,
            "ticks": "",
            "zerolinecolor": "white"
           }
          },
          "shapedefaults": {
           "line": {
            "color": "#2a3f5f"
           }
          },
          "ternary": {
           "aaxis": {
            "gridcolor": "white",
            "linecolor": "white",
            "ticks": ""
           },
           "baxis": {
            "gridcolor": "white",
            "linecolor": "white",
            "ticks": ""
           },
           "bgcolor": "#E5ECF6",
           "caxis": {
            "gridcolor": "white",
            "linecolor": "white",
            "ticks": ""
           }
          },
          "title": {
           "x": 0.05
          },
          "xaxis": {
           "automargin": true,
           "gridcolor": "white",
           "linecolor": "white",
           "ticks": "",
           "title": {
            "standoff": 15
           },
           "zerolinecolor": "white",
           "zerolinewidth": 2
          },
          "yaxis": {
           "automargin": true,
           "gridcolor": "white",
           "linecolor": "white",
           "ticks": "",
           "title": {
            "standoff": 15
           },
           "zerolinecolor": "white",
           "zerolinewidth": 2
          }
         }
        },
        "xaxis": {
         "anchor": "y",
         "domain": [
          0,
          1
         ],
         "title": {
          "text": "Weeks"
         }
        },
        "yaxis": {
         "anchor": "x",
         "domain": [
          0,
          1
         ],
         "title": {
          "text": "Patient"
         }
        }
       }
      },
      "text/html": [
       "<div>                            <div id=\"b4e85f99-1f73-4ac7-9bdc-3e9585649d6f\" class=\"plotly-graph-div\" style=\"height:525px; width:100%;\"></div>            <script type=\"text/javascript\">                require([\"plotly\"], function(Plotly) {                    window.PLOTLYENV=window.PLOTLYENV || {};                                    if (document.getElementById(\"b4e85f99-1f73-4ac7-9bdc-3e9585649d6f\")) {                    Plotly.newPlot(                        \"b4e85f99-1f73-4ac7-9bdc-3e9585649d6f\",                        [{\"hovertemplate\": \"Weeks=%{x}<br>Patient=%{y}<br>FVC=%{marker.color}<extra></extra>\", \"legendgroup\": \"\", \"marker\": {\"color\": [2100, 2047, 2001, 2054, 2002, 2116, 1946, 1808, 1778, 2297, 2145, 2245, 2250, 2096, 2115, 2058, 1940, 1861, 1536, 1368, 1361, 1465, 1681, 1461, 1337, 1304, 1406, 1375, 1477, 1399, 1447, 1466, 1441, 1414, 1387, 1370, 1697, 1569, 1776, 1718, 1682, 1624, 1616, 1520, 1532, 1641, 1541, 1529, 1613, 1615, 1623, 1469, 1296, 1185, 1860, 1901, 1823, 1799, 1753, 1780, 1763, 1718, 1385, 2918, 2955, 2873, 2963, 2885, 2837, 2975, 2957, 2875, 3367, 3303, 3424, 3442, 3486, 3076, 3351, 3461, 3327, 1674, 1674, 1766, 1687, 1586, 1454, 1406, 1484, 1566, 1677, 1781, 1773, 1771, 1667, 1643, 1584, 1533, 1551, 2220, 2274, 2174, 2193, 2241, 2102, 2024, 1690, 1648, 1587, 1503, 1537, 1436, 1392, 1351, 1197, 3247, 3241, 3226, 3156, 3160, 2965, 3105, 2952, 2686, 2520, 2474, 2462, 2486, 2480, 2527, 2486, 2471, 2263, 1970, 2474, 2205, 2063, 2155, 2020, 2272, 2338, 2388, 1728, 1929, 1874, 1831, 1783, 1829, 1850, 1653, 1568, 1401, 1416, 1424, 1377, 1450, 1529, 1456, 1391, 1285, 1583, 1001, 997, 1031, 969, 974, 827, 828, 1885, 1905, 1905, 1972, 1851, 1693, 1833, 1657, 1662, 1909, 1977, 2095, 1841, 1803, 1732, 2095, 1813, 1845, 1399, 1365, 1349, 1373, 1331, 1344, 1313, 1290, 1188, 1272, 1481, 1316, 1334, 1384, 1384, 1266, 1424, 1441, 1563, 1584, 1647, 1498, 1487, 1317, 1315, 1607, 1938, 1967, 2018, 2239, 2064, 1931, 2044, 2021, 1015, 1065, 1019, 1031, 935, 865, 2080, 1903, 2133, 2167, 2044, 1989, 1965, 1481, 1648, 1411, 1335, 1284, 1371, 1276, 1528, 1445, 1438, 1304, 2276, 2122, 1970, 2027, 2108, 2365, 2360, 2387, 1880, 1792, 1841, 1890, 1803, 1932, 1750, 1596, 1409, 1879, 1860, 1745, 1765, 1765, 1919, 1741, 1612, 1571, 2849, 2851, 2798, 2854, 2891, 2773, 2871, 2813, 2701, 1637, 1623, 1542, 1507, 1602, 1520, 1383, 1492, 1699, 1511, 1366, 1389, 1467, 1324, 1332, 1593, 1329, 1315, 837, 3237, 3064, 3109, 3246, 3184, 3121, 3008, 2862, 3036, 2184, 1971, 1793, 1845, 1734, 1750, 1992, 1889, 1892, 1560, 1546, 1565, 1471, 1603, 1584, 1523, 1412, 1547], \"coloraxis\": \"coloraxis\", \"symbol\": \"circle\"}, \"mode\": \"markers\", \"name\": \"\", \"orientation\": \"h\", \"showlegend\": false, \"type\": \"scatter\", \"x\": [13, 14, 16, 18, 20, 26, 38, 53, 66, 18, 19, 21, 23, 25, 31, 44, 54, 70, -3, 3, 5, 7, 9, 15, 27, 39, 55, 9, 9, 11, 13, 15, 21, 33, 47, 61, -1, 1, 3, 6, 7, 13, 26, 37, 54, 25, 28, 29, 32, 33, 40, 51, 61, 79, 0, 5, 7, 9, 11, 17, 28, 40, 58, 19, 27, 29, 31, 33, 39, 51, 63, 79, -5, 6, 8, 9, 12, 18, 30, 42, 58, 48, 49, 51, 53, 55, 61, 73, 85, 102, 44, 48, 50, 52, 54, 61, 72, 84, 100, 34, 36, 37, 39, 41, 47, 59, 11, 12, 14, 17, 18, 24, 36, 48, 64, 44, 48, 50, 52, 54, 60, 73, 84, 100, 12, 16, 18, 20, 23, 28, 40, 53, 66, 38, 44, 46, 48, 50, 56, 68, 79, 96, 4, 12, 14, 15, 18, 24, 36, 48, 65, 11, 12, 14, 16, 18, 24, 36, 48, 64, 13, 17, 19, 21, 23, 29, 54, 69, 14, 15, 18, 19, 21, 27, 40, 50, 67, 9, 11, 13, 15, 17, 23, 35, 47, 63, 2, 4, 6, 8, 10, 16, 28, 40, 56, 14, 15, 17, 19, 20, 27, 38, 51, 67, 1, 3, 5, 7, 15, 29, 41, 55, 13, 14, 16, 19, 20, 26, 39, 51, 3, 5, 8, 10, 12, 31, 48, 50, 52, 54, 56, 62, 74, 86, 102, 4, 6, 8, 10, 12, 18, 30, 42, 58, 21, 22, 24, 26, 28, 34, 45, 57, 4, 6, 8, 9, 12, 18, 30, 42, 57, 0, 4, 6, 8, 10, 16, 28, 40, 57, 28, 32, 35, 36, 38, 44, 56, 68, 84, 23, 25, 27, 28, 30, 36, 48, 62, 76, 79, 35, 36, 38, 40, 42, 48, 59, 72, 87, 48, 50, 52, 54, 56, 63, 74, 86, 102, 42, 47, 49, 51, 53, 59, 71, 82, 99, 0, 6, 8, 11, 12, 18, 31, 42, 58], \"xaxis\": \"x\", \"y\": [\"ID00019637202178323708467\", \"ID00019637202178323708467\", \"ID00019637202178323708467\", \"ID00019637202178323708467\", \"ID00019637202178323708467\", \"ID00019637202178323708467\", \"ID00019637202178323708467\", \"ID00019637202178323708467\", \"ID00019637202178323708467\", \"ID00020637202178344345685\", \"ID00020637202178344345685\", \"ID00020637202178344345685\", \"ID00020637202178344345685\", \"ID00020637202178344345685\", \"ID00020637202178344345685\", \"ID00020637202178344345685\", \"ID00020637202178344345685\", \"ID00020637202178344345685\", \"ID00023637202179104603099\", \"ID00023637202179104603099\", \"ID00023637202179104603099\", \"ID00023637202179104603099\", \"ID00023637202179104603099\", \"ID00023637202179104603099\", \"ID00023637202179104603099\", \"ID00023637202179104603099\", \"ID00023637202179104603099\", \"ID00048637202185016727717\", \"ID00048637202185016727717\", \"ID00048637202185016727717\", \"ID00048637202185016727717\", \"ID00048637202185016727717\", \"ID00048637202185016727717\", \"ID00048637202185016727717\", \"ID00048637202185016727717\", \"ID00048637202185016727717\", \"ID00051637202185848464638\", \"ID00051637202185848464638\", \"ID00051637202185848464638\", \"ID00051637202185848464638\", \"ID00051637202185848464638\", \"ID00051637202185848464638\", \"ID00051637202185848464638\", \"ID00051637202185848464638\", \"ID00051637202185848464638\", \"ID00075637202198610425520\", \"ID00075637202198610425520\", \"ID00075637202198610425520\", \"ID00075637202198610425520\", \"ID00075637202198610425520\", \"ID00075637202198610425520\", \"ID00075637202198610425520\", \"ID00075637202198610425520\", \"ID00075637202198610425520\", \"ID00078637202199415319443\", \"ID00078637202199415319443\", \"ID00078637202199415319443\", \"ID00078637202199415319443\", \"ID00078637202199415319443\", \"ID00078637202199415319443\", \"ID00078637202199415319443\", \"ID00078637202199415319443\", \"ID00078637202199415319443\", \"ID00082637202201836229724\", \"ID00082637202201836229724\", \"ID00082637202201836229724\", \"ID00082637202201836229724\", \"ID00082637202201836229724\", \"ID00082637202201836229724\", \"ID00082637202201836229724\", \"ID00082637202201836229724\", \"ID00082637202201836229724\", \"ID00086637202203494931510\", \"ID00086637202203494931510\", \"ID00086637202203494931510\", \"ID00086637202203494931510\", \"ID00086637202203494931510\", \"ID00086637202203494931510\", \"ID00086637202203494931510\", \"ID00086637202203494931510\", \"ID00086637202203494931510\", \"ID00123637202217151272140\", \"ID00123637202217151272140\", \"ID00123637202217151272140\", \"ID00123637202217151272140\", \"ID00123637202217151272140\", \"ID00123637202217151272140\", \"ID00123637202217151272140\", \"ID00123637202217151272140\", \"ID00123637202217151272140\", \"ID00127637202219096738943\", \"ID00127637202219096738943\", \"ID00127637202219096738943\", \"ID00127637202219096738943\", \"ID00127637202219096738943\", \"ID00127637202219096738943\", \"ID00127637202219096738943\", \"ID00127637202219096738943\", \"ID00127637202219096738943\", \"ID00128637202219474716089\", \"ID00128637202219474716089\", \"ID00128637202219474716089\", \"ID00128637202219474716089\", \"ID00128637202219474716089\", \"ID00128637202219474716089\", \"ID00128637202219474716089\", \"ID00130637202220059448013\", \"ID00130637202220059448013\", \"ID00130637202220059448013\", \"ID00130637202220059448013\", \"ID00130637202220059448013\", \"ID00130637202220059448013\", \"ID00130637202220059448013\", \"ID00130637202220059448013\", \"ID00130637202220059448013\", \"ID00149637202232704462834\", \"ID00149637202232704462834\", \"ID00149637202232704462834\", \"ID00149637202232704462834\", \"ID00149637202232704462834\", \"ID00149637202232704462834\", \"ID00149637202232704462834\", \"ID00149637202232704462834\", \"ID00149637202232704462834\", \"ID00169637202238024117706\", \"ID00169637202238024117706\", \"ID00169637202238024117706\", \"ID00169637202238024117706\", \"ID00169637202238024117706\", \"ID00169637202238024117706\", \"ID00169637202238024117706\", \"ID00169637202238024117706\", \"ID00169637202238024117706\", \"ID00170637202238079193844\", \"ID00170637202238079193844\", \"ID00170637202238079193844\", \"ID00170637202238079193844\", \"ID00170637202238079193844\", \"ID00170637202238079193844\", \"ID00170637202238079193844\", \"ID00170637202238079193844\", \"ID00170637202238079193844\", \"ID00192637202245493238298\", \"ID00192637202245493238298\", \"ID00192637202245493238298\", \"ID00192637202245493238298\", \"ID00192637202245493238298\", \"ID00192637202245493238298\", \"ID00192637202245493238298\", \"ID00192637202245493238298\", \"ID00192637202245493238298\", \"ID00221637202258717315571\", \"ID00221637202258717315571\", \"ID00221637202258717315571\", \"ID00221637202258717315571\", \"ID00221637202258717315571\", \"ID00221637202258717315571\", \"ID00221637202258717315571\", \"ID00221637202258717315571\", \"ID00221637202258717315571\", \"ID00225637202259339837603\", \"ID00225637202259339837603\", \"ID00225637202259339837603\", \"ID00225637202259339837603\", \"ID00225637202259339837603\", \"ID00225637202259339837603\", \"ID00225637202259339837603\", \"ID00225637202259339837603\", \"ID00228637202259965313869\", \"ID00228637202259965313869\", \"ID00228637202259965313869\", \"ID00228637202259965313869\", \"ID00228637202259965313869\", \"ID00228637202259965313869\", \"ID00228637202259965313869\", \"ID00228637202259965313869\", \"ID00228637202259965313869\", \"ID00232637202260377586117\", \"ID00232637202260377586117\", \"ID00232637202260377586117\", \"ID00232637202260377586117\", \"ID00232637202260377586117\", \"ID00232637202260377586117\", \"ID00232637202260377586117\", \"ID00232637202260377586117\", \"ID00232637202260377586117\", \"ID00241637202264294508775\", \"ID00241637202264294508775\", \"ID00241637202264294508775\", \"ID00241637202264294508775\", \"ID00241637202264294508775\", \"ID00241637202264294508775\", \"ID00241637202264294508775\", \"ID00241637202264294508775\", \"ID00241637202264294508775\", \"ID00248637202266698862378\", \"ID00248637202266698862378\", \"ID00248637202266698862378\", \"ID00248637202266698862378\", \"ID00248637202266698862378\", \"ID00248637202266698862378\", \"ID00248637202266698862378\", \"ID00248637202266698862378\", \"ID00248637202266698862378\", \"ID00255637202267923028520\", \"ID00255637202267923028520\", \"ID00255637202267923028520\", \"ID00255637202267923028520\", \"ID00255637202267923028520\", \"ID00255637202267923028520\", \"ID00255637202267923028520\", \"ID00255637202267923028520\", \"ID00264637202270643353440\", \"ID00264637202270643353440\", \"ID00264637202270643353440\", \"ID00264637202270643353440\", \"ID00264637202270643353440\", \"ID00264637202270643353440\", \"ID00264637202270643353440\", \"ID00264637202270643353440\", \"ID00267637202270790561585\", \"ID00267637202270790561585\", \"ID00267637202270790561585\", \"ID00267637202270790561585\", \"ID00267637202270790561585\", \"ID00267637202270790561585\", \"ID00275637202271440119890\", \"ID00275637202271440119890\", \"ID00275637202271440119890\", \"ID00275637202271440119890\", \"ID00275637202271440119890\", \"ID00275637202271440119890\", \"ID00275637202271440119890\", \"ID00275637202271440119890\", \"ID00275637202271440119890\", \"ID00285637202278913507108\", \"ID00285637202278913507108\", \"ID00285637202278913507108\", \"ID00285637202278913507108\", \"ID00285637202278913507108\", \"ID00285637202278913507108\", \"ID00285637202278913507108\", \"ID00285637202278913507108\", \"ID00285637202278913507108\", \"ID00288637202279148973731\", \"ID00288637202279148973731\", \"ID00288637202279148973731\", \"ID00288637202279148973731\", \"ID00288637202279148973731\", \"ID00288637202279148973731\", \"ID00288637202279148973731\", \"ID00288637202279148973731\", \"ID00298637202280361773446\", \"ID00298637202280361773446\", \"ID00298637202280361773446\", \"ID00298637202280361773446\", \"ID00298637202280361773446\", \"ID00298637202280361773446\", \"ID00298637202280361773446\", \"ID00298637202280361773446\", \"ID00298637202280361773446\", \"ID00312637202282607344793\", \"ID00312637202282607344793\", \"ID00312637202282607344793\", \"ID00312637202282607344793\", \"ID00312637202282607344793\", \"ID00312637202282607344793\", \"ID00312637202282607344793\", \"ID00312637202282607344793\", \"ID00312637202282607344793\", \"ID00341637202287410878488\", \"ID00341637202287410878488\", \"ID00341637202287410878488\", \"ID00341637202287410878488\", \"ID00341637202287410878488\", \"ID00341637202287410878488\", \"ID00341637202287410878488\", \"ID00341637202287410878488\", \"ID00341637202287410878488\", \"ID00343637202287577133798\", \"ID00343637202287577133798\", \"ID00343637202287577133798\", \"ID00343637202287577133798\", \"ID00343637202287577133798\", \"ID00343637202287577133798\", \"ID00343637202287577133798\", \"ID00343637202287577133798\", \"ID00343637202287577133798\", \"ID00343637202287577133798\", \"ID00367637202296290303449\", \"ID00367637202296290303449\", \"ID00367637202296290303449\", \"ID00367637202296290303449\", \"ID00367637202296290303449\", \"ID00367637202296290303449\", \"ID00367637202296290303449\", \"ID00367637202296290303449\", \"ID00367637202296290303449\", \"ID00383637202300493233675\", \"ID00383637202300493233675\", \"ID00383637202300493233675\", \"ID00383637202300493233675\", \"ID00383637202300493233675\", \"ID00383637202300493233675\", \"ID00383637202300493233675\", \"ID00383637202300493233675\", \"ID00383637202300493233675\", \"ID00401637202305320178010\", \"ID00401637202305320178010\", \"ID00401637202305320178010\", \"ID00401637202305320178010\", \"ID00401637202305320178010\", \"ID00401637202305320178010\", \"ID00401637202305320178010\", \"ID00401637202305320178010\", \"ID00401637202305320178010\", \"ID00405637202308359492977\", \"ID00405637202308359492977\", \"ID00405637202308359492977\", \"ID00405637202308359492977\", \"ID00405637202308359492977\", \"ID00405637202308359492977\", \"ID00405637202308359492977\", \"ID00405637202308359492977\", \"ID00405637202308359492977\"], \"yaxis\": \"y\"}],                        {\"coloraxis\": {\"colorbar\": {\"title\": {\"text\": \"FVC\"}}, \"colorscale\": [[0.0, \"#0d0887\"], [0.1111111111111111, \"#46039f\"], [0.2222222222222222, \"#7201a8\"], [0.3333333333333333, \"#9c179e\"], [0.4444444444444444, \"#bd3786\"], [0.5555555555555556, \"#d8576b\"], [0.6666666666666666, \"#ed7953\"], [0.7777777777777778, \"#fb9f3a\"], [0.8888888888888888, \"#fdca26\"], [1.0, \"#f0f921\"]]}, \"legend\": {\"tracegroupgap\": 0}, \"margin\": {\"t\": 60}, \"template\": {\"data\": {\"bar\": [{\"error_x\": {\"color\": \"#2a3f5f\"}, \"error_y\": {\"color\": \"#2a3f5f\"}, \"marker\": {\"line\": {\"color\": \"#E5ECF6\", \"width\": 0.5}}, \"type\": \"bar\"}], \"barpolar\": [{\"marker\": {\"line\": {\"color\": \"#E5ECF6\", \"width\": 0.5}}, \"type\": \"barpolar\"}], \"carpet\": [{\"aaxis\": {\"endlinecolor\": \"#2a3f5f\", \"gridcolor\": \"white\", \"linecolor\": \"white\", \"minorgridcolor\": \"white\", \"startlinecolor\": \"#2a3f5f\"}, \"baxis\": {\"endlinecolor\": \"#2a3f5f\", \"gridcolor\": \"white\", \"linecolor\": \"white\", \"minorgridcolor\": \"white\", \"startlinecolor\": \"#2a3f5f\"}, \"type\": \"carpet\"}], \"choropleth\": [{\"colorbar\": {\"outlinewidth\": 0, \"ticks\": \"\"}, \"type\": \"choropleth\"}], \"contour\": [{\"colorbar\": {\"outlinewidth\": 0, \"ticks\": \"\"}, \"colorscale\": [[0.0, \"#0d0887\"], [0.1111111111111111, \"#46039f\"], [0.2222222222222222, \"#7201a8\"], [0.3333333333333333, \"#9c179e\"], [0.4444444444444444, \"#bd3786\"], [0.5555555555555556, \"#d8576b\"], [0.6666666666666666, \"#ed7953\"], [0.7777777777777778, \"#fb9f3a\"], [0.8888888888888888, \"#fdca26\"], [1.0, \"#f0f921\"]], \"type\": \"contour\"}], \"contourcarpet\": [{\"colorbar\": {\"outlinewidth\": 0, \"ticks\": \"\"}, \"type\": \"contourcarpet\"}], \"heatmap\": [{\"colorbar\": {\"outlinewidth\": 0, \"ticks\": \"\"}, \"colorscale\": [[0.0, \"#0d0887\"], [0.1111111111111111, \"#46039f\"], [0.2222222222222222, \"#7201a8\"], [0.3333333333333333, \"#9c179e\"], [0.4444444444444444, \"#bd3786\"], [0.5555555555555556, \"#d8576b\"], [0.6666666666666666, \"#ed7953\"], [0.7777777777777778, \"#fb9f3a\"], [0.8888888888888888, \"#fdca26\"], [1.0, \"#f0f921\"]], \"type\": \"heatmap\"}], \"heatmapgl\": [{\"colorbar\": {\"outlinewidth\": 0, \"ticks\": \"\"}, \"colorscale\": [[0.0, \"#0d0887\"], [0.1111111111111111, \"#46039f\"], [0.2222222222222222, \"#7201a8\"], [0.3333333333333333, \"#9c179e\"], [0.4444444444444444, \"#bd3786\"], [0.5555555555555556, \"#d8576b\"], [0.6666666666666666, \"#ed7953\"], [0.7777777777777778, \"#fb9f3a\"], [0.8888888888888888, \"#fdca26\"], [1.0, \"#f0f921\"]], \"type\": \"heatmapgl\"}], \"histogram\": [{\"marker\": {\"colorbar\": {\"outlinewidth\": 0, \"ticks\": \"\"}}, \"type\": \"histogram\"}], \"histogram2d\": [{\"colorbar\": {\"outlinewidth\": 0, \"ticks\": \"\"}, \"colorscale\": [[0.0, \"#0d0887\"], [0.1111111111111111, \"#46039f\"], [0.2222222222222222, \"#7201a8\"], [0.3333333333333333, \"#9c179e\"], [0.4444444444444444, \"#bd3786\"], [0.5555555555555556, \"#d8576b\"], [0.6666666666666666, \"#ed7953\"], [0.7777777777777778, \"#fb9f3a\"], [0.8888888888888888, \"#fdca26\"], [1.0, \"#f0f921\"]], \"type\": \"histogram2d\"}], \"histogram2dcontour\": [{\"colorbar\": {\"outlinewidth\": 0, \"ticks\": \"\"}, \"colorscale\": [[0.0, \"#0d0887\"], [0.1111111111111111, \"#46039f\"], [0.2222222222222222, \"#7201a8\"], [0.3333333333333333, \"#9c179e\"], [0.4444444444444444, \"#bd3786\"], [0.5555555555555556, \"#d8576b\"], [0.6666666666666666, \"#ed7953\"], [0.7777777777777778, \"#fb9f3a\"], [0.8888888888888888, \"#fdca26\"], [1.0, \"#f0f921\"]], \"type\": \"histogram2dcontour\"}], \"mesh3d\": [{\"colorbar\": {\"outlinewidth\": 0, \"ticks\": \"\"}, \"type\": \"mesh3d\"}], \"parcoords\": [{\"line\": {\"colorbar\": {\"outlinewidth\": 0, \"ticks\": \"\"}}, \"type\": \"parcoords\"}], \"pie\": [{\"automargin\": true, \"type\": \"pie\"}], \"scatter\": [{\"marker\": {\"colorbar\": {\"outlinewidth\": 0, \"ticks\": \"\"}}, \"type\": \"scatter\"}], \"scatter3d\": [{\"line\": {\"colorbar\": {\"outlinewidth\": 0, \"ticks\": \"\"}}, \"marker\": {\"colorbar\": {\"outlinewidth\": 0, \"ticks\": \"\"}}, \"type\": \"scatter3d\"}], \"scattercarpet\": [{\"marker\": {\"colorbar\": {\"outlinewidth\": 0, \"ticks\": \"\"}}, \"type\": \"scattercarpet\"}], \"scattergeo\": [{\"marker\": {\"colorbar\": {\"outlinewidth\": 0, \"ticks\": \"\"}}, \"type\": \"scattergeo\"}], \"scattergl\": [{\"marker\": {\"colorbar\": {\"outlinewidth\": 0, \"ticks\": \"\"}}, \"type\": \"scattergl\"}], \"scattermapbox\": [{\"marker\": {\"colorbar\": {\"outlinewidth\": 0, \"ticks\": \"\"}}, \"type\": \"scattermapbox\"}], \"scatterpolar\": [{\"marker\": {\"colorbar\": {\"outlinewidth\": 0, \"ticks\": \"\"}}, \"type\": \"scatterpolar\"}], \"scatterpolargl\": [{\"marker\": {\"colorbar\": {\"outlinewidth\": 0, \"ticks\": \"\"}}, \"type\": \"scatterpolargl\"}], \"scatterternary\": [{\"marker\": {\"colorbar\": {\"outlinewidth\": 0, \"ticks\": \"\"}}, \"type\": \"scatterternary\"}], \"surface\": [{\"colorbar\": {\"outlinewidth\": 0, \"ticks\": \"\"}, \"colorscale\": [[0.0, \"#0d0887\"], [0.1111111111111111, \"#46039f\"], [0.2222222222222222, \"#7201a8\"], [0.3333333333333333, \"#9c179e\"], [0.4444444444444444, \"#bd3786\"], [0.5555555555555556, \"#d8576b\"], [0.6666666666666666, \"#ed7953\"], [0.7777777777777778, \"#fb9f3a\"], [0.8888888888888888, \"#fdca26\"], [1.0, \"#f0f921\"]], \"type\": \"surface\"}], \"table\": [{\"cells\": {\"fill\": {\"color\": \"#EBF0F8\"}, \"line\": {\"color\": \"white\"}}, \"header\": {\"fill\": {\"color\": \"#C8D4E3\"}, \"line\": {\"color\": \"white\"}}, \"type\": \"table\"}]}, \"layout\": {\"annotationdefaults\": {\"arrowcolor\": \"#2a3f5f\", \"arrowhead\": 0, \"arrowwidth\": 1}, \"autotypenumbers\": \"strict\", \"coloraxis\": {\"colorbar\": {\"outlinewidth\": 0, \"ticks\": \"\"}}, \"colorscale\": {\"diverging\": [[0, \"#8e0152\"], [0.1, \"#c51b7d\"], [0.2, \"#de77ae\"], [0.3, \"#f1b6da\"], [0.4, \"#fde0ef\"], [0.5, \"#f7f7f7\"], [0.6, \"#e6f5d0\"], [0.7, \"#b8e186\"], [0.8, \"#7fbc41\"], [0.9, \"#4d9221\"], [1, \"#276419\"]], \"sequential\": [[0.0, \"#0d0887\"], [0.1111111111111111, \"#46039f\"], [0.2222222222222222, \"#7201a8\"], [0.3333333333333333, \"#9c179e\"], [0.4444444444444444, \"#bd3786\"], [0.5555555555555556, \"#d8576b\"], [0.6666666666666666, \"#ed7953\"], [0.7777777777777778, \"#fb9f3a\"], [0.8888888888888888, \"#fdca26\"], [1.0, \"#f0f921\"]], \"sequentialminus\": [[0.0, \"#0d0887\"], [0.1111111111111111, \"#46039f\"], [0.2222222222222222, \"#7201a8\"], [0.3333333333333333, \"#9c179e\"], [0.4444444444444444, \"#bd3786\"], [0.5555555555555556, \"#d8576b\"], [0.6666666666666666, \"#ed7953\"], [0.7777777777777778, \"#fb9f3a\"], [0.8888888888888888, \"#fdca26\"], [1.0, \"#f0f921\"]]}, \"colorway\": [\"#636efa\", \"#EF553B\", \"#00cc96\", \"#ab63fa\", \"#FFA15A\", \"#19d3f3\", \"#FF6692\", \"#B6E880\", \"#FF97FF\", \"#FECB52\"], \"font\": {\"color\": \"#2a3f5f\"}, \"geo\": {\"bgcolor\": \"white\", \"lakecolor\": \"white\", \"landcolor\": \"#E5ECF6\", \"showlakes\": true, \"showland\": true, \"subunitcolor\": \"white\"}, \"hoverlabel\": {\"align\": \"left\"}, \"hovermode\": \"closest\", \"mapbox\": {\"style\": \"light\"}, \"paper_bgcolor\": \"white\", \"plot_bgcolor\": \"#E5ECF6\", \"polar\": {\"angularaxis\": {\"gridcolor\": \"white\", \"linecolor\": \"white\", \"ticks\": \"\"}, \"bgcolor\": \"#E5ECF6\", \"radialaxis\": {\"gridcolor\": \"white\", \"linecolor\": \"white\", \"ticks\": \"\"}}, \"scene\": {\"xaxis\": {\"backgroundcolor\": \"#E5ECF6\", \"gridcolor\": \"white\", \"gridwidth\": 2, \"linecolor\": \"white\", \"showbackground\": true, \"ticks\": \"\", \"zerolinecolor\": \"white\"}, \"yaxis\": {\"backgroundcolor\": \"#E5ECF6\", \"gridcolor\": \"white\", \"gridwidth\": 2, \"linecolor\": \"white\", \"showbackground\": true, \"ticks\": \"\", \"zerolinecolor\": \"white\"}, \"zaxis\": {\"backgroundcolor\": \"#E5ECF6\", \"gridcolor\": \"white\", \"gridwidth\": 2, \"linecolor\": \"white\", \"showbackground\": true, \"ticks\": \"\", \"zerolinecolor\": \"white\"}}, \"shapedefaults\": {\"line\": {\"color\": \"#2a3f5f\"}}, \"ternary\": {\"aaxis\": {\"gridcolor\": \"white\", \"linecolor\": \"white\", \"ticks\": \"\"}, \"baxis\": {\"gridcolor\": \"white\", \"linecolor\": \"white\", \"ticks\": \"\"}, \"bgcolor\": \"#E5ECF6\", \"caxis\": {\"gridcolor\": \"white\", \"linecolor\": \"white\", \"ticks\": \"\"}}, \"title\": {\"x\": 0.05}, \"xaxis\": {\"automargin\": true, \"gridcolor\": \"white\", \"linecolor\": \"white\", \"ticks\": \"\", \"title\": {\"standoff\": 15}, \"zerolinecolor\": \"white\", \"zerolinewidth\": 2}, \"yaxis\": {\"automargin\": true, \"gridcolor\": \"white\", \"linecolor\": \"white\", \"ticks\": \"\", \"title\": {\"standoff\": 15}, \"zerolinecolor\": \"white\", \"zerolinewidth\": 2}}}, \"xaxis\": {\"anchor\": \"y\", \"domain\": [0.0, 1.0], \"title\": {\"text\": \"Weeks\"}}, \"yaxis\": {\"anchor\": \"x\", \"domain\": [0.0, 1.0], \"title\": {\"text\": \"Patient\"}}},                        {\"responsive\": true}                    ).then(function(){\n",
       "                            \n",
       "var gd = document.getElementById('b4e85f99-1f73-4ac7-9bdc-3e9585649d6f');\n",
       "var x = new MutationObserver(function (mutations, observer) {{\n",
       "        var display = window.getComputedStyle(gd).display;\n",
       "        if (!display || display === 'none') {{\n",
       "            console.log([gd, 'removed!']);\n",
       "            Plotly.purge(gd);\n",
       "            observer.disconnect();\n",
       "        }}\n",
       "}});\n",
       "\n",
       "// Listen for the removal of the full notebook cells\n",
       "var notebookContainer = gd.closest('#notebook-container');\n",
       "if (notebookContainer) {{\n",
       "    x.observe(notebookContainer, {childList: true});\n",
       "}}\n",
       "\n",
       "// Listen for the clearing of the current output cell\n",
       "var outputEl = gd.closest('.output');\n",
       "if (outputEl) {{\n",
       "    x.observe(outputEl, {childList: true});\n",
       "}}\n",
       "\n",
       "                        })                };                });            </script>        </div>"
      ]
     },
     "metadata": {},
     "output_type": "display_data"
    }
   ],
   "source": [
    "px.scatter(female,x ='Weeks',y = 'Patient',color = 'FVC')"
   ]
  },
  {
   "cell_type": "markdown",
   "id": "numerical-edgar",
   "metadata": {},
   "source": [
    "#### FVC vs Age"
   ]
  },
  {
   "cell_type": "code",
   "execution_count": 78,
   "id": "victorian-wonder",
   "metadata": {},
   "outputs": [
    {
     "data": {
      "application/vnd.plotly.v1+json": {
       "config": {
        "plotlyServerURL": "https://plot.ly"
       },
       "data": [
        {
         "hovertemplate": "Sex=Male<br>Age=%{x}<br>FVC=%{y}<extra></extra>",
         "legendgroup": "Male",
         "marker": {
          "color": "#636efa",
          "symbol": "circle"
         },
         "mode": "markers",
         "name": "Male",
         "showlegend": true,
         "type": "scattergl",
         "x": [
          79,
          79,
          79,
          79,
          79,
          79,
          79,
          79,
          79,
          69,
          69,
          69,
          69,
          69,
          69,
          69,
          69,
          69,
          60,
          60,
          60,
          60,
          60,
          60,
          60,
          60,
          60,
          72,
          72,
          72,
          72,
          72,
          72,
          72,
          72,
          72,
          65,
          65,
          65,
          65,
          65,
          65,
          65,
          65,
          65,
          56,
          56,
          56,
          56,
          56,
          56,
          56,
          56,
          56,
          71,
          71,
          71,
          71,
          71,
          71,
          71,
          71,
          65,
          65,
          65,
          65,
          65,
          65,
          65,
          65,
          65,
          57,
          57,
          57,
          57,
          57,
          57,
          57,
          57,
          57,
          73,
          73,
          73,
          73,
          73,
          73,
          73,
          73,
          73,
          69,
          69,
          69,
          69,
          69,
          69,
          69,
          69,
          63,
          63,
          63,
          63,
          63,
          63,
          63,
          63,
          63,
          69,
          69,
          69,
          69,
          69,
          69,
          69,
          69,
          69,
          71,
          71,
          71,
          71,
          71,
          71,
          71,
          71,
          71,
          58,
          58,
          58,
          58,
          58,
          58,
          58,
          58,
          58,
          68,
          68,
          68,
          68,
          68,
          68,
          54,
          54,
          54,
          54,
          54,
          54,
          54,
          63,
          63,
          63,
          63,
          63,
          63,
          63,
          63,
          63,
          68,
          68,
          68,
          68,
          68,
          68,
          68,
          68,
          68,
          74,
          74,
          74,
          74,
          74,
          74,
          74,
          74,
          74,
          64,
          64,
          64,
          64,
          64,
          64,
          64,
          64,
          73,
          73,
          73,
          73,
          73,
          73,
          73,
          73,
          73,
          71,
          71,
          71,
          71,
          71,
          71,
          71,
          71,
          71,
          69,
          69,
          69,
          69,
          69,
          69,
          69,
          69,
          51,
          51,
          51,
          51,
          51,
          51,
          51,
          51,
          51,
          70,
          70,
          70,
          70,
          70,
          70,
          70,
          70,
          70,
          63,
          63,
          63,
          63,
          63,
          63,
          63,
          63,
          63,
          69,
          69,
          69,
          69,
          69,
          69,
          69,
          69,
          69,
          69,
          69,
          69,
          69,
          69,
          69,
          69,
          69,
          64,
          64,
          64,
          64,
          64,
          64,
          64,
          64,
          64,
          68,
          68,
          68,
          68,
          68,
          68,
          68,
          68,
          68,
          68,
          60,
          60,
          60,
          60,
          60,
          60,
          60,
          60,
          60,
          74,
          74,
          74,
          74,
          74,
          74,
          74,
          74,
          64,
          64,
          64,
          64,
          64,
          64,
          64,
          64,
          64,
          64,
          73,
          73,
          73,
          73,
          73,
          73,
          73,
          73,
          73,
          73,
          73,
          73,
          73,
          73,
          73,
          73,
          73,
          73,
          74,
          74,
          74,
          74,
          74,
          74,
          74,
          74,
          72,
          72,
          72,
          72,
          72,
          72,
          72,
          77,
          77,
          77,
          77,
          77,
          77,
          77,
          77,
          68,
          68,
          68,
          68,
          68,
          68,
          68,
          68,
          68,
          57,
          57,
          57,
          57,
          57,
          57,
          57,
          57,
          57,
          57,
          58,
          58,
          58,
          58,
          58,
          58,
          58,
          58,
          58,
          60,
          60,
          60,
          60,
          60,
          60,
          60,
          60,
          60,
          65,
          65,
          65,
          65,
          65,
          65,
          65,
          65,
          78,
          78,
          78,
          78,
          78,
          78,
          78,
          78,
          78,
          71,
          71,
          71,
          71,
          71,
          71,
          71,
          71,
          71,
          61,
          61,
          61,
          61,
          61,
          61,
          61,
          61,
          61,
          69,
          69,
          69,
          69,
          69,
          69,
          69,
          69,
          69,
          83,
          83,
          83,
          83,
          83,
          83,
          83,
          83,
          83,
          67,
          67,
          67,
          67,
          67,
          67,
          67,
          67,
          67,
          65,
          65,
          65,
          65,
          65,
          65,
          65,
          65,
          65,
          64,
          64,
          64,
          64,
          64,
          64,
          64,
          64,
          64,
          66,
          66,
          66,
          66,
          66,
          66,
          66,
          66,
          66,
          76,
          76,
          76,
          76,
          76,
          76,
          76,
          76,
          76,
          58,
          58,
          58,
          58,
          58,
          58,
          58,
          58,
          58,
          58,
          63,
          63,
          63,
          63,
          63,
          63,
          63,
          63,
          63,
          54,
          54,
          54,
          54,
          54,
          54,
          54,
          54,
          54,
          58,
          58,
          58,
          58,
          58,
          58,
          58,
          58,
          58,
          58,
          62,
          62,
          62,
          62,
          62,
          62,
          62,
          62,
          62,
          73,
          73,
          73,
          73,
          73,
          73,
          73,
          73,
          73,
          73,
          73,
          73,
          73,
          73,
          73,
          73,
          73,
          73,
          68,
          68,
          68,
          68,
          68,
          68,
          68,
          68,
          68,
          71,
          71,
          71,
          71,
          71,
          71,
          71,
          71,
          71,
          52,
          52,
          52,
          52,
          52,
          52,
          52,
          52,
          52,
          69,
          69,
          69,
          69,
          69,
          69,
          69,
          69,
          69,
          69,
          69,
          69,
          69,
          69,
          69,
          69,
          65,
          65,
          65,
          65,
          65,
          65,
          65,
          65,
          65,
          65,
          65,
          65,
          65,
          65,
          65,
          65,
          65,
          65,
          62,
          62,
          62,
          62,
          62,
          62,
          62,
          62,
          62,
          64,
          64,
          64,
          64,
          64,
          64,
          64,
          64,
          64,
          67,
          67,
          67,
          67,
          67,
          67,
          67,
          67,
          67,
          76,
          76,
          76,
          76,
          76,
          76,
          76,
          76,
          76,
          70,
          70,
          70,
          70,
          70,
          70,
          70,
          70,
          70,
          69,
          69,
          69,
          69,
          69,
          69,
          69,
          69,
          69,
          65,
          65,
          65,
          65,
          65,
          65,
          65,
          65,
          65,
          81,
          81,
          81,
          81,
          81,
          81,
          81,
          81,
          81,
          71,
          71,
          71,
          71,
          71,
          71,
          71,
          71,
          71,
          70,
          70,
          70,
          70,
          70,
          70,
          70,
          70,
          70,
          72,
          72,
          72,
          72,
          72,
          72,
          72,
          72,
          72,
          71,
          71,
          71,
          71,
          71,
          71,
          71,
          71,
          71,
          71,
          68,
          68,
          68,
          68,
          68,
          68,
          68,
          68,
          68,
          66,
          66,
          66,
          66,
          66,
          66,
          66,
          66,
          67,
          67,
          67,
          67,
          67,
          67,
          67,
          67,
          67,
          63,
          63,
          63,
          63,
          63,
          63,
          63,
          63,
          63,
          64,
          64,
          64,
          64,
          64,
          64,
          64,
          64,
          64,
          56,
          56,
          56,
          56,
          56,
          56,
          56,
          56,
          88,
          88,
          88,
          88,
          88,
          88,
          88,
          88,
          88,
          60,
          60,
          60,
          60,
          60,
          60,
          60,
          60,
          60,
          77,
          77,
          77,
          77,
          77,
          77,
          77,
          70,
          70,
          70,
          70,
          70,
          70,
          70,
          70,
          70,
          60,
          60,
          60,
          60,
          60,
          60,
          60,
          60,
          60,
          75,
          75,
          75,
          75,
          75,
          75,
          75,
          75,
          72,
          72,
          72,
          72,
          72,
          72,
          72,
          72,
          72,
          74,
          74,
          74,
          74,
          74,
          74,
          74,
          74,
          74,
          58,
          58,
          58,
          58,
          58,
          58,
          58,
          58,
          78,
          78,
          78,
          78,
          78,
          78,
          78,
          78,
          78,
          62,
          62,
          62,
          62,
          62,
          62,
          62,
          62,
          62,
          65,
          65,
          65,
          65,
          65,
          65,
          65,
          65,
          65,
          73,
          73,
          73,
          73,
          73,
          73,
          73,
          73,
          73,
          64,
          64,
          64,
          64,
          64,
          64,
          64,
          64,
          72,
          72,
          72,
          72,
          72,
          72,
          72,
          72,
          72,
          59,
          59,
          59,
          59,
          59,
          59,
          59,
          59,
          59,
          77,
          77,
          77,
          77,
          77,
          77,
          77,
          77,
          69,
          69,
          69,
          69,
          69,
          69,
          69,
          69,
          69,
          69,
          69,
          69,
          69,
          69,
          69,
          69,
          69,
          69,
          74,
          74,
          74,
          74,
          74,
          74,
          74,
          74,
          74,
          56,
          56,
          56,
          56,
          56,
          56,
          56,
          56,
          69,
          69,
          69,
          69,
          69,
          69,
          69,
          69,
          69,
          64,
          64,
          64,
          64,
          64,
          64,
          64,
          64,
          64,
          68,
          68,
          68,
          68,
          68,
          68,
          68,
          68,
          68,
          72,
          72,
          72,
          72,
          72,
          72,
          72,
          72,
          72,
          58,
          58,
          58,
          58,
          58,
          58,
          58,
          78,
          78,
          78,
          78,
          78,
          78,
          78,
          78,
          78,
          65,
          65,
          65,
          65,
          65,
          65,
          65,
          65,
          65,
          65,
          65,
          65,
          65,
          65,
          65,
          65,
          65,
          79,
          79,
          79,
          79,
          79,
          79,
          79,
          79,
          79,
          64,
          64,
          64,
          64,
          64,
          64,
          64,
          64,
          64,
          71,
          71,
          71,
          71,
          71,
          71,
          71,
          71,
          65,
          65,
          65,
          65,
          65,
          65,
          65,
          65,
          65,
          75,
          75,
          75,
          75,
          75,
          75,
          75,
          75,
          75,
          71,
          71,
          71,
          71,
          71,
          71,
          71,
          71,
          71,
          72,
          72,
          72,
          72,
          72,
          72,
          72,
          72,
          72,
          56,
          56,
          56,
          56,
          56,
          56,
          56,
          56,
          56,
          62,
          62,
          62,
          62,
          62,
          62,
          62,
          53,
          53,
          53,
          53,
          53,
          53,
          53,
          53,
          53,
          53,
          66,
          66,
          66,
          66,
          66,
          66,
          66,
          66,
          66,
          67,
          67,
          67,
          67,
          67,
          67,
          67,
          67,
          67,
          70,
          70,
          70,
          70,
          70,
          70,
          70,
          70,
          55,
          55,
          55,
          55,
          55,
          55,
          55,
          55,
          55,
          55,
          66,
          66,
          66,
          66,
          66,
          66,
          66,
          66,
          66,
          74,
          74,
          74,
          74,
          74,
          74,
          74,
          74,
          65,
          65,
          65,
          65,
          65,
          65,
          65,
          65,
          65,
          65,
          65,
          65,
          65,
          65,
          65,
          65,
          65,
          65,
          66,
          66,
          66,
          66,
          66,
          66,
          66,
          66,
          66,
          73,
          73,
          73,
          73,
          73,
          73,
          73,
          73,
          73,
          68,
          68,
          68,
          68,
          68,
          68,
          68,
          68,
          68,
          68,
          73,
          73,
          73,
          73,
          73,
          73,
          73,
          73,
          72,
          72,
          72,
          72,
          72,
          72,
          72,
          72,
          72,
          73,
          73,
          73,
          73,
          73,
          73,
          73,
          73,
          73
         ],
         "xaxis": "x",
         "y": [
          2315,
          2214,
          2061,
          2144,
          2069,
          2101,
          2000,
          2064,
          2057,
          3660,
          3610,
          3895,
          3759,
          3639,
          3578,
          3625,
          3390,
          3214,
          3523,
          3373,
          3327,
          2993,
          3030,
          3103,
          2993,
          2474,
          2518,
          3326,
          3419,
          3541,
          3502,
          3410,
          3477,
          3269,
          3346,
          3193,
          3418,
          3759,
          3276,
          3443,
          3268,
          3449,
          3324,
          3231,
          2971,
          3807,
          3897,
          3615,
          3786,
          3756,
          3238,
          3221,
          3439,
          3027,
          3042,
          3120,
          2890,
          2667,
          2968,
          2697,
          2682,
          2585,
          2903,
          3159,
          3277,
          3042,
          3277,
          3086,
          2880,
          2811,
          2533,
          2884,
          2766,
          3007,
          2981,
          2868,
          2917,
          3002,
          2793,
          2700,
          2472,
          2795,
          2750,
          2697,
          2887,
          2547,
          2564,
          2539,
          2378,
          2506,
          2561,
          2388,
          2694,
          2595,
          2552,
          2328,
          2378,
          5045,
          4825,
          4876,
          4665,
          4753,
          4487,
          4679,
          4743,
          3846,
          2728,
          2603,
          2634,
          2668,
          2684,
          2787,
          2391,
          2195,
          2272,
          3946,
          3905,
          3787,
          3988,
          4000,
          3831,
          3846,
          3878,
          3896,
          3791,
          3555,
          3514,
          3451,
          3626,
          3515,
          3679,
          3961,
          3431,
          3313,
          3235,
          3370,
          3129,
          3236,
          3012,
          2489,
          2522,
          2517,
          2292,
          2251,
          2436,
          1848,
          3255,
          3370,
          3418,
          3284,
          3050,
          3135,
          3292,
          3064,
          2890,
          3969,
          2511,
          4134,
          4024,
          4043,
          4048,
          4128,
          3902,
          4089,
          2301,
          2336,
          2341,
          2158,
          2260,
          2212,
          2239,
          2172,
          2071,
          3456,
          3295,
          3420,
          3608,
          3363,
          3410,
          3256,
          3230,
          2794,
          2827,
          2784,
          2740,
          2819,
          2592,
          2459,
          2626,
          2476,
          2359,
          2357,
          2376,
          2352,
          2414,
          2308,
          2233,
          2356,
          2247,
          2547,
          2409,
          2361,
          2354,
          2410,
          2353,
          2130,
          1709,
          2298,
          2576,
          2182,
          2374,
          2370,
          2480,
          2683,
          2914,
          2853,
          3170,
          3121,
          3223,
          3380,
          3255,
          3391,
          3504,
          3378,
          3391,
          2478,
          2539,
          2571,
          2511,
          2297,
          2241,
          2076,
          2031,
          1918,
          3562,
          3024,
          2958,
          2969,
          2982,
          2877,
          2948,
          2907,
          3695,
          3570,
          3834,
          3794,
          3592,
          2728,
          3475,
          3841,
          3668,
          4916,
          4799,
          4738,
          4856,
          4692,
          4756,
          4753,
          4574,
          4752,
          2934,
          2866,
          3065,
          3089,
          3005,
          3001,
          2769,
          2708,
          2862,
          2833,
          2553,
          2510,
          2294,
          2400,
          2133,
          1651,
          2196,
          2336,
          2404,
          2377,
          2339,
          2346,
          2381,
          2203,
          2089,
          2036,
          1733,
          2479,
          2398,
          2427,
          2547,
          2523,
          2483,
          2399,
          2322,
          2237,
          2076,
          2914,
          2795,
          2808,
          2707,
          2686,
          2850,
          2667,
          2641,
          2611,
          2073,
          2142,
          2274,
          2186,
          2269,
          2228,
          2327,
          2112,
          1725,
          1995,
          1884,
          1806,
          1666,
          1316,
          1085,
          938,
          919,
          2389,
          2419,
          2400,
          2181,
          2275,
          2235,
          2083,
          2548,
          2509,
          2543,
          2399,
          2507,
          2156,
          2134,
          2446,
          2933,
          3001,
          2904,
          2832,
          2866,
          2788,
          3022,
          2912,
          3037,
          2917,
          2851,
          2905,
          2889,
          2965,
          2950,
          2886,
          2899,
          2994,
          2908,
          2581,
          2427,
          2404,
          2335,
          2279,
          2254,
          2146,
          2155,
          2091,
          3559,
          3587,
          3458,
          3614,
          3661,
          3610,
          3454,
          3350,
          3146,
          2349,
          2584,
          2337,
          2330,
          2320,
          2093,
          2027,
          1872,
          2375,
          2281,
          2276,
          2295,
          2245,
          2227,
          2316,
          2307,
          2455,
          2253,
          2184,
          2235,
          2333,
          2266,
          2319,
          2230,
          2154,
          2134,
          3327,
          3407,
          3292,
          3368,
          3364,
          3226,
          3274,
          3208,
          2990,
          2582,
          2614,
          2743,
          2674,
          2579,
          2608,
          2588,
          2630,
          2594,
          3195,
          3203,
          3097,
          3171,
          3115,
          3105,
          3035,
          3051,
          3033,
          2629,
          2729,
          2606,
          2568,
          2560,
          2675,
          2415,
          2112,
          2232,
          3808,
          4036,
          4087,
          3869,
          3906,
          3780,
          3925,
          3907,
          3901,
          3239,
          3390,
          3324,
          3305,
          3276,
          3376,
          3278,
          3362,
          3197,
          4510,
          4443,
          4339,
          4324,
          4247,
          4196,
          4320,
          4267,
          4151,
          3793,
          3742,
          3916,
          4130,
          4050,
          3949,
          4061,
          3835,
          3568,
          4124,
          3981,
          4092,
          4201,
          4130,
          3973,
          3865,
          3852,
          4052,
          4089,
          2841,
          2806,
          2786,
          2944,
          3017,
          2901,
          2809,
          2897,
          2818,
          2102,
          2102,
          2172,
          2136,
          2067,
          2161,
          2296,
          2129,
          2184,
          4562,
          4791,
          4680,
          4635,
          4662,
          4496,
          4537,
          4424,
          4288,
          3744,
          3186,
          3095,
          3143,
          2993,
          3041,
          2975,
          2859,
          2762,
          2711,
          2603,
          2715,
          2740,
          2749,
          2833,
          2830,
          2772,
          2801,
          2623,
          2648,
          2728,
          2861,
          2889,
          2840,
          2697,
          2675,
          2576,
          2563,
          3009,
          2954,
          3102,
          2962,
          3054,
          3049,
          2866,
          2761,
          2860,
          2541,
          2358,
          2350,
          2346,
          2427,
          2449,
          2537,
          2461,
          2393,
          3130,
          2965,
          3197,
          2761,
          3009,
          3175,
          3021,
          2991,
          2743,
          3096,
          2781,
          2826,
          2759,
          2591,
          2428,
          2119,
          4291,
          4488,
          4490,
          4424,
          4307,
          4330,
          4169,
          4193,
          4461,
          3849,
          3799,
          3871,
          3903,
          3930,
          4360,
          3811,
          3792,
          3856,
          2776,
          2400,
          1950,
          2192,
          2360,
          1941,
          3399,
          2312,
          3283,
          2672,
          2683,
          2868,
          2949,
          2907,
          2686,
          2832,
          2844,
          2889,
          4311,
          4279,
          4316,
          4185,
          4029,
          4092,
          4040,
          3641,
          3646,
          2379,
          2722,
          2735,
          2924,
          2829,
          2806,
          2696,
          2522,
          2526,
          2846,
          2860,
          2773,
          2780,
          2809,
          2837,
          2844,
          2845,
          2852,
          3035,
          3376,
          3057,
          3126,
          3220,
          3090,
          2972,
          3289,
          3017,
          2869,
          2853,
          2912,
          2929,
          2886,
          2867,
          2829,
          2874,
          2791,
          2658,
          2289,
          2157,
          1997,
          2110,
          2195,
          2424,
          2081,
          2105,
          2439,
          2550,
          2590,
          2564,
          2582,
          2527,
          2888,
          2802,
          2600,
          6399,
          5678,
          5910,
          5739,
          5763,
          5844,
          5613,
          5895,
          5768,
          2644,
          2345,
          2492,
          2540,
          2549,
          2579,
          2371,
          2384,
          2316,
          2992,
          2637,
          2643,
          2705,
          2679,
          2388,
          2722,
          2656,
          2812,
          3518,
          3531,
          3402,
          3539,
          3649,
          3603,
          3489,
          3410,
          3355,
          3342,
          3829,
          3467,
          3564,
          3574,
          3609,
          3685,
          3429,
          3252,
          3580,
          2080,
          2022,
          1769,
          2002,
          1756,
          2008,
          1848,
          1897,
          2061,
          2129,
          2095,
          2142,
          2120,
          2185,
          2124,
          2179,
          2257,
          2991,
          3132,
          2872,
          2807,
          2779,
          2713,
          2503,
          2762,
          2782,
          1853,
          1715,
          1825,
          1918,
          1785,
          1843,
          1631,
          1644,
          1761,
          3255,
          3246,
          3243,
          3175,
          3102,
          2334,
          2139,
          2161,
          2075,
          2100,
          2065,
          2065,
          1937,
          2039,
          2026,
          1715,
          1808,
          3020,
          2860,
          2847,
          2708,
          2797,
          2845,
          2911,
          2886,
          2962,
          3107,
          2879,
          2828,
          2908,
          3002,
          2718,
          2738,
          4141,
          4167,
          4086,
          4036,
          4121,
          4089,
          3978,
          4046,
          3796,
          1965,
          1854,
          1957,
          1967,
          2109,
          1955,
          1925,
          2015,
          1984,
          2283,
          2175,
          2315,
          2300,
          2103,
          2314,
          2135,
          1814,
          4051,
          4027,
          4079,
          3962,
          4043,
          3840,
          4001,
          3618,
          3581,
          2327,
          2361,
          2244,
          2286,
          2174,
          2058,
          2095,
          2144,
          2065,
          2223,
          2099,
          2258,
          2130,
          2163,
          1990,
          2210,
          2166,
          2109,
          2182,
          2297,
          2293,
          2328,
          1741,
          1992,
          2141,
          2126,
          2984,
          2938,
          2776,
          2708,
          2785,
          2817,
          2941,
          2714,
          2555,
          3170,
          3247,
          3292,
          3203,
          3166,
          3106,
          2834,
          2762,
          2883,
          3240,
          3184,
          3180,
          3099,
          3499,
          3118,
          2927,
          2828,
          3187,
          2375,
          2305,
          2263,
          2325,
          2277,
          2173,
          1653,
          1861,
          4143,
          2951,
          4287,
          4143,
          4198,
          4279,
          4238,
          4247,
          4218,
          2460,
          2602,
          2591,
          2585,
          2795,
          2456,
          2357,
          2311,
          2325,
          1412,
          1644,
          1550,
          1561,
          1818,
          1707,
          1581,
          1760,
          2805,
          2848,
          2618,
          2838,
          2830,
          2769,
          3051,
          2734,
          2677,
          3135,
          2986,
          2965,
          3177,
          3272,
          3135,
          3232,
          3153,
          3221,
          3043,
          2694,
          2577,
          2626,
          2557,
          2663,
          2598,
          2505,
          2467,
          2569,
          2549,
          2561,
          2570,
          2542,
          2545,
          2505,
          2294,
          3959,
          4096,
          3949,
          3876,
          3882,
          3904,
          3625,
          3941,
          4058,
          3574,
          3565,
          3446,
          3395,
          3421,
          3454,
          3299,
          3254,
          2968,
          2345,
          2295,
          2346,
          2276,
          2242,
          2253,
          2160,
          2000,
          2222,
          2390,
          2322,
          2305,
          2116,
          2036,
          2062,
          1865,
          1928,
          1901,
          2066,
          2074,
          2032,
          1987,
          2020,
          1954,
          1812,
          2808,
          2441,
          2567,
          2788,
          2470,
          2475,
          2627,
          2694,
          2690,
          4418,
          3681,
          4416,
          4323,
          4514,
          4762,
          4730,
          4791,
          4447,
          2030,
          2138,
          1939,
          2034,
          2035,
          1986,
          1823,
          2151,
          3107,
          2998,
          2714,
          2729,
          2760,
          2904,
          2731,
          2687,
          2889,
          3191,
          3067,
          3034,
          2815,
          2828,
          3032,
          3064,
          2466,
          2170,
          2421,
          2335,
          2581,
          2416,
          2398,
          2230,
          2294,
          2122,
          3128,
          3032,
          3107,
          2932,
          2964,
          2812,
          2963,
          2801,
          3019,
          2308,
          2211,
          2237,
          2244,
          2270,
          2209,
          2243,
          2219,
          2250,
          2470,
          2474,
          2508,
          2468,
          2452,
          2510,
          2479,
          2419,
          2232,
          4284,
          4316,
          4386,
          4319,
          4320,
          4157,
          4186,
          4251,
          4125,
          3338,
          3242,
          3336,
          3271,
          3190,
          3629,
          3623,
          3290,
          2939,
          2415,
          2242,
          2335,
          2202,
          2068,
          1997,
          1996,
          3157,
          3282,
          3042,
          3101,
          3046,
          3029,
          3045,
          2887,
          2989,
          2756,
          2231,
          2104,
          2214,
          2159,
          2040,
          2058,
          1996,
          1830,
          1808,
          3562,
          3936,
          3589,
          3635,
          3885,
          3745,
          3577,
          3576,
          3540,
          3046,
          2878,
          2839,
          2808,
          2592,
          2461,
          2349,
          2083,
          3962,
          3936,
          3895,
          3924,
          3856,
          3949,
          4013,
          4014,
          3797,
          3874,
          3179,
          3201,
          3190,
          3032,
          3188,
          3096,
          3067,
          2944,
          2963,
          2651,
          2377,
          2414,
          2384,
          2181,
          2374,
          2504,
          2416,
          1556,
          1788,
          1843,
          1772,
          1668,
          1799,
          1682,
          1746,
          1650,
          2619,
          3006,
          2622,
          2863,
          2612,
          2301,
          2171,
          2161,
          1612,
          3357,
          3397,
          3273,
          3354,
          3305,
          3265,
          3364,
          3240,
          3303,
          3020,
          2859,
          2783,
          2719,
          2738,
          2694,
          2708,
          2793,
          2727,
          2739,
          2756,
          2755,
          2820,
          2853,
          2716,
          2833,
          2771,
          2628,
          2719,
          1930,
          1936,
          1955,
          1848,
          1897,
          1946,
          1862,
          1713,
          3294,
          2777,
          2700,
          3014,
          2661,
          2778,
          2516,
          2432,
          2578,
          2925,
          2903,
          2916,
          2976,
          2712,
          2978,
          2908,
          2975,
          2774
         ],
         "yaxis": "y"
        },
        {
         "hovertemplate": "Sex=Female<br>Age=%{x}<br>FVC=%{y}<extra></extra>",
         "legendgroup": "Female",
         "marker": {
          "color": "#EF553B",
          "symbol": "circle"
         },
         "mode": "markers",
         "name": "Female",
         "showlegend": true,
         "type": "scattergl",
         "x": [
          83,
          83,
          83,
          83,
          83,
          83,
          83,
          83,
          83,
          66,
          66,
          66,
          66,
          66,
          66,
          66,
          66,
          66,
          71,
          71,
          71,
          71,
          71,
          71,
          71,
          71,
          71,
          70,
          70,
          70,
          70,
          70,
          70,
          70,
          70,
          70,
          73,
          73,
          73,
          73,
          73,
          73,
          73,
          73,
          73,
          52,
          52,
          52,
          52,
          52,
          52,
          52,
          52,
          52,
          55,
          55,
          55,
          55,
          55,
          55,
          55,
          55,
          55,
          49,
          49,
          49,
          49,
          49,
          49,
          49,
          49,
          49,
          65,
          65,
          65,
          65,
          65,
          65,
          65,
          65,
          65,
          69,
          69,
          69,
          69,
          69,
          69,
          69,
          69,
          69,
          55,
          55,
          55,
          55,
          55,
          55,
          55,
          55,
          55,
          87,
          87,
          87,
          87,
          87,
          87,
          87,
          65,
          65,
          65,
          65,
          65,
          65,
          65,
          65,
          65,
          66,
          66,
          66,
          66,
          66,
          66,
          66,
          66,
          66,
          66,
          66,
          66,
          66,
          66,
          66,
          66,
          66,
          66,
          79,
          79,
          79,
          79,
          79,
          79,
          79,
          79,
          79,
          56,
          56,
          56,
          56,
          56,
          56,
          56,
          56,
          56,
          76,
          76,
          76,
          76,
          76,
          76,
          76,
          76,
          76,
          77,
          77,
          77,
          77,
          77,
          77,
          77,
          77,
          58,
          58,
          58,
          58,
          58,
          58,
          58,
          58,
          58,
          74,
          74,
          74,
          74,
          74,
          74,
          74,
          74,
          74,
          66,
          66,
          66,
          66,
          66,
          66,
          66,
          66,
          66,
          71,
          71,
          71,
          71,
          71,
          71,
          71,
          71,
          71,
          62,
          62,
          62,
          62,
          62,
          62,
          62,
          62,
          76,
          76,
          76,
          76,
          76,
          76,
          76,
          76,
          70,
          70,
          70,
          70,
          70,
          70,
          62,
          62,
          62,
          62,
          62,
          62,
          62,
          62,
          62,
          61,
          61,
          61,
          61,
          61,
          61,
          61,
          61,
          61,
          63,
          63,
          63,
          63,
          63,
          63,
          63,
          63,
          67,
          67,
          67,
          67,
          67,
          67,
          67,
          67,
          67,
          72,
          72,
          72,
          72,
          72,
          72,
          72,
          72,
          72,
          68,
          68,
          68,
          68,
          68,
          68,
          68,
          68,
          68,
          68,
          68,
          68,
          68,
          68,
          68,
          68,
          68,
          68,
          68,
          57,
          57,
          57,
          57,
          57,
          57,
          57,
          57,
          57,
          64,
          64,
          64,
          64,
          64,
          64,
          64,
          64,
          64,
          74,
          74,
          74,
          74,
          74,
          74,
          74,
          74,
          74,
          61,
          61,
          61,
          61,
          61,
          61,
          61,
          61,
          61
         ],
         "xaxis": "x",
         "y": [
          2100,
          2047,
          2001,
          2054,
          2002,
          2116,
          1946,
          1808,
          1778,
          2297,
          2145,
          2245,
          2250,
          2096,
          2115,
          2058,
          1940,
          1861,
          1536,
          1368,
          1361,
          1465,
          1681,
          1461,
          1337,
          1304,
          1406,
          1375,
          1477,
          1399,
          1447,
          1466,
          1441,
          1414,
          1387,
          1370,
          1697,
          1569,
          1776,
          1718,
          1682,
          1624,
          1616,
          1520,
          1532,
          1641,
          1541,
          1529,
          1613,
          1615,
          1623,
          1469,
          1296,
          1185,
          1860,
          1901,
          1823,
          1799,
          1753,
          1780,
          1763,
          1718,
          1385,
          2918,
          2955,
          2873,
          2963,
          2885,
          2837,
          2975,
          2957,
          2875,
          3367,
          3303,
          3424,
          3442,
          3486,
          3076,
          3351,
          3461,
          3327,
          1674,
          1674,
          1766,
          1687,
          1586,
          1454,
          1406,
          1484,
          1566,
          1677,
          1781,
          1773,
          1771,
          1667,
          1643,
          1584,
          1533,
          1551,
          2220,
          2274,
          2174,
          2193,
          2241,
          2102,
          2024,
          1690,
          1648,
          1587,
          1503,
          1537,
          1436,
          1392,
          1351,
          1197,
          3247,
          3241,
          3226,
          3156,
          3160,
          2965,
          3105,
          2952,
          2686,
          2520,
          2474,
          2462,
          2486,
          2480,
          2527,
          2486,
          2471,
          2263,
          1970,
          2474,
          2205,
          2063,
          2155,
          2020,
          2272,
          2338,
          2388,
          1728,
          1929,
          1874,
          1831,
          1783,
          1829,
          1850,
          1653,
          1568,
          1401,
          1416,
          1424,
          1377,
          1450,
          1529,
          1456,
          1391,
          1285,
          1583,
          1001,
          997,
          1031,
          969,
          974,
          827,
          828,
          1885,
          1905,
          1905,
          1972,
          1851,
          1693,
          1833,
          1657,
          1662,
          1909,
          1977,
          2095,
          1841,
          1803,
          1732,
          2095,
          1813,
          1845,
          1399,
          1365,
          1349,
          1373,
          1331,
          1344,
          1313,
          1290,
          1188,
          1272,
          1481,
          1316,
          1334,
          1384,
          1384,
          1266,
          1424,
          1441,
          1563,
          1584,
          1647,
          1498,
          1487,
          1317,
          1315,
          1607,
          1938,
          1967,
          2018,
          2239,
          2064,
          1931,
          2044,
          2021,
          1015,
          1065,
          1019,
          1031,
          935,
          865,
          2080,
          1903,
          2133,
          2167,
          2044,
          1989,
          1965,
          1481,
          1648,
          1411,
          1335,
          1284,
          1371,
          1276,
          1528,
          1445,
          1438,
          1304,
          2276,
          2122,
          1970,
          2027,
          2108,
          2365,
          2360,
          2387,
          1880,
          1792,
          1841,
          1890,
          1803,
          1932,
          1750,
          1596,
          1409,
          1879,
          1860,
          1745,
          1765,
          1765,
          1919,
          1741,
          1612,
          1571,
          2849,
          2851,
          2798,
          2854,
          2891,
          2773,
          2871,
          2813,
          2701,
          1637,
          1623,
          1542,
          1507,
          1602,
          1520,
          1383,
          1492,
          1699,
          1511,
          1366,
          1389,
          1467,
          1324,
          1332,
          1593,
          1329,
          1315,
          837,
          3237,
          3064,
          3109,
          3246,
          3184,
          3121,
          3008,
          2862,
          3036,
          2184,
          1971,
          1793,
          1845,
          1734,
          1750,
          1992,
          1889,
          1892,
          1560,
          1546,
          1565,
          1471,
          1603,
          1584,
          1523,
          1412,
          1547
         ],
         "yaxis": "y"
        }
       ],
       "layout": {
        "legend": {
         "title": {
          "text": "Sex"
         },
         "tracegroupgap": 0
        },
        "template": {
         "data": {
          "bar": [
           {
            "error_x": {
             "color": "#2a3f5f"
            },
            "error_y": {
             "color": "#2a3f5f"
            },
            "marker": {
             "line": {
              "color": "#E5ECF6",
              "width": 0.5
             }
            },
            "type": "bar"
           }
          ],
          "barpolar": [
           {
            "marker": {
             "line": {
              "color": "#E5ECF6",
              "width": 0.5
             }
            },
            "type": "barpolar"
           }
          ],
          "carpet": [
           {
            "aaxis": {
             "endlinecolor": "#2a3f5f",
             "gridcolor": "white",
             "linecolor": "white",
             "minorgridcolor": "white",
             "startlinecolor": "#2a3f5f"
            },
            "baxis": {
             "endlinecolor": "#2a3f5f",
             "gridcolor": "white",
             "linecolor": "white",
             "minorgridcolor": "white",
             "startlinecolor": "#2a3f5f"
            },
            "type": "carpet"
           }
          ],
          "choropleth": [
           {
            "colorbar": {
             "outlinewidth": 0,
             "ticks": ""
            },
            "type": "choropleth"
           }
          ],
          "contour": [
           {
            "colorbar": {
             "outlinewidth": 0,
             "ticks": ""
            },
            "colorscale": [
             [
              0,
              "#0d0887"
             ],
             [
              0.1111111111111111,
              "#46039f"
             ],
             [
              0.2222222222222222,
              "#7201a8"
             ],
             [
              0.3333333333333333,
              "#9c179e"
             ],
             [
              0.4444444444444444,
              "#bd3786"
             ],
             [
              0.5555555555555556,
              "#d8576b"
             ],
             [
              0.6666666666666666,
              "#ed7953"
             ],
             [
              0.7777777777777778,
              "#fb9f3a"
             ],
             [
              0.8888888888888888,
              "#fdca26"
             ],
             [
              1,
              "#f0f921"
             ]
            ],
            "type": "contour"
           }
          ],
          "contourcarpet": [
           {
            "colorbar": {
             "outlinewidth": 0,
             "ticks": ""
            },
            "type": "contourcarpet"
           }
          ],
          "heatmap": [
           {
            "colorbar": {
             "outlinewidth": 0,
             "ticks": ""
            },
            "colorscale": [
             [
              0,
              "#0d0887"
             ],
             [
              0.1111111111111111,
              "#46039f"
             ],
             [
              0.2222222222222222,
              "#7201a8"
             ],
             [
              0.3333333333333333,
              "#9c179e"
             ],
             [
              0.4444444444444444,
              "#bd3786"
             ],
             [
              0.5555555555555556,
              "#d8576b"
             ],
             [
              0.6666666666666666,
              "#ed7953"
             ],
             [
              0.7777777777777778,
              "#fb9f3a"
             ],
             [
              0.8888888888888888,
              "#fdca26"
             ],
             [
              1,
              "#f0f921"
             ]
            ],
            "type": "heatmap"
           }
          ],
          "heatmapgl": [
           {
            "colorbar": {
             "outlinewidth": 0,
             "ticks": ""
            },
            "colorscale": [
             [
              0,
              "#0d0887"
             ],
             [
              0.1111111111111111,
              "#46039f"
             ],
             [
              0.2222222222222222,
              "#7201a8"
             ],
             [
              0.3333333333333333,
              "#9c179e"
             ],
             [
              0.4444444444444444,
              "#bd3786"
             ],
             [
              0.5555555555555556,
              "#d8576b"
             ],
             [
              0.6666666666666666,
              "#ed7953"
             ],
             [
              0.7777777777777778,
              "#fb9f3a"
             ],
             [
              0.8888888888888888,
              "#fdca26"
             ],
             [
              1,
              "#f0f921"
             ]
            ],
            "type": "heatmapgl"
           }
          ],
          "histogram": [
           {
            "marker": {
             "colorbar": {
              "outlinewidth": 0,
              "ticks": ""
             }
            },
            "type": "histogram"
           }
          ],
          "histogram2d": [
           {
            "colorbar": {
             "outlinewidth": 0,
             "ticks": ""
            },
            "colorscale": [
             [
              0,
              "#0d0887"
             ],
             [
              0.1111111111111111,
              "#46039f"
             ],
             [
              0.2222222222222222,
              "#7201a8"
             ],
             [
              0.3333333333333333,
              "#9c179e"
             ],
             [
              0.4444444444444444,
              "#bd3786"
             ],
             [
              0.5555555555555556,
              "#d8576b"
             ],
             [
              0.6666666666666666,
              "#ed7953"
             ],
             [
              0.7777777777777778,
              "#fb9f3a"
             ],
             [
              0.8888888888888888,
              "#fdca26"
             ],
             [
              1,
              "#f0f921"
             ]
            ],
            "type": "histogram2d"
           }
          ],
          "histogram2dcontour": [
           {
            "colorbar": {
             "outlinewidth": 0,
             "ticks": ""
            },
            "colorscale": [
             [
              0,
              "#0d0887"
             ],
             [
              0.1111111111111111,
              "#46039f"
             ],
             [
              0.2222222222222222,
              "#7201a8"
             ],
             [
              0.3333333333333333,
              "#9c179e"
             ],
             [
              0.4444444444444444,
              "#bd3786"
             ],
             [
              0.5555555555555556,
              "#d8576b"
             ],
             [
              0.6666666666666666,
              "#ed7953"
             ],
             [
              0.7777777777777778,
              "#fb9f3a"
             ],
             [
              0.8888888888888888,
              "#fdca26"
             ],
             [
              1,
              "#f0f921"
             ]
            ],
            "type": "histogram2dcontour"
           }
          ],
          "mesh3d": [
           {
            "colorbar": {
             "outlinewidth": 0,
             "ticks": ""
            },
            "type": "mesh3d"
           }
          ],
          "parcoords": [
           {
            "line": {
             "colorbar": {
              "outlinewidth": 0,
              "ticks": ""
             }
            },
            "type": "parcoords"
           }
          ],
          "pie": [
           {
            "automargin": true,
            "type": "pie"
           }
          ],
          "scatter": [
           {
            "marker": {
             "colorbar": {
              "outlinewidth": 0,
              "ticks": ""
             }
            },
            "type": "scatter"
           }
          ],
          "scatter3d": [
           {
            "line": {
             "colorbar": {
              "outlinewidth": 0,
              "ticks": ""
             }
            },
            "marker": {
             "colorbar": {
              "outlinewidth": 0,
              "ticks": ""
             }
            },
            "type": "scatter3d"
           }
          ],
          "scattercarpet": [
           {
            "marker": {
             "colorbar": {
              "outlinewidth": 0,
              "ticks": ""
             }
            },
            "type": "scattercarpet"
           }
          ],
          "scattergeo": [
           {
            "marker": {
             "colorbar": {
              "outlinewidth": 0,
              "ticks": ""
             }
            },
            "type": "scattergeo"
           }
          ],
          "scattergl": [
           {
            "marker": {
             "colorbar": {
              "outlinewidth": 0,
              "ticks": ""
             }
            },
            "type": "scattergl"
           }
          ],
          "scattermapbox": [
           {
            "marker": {
             "colorbar": {
              "outlinewidth": 0,
              "ticks": ""
             }
            },
            "type": "scattermapbox"
           }
          ],
          "scatterpolar": [
           {
            "marker": {
             "colorbar": {
              "outlinewidth": 0,
              "ticks": ""
             }
            },
            "type": "scatterpolar"
           }
          ],
          "scatterpolargl": [
           {
            "marker": {
             "colorbar": {
              "outlinewidth": 0,
              "ticks": ""
             }
            },
            "type": "scatterpolargl"
           }
          ],
          "scatterternary": [
           {
            "marker": {
             "colorbar": {
              "outlinewidth": 0,
              "ticks": ""
             }
            },
            "type": "scatterternary"
           }
          ],
          "surface": [
           {
            "colorbar": {
             "outlinewidth": 0,
             "ticks": ""
            },
            "colorscale": [
             [
              0,
              "#0d0887"
             ],
             [
              0.1111111111111111,
              "#46039f"
             ],
             [
              0.2222222222222222,
              "#7201a8"
             ],
             [
              0.3333333333333333,
              "#9c179e"
             ],
             [
              0.4444444444444444,
              "#bd3786"
             ],
             [
              0.5555555555555556,
              "#d8576b"
             ],
             [
              0.6666666666666666,
              "#ed7953"
             ],
             [
              0.7777777777777778,
              "#fb9f3a"
             ],
             [
              0.8888888888888888,
              "#fdca26"
             ],
             [
              1,
              "#f0f921"
             ]
            ],
            "type": "surface"
           }
          ],
          "table": [
           {
            "cells": {
             "fill": {
              "color": "#EBF0F8"
             },
             "line": {
              "color": "white"
             }
            },
            "header": {
             "fill": {
              "color": "#C8D4E3"
             },
             "line": {
              "color": "white"
             }
            },
            "type": "table"
           }
          ]
         },
         "layout": {
          "annotationdefaults": {
           "arrowcolor": "#2a3f5f",
           "arrowhead": 0,
           "arrowwidth": 1
          },
          "autotypenumbers": "strict",
          "coloraxis": {
           "colorbar": {
            "outlinewidth": 0,
            "ticks": ""
           }
          },
          "colorscale": {
           "diverging": [
            [
             0,
             "#8e0152"
            ],
            [
             0.1,
             "#c51b7d"
            ],
            [
             0.2,
             "#de77ae"
            ],
            [
             0.3,
             "#f1b6da"
            ],
            [
             0.4,
             "#fde0ef"
            ],
            [
             0.5,
             "#f7f7f7"
            ],
            [
             0.6,
             "#e6f5d0"
            ],
            [
             0.7,
             "#b8e186"
            ],
            [
             0.8,
             "#7fbc41"
            ],
            [
             0.9,
             "#4d9221"
            ],
            [
             1,
             "#276419"
            ]
           ],
           "sequential": [
            [
             0,
             "#0d0887"
            ],
            [
             0.1111111111111111,
             "#46039f"
            ],
            [
             0.2222222222222222,
             "#7201a8"
            ],
            [
             0.3333333333333333,
             "#9c179e"
            ],
            [
             0.4444444444444444,
             "#bd3786"
            ],
            [
             0.5555555555555556,
             "#d8576b"
            ],
            [
             0.6666666666666666,
             "#ed7953"
            ],
            [
             0.7777777777777778,
             "#fb9f3a"
            ],
            [
             0.8888888888888888,
             "#fdca26"
            ],
            [
             1,
             "#f0f921"
            ]
           ],
           "sequentialminus": [
            [
             0,
             "#0d0887"
            ],
            [
             0.1111111111111111,
             "#46039f"
            ],
            [
             0.2222222222222222,
             "#7201a8"
            ],
            [
             0.3333333333333333,
             "#9c179e"
            ],
            [
             0.4444444444444444,
             "#bd3786"
            ],
            [
             0.5555555555555556,
             "#d8576b"
            ],
            [
             0.6666666666666666,
             "#ed7953"
            ],
            [
             0.7777777777777778,
             "#fb9f3a"
            ],
            [
             0.8888888888888888,
             "#fdca26"
            ],
            [
             1,
             "#f0f921"
            ]
           ]
          },
          "colorway": [
           "#636efa",
           "#EF553B",
           "#00cc96",
           "#ab63fa",
           "#FFA15A",
           "#19d3f3",
           "#FF6692",
           "#B6E880",
           "#FF97FF",
           "#FECB52"
          ],
          "font": {
           "color": "#2a3f5f"
          },
          "geo": {
           "bgcolor": "white",
           "lakecolor": "white",
           "landcolor": "#E5ECF6",
           "showlakes": true,
           "showland": true,
           "subunitcolor": "white"
          },
          "hoverlabel": {
           "align": "left"
          },
          "hovermode": "closest",
          "mapbox": {
           "style": "light"
          },
          "paper_bgcolor": "white",
          "plot_bgcolor": "#E5ECF6",
          "polar": {
           "angularaxis": {
            "gridcolor": "white",
            "linecolor": "white",
            "ticks": ""
           },
           "bgcolor": "#E5ECF6",
           "radialaxis": {
            "gridcolor": "white",
            "linecolor": "white",
            "ticks": ""
           }
          },
          "scene": {
           "xaxis": {
            "backgroundcolor": "#E5ECF6",
            "gridcolor": "white",
            "gridwidth": 2,
            "linecolor": "white",
            "showbackground": true,
            "ticks": "",
            "zerolinecolor": "white"
           },
           "yaxis": {
            "backgroundcolor": "#E5ECF6",
            "gridcolor": "white",
            "gridwidth": 2,
            "linecolor": "white",
            "showbackground": true,
            "ticks": "",
            "zerolinecolor": "white"
           },
           "zaxis": {
            "backgroundcolor": "#E5ECF6",
            "gridcolor": "white",
            "gridwidth": 2,
            "linecolor": "white",
            "showbackground": true,
            "ticks": "",
            "zerolinecolor": "white"
           }
          },
          "shapedefaults": {
           "line": {
            "color": "#2a3f5f"
           }
          },
          "ternary": {
           "aaxis": {
            "gridcolor": "white",
            "linecolor": "white",
            "ticks": ""
           },
           "baxis": {
            "gridcolor": "white",
            "linecolor": "white",
            "ticks": ""
           },
           "bgcolor": "#E5ECF6",
           "caxis": {
            "gridcolor": "white",
            "linecolor": "white",
            "ticks": ""
           }
          },
          "title": {
           "x": 0.05
          },
          "xaxis": {
           "automargin": true,
           "gridcolor": "white",
           "linecolor": "white",
           "ticks": "",
           "title": {
            "standoff": 15
           },
           "zerolinecolor": "white",
           "zerolinewidth": 2
          },
          "yaxis": {
           "automargin": true,
           "gridcolor": "white",
           "linecolor": "white",
           "ticks": "",
           "title": {
            "standoff": 15
           },
           "zerolinecolor": "white",
           "zerolinewidth": 2
          }
         }
        },
        "title": {
         "text": "FVC values for Patient Age"
        },
        "xaxis": {
         "anchor": "y",
         "domain": [
          0,
          1
         ],
         "title": {
          "text": "Age"
         }
        },
        "yaxis": {
         "anchor": "x",
         "domain": [
          0,
          1
         ],
         "title": {
          "text": "FVC"
         }
        }
       }
      },
      "text/html": [
       "<div>                            <div id=\"e0d862f0-61ed-46ec-89a4-550bad0d7667\" class=\"plotly-graph-div\" style=\"height:525px; width:100%;\"></div>            <script type=\"text/javascript\">                require([\"plotly\"], function(Plotly) {                    window.PLOTLYENV=window.PLOTLYENV || {};                                    if (document.getElementById(\"e0d862f0-61ed-46ec-89a4-550bad0d7667\")) {                    Plotly.newPlot(                        \"e0d862f0-61ed-46ec-89a4-550bad0d7667\",                        [{\"hovertemplate\": \"Sex=Male<br>Age=%{x}<br>FVC=%{y}<extra></extra>\", \"legendgroup\": \"Male\", \"marker\": {\"color\": \"#636efa\", \"symbol\": \"circle\"}, \"mode\": \"markers\", \"name\": \"Male\", \"showlegend\": true, \"type\": \"scattergl\", \"x\": [79, 79, 79, 79, 79, 79, 79, 79, 79, 69, 69, 69, 69, 69, 69, 69, 69, 69, 60, 60, 60, 60, 60, 60, 60, 60, 60, 72, 72, 72, 72, 72, 72, 72, 72, 72, 65, 65, 65, 65, 65, 65, 65, 65, 65, 56, 56, 56, 56, 56, 56, 56, 56, 56, 71, 71, 71, 71, 71, 71, 71, 71, 65, 65, 65, 65, 65, 65, 65, 65, 65, 57, 57, 57, 57, 57, 57, 57, 57, 57, 73, 73, 73, 73, 73, 73, 73, 73, 73, 69, 69, 69, 69, 69, 69, 69, 69, 63, 63, 63, 63, 63, 63, 63, 63, 63, 69, 69, 69, 69, 69, 69, 69, 69, 69, 71, 71, 71, 71, 71, 71, 71, 71, 71, 58, 58, 58, 58, 58, 58, 58, 58, 58, 68, 68, 68, 68, 68, 68, 54, 54, 54, 54, 54, 54, 54, 63, 63, 63, 63, 63, 63, 63, 63, 63, 68, 68, 68, 68, 68, 68, 68, 68, 68, 74, 74, 74, 74, 74, 74, 74, 74, 74, 64, 64, 64, 64, 64, 64, 64, 64, 73, 73, 73, 73, 73, 73, 73, 73, 73, 71, 71, 71, 71, 71, 71, 71, 71, 71, 69, 69, 69, 69, 69, 69, 69, 69, 51, 51, 51, 51, 51, 51, 51, 51, 51, 70, 70, 70, 70, 70, 70, 70, 70, 70, 63, 63, 63, 63, 63, 63, 63, 63, 63, 69, 69, 69, 69, 69, 69, 69, 69, 69, 69, 69, 69, 69, 69, 69, 69, 69, 64, 64, 64, 64, 64, 64, 64, 64, 64, 68, 68, 68, 68, 68, 68, 68, 68, 68, 68, 60, 60, 60, 60, 60, 60, 60, 60, 60, 74, 74, 74, 74, 74, 74, 74, 74, 64, 64, 64, 64, 64, 64, 64, 64, 64, 64, 73, 73, 73, 73, 73, 73, 73, 73, 73, 73, 73, 73, 73, 73, 73, 73, 73, 73, 74, 74, 74, 74, 74, 74, 74, 74, 72, 72, 72, 72, 72, 72, 72, 77, 77, 77, 77, 77, 77, 77, 77, 68, 68, 68, 68, 68, 68, 68, 68, 68, 57, 57, 57, 57, 57, 57, 57, 57, 57, 57, 58, 58, 58, 58, 58, 58, 58, 58, 58, 60, 60, 60, 60, 60, 60, 60, 60, 60, 65, 65, 65, 65, 65, 65, 65, 65, 78, 78, 78, 78, 78, 78, 78, 78, 78, 71, 71, 71, 71, 71, 71, 71, 71, 71, 61, 61, 61, 61, 61, 61, 61, 61, 61, 69, 69, 69, 69, 69, 69, 69, 69, 69, 83, 83, 83, 83, 83, 83, 83, 83, 83, 67, 67, 67, 67, 67, 67, 67, 67, 67, 65, 65, 65, 65, 65, 65, 65, 65, 65, 64, 64, 64, 64, 64, 64, 64, 64, 64, 66, 66, 66, 66, 66, 66, 66, 66, 66, 76, 76, 76, 76, 76, 76, 76, 76, 76, 58, 58, 58, 58, 58, 58, 58, 58, 58, 58, 63, 63, 63, 63, 63, 63, 63, 63, 63, 54, 54, 54, 54, 54, 54, 54, 54, 54, 58, 58, 58, 58, 58, 58, 58, 58, 58, 58, 62, 62, 62, 62, 62, 62, 62, 62, 62, 73, 73, 73, 73, 73, 73, 73, 73, 73, 73, 73, 73, 73, 73, 73, 73, 73, 73, 68, 68, 68, 68, 68, 68, 68, 68, 68, 71, 71, 71, 71, 71, 71, 71, 71, 71, 52, 52, 52, 52, 52, 52, 52, 52, 52, 69, 69, 69, 69, 69, 69, 69, 69, 69, 69, 69, 69, 69, 69, 69, 69, 65, 65, 65, 65, 65, 65, 65, 65, 65, 65, 65, 65, 65, 65, 65, 65, 65, 65, 62, 62, 62, 62, 62, 62, 62, 62, 62, 64, 64, 64, 64, 64, 64, 64, 64, 64, 67, 67, 67, 67, 67, 67, 67, 67, 67, 76, 76, 76, 76, 76, 76, 76, 76, 76, 70, 70, 70, 70, 70, 70, 70, 70, 70, 69, 69, 69, 69, 69, 69, 69, 69, 69, 65, 65, 65, 65, 65, 65, 65, 65, 65, 81, 81, 81, 81, 81, 81, 81, 81, 81, 71, 71, 71, 71, 71, 71, 71, 71, 71, 70, 70, 70, 70, 70, 70, 70, 70, 70, 72, 72, 72, 72, 72, 72, 72, 72, 72, 71, 71, 71, 71, 71, 71, 71, 71, 71, 71, 68, 68, 68, 68, 68, 68, 68, 68, 68, 66, 66, 66, 66, 66, 66, 66, 66, 67, 67, 67, 67, 67, 67, 67, 67, 67, 63, 63, 63, 63, 63, 63, 63, 63, 63, 64, 64, 64, 64, 64, 64, 64, 64, 64, 56, 56, 56, 56, 56, 56, 56, 56, 88, 88, 88, 88, 88, 88, 88, 88, 88, 60, 60, 60, 60, 60, 60, 60, 60, 60, 77, 77, 77, 77, 77, 77, 77, 70, 70, 70, 70, 70, 70, 70, 70, 70, 60, 60, 60, 60, 60, 60, 60, 60, 60, 75, 75, 75, 75, 75, 75, 75, 75, 72, 72, 72, 72, 72, 72, 72, 72, 72, 74, 74, 74, 74, 74, 74, 74, 74, 74, 58, 58, 58, 58, 58, 58, 58, 58, 78, 78, 78, 78, 78, 78, 78, 78, 78, 62, 62, 62, 62, 62, 62, 62, 62, 62, 65, 65, 65, 65, 65, 65, 65, 65, 65, 73, 73, 73, 73, 73, 73, 73, 73, 73, 64, 64, 64, 64, 64, 64, 64, 64, 72, 72, 72, 72, 72, 72, 72, 72, 72, 59, 59, 59, 59, 59, 59, 59, 59, 59, 77, 77, 77, 77, 77, 77, 77, 77, 69, 69, 69, 69, 69, 69, 69, 69, 69, 69, 69, 69, 69, 69, 69, 69, 69, 69, 74, 74, 74, 74, 74, 74, 74, 74, 74, 56, 56, 56, 56, 56, 56, 56, 56, 69, 69, 69, 69, 69, 69, 69, 69, 69, 64, 64, 64, 64, 64, 64, 64, 64, 64, 68, 68, 68, 68, 68, 68, 68, 68, 68, 72, 72, 72, 72, 72, 72, 72, 72, 72, 58, 58, 58, 58, 58, 58, 58, 78, 78, 78, 78, 78, 78, 78, 78, 78, 65, 65, 65, 65, 65, 65, 65, 65, 65, 65, 65, 65, 65, 65, 65, 65, 65, 79, 79, 79, 79, 79, 79, 79, 79, 79, 64, 64, 64, 64, 64, 64, 64, 64, 64, 71, 71, 71, 71, 71, 71, 71, 71, 65, 65, 65, 65, 65, 65, 65, 65, 65, 75, 75, 75, 75, 75, 75, 75, 75, 75, 71, 71, 71, 71, 71, 71, 71, 71, 71, 72, 72, 72, 72, 72, 72, 72, 72, 72, 56, 56, 56, 56, 56, 56, 56, 56, 56, 62, 62, 62, 62, 62, 62, 62, 53, 53, 53, 53, 53, 53, 53, 53, 53, 53, 66, 66, 66, 66, 66, 66, 66, 66, 66, 67, 67, 67, 67, 67, 67, 67, 67, 67, 70, 70, 70, 70, 70, 70, 70, 70, 55, 55, 55, 55, 55, 55, 55, 55, 55, 55, 66, 66, 66, 66, 66, 66, 66, 66, 66, 74, 74, 74, 74, 74, 74, 74, 74, 65, 65, 65, 65, 65, 65, 65, 65, 65, 65, 65, 65, 65, 65, 65, 65, 65, 65, 66, 66, 66, 66, 66, 66, 66, 66, 66, 73, 73, 73, 73, 73, 73, 73, 73, 73, 68, 68, 68, 68, 68, 68, 68, 68, 68, 68, 73, 73, 73, 73, 73, 73, 73, 73, 72, 72, 72, 72, 72, 72, 72, 72, 72, 73, 73, 73, 73, 73, 73, 73, 73, 73], \"xaxis\": \"x\", \"y\": [2315, 2214, 2061, 2144, 2069, 2101, 2000, 2064, 2057, 3660, 3610, 3895, 3759, 3639, 3578, 3625, 3390, 3214, 3523, 3373, 3327, 2993, 3030, 3103, 2993, 2474, 2518, 3326, 3419, 3541, 3502, 3410, 3477, 3269, 3346, 3193, 3418, 3759, 3276, 3443, 3268, 3449, 3324, 3231, 2971, 3807, 3897, 3615, 3786, 3756, 3238, 3221, 3439, 3027, 3042, 3120, 2890, 2667, 2968, 2697, 2682, 2585, 2903, 3159, 3277, 3042, 3277, 3086, 2880, 2811, 2533, 2884, 2766, 3007, 2981, 2868, 2917, 3002, 2793, 2700, 2472, 2795, 2750, 2697, 2887, 2547, 2564, 2539, 2378, 2506, 2561, 2388, 2694, 2595, 2552, 2328, 2378, 5045, 4825, 4876, 4665, 4753, 4487, 4679, 4743, 3846, 2728, 2603, 2634, 2668, 2684, 2787, 2391, 2195, 2272, 3946, 3905, 3787, 3988, 4000, 3831, 3846, 3878, 3896, 3791, 3555, 3514, 3451, 3626, 3515, 3679, 3961, 3431, 3313, 3235, 3370, 3129, 3236, 3012, 2489, 2522, 2517, 2292, 2251, 2436, 1848, 3255, 3370, 3418, 3284, 3050, 3135, 3292, 3064, 2890, 3969, 2511, 4134, 4024, 4043, 4048, 4128, 3902, 4089, 2301, 2336, 2341, 2158, 2260, 2212, 2239, 2172, 2071, 3456, 3295, 3420, 3608, 3363, 3410, 3256, 3230, 2794, 2827, 2784, 2740, 2819, 2592, 2459, 2626, 2476, 2359, 2357, 2376, 2352, 2414, 2308, 2233, 2356, 2247, 2547, 2409, 2361, 2354, 2410, 2353, 2130, 1709, 2298, 2576, 2182, 2374, 2370, 2480, 2683, 2914, 2853, 3170, 3121, 3223, 3380, 3255, 3391, 3504, 3378, 3391, 2478, 2539, 2571, 2511, 2297, 2241, 2076, 2031, 1918, 3562, 3024, 2958, 2969, 2982, 2877, 2948, 2907, 3695, 3570, 3834, 3794, 3592, 2728, 3475, 3841, 3668, 4916, 4799, 4738, 4856, 4692, 4756, 4753, 4574, 4752, 2934, 2866, 3065, 3089, 3005, 3001, 2769, 2708, 2862, 2833, 2553, 2510, 2294, 2400, 2133, 1651, 2196, 2336, 2404, 2377, 2339, 2346, 2381, 2203, 2089, 2036, 1733, 2479, 2398, 2427, 2547, 2523, 2483, 2399, 2322, 2237, 2076, 2914, 2795, 2808, 2707, 2686, 2850, 2667, 2641, 2611, 2073, 2142, 2274, 2186, 2269, 2228, 2327, 2112, 1725, 1995, 1884, 1806, 1666, 1316, 1085, 938, 919, 2389, 2419, 2400, 2181, 2275, 2235, 2083, 2548, 2509, 2543, 2399, 2507, 2156, 2134, 2446, 2933, 3001, 2904, 2832, 2866, 2788, 3022, 2912, 3037, 2917, 2851, 2905, 2889, 2965, 2950, 2886, 2899, 2994, 2908, 2581, 2427, 2404, 2335, 2279, 2254, 2146, 2155, 2091, 3559, 3587, 3458, 3614, 3661, 3610, 3454, 3350, 3146, 2349, 2584, 2337, 2330, 2320, 2093, 2027, 1872, 2375, 2281, 2276, 2295, 2245, 2227, 2316, 2307, 2455, 2253, 2184, 2235, 2333, 2266, 2319, 2230, 2154, 2134, 3327, 3407, 3292, 3368, 3364, 3226, 3274, 3208, 2990, 2582, 2614, 2743, 2674, 2579, 2608, 2588, 2630, 2594, 3195, 3203, 3097, 3171, 3115, 3105, 3035, 3051, 3033, 2629, 2729, 2606, 2568, 2560, 2675, 2415, 2112, 2232, 3808, 4036, 4087, 3869, 3906, 3780, 3925, 3907, 3901, 3239, 3390, 3324, 3305, 3276, 3376, 3278, 3362, 3197, 4510, 4443, 4339, 4324, 4247, 4196, 4320, 4267, 4151, 3793, 3742, 3916, 4130, 4050, 3949, 4061, 3835, 3568, 4124, 3981, 4092, 4201, 4130, 3973, 3865, 3852, 4052, 4089, 2841, 2806, 2786, 2944, 3017, 2901, 2809, 2897, 2818, 2102, 2102, 2172, 2136, 2067, 2161, 2296, 2129, 2184, 4562, 4791, 4680, 4635, 4662, 4496, 4537, 4424, 4288, 3744, 3186, 3095, 3143, 2993, 3041, 2975, 2859, 2762, 2711, 2603, 2715, 2740, 2749, 2833, 2830, 2772, 2801, 2623, 2648, 2728, 2861, 2889, 2840, 2697, 2675, 2576, 2563, 3009, 2954, 3102, 2962, 3054, 3049, 2866, 2761, 2860, 2541, 2358, 2350, 2346, 2427, 2449, 2537, 2461, 2393, 3130, 2965, 3197, 2761, 3009, 3175, 3021, 2991, 2743, 3096, 2781, 2826, 2759, 2591, 2428, 2119, 4291, 4488, 4490, 4424, 4307, 4330, 4169, 4193, 4461, 3849, 3799, 3871, 3903, 3930, 4360, 3811, 3792, 3856, 2776, 2400, 1950, 2192, 2360, 1941, 3399, 2312, 3283, 2672, 2683, 2868, 2949, 2907, 2686, 2832, 2844, 2889, 4311, 4279, 4316, 4185, 4029, 4092, 4040, 3641, 3646, 2379, 2722, 2735, 2924, 2829, 2806, 2696, 2522, 2526, 2846, 2860, 2773, 2780, 2809, 2837, 2844, 2845, 2852, 3035, 3376, 3057, 3126, 3220, 3090, 2972, 3289, 3017, 2869, 2853, 2912, 2929, 2886, 2867, 2829, 2874, 2791, 2658, 2289, 2157, 1997, 2110, 2195, 2424, 2081, 2105, 2439, 2550, 2590, 2564, 2582, 2527, 2888, 2802, 2600, 6399, 5678, 5910, 5739, 5763, 5844, 5613, 5895, 5768, 2644, 2345, 2492, 2540, 2549, 2579, 2371, 2384, 2316, 2992, 2637, 2643, 2705, 2679, 2388, 2722, 2656, 2812, 3518, 3531, 3402, 3539, 3649, 3603, 3489, 3410, 3355, 3342, 3829, 3467, 3564, 3574, 3609, 3685, 3429, 3252, 3580, 2080, 2022, 1769, 2002, 1756, 2008, 1848, 1897, 2061, 2129, 2095, 2142, 2120, 2185, 2124, 2179, 2257, 2991, 3132, 2872, 2807, 2779, 2713, 2503, 2762, 2782, 1853, 1715, 1825, 1918, 1785, 1843, 1631, 1644, 1761, 3255, 3246, 3243, 3175, 3102, 2334, 2139, 2161, 2075, 2100, 2065, 2065, 1937, 2039, 2026, 1715, 1808, 3020, 2860, 2847, 2708, 2797, 2845, 2911, 2886, 2962, 3107, 2879, 2828, 2908, 3002, 2718, 2738, 4141, 4167, 4086, 4036, 4121, 4089, 3978, 4046, 3796, 1965, 1854, 1957, 1967, 2109, 1955, 1925, 2015, 1984, 2283, 2175, 2315, 2300, 2103, 2314, 2135, 1814, 4051, 4027, 4079, 3962, 4043, 3840, 4001, 3618, 3581, 2327, 2361, 2244, 2286, 2174, 2058, 2095, 2144, 2065, 2223, 2099, 2258, 2130, 2163, 1990, 2210, 2166, 2109, 2182, 2297, 2293, 2328, 1741, 1992, 2141, 2126, 2984, 2938, 2776, 2708, 2785, 2817, 2941, 2714, 2555, 3170, 3247, 3292, 3203, 3166, 3106, 2834, 2762, 2883, 3240, 3184, 3180, 3099, 3499, 3118, 2927, 2828, 3187, 2375, 2305, 2263, 2325, 2277, 2173, 1653, 1861, 4143, 2951, 4287, 4143, 4198, 4279, 4238, 4247, 4218, 2460, 2602, 2591, 2585, 2795, 2456, 2357, 2311, 2325, 1412, 1644, 1550, 1561, 1818, 1707, 1581, 1760, 2805, 2848, 2618, 2838, 2830, 2769, 3051, 2734, 2677, 3135, 2986, 2965, 3177, 3272, 3135, 3232, 3153, 3221, 3043, 2694, 2577, 2626, 2557, 2663, 2598, 2505, 2467, 2569, 2549, 2561, 2570, 2542, 2545, 2505, 2294, 3959, 4096, 3949, 3876, 3882, 3904, 3625, 3941, 4058, 3574, 3565, 3446, 3395, 3421, 3454, 3299, 3254, 2968, 2345, 2295, 2346, 2276, 2242, 2253, 2160, 2000, 2222, 2390, 2322, 2305, 2116, 2036, 2062, 1865, 1928, 1901, 2066, 2074, 2032, 1987, 2020, 1954, 1812, 2808, 2441, 2567, 2788, 2470, 2475, 2627, 2694, 2690, 4418, 3681, 4416, 4323, 4514, 4762, 4730, 4791, 4447, 2030, 2138, 1939, 2034, 2035, 1986, 1823, 2151, 3107, 2998, 2714, 2729, 2760, 2904, 2731, 2687, 2889, 3191, 3067, 3034, 2815, 2828, 3032, 3064, 2466, 2170, 2421, 2335, 2581, 2416, 2398, 2230, 2294, 2122, 3128, 3032, 3107, 2932, 2964, 2812, 2963, 2801, 3019, 2308, 2211, 2237, 2244, 2270, 2209, 2243, 2219, 2250, 2470, 2474, 2508, 2468, 2452, 2510, 2479, 2419, 2232, 4284, 4316, 4386, 4319, 4320, 4157, 4186, 4251, 4125, 3338, 3242, 3336, 3271, 3190, 3629, 3623, 3290, 2939, 2415, 2242, 2335, 2202, 2068, 1997, 1996, 3157, 3282, 3042, 3101, 3046, 3029, 3045, 2887, 2989, 2756, 2231, 2104, 2214, 2159, 2040, 2058, 1996, 1830, 1808, 3562, 3936, 3589, 3635, 3885, 3745, 3577, 3576, 3540, 3046, 2878, 2839, 2808, 2592, 2461, 2349, 2083, 3962, 3936, 3895, 3924, 3856, 3949, 4013, 4014, 3797, 3874, 3179, 3201, 3190, 3032, 3188, 3096, 3067, 2944, 2963, 2651, 2377, 2414, 2384, 2181, 2374, 2504, 2416, 1556, 1788, 1843, 1772, 1668, 1799, 1682, 1746, 1650, 2619, 3006, 2622, 2863, 2612, 2301, 2171, 2161, 1612, 3357, 3397, 3273, 3354, 3305, 3265, 3364, 3240, 3303, 3020, 2859, 2783, 2719, 2738, 2694, 2708, 2793, 2727, 2739, 2756, 2755, 2820, 2853, 2716, 2833, 2771, 2628, 2719, 1930, 1936, 1955, 1848, 1897, 1946, 1862, 1713, 3294, 2777, 2700, 3014, 2661, 2778, 2516, 2432, 2578, 2925, 2903, 2916, 2976, 2712, 2978, 2908, 2975, 2774], \"yaxis\": \"y\"}, {\"hovertemplate\": \"Sex=Female<br>Age=%{x}<br>FVC=%{y}<extra></extra>\", \"legendgroup\": \"Female\", \"marker\": {\"color\": \"#EF553B\", \"symbol\": \"circle\"}, \"mode\": \"markers\", \"name\": \"Female\", \"showlegend\": true, \"type\": \"scattergl\", \"x\": [83, 83, 83, 83, 83, 83, 83, 83, 83, 66, 66, 66, 66, 66, 66, 66, 66, 66, 71, 71, 71, 71, 71, 71, 71, 71, 71, 70, 70, 70, 70, 70, 70, 70, 70, 70, 73, 73, 73, 73, 73, 73, 73, 73, 73, 52, 52, 52, 52, 52, 52, 52, 52, 52, 55, 55, 55, 55, 55, 55, 55, 55, 55, 49, 49, 49, 49, 49, 49, 49, 49, 49, 65, 65, 65, 65, 65, 65, 65, 65, 65, 69, 69, 69, 69, 69, 69, 69, 69, 69, 55, 55, 55, 55, 55, 55, 55, 55, 55, 87, 87, 87, 87, 87, 87, 87, 65, 65, 65, 65, 65, 65, 65, 65, 65, 66, 66, 66, 66, 66, 66, 66, 66, 66, 66, 66, 66, 66, 66, 66, 66, 66, 66, 79, 79, 79, 79, 79, 79, 79, 79, 79, 56, 56, 56, 56, 56, 56, 56, 56, 56, 76, 76, 76, 76, 76, 76, 76, 76, 76, 77, 77, 77, 77, 77, 77, 77, 77, 58, 58, 58, 58, 58, 58, 58, 58, 58, 74, 74, 74, 74, 74, 74, 74, 74, 74, 66, 66, 66, 66, 66, 66, 66, 66, 66, 71, 71, 71, 71, 71, 71, 71, 71, 71, 62, 62, 62, 62, 62, 62, 62, 62, 76, 76, 76, 76, 76, 76, 76, 76, 70, 70, 70, 70, 70, 70, 62, 62, 62, 62, 62, 62, 62, 62, 62, 61, 61, 61, 61, 61, 61, 61, 61, 61, 63, 63, 63, 63, 63, 63, 63, 63, 67, 67, 67, 67, 67, 67, 67, 67, 67, 72, 72, 72, 72, 72, 72, 72, 72, 72, 68, 68, 68, 68, 68, 68, 68, 68, 68, 68, 68, 68, 68, 68, 68, 68, 68, 68, 68, 57, 57, 57, 57, 57, 57, 57, 57, 57, 64, 64, 64, 64, 64, 64, 64, 64, 64, 74, 74, 74, 74, 74, 74, 74, 74, 74, 61, 61, 61, 61, 61, 61, 61, 61, 61], \"xaxis\": \"x\", \"y\": [2100, 2047, 2001, 2054, 2002, 2116, 1946, 1808, 1778, 2297, 2145, 2245, 2250, 2096, 2115, 2058, 1940, 1861, 1536, 1368, 1361, 1465, 1681, 1461, 1337, 1304, 1406, 1375, 1477, 1399, 1447, 1466, 1441, 1414, 1387, 1370, 1697, 1569, 1776, 1718, 1682, 1624, 1616, 1520, 1532, 1641, 1541, 1529, 1613, 1615, 1623, 1469, 1296, 1185, 1860, 1901, 1823, 1799, 1753, 1780, 1763, 1718, 1385, 2918, 2955, 2873, 2963, 2885, 2837, 2975, 2957, 2875, 3367, 3303, 3424, 3442, 3486, 3076, 3351, 3461, 3327, 1674, 1674, 1766, 1687, 1586, 1454, 1406, 1484, 1566, 1677, 1781, 1773, 1771, 1667, 1643, 1584, 1533, 1551, 2220, 2274, 2174, 2193, 2241, 2102, 2024, 1690, 1648, 1587, 1503, 1537, 1436, 1392, 1351, 1197, 3247, 3241, 3226, 3156, 3160, 2965, 3105, 2952, 2686, 2520, 2474, 2462, 2486, 2480, 2527, 2486, 2471, 2263, 1970, 2474, 2205, 2063, 2155, 2020, 2272, 2338, 2388, 1728, 1929, 1874, 1831, 1783, 1829, 1850, 1653, 1568, 1401, 1416, 1424, 1377, 1450, 1529, 1456, 1391, 1285, 1583, 1001, 997, 1031, 969, 974, 827, 828, 1885, 1905, 1905, 1972, 1851, 1693, 1833, 1657, 1662, 1909, 1977, 2095, 1841, 1803, 1732, 2095, 1813, 1845, 1399, 1365, 1349, 1373, 1331, 1344, 1313, 1290, 1188, 1272, 1481, 1316, 1334, 1384, 1384, 1266, 1424, 1441, 1563, 1584, 1647, 1498, 1487, 1317, 1315, 1607, 1938, 1967, 2018, 2239, 2064, 1931, 2044, 2021, 1015, 1065, 1019, 1031, 935, 865, 2080, 1903, 2133, 2167, 2044, 1989, 1965, 1481, 1648, 1411, 1335, 1284, 1371, 1276, 1528, 1445, 1438, 1304, 2276, 2122, 1970, 2027, 2108, 2365, 2360, 2387, 1880, 1792, 1841, 1890, 1803, 1932, 1750, 1596, 1409, 1879, 1860, 1745, 1765, 1765, 1919, 1741, 1612, 1571, 2849, 2851, 2798, 2854, 2891, 2773, 2871, 2813, 2701, 1637, 1623, 1542, 1507, 1602, 1520, 1383, 1492, 1699, 1511, 1366, 1389, 1467, 1324, 1332, 1593, 1329, 1315, 837, 3237, 3064, 3109, 3246, 3184, 3121, 3008, 2862, 3036, 2184, 1971, 1793, 1845, 1734, 1750, 1992, 1889, 1892, 1560, 1546, 1565, 1471, 1603, 1584, 1523, 1412, 1547], \"yaxis\": \"y\"}],                        {\"legend\": {\"title\": {\"text\": \"Sex\"}, \"tracegroupgap\": 0}, \"template\": {\"data\": {\"bar\": [{\"error_x\": {\"color\": \"#2a3f5f\"}, \"error_y\": {\"color\": \"#2a3f5f\"}, \"marker\": {\"line\": {\"color\": \"#E5ECF6\", \"width\": 0.5}}, \"type\": \"bar\"}], \"barpolar\": [{\"marker\": {\"line\": {\"color\": \"#E5ECF6\", \"width\": 0.5}}, \"type\": \"barpolar\"}], \"carpet\": [{\"aaxis\": {\"endlinecolor\": \"#2a3f5f\", \"gridcolor\": \"white\", \"linecolor\": \"white\", \"minorgridcolor\": \"white\", \"startlinecolor\": \"#2a3f5f\"}, \"baxis\": {\"endlinecolor\": \"#2a3f5f\", \"gridcolor\": \"white\", \"linecolor\": \"white\", \"minorgridcolor\": \"white\", \"startlinecolor\": \"#2a3f5f\"}, \"type\": \"carpet\"}], \"choropleth\": [{\"colorbar\": {\"outlinewidth\": 0, \"ticks\": \"\"}, \"type\": \"choropleth\"}], \"contour\": [{\"colorbar\": {\"outlinewidth\": 0, \"ticks\": \"\"}, \"colorscale\": [[0.0, \"#0d0887\"], [0.1111111111111111, \"#46039f\"], [0.2222222222222222, \"#7201a8\"], [0.3333333333333333, \"#9c179e\"], [0.4444444444444444, \"#bd3786\"], [0.5555555555555556, \"#d8576b\"], [0.6666666666666666, \"#ed7953\"], [0.7777777777777778, \"#fb9f3a\"], [0.8888888888888888, \"#fdca26\"], [1.0, \"#f0f921\"]], \"type\": \"contour\"}], \"contourcarpet\": [{\"colorbar\": {\"outlinewidth\": 0, \"ticks\": \"\"}, \"type\": \"contourcarpet\"}], \"heatmap\": [{\"colorbar\": {\"outlinewidth\": 0, \"ticks\": \"\"}, \"colorscale\": [[0.0, \"#0d0887\"], [0.1111111111111111, \"#46039f\"], [0.2222222222222222, \"#7201a8\"], [0.3333333333333333, \"#9c179e\"], [0.4444444444444444, \"#bd3786\"], [0.5555555555555556, \"#d8576b\"], [0.6666666666666666, \"#ed7953\"], [0.7777777777777778, \"#fb9f3a\"], [0.8888888888888888, \"#fdca26\"], [1.0, \"#f0f921\"]], \"type\": \"heatmap\"}], \"heatmapgl\": [{\"colorbar\": {\"outlinewidth\": 0, \"ticks\": \"\"}, \"colorscale\": [[0.0, \"#0d0887\"], [0.1111111111111111, \"#46039f\"], [0.2222222222222222, \"#7201a8\"], [0.3333333333333333, \"#9c179e\"], [0.4444444444444444, \"#bd3786\"], [0.5555555555555556, \"#d8576b\"], [0.6666666666666666, \"#ed7953\"], [0.7777777777777778, \"#fb9f3a\"], [0.8888888888888888, \"#fdca26\"], [1.0, \"#f0f921\"]], \"type\": \"heatmapgl\"}], \"histogram\": [{\"marker\": {\"colorbar\": {\"outlinewidth\": 0, \"ticks\": \"\"}}, \"type\": \"histogram\"}], \"histogram2d\": [{\"colorbar\": {\"outlinewidth\": 0, \"ticks\": \"\"}, \"colorscale\": [[0.0, \"#0d0887\"], [0.1111111111111111, \"#46039f\"], [0.2222222222222222, \"#7201a8\"], [0.3333333333333333, \"#9c179e\"], [0.4444444444444444, \"#bd3786\"], [0.5555555555555556, \"#d8576b\"], [0.6666666666666666, \"#ed7953\"], [0.7777777777777778, \"#fb9f3a\"], [0.8888888888888888, \"#fdca26\"], [1.0, \"#f0f921\"]], \"type\": \"histogram2d\"}], \"histogram2dcontour\": [{\"colorbar\": {\"outlinewidth\": 0, \"ticks\": \"\"}, \"colorscale\": [[0.0, \"#0d0887\"], [0.1111111111111111, \"#46039f\"], [0.2222222222222222, \"#7201a8\"], [0.3333333333333333, \"#9c179e\"], [0.4444444444444444, \"#bd3786\"], [0.5555555555555556, \"#d8576b\"], [0.6666666666666666, \"#ed7953\"], [0.7777777777777778, \"#fb9f3a\"], [0.8888888888888888, \"#fdca26\"], [1.0, \"#f0f921\"]], \"type\": \"histogram2dcontour\"}], \"mesh3d\": [{\"colorbar\": {\"outlinewidth\": 0, \"ticks\": \"\"}, \"type\": \"mesh3d\"}], \"parcoords\": [{\"line\": {\"colorbar\": {\"outlinewidth\": 0, \"ticks\": \"\"}}, \"type\": \"parcoords\"}], \"pie\": [{\"automargin\": true, \"type\": \"pie\"}], \"scatter\": [{\"marker\": {\"colorbar\": {\"outlinewidth\": 0, \"ticks\": \"\"}}, \"type\": \"scatter\"}], \"scatter3d\": [{\"line\": {\"colorbar\": {\"outlinewidth\": 0, \"ticks\": \"\"}}, \"marker\": {\"colorbar\": {\"outlinewidth\": 0, \"ticks\": \"\"}}, \"type\": \"scatter3d\"}], \"scattercarpet\": [{\"marker\": {\"colorbar\": {\"outlinewidth\": 0, \"ticks\": \"\"}}, \"type\": \"scattercarpet\"}], \"scattergeo\": [{\"marker\": {\"colorbar\": {\"outlinewidth\": 0, \"ticks\": \"\"}}, \"type\": \"scattergeo\"}], \"scattergl\": [{\"marker\": {\"colorbar\": {\"outlinewidth\": 0, \"ticks\": \"\"}}, \"type\": \"scattergl\"}], \"scattermapbox\": [{\"marker\": {\"colorbar\": {\"outlinewidth\": 0, \"ticks\": \"\"}}, \"type\": \"scattermapbox\"}], \"scatterpolar\": [{\"marker\": {\"colorbar\": {\"outlinewidth\": 0, \"ticks\": \"\"}}, \"type\": \"scatterpolar\"}], \"scatterpolargl\": [{\"marker\": {\"colorbar\": {\"outlinewidth\": 0, \"ticks\": \"\"}}, \"type\": \"scatterpolargl\"}], \"scatterternary\": [{\"marker\": {\"colorbar\": {\"outlinewidth\": 0, \"ticks\": \"\"}}, \"type\": \"scatterternary\"}], \"surface\": [{\"colorbar\": {\"outlinewidth\": 0, \"ticks\": \"\"}, \"colorscale\": [[0.0, \"#0d0887\"], [0.1111111111111111, \"#46039f\"], [0.2222222222222222, \"#7201a8\"], [0.3333333333333333, \"#9c179e\"], [0.4444444444444444, \"#bd3786\"], [0.5555555555555556, \"#d8576b\"], [0.6666666666666666, \"#ed7953\"], [0.7777777777777778, \"#fb9f3a\"], [0.8888888888888888, \"#fdca26\"], [1.0, \"#f0f921\"]], \"type\": \"surface\"}], \"table\": [{\"cells\": {\"fill\": {\"color\": \"#EBF0F8\"}, \"line\": {\"color\": \"white\"}}, \"header\": {\"fill\": {\"color\": \"#C8D4E3\"}, \"line\": {\"color\": \"white\"}}, \"type\": \"table\"}]}, \"layout\": {\"annotationdefaults\": {\"arrowcolor\": \"#2a3f5f\", \"arrowhead\": 0, \"arrowwidth\": 1}, \"autotypenumbers\": \"strict\", \"coloraxis\": {\"colorbar\": {\"outlinewidth\": 0, \"ticks\": \"\"}}, \"colorscale\": {\"diverging\": [[0, \"#8e0152\"], [0.1, \"#c51b7d\"], [0.2, \"#de77ae\"], [0.3, \"#f1b6da\"], [0.4, \"#fde0ef\"], [0.5, \"#f7f7f7\"], [0.6, \"#e6f5d0\"], [0.7, \"#b8e186\"], [0.8, \"#7fbc41\"], [0.9, \"#4d9221\"], [1, \"#276419\"]], \"sequential\": [[0.0, \"#0d0887\"], [0.1111111111111111, \"#46039f\"], [0.2222222222222222, \"#7201a8\"], [0.3333333333333333, \"#9c179e\"], [0.4444444444444444, \"#bd3786\"], [0.5555555555555556, \"#d8576b\"], [0.6666666666666666, \"#ed7953\"], [0.7777777777777778, \"#fb9f3a\"], [0.8888888888888888, \"#fdca26\"], [1.0, \"#f0f921\"]], \"sequentialminus\": [[0.0, \"#0d0887\"], [0.1111111111111111, \"#46039f\"], [0.2222222222222222, \"#7201a8\"], [0.3333333333333333, \"#9c179e\"], [0.4444444444444444, \"#bd3786\"], [0.5555555555555556, \"#d8576b\"], [0.6666666666666666, \"#ed7953\"], [0.7777777777777778, \"#fb9f3a\"], [0.8888888888888888, \"#fdca26\"], [1.0, \"#f0f921\"]]}, \"colorway\": [\"#636efa\", \"#EF553B\", \"#00cc96\", \"#ab63fa\", \"#FFA15A\", \"#19d3f3\", \"#FF6692\", \"#B6E880\", \"#FF97FF\", \"#FECB52\"], \"font\": {\"color\": \"#2a3f5f\"}, \"geo\": {\"bgcolor\": \"white\", \"lakecolor\": \"white\", \"landcolor\": \"#E5ECF6\", \"showlakes\": true, \"showland\": true, \"subunitcolor\": \"white\"}, \"hoverlabel\": {\"align\": \"left\"}, \"hovermode\": \"closest\", \"mapbox\": {\"style\": \"light\"}, \"paper_bgcolor\": \"white\", \"plot_bgcolor\": \"#E5ECF6\", \"polar\": {\"angularaxis\": {\"gridcolor\": \"white\", \"linecolor\": \"white\", \"ticks\": \"\"}, \"bgcolor\": \"#E5ECF6\", \"radialaxis\": {\"gridcolor\": \"white\", \"linecolor\": \"white\", \"ticks\": \"\"}}, \"scene\": {\"xaxis\": {\"backgroundcolor\": \"#E5ECF6\", \"gridcolor\": \"white\", \"gridwidth\": 2, \"linecolor\": \"white\", \"showbackground\": true, \"ticks\": \"\", \"zerolinecolor\": \"white\"}, \"yaxis\": {\"backgroundcolor\": \"#E5ECF6\", \"gridcolor\": \"white\", \"gridwidth\": 2, \"linecolor\": \"white\", \"showbackground\": true, \"ticks\": \"\", \"zerolinecolor\": \"white\"}, \"zaxis\": {\"backgroundcolor\": \"#E5ECF6\", \"gridcolor\": \"white\", \"gridwidth\": 2, \"linecolor\": \"white\", \"showbackground\": true, \"ticks\": \"\", \"zerolinecolor\": \"white\"}}, \"shapedefaults\": {\"line\": {\"color\": \"#2a3f5f\"}}, \"ternary\": {\"aaxis\": {\"gridcolor\": \"white\", \"linecolor\": \"white\", \"ticks\": \"\"}, \"baxis\": {\"gridcolor\": \"white\", \"linecolor\": \"white\", \"ticks\": \"\"}, \"bgcolor\": \"#E5ECF6\", \"caxis\": {\"gridcolor\": \"white\", \"linecolor\": \"white\", \"ticks\": \"\"}}, \"title\": {\"x\": 0.05}, \"xaxis\": {\"automargin\": true, \"gridcolor\": \"white\", \"linecolor\": \"white\", \"ticks\": \"\", \"title\": {\"standoff\": 15}, \"zerolinecolor\": \"white\", \"zerolinewidth\": 2}, \"yaxis\": {\"automargin\": true, \"gridcolor\": \"white\", \"linecolor\": \"white\", \"ticks\": \"\", \"title\": {\"standoff\": 15}, \"zerolinecolor\": \"white\", \"zerolinewidth\": 2}}}, \"title\": {\"text\": \"FVC values for Patient Age\"}, \"xaxis\": {\"anchor\": \"y\", \"domain\": [0.0, 1.0], \"title\": {\"text\": \"Age\"}}, \"yaxis\": {\"anchor\": \"x\", \"domain\": [0.0, 1.0], \"title\": {\"text\": \"FVC\"}}},                        {\"responsive\": true}                    ).then(function(){\n",
       "                            \n",
       "var gd = document.getElementById('e0d862f0-61ed-46ec-89a4-550bad0d7667');\n",
       "var x = new MutationObserver(function (mutations, observer) {{\n",
       "        var display = window.getComputedStyle(gd).display;\n",
       "        if (!display || display === 'none') {{\n",
       "            console.log([gd, 'removed!']);\n",
       "            Plotly.purge(gd);\n",
       "            observer.disconnect();\n",
       "        }}\n",
       "}});\n",
       "\n",
       "// Listen for the removal of the full notebook cells\n",
       "var notebookContainer = gd.closest('#notebook-container');\n",
       "if (notebookContainer) {{\n",
       "    x.observe(notebookContainer, {childList: true});\n",
       "}}\n",
       "\n",
       "// Listen for the clearing of the current output cell\n",
       "var outputEl = gd.closest('.output');\n",
       "if (outputEl) {{\n",
       "    x.observe(outputEl, {childList: true});\n",
       "}}\n",
       "\n",
       "                        })                };                });            </script>        </div>"
      ]
     },
     "metadata": {},
     "output_type": "display_data"
    }
   ],
   "source": [
    "fig = px.scatter(final_dataframe, x=\"Age\", y=\"FVC\", color='Sex', title='FVC values for Patient Age')\n",
    "fig.show()"
   ]
  },
  {
   "cell_type": "code",
   "execution_count": null,
   "id": "respected-recycling",
   "metadata": {},
   "outputs": [],
   "source": []
  }
 ],
 "metadata": {
  "kernelspec": {
   "display_name": "Python 3",
   "language": "python",
   "name": "python3"
  },
  "language_info": {
   "codemirror_mode": {
    "name": "ipython",
    "version": 3
   },
   "file_extension": ".py",
   "mimetype": "text/x-python",
   "name": "python",
   "nbconvert_exporter": "python",
   "pygments_lexer": "ipython3",
   "version": "3.6.12"
  }
 },
 "nbformat": 4,
 "nbformat_minor": 5
}
