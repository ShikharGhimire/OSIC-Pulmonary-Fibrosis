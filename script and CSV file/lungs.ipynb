{
 "cells": [
  {
   "cell_type": "code",
   "execution_count": 31,
   "id": "dimensional-spare",
   "metadata": {},
   "outputs": [],
   "source": [
    "import pandas as pd\n",
    "import numpy as np\n",
    "import matplotlib.pyplot as plt\n",
    "import os"
   ]
  },
  {
   "cell_type": "markdown",
   "id": "broad-edward",
   "metadata": {},
   "source": [
    "## Importing the data and exploitory data analysis"
   ]
  },
  {
   "cell_type": "code",
   "execution_count": 2,
   "id": "double-handling",
   "metadata": {},
   "outputs": [],
   "source": [
    "train_data = pd.read_csv('train.csv')\n",
    "test_data = pd.read_csv('test.csv')"
   ]
  },
  {
   "cell_type": "code",
   "execution_count": 3,
   "id": "persistent-fundamentals",
   "metadata": {},
   "outputs": [
    {
     "data": {
      "text/html": [
       "<div>\n",
       "<style scoped>\n",
       "    .dataframe tbody tr th:only-of-type {\n",
       "        vertical-align: middle;\n",
       "    }\n",
       "\n",
       "    .dataframe tbody tr th {\n",
       "        vertical-align: top;\n",
       "    }\n",
       "\n",
       "    .dataframe thead th {\n",
       "        text-align: right;\n",
       "    }\n",
       "</style>\n",
       "<table border=\"1\" class=\"dataframe\">\n",
       "  <thead>\n",
       "    <tr style=\"text-align: right;\">\n",
       "      <th></th>\n",
       "      <th>Patient</th>\n",
       "      <th>Weeks</th>\n",
       "      <th>FVC</th>\n",
       "      <th>Percent</th>\n",
       "      <th>Age</th>\n",
       "      <th>Sex</th>\n",
       "      <th>SmokingStatus</th>\n",
       "    </tr>\n",
       "  </thead>\n",
       "  <tbody>\n",
       "    <tr>\n",
       "      <th>0</th>\n",
       "      <td>ID00007637202177411956430</td>\n",
       "      <td>-4</td>\n",
       "      <td>2315</td>\n",
       "      <td>58.253649</td>\n",
       "      <td>79</td>\n",
       "      <td>Male</td>\n",
       "      <td>Ex-smoker</td>\n",
       "    </tr>\n",
       "    <tr>\n",
       "      <th>1</th>\n",
       "      <td>ID00007637202177411956430</td>\n",
       "      <td>5</td>\n",
       "      <td>2214</td>\n",
       "      <td>55.712129</td>\n",
       "      <td>79</td>\n",
       "      <td>Male</td>\n",
       "      <td>Ex-smoker</td>\n",
       "    </tr>\n",
       "    <tr>\n",
       "      <th>2</th>\n",
       "      <td>ID00007637202177411956430</td>\n",
       "      <td>7</td>\n",
       "      <td>2061</td>\n",
       "      <td>51.862104</td>\n",
       "      <td>79</td>\n",
       "      <td>Male</td>\n",
       "      <td>Ex-smoker</td>\n",
       "    </tr>\n",
       "    <tr>\n",
       "      <th>3</th>\n",
       "      <td>ID00007637202177411956430</td>\n",
       "      <td>9</td>\n",
       "      <td>2144</td>\n",
       "      <td>53.950679</td>\n",
       "      <td>79</td>\n",
       "      <td>Male</td>\n",
       "      <td>Ex-smoker</td>\n",
       "    </tr>\n",
       "    <tr>\n",
       "      <th>4</th>\n",
       "      <td>ID00007637202177411956430</td>\n",
       "      <td>11</td>\n",
       "      <td>2069</td>\n",
       "      <td>52.063412</td>\n",
       "      <td>79</td>\n",
       "      <td>Male</td>\n",
       "      <td>Ex-smoker</td>\n",
       "    </tr>\n",
       "  </tbody>\n",
       "</table>\n",
       "</div>"
      ],
      "text/plain": [
       "                     Patient  Weeks   FVC    Percent  Age   Sex SmokingStatus\n",
       "0  ID00007637202177411956430     -4  2315  58.253649   79  Male     Ex-smoker\n",
       "1  ID00007637202177411956430      5  2214  55.712129   79  Male     Ex-smoker\n",
       "2  ID00007637202177411956430      7  2061  51.862104   79  Male     Ex-smoker\n",
       "3  ID00007637202177411956430      9  2144  53.950679   79  Male     Ex-smoker\n",
       "4  ID00007637202177411956430     11  2069  52.063412   79  Male     Ex-smoker"
      ]
     },
     "execution_count": 3,
     "metadata": {},
     "output_type": "execute_result"
    }
   ],
   "source": [
    "train_data.head()"
   ]
  },
  {
   "cell_type": "markdown",
   "id": "passing-reserve",
   "metadata": {},
   "source": [
    "### Let's check what each column represents\n",
    "- Patient : The ID of a patient admitted in hospital\n",
    "- Weeks : The followup week of the Patient\n",
    "- FVC :  the recorded lung capacity in milliliter\n",
    "- Percent : a computed field which approximates the patient's FVC as a percent of the typical FVC for a person of similar characteristics\n",
    "- Age : Patients age\n",
    "- Sex: Patients sex\n",
    "- SmokingStatus : Smokes or not?"
   ]
  },
  {
   "cell_type": "code",
   "execution_count": 4,
   "id": "brutal-perry",
   "metadata": {},
   "outputs": [
    {
     "name": "stdout",
     "output_type": "stream",
     "text": [
      "<class 'pandas.core.frame.DataFrame'>\n",
      "RangeIndex: 1549 entries, 0 to 1548\n",
      "Data columns (total 7 columns):\n",
      " #   Column         Non-Null Count  Dtype  \n",
      "---  ------         --------------  -----  \n",
      " 0   Patient        1549 non-null   object \n",
      " 1   Weeks          1549 non-null   int64  \n",
      " 2   FVC            1549 non-null   int64  \n",
      " 3   Percent        1549 non-null   float64\n",
      " 4   Age            1549 non-null   int64  \n",
      " 5   Sex            1549 non-null   object \n",
      " 6   SmokingStatus  1549 non-null   object \n",
      "dtypes: float64(1), int64(3), object(3)\n",
      "memory usage: 84.8+ KB\n"
     ]
    }
   ],
   "source": [
    "#Checking train dataframe info\n",
    "train_data.info()"
   ]
  },
  {
   "cell_type": "code",
   "execution_count": 5,
   "id": "separated-matthew",
   "metadata": {},
   "outputs": [
    {
     "name": "stdout",
     "output_type": "stream",
     "text": [
      "<class 'pandas.core.frame.DataFrame'>\n",
      "RangeIndex: 5 entries, 0 to 4\n",
      "Data columns (total 7 columns):\n",
      " #   Column         Non-Null Count  Dtype  \n",
      "---  ------         --------------  -----  \n",
      " 0   Patient        5 non-null      object \n",
      " 1   Weeks          5 non-null      int64  \n",
      " 2   FVC            5 non-null      int64  \n",
      " 3   Percent        5 non-null      float64\n",
      " 4   Age            5 non-null      int64  \n",
      " 5   Sex            5 non-null      object \n",
      " 6   SmokingStatus  5 non-null      object \n",
      "dtypes: float64(1), int64(3), object(3)\n",
      "memory usage: 408.0+ bytes\n"
     ]
    }
   ],
   "source": [
    "#Checking test dataframe info\n",
    "test_data.info()"
   ]
  },
  {
   "cell_type": "code",
   "execution_count": 6,
   "id": "pursuant-printer",
   "metadata": {},
   "outputs": [
    {
     "data": {
      "text/html": [
       "<div>\n",
       "<style scoped>\n",
       "    .dataframe tbody tr th:only-of-type {\n",
       "        vertical-align: middle;\n",
       "    }\n",
       "\n",
       "    .dataframe tbody tr th {\n",
       "        vertical-align: top;\n",
       "    }\n",
       "\n",
       "    .dataframe thead th {\n",
       "        text-align: right;\n",
       "    }\n",
       "</style>\n",
       "<table border=\"1\" class=\"dataframe\">\n",
       "  <thead>\n",
       "    <tr style=\"text-align: right;\">\n",
       "      <th></th>\n",
       "      <th>Weeks</th>\n",
       "      <th>FVC</th>\n",
       "      <th>Percent</th>\n",
       "      <th>Age</th>\n",
       "    </tr>\n",
       "  </thead>\n",
       "  <tbody>\n",
       "    <tr>\n",
       "      <th>count</th>\n",
       "      <td>1549.000000</td>\n",
       "      <td>1549.000000</td>\n",
       "      <td>1549.000000</td>\n",
       "      <td>1549.000000</td>\n",
       "    </tr>\n",
       "    <tr>\n",
       "      <th>mean</th>\n",
       "      <td>31.861846</td>\n",
       "      <td>2690.479019</td>\n",
       "      <td>77.672654</td>\n",
       "      <td>67.188509</td>\n",
       "    </tr>\n",
       "    <tr>\n",
       "      <th>std</th>\n",
       "      <td>23.247550</td>\n",
       "      <td>832.770959</td>\n",
       "      <td>19.823261</td>\n",
       "      <td>7.057395</td>\n",
       "    </tr>\n",
       "    <tr>\n",
       "      <th>min</th>\n",
       "      <td>-5.000000</td>\n",
       "      <td>827.000000</td>\n",
       "      <td>28.877577</td>\n",
       "      <td>49.000000</td>\n",
       "    </tr>\n",
       "    <tr>\n",
       "      <th>25%</th>\n",
       "      <td>12.000000</td>\n",
       "      <td>2109.000000</td>\n",
       "      <td>62.832700</td>\n",
       "      <td>63.000000</td>\n",
       "    </tr>\n",
       "    <tr>\n",
       "      <th>50%</th>\n",
       "      <td>28.000000</td>\n",
       "      <td>2641.000000</td>\n",
       "      <td>75.676937</td>\n",
       "      <td>68.000000</td>\n",
       "    </tr>\n",
       "    <tr>\n",
       "      <th>75%</th>\n",
       "      <td>47.000000</td>\n",
       "      <td>3171.000000</td>\n",
       "      <td>88.621065</td>\n",
       "      <td>72.000000</td>\n",
       "    </tr>\n",
       "    <tr>\n",
       "      <th>max</th>\n",
       "      <td>133.000000</td>\n",
       "      <td>6399.000000</td>\n",
       "      <td>153.145378</td>\n",
       "      <td>88.000000</td>\n",
       "    </tr>\n",
       "  </tbody>\n",
       "</table>\n",
       "</div>"
      ],
      "text/plain": [
       "             Weeks          FVC      Percent          Age\n",
       "count  1549.000000  1549.000000  1549.000000  1549.000000\n",
       "mean     31.861846  2690.479019    77.672654    67.188509\n",
       "std      23.247550   832.770959    19.823261     7.057395\n",
       "min      -5.000000   827.000000    28.877577    49.000000\n",
       "25%      12.000000  2109.000000    62.832700    63.000000\n",
       "50%      28.000000  2641.000000    75.676937    68.000000\n",
       "75%      47.000000  3171.000000    88.621065    72.000000\n",
       "max     133.000000  6399.000000   153.145378    88.000000"
      ]
     },
     "execution_count": 6,
     "metadata": {},
     "output_type": "execute_result"
    }
   ],
   "source": [
    "# Statistical Analysis of train data\n",
    "train_data.describe()"
   ]
  },
  {
   "cell_type": "code",
   "execution_count": 7,
   "id": "accurate-archive",
   "metadata": {},
   "outputs": [
    {
     "data": {
      "text/html": [
       "<div>\n",
       "<style scoped>\n",
       "    .dataframe tbody tr th:only-of-type {\n",
       "        vertical-align: middle;\n",
       "    }\n",
       "\n",
       "    .dataframe tbody tr th {\n",
       "        vertical-align: top;\n",
       "    }\n",
       "\n",
       "    .dataframe thead th {\n",
       "        text-align: right;\n",
       "    }\n",
       "</style>\n",
       "<table border=\"1\" class=\"dataframe\">\n",
       "  <thead>\n",
       "    <tr style=\"text-align: right;\">\n",
       "      <th></th>\n",
       "      <th>Weeks</th>\n",
       "      <th>FVC</th>\n",
       "      <th>Percent</th>\n",
       "      <th>Age</th>\n",
       "    </tr>\n",
       "  </thead>\n",
       "  <tbody>\n",
       "    <tr>\n",
       "      <th>count</th>\n",
       "      <td>5.000000</td>\n",
       "      <td>5.000000</td>\n",
       "      <td>5.000000</td>\n",
       "      <td>5.000000</td>\n",
       "    </tr>\n",
       "    <tr>\n",
       "      <th>mean</th>\n",
       "      <td>8.800000</td>\n",
       "      <td>2781.600000</td>\n",
       "      <td>75.997702</td>\n",
       "      <td>71.800000</td>\n",
       "    </tr>\n",
       "    <tr>\n",
       "      <th>std</th>\n",
       "      <td>7.049823</td>\n",
       "      <td>516.475846</td>\n",
       "      <td>4.970960</td>\n",
       "      <td>2.167948</td>\n",
       "    </tr>\n",
       "    <tr>\n",
       "      <th>min</th>\n",
       "      <td>0.000000</td>\n",
       "      <td>1930.000000</td>\n",
       "      <td>70.186855</td>\n",
       "      <td>68.000000</td>\n",
       "    </tr>\n",
       "    <tr>\n",
       "      <th>25%</th>\n",
       "      <td>6.000000</td>\n",
       "      <td>2739.000000</td>\n",
       "      <td>71.824968</td>\n",
       "      <td>72.000000</td>\n",
       "    </tr>\n",
       "    <tr>\n",
       "      <th>50%</th>\n",
       "      <td>6.000000</td>\n",
       "      <td>2925.000000</td>\n",
       "      <td>76.672493</td>\n",
       "      <td>73.000000</td>\n",
       "    </tr>\n",
       "    <tr>\n",
       "      <th>75%</th>\n",
       "      <td>15.000000</td>\n",
       "      <td>3020.000000</td>\n",
       "      <td>79.258903</td>\n",
       "      <td>73.000000</td>\n",
       "    </tr>\n",
       "    <tr>\n",
       "      <th>max</th>\n",
       "      <td>17.000000</td>\n",
       "      <td>3294.000000</td>\n",
       "      <td>82.045291</td>\n",
       "      <td>73.000000</td>\n",
       "    </tr>\n",
       "  </tbody>\n",
       "</table>\n",
       "</div>"
      ],
      "text/plain": [
       "           Weeks          FVC    Percent        Age\n",
       "count   5.000000     5.000000   5.000000   5.000000\n",
       "mean    8.800000  2781.600000  75.997702  71.800000\n",
       "std     7.049823   516.475846   4.970960   2.167948\n",
       "min     0.000000  1930.000000  70.186855  68.000000\n",
       "25%     6.000000  2739.000000  71.824968  72.000000\n",
       "50%     6.000000  2925.000000  76.672493  73.000000\n",
       "75%    15.000000  3020.000000  79.258903  73.000000\n",
       "max    17.000000  3294.000000  82.045291  73.000000"
      ]
     },
     "execution_count": 7,
     "metadata": {},
     "output_type": "execute_result"
    }
   ],
   "source": [
    "# Statistical Analysis of test data\n",
    "test_data.describe()"
   ]
  },
  {
   "cell_type": "code",
   "execution_count": 8,
   "id": "minor-battle",
   "metadata": {},
   "outputs": [
    {
     "data": {
      "text/plain": [
       "Patient          0\n",
       "Weeks            0\n",
       "FVC              0\n",
       "Percent          0\n",
       "Age              0\n",
       "Sex              0\n",
       "SmokingStatus    0\n",
       "dtype: int64"
      ]
     },
     "execution_count": 8,
     "metadata": {},
     "output_type": "execute_result"
    }
   ],
   "source": [
    "##Checking whether there is any empty values in both train and test dataset\n",
    "train_data.isnull().sum()"
   ]
  },
  {
   "cell_type": "code",
   "execution_count": 9,
   "id": "modular-ecology",
   "metadata": {},
   "outputs": [
    {
     "data": {
      "text/plain": [
       "Patient          0\n",
       "Weeks            0\n",
       "FVC              0\n",
       "Percent          0\n",
       "Age              0\n",
       "Sex              0\n",
       "SmokingStatus    0\n",
       "dtype: int64"
      ]
     },
     "execution_count": 9,
     "metadata": {},
     "output_type": "execute_result"
    }
   ],
   "source": [
    "test_data.isnull().sum()"
   ]
  },
  {
   "cell_type": "markdown",
   "id": "inner-directory",
   "metadata": {},
   "source": [
    "- No null values present in both train and test set"
   ]
  },
  {
   "cell_type": "code",
   "execution_count": 10,
   "id": "resistant-season",
   "metadata": {},
   "outputs": [
    {
     "data": {
      "text/html": [
       "<div>\n",
       "<style scoped>\n",
       "    .dataframe tbody tr th:only-of-type {\n",
       "        vertical-align: middle;\n",
       "    }\n",
       "\n",
       "    .dataframe tbody tr th {\n",
       "        vertical-align: top;\n",
       "    }\n",
       "\n",
       "    .dataframe thead th {\n",
       "        text-align: right;\n",
       "    }\n",
       "</style>\n",
       "<table border=\"1\" class=\"dataframe\">\n",
       "  <thead>\n",
       "    <tr style=\"text-align: right;\">\n",
       "      <th></th>\n",
       "      <th></th>\n",
       "      <th>mean</th>\n",
       "      <th>std</th>\n",
       "      <th>count</th>\n",
       "    </tr>\n",
       "    <tr>\n",
       "      <th>Sex</th>\n",
       "      <th>SmokingStatus</th>\n",
       "      <th></th>\n",
       "      <th></th>\n",
       "      <th></th>\n",
       "    </tr>\n",
       "  </thead>\n",
       "  <tbody>\n",
       "    <tr>\n",
       "      <th rowspan=\"3\" valign=\"top\">Male</th>\n",
       "      <th>Ex-smoker</th>\n",
       "      <td>2886.024705</td>\n",
       "      <td>769.105923</td>\n",
       "      <td>931</td>\n",
       "    </tr>\n",
       "    <tr>\n",
       "      <th>Never smoked</th>\n",
       "      <td>2878.034934</td>\n",
       "      <td>667.921434</td>\n",
       "      <td>229</td>\n",
       "    </tr>\n",
       "    <tr>\n",
       "      <th>Currently smokes</th>\n",
       "      <td>3300.828125</td>\n",
       "      <td>694.108554</td>\n",
       "      <td>64</td>\n",
       "    </tr>\n",
       "    <tr>\n",
       "      <th rowspan=\"3\" valign=\"top\">Female</th>\n",
       "      <th>Never smoked</th>\n",
       "      <td>1775.985000</td>\n",
       "      <td>584.208226</td>\n",
       "      <td>200</td>\n",
       "    </tr>\n",
       "    <tr>\n",
       "      <th>Ex-smoker</th>\n",
       "      <td>1901.906542</td>\n",
       "      <td>450.294485</td>\n",
       "      <td>107</td>\n",
       "    </tr>\n",
       "    <tr>\n",
       "      <th>Currently smokes</th>\n",
       "      <td>2868.833333</td>\n",
       "      <td>71.124787</td>\n",
       "      <td>18</td>\n",
       "    </tr>\n",
       "  </tbody>\n",
       "</table>\n",
       "</div>"
      ],
      "text/plain": [
       "                                mean         std  count\n",
       "Sex    SmokingStatus                                   \n",
       "Male   Ex-smoker         2886.024705  769.105923    931\n",
       "       Never smoked      2878.034934  667.921434    229\n",
       "       Currently smokes  3300.828125  694.108554     64\n",
       "Female Never smoked      1775.985000  584.208226    200\n",
       "       Ex-smoker         1901.906542  450.294485    107\n",
       "       Currently smokes  2868.833333   71.124787     18"
      ]
     },
     "execution_count": 10,
     "metadata": {},
     "output_type": "execute_result"
    }
   ],
   "source": [
    "train_data.groupby(['Sex','SmokingStatus'])['FVC'].agg(['mean','std','count']).sort_values(by=['Sex','count'],ascending=False)"
   ]
  },
  {
   "cell_type": "markdown",
   "id": "classical-compact",
   "metadata": {},
   "source": [
    "- FVC has the highest rate with the people that still smokes. However, because the data for the smoking is quite low, we can't really generalise that people who smoke has high FVC."
   ]
  },
  {
   "cell_type": "code",
   "execution_count": 11,
   "id": "sufficient-evening",
   "metadata": {},
   "outputs": [
    {
     "data": {
      "text/html": [
       "<div>\n",
       "<style scoped>\n",
       "    .dataframe tbody tr th:only-of-type {\n",
       "        vertical-align: middle;\n",
       "    }\n",
       "\n",
       "    .dataframe tbody tr th {\n",
       "        vertical-align: top;\n",
       "    }\n",
       "\n",
       "    .dataframe thead th {\n",
       "        text-align: right;\n",
       "    }\n",
       "</style>\n",
       "<table border=\"1\" class=\"dataframe\">\n",
       "  <thead>\n",
       "    <tr style=\"text-align: right;\">\n",
       "      <th></th>\n",
       "      <th></th>\n",
       "      <th>mean</th>\n",
       "      <th>std</th>\n",
       "      <th>count</th>\n",
       "    </tr>\n",
       "    <tr>\n",
       "      <th>Sex</th>\n",
       "      <th>SmokingStatus</th>\n",
       "      <th></th>\n",
       "      <th></th>\n",
       "      <th></th>\n",
       "    </tr>\n",
       "  </thead>\n",
       "  <tbody>\n",
       "    <tr>\n",
       "      <th rowspan=\"2\" valign=\"top\">Male</th>\n",
       "      <th>Ex-smoker</th>\n",
       "      <td>2745.75</td>\n",
       "      <td>589.147619</td>\n",
       "      <td>4</td>\n",
       "    </tr>\n",
       "    <tr>\n",
       "      <th>Never smoked</th>\n",
       "      <td>2925.00</td>\n",
       "      <td>NaN</td>\n",
       "      <td>1</td>\n",
       "    </tr>\n",
       "  </tbody>\n",
       "</table>\n",
       "</div>"
      ],
      "text/plain": [
       "                       mean         std  count\n",
       "Sex  SmokingStatus                            \n",
       "Male Ex-smoker      2745.75  589.147619      4\n",
       "     Never smoked   2925.00         NaN      1"
      ]
     },
     "execution_count": 11,
     "metadata": {},
     "output_type": "execute_result"
    }
   ],
   "source": [
    "test_data.groupby(['Sex','SmokingStatus'])['FVC'].agg(['mean','std','count']).sort_values(by=['Sex','count'],ascending=False)"
   ]
  },
  {
   "cell_type": "markdown",
   "id": "oriental-monday",
   "metadata": {},
   "source": [
    "### Counting the number of patients in both train and test set"
   ]
  },
  {
   "cell_type": "code",
   "execution_count": 12,
   "id": "opponent-yacht",
   "metadata": {},
   "outputs": [
    {
     "name": "stdout",
     "output_type": "stream",
     "text": [
      "train_data patient count is : 1549\n"
     ]
    }
   ],
   "source": [
    "#Train data\n",
    "print('train_data patient count is : {}'.format(train_data['Patient'].count()))"
   ]
  },
  {
   "cell_type": "code",
   "execution_count": 13,
   "id": "automated-diana",
   "metadata": {},
   "outputs": [
    {
     "name": "stdout",
     "output_type": "stream",
     "text": [
      "test_data patient count is : 5\n"
     ]
    }
   ],
   "source": [
    "#Test data\n",
    "print('test_data patient count is : {}'.format(test_data['Patient'].count()))"
   ]
  },
  {
   "cell_type": "code",
   "execution_count": 14,
   "id": "chief-arkansas",
   "metadata": {},
   "outputs": [
    {
     "name": "stdout",
     "output_type": "stream",
     "text": [
      "train_data unique patient count is : 176\n"
     ]
    }
   ],
   "source": [
    "#Unique patient in training data\n",
    "print('train_data unique patient count is : {}'.format(train_data['Patient'].nunique()))"
   ]
  },
  {
   "cell_type": "code",
   "execution_count": 15,
   "id": "higher-january",
   "metadata": {},
   "outputs": [
    {
     "name": "stdout",
     "output_type": "stream",
     "text": [
      "test_data unique patient count is : 5\n"
     ]
    }
   ],
   "source": [
    "#Unique patient in testing data\n",
    "print('test_data unique patient count is : {}'.format(test_data['Patient'].nunique()))"
   ]
  },
  {
   "cell_type": "markdown",
   "id": "charitable-creativity",
   "metadata": {},
   "source": [
    "#### Let's add frequency column in our train dataframe"
   ]
  },
  {
   "cell_type": "code",
   "execution_count": 18,
   "id": "elegant-romance",
   "metadata": {},
   "outputs": [],
   "source": [
    "patient_freq = train_data.groupby(['Patient'])['Patient'].count()"
   ]
  },
  {
   "cell_type": "code",
   "execution_count": 22,
   "id": "reflected-public",
   "metadata": {},
   "outputs": [],
   "source": [
    "patient_freq = pd.DataFrame({'Patient':patient_freq.index,'Frequencies': patient_freq.values})"
   ]
  },
  {
   "cell_type": "code",
   "execution_count": 23,
   "id": "cosmetic-kenya",
   "metadata": {},
   "outputs": [],
   "source": [
    "final_dataframe = pd.merge(train_data,patient_freq,how='inner',on = 'Patient')"
   ]
  },
  {
   "cell_type": "code",
   "execution_count": null,
   "id": "frequent-house",
   "metadata": {},
   "outputs": [],
   "source": [
    "final_dataframe.sort_values(by='Frequencies',ascending = False)"
   ]
  },
  {
   "cell_type": "markdown",
   "id": "challenging-fancy",
   "metadata": {},
   "source": [
    "### Checking how many CT scans each patient recieved"
   ]
  },
  {
   "cell_type": "code",
   "execution_count": 42,
   "id": "female-synthetic",
   "metadata": {},
   "outputs": [],
   "source": [
    "train_directory = r'C:\\Users\\ghimi\\Desktop\\OSIC-Pulmonary-Fibrosis\\brain\\train'"
   ]
  },
  {
   "cell_type": "code",
   "execution_count": 43,
   "id": "coral-couple",
   "metadata": {},
   "outputs": [],
   "source": [
    "patient_id = os.listdir(train_directory)\n",
    "patient_id = sorted(patient_id)"
   ]
  },
  {
   "cell_type": "code",
   "execution_count": 44,
   "id": "recovered-stand",
   "metadata": {},
   "outputs": [],
   "source": [
    "cat_scan = []\n",
    "for i in patient_id:\n",
    "    cat_scan.append(len(os.listdir(train_directory+\"\\\\\" + i)))"
   ]
  },
  {
   "cell_type": "code",
   "execution_count": 52,
   "id": "american-delay",
   "metadata": {},
   "outputs": [],
   "source": [
    "catScan_df = pd.DataFrame({'Patient':patient_id,'ctScan_counts':cat_scan})"
   ]
  },
  {
   "cell_type": "code",
   "execution_count": 53,
   "id": "micro-emergency",
   "metadata": {},
   "outputs": [],
   "source": [
    "#Merging it into final dataframe\n",
    "final_dataframe = pd.merge(final_dataframe,catScan_df,how='inner',on = 'Patient')"
   ]
  },
  {
   "cell_type": "markdown",
   "id": "shared-robinson",
   "metadata": {},
   "source": [
    "### Creating patient dataframe by removing duplicates in the original final dataframe for further data exploration "
   ]
  },
  {
   "cell_type": "code",
   "execution_count": 70,
   "id": "executed-thickness",
   "metadata": {},
   "outputs": [],
   "source": [
    "patient_dataframe = final_dataframe.drop_duplicates(subset = 'Patient').reset_index(drop=True)"
   ]
  },
  {
   "cell_type": "code",
   "execution_count": 76,
   "id": "effective-lewis",
   "metadata": {},
   "outputs": [
    {
     "name": "stdout",
     "output_type": "stream",
     "text": [
      "Maximum number of CT scan taken by one patient is : 1018\n",
      "Least number of CT scan taken by one patient is: 12\n",
      "Average number of CT scan taken by one patient is -Rounded Figure-: 188\n",
      "Total number of CT scan taken by one patient is : 33026\n"
     ]
    }
   ],
   "source": [
    "#Maximum number of CT scan \n",
    "print('Maximum number of CT scan taken by one patient is : {}'.format(patient_dataframe['ctScan_counts'].max()))\n",
    "print('Least number of CT scan taken by one patient is: {}'.format(patient_dataframe['ctScan_counts'].min()))\n",
    "print('Average number of CT scan taken by one patient is -Rounded Figure-: {}'.format(round(patient_dataframe['ctScan_counts'].mean())))\n",
    "print('Total number of CT scan taken by one patient is : {}'.format(round(patient_dataframe['ctScan_counts'].sum())))"
   ]
  },
  {
   "cell_type": "code",
   "execution_count": null,
   "id": "fifth-deputy",
   "metadata": {},
   "outputs": [],
   "source": []
  }
 ],
 "metadata": {
  "kernelspec": {
   "display_name": "Python 3",
   "language": "python",
   "name": "python3"
  },
  "language_info": {
   "codemirror_mode": {
    "name": "ipython",
    "version": 3
   },
   "file_extension": ".py",
   "mimetype": "text/x-python",
   "name": "python",
   "nbconvert_exporter": "python",
   "pygments_lexer": "ipython3",
   "version": "3.6.12"
  }
 },
 "nbformat": 4,
 "nbformat_minor": 5
}
