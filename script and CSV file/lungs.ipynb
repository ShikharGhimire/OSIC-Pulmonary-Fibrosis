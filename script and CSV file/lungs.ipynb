{
 "cells": [
  {
   "cell_type": "code",
   "execution_count": 39,
   "id": "baking-notebook",
   "metadata": {},
   "outputs": [],
   "source": [
    "import pandas as pd\n",
    "import numpy as np\n",
    "import matplotlib.pyplot as plt\n",
    "import os\n",
    "import seaborn as sns\n",
    "from plotly.offline import iplot"
   ]
  },
  {
   "cell_type": "markdown",
   "id": "experimental-croatia",
   "metadata": {},
   "source": [
    "## Importing the data and exploitory data analysis"
   ]
  },
  {
   "cell_type": "code",
   "execution_count": 2,
   "id": "minor-essex",
   "metadata": {},
   "outputs": [],
   "source": [
    "train_data = pd.read_csv('train.csv')\n",
    "test_data = pd.read_csv('test.csv')"
   ]
  },
  {
   "cell_type": "code",
   "execution_count": 3,
   "id": "alpine-ballet",
   "metadata": {},
   "outputs": [
    {
     "data": {
      "text/html": [
       "<div>\n",
       "<style scoped>\n",
       "    .dataframe tbody tr th:only-of-type {\n",
       "        vertical-align: middle;\n",
       "    }\n",
       "\n",
       "    .dataframe tbody tr th {\n",
       "        vertical-align: top;\n",
       "    }\n",
       "\n",
       "    .dataframe thead th {\n",
       "        text-align: right;\n",
       "    }\n",
       "</style>\n",
       "<table border=\"1\" class=\"dataframe\">\n",
       "  <thead>\n",
       "    <tr style=\"text-align: right;\">\n",
       "      <th></th>\n",
       "      <th>Patient</th>\n",
       "      <th>Weeks</th>\n",
       "      <th>FVC</th>\n",
       "      <th>Percent</th>\n",
       "      <th>Age</th>\n",
       "      <th>Sex</th>\n",
       "      <th>SmokingStatus</th>\n",
       "    </tr>\n",
       "  </thead>\n",
       "  <tbody>\n",
       "    <tr>\n",
       "      <th>0</th>\n",
       "      <td>ID00007637202177411956430</td>\n",
       "      <td>-4</td>\n",
       "      <td>2315</td>\n",
       "      <td>58.253649</td>\n",
       "      <td>79</td>\n",
       "      <td>Male</td>\n",
       "      <td>Ex-smoker</td>\n",
       "    </tr>\n",
       "    <tr>\n",
       "      <th>1</th>\n",
       "      <td>ID00007637202177411956430</td>\n",
       "      <td>5</td>\n",
       "      <td>2214</td>\n",
       "      <td>55.712129</td>\n",
       "      <td>79</td>\n",
       "      <td>Male</td>\n",
       "      <td>Ex-smoker</td>\n",
       "    </tr>\n",
       "    <tr>\n",
       "      <th>2</th>\n",
       "      <td>ID00007637202177411956430</td>\n",
       "      <td>7</td>\n",
       "      <td>2061</td>\n",
       "      <td>51.862104</td>\n",
       "      <td>79</td>\n",
       "      <td>Male</td>\n",
       "      <td>Ex-smoker</td>\n",
       "    </tr>\n",
       "    <tr>\n",
       "      <th>3</th>\n",
       "      <td>ID00007637202177411956430</td>\n",
       "      <td>9</td>\n",
       "      <td>2144</td>\n",
       "      <td>53.950679</td>\n",
       "      <td>79</td>\n",
       "      <td>Male</td>\n",
       "      <td>Ex-smoker</td>\n",
       "    </tr>\n",
       "    <tr>\n",
       "      <th>4</th>\n",
       "      <td>ID00007637202177411956430</td>\n",
       "      <td>11</td>\n",
       "      <td>2069</td>\n",
       "      <td>52.063412</td>\n",
       "      <td>79</td>\n",
       "      <td>Male</td>\n",
       "      <td>Ex-smoker</td>\n",
       "    </tr>\n",
       "  </tbody>\n",
       "</table>\n",
       "</div>"
      ],
      "text/plain": [
       "                     Patient  Weeks   FVC    Percent  Age   Sex SmokingStatus\n",
       "0  ID00007637202177411956430     -4  2315  58.253649   79  Male     Ex-smoker\n",
       "1  ID00007637202177411956430      5  2214  55.712129   79  Male     Ex-smoker\n",
       "2  ID00007637202177411956430      7  2061  51.862104   79  Male     Ex-smoker\n",
       "3  ID00007637202177411956430      9  2144  53.950679   79  Male     Ex-smoker\n",
       "4  ID00007637202177411956430     11  2069  52.063412   79  Male     Ex-smoker"
      ]
     },
     "execution_count": 3,
     "metadata": {},
     "output_type": "execute_result"
    }
   ],
   "source": [
    "train_data.head()"
   ]
  },
  {
   "cell_type": "markdown",
   "id": "oriental-phone",
   "metadata": {},
   "source": [
    "### Let's check what each column represents\n",
    "- Patient : The ID of a patient admitted in hospital\n",
    "- Weeks : The followup week of the Patient\n",
    "- FVC :  the recorded lung capacity in milliliter\n",
    "- Percent : a computed field which approximates the patient's FVC as a percent of the typical FVC for a person of similar characteristics\n",
    "- Age : Patients age\n",
    "- Sex: Patients sex\n",
    "- SmokingStatus : Smokes or not?"
   ]
  },
  {
   "cell_type": "code",
   "execution_count": 4,
   "id": "dedicated-ordinance",
   "metadata": {},
   "outputs": [
    {
     "name": "stdout",
     "output_type": "stream",
     "text": [
      "<class 'pandas.core.frame.DataFrame'>\n",
      "RangeIndex: 1549 entries, 0 to 1548\n",
      "Data columns (total 7 columns):\n",
      " #   Column         Non-Null Count  Dtype  \n",
      "---  ------         --------------  -----  \n",
      " 0   Patient        1549 non-null   object \n",
      " 1   Weeks          1549 non-null   int64  \n",
      " 2   FVC            1549 non-null   int64  \n",
      " 3   Percent        1549 non-null   float64\n",
      " 4   Age            1549 non-null   int64  \n",
      " 5   Sex            1549 non-null   object \n",
      " 6   SmokingStatus  1549 non-null   object \n",
      "dtypes: float64(1), int64(3), object(3)\n",
      "memory usage: 84.8+ KB\n"
     ]
    }
   ],
   "source": [
    "#Checking train dataframe info\n",
    "train_data.info()"
   ]
  },
  {
   "cell_type": "code",
   "execution_count": 5,
   "id": "competitive-burton",
   "metadata": {},
   "outputs": [
    {
     "name": "stdout",
     "output_type": "stream",
     "text": [
      "<class 'pandas.core.frame.DataFrame'>\n",
      "RangeIndex: 5 entries, 0 to 4\n",
      "Data columns (total 7 columns):\n",
      " #   Column         Non-Null Count  Dtype  \n",
      "---  ------         --------------  -----  \n",
      " 0   Patient        5 non-null      object \n",
      " 1   Weeks          5 non-null      int64  \n",
      " 2   FVC            5 non-null      int64  \n",
      " 3   Percent        5 non-null      float64\n",
      " 4   Age            5 non-null      int64  \n",
      " 5   Sex            5 non-null      object \n",
      " 6   SmokingStatus  5 non-null      object \n",
      "dtypes: float64(1), int64(3), object(3)\n",
      "memory usage: 408.0+ bytes\n"
     ]
    }
   ],
   "source": [
    "#Checking test dataframe info\n",
    "test_data.info()"
   ]
  },
  {
   "cell_type": "code",
   "execution_count": 6,
   "id": "devoted-basics",
   "metadata": {},
   "outputs": [
    {
     "data": {
      "text/html": [
       "<div>\n",
       "<style scoped>\n",
       "    .dataframe tbody tr th:only-of-type {\n",
       "        vertical-align: middle;\n",
       "    }\n",
       "\n",
       "    .dataframe tbody tr th {\n",
       "        vertical-align: top;\n",
       "    }\n",
       "\n",
       "    .dataframe thead th {\n",
       "        text-align: right;\n",
       "    }\n",
       "</style>\n",
       "<table border=\"1\" class=\"dataframe\">\n",
       "  <thead>\n",
       "    <tr style=\"text-align: right;\">\n",
       "      <th></th>\n",
       "      <th>Weeks</th>\n",
       "      <th>FVC</th>\n",
       "      <th>Percent</th>\n",
       "      <th>Age</th>\n",
       "    </tr>\n",
       "  </thead>\n",
       "  <tbody>\n",
       "    <tr>\n",
       "      <th>count</th>\n",
       "      <td>1549.000000</td>\n",
       "      <td>1549.000000</td>\n",
       "      <td>1549.000000</td>\n",
       "      <td>1549.000000</td>\n",
       "    </tr>\n",
       "    <tr>\n",
       "      <th>mean</th>\n",
       "      <td>31.861846</td>\n",
       "      <td>2690.479019</td>\n",
       "      <td>77.672654</td>\n",
       "      <td>67.188509</td>\n",
       "    </tr>\n",
       "    <tr>\n",
       "      <th>std</th>\n",
       "      <td>23.247550</td>\n",
       "      <td>832.770959</td>\n",
       "      <td>19.823261</td>\n",
       "      <td>7.057395</td>\n",
       "    </tr>\n",
       "    <tr>\n",
       "      <th>min</th>\n",
       "      <td>-5.000000</td>\n",
       "      <td>827.000000</td>\n",
       "      <td>28.877577</td>\n",
       "      <td>49.000000</td>\n",
       "    </tr>\n",
       "    <tr>\n",
       "      <th>25%</th>\n",
       "      <td>12.000000</td>\n",
       "      <td>2109.000000</td>\n",
       "      <td>62.832700</td>\n",
       "      <td>63.000000</td>\n",
       "    </tr>\n",
       "    <tr>\n",
       "      <th>50%</th>\n",
       "      <td>28.000000</td>\n",
       "      <td>2641.000000</td>\n",
       "      <td>75.676937</td>\n",
       "      <td>68.000000</td>\n",
       "    </tr>\n",
       "    <tr>\n",
       "      <th>75%</th>\n",
       "      <td>47.000000</td>\n",
       "      <td>3171.000000</td>\n",
       "      <td>88.621065</td>\n",
       "      <td>72.000000</td>\n",
       "    </tr>\n",
       "    <tr>\n",
       "      <th>max</th>\n",
       "      <td>133.000000</td>\n",
       "      <td>6399.000000</td>\n",
       "      <td>153.145378</td>\n",
       "      <td>88.000000</td>\n",
       "    </tr>\n",
       "  </tbody>\n",
       "</table>\n",
       "</div>"
      ],
      "text/plain": [
       "             Weeks          FVC      Percent          Age\n",
       "count  1549.000000  1549.000000  1549.000000  1549.000000\n",
       "mean     31.861846  2690.479019    77.672654    67.188509\n",
       "std      23.247550   832.770959    19.823261     7.057395\n",
       "min      -5.000000   827.000000    28.877577    49.000000\n",
       "25%      12.000000  2109.000000    62.832700    63.000000\n",
       "50%      28.000000  2641.000000    75.676937    68.000000\n",
       "75%      47.000000  3171.000000    88.621065    72.000000\n",
       "max     133.000000  6399.000000   153.145378    88.000000"
      ]
     },
     "execution_count": 6,
     "metadata": {},
     "output_type": "execute_result"
    }
   ],
   "source": [
    "# Statistical Analysis of train data\n",
    "train_data.describe()"
   ]
  },
  {
   "cell_type": "code",
   "execution_count": 7,
   "id": "polished-colombia",
   "metadata": {},
   "outputs": [
    {
     "data": {
      "text/html": [
       "<div>\n",
       "<style scoped>\n",
       "    .dataframe tbody tr th:only-of-type {\n",
       "        vertical-align: middle;\n",
       "    }\n",
       "\n",
       "    .dataframe tbody tr th {\n",
       "        vertical-align: top;\n",
       "    }\n",
       "\n",
       "    .dataframe thead th {\n",
       "        text-align: right;\n",
       "    }\n",
       "</style>\n",
       "<table border=\"1\" class=\"dataframe\">\n",
       "  <thead>\n",
       "    <tr style=\"text-align: right;\">\n",
       "      <th></th>\n",
       "      <th>Weeks</th>\n",
       "      <th>FVC</th>\n",
       "      <th>Percent</th>\n",
       "      <th>Age</th>\n",
       "    </tr>\n",
       "  </thead>\n",
       "  <tbody>\n",
       "    <tr>\n",
       "      <th>count</th>\n",
       "      <td>5.000000</td>\n",
       "      <td>5.000000</td>\n",
       "      <td>5.000000</td>\n",
       "      <td>5.000000</td>\n",
       "    </tr>\n",
       "    <tr>\n",
       "      <th>mean</th>\n",
       "      <td>8.800000</td>\n",
       "      <td>2781.600000</td>\n",
       "      <td>75.997702</td>\n",
       "      <td>71.800000</td>\n",
       "    </tr>\n",
       "    <tr>\n",
       "      <th>std</th>\n",
       "      <td>7.049823</td>\n",
       "      <td>516.475846</td>\n",
       "      <td>4.970960</td>\n",
       "      <td>2.167948</td>\n",
       "    </tr>\n",
       "    <tr>\n",
       "      <th>min</th>\n",
       "      <td>0.000000</td>\n",
       "      <td>1930.000000</td>\n",
       "      <td>70.186855</td>\n",
       "      <td>68.000000</td>\n",
       "    </tr>\n",
       "    <tr>\n",
       "      <th>25%</th>\n",
       "      <td>6.000000</td>\n",
       "      <td>2739.000000</td>\n",
       "      <td>71.824968</td>\n",
       "      <td>72.000000</td>\n",
       "    </tr>\n",
       "    <tr>\n",
       "      <th>50%</th>\n",
       "      <td>6.000000</td>\n",
       "      <td>2925.000000</td>\n",
       "      <td>76.672493</td>\n",
       "      <td>73.000000</td>\n",
       "    </tr>\n",
       "    <tr>\n",
       "      <th>75%</th>\n",
       "      <td>15.000000</td>\n",
       "      <td>3020.000000</td>\n",
       "      <td>79.258903</td>\n",
       "      <td>73.000000</td>\n",
       "    </tr>\n",
       "    <tr>\n",
       "      <th>max</th>\n",
       "      <td>17.000000</td>\n",
       "      <td>3294.000000</td>\n",
       "      <td>82.045291</td>\n",
       "      <td>73.000000</td>\n",
       "    </tr>\n",
       "  </tbody>\n",
       "</table>\n",
       "</div>"
      ],
      "text/plain": [
       "           Weeks          FVC    Percent        Age\n",
       "count   5.000000     5.000000   5.000000   5.000000\n",
       "mean    8.800000  2781.600000  75.997702  71.800000\n",
       "std     7.049823   516.475846   4.970960   2.167948\n",
       "min     0.000000  1930.000000  70.186855  68.000000\n",
       "25%     6.000000  2739.000000  71.824968  72.000000\n",
       "50%     6.000000  2925.000000  76.672493  73.000000\n",
       "75%    15.000000  3020.000000  79.258903  73.000000\n",
       "max    17.000000  3294.000000  82.045291  73.000000"
      ]
     },
     "execution_count": 7,
     "metadata": {},
     "output_type": "execute_result"
    }
   ],
   "source": [
    "# Statistical Analysis of test data\n",
    "test_data.describe()"
   ]
  },
  {
   "cell_type": "code",
   "execution_count": 8,
   "id": "distributed-principle",
   "metadata": {},
   "outputs": [
    {
     "data": {
      "text/plain": [
       "Patient          0\n",
       "Weeks            0\n",
       "FVC              0\n",
       "Percent          0\n",
       "Age              0\n",
       "Sex              0\n",
       "SmokingStatus    0\n",
       "dtype: int64"
      ]
     },
     "execution_count": 8,
     "metadata": {},
     "output_type": "execute_result"
    }
   ],
   "source": [
    "##Checking whether there is any empty values in both train and test dataset\n",
    "train_data.isnull().sum()"
   ]
  },
  {
   "cell_type": "code",
   "execution_count": 9,
   "id": "fuzzy-tampa",
   "metadata": {},
   "outputs": [
    {
     "data": {
      "text/plain": [
       "Patient          0\n",
       "Weeks            0\n",
       "FVC              0\n",
       "Percent          0\n",
       "Age              0\n",
       "Sex              0\n",
       "SmokingStatus    0\n",
       "dtype: int64"
      ]
     },
     "execution_count": 9,
     "metadata": {},
     "output_type": "execute_result"
    }
   ],
   "source": [
    "test_data.isnull().sum()"
   ]
  },
  {
   "cell_type": "markdown",
   "id": "broad-briefing",
   "metadata": {},
   "source": [
    "- No null values present in both train and test set"
   ]
  },
  {
   "cell_type": "code",
   "execution_count": 10,
   "id": "amended-papua",
   "metadata": {},
   "outputs": [
    {
     "data": {
      "text/html": [
       "<div>\n",
       "<style scoped>\n",
       "    .dataframe tbody tr th:only-of-type {\n",
       "        vertical-align: middle;\n",
       "    }\n",
       "\n",
       "    .dataframe tbody tr th {\n",
       "        vertical-align: top;\n",
       "    }\n",
       "\n",
       "    .dataframe thead th {\n",
       "        text-align: right;\n",
       "    }\n",
       "</style>\n",
       "<table border=\"1\" class=\"dataframe\">\n",
       "  <thead>\n",
       "    <tr style=\"text-align: right;\">\n",
       "      <th></th>\n",
       "      <th></th>\n",
       "      <th>mean</th>\n",
       "      <th>std</th>\n",
       "      <th>count</th>\n",
       "    </tr>\n",
       "    <tr>\n",
       "      <th>Sex</th>\n",
       "      <th>SmokingStatus</th>\n",
       "      <th></th>\n",
       "      <th></th>\n",
       "      <th></th>\n",
       "    </tr>\n",
       "  </thead>\n",
       "  <tbody>\n",
       "    <tr>\n",
       "      <th rowspan=\"3\" valign=\"top\">Male</th>\n",
       "      <th>Ex-smoker</th>\n",
       "      <td>2886.024705</td>\n",
       "      <td>769.105923</td>\n",
       "      <td>931</td>\n",
       "    </tr>\n",
       "    <tr>\n",
       "      <th>Never smoked</th>\n",
       "      <td>2878.034934</td>\n",
       "      <td>667.921434</td>\n",
       "      <td>229</td>\n",
       "    </tr>\n",
       "    <tr>\n",
       "      <th>Currently smokes</th>\n",
       "      <td>3300.828125</td>\n",
       "      <td>694.108554</td>\n",
       "      <td>64</td>\n",
       "    </tr>\n",
       "    <tr>\n",
       "      <th rowspan=\"3\" valign=\"top\">Female</th>\n",
       "      <th>Never smoked</th>\n",
       "      <td>1775.985000</td>\n",
       "      <td>584.208226</td>\n",
       "      <td>200</td>\n",
       "    </tr>\n",
       "    <tr>\n",
       "      <th>Ex-smoker</th>\n",
       "      <td>1901.906542</td>\n",
       "      <td>450.294485</td>\n",
       "      <td>107</td>\n",
       "    </tr>\n",
       "    <tr>\n",
       "      <th>Currently smokes</th>\n",
       "      <td>2868.833333</td>\n",
       "      <td>71.124787</td>\n",
       "      <td>18</td>\n",
       "    </tr>\n",
       "  </tbody>\n",
       "</table>\n",
       "</div>"
      ],
      "text/plain": [
       "                                mean         std  count\n",
       "Sex    SmokingStatus                                   \n",
       "Male   Ex-smoker         2886.024705  769.105923    931\n",
       "       Never smoked      2878.034934  667.921434    229\n",
       "       Currently smokes  3300.828125  694.108554     64\n",
       "Female Never smoked      1775.985000  584.208226    200\n",
       "       Ex-smoker         1901.906542  450.294485    107\n",
       "       Currently smokes  2868.833333   71.124787     18"
      ]
     },
     "execution_count": 10,
     "metadata": {},
     "output_type": "execute_result"
    }
   ],
   "source": [
    "train_data.groupby(['Sex','SmokingStatus'])['FVC'].agg(['mean','std','count']).sort_values(by=['Sex','count'],ascending=False)"
   ]
  },
  {
   "cell_type": "markdown",
   "id": "blocked-royalty",
   "metadata": {},
   "source": [
    "- FVC has the highest rate with the people that still smokes. However, because the data for the smoking is quite low, we can't really generalise that people who smoke has high FVC."
   ]
  },
  {
   "cell_type": "code",
   "execution_count": 11,
   "id": "material-accuracy",
   "metadata": {},
   "outputs": [
    {
     "data": {
      "text/html": [
       "<div>\n",
       "<style scoped>\n",
       "    .dataframe tbody tr th:only-of-type {\n",
       "        vertical-align: middle;\n",
       "    }\n",
       "\n",
       "    .dataframe tbody tr th {\n",
       "        vertical-align: top;\n",
       "    }\n",
       "\n",
       "    .dataframe thead th {\n",
       "        text-align: right;\n",
       "    }\n",
       "</style>\n",
       "<table border=\"1\" class=\"dataframe\">\n",
       "  <thead>\n",
       "    <tr style=\"text-align: right;\">\n",
       "      <th></th>\n",
       "      <th></th>\n",
       "      <th>mean</th>\n",
       "      <th>std</th>\n",
       "      <th>count</th>\n",
       "    </tr>\n",
       "    <tr>\n",
       "      <th>Sex</th>\n",
       "      <th>SmokingStatus</th>\n",
       "      <th></th>\n",
       "      <th></th>\n",
       "      <th></th>\n",
       "    </tr>\n",
       "  </thead>\n",
       "  <tbody>\n",
       "    <tr>\n",
       "      <th rowspan=\"2\" valign=\"top\">Male</th>\n",
       "      <th>Ex-smoker</th>\n",
       "      <td>2745.75</td>\n",
       "      <td>589.147619</td>\n",
       "      <td>4</td>\n",
       "    </tr>\n",
       "    <tr>\n",
       "      <th>Never smoked</th>\n",
       "      <td>2925.00</td>\n",
       "      <td>NaN</td>\n",
       "      <td>1</td>\n",
       "    </tr>\n",
       "  </tbody>\n",
       "</table>\n",
       "</div>"
      ],
      "text/plain": [
       "                       mean         std  count\n",
       "Sex  SmokingStatus                            \n",
       "Male Ex-smoker      2745.75  589.147619      4\n",
       "     Never smoked   2925.00         NaN      1"
      ]
     },
     "execution_count": 11,
     "metadata": {},
     "output_type": "execute_result"
    }
   ],
   "source": [
    "test_data.groupby(['Sex','SmokingStatus'])['FVC'].agg(['mean','std','count']).sort_values(by=['Sex','count'],ascending=False)"
   ]
  },
  {
   "cell_type": "markdown",
   "id": "disturbed-sarah",
   "metadata": {},
   "source": [
    "### Counting the number of patients in both train and test set"
   ]
  },
  {
   "cell_type": "code",
   "execution_count": 12,
   "id": "ruled-impact",
   "metadata": {},
   "outputs": [
    {
     "name": "stdout",
     "output_type": "stream",
     "text": [
      "train_data patient count is : 1549\n"
     ]
    }
   ],
   "source": [
    "#Train data\n",
    "print('train_data patient count is : {}'.format(train_data['Patient'].count()))"
   ]
  },
  {
   "cell_type": "code",
   "execution_count": 13,
   "id": "retained-india",
   "metadata": {},
   "outputs": [
    {
     "name": "stdout",
     "output_type": "stream",
     "text": [
      "test_data patient count is : 5\n"
     ]
    }
   ],
   "source": [
    "#Test data\n",
    "print('test_data patient count is : {}'.format(test_data['Patient'].count()))"
   ]
  },
  {
   "cell_type": "code",
   "execution_count": 14,
   "id": "limited-norwegian",
   "metadata": {},
   "outputs": [
    {
     "name": "stdout",
     "output_type": "stream",
     "text": [
      "train_data unique patient count is : 176\n"
     ]
    }
   ],
   "source": [
    "#Unique patient in training data\n",
    "print('train_data unique patient count is : {}'.format(train_data['Patient'].nunique()))"
   ]
  },
  {
   "cell_type": "code",
   "execution_count": 15,
   "id": "characteristic-copying",
   "metadata": {},
   "outputs": [
    {
     "name": "stdout",
     "output_type": "stream",
     "text": [
      "test_data unique patient count is : 5\n"
     ]
    }
   ],
   "source": [
    "#Unique patient in testing data\n",
    "print('test_data unique patient count is : {}'.format(test_data['Patient'].nunique()))"
   ]
  },
  {
   "cell_type": "markdown",
   "id": "heated-chair",
   "metadata": {},
   "source": [
    "#### Let's add frequency column in our train dataframe"
   ]
  },
  {
   "cell_type": "code",
   "execution_count": 16,
   "id": "broad-pressure",
   "metadata": {},
   "outputs": [],
   "source": [
    "patient_freq = train_data.groupby(['Patient'])['Patient'].count()"
   ]
  },
  {
   "cell_type": "code",
   "execution_count": 17,
   "id": "offensive-paintball",
   "metadata": {},
   "outputs": [],
   "source": [
    "patient_freq = pd.DataFrame({'Patient':patient_freq.index,'Frequencies': patient_freq.values})"
   ]
  },
  {
   "cell_type": "code",
   "execution_count": 18,
   "id": "roman-baghdad",
   "metadata": {},
   "outputs": [],
   "source": [
    "final_dataframe = pd.merge(train_data,patient_freq,how='inner',on = 'Patient')"
   ]
  },
  {
   "cell_type": "code",
   "execution_count": 19,
   "id": "adequate-assessment",
   "metadata": {},
   "outputs": [
    {
     "data": {
      "text/html": [
       "<div>\n",
       "<style scoped>\n",
       "    .dataframe tbody tr th:only-of-type {\n",
       "        vertical-align: middle;\n",
       "    }\n",
       "\n",
       "    .dataframe tbody tr th {\n",
       "        vertical-align: top;\n",
       "    }\n",
       "\n",
       "    .dataframe thead th {\n",
       "        text-align: right;\n",
       "    }\n",
       "</style>\n",
       "<table border=\"1\" class=\"dataframe\">\n",
       "  <thead>\n",
       "    <tr style=\"text-align: right;\">\n",
       "      <th></th>\n",
       "      <th>Patient</th>\n",
       "      <th>Weeks</th>\n",
       "      <th>FVC</th>\n",
       "      <th>Percent</th>\n",
       "      <th>Age</th>\n",
       "      <th>Sex</th>\n",
       "      <th>SmokingStatus</th>\n",
       "      <th>Frequencies</th>\n",
       "    </tr>\n",
       "  </thead>\n",
       "  <tbody>\n",
       "    <tr>\n",
       "      <th>875</th>\n",
       "      <td>ID00229637202260254240583</td>\n",
       "      <td>23</td>\n",
       "      <td>3518</td>\n",
       "      <td>78.702461</td>\n",
       "      <td>71</td>\n",
       "      <td>Male</td>\n",
       "      <td>Ex-smoker</td>\n",
       "      <td>10</td>\n",
       "    </tr>\n",
       "    <tr>\n",
       "      <th>627</th>\n",
       "      <td>ID00167637202237397919352</td>\n",
       "      <td>13</td>\n",
       "      <td>4680</td>\n",
       "      <td>95.060123</td>\n",
       "      <td>58</td>\n",
       "      <td>Male</td>\n",
       "      <td>Ex-smoker</td>\n",
       "      <td>10</td>\n",
       "    </tr>\n",
       "    <tr>\n",
       "      <th>634</th>\n",
       "      <td>ID00167637202237397919352</td>\n",
       "      <td>66</td>\n",
       "      <td>3744</td>\n",
       "      <td>76.048099</td>\n",
       "      <td>58</td>\n",
       "      <td>Male</td>\n",
       "      <td>Ex-smoker</td>\n",
       "      <td>10</td>\n",
       "    </tr>\n",
       "    <tr>\n",
       "      <th>633</th>\n",
       "      <td>ID00167637202237397919352</td>\n",
       "      <td>62</td>\n",
       "      <td>4288</td>\n",
       "      <td>87.097823</td>\n",
       "      <td>58</td>\n",
       "      <td>Male</td>\n",
       "      <td>Ex-smoker</td>\n",
       "      <td>10</td>\n",
       "    </tr>\n",
       "    <tr>\n",
       "      <th>632</th>\n",
       "      <td>ID00167637202237397919352</td>\n",
       "      <td>47</td>\n",
       "      <td>4424</td>\n",
       "      <td>89.860253</td>\n",
       "      <td>58</td>\n",
       "      <td>Male</td>\n",
       "      <td>Ex-smoker</td>\n",
       "      <td>10</td>\n",
       "    </tr>\n",
       "    <tr>\n",
       "      <th>...</th>\n",
       "      <td>...</td>\n",
       "      <td>...</td>\n",
       "      <td>...</td>\n",
       "      <td>...</td>\n",
       "      <td>...</td>\n",
       "      <td>...</td>\n",
       "      <td>...</td>\n",
       "      <td>...</td>\n",
       "    </tr>\n",
       "    <tr>\n",
       "      <th>160</th>\n",
       "      <td>ID00047637202184938901501</td>\n",
       "      <td>2</td>\n",
       "      <td>3313</td>\n",
       "      <td>89.929425</td>\n",
       "      <td>68</td>\n",
       "      <td>Male</td>\n",
       "      <td>Ex-smoker</td>\n",
       "      <td>6</td>\n",
       "    </tr>\n",
       "    <tr>\n",
       "      <th>161</th>\n",
       "      <td>ID00047637202184938901501</td>\n",
       "      <td>4</td>\n",
       "      <td>3235</td>\n",
       "      <td>87.812161</td>\n",
       "      <td>68</td>\n",
       "      <td>Male</td>\n",
       "      <td>Ex-smoker</td>\n",
       "      <td>6</td>\n",
       "    </tr>\n",
       "    <tr>\n",
       "      <th>162</th>\n",
       "      <td>ID00047637202184938901501</td>\n",
       "      <td>6</td>\n",
       "      <td>3370</td>\n",
       "      <td>91.476656</td>\n",
       "      <td>68</td>\n",
       "      <td>Male</td>\n",
       "      <td>Ex-smoker</td>\n",
       "      <td>6</td>\n",
       "    </tr>\n",
       "    <tr>\n",
       "      <th>989</th>\n",
       "      <td>ID00267637202270790561585</td>\n",
       "      <td>3</td>\n",
       "      <td>1015</td>\n",
       "      <td>50.158134</td>\n",
       "      <td>70</td>\n",
       "      <td>Female</td>\n",
       "      <td>Never smoked</td>\n",
       "      <td>6</td>\n",
       "    </tr>\n",
       "    <tr>\n",
       "      <th>992</th>\n",
       "      <td>ID00267637202270790561585</td>\n",
       "      <td>10</td>\n",
       "      <td>1031</td>\n",
       "      <td>50.948804</td>\n",
       "      <td>70</td>\n",
       "      <td>Female</td>\n",
       "      <td>Never smoked</td>\n",
       "      <td>6</td>\n",
       "    </tr>\n",
       "  </tbody>\n",
       "</table>\n",
       "<p>1549 rows × 8 columns</p>\n",
       "</div>"
      ],
      "text/plain": [
       "                       Patient  Weeks   FVC    Percent  Age     Sex  \\\n",
       "875  ID00229637202260254240583     23  3518  78.702461   71    Male   \n",
       "627  ID00167637202237397919352     13  4680  95.060123   58    Male   \n",
       "634  ID00167637202237397919352     66  3744  76.048099   58    Male   \n",
       "633  ID00167637202237397919352     62  4288  87.097823   58    Male   \n",
       "632  ID00167637202237397919352     47  4424  89.860253   58    Male   \n",
       "..                         ...    ...   ...        ...  ...     ...   \n",
       "160  ID00047637202184938901501      2  3313  89.929425   68    Male   \n",
       "161  ID00047637202184938901501      4  3235  87.812161   68    Male   \n",
       "162  ID00047637202184938901501      6  3370  91.476656   68    Male   \n",
       "989  ID00267637202270790561585      3  1015  50.158134   70  Female   \n",
       "992  ID00267637202270790561585     10  1031  50.948804   70  Female   \n",
       "\n",
       "    SmokingStatus  Frequencies  \n",
       "875     Ex-smoker           10  \n",
       "627     Ex-smoker           10  \n",
       "634     Ex-smoker           10  \n",
       "633     Ex-smoker           10  \n",
       "632     Ex-smoker           10  \n",
       "..            ...          ...  \n",
       "160     Ex-smoker            6  \n",
       "161     Ex-smoker            6  \n",
       "162     Ex-smoker            6  \n",
       "989  Never smoked            6  \n",
       "992  Never smoked            6  \n",
       "\n",
       "[1549 rows x 8 columns]"
      ]
     },
     "execution_count": 19,
     "metadata": {},
     "output_type": "execute_result"
    }
   ],
   "source": [
    "final_dataframe.sort_values(by='Frequencies',ascending = False)"
   ]
  },
  {
   "cell_type": "markdown",
   "id": "floppy-endorsement",
   "metadata": {},
   "source": [
    "### Checking how many CT scans each patient recieved(Training)"
   ]
  },
  {
   "cell_type": "code",
   "execution_count": 20,
   "id": "green-evidence",
   "metadata": {},
   "outputs": [],
   "source": [
    "train_directory = r'C:\\Users\\ghimi\\Desktop\\OSIC-Pulmonary-Fibrosis\\brain\\train'\n",
    "patient_id = os.listdir(train_directory)\n",
    "patient_id = sorted(patient_id)\n",
    "\n",
    "cat_scan = []\n",
    "for i in patient_id:\n",
    "    cat_scan.append(len(os.listdir(train_directory+\"\\\\\" + i)))\n",
    "    \n",
    "catScan_df = pd.DataFrame({'Patient':patient_id,'ctScan_counts':cat_scan})\n",
    "\n",
    "#Merging it into final dataframe\n",
    "train_final_dataframe = pd.merge(final_dataframe,catScan_df,how='inner',on = 'Patient')"
   ]
  },
  {
   "cell_type": "markdown",
   "id": "sapphire-girlfriend",
   "metadata": {},
   "source": [
    "### Creating patient dataframe by removing duplicates in the original final dataframe for further data exploration "
   ]
  },
  {
   "cell_type": "code",
   "execution_count": 21,
   "id": "tamil-guide",
   "metadata": {},
   "outputs": [],
   "source": [
    "#Dropping the duplicates and creating new dataframe\n",
    "train_patient_dataframe = train_final_dataframe.drop_duplicates(subset = 'Patient').reset_index(drop=True)"
   ]
  },
  {
   "cell_type": "code",
   "execution_count": 22,
   "id": "registered-twelve",
   "metadata": {},
   "outputs": [
    {
     "name": "stdout",
     "output_type": "stream",
     "text": [
      "Maximum number of CT scan taken by one patient is : 1018\n",
      "Least number of CT scan taken by one patient is: 12\n",
      "Average number of CT scan taken by one patient is -Rounded Figure-: 188\n",
      "Total number of CT scan taken by one patient is : 33026\n"
     ]
    }
   ],
   "source": [
    "#Maximum number of CT scan \n",
    "print('Maximum number of CT scan taken by one patient is : {}'.format(train_patient_dataframe['ctScan_counts'].max()))\n",
    "print('Least number of CT scan taken by one patient is: {}'.format(train_patient_dataframe['ctScan_counts'].min()))\n",
    "print('Average number of CT scan taken by one patient is -Rounded Figure-: {}'.format(round(train_patient_dataframe['ctScan_counts'].mean())))\n",
    "print('Total number of CT scan taken by one patient is : {}'.format(round(train_patient_dataframe['ctScan_counts'].sum())))"
   ]
  },
  {
   "cell_type": "markdown",
   "id": "occupied-bidding",
   "metadata": {},
   "source": [
    "### Checking how many CT scans each patient recieved(Testing)"
   ]
  },
  {
   "cell_type": "code",
   "execution_count": 23,
   "id": "maritime-litigation",
   "metadata": {},
   "outputs": [],
   "source": [
    "test_directory = r'C:\\Users\\ghimi\\Desktop\\OSIC-Pulmonary-Fibrosis\\brain\\test'\n",
    "patient_id_test = os.listdir(test_directory)\n",
    "patient_id_test = sorted(patient_id_test)\n",
    "\n",
    "test_cat_scan = []\n",
    "for i in patient_id_test:\n",
    "    test_cat_scan.append(len(os.listdir(test_directory+\"\\\\\" + i)))\n",
    "    \n",
    "test_catScan_df = pd.DataFrame({'Patient':patient_id_test,'ctScan_counts':test_cat_scan})\n",
    "\n",
    "#Merging it into final dataframe\n",
    "test_final_dataframe = pd.merge(final_dataframe,test_catScan_df,how='inner',on = 'Patient')"
   ]
  },
  {
   "cell_type": "code",
   "execution_count": 27,
   "id": "level-philadelphia",
   "metadata": {},
   "outputs": [
    {
     "name": "stdout",
     "output_type": "stream",
     "text": [
      "Maximum number of CT scan taken by one patient is : 473\n",
      "Least number of CT scan taken by one patient is: 28\n",
      "Average number of CT scan taken by one patient is -Rounded Figure-: 243\n",
      "Total number of CT scan taken by one patient is : 10938\n"
     ]
    }
   ],
   "source": [
    "#Maximum number of CT scan \n",
    "print('Maximum number of CT scan taken by one patient is : {}'.format(test_final_dataframe['ctScan_counts'].max()))\n",
    "print('Least number of CT scan taken by one patient is: {}'.format(test_final_dataframe['ctScan_counts'].min()))\n",
    "print('Average number of CT scan taken by one patient is -Rounded Figure-: {}'.format(round(test_final_dataframe['ctScan_counts'].mean())))\n",
    "print('Total number of CT scan taken by one patient is : {}'.format(round(test_final_dataframe['ctScan_counts'].sum())))"
   ]
  },
  {
   "cell_type": "markdown",
   "id": "directed-practice",
   "metadata": {},
   "source": [
    "### Distribution of Weeks"
   ]
  },
  {
   "cell_type": "markdown",
   "id": "flexible-bedroom",
   "metadata": {},
   "source": [
    "- By the looks of it, week 8-9 is the highest visited weeks for CT scan for the patients while 132-133 week is the least visited"
   ]
  },
  {
   "cell_type": "code",
   "execution_count": 49,
   "id": "copyrighted-huntington",
   "metadata": {},
   "outputs": [
    {
     "data": {
      "text/html": [
       "        <script type=\"text/javascript\">\n",
       "        window.PlotlyConfig = {MathJaxConfig: 'local'};\n",
       "        if (window.MathJax) {MathJax.Hub.Config({SVG: {font: \"STIX-Web\"}});}\n",
       "        if (typeof require !== 'undefined') {\n",
       "        require.undef(\"plotly\");\n",
       "        requirejs.config({\n",
       "            paths: {\n",
       "                'plotly': ['https://cdn.plot.ly/plotly-latest.min']\n",
       "            }\n",
       "        });\n",
       "        require(['plotly'], function(Plotly) {\n",
       "            window._Plotly = Plotly;\n",
       "        });\n",
       "        }\n",
       "        </script>\n",
       "        "
      ]
     },
     "metadata": {},
     "output_type": "display_data"
    },
    {
     "data": {
      "application/vnd.plotly.v1+json": {
       "config": {
        "linkText": "Export to plot.ly",
        "plotlyServerURL": "https://plot.ly",
        "showLink": true
       },
       "data": [
        {
         "histfunc": "count",
         "histnorm": "",
         "marker": {
          "color": "rgba(0, 200, 200, 1.0)",
          "line": {
           "color": "#FFFFFF",
           "width": 1.3
          }
         },
         "name": "Weeks",
         "nbinsx": 100,
         "opacity": 0.7,
         "orientation": "v",
         "type": "histogram",
         "x": [
          -4,
          5,
          7,
          9,
          11,
          17,
          29,
          41,
          57,
          8,
          9,
          11,
          13,
          15,
          22,
          33,
          45,
          60,
          0,
          1,
          3,
          5,
          7,
          13,
          25,
          37,
          54,
          6,
          7,
          9,
          11,
          13,
          19,
          32,
          43,
          58,
          33,
          35,
          37,
          39,
          41,
          47,
          58,
          71,
          87,
          0,
          2,
          4,
          6,
          8,
          14,
          26,
          37,
          54,
          12,
          17,
          19,
          21,
          31,
          40,
          52,
          69,
          13,
          14,
          16,
          18,
          20,
          26,
          38,
          53,
          66,
          18,
          19,
          21,
          23,
          25,
          31,
          44,
          54,
          70,
          -3,
          3,
          5,
          7,
          9,
          15,
          27,
          39,
          55,
          0,
          1,
          3,
          6,
          7,
          14,
          26,
          38,
          53,
          41,
          45,
          47,
          49,
          51,
          57,
          69,
          81,
          98,
          12,
          14,
          16,
          18,
          23,
          26,
          38,
          51,
          66,
          19,
          30,
          33,
          34,
          36,
          42,
          54,
          65,
          30,
          35,
          37,
          39,
          41,
          47,
          59,
          71,
          87,
          11,
          12,
          14,
          16,
          18,
          24,
          36,
          49,
          65,
          6,
          12,
          15,
          17,
          19,
          24,
          36,
          49,
          63,
          1,
          6,
          9,
          11,
          12,
          18,
          31,
          44,
          60,
          2,
          4,
          6,
          8,
          10,
          29,
          9,
          9,
          11,
          13,
          15,
          21,
          33,
          47,
          61,
          -1,
          1,
          3,
          6,
          7,
          13,
          26,
          37,
          54,
          48,
          51,
          53,
          56,
          58,
          63,
          75,
          16,
          18,
          20,
          23,
          24,
          31,
          43,
          55,
          71,
          23,
          24,
          26,
          28,
          30,
          36,
          48,
          60,
          76,
          44,
          46,
          48,
          50,
          52,
          58,
          70,
          83,
          98,
          4,
          5,
          7,
          9,
          11,
          17,
          28,
          41,
          11,
          11,
          13,
          15,
          16,
          22,
          35,
          46,
          62,
          15,
          18,
          20,
          22,
          24,
          30,
          42,
          55,
          70,
          3,
          6,
          8,
          10,
          12,
          18,
          30,
          42,
          25,
          28,
          29,
          32,
          33,
          40,
          51,
          61,
          79,
          -4,
          3,
          5,
          6,
          9,
          15,
          27,
          40,
          55,
          5,
          6,
          8,
          10,
          12,
          18,
          29,
          42,
          59,
          0,
          5,
          7,
          9,
          11,
          17,
          28,
          40,
          58,
          19,
          27,
          29,
          31,
          33,
          39,
          51,
          63,
          79,
          -5,
          6,
          8,
          9,
          12,
          18,
          30,
          42,
          58,
          7,
          7,
          9,
          11,
          14,
          20,
          31,
          44,
          60,
          17,
          21,
          23,
          27,
          33,
          44,
          59,
          73,
          -1,
          3,
          6,
          8,
          9,
          16,
          28,
          39,
          54,
          0,
          6,
          9,
          11,
          12,
          18,
          30,
          42,
          58,
          44,
          47,
          49,
          51,
          53,
          58,
          70,
          83,
          98,
          102,
          3,
          5,
          7,
          9,
          11,
          17,
          29,
          41,
          58,
          20,
          21,
          23,
          26,
          28,
          33,
          45,
          58,
          44,
          45,
          47,
          49,
          51,
          57,
          69,
          82,
          97,
          100,
          11,
          13,
          15,
          17,
          19,
          25,
          37,
          49,
          65,
          53,
          55,
          57,
          59,
          61,
          67,
          79,
          91,
          107,
          15,
          18,
          20,
          23,
          25,
          31,
          42,
          56,
          9,
          10,
          13,
          15,
          17,
          23,
          36,
          15,
          17,
          19,
          21,
          23,
          29,
          42,
          52,
          4,
          8,
          10,
          12,
          14,
          20,
          32,
          44,
          60,
          2,
          4,
          6,
          8,
          10,
          16,
          28,
          40,
          56,
          59,
          -4,
          6,
          8,
          10,
          12,
          18,
          30,
          43,
          58,
          48,
          49,
          51,
          53,
          55,
          61,
          73,
          85,
          102,
          47,
          48,
          50,
          53,
          55,
          60,
          72,
          84,
          100,
          8,
          8,
          10,
          12,
          14,
          20,
          34,
          45,
          18,
          26,
          28,
          30,
          32,
          38,
          50,
          62,
          78,
          44,
          48,
          50,
          52,
          54,
          61,
          72,
          84,
          100,
          34,
          36,
          37,
          39,
          41,
          47,
          59,
          0,
          3,
          5,
          7,
          10,
          15,
          27,
          39,
          56,
          11,
          12,
          14,
          17,
          18,
          24,
          36,
          48,
          64,
          63,
          64,
          66,
          68,
          70,
          76,
          89,
          101,
          116,
          6,
          10,
          13,
          14,
          16,
          22,
          34,
          46,
          63,
          -2,
          2,
          4,
          6,
          8,
          13,
          27,
          38,
          54,
          2,
          8,
          11,
          13,
          14,
          21,
          33,
          44,
          59,
          31,
          35,
          37,
          40,
          42,
          48,
          60,
          73,
          89,
          3,
          6,
          8,
          10,
          12,
          18,
          30,
          43,
          58,
          14,
          18,
          20,
          22,
          24,
          30,
          42,
          54,
          70,
          16,
          21,
          24,
          25,
          27,
          33,
          47,
          58,
          73,
          16,
          18,
          20,
          22,
          24,
          30,
          42,
          54,
          70,
          74,
          44,
          48,
          50,
          52,
          54,
          60,
          73,
          84,
          100,
          8,
          10,
          12,
          14,
          16,
          22,
          34,
          46,
          61,
          79,
          81,
          83,
          85,
          87,
          92,
          104,
          117,
          133,
          7,
          11,
          13,
          15,
          17,
          23,
          34,
          47,
          62,
          66,
          7,
          8,
          10,
          12,
          14,
          21,
          33,
          44,
          60,
          12,
          16,
          18,
          20,
          23,
          28,
          40,
          53,
          66,
          38,
          44,
          46,
          48,
          50,
          56,
          68,
          79,
          96,
          35,
          37,
          39,
          41,
          43,
          49,
          60,
          72,
          92,
          11,
          17,
          19,
          21,
          23,
          29,
          42,
          53,
          69,
          9,
          11,
          13,
          16,
          18,
          24,
          35,
          47,
          63,
          39,
          42,
          44,
          46,
          48,
          54,
          65,
          77,
          94,
          29,
          30,
          32,
          34,
          37,
          43,
          55,
          67,
          83,
          8,
          11,
          13,
          15,
          17,
          23,
          59,
          4,
          10,
          12,
          14,
          16,
          22,
          34,
          46,
          62,
          4,
          12,
          14,
          15,
          18,
          24,
          36,
          48,
          65,
          9,
          12,
          14,
          16,
          18,
          25,
          36,
          48,
          66,
          0,
          5,
          8,
          10,
          11,
          18,
          30,
          41,
          57,
          5,
          5,
          7,
          9,
          12,
          17,
          30,
          42,
          57,
          20,
          21,
          23,
          25,
          27,
          33,
          45,
          58,
          75,
          33,
          35,
          37,
          38,
          41,
          47,
          59,
          71,
          86,
          0,
          3,
          5,
          7,
          9,
          16,
          27,
          39,
          56,
          6,
          9,
          11,
          13,
          14,
          21,
          32,
          44,
          61,
          3,
          4,
          6,
          8,
          10,
          16,
          28,
          40,
          55,
          10,
          11,
          13,
          15,
          17,
          23,
          34,
          47,
          63,
          20,
          22,
          25,
          26,
          29,
          34,
          46,
          59,
          75,
          0,
          4,
          7,
          9,
          11,
          17,
          27,
          40,
          56,
          11,
          12,
          14,
          16,
          18,
          24,
          36,
          48,
          64,
          -1,
          5,
          7,
          9,
          11,
          16,
          29,
          41,
          57,
          0,
          3,
          5,
          7,
          9,
          15,
          27,
          39,
          55,
          13,
          17,
          19,
          21,
          23,
          29,
          54,
          69,
          14,
          15,
          18,
          19,
          21,
          27,
          40,
          50,
          67,
          23,
          26,
          28,
          30,
          32,
          38,
          49,
          62,
          78,
          82,
          9,
          11,
          13,
          15,
          17,
          23,
          35,
          47,
          63,
          -3,
          2,
          4,
          6,
          9,
          14,
          27,
          39,
          54,
          3,
          4,
          6,
          8,
          10,
          16,
          29,
          41,
          34,
          35,
          37,
          40,
          42,
          47,
          59,
          71,
          88,
          5,
          5,
          8,
          9,
          12,
          18,
          30,
          41,
          57,
          2,
          4,
          6,
          8,
          10,
          16,
          28,
          40,
          56,
          4,
          5,
          7,
          9,
          10,
          17,
          28,
          41,
          58,
          14,
          15,
          17,
          19,
          20,
          27,
          38,
          51,
          67,
          34,
          40,
          42,
          46,
          52,
          67,
          76,
          92,
          21,
          30,
          32,
          34,
          37,
          43,
          55,
          67,
          83,
          1,
          3,
          5,
          7,
          15,
          29,
          41,
          55,
          13,
          14,
          16,
          19,
          20,
          26,
          39,
          51,
          3,
          5,
          8,
          10,
          12,
          31,
          4,
          8,
          10,
          12,
          14,
          20,
          32,
          44,
          60,
          48,
          50,
          52,
          54,
          56,
          62,
          74,
          86,
          102,
          6,
          7,
          9,
          11,
          13,
          19,
          31,
          8,
          10,
          12,
          14,
          17,
          22,
          34,
          46,
          63,
          0,
          3,
          5,
          7,
          9,
          15,
          27,
          39,
          54,
          4,
          6,
          8,
          10,
          12,
          18,
          30,
          42,
          58,
          21,
          22,
          24,
          26,
          28,
          34,
          45,
          57,
          4,
          15,
          17,
          18,
          21,
          26,
          38,
          51,
          2,
          4,
          6,
          8,
          10,
          16,
          27,
          43,
          56,
          5,
          6,
          7,
          10,
          12,
          18,
          29,
          42,
          59,
          5,
          8,
          10,
          12,
          13,
          20,
          32,
          44,
          4,
          6,
          8,
          9,
          12,
          18,
          30,
          42,
          57,
          22,
          24,
          26,
          28,
          30,
          37,
          48,
          60,
          76,
          8,
          10,
          12,
          14,
          16,
          22,
          34,
          46,
          62,
          3,
          6,
          8,
          10,
          12,
          18,
          31,
          44,
          58,
          3,
          5,
          7,
          9,
          11,
          18,
          29,
          41,
          57,
          0,
          4,
          6,
          8,
          10,
          16,
          28,
          40,
          57,
          26,
          32,
          34,
          35,
          44,
          56,
          70,
          85,
          12,
          16,
          18,
          20,
          22,
          29,
          40,
          52,
          69,
          3,
          6,
          8,
          10,
          11,
          18,
          30,
          40,
          57,
          26,
          27,
          29,
          31,
          33,
          39,
          50,
          64,
          39,
          43,
          45,
          47,
          49,
          54,
          66,
          79,
          95,
          28,
          30,
          32,
          34,
          36,
          42,
          55,
          67,
          82,
          3,
          4,
          6,
          8,
          10,
          16,
          28,
          40,
          56,
          6,
          8,
          10,
          12,
          14,
          20,
          33,
          44,
          29,
          32,
          34,
          36,
          38,
          44,
          57,
          68,
          85,
          0,
          6,
          9,
          10,
          13,
          18,
          31,
          41,
          58,
          -1,
          5,
          8,
          10,
          12,
          18,
          30,
          42,
          58,
          28,
          32,
          35,
          36,
          38,
          44,
          56,
          68,
          84,
          23,
          25,
          27,
          29,
          31,
          37,
          49,
          62,
          78,
          23,
          25,
          27,
          28,
          30,
          36,
          48,
          62,
          76,
          79,
          0,
          4,
          6,
          8,
          10,
          16,
          31,
          14,
          15,
          17,
          19,
          21,
          27,
          39,
          51,
          66,
          24,
          28,
          30,
          32,
          34,
          40,
          52,
          65,
          82,
          4,
          8,
          12,
          14,
          20,
          33,
          45,
          62,
          3,
          5,
          7,
          10,
          12,
          17,
          29,
          41,
          57,
          37,
          41,
          43,
          45,
          47,
          53,
          65,
          77,
          94,
          35,
          37,
          39,
          42,
          43,
          49,
          61,
          73,
          35,
          36,
          38,
          40,
          42,
          48,
          59,
          72,
          87,
          7,
          11,
          13,
          15,
          17,
          23,
          35,
          47,
          64,
          12,
          13,
          15,
          17,
          19,
          25,
          37,
          49,
          64,
          6,
          8,
          10,
          12,
          14,
          20,
          33,
          44,
          60,
          39,
          41,
          44,
          46,
          48,
          53,
          65,
          77,
          93,
          25,
          27,
          29,
          31,
          33,
          39,
          50,
          63,
          80,
          5,
          7,
          9,
          11,
          13,
          19,
          31,
          48,
          50,
          52,
          54,
          56,
          63,
          74,
          86,
          102,
          0,
          3,
          5,
          7,
          8,
          15,
          27,
          39,
          56,
          59,
          5,
          7,
          9,
          11,
          13,
          19,
          31,
          43,
          59,
          0,
          6,
          8,
          10,
          12,
          18,
          30,
          41,
          58,
          11,
          13,
          15,
          17,
          19,
          25,
          37,
          49,
          29,
          30,
          32,
          33,
          36,
          42,
          54,
          65,
          82,
          85,
          42,
          47,
          49,
          51,
          53,
          59,
          71,
          82,
          99,
          0,
          6,
          8,
          11,
          12,
          18,
          31,
          42,
          58,
          21,
          22,
          24,
          26,
          28,
          33,
          46,
          57,
          75,
          13,
          14,
          16,
          18,
          20,
          26,
          37,
          50,
          7,
          8,
          10,
          12,
          14,
          20,
          31,
          45,
          60,
          7,
          12,
          14,
          16,
          18,
          24,
          36,
          49,
          63,
          8,
          9,
          12,
          13,
          15,
          21,
          33,
          45,
          61,
          6,
          7,
          9,
          10,
          13,
          18,
          31,
          43,
          59,
          15,
          17,
          19,
          21,
          23,
          29,
          41,
          54,
          70,
          70,
          6,
          11,
          13,
          15,
          17,
          23,
          35,
          47,
          17,
          18,
          19,
          21,
          23,
          30,
          42,
          53,
          70,
          0,
          7,
          9,
          11,
          13,
          19,
          31,
          43,
          59
         ]
        }
       ],
       "layout": {
        "bargap": 0.01,
        "barmode": "overlay",
        "legend": {
         "bgcolor": "#FFFFFF",
         "font": {
          "color": "#4D5663"
         }
        },
        "paper_bgcolor": "#FFFFFF",
        "plot_bgcolor": "#FFFFFF",
        "template": {
         "data": {
          "bar": [
           {
            "error_x": {
             "color": "#2a3f5f"
            },
            "error_y": {
             "color": "#2a3f5f"
            },
            "marker": {
             "line": {
              "color": "#E5ECF6",
              "width": 0.5
             }
            },
            "type": "bar"
           }
          ],
          "barpolar": [
           {
            "marker": {
             "line": {
              "color": "#E5ECF6",
              "width": 0.5
             }
            },
            "type": "barpolar"
           }
          ],
          "carpet": [
           {
            "aaxis": {
             "endlinecolor": "#2a3f5f",
             "gridcolor": "white",
             "linecolor": "white",
             "minorgridcolor": "white",
             "startlinecolor": "#2a3f5f"
            },
            "baxis": {
             "endlinecolor": "#2a3f5f",
             "gridcolor": "white",
             "linecolor": "white",
             "minorgridcolor": "white",
             "startlinecolor": "#2a3f5f"
            },
            "type": "carpet"
           }
          ],
          "choropleth": [
           {
            "colorbar": {
             "outlinewidth": 0,
             "ticks": ""
            },
            "type": "choropleth"
           }
          ],
          "contour": [
           {
            "colorbar": {
             "outlinewidth": 0,
             "ticks": ""
            },
            "colorscale": [
             [
              0,
              "#0d0887"
             ],
             [
              0.1111111111111111,
              "#46039f"
             ],
             [
              0.2222222222222222,
              "#7201a8"
             ],
             [
              0.3333333333333333,
              "#9c179e"
             ],
             [
              0.4444444444444444,
              "#bd3786"
             ],
             [
              0.5555555555555556,
              "#d8576b"
             ],
             [
              0.6666666666666666,
              "#ed7953"
             ],
             [
              0.7777777777777778,
              "#fb9f3a"
             ],
             [
              0.8888888888888888,
              "#fdca26"
             ],
             [
              1,
              "#f0f921"
             ]
            ],
            "type": "contour"
           }
          ],
          "contourcarpet": [
           {
            "colorbar": {
             "outlinewidth": 0,
             "ticks": ""
            },
            "type": "contourcarpet"
           }
          ],
          "heatmap": [
           {
            "colorbar": {
             "outlinewidth": 0,
             "ticks": ""
            },
            "colorscale": [
             [
              0,
              "#0d0887"
             ],
             [
              0.1111111111111111,
              "#46039f"
             ],
             [
              0.2222222222222222,
              "#7201a8"
             ],
             [
              0.3333333333333333,
              "#9c179e"
             ],
             [
              0.4444444444444444,
              "#bd3786"
             ],
             [
              0.5555555555555556,
              "#d8576b"
             ],
             [
              0.6666666666666666,
              "#ed7953"
             ],
             [
              0.7777777777777778,
              "#fb9f3a"
             ],
             [
              0.8888888888888888,
              "#fdca26"
             ],
             [
              1,
              "#f0f921"
             ]
            ],
            "type": "heatmap"
           }
          ],
          "heatmapgl": [
           {
            "colorbar": {
             "outlinewidth": 0,
             "ticks": ""
            },
            "colorscale": [
             [
              0,
              "#0d0887"
             ],
             [
              0.1111111111111111,
              "#46039f"
             ],
             [
              0.2222222222222222,
              "#7201a8"
             ],
             [
              0.3333333333333333,
              "#9c179e"
             ],
             [
              0.4444444444444444,
              "#bd3786"
             ],
             [
              0.5555555555555556,
              "#d8576b"
             ],
             [
              0.6666666666666666,
              "#ed7953"
             ],
             [
              0.7777777777777778,
              "#fb9f3a"
             ],
             [
              0.8888888888888888,
              "#fdca26"
             ],
             [
              1,
              "#f0f921"
             ]
            ],
            "type": "heatmapgl"
           }
          ],
          "histogram": [
           {
            "marker": {
             "colorbar": {
              "outlinewidth": 0,
              "ticks": ""
             }
            },
            "type": "histogram"
           }
          ],
          "histogram2d": [
           {
            "colorbar": {
             "outlinewidth": 0,
             "ticks": ""
            },
            "colorscale": [
             [
              0,
              "#0d0887"
             ],
             [
              0.1111111111111111,
              "#46039f"
             ],
             [
              0.2222222222222222,
              "#7201a8"
             ],
             [
              0.3333333333333333,
              "#9c179e"
             ],
             [
              0.4444444444444444,
              "#bd3786"
             ],
             [
              0.5555555555555556,
              "#d8576b"
             ],
             [
              0.6666666666666666,
              "#ed7953"
             ],
             [
              0.7777777777777778,
              "#fb9f3a"
             ],
             [
              0.8888888888888888,
              "#fdca26"
             ],
             [
              1,
              "#f0f921"
             ]
            ],
            "type": "histogram2d"
           }
          ],
          "histogram2dcontour": [
           {
            "colorbar": {
             "outlinewidth": 0,
             "ticks": ""
            },
            "colorscale": [
             [
              0,
              "#0d0887"
             ],
             [
              0.1111111111111111,
              "#46039f"
             ],
             [
              0.2222222222222222,
              "#7201a8"
             ],
             [
              0.3333333333333333,
              "#9c179e"
             ],
             [
              0.4444444444444444,
              "#bd3786"
             ],
             [
              0.5555555555555556,
              "#d8576b"
             ],
             [
              0.6666666666666666,
              "#ed7953"
             ],
             [
              0.7777777777777778,
              "#fb9f3a"
             ],
             [
              0.8888888888888888,
              "#fdca26"
             ],
             [
              1,
              "#f0f921"
             ]
            ],
            "type": "histogram2dcontour"
           }
          ],
          "mesh3d": [
           {
            "colorbar": {
             "outlinewidth": 0,
             "ticks": ""
            },
            "type": "mesh3d"
           }
          ],
          "parcoords": [
           {
            "line": {
             "colorbar": {
              "outlinewidth": 0,
              "ticks": ""
             }
            },
            "type": "parcoords"
           }
          ],
          "pie": [
           {
            "automargin": true,
            "type": "pie"
           }
          ],
          "scatter": [
           {
            "marker": {
             "colorbar": {
              "outlinewidth": 0,
              "ticks": ""
             }
            },
            "type": "scatter"
           }
          ],
          "scatter3d": [
           {
            "line": {
             "colorbar": {
              "outlinewidth": 0,
              "ticks": ""
             }
            },
            "marker": {
             "colorbar": {
              "outlinewidth": 0,
              "ticks": ""
             }
            },
            "type": "scatter3d"
           }
          ],
          "scattercarpet": [
           {
            "marker": {
             "colorbar": {
              "outlinewidth": 0,
              "ticks": ""
             }
            },
            "type": "scattercarpet"
           }
          ],
          "scattergeo": [
           {
            "marker": {
             "colorbar": {
              "outlinewidth": 0,
              "ticks": ""
             }
            },
            "type": "scattergeo"
           }
          ],
          "scattergl": [
           {
            "marker": {
             "colorbar": {
              "outlinewidth": 0,
              "ticks": ""
             }
            },
            "type": "scattergl"
           }
          ],
          "scattermapbox": [
           {
            "marker": {
             "colorbar": {
              "outlinewidth": 0,
              "ticks": ""
             }
            },
            "type": "scattermapbox"
           }
          ],
          "scatterpolar": [
           {
            "marker": {
             "colorbar": {
              "outlinewidth": 0,
              "ticks": ""
             }
            },
            "type": "scatterpolar"
           }
          ],
          "scatterpolargl": [
           {
            "marker": {
             "colorbar": {
              "outlinewidth": 0,
              "ticks": ""
             }
            },
            "type": "scatterpolargl"
           }
          ],
          "scatterternary": [
           {
            "marker": {
             "colorbar": {
              "outlinewidth": 0,
              "ticks": ""
             }
            },
            "type": "scatterternary"
           }
          ],
          "surface": [
           {
            "colorbar": {
             "outlinewidth": 0,
             "ticks": ""
            },
            "colorscale": [
             [
              0,
              "#0d0887"
             ],
             [
              0.1111111111111111,
              "#46039f"
             ],
             [
              0.2222222222222222,
              "#7201a8"
             ],
             [
              0.3333333333333333,
              "#9c179e"
             ],
             [
              0.4444444444444444,
              "#bd3786"
             ],
             [
              0.5555555555555556,
              "#d8576b"
             ],
             [
              0.6666666666666666,
              "#ed7953"
             ],
             [
              0.7777777777777778,
              "#fb9f3a"
             ],
             [
              0.8888888888888888,
              "#fdca26"
             ],
             [
              1,
              "#f0f921"
             ]
            ],
            "type": "surface"
           }
          ],
          "table": [
           {
            "cells": {
             "fill": {
              "color": "#EBF0F8"
             },
             "line": {
              "color": "white"
             }
            },
            "header": {
             "fill": {
              "color": "#C8D4E3"
             },
             "line": {
              "color": "white"
             }
            },
            "type": "table"
           }
          ]
         },
         "layout": {
          "annotationdefaults": {
           "arrowcolor": "#2a3f5f",
           "arrowhead": 0,
           "arrowwidth": 1
          },
          "autotypenumbers": "strict",
          "coloraxis": {
           "colorbar": {
            "outlinewidth": 0,
            "ticks": ""
           }
          },
          "colorscale": {
           "diverging": [
            [
             0,
             "#8e0152"
            ],
            [
             0.1,
             "#c51b7d"
            ],
            [
             0.2,
             "#de77ae"
            ],
            [
             0.3,
             "#f1b6da"
            ],
            [
             0.4,
             "#fde0ef"
            ],
            [
             0.5,
             "#f7f7f7"
            ],
            [
             0.6,
             "#e6f5d0"
            ],
            [
             0.7,
             "#b8e186"
            ],
            [
             0.8,
             "#7fbc41"
            ],
            [
             0.9,
             "#4d9221"
            ],
            [
             1,
             "#276419"
            ]
           ],
           "sequential": [
            [
             0,
             "#0d0887"
            ],
            [
             0.1111111111111111,
             "#46039f"
            ],
            [
             0.2222222222222222,
             "#7201a8"
            ],
            [
             0.3333333333333333,
             "#9c179e"
            ],
            [
             0.4444444444444444,
             "#bd3786"
            ],
            [
             0.5555555555555556,
             "#d8576b"
            ],
            [
             0.6666666666666666,
             "#ed7953"
            ],
            [
             0.7777777777777778,
             "#fb9f3a"
            ],
            [
             0.8888888888888888,
             "#fdca26"
            ],
            [
             1,
             "#f0f921"
            ]
           ],
           "sequentialminus": [
            [
             0,
             "#0d0887"
            ],
            [
             0.1111111111111111,
             "#46039f"
            ],
            [
             0.2222222222222222,
             "#7201a8"
            ],
            [
             0.3333333333333333,
             "#9c179e"
            ],
            [
             0.4444444444444444,
             "#bd3786"
            ],
            [
             0.5555555555555556,
             "#d8576b"
            ],
            [
             0.6666666666666666,
             "#ed7953"
            ],
            [
             0.7777777777777778,
             "#fb9f3a"
            ],
            [
             0.8888888888888888,
             "#fdca26"
            ],
            [
             1,
             "#f0f921"
            ]
           ]
          },
          "colorway": [
           "#636efa",
           "#EF553B",
           "#00cc96",
           "#ab63fa",
           "#FFA15A",
           "#19d3f3",
           "#FF6692",
           "#B6E880",
           "#FF97FF",
           "#FECB52"
          ],
          "font": {
           "color": "#2a3f5f"
          },
          "geo": {
           "bgcolor": "white",
           "lakecolor": "white",
           "landcolor": "#E5ECF6",
           "showlakes": true,
           "showland": true,
           "subunitcolor": "white"
          },
          "hoverlabel": {
           "align": "left"
          },
          "hovermode": "closest",
          "mapbox": {
           "style": "light"
          },
          "paper_bgcolor": "white",
          "plot_bgcolor": "#E5ECF6",
          "polar": {
           "angularaxis": {
            "gridcolor": "white",
            "linecolor": "white",
            "ticks": ""
           },
           "bgcolor": "#E5ECF6",
           "radialaxis": {
            "gridcolor": "white",
            "linecolor": "white",
            "ticks": ""
           }
          },
          "scene": {
           "xaxis": {
            "backgroundcolor": "#E5ECF6",
            "gridcolor": "white",
            "gridwidth": 2,
            "linecolor": "white",
            "showbackground": true,
            "ticks": "",
            "zerolinecolor": "white"
           },
           "yaxis": {
            "backgroundcolor": "#E5ECF6",
            "gridcolor": "white",
            "gridwidth": 2,
            "linecolor": "white",
            "showbackground": true,
            "ticks": "",
            "zerolinecolor": "white"
           },
           "zaxis": {
            "backgroundcolor": "#E5ECF6",
            "gridcolor": "white",
            "gridwidth": 2,
            "linecolor": "white",
            "showbackground": true,
            "ticks": "",
            "zerolinecolor": "white"
           }
          },
          "shapedefaults": {
           "line": {
            "color": "#2a3f5f"
           }
          },
          "ternary": {
           "aaxis": {
            "gridcolor": "white",
            "linecolor": "white",
            "ticks": ""
           },
           "baxis": {
            "gridcolor": "white",
            "linecolor": "white",
            "ticks": ""
           },
           "bgcolor": "#E5ECF6",
           "caxis": {
            "gridcolor": "white",
            "linecolor": "white",
            "ticks": ""
           }
          },
          "title": {
           "x": 0.05
          },
          "xaxis": {
           "automargin": true,
           "gridcolor": "white",
           "linecolor": "white",
           "ticks": "",
           "title": {
            "standoff": 15
           },
           "zerolinecolor": "white",
           "zerolinewidth": 2
          },
          "yaxis": {
           "automargin": true,
           "gridcolor": "white",
           "linecolor": "white",
           "ticks": "",
           "title": {
            "standoff": 15
           },
           "zerolinecolor": "white",
           "zerolinewidth": 2
          }
         }
        },
        "title": {
         "font": {
          "color": "#4D5663"
         },
         "text": "Distribution of Weeks of Training data"
        },
        "xaxis": {
         "gridcolor": "#E1E5ED",
         "linecolor": "white",
         "showgrid": true,
         "tickfont": {
          "color": "#4D5663"
         },
         "title": {
          "font": {
           "color": "#4D5663"
          },
          "text": "Weeks"
         },
         "zerolinecolor": "#E1E5ED"
        },
        "yaxis": {
         "gridcolor": "#E1E5ED",
         "linecolor": "white",
         "showgrid": true,
         "tickfont": {
          "color": "#4D5663"
         },
         "title": {
          "font": {
           "color": "#4D5663"
          },
          "text": "Frequency"
         },
         "zerolinecolor": "#E1E5ED"
        }
       }
      },
      "text/html": [
       "<div>                            <div id=\"6542fb9a-4774-4c69-949b-5d446a779d4f\" class=\"plotly-graph-div\" style=\"height:525px; width:100%;\"></div>            <script type=\"text/javascript\">                require([\"plotly\"], function(Plotly) {                    window.PLOTLYENV=window.PLOTLYENV || {};\n",
       "                    window.PLOTLYENV.BASE_URL='https://plot.ly';                                    if (document.getElementById(\"6542fb9a-4774-4c69-949b-5d446a779d4f\")) {                    Plotly.newPlot(                        \"6542fb9a-4774-4c69-949b-5d446a779d4f\",                        [{\"histfunc\": \"count\", \"histnorm\": \"\", \"marker\": {\"color\": \"rgba(0, 200, 200, 1.0)\", \"line\": {\"color\": \"#FFFFFF\", \"width\": 1.3}}, \"name\": \"Weeks\", \"nbinsx\": 100, \"opacity\": 0.7, \"orientation\": \"v\", \"type\": \"histogram\", \"x\": [-4, 5, 7, 9, 11, 17, 29, 41, 57, 8, 9, 11, 13, 15, 22, 33, 45, 60, 0, 1, 3, 5, 7, 13, 25, 37, 54, 6, 7, 9, 11, 13, 19, 32, 43, 58, 33, 35, 37, 39, 41, 47, 58, 71, 87, 0, 2, 4, 6, 8, 14, 26, 37, 54, 12, 17, 19, 21, 31, 40, 52, 69, 13, 14, 16, 18, 20, 26, 38, 53, 66, 18, 19, 21, 23, 25, 31, 44, 54, 70, -3, 3, 5, 7, 9, 15, 27, 39, 55, 0, 1, 3, 6, 7, 14, 26, 38, 53, 41, 45, 47, 49, 51, 57, 69, 81, 98, 12, 14, 16, 18, 23, 26, 38, 51, 66, 19, 30, 33, 34, 36, 42, 54, 65, 30, 35, 37, 39, 41, 47, 59, 71, 87, 11, 12, 14, 16, 18, 24, 36, 49, 65, 6, 12, 15, 17, 19, 24, 36, 49, 63, 1, 6, 9, 11, 12, 18, 31, 44, 60, 2, 4, 6, 8, 10, 29, 9, 9, 11, 13, 15, 21, 33, 47, 61, -1, 1, 3, 6, 7, 13, 26, 37, 54, 48, 51, 53, 56, 58, 63, 75, 16, 18, 20, 23, 24, 31, 43, 55, 71, 23, 24, 26, 28, 30, 36, 48, 60, 76, 44, 46, 48, 50, 52, 58, 70, 83, 98, 4, 5, 7, 9, 11, 17, 28, 41, 11, 11, 13, 15, 16, 22, 35, 46, 62, 15, 18, 20, 22, 24, 30, 42, 55, 70, 3, 6, 8, 10, 12, 18, 30, 42, 25, 28, 29, 32, 33, 40, 51, 61, 79, -4, 3, 5, 6, 9, 15, 27, 40, 55, 5, 6, 8, 10, 12, 18, 29, 42, 59, 0, 5, 7, 9, 11, 17, 28, 40, 58, 19, 27, 29, 31, 33, 39, 51, 63, 79, -5, 6, 8, 9, 12, 18, 30, 42, 58, 7, 7, 9, 11, 14, 20, 31, 44, 60, 17, 21, 23, 27, 33, 44, 59, 73, -1, 3, 6, 8, 9, 16, 28, 39, 54, 0, 6, 9, 11, 12, 18, 30, 42, 58, 44, 47, 49, 51, 53, 58, 70, 83, 98, 102, 3, 5, 7, 9, 11, 17, 29, 41, 58, 20, 21, 23, 26, 28, 33, 45, 58, 44, 45, 47, 49, 51, 57, 69, 82, 97, 100, 11, 13, 15, 17, 19, 25, 37, 49, 65, 53, 55, 57, 59, 61, 67, 79, 91, 107, 15, 18, 20, 23, 25, 31, 42, 56, 9, 10, 13, 15, 17, 23, 36, 15, 17, 19, 21, 23, 29, 42, 52, 4, 8, 10, 12, 14, 20, 32, 44, 60, 2, 4, 6, 8, 10, 16, 28, 40, 56, 59, -4, 6, 8, 10, 12, 18, 30, 43, 58, 48, 49, 51, 53, 55, 61, 73, 85, 102, 47, 48, 50, 53, 55, 60, 72, 84, 100, 8, 8, 10, 12, 14, 20, 34, 45, 18, 26, 28, 30, 32, 38, 50, 62, 78, 44, 48, 50, 52, 54, 61, 72, 84, 100, 34, 36, 37, 39, 41, 47, 59, 0, 3, 5, 7, 10, 15, 27, 39, 56, 11, 12, 14, 17, 18, 24, 36, 48, 64, 63, 64, 66, 68, 70, 76, 89, 101, 116, 6, 10, 13, 14, 16, 22, 34, 46, 63, -2, 2, 4, 6, 8, 13, 27, 38, 54, 2, 8, 11, 13, 14, 21, 33, 44, 59, 31, 35, 37, 40, 42, 48, 60, 73, 89, 3, 6, 8, 10, 12, 18, 30, 43, 58, 14, 18, 20, 22, 24, 30, 42, 54, 70, 16, 21, 24, 25, 27, 33, 47, 58, 73, 16, 18, 20, 22, 24, 30, 42, 54, 70, 74, 44, 48, 50, 52, 54, 60, 73, 84, 100, 8, 10, 12, 14, 16, 22, 34, 46, 61, 79, 81, 83, 85, 87, 92, 104, 117, 133, 7, 11, 13, 15, 17, 23, 34, 47, 62, 66, 7, 8, 10, 12, 14, 21, 33, 44, 60, 12, 16, 18, 20, 23, 28, 40, 53, 66, 38, 44, 46, 48, 50, 56, 68, 79, 96, 35, 37, 39, 41, 43, 49, 60, 72, 92, 11, 17, 19, 21, 23, 29, 42, 53, 69, 9, 11, 13, 16, 18, 24, 35, 47, 63, 39, 42, 44, 46, 48, 54, 65, 77, 94, 29, 30, 32, 34, 37, 43, 55, 67, 83, 8, 11, 13, 15, 17, 23, 59, 4, 10, 12, 14, 16, 22, 34, 46, 62, 4, 12, 14, 15, 18, 24, 36, 48, 65, 9, 12, 14, 16, 18, 25, 36, 48, 66, 0, 5, 8, 10, 11, 18, 30, 41, 57, 5, 5, 7, 9, 12, 17, 30, 42, 57, 20, 21, 23, 25, 27, 33, 45, 58, 75, 33, 35, 37, 38, 41, 47, 59, 71, 86, 0, 3, 5, 7, 9, 16, 27, 39, 56, 6, 9, 11, 13, 14, 21, 32, 44, 61, 3, 4, 6, 8, 10, 16, 28, 40, 55, 10, 11, 13, 15, 17, 23, 34, 47, 63, 20, 22, 25, 26, 29, 34, 46, 59, 75, 0, 4, 7, 9, 11, 17, 27, 40, 56, 11, 12, 14, 16, 18, 24, 36, 48, 64, -1, 5, 7, 9, 11, 16, 29, 41, 57, 0, 3, 5, 7, 9, 15, 27, 39, 55, 13, 17, 19, 21, 23, 29, 54, 69, 14, 15, 18, 19, 21, 27, 40, 50, 67, 23, 26, 28, 30, 32, 38, 49, 62, 78, 82, 9, 11, 13, 15, 17, 23, 35, 47, 63, -3, 2, 4, 6, 9, 14, 27, 39, 54, 3, 4, 6, 8, 10, 16, 29, 41, 34, 35, 37, 40, 42, 47, 59, 71, 88, 5, 5, 8, 9, 12, 18, 30, 41, 57, 2, 4, 6, 8, 10, 16, 28, 40, 56, 4, 5, 7, 9, 10, 17, 28, 41, 58, 14, 15, 17, 19, 20, 27, 38, 51, 67, 34, 40, 42, 46, 52, 67, 76, 92, 21, 30, 32, 34, 37, 43, 55, 67, 83, 1, 3, 5, 7, 15, 29, 41, 55, 13, 14, 16, 19, 20, 26, 39, 51, 3, 5, 8, 10, 12, 31, 4, 8, 10, 12, 14, 20, 32, 44, 60, 48, 50, 52, 54, 56, 62, 74, 86, 102, 6, 7, 9, 11, 13, 19, 31, 8, 10, 12, 14, 17, 22, 34, 46, 63, 0, 3, 5, 7, 9, 15, 27, 39, 54, 4, 6, 8, 10, 12, 18, 30, 42, 58, 21, 22, 24, 26, 28, 34, 45, 57, 4, 15, 17, 18, 21, 26, 38, 51, 2, 4, 6, 8, 10, 16, 27, 43, 56, 5, 6, 7, 10, 12, 18, 29, 42, 59, 5, 8, 10, 12, 13, 20, 32, 44, 4, 6, 8, 9, 12, 18, 30, 42, 57, 22, 24, 26, 28, 30, 37, 48, 60, 76, 8, 10, 12, 14, 16, 22, 34, 46, 62, 3, 6, 8, 10, 12, 18, 31, 44, 58, 3, 5, 7, 9, 11, 18, 29, 41, 57, 0, 4, 6, 8, 10, 16, 28, 40, 57, 26, 32, 34, 35, 44, 56, 70, 85, 12, 16, 18, 20, 22, 29, 40, 52, 69, 3, 6, 8, 10, 11, 18, 30, 40, 57, 26, 27, 29, 31, 33, 39, 50, 64, 39, 43, 45, 47, 49, 54, 66, 79, 95, 28, 30, 32, 34, 36, 42, 55, 67, 82, 3, 4, 6, 8, 10, 16, 28, 40, 56, 6, 8, 10, 12, 14, 20, 33, 44, 29, 32, 34, 36, 38, 44, 57, 68, 85, 0, 6, 9, 10, 13, 18, 31, 41, 58, -1, 5, 8, 10, 12, 18, 30, 42, 58, 28, 32, 35, 36, 38, 44, 56, 68, 84, 23, 25, 27, 29, 31, 37, 49, 62, 78, 23, 25, 27, 28, 30, 36, 48, 62, 76, 79, 0, 4, 6, 8, 10, 16, 31, 14, 15, 17, 19, 21, 27, 39, 51, 66, 24, 28, 30, 32, 34, 40, 52, 65, 82, 4, 8, 12, 14, 20, 33, 45, 62, 3, 5, 7, 10, 12, 17, 29, 41, 57, 37, 41, 43, 45, 47, 53, 65, 77, 94, 35, 37, 39, 42, 43, 49, 61, 73, 35, 36, 38, 40, 42, 48, 59, 72, 87, 7, 11, 13, 15, 17, 23, 35, 47, 64, 12, 13, 15, 17, 19, 25, 37, 49, 64, 6, 8, 10, 12, 14, 20, 33, 44, 60, 39, 41, 44, 46, 48, 53, 65, 77, 93, 25, 27, 29, 31, 33, 39, 50, 63, 80, 5, 7, 9, 11, 13, 19, 31, 48, 50, 52, 54, 56, 63, 74, 86, 102, 0, 3, 5, 7, 8, 15, 27, 39, 56, 59, 5, 7, 9, 11, 13, 19, 31, 43, 59, 0, 6, 8, 10, 12, 18, 30, 41, 58, 11, 13, 15, 17, 19, 25, 37, 49, 29, 30, 32, 33, 36, 42, 54, 65, 82, 85, 42, 47, 49, 51, 53, 59, 71, 82, 99, 0, 6, 8, 11, 12, 18, 31, 42, 58, 21, 22, 24, 26, 28, 33, 46, 57, 75, 13, 14, 16, 18, 20, 26, 37, 50, 7, 8, 10, 12, 14, 20, 31, 45, 60, 7, 12, 14, 16, 18, 24, 36, 49, 63, 8, 9, 12, 13, 15, 21, 33, 45, 61, 6, 7, 9, 10, 13, 18, 31, 43, 59, 15, 17, 19, 21, 23, 29, 41, 54, 70, 70, 6, 11, 13, 15, 17, 23, 35, 47, 17, 18, 19, 21, 23, 30, 42, 53, 70, 0, 7, 9, 11, 13, 19, 31, 43, 59]}],                        {\"bargap\": 0.01, \"barmode\": \"overlay\", \"legend\": {\"bgcolor\": \"#FFFFFF\", \"font\": {\"color\": \"#4D5663\"}}, \"paper_bgcolor\": \"#FFFFFF\", \"plot_bgcolor\": \"#FFFFFF\", \"template\": {\"data\": {\"bar\": [{\"error_x\": {\"color\": \"#2a3f5f\"}, \"error_y\": {\"color\": \"#2a3f5f\"}, \"marker\": {\"line\": {\"color\": \"#E5ECF6\", \"width\": 0.5}}, \"type\": \"bar\"}], \"barpolar\": [{\"marker\": {\"line\": {\"color\": \"#E5ECF6\", \"width\": 0.5}}, \"type\": \"barpolar\"}], \"carpet\": [{\"aaxis\": {\"endlinecolor\": \"#2a3f5f\", \"gridcolor\": \"white\", \"linecolor\": \"white\", \"minorgridcolor\": \"white\", \"startlinecolor\": \"#2a3f5f\"}, \"baxis\": {\"endlinecolor\": \"#2a3f5f\", \"gridcolor\": \"white\", \"linecolor\": \"white\", \"minorgridcolor\": \"white\", \"startlinecolor\": \"#2a3f5f\"}, \"type\": \"carpet\"}], \"choropleth\": [{\"colorbar\": {\"outlinewidth\": 0, \"ticks\": \"\"}, \"type\": \"choropleth\"}], \"contour\": [{\"colorbar\": {\"outlinewidth\": 0, \"ticks\": \"\"}, \"colorscale\": [[0.0, \"#0d0887\"], [0.1111111111111111, \"#46039f\"], [0.2222222222222222, \"#7201a8\"], [0.3333333333333333, \"#9c179e\"], [0.4444444444444444, \"#bd3786\"], [0.5555555555555556, \"#d8576b\"], [0.6666666666666666, \"#ed7953\"], [0.7777777777777778, \"#fb9f3a\"], [0.8888888888888888, \"#fdca26\"], [1.0, \"#f0f921\"]], \"type\": \"contour\"}], \"contourcarpet\": [{\"colorbar\": {\"outlinewidth\": 0, \"ticks\": \"\"}, \"type\": \"contourcarpet\"}], \"heatmap\": [{\"colorbar\": {\"outlinewidth\": 0, \"ticks\": \"\"}, \"colorscale\": [[0.0, \"#0d0887\"], [0.1111111111111111, \"#46039f\"], [0.2222222222222222, \"#7201a8\"], [0.3333333333333333, \"#9c179e\"], [0.4444444444444444, \"#bd3786\"], [0.5555555555555556, \"#d8576b\"], [0.6666666666666666, \"#ed7953\"], [0.7777777777777778, \"#fb9f3a\"], [0.8888888888888888, \"#fdca26\"], [1.0, \"#f0f921\"]], \"type\": \"heatmap\"}], \"heatmapgl\": [{\"colorbar\": {\"outlinewidth\": 0, \"ticks\": \"\"}, \"colorscale\": [[0.0, \"#0d0887\"], [0.1111111111111111, \"#46039f\"], [0.2222222222222222, \"#7201a8\"], [0.3333333333333333, \"#9c179e\"], [0.4444444444444444, \"#bd3786\"], [0.5555555555555556, \"#d8576b\"], [0.6666666666666666, \"#ed7953\"], [0.7777777777777778, \"#fb9f3a\"], [0.8888888888888888, \"#fdca26\"], [1.0, \"#f0f921\"]], \"type\": \"heatmapgl\"}], \"histogram\": [{\"marker\": {\"colorbar\": {\"outlinewidth\": 0, \"ticks\": \"\"}}, \"type\": \"histogram\"}], \"histogram2d\": [{\"colorbar\": {\"outlinewidth\": 0, \"ticks\": \"\"}, \"colorscale\": [[0.0, \"#0d0887\"], [0.1111111111111111, \"#46039f\"], [0.2222222222222222, \"#7201a8\"], [0.3333333333333333, \"#9c179e\"], [0.4444444444444444, \"#bd3786\"], [0.5555555555555556, \"#d8576b\"], [0.6666666666666666, \"#ed7953\"], [0.7777777777777778, \"#fb9f3a\"], [0.8888888888888888, \"#fdca26\"], [1.0, \"#f0f921\"]], \"type\": \"histogram2d\"}], \"histogram2dcontour\": [{\"colorbar\": {\"outlinewidth\": 0, \"ticks\": \"\"}, \"colorscale\": [[0.0, \"#0d0887\"], [0.1111111111111111, \"#46039f\"], [0.2222222222222222, \"#7201a8\"], [0.3333333333333333, \"#9c179e\"], [0.4444444444444444, \"#bd3786\"], [0.5555555555555556, \"#d8576b\"], [0.6666666666666666, \"#ed7953\"], [0.7777777777777778, \"#fb9f3a\"], [0.8888888888888888, \"#fdca26\"], [1.0, \"#f0f921\"]], \"type\": \"histogram2dcontour\"}], \"mesh3d\": [{\"colorbar\": {\"outlinewidth\": 0, \"ticks\": \"\"}, \"type\": \"mesh3d\"}], \"parcoords\": [{\"line\": {\"colorbar\": {\"outlinewidth\": 0, \"ticks\": \"\"}}, \"type\": \"parcoords\"}], \"pie\": [{\"automargin\": true, \"type\": \"pie\"}], \"scatter\": [{\"marker\": {\"colorbar\": {\"outlinewidth\": 0, \"ticks\": \"\"}}, \"type\": \"scatter\"}], \"scatter3d\": [{\"line\": {\"colorbar\": {\"outlinewidth\": 0, \"ticks\": \"\"}}, \"marker\": {\"colorbar\": {\"outlinewidth\": 0, \"ticks\": \"\"}}, \"type\": \"scatter3d\"}], \"scattercarpet\": [{\"marker\": {\"colorbar\": {\"outlinewidth\": 0, \"ticks\": \"\"}}, \"type\": \"scattercarpet\"}], \"scattergeo\": [{\"marker\": {\"colorbar\": {\"outlinewidth\": 0, \"ticks\": \"\"}}, \"type\": \"scattergeo\"}], \"scattergl\": [{\"marker\": {\"colorbar\": {\"outlinewidth\": 0, \"ticks\": \"\"}}, \"type\": \"scattergl\"}], \"scattermapbox\": [{\"marker\": {\"colorbar\": {\"outlinewidth\": 0, \"ticks\": \"\"}}, \"type\": \"scattermapbox\"}], \"scatterpolar\": [{\"marker\": {\"colorbar\": {\"outlinewidth\": 0, \"ticks\": \"\"}}, \"type\": \"scatterpolar\"}], \"scatterpolargl\": [{\"marker\": {\"colorbar\": {\"outlinewidth\": 0, \"ticks\": \"\"}}, \"type\": \"scatterpolargl\"}], \"scatterternary\": [{\"marker\": {\"colorbar\": {\"outlinewidth\": 0, \"ticks\": \"\"}}, \"type\": \"scatterternary\"}], \"surface\": [{\"colorbar\": {\"outlinewidth\": 0, \"ticks\": \"\"}, \"colorscale\": [[0.0, \"#0d0887\"], [0.1111111111111111, \"#46039f\"], [0.2222222222222222, \"#7201a8\"], [0.3333333333333333, \"#9c179e\"], [0.4444444444444444, \"#bd3786\"], [0.5555555555555556, \"#d8576b\"], [0.6666666666666666, \"#ed7953\"], [0.7777777777777778, \"#fb9f3a\"], [0.8888888888888888, \"#fdca26\"], [1.0, \"#f0f921\"]], \"type\": \"surface\"}], \"table\": [{\"cells\": {\"fill\": {\"color\": \"#EBF0F8\"}, \"line\": {\"color\": \"white\"}}, \"header\": {\"fill\": {\"color\": \"#C8D4E3\"}, \"line\": {\"color\": \"white\"}}, \"type\": \"table\"}]}, \"layout\": {\"annotationdefaults\": {\"arrowcolor\": \"#2a3f5f\", \"arrowhead\": 0, \"arrowwidth\": 1}, \"autotypenumbers\": \"strict\", \"coloraxis\": {\"colorbar\": {\"outlinewidth\": 0, \"ticks\": \"\"}}, \"colorscale\": {\"diverging\": [[0, \"#8e0152\"], [0.1, \"#c51b7d\"], [0.2, \"#de77ae\"], [0.3, \"#f1b6da\"], [0.4, \"#fde0ef\"], [0.5, \"#f7f7f7\"], [0.6, \"#e6f5d0\"], [0.7, \"#b8e186\"], [0.8, \"#7fbc41\"], [0.9, \"#4d9221\"], [1, \"#276419\"]], \"sequential\": [[0.0, \"#0d0887\"], [0.1111111111111111, \"#46039f\"], [0.2222222222222222, \"#7201a8\"], [0.3333333333333333, \"#9c179e\"], [0.4444444444444444, \"#bd3786\"], [0.5555555555555556, \"#d8576b\"], [0.6666666666666666, \"#ed7953\"], [0.7777777777777778, \"#fb9f3a\"], [0.8888888888888888, \"#fdca26\"], [1.0, \"#f0f921\"]], \"sequentialminus\": [[0.0, \"#0d0887\"], [0.1111111111111111, \"#46039f\"], [0.2222222222222222, \"#7201a8\"], [0.3333333333333333, \"#9c179e\"], [0.4444444444444444, \"#bd3786\"], [0.5555555555555556, \"#d8576b\"], [0.6666666666666666, \"#ed7953\"], [0.7777777777777778, \"#fb9f3a\"], [0.8888888888888888, \"#fdca26\"], [1.0, \"#f0f921\"]]}, \"colorway\": [\"#636efa\", \"#EF553B\", \"#00cc96\", \"#ab63fa\", \"#FFA15A\", \"#19d3f3\", \"#FF6692\", \"#B6E880\", \"#FF97FF\", \"#FECB52\"], \"font\": {\"color\": \"#2a3f5f\"}, \"geo\": {\"bgcolor\": \"white\", \"lakecolor\": \"white\", \"landcolor\": \"#E5ECF6\", \"showlakes\": true, \"showland\": true, \"subunitcolor\": \"white\"}, \"hoverlabel\": {\"align\": \"left\"}, \"hovermode\": \"closest\", \"mapbox\": {\"style\": \"light\"}, \"paper_bgcolor\": \"white\", \"plot_bgcolor\": \"#E5ECF6\", \"polar\": {\"angularaxis\": {\"gridcolor\": \"white\", \"linecolor\": \"white\", \"ticks\": \"\"}, \"bgcolor\": \"#E5ECF6\", \"radialaxis\": {\"gridcolor\": \"white\", \"linecolor\": \"white\", \"ticks\": \"\"}}, \"scene\": {\"xaxis\": {\"backgroundcolor\": \"#E5ECF6\", \"gridcolor\": \"white\", \"gridwidth\": 2, \"linecolor\": \"white\", \"showbackground\": true, \"ticks\": \"\", \"zerolinecolor\": \"white\"}, \"yaxis\": {\"backgroundcolor\": \"#E5ECF6\", \"gridcolor\": \"white\", \"gridwidth\": 2, \"linecolor\": \"white\", \"showbackground\": true, \"ticks\": \"\", \"zerolinecolor\": \"white\"}, \"zaxis\": {\"backgroundcolor\": \"#E5ECF6\", \"gridcolor\": \"white\", \"gridwidth\": 2, \"linecolor\": \"white\", \"showbackground\": true, \"ticks\": \"\", \"zerolinecolor\": \"white\"}}, \"shapedefaults\": {\"line\": {\"color\": \"#2a3f5f\"}}, \"ternary\": {\"aaxis\": {\"gridcolor\": \"white\", \"linecolor\": \"white\", \"ticks\": \"\"}, \"baxis\": {\"gridcolor\": \"white\", \"linecolor\": \"white\", \"ticks\": \"\"}, \"bgcolor\": \"#E5ECF6\", \"caxis\": {\"gridcolor\": \"white\", \"linecolor\": \"white\", \"ticks\": \"\"}}, \"title\": {\"x\": 0.05}, \"xaxis\": {\"automargin\": true, \"gridcolor\": \"white\", \"linecolor\": \"white\", \"ticks\": \"\", \"title\": {\"standoff\": 15}, \"zerolinecolor\": \"white\", \"zerolinewidth\": 2}, \"yaxis\": {\"automargin\": true, \"gridcolor\": \"white\", \"linecolor\": \"white\", \"ticks\": \"\", \"title\": {\"standoff\": 15}, \"zerolinecolor\": \"white\", \"zerolinewidth\": 2}}}, \"title\": {\"font\": {\"color\": \"#4D5663\"}, \"text\": \"Distribution of Weeks of Training data\"}, \"xaxis\": {\"gridcolor\": \"#E1E5ED\", \"linecolor\": \"white\", \"showgrid\": true, \"tickfont\": {\"color\": \"#4D5663\"}, \"title\": {\"font\": {\"color\": \"#4D5663\"}, \"text\": \"Weeks\"}, \"zerolinecolor\": \"#E1E5ED\"}, \"yaxis\": {\"gridcolor\": \"#E1E5ED\", \"linecolor\": \"white\", \"showgrid\": true, \"tickfont\": {\"color\": \"#4D5663\"}, \"title\": {\"font\": {\"color\": \"#4D5663\"}, \"text\": \"Frequency\"}, \"zerolinecolor\": \"#E1E5ED\"}},                        {\"showLink\": true, \"linkText\": \"Export to plot.ly\", \"plotlyServerURL\": \"https://plot.ly\", \"responsive\": true}                    ).then(function(){\n",
       "                            \n",
       "var gd = document.getElementById('6542fb9a-4774-4c69-949b-5d446a779d4f');\n",
       "var x = new MutationObserver(function (mutations, observer) {{\n",
       "        var display = window.getComputedStyle(gd).display;\n",
       "        if (!display || display === 'none') {{\n",
       "            console.log([gd, 'removed!']);\n",
       "            Plotly.purge(gd);\n",
       "            observer.disconnect();\n",
       "        }}\n",
       "}});\n",
       "\n",
       "// Listen for the removal of the full notebook cells\n",
       "var notebookContainer = gd.closest('#notebook-container');\n",
       "if (notebookContainer) {{\n",
       "    x.observe(notebookContainer, {childList: true});\n",
       "}}\n",
       "\n",
       "// Listen for the clearing of the current output cell\n",
       "var outputEl = gd.closest('.output');\n",
       "if (outputEl) {{\n",
       "    x.observe(outputEl, {childList: true});\n",
       "}}\n",
       "\n",
       "                        })                };                });            </script>        </div>"
      ]
     },
     "metadata": {},
     "output_type": "display_data"
    }
   ],
   "source": [
    "#Visualisation of distribution of weeks using offline plotly.\n",
    "## The pandas dataframe object does not have the iplot method when it isn't linked to plotly.\n",
    "# We need cufflinks to link pandas to plotly and add the iplot method\n",
    "#Solution for linking from : https://stackoverflow.com/questions/65763648/dataframe-object-has-no-attribute-iplot\n",
    "import cufflinks as cf\n",
    "cf.go_offline()\n",
    "cf.set_config_file(offline=False, world_readable=True)\n",
    "\n",
    "#Plotting the graph. \n",
    "final_dataframe['Weeks'].iplot(kind='hist',\n",
    "                        bins=100, xTitle='Weeks', yTitle='Frequency', \n",
    "                        linecolor='white',opacity=0.7,\n",
    "                        color='rgb(0, 200, 200)', theme='white',\n",
    "                        bargap=0.01, title='Distribution of Weeks of Training data')"
   ]
  },
  {
   "cell_type": "markdown",
   "id": "valuable-mount",
   "metadata": {},
   "source": [
    "### Distribution of Age"
   ]
  },
  {
   "cell_type": "markdown",
   "id": "super-sentence",
   "metadata": {},
   "source": [
    "- Looks like the most common age that people come to visit is 65 with frequency of 133 and the lowest is 87 with the frequency of 7"
   ]
  },
  {
   "cell_type": "code",
   "execution_count": 51,
   "id": "interracial-belize",
   "metadata": {},
   "outputs": [
    {
     "data": {
      "application/vnd.plotly.v1+json": {
       "config": {
        "linkText": "Export to plot.ly",
        "plotlyServerURL": "https://plot.ly",
        "showLink": true
       },
       "data": [
        {
         "histfunc": "count",
         "histnorm": "",
         "marker": {
          "color": "rgba(0, 200, 200, 1.0)",
          "line": {
           "color": "#FFFFFF",
           "width": 1.3
          }
         },
         "name": "Age",
         "nbinsx": 100,
         "opacity": 0.7,
         "orientation": "v",
         "type": "histogram",
         "x": [
          79,
          79,
          79,
          79,
          79,
          79,
          79,
          79,
          79,
          69,
          69,
          69,
          69,
          69,
          69,
          69,
          69,
          69,
          60,
          60,
          60,
          60,
          60,
          60,
          60,
          60,
          60,
          72,
          72,
          72,
          72,
          72,
          72,
          72,
          72,
          72,
          65,
          65,
          65,
          65,
          65,
          65,
          65,
          65,
          65,
          56,
          56,
          56,
          56,
          56,
          56,
          56,
          56,
          56,
          71,
          71,
          71,
          71,
          71,
          71,
          71,
          71,
          83,
          83,
          83,
          83,
          83,
          83,
          83,
          83,
          83,
          66,
          66,
          66,
          66,
          66,
          66,
          66,
          66,
          66,
          71,
          71,
          71,
          71,
          71,
          71,
          71,
          71,
          71,
          65,
          65,
          65,
          65,
          65,
          65,
          65,
          65,
          65,
          57,
          57,
          57,
          57,
          57,
          57,
          57,
          57,
          57,
          73,
          73,
          73,
          73,
          73,
          73,
          73,
          73,
          73,
          69,
          69,
          69,
          69,
          69,
          69,
          69,
          69,
          63,
          63,
          63,
          63,
          63,
          63,
          63,
          63,
          63,
          69,
          69,
          69,
          69,
          69,
          69,
          69,
          69,
          69,
          71,
          71,
          71,
          71,
          71,
          71,
          71,
          71,
          71,
          58,
          58,
          58,
          58,
          58,
          58,
          58,
          58,
          58,
          68,
          68,
          68,
          68,
          68,
          68,
          70,
          70,
          70,
          70,
          70,
          70,
          70,
          70,
          70,
          73,
          73,
          73,
          73,
          73,
          73,
          73,
          73,
          73,
          54,
          54,
          54,
          54,
          54,
          54,
          54,
          63,
          63,
          63,
          63,
          63,
          63,
          63,
          63,
          63,
          68,
          68,
          68,
          68,
          68,
          68,
          68,
          68,
          68,
          74,
          74,
          74,
          74,
          74,
          74,
          74,
          74,
          74,
          64,
          64,
          64,
          64,
          64,
          64,
          64,
          64,
          73,
          73,
          73,
          73,
          73,
          73,
          73,
          73,
          73,
          71,
          71,
          71,
          71,
          71,
          71,
          71,
          71,
          71,
          69,
          69,
          69,
          69,
          69,
          69,
          69,
          69,
          52,
          52,
          52,
          52,
          52,
          52,
          52,
          52,
          52,
          51,
          51,
          51,
          51,
          51,
          51,
          51,
          51,
          51,
          70,
          70,
          70,
          70,
          70,
          70,
          70,
          70,
          70,
          55,
          55,
          55,
          55,
          55,
          55,
          55,
          55,
          55,
          49,
          49,
          49,
          49,
          49,
          49,
          49,
          49,
          49,
          65,
          65,
          65,
          65,
          65,
          65,
          65,
          65,
          65,
          63,
          63,
          63,
          63,
          63,
          63,
          63,
          63,
          63,
          69,
          69,
          69,
          69,
          69,
          69,
          69,
          69,
          69,
          69,
          69,
          69,
          69,
          69,
          69,
          69,
          69,
          64,
          64,
          64,
          64,
          64,
          64,
          64,
          64,
          64,
          68,
          68,
          68,
          68,
          68,
          68,
          68,
          68,
          68,
          68,
          60,
          60,
          60,
          60,
          60,
          60,
          60,
          60,
          60,
          74,
          74,
          74,
          74,
          74,
          74,
          74,
          74,
          64,
          64,
          64,
          64,
          64,
          64,
          64,
          64,
          64,
          64,
          73,
          73,
          73,
          73,
          73,
          73,
          73,
          73,
          73,
          73,
          73,
          73,
          73,
          73,
          73,
          73,
          73,
          73,
          74,
          74,
          74,
          74,
          74,
          74,
          74,
          74,
          72,
          72,
          72,
          72,
          72,
          72,
          72,
          77,
          77,
          77,
          77,
          77,
          77,
          77,
          77,
          68,
          68,
          68,
          68,
          68,
          68,
          68,
          68,
          68,
          57,
          57,
          57,
          57,
          57,
          57,
          57,
          57,
          57,
          57,
          58,
          58,
          58,
          58,
          58,
          58,
          58,
          58,
          58,
          69,
          69,
          69,
          69,
          69,
          69,
          69,
          69,
          69,
          60,
          60,
          60,
          60,
          60,
          60,
          60,
          60,
          60,
          65,
          65,
          65,
          65,
          65,
          65,
          65,
          65,
          78,
          78,
          78,
          78,
          78,
          78,
          78,
          78,
          78,
          55,
          55,
          55,
          55,
          55,
          55,
          55,
          55,
          55,
          87,
          87,
          87,
          87,
          87,
          87,
          87,
          71,
          71,
          71,
          71,
          71,
          71,
          71,
          71,
          71,
          65,
          65,
          65,
          65,
          65,
          65,
          65,
          65,
          65,
          61,
          61,
          61,
          61,
          61,
          61,
          61,
          61,
          61,
          69,
          69,
          69,
          69,
          69,
          69,
          69,
          69,
          69,
          83,
          83,
          83,
          83,
          83,
          83,
          83,
          83,
          83,
          67,
          67,
          67,
          67,
          67,
          67,
          67,
          67,
          67,
          65,
          65,
          65,
          65,
          65,
          65,
          65,
          65,
          65,
          64,
          64,
          64,
          64,
          64,
          64,
          64,
          64,
          64,
          66,
          66,
          66,
          66,
          66,
          66,
          66,
          66,
          66,
          76,
          76,
          76,
          76,
          76,
          76,
          76,
          76,
          76,
          58,
          58,
          58,
          58,
          58,
          58,
          58,
          58,
          58,
          58,
          66,
          66,
          66,
          66,
          66,
          66,
          66,
          66,
          66,
          63,
          63,
          63,
          63,
          63,
          63,
          63,
          63,
          63,
          54,
          54,
          54,
          54,
          54,
          54,
          54,
          54,
          54,
          58,
          58,
          58,
          58,
          58,
          58,
          58,
          58,
          58,
          58,
          62,
          62,
          62,
          62,
          62,
          62,
          62,
          62,
          62,
          66,
          66,
          66,
          66,
          66,
          66,
          66,
          66,
          66,
          79,
          79,
          79,
          79,
          79,
          79,
          79,
          79,
          79,
          73,
          73,
          73,
          73,
          73,
          73,
          73,
          73,
          73,
          73,
          73,
          73,
          73,
          73,
          73,
          73,
          73,
          73,
          68,
          68,
          68,
          68,
          68,
          68,
          68,
          68,
          68,
          71,
          71,
          71,
          71,
          71,
          71,
          71,
          71,
          71,
          52,
          52,
          52,
          52,
          52,
          52,
          52,
          52,
          52,
          69,
          69,
          69,
          69,
          69,
          69,
          69,
          69,
          69,
          69,
          69,
          69,
          69,
          69,
          69,
          69,
          56,
          56,
          56,
          56,
          56,
          56,
          56,
          56,
          56,
          65,
          65,
          65,
          65,
          65,
          65,
          65,
          65,
          65,
          65,
          65,
          65,
          65,
          65,
          65,
          65,
          65,
          65,
          62,
          62,
          62,
          62,
          62,
          62,
          62,
          62,
          62,
          64,
          64,
          64,
          64,
          64,
          64,
          64,
          64,
          64,
          67,
          67,
          67,
          67,
          67,
          67,
          67,
          67,
          67,
          76,
          76,
          76,
          76,
          76,
          76,
          76,
          76,
          76,
          70,
          70,
          70,
          70,
          70,
          70,
          70,
          70,
          70,
          69,
          69,
          69,
          69,
          69,
          69,
          69,
          69,
          69,
          65,
          65,
          65,
          65,
          65,
          65,
          65,
          65,
          65,
          81,
          81,
          81,
          81,
          81,
          81,
          81,
          81,
          81,
          71,
          71,
          71,
          71,
          71,
          71,
          71,
          71,
          71,
          76,
          76,
          76,
          76,
          76,
          76,
          76,
          76,
          76,
          70,
          70,
          70,
          70,
          70,
          70,
          70,
          70,
          70,
          72,
          72,
          72,
          72,
          72,
          72,
          72,
          72,
          72,
          77,
          77,
          77,
          77,
          77,
          77,
          77,
          77,
          58,
          58,
          58,
          58,
          58,
          58,
          58,
          58,
          58,
          71,
          71,
          71,
          71,
          71,
          71,
          71,
          71,
          71,
          71,
          74,
          74,
          74,
          74,
          74,
          74,
          74,
          74,
          74,
          68,
          68,
          68,
          68,
          68,
          68,
          68,
          68,
          68,
          66,
          66,
          66,
          66,
          66,
          66,
          66,
          66,
          67,
          67,
          67,
          67,
          67,
          67,
          67,
          67,
          67,
          63,
          63,
          63,
          63,
          63,
          63,
          63,
          63,
          63,
          66,
          66,
          66,
          66,
          66,
          66,
          66,
          66,
          66,
          64,
          64,
          64,
          64,
          64,
          64,
          64,
          64,
          64,
          71,
          71,
          71,
          71,
          71,
          71,
          71,
          71,
          71,
          56,
          56,
          56,
          56,
          56,
          56,
          56,
          56,
          88,
          88,
          88,
          88,
          88,
          88,
          88,
          88,
          88,
          62,
          62,
          62,
          62,
          62,
          62,
          62,
          62,
          76,
          76,
          76,
          76,
          76,
          76,
          76,
          76,
          70,
          70,
          70,
          70,
          70,
          70,
          60,
          60,
          60,
          60,
          60,
          60,
          60,
          60,
          60,
          62,
          62,
          62,
          62,
          62,
          62,
          62,
          62,
          62,
          77,
          77,
          77,
          77,
          77,
          77,
          77,
          70,
          70,
          70,
          70,
          70,
          70,
          70,
          70,
          70,
          60,
          60,
          60,
          60,
          60,
          60,
          60,
          60,
          60,
          61,
          61,
          61,
          61,
          61,
          61,
          61,
          61,
          61,
          63,
          63,
          63,
          63,
          63,
          63,
          63,
          63,
          75,
          75,
          75,
          75,
          75,
          75,
          75,
          75,
          72,
          72,
          72,
          72,
          72,
          72,
          72,
          72,
          72,
          74,
          74,
          74,
          74,
          74,
          74,
          74,
          74,
          74,
          58,
          58,
          58,
          58,
          58,
          58,
          58,
          58,
          67,
          67,
          67,
          67,
          67,
          67,
          67,
          67,
          67,
          78,
          78,
          78,
          78,
          78,
          78,
          78,
          78,
          78,
          62,
          62,
          62,
          62,
          62,
          62,
          62,
          62,
          62,
          65,
          65,
          65,
          65,
          65,
          65,
          65,
          65,
          65,
          73,
          73,
          73,
          73,
          73,
          73,
          73,
          73,
          73,
          72,
          72,
          72,
          72,
          72,
          72,
          72,
          72,
          72,
          64,
          64,
          64,
          64,
          64,
          64,
          64,
          64,
          72,
          72,
          72,
          72,
          72,
          72,
          72,
          72,
          72,
          59,
          59,
          59,
          59,
          59,
          59,
          59,
          59,
          59,
          77,
          77,
          77,
          77,
          77,
          77,
          77,
          77,
          69,
          69,
          69,
          69,
          69,
          69,
          69,
          69,
          69,
          69,
          69,
          69,
          69,
          69,
          69,
          69,
          69,
          69,
          74,
          74,
          74,
          74,
          74,
          74,
          74,
          74,
          74,
          56,
          56,
          56,
          56,
          56,
          56,
          56,
          56,
          69,
          69,
          69,
          69,
          69,
          69,
          69,
          69,
          69,
          64,
          64,
          64,
          64,
          64,
          64,
          64,
          64,
          64,
          68,
          68,
          68,
          68,
          68,
          68,
          68,
          68,
          68,
          68,
          68,
          68,
          68,
          68,
          68,
          68,
          68,
          68,
          72,
          72,
          72,
          72,
          72,
          72,
          72,
          72,
          72,
          68,
          68,
          68,
          68,
          68,
          68,
          68,
          68,
          68,
          68,
          58,
          58,
          58,
          58,
          58,
          58,
          58,
          78,
          78,
          78,
          78,
          78,
          78,
          78,
          78,
          78,
          65,
          65,
          65,
          65,
          65,
          65,
          65,
          65,
          65,
          65,
          65,
          65,
          65,
          65,
          65,
          65,
          65,
          79,
          79,
          79,
          79,
          79,
          79,
          79,
          79,
          79,
          64,
          64,
          64,
          64,
          64,
          64,
          64,
          64,
          64,
          71,
          71,
          71,
          71,
          71,
          71,
          71,
          71,
          57,
          57,
          57,
          57,
          57,
          57,
          57,
          57,
          57,
          65,
          65,
          65,
          65,
          65,
          65,
          65,
          65,
          65,
          75,
          75,
          75,
          75,
          75,
          75,
          75,
          75,
          75,
          71,
          71,
          71,
          71,
          71,
          71,
          71,
          71,
          71,
          72,
          72,
          72,
          72,
          72,
          72,
          72,
          72,
          72,
          56,
          56,
          56,
          56,
          56,
          56,
          56,
          56,
          56,
          62,
          62,
          62,
          62,
          62,
          62,
          62,
          64,
          64,
          64,
          64,
          64,
          64,
          64,
          64,
          64,
          53,
          53,
          53,
          53,
          53,
          53,
          53,
          53,
          53,
          53,
          66,
          66,
          66,
          66,
          66,
          66,
          66,
          66,
          66,
          67,
          67,
          67,
          67,
          67,
          67,
          67,
          67,
          67,
          70,
          70,
          70,
          70,
          70,
          70,
          70,
          70,
          55,
          55,
          55,
          55,
          55,
          55,
          55,
          55,
          55,
          55,
          74,
          74,
          74,
          74,
          74,
          74,
          74,
          74,
          74,
          61,
          61,
          61,
          61,
          61,
          61,
          61,
          61,
          61,
          66,
          66,
          66,
          66,
          66,
          66,
          66,
          66,
          66,
          74,
          74,
          74,
          74,
          74,
          74,
          74,
          74,
          65,
          65,
          65,
          65,
          65,
          65,
          65,
          65,
          65,
          65,
          65,
          65,
          65,
          65,
          65,
          65,
          65,
          65,
          66,
          66,
          66,
          66,
          66,
          66,
          66,
          66,
          66,
          73,
          73,
          73,
          73,
          73,
          73,
          73,
          73,
          73,
          68,
          68,
          68,
          68,
          68,
          68,
          68,
          68,
          68,
          68,
          73,
          73,
          73,
          73,
          73,
          73,
          73,
          73,
          72,
          72,
          72,
          72,
          72,
          72,
          72,
          72,
          72,
          73,
          73,
          73,
          73,
          73,
          73,
          73,
          73,
          73
         ]
        }
       ],
       "layout": {
        "bargap": 0.01,
        "barmode": "overlay",
        "legend": {
         "bgcolor": "#FFFFFF",
         "font": {
          "color": "#4D5663"
         }
        },
        "paper_bgcolor": "#FFFFFF",
        "plot_bgcolor": "#FFFFFF",
        "template": {
         "data": {
          "bar": [
           {
            "error_x": {
             "color": "#2a3f5f"
            },
            "error_y": {
             "color": "#2a3f5f"
            },
            "marker": {
             "line": {
              "color": "#E5ECF6",
              "width": 0.5
             }
            },
            "type": "bar"
           }
          ],
          "barpolar": [
           {
            "marker": {
             "line": {
              "color": "#E5ECF6",
              "width": 0.5
             }
            },
            "type": "barpolar"
           }
          ],
          "carpet": [
           {
            "aaxis": {
             "endlinecolor": "#2a3f5f",
             "gridcolor": "white",
             "linecolor": "white",
             "minorgridcolor": "white",
             "startlinecolor": "#2a3f5f"
            },
            "baxis": {
             "endlinecolor": "#2a3f5f",
             "gridcolor": "white",
             "linecolor": "white",
             "minorgridcolor": "white",
             "startlinecolor": "#2a3f5f"
            },
            "type": "carpet"
           }
          ],
          "choropleth": [
           {
            "colorbar": {
             "outlinewidth": 0,
             "ticks": ""
            },
            "type": "choropleth"
           }
          ],
          "contour": [
           {
            "colorbar": {
             "outlinewidth": 0,
             "ticks": ""
            },
            "colorscale": [
             [
              0,
              "#0d0887"
             ],
             [
              0.1111111111111111,
              "#46039f"
             ],
             [
              0.2222222222222222,
              "#7201a8"
             ],
             [
              0.3333333333333333,
              "#9c179e"
             ],
             [
              0.4444444444444444,
              "#bd3786"
             ],
             [
              0.5555555555555556,
              "#d8576b"
             ],
             [
              0.6666666666666666,
              "#ed7953"
             ],
             [
              0.7777777777777778,
              "#fb9f3a"
             ],
             [
              0.8888888888888888,
              "#fdca26"
             ],
             [
              1,
              "#f0f921"
             ]
            ],
            "type": "contour"
           }
          ],
          "contourcarpet": [
           {
            "colorbar": {
             "outlinewidth": 0,
             "ticks": ""
            },
            "type": "contourcarpet"
           }
          ],
          "heatmap": [
           {
            "colorbar": {
             "outlinewidth": 0,
             "ticks": ""
            },
            "colorscale": [
             [
              0,
              "#0d0887"
             ],
             [
              0.1111111111111111,
              "#46039f"
             ],
             [
              0.2222222222222222,
              "#7201a8"
             ],
             [
              0.3333333333333333,
              "#9c179e"
             ],
             [
              0.4444444444444444,
              "#bd3786"
             ],
             [
              0.5555555555555556,
              "#d8576b"
             ],
             [
              0.6666666666666666,
              "#ed7953"
             ],
             [
              0.7777777777777778,
              "#fb9f3a"
             ],
             [
              0.8888888888888888,
              "#fdca26"
             ],
             [
              1,
              "#f0f921"
             ]
            ],
            "type": "heatmap"
           }
          ],
          "heatmapgl": [
           {
            "colorbar": {
             "outlinewidth": 0,
             "ticks": ""
            },
            "colorscale": [
             [
              0,
              "#0d0887"
             ],
             [
              0.1111111111111111,
              "#46039f"
             ],
             [
              0.2222222222222222,
              "#7201a8"
             ],
             [
              0.3333333333333333,
              "#9c179e"
             ],
             [
              0.4444444444444444,
              "#bd3786"
             ],
             [
              0.5555555555555556,
              "#d8576b"
             ],
             [
              0.6666666666666666,
              "#ed7953"
             ],
             [
              0.7777777777777778,
              "#fb9f3a"
             ],
             [
              0.8888888888888888,
              "#fdca26"
             ],
             [
              1,
              "#f0f921"
             ]
            ],
            "type": "heatmapgl"
           }
          ],
          "histogram": [
           {
            "marker": {
             "colorbar": {
              "outlinewidth": 0,
              "ticks": ""
             }
            },
            "type": "histogram"
           }
          ],
          "histogram2d": [
           {
            "colorbar": {
             "outlinewidth": 0,
             "ticks": ""
            },
            "colorscale": [
             [
              0,
              "#0d0887"
             ],
             [
              0.1111111111111111,
              "#46039f"
             ],
             [
              0.2222222222222222,
              "#7201a8"
             ],
             [
              0.3333333333333333,
              "#9c179e"
             ],
             [
              0.4444444444444444,
              "#bd3786"
             ],
             [
              0.5555555555555556,
              "#d8576b"
             ],
             [
              0.6666666666666666,
              "#ed7953"
             ],
             [
              0.7777777777777778,
              "#fb9f3a"
             ],
             [
              0.8888888888888888,
              "#fdca26"
             ],
             [
              1,
              "#f0f921"
             ]
            ],
            "type": "histogram2d"
           }
          ],
          "histogram2dcontour": [
           {
            "colorbar": {
             "outlinewidth": 0,
             "ticks": ""
            },
            "colorscale": [
             [
              0,
              "#0d0887"
             ],
             [
              0.1111111111111111,
              "#46039f"
             ],
             [
              0.2222222222222222,
              "#7201a8"
             ],
             [
              0.3333333333333333,
              "#9c179e"
             ],
             [
              0.4444444444444444,
              "#bd3786"
             ],
             [
              0.5555555555555556,
              "#d8576b"
             ],
             [
              0.6666666666666666,
              "#ed7953"
             ],
             [
              0.7777777777777778,
              "#fb9f3a"
             ],
             [
              0.8888888888888888,
              "#fdca26"
             ],
             [
              1,
              "#f0f921"
             ]
            ],
            "type": "histogram2dcontour"
           }
          ],
          "mesh3d": [
           {
            "colorbar": {
             "outlinewidth": 0,
             "ticks": ""
            },
            "type": "mesh3d"
           }
          ],
          "parcoords": [
           {
            "line": {
             "colorbar": {
              "outlinewidth": 0,
              "ticks": ""
             }
            },
            "type": "parcoords"
           }
          ],
          "pie": [
           {
            "automargin": true,
            "type": "pie"
           }
          ],
          "scatter": [
           {
            "marker": {
             "colorbar": {
              "outlinewidth": 0,
              "ticks": ""
             }
            },
            "type": "scatter"
           }
          ],
          "scatter3d": [
           {
            "line": {
             "colorbar": {
              "outlinewidth": 0,
              "ticks": ""
             }
            },
            "marker": {
             "colorbar": {
              "outlinewidth": 0,
              "ticks": ""
             }
            },
            "type": "scatter3d"
           }
          ],
          "scattercarpet": [
           {
            "marker": {
             "colorbar": {
              "outlinewidth": 0,
              "ticks": ""
             }
            },
            "type": "scattercarpet"
           }
          ],
          "scattergeo": [
           {
            "marker": {
             "colorbar": {
              "outlinewidth": 0,
              "ticks": ""
             }
            },
            "type": "scattergeo"
           }
          ],
          "scattergl": [
           {
            "marker": {
             "colorbar": {
              "outlinewidth": 0,
              "ticks": ""
             }
            },
            "type": "scattergl"
           }
          ],
          "scattermapbox": [
           {
            "marker": {
             "colorbar": {
              "outlinewidth": 0,
              "ticks": ""
             }
            },
            "type": "scattermapbox"
           }
          ],
          "scatterpolar": [
           {
            "marker": {
             "colorbar": {
              "outlinewidth": 0,
              "ticks": ""
             }
            },
            "type": "scatterpolar"
           }
          ],
          "scatterpolargl": [
           {
            "marker": {
             "colorbar": {
              "outlinewidth": 0,
              "ticks": ""
             }
            },
            "type": "scatterpolargl"
           }
          ],
          "scatterternary": [
           {
            "marker": {
             "colorbar": {
              "outlinewidth": 0,
              "ticks": ""
             }
            },
            "type": "scatterternary"
           }
          ],
          "surface": [
           {
            "colorbar": {
             "outlinewidth": 0,
             "ticks": ""
            },
            "colorscale": [
             [
              0,
              "#0d0887"
             ],
             [
              0.1111111111111111,
              "#46039f"
             ],
             [
              0.2222222222222222,
              "#7201a8"
             ],
             [
              0.3333333333333333,
              "#9c179e"
             ],
             [
              0.4444444444444444,
              "#bd3786"
             ],
             [
              0.5555555555555556,
              "#d8576b"
             ],
             [
              0.6666666666666666,
              "#ed7953"
             ],
             [
              0.7777777777777778,
              "#fb9f3a"
             ],
             [
              0.8888888888888888,
              "#fdca26"
             ],
             [
              1,
              "#f0f921"
             ]
            ],
            "type": "surface"
           }
          ],
          "table": [
           {
            "cells": {
             "fill": {
              "color": "#EBF0F8"
             },
             "line": {
              "color": "white"
             }
            },
            "header": {
             "fill": {
              "color": "#C8D4E3"
             },
             "line": {
              "color": "white"
             }
            },
            "type": "table"
           }
          ]
         },
         "layout": {
          "annotationdefaults": {
           "arrowcolor": "#2a3f5f",
           "arrowhead": 0,
           "arrowwidth": 1
          },
          "autotypenumbers": "strict",
          "coloraxis": {
           "colorbar": {
            "outlinewidth": 0,
            "ticks": ""
           }
          },
          "colorscale": {
           "diverging": [
            [
             0,
             "#8e0152"
            ],
            [
             0.1,
             "#c51b7d"
            ],
            [
             0.2,
             "#de77ae"
            ],
            [
             0.3,
             "#f1b6da"
            ],
            [
             0.4,
             "#fde0ef"
            ],
            [
             0.5,
             "#f7f7f7"
            ],
            [
             0.6,
             "#e6f5d0"
            ],
            [
             0.7,
             "#b8e186"
            ],
            [
             0.8,
             "#7fbc41"
            ],
            [
             0.9,
             "#4d9221"
            ],
            [
             1,
             "#276419"
            ]
           ],
           "sequential": [
            [
             0,
             "#0d0887"
            ],
            [
             0.1111111111111111,
             "#46039f"
            ],
            [
             0.2222222222222222,
             "#7201a8"
            ],
            [
             0.3333333333333333,
             "#9c179e"
            ],
            [
             0.4444444444444444,
             "#bd3786"
            ],
            [
             0.5555555555555556,
             "#d8576b"
            ],
            [
             0.6666666666666666,
             "#ed7953"
            ],
            [
             0.7777777777777778,
             "#fb9f3a"
            ],
            [
             0.8888888888888888,
             "#fdca26"
            ],
            [
             1,
             "#f0f921"
            ]
           ],
           "sequentialminus": [
            [
             0,
             "#0d0887"
            ],
            [
             0.1111111111111111,
             "#46039f"
            ],
            [
             0.2222222222222222,
             "#7201a8"
            ],
            [
             0.3333333333333333,
             "#9c179e"
            ],
            [
             0.4444444444444444,
             "#bd3786"
            ],
            [
             0.5555555555555556,
             "#d8576b"
            ],
            [
             0.6666666666666666,
             "#ed7953"
            ],
            [
             0.7777777777777778,
             "#fb9f3a"
            ],
            [
             0.8888888888888888,
             "#fdca26"
            ],
            [
             1,
             "#f0f921"
            ]
           ]
          },
          "colorway": [
           "#636efa",
           "#EF553B",
           "#00cc96",
           "#ab63fa",
           "#FFA15A",
           "#19d3f3",
           "#FF6692",
           "#B6E880",
           "#FF97FF",
           "#FECB52"
          ],
          "font": {
           "color": "#2a3f5f"
          },
          "geo": {
           "bgcolor": "white",
           "lakecolor": "white",
           "landcolor": "#E5ECF6",
           "showlakes": true,
           "showland": true,
           "subunitcolor": "white"
          },
          "hoverlabel": {
           "align": "left"
          },
          "hovermode": "closest",
          "mapbox": {
           "style": "light"
          },
          "paper_bgcolor": "white",
          "plot_bgcolor": "#E5ECF6",
          "polar": {
           "angularaxis": {
            "gridcolor": "white",
            "linecolor": "white",
            "ticks": ""
           },
           "bgcolor": "#E5ECF6",
           "radialaxis": {
            "gridcolor": "white",
            "linecolor": "white",
            "ticks": ""
           }
          },
          "scene": {
           "xaxis": {
            "backgroundcolor": "#E5ECF6",
            "gridcolor": "white",
            "gridwidth": 2,
            "linecolor": "white",
            "showbackground": true,
            "ticks": "",
            "zerolinecolor": "white"
           },
           "yaxis": {
            "backgroundcolor": "#E5ECF6",
            "gridcolor": "white",
            "gridwidth": 2,
            "linecolor": "white",
            "showbackground": true,
            "ticks": "",
            "zerolinecolor": "white"
           },
           "zaxis": {
            "backgroundcolor": "#E5ECF6",
            "gridcolor": "white",
            "gridwidth": 2,
            "linecolor": "white",
            "showbackground": true,
            "ticks": "",
            "zerolinecolor": "white"
           }
          },
          "shapedefaults": {
           "line": {
            "color": "#2a3f5f"
           }
          },
          "ternary": {
           "aaxis": {
            "gridcolor": "white",
            "linecolor": "white",
            "ticks": ""
           },
           "baxis": {
            "gridcolor": "white",
            "linecolor": "white",
            "ticks": ""
           },
           "bgcolor": "#E5ECF6",
           "caxis": {
            "gridcolor": "white",
            "linecolor": "white",
            "ticks": ""
           }
          },
          "title": {
           "x": 0.05
          },
          "xaxis": {
           "automargin": true,
           "gridcolor": "white",
           "linecolor": "white",
           "ticks": "",
           "title": {
            "standoff": 15
           },
           "zerolinecolor": "white",
           "zerolinewidth": 2
          },
          "yaxis": {
           "automargin": true,
           "gridcolor": "white",
           "linecolor": "white",
           "ticks": "",
           "title": {
            "standoff": 15
           },
           "zerolinecolor": "white",
           "zerolinewidth": 2
          }
         }
        },
        "title": {
         "font": {
          "color": "#4D5663"
         },
         "text": "Distribution of Age in Training data"
        },
        "xaxis": {
         "gridcolor": "#E1E5ED",
         "linecolor": "white",
         "showgrid": true,
         "tickfont": {
          "color": "#4D5663"
         },
         "title": {
          "font": {
           "color": "#4D5663"
          },
          "text": "Age"
         },
         "zerolinecolor": "#E1E5ED"
        },
        "yaxis": {
         "gridcolor": "#E1E5ED",
         "linecolor": "white",
         "showgrid": true,
         "tickfont": {
          "color": "#4D5663"
         },
         "title": {
          "font": {
           "color": "#4D5663"
          },
          "text": "Frequency"
         },
         "zerolinecolor": "#E1E5ED"
        }
       }
      },
      "text/html": [
       "<div>                            <div id=\"adb8d124-c4aa-41c3-9966-a759ad8acf3b\" class=\"plotly-graph-div\" style=\"height:525px; width:100%;\"></div>            <script type=\"text/javascript\">                require([\"plotly\"], function(Plotly) {                    window.PLOTLYENV=window.PLOTLYENV || {};\n",
       "                    window.PLOTLYENV.BASE_URL='https://plot.ly';                                    if (document.getElementById(\"adb8d124-c4aa-41c3-9966-a759ad8acf3b\")) {                    Plotly.newPlot(                        \"adb8d124-c4aa-41c3-9966-a759ad8acf3b\",                        [{\"histfunc\": \"count\", \"histnorm\": \"\", \"marker\": {\"color\": \"rgba(0, 200, 200, 1.0)\", \"line\": {\"color\": \"#FFFFFF\", \"width\": 1.3}}, \"name\": \"Age\", \"nbinsx\": 100, \"opacity\": 0.7, \"orientation\": \"v\", \"type\": \"histogram\", \"x\": [79, 79, 79, 79, 79, 79, 79, 79, 79, 69, 69, 69, 69, 69, 69, 69, 69, 69, 60, 60, 60, 60, 60, 60, 60, 60, 60, 72, 72, 72, 72, 72, 72, 72, 72, 72, 65, 65, 65, 65, 65, 65, 65, 65, 65, 56, 56, 56, 56, 56, 56, 56, 56, 56, 71, 71, 71, 71, 71, 71, 71, 71, 83, 83, 83, 83, 83, 83, 83, 83, 83, 66, 66, 66, 66, 66, 66, 66, 66, 66, 71, 71, 71, 71, 71, 71, 71, 71, 71, 65, 65, 65, 65, 65, 65, 65, 65, 65, 57, 57, 57, 57, 57, 57, 57, 57, 57, 73, 73, 73, 73, 73, 73, 73, 73, 73, 69, 69, 69, 69, 69, 69, 69, 69, 63, 63, 63, 63, 63, 63, 63, 63, 63, 69, 69, 69, 69, 69, 69, 69, 69, 69, 71, 71, 71, 71, 71, 71, 71, 71, 71, 58, 58, 58, 58, 58, 58, 58, 58, 58, 68, 68, 68, 68, 68, 68, 70, 70, 70, 70, 70, 70, 70, 70, 70, 73, 73, 73, 73, 73, 73, 73, 73, 73, 54, 54, 54, 54, 54, 54, 54, 63, 63, 63, 63, 63, 63, 63, 63, 63, 68, 68, 68, 68, 68, 68, 68, 68, 68, 74, 74, 74, 74, 74, 74, 74, 74, 74, 64, 64, 64, 64, 64, 64, 64, 64, 73, 73, 73, 73, 73, 73, 73, 73, 73, 71, 71, 71, 71, 71, 71, 71, 71, 71, 69, 69, 69, 69, 69, 69, 69, 69, 52, 52, 52, 52, 52, 52, 52, 52, 52, 51, 51, 51, 51, 51, 51, 51, 51, 51, 70, 70, 70, 70, 70, 70, 70, 70, 70, 55, 55, 55, 55, 55, 55, 55, 55, 55, 49, 49, 49, 49, 49, 49, 49, 49, 49, 65, 65, 65, 65, 65, 65, 65, 65, 65, 63, 63, 63, 63, 63, 63, 63, 63, 63, 69, 69, 69, 69, 69, 69, 69, 69, 69, 69, 69, 69, 69, 69, 69, 69, 69, 64, 64, 64, 64, 64, 64, 64, 64, 64, 68, 68, 68, 68, 68, 68, 68, 68, 68, 68, 60, 60, 60, 60, 60, 60, 60, 60, 60, 74, 74, 74, 74, 74, 74, 74, 74, 64, 64, 64, 64, 64, 64, 64, 64, 64, 64, 73, 73, 73, 73, 73, 73, 73, 73, 73, 73, 73, 73, 73, 73, 73, 73, 73, 73, 74, 74, 74, 74, 74, 74, 74, 74, 72, 72, 72, 72, 72, 72, 72, 77, 77, 77, 77, 77, 77, 77, 77, 68, 68, 68, 68, 68, 68, 68, 68, 68, 57, 57, 57, 57, 57, 57, 57, 57, 57, 57, 58, 58, 58, 58, 58, 58, 58, 58, 58, 69, 69, 69, 69, 69, 69, 69, 69, 69, 60, 60, 60, 60, 60, 60, 60, 60, 60, 65, 65, 65, 65, 65, 65, 65, 65, 78, 78, 78, 78, 78, 78, 78, 78, 78, 55, 55, 55, 55, 55, 55, 55, 55, 55, 87, 87, 87, 87, 87, 87, 87, 71, 71, 71, 71, 71, 71, 71, 71, 71, 65, 65, 65, 65, 65, 65, 65, 65, 65, 61, 61, 61, 61, 61, 61, 61, 61, 61, 69, 69, 69, 69, 69, 69, 69, 69, 69, 83, 83, 83, 83, 83, 83, 83, 83, 83, 67, 67, 67, 67, 67, 67, 67, 67, 67, 65, 65, 65, 65, 65, 65, 65, 65, 65, 64, 64, 64, 64, 64, 64, 64, 64, 64, 66, 66, 66, 66, 66, 66, 66, 66, 66, 76, 76, 76, 76, 76, 76, 76, 76, 76, 58, 58, 58, 58, 58, 58, 58, 58, 58, 58, 66, 66, 66, 66, 66, 66, 66, 66, 66, 63, 63, 63, 63, 63, 63, 63, 63, 63, 54, 54, 54, 54, 54, 54, 54, 54, 54, 58, 58, 58, 58, 58, 58, 58, 58, 58, 58, 62, 62, 62, 62, 62, 62, 62, 62, 62, 66, 66, 66, 66, 66, 66, 66, 66, 66, 79, 79, 79, 79, 79, 79, 79, 79, 79, 73, 73, 73, 73, 73, 73, 73, 73, 73, 73, 73, 73, 73, 73, 73, 73, 73, 73, 68, 68, 68, 68, 68, 68, 68, 68, 68, 71, 71, 71, 71, 71, 71, 71, 71, 71, 52, 52, 52, 52, 52, 52, 52, 52, 52, 69, 69, 69, 69, 69, 69, 69, 69, 69, 69, 69, 69, 69, 69, 69, 69, 56, 56, 56, 56, 56, 56, 56, 56, 56, 65, 65, 65, 65, 65, 65, 65, 65, 65, 65, 65, 65, 65, 65, 65, 65, 65, 65, 62, 62, 62, 62, 62, 62, 62, 62, 62, 64, 64, 64, 64, 64, 64, 64, 64, 64, 67, 67, 67, 67, 67, 67, 67, 67, 67, 76, 76, 76, 76, 76, 76, 76, 76, 76, 70, 70, 70, 70, 70, 70, 70, 70, 70, 69, 69, 69, 69, 69, 69, 69, 69, 69, 65, 65, 65, 65, 65, 65, 65, 65, 65, 81, 81, 81, 81, 81, 81, 81, 81, 81, 71, 71, 71, 71, 71, 71, 71, 71, 71, 76, 76, 76, 76, 76, 76, 76, 76, 76, 70, 70, 70, 70, 70, 70, 70, 70, 70, 72, 72, 72, 72, 72, 72, 72, 72, 72, 77, 77, 77, 77, 77, 77, 77, 77, 58, 58, 58, 58, 58, 58, 58, 58, 58, 71, 71, 71, 71, 71, 71, 71, 71, 71, 71, 74, 74, 74, 74, 74, 74, 74, 74, 74, 68, 68, 68, 68, 68, 68, 68, 68, 68, 66, 66, 66, 66, 66, 66, 66, 66, 67, 67, 67, 67, 67, 67, 67, 67, 67, 63, 63, 63, 63, 63, 63, 63, 63, 63, 66, 66, 66, 66, 66, 66, 66, 66, 66, 64, 64, 64, 64, 64, 64, 64, 64, 64, 71, 71, 71, 71, 71, 71, 71, 71, 71, 56, 56, 56, 56, 56, 56, 56, 56, 88, 88, 88, 88, 88, 88, 88, 88, 88, 62, 62, 62, 62, 62, 62, 62, 62, 76, 76, 76, 76, 76, 76, 76, 76, 70, 70, 70, 70, 70, 70, 60, 60, 60, 60, 60, 60, 60, 60, 60, 62, 62, 62, 62, 62, 62, 62, 62, 62, 77, 77, 77, 77, 77, 77, 77, 70, 70, 70, 70, 70, 70, 70, 70, 70, 60, 60, 60, 60, 60, 60, 60, 60, 60, 61, 61, 61, 61, 61, 61, 61, 61, 61, 63, 63, 63, 63, 63, 63, 63, 63, 75, 75, 75, 75, 75, 75, 75, 75, 72, 72, 72, 72, 72, 72, 72, 72, 72, 74, 74, 74, 74, 74, 74, 74, 74, 74, 58, 58, 58, 58, 58, 58, 58, 58, 67, 67, 67, 67, 67, 67, 67, 67, 67, 78, 78, 78, 78, 78, 78, 78, 78, 78, 62, 62, 62, 62, 62, 62, 62, 62, 62, 65, 65, 65, 65, 65, 65, 65, 65, 65, 73, 73, 73, 73, 73, 73, 73, 73, 73, 72, 72, 72, 72, 72, 72, 72, 72, 72, 64, 64, 64, 64, 64, 64, 64, 64, 72, 72, 72, 72, 72, 72, 72, 72, 72, 59, 59, 59, 59, 59, 59, 59, 59, 59, 77, 77, 77, 77, 77, 77, 77, 77, 69, 69, 69, 69, 69, 69, 69, 69, 69, 69, 69, 69, 69, 69, 69, 69, 69, 69, 74, 74, 74, 74, 74, 74, 74, 74, 74, 56, 56, 56, 56, 56, 56, 56, 56, 69, 69, 69, 69, 69, 69, 69, 69, 69, 64, 64, 64, 64, 64, 64, 64, 64, 64, 68, 68, 68, 68, 68, 68, 68, 68, 68, 68, 68, 68, 68, 68, 68, 68, 68, 68, 72, 72, 72, 72, 72, 72, 72, 72, 72, 68, 68, 68, 68, 68, 68, 68, 68, 68, 68, 58, 58, 58, 58, 58, 58, 58, 78, 78, 78, 78, 78, 78, 78, 78, 78, 65, 65, 65, 65, 65, 65, 65, 65, 65, 65, 65, 65, 65, 65, 65, 65, 65, 79, 79, 79, 79, 79, 79, 79, 79, 79, 64, 64, 64, 64, 64, 64, 64, 64, 64, 71, 71, 71, 71, 71, 71, 71, 71, 57, 57, 57, 57, 57, 57, 57, 57, 57, 65, 65, 65, 65, 65, 65, 65, 65, 65, 75, 75, 75, 75, 75, 75, 75, 75, 75, 71, 71, 71, 71, 71, 71, 71, 71, 71, 72, 72, 72, 72, 72, 72, 72, 72, 72, 56, 56, 56, 56, 56, 56, 56, 56, 56, 62, 62, 62, 62, 62, 62, 62, 64, 64, 64, 64, 64, 64, 64, 64, 64, 53, 53, 53, 53, 53, 53, 53, 53, 53, 53, 66, 66, 66, 66, 66, 66, 66, 66, 66, 67, 67, 67, 67, 67, 67, 67, 67, 67, 70, 70, 70, 70, 70, 70, 70, 70, 55, 55, 55, 55, 55, 55, 55, 55, 55, 55, 74, 74, 74, 74, 74, 74, 74, 74, 74, 61, 61, 61, 61, 61, 61, 61, 61, 61, 66, 66, 66, 66, 66, 66, 66, 66, 66, 74, 74, 74, 74, 74, 74, 74, 74, 65, 65, 65, 65, 65, 65, 65, 65, 65, 65, 65, 65, 65, 65, 65, 65, 65, 65, 66, 66, 66, 66, 66, 66, 66, 66, 66, 73, 73, 73, 73, 73, 73, 73, 73, 73, 68, 68, 68, 68, 68, 68, 68, 68, 68, 68, 73, 73, 73, 73, 73, 73, 73, 73, 72, 72, 72, 72, 72, 72, 72, 72, 72, 73, 73, 73, 73, 73, 73, 73, 73, 73]}],                        {\"bargap\": 0.01, \"barmode\": \"overlay\", \"legend\": {\"bgcolor\": \"#FFFFFF\", \"font\": {\"color\": \"#4D5663\"}}, \"paper_bgcolor\": \"#FFFFFF\", \"plot_bgcolor\": \"#FFFFFF\", \"template\": {\"data\": {\"bar\": [{\"error_x\": {\"color\": \"#2a3f5f\"}, \"error_y\": {\"color\": \"#2a3f5f\"}, \"marker\": {\"line\": {\"color\": \"#E5ECF6\", \"width\": 0.5}}, \"type\": \"bar\"}], \"barpolar\": [{\"marker\": {\"line\": {\"color\": \"#E5ECF6\", \"width\": 0.5}}, \"type\": \"barpolar\"}], \"carpet\": [{\"aaxis\": {\"endlinecolor\": \"#2a3f5f\", \"gridcolor\": \"white\", \"linecolor\": \"white\", \"minorgridcolor\": \"white\", \"startlinecolor\": \"#2a3f5f\"}, \"baxis\": {\"endlinecolor\": \"#2a3f5f\", \"gridcolor\": \"white\", \"linecolor\": \"white\", \"minorgridcolor\": \"white\", \"startlinecolor\": \"#2a3f5f\"}, \"type\": \"carpet\"}], \"choropleth\": [{\"colorbar\": {\"outlinewidth\": 0, \"ticks\": \"\"}, \"type\": \"choropleth\"}], \"contour\": [{\"colorbar\": {\"outlinewidth\": 0, \"ticks\": \"\"}, \"colorscale\": [[0.0, \"#0d0887\"], [0.1111111111111111, \"#46039f\"], [0.2222222222222222, \"#7201a8\"], [0.3333333333333333, \"#9c179e\"], [0.4444444444444444, \"#bd3786\"], [0.5555555555555556, \"#d8576b\"], [0.6666666666666666, \"#ed7953\"], [0.7777777777777778, \"#fb9f3a\"], [0.8888888888888888, \"#fdca26\"], [1.0, \"#f0f921\"]], \"type\": \"contour\"}], \"contourcarpet\": [{\"colorbar\": {\"outlinewidth\": 0, \"ticks\": \"\"}, \"type\": \"contourcarpet\"}], \"heatmap\": [{\"colorbar\": {\"outlinewidth\": 0, \"ticks\": \"\"}, \"colorscale\": [[0.0, \"#0d0887\"], [0.1111111111111111, \"#46039f\"], [0.2222222222222222, \"#7201a8\"], [0.3333333333333333, \"#9c179e\"], [0.4444444444444444, \"#bd3786\"], [0.5555555555555556, \"#d8576b\"], [0.6666666666666666, \"#ed7953\"], [0.7777777777777778, \"#fb9f3a\"], [0.8888888888888888, \"#fdca26\"], [1.0, \"#f0f921\"]], \"type\": \"heatmap\"}], \"heatmapgl\": [{\"colorbar\": {\"outlinewidth\": 0, \"ticks\": \"\"}, \"colorscale\": [[0.0, \"#0d0887\"], [0.1111111111111111, \"#46039f\"], [0.2222222222222222, \"#7201a8\"], [0.3333333333333333, \"#9c179e\"], [0.4444444444444444, \"#bd3786\"], [0.5555555555555556, \"#d8576b\"], [0.6666666666666666, \"#ed7953\"], [0.7777777777777778, \"#fb9f3a\"], [0.8888888888888888, \"#fdca26\"], [1.0, \"#f0f921\"]], \"type\": \"heatmapgl\"}], \"histogram\": [{\"marker\": {\"colorbar\": {\"outlinewidth\": 0, \"ticks\": \"\"}}, \"type\": \"histogram\"}], \"histogram2d\": [{\"colorbar\": {\"outlinewidth\": 0, \"ticks\": \"\"}, \"colorscale\": [[0.0, \"#0d0887\"], [0.1111111111111111, \"#46039f\"], [0.2222222222222222, \"#7201a8\"], [0.3333333333333333, \"#9c179e\"], [0.4444444444444444, \"#bd3786\"], [0.5555555555555556, \"#d8576b\"], [0.6666666666666666, \"#ed7953\"], [0.7777777777777778, \"#fb9f3a\"], [0.8888888888888888, \"#fdca26\"], [1.0, \"#f0f921\"]], \"type\": \"histogram2d\"}], \"histogram2dcontour\": [{\"colorbar\": {\"outlinewidth\": 0, \"ticks\": \"\"}, \"colorscale\": [[0.0, \"#0d0887\"], [0.1111111111111111, \"#46039f\"], [0.2222222222222222, \"#7201a8\"], [0.3333333333333333, \"#9c179e\"], [0.4444444444444444, \"#bd3786\"], [0.5555555555555556, \"#d8576b\"], [0.6666666666666666, \"#ed7953\"], [0.7777777777777778, \"#fb9f3a\"], [0.8888888888888888, \"#fdca26\"], [1.0, \"#f0f921\"]], \"type\": \"histogram2dcontour\"}], \"mesh3d\": [{\"colorbar\": {\"outlinewidth\": 0, \"ticks\": \"\"}, \"type\": \"mesh3d\"}], \"parcoords\": [{\"line\": {\"colorbar\": {\"outlinewidth\": 0, \"ticks\": \"\"}}, \"type\": \"parcoords\"}], \"pie\": [{\"automargin\": true, \"type\": \"pie\"}], \"scatter\": [{\"marker\": {\"colorbar\": {\"outlinewidth\": 0, \"ticks\": \"\"}}, \"type\": \"scatter\"}], \"scatter3d\": [{\"line\": {\"colorbar\": {\"outlinewidth\": 0, \"ticks\": \"\"}}, \"marker\": {\"colorbar\": {\"outlinewidth\": 0, \"ticks\": \"\"}}, \"type\": \"scatter3d\"}], \"scattercarpet\": [{\"marker\": {\"colorbar\": {\"outlinewidth\": 0, \"ticks\": \"\"}}, \"type\": \"scattercarpet\"}], \"scattergeo\": [{\"marker\": {\"colorbar\": {\"outlinewidth\": 0, \"ticks\": \"\"}}, \"type\": \"scattergeo\"}], \"scattergl\": [{\"marker\": {\"colorbar\": {\"outlinewidth\": 0, \"ticks\": \"\"}}, \"type\": \"scattergl\"}], \"scattermapbox\": [{\"marker\": {\"colorbar\": {\"outlinewidth\": 0, \"ticks\": \"\"}}, \"type\": \"scattermapbox\"}], \"scatterpolar\": [{\"marker\": {\"colorbar\": {\"outlinewidth\": 0, \"ticks\": \"\"}}, \"type\": \"scatterpolar\"}], \"scatterpolargl\": [{\"marker\": {\"colorbar\": {\"outlinewidth\": 0, \"ticks\": \"\"}}, \"type\": \"scatterpolargl\"}], \"scatterternary\": [{\"marker\": {\"colorbar\": {\"outlinewidth\": 0, \"ticks\": \"\"}}, \"type\": \"scatterternary\"}], \"surface\": [{\"colorbar\": {\"outlinewidth\": 0, \"ticks\": \"\"}, \"colorscale\": [[0.0, \"#0d0887\"], [0.1111111111111111, \"#46039f\"], [0.2222222222222222, \"#7201a8\"], [0.3333333333333333, \"#9c179e\"], [0.4444444444444444, \"#bd3786\"], [0.5555555555555556, \"#d8576b\"], [0.6666666666666666, \"#ed7953\"], [0.7777777777777778, \"#fb9f3a\"], [0.8888888888888888, \"#fdca26\"], [1.0, \"#f0f921\"]], \"type\": \"surface\"}], \"table\": [{\"cells\": {\"fill\": {\"color\": \"#EBF0F8\"}, \"line\": {\"color\": \"white\"}}, \"header\": {\"fill\": {\"color\": \"#C8D4E3\"}, \"line\": {\"color\": \"white\"}}, \"type\": \"table\"}]}, \"layout\": {\"annotationdefaults\": {\"arrowcolor\": \"#2a3f5f\", \"arrowhead\": 0, \"arrowwidth\": 1}, \"autotypenumbers\": \"strict\", \"coloraxis\": {\"colorbar\": {\"outlinewidth\": 0, \"ticks\": \"\"}}, \"colorscale\": {\"diverging\": [[0, \"#8e0152\"], [0.1, \"#c51b7d\"], [0.2, \"#de77ae\"], [0.3, \"#f1b6da\"], [0.4, \"#fde0ef\"], [0.5, \"#f7f7f7\"], [0.6, \"#e6f5d0\"], [0.7, \"#b8e186\"], [0.8, \"#7fbc41\"], [0.9, \"#4d9221\"], [1, \"#276419\"]], \"sequential\": [[0.0, \"#0d0887\"], [0.1111111111111111, \"#46039f\"], [0.2222222222222222, \"#7201a8\"], [0.3333333333333333, \"#9c179e\"], [0.4444444444444444, \"#bd3786\"], [0.5555555555555556, \"#d8576b\"], [0.6666666666666666, \"#ed7953\"], [0.7777777777777778, \"#fb9f3a\"], [0.8888888888888888, \"#fdca26\"], [1.0, \"#f0f921\"]], \"sequentialminus\": [[0.0, \"#0d0887\"], [0.1111111111111111, \"#46039f\"], [0.2222222222222222, \"#7201a8\"], [0.3333333333333333, \"#9c179e\"], [0.4444444444444444, \"#bd3786\"], [0.5555555555555556, \"#d8576b\"], [0.6666666666666666, \"#ed7953\"], [0.7777777777777778, \"#fb9f3a\"], [0.8888888888888888, \"#fdca26\"], [1.0, \"#f0f921\"]]}, \"colorway\": [\"#636efa\", \"#EF553B\", \"#00cc96\", \"#ab63fa\", \"#FFA15A\", \"#19d3f3\", \"#FF6692\", \"#B6E880\", \"#FF97FF\", \"#FECB52\"], \"font\": {\"color\": \"#2a3f5f\"}, \"geo\": {\"bgcolor\": \"white\", \"lakecolor\": \"white\", \"landcolor\": \"#E5ECF6\", \"showlakes\": true, \"showland\": true, \"subunitcolor\": \"white\"}, \"hoverlabel\": {\"align\": \"left\"}, \"hovermode\": \"closest\", \"mapbox\": {\"style\": \"light\"}, \"paper_bgcolor\": \"white\", \"plot_bgcolor\": \"#E5ECF6\", \"polar\": {\"angularaxis\": {\"gridcolor\": \"white\", \"linecolor\": \"white\", \"ticks\": \"\"}, \"bgcolor\": \"#E5ECF6\", \"radialaxis\": {\"gridcolor\": \"white\", \"linecolor\": \"white\", \"ticks\": \"\"}}, \"scene\": {\"xaxis\": {\"backgroundcolor\": \"#E5ECF6\", \"gridcolor\": \"white\", \"gridwidth\": 2, \"linecolor\": \"white\", \"showbackground\": true, \"ticks\": \"\", \"zerolinecolor\": \"white\"}, \"yaxis\": {\"backgroundcolor\": \"#E5ECF6\", \"gridcolor\": \"white\", \"gridwidth\": 2, \"linecolor\": \"white\", \"showbackground\": true, \"ticks\": \"\", \"zerolinecolor\": \"white\"}, \"zaxis\": {\"backgroundcolor\": \"#E5ECF6\", \"gridcolor\": \"white\", \"gridwidth\": 2, \"linecolor\": \"white\", \"showbackground\": true, \"ticks\": \"\", \"zerolinecolor\": \"white\"}}, \"shapedefaults\": {\"line\": {\"color\": \"#2a3f5f\"}}, \"ternary\": {\"aaxis\": {\"gridcolor\": \"white\", \"linecolor\": \"white\", \"ticks\": \"\"}, \"baxis\": {\"gridcolor\": \"white\", \"linecolor\": \"white\", \"ticks\": \"\"}, \"bgcolor\": \"#E5ECF6\", \"caxis\": {\"gridcolor\": \"white\", \"linecolor\": \"white\", \"ticks\": \"\"}}, \"title\": {\"x\": 0.05}, \"xaxis\": {\"automargin\": true, \"gridcolor\": \"white\", \"linecolor\": \"white\", \"ticks\": \"\", \"title\": {\"standoff\": 15}, \"zerolinecolor\": \"white\", \"zerolinewidth\": 2}, \"yaxis\": {\"automargin\": true, \"gridcolor\": \"white\", \"linecolor\": \"white\", \"ticks\": \"\", \"title\": {\"standoff\": 15}, \"zerolinecolor\": \"white\", \"zerolinewidth\": 2}}}, \"title\": {\"font\": {\"color\": \"#4D5663\"}, \"text\": \"Distribution of Age in Training data\"}, \"xaxis\": {\"gridcolor\": \"#E1E5ED\", \"linecolor\": \"white\", \"showgrid\": true, \"tickfont\": {\"color\": \"#4D5663\"}, \"title\": {\"font\": {\"color\": \"#4D5663\"}, \"text\": \"Age\"}, \"zerolinecolor\": \"#E1E5ED\"}, \"yaxis\": {\"gridcolor\": \"#E1E5ED\", \"linecolor\": \"white\", \"showgrid\": true, \"tickfont\": {\"color\": \"#4D5663\"}, \"title\": {\"font\": {\"color\": \"#4D5663\"}, \"text\": \"Frequency\"}, \"zerolinecolor\": \"#E1E5ED\"}},                        {\"showLink\": true, \"linkText\": \"Export to plot.ly\", \"plotlyServerURL\": \"https://plot.ly\", \"responsive\": true}                    ).then(function(){\n",
       "                            \n",
       "var gd = document.getElementById('adb8d124-c4aa-41c3-9966-a759ad8acf3b');\n",
       "var x = new MutationObserver(function (mutations, observer) {{\n",
       "        var display = window.getComputedStyle(gd).display;\n",
       "        if (!display || display === 'none') {{\n",
       "            console.log([gd, 'removed!']);\n",
       "            Plotly.purge(gd);\n",
       "            observer.disconnect();\n",
       "        }}\n",
       "}});\n",
       "\n",
       "// Listen for the removal of the full notebook cells\n",
       "var notebookContainer = gd.closest('#notebook-container');\n",
       "if (notebookContainer) {{\n",
       "    x.observe(notebookContainer, {childList: true});\n",
       "}}\n",
       "\n",
       "// Listen for the clearing of the current output cell\n",
       "var outputEl = gd.closest('.output');\n",
       "if (outputEl) {{\n",
       "    x.observe(outputEl, {childList: true});\n",
       "}}\n",
       "\n",
       "                        })                };                });            </script>        </div>"
      ]
     },
     "metadata": {},
     "output_type": "display_data"
    }
   ],
   "source": [
    "final_dataframe['Age'].iplot(kind='hist',\n",
    "                        bins=100, xTitle='Age', yTitle='Frequency', \n",
    "                        linecolor='white',opacity=0.7,\n",
    "                        color='rgb(0, 200, 200)', theme='white',\n",
    "                        bargap=0.01, title='Distribution of Age in Training data')"
   ]
  },
  {
   "cell_type": "markdown",
   "id": "hydraulic-bridge",
   "metadata": {},
   "source": [
    "### Plotting male and female frequencies\n",
    "- Male frequency is 1224\n",
    "- Female frequency is 325\n",
    "- More male patient than female patient"
   ]
  },
  {
   "cell_type": "code",
   "execution_count": 55,
   "id": "objective-laser",
   "metadata": {},
   "outputs": [
    {
     "name": "stdout",
     "output_type": "stream",
     "text": [
      "Male      1224\n",
      "Female     325\n",
      "Name: Sex, dtype: int64\n"
     ]
    },
    {
     "data": {
      "text/plain": [
       "<AxesSubplot:>"
      ]
     },
     "execution_count": 55,
     "metadata": {},
     "output_type": "execute_result"
    },
    {
     "data": {
      "image/png": "[encoded data removed]",
      "text/plain": [
       "<Figure size 432x288 with 1 Axes>"
      ]
     },
     "metadata": {
      "needs_background": "light"
     },
     "output_type": "display_data"
    }
   ],
   "source": [
    "sex_value_count = final_dataframe['Sex'].value_counts()\n",
    "print(sex_value_count)\n",
    "sex_value_count.plot(kind='bar')"
   ]
  },
  {
   "cell_type": "code",
   "execution_count": null,
   "id": "harmful-builder",
   "metadata": {},
   "outputs": [],
   "source": []
  }
 ],
 "metadata": {
  "kernelspec": {
   "display_name": "Python 3",
   "language": "python",
   "name": "python3"
  },
  "language_info": {
   "codemirror_mode": {
    "name": "ipython",
    "version": 3
   },
   "file_extension": ".py",
   "mimetype": "text/x-python",
   "name": "python",
   "nbconvert_exporter": "python",
   "pygments_lexer": "ipython3",
   "version": "3.6.12"
  }
 },
 "nbformat": 4,
 "nbformat_minor": 5
}
